{
 "cells": [
  {
   "cell_type": "markdown",
   "id": "c1f27471-5886-4bc2-acdf-2dac9cf49676",
   "metadata": {},
   "source": [
    "# Prompt engineering on worst econ questions: answer verification, temperature, red/blue, context"
   ]
  },
  {
   "cell_type": "code",
   "execution_count": 1,
   "id": "40c585c9-9d1e-4329-a0ed-f78f53ec8176",
   "metadata": {},
   "outputs": [],
   "source": [
    "%matplotlib inline"
   ]
  },
  {
   "cell_type": "code",
   "execution_count": 2,
   "id": "122c8339-86ea-47c5-8993-033752f69f5d",
   "metadata": {},
   "outputs": [],
   "source": [
    "import pandas as pd\n",
    "pd.set_option('display.max_columns', None)\n",
    "from ollama_models import ollama_models\n",
    "models = ollama_models()"
   ]
  },
  {
   "cell_type": "code",
   "execution_count": 3,
   "id": "70be6a67-c25b-4729-ab99-725f064528d7",
   "metadata": {},
   "outputs": [
    {
     "data": {
      "text/plain": [
       "['mistral-small3.2:24b-instruct-2506-q4_K_M']"
      ]
     },
     "execution_count": 3,
     "metadata": {},
     "output_type": "execute_result"
    }
   ],
   "source": [
    "models"
   ]
  },
  {
   "cell_type": "code",
   "execution_count": 4,
   "id": "a75e3d1e-890d-44d9-b173-18f3afbfbe31",
   "metadata": {},
   "outputs": [],
   "source": [
    "model = models[0]"
   ]
  },
  {
   "cell_type": "code",
   "execution_count": 5,
   "id": "7e9ffc2f-696a-4511-9ab1-9b27936433ea",
   "metadata": {},
   "outputs": [],
   "source": [
    "from community_alignment import community_alignment"
   ]
  },
  {
   "cell_type": "code",
   "execution_count": 6,
   "id": "b7f8ae58-b789-43bf-8cf6-fec48e08679c",
   "metadata": {},
   "outputs": [
    {
     "name": "stdout",
     "output_type": "stream",
     "text": [
      "Loaded existing index from forecast_index.faiss\n",
      "Index contains 5839 vectors at initialization\n"
     ]
    },
    {
     "name": "stderr",
     "output_type": "stream",
     "text": [
      "100%|███████████████████████████████████████████████| 113/113 [00:00<00:00, 27359.95it/s]"
     ]
    },
    {
     "name": "stdout",
     "output_type": "stream",
     "text": [
      "saved community_deepseek-r1:1.5b-qwen-distill-q4_K_M.json\n"
     ]
    },
    {
     "name": "stderr",
     "output_type": "stream",
     "text": [
      "\n"
     ]
    },
    {
     "data": {
      "image/png": "[encoded data removed]",
      "text/plain": [
       "<Figure size 640x480 with 1 Axes>"
      ]
     },
     "metadata": {},
     "output_type": "display_data"
    }
   ],
   "source": [
    "df = community_alignment('deepseek-r1:1.5b-qwen-distill-q4_K_M')"
   ]
  },
  {
   "cell_type": "code",
   "execution_count": 11,
   "id": "6651ca1a-083f-4ea2-87fa-bc56531f788f",
   "metadata": {},
   "outputs": [],
   "source": [
    "from load_saved_questions import load_saved_questions\n",
    "from call_local_llm import call_local_llm"
   ]
  },
  {
   "cell_type": "code",
   "execution_count": 10,
   "id": "7abd4b56-c7d9-4d65-8465-e5eed9aa38bc",
   "metadata": {},
   "outputs": [
    {
     "data": {
      "text/plain": [
       "array(['binary', 'numeric'], dtype=object)"
      ]
     },
     "execution_count": 10,
     "metadata": {},
     "output_type": "execute_result"
    }
   ],
   "source": [
    "df.question_type.unique()"
   ]
  },
  {
   "cell_type": "code",
   "execution_count": 8,
   "id": "6c7c91c8-7a1c-4a22-a451-49549edcb093",
   "metadata": {},
   "outputs": [
    {
     "data": {
      "text/html": [
       "<div>\n",
       "<style scoped>\n",
       "    .dataframe tbody tr th:only-of-type {\n",
       "        vertical-align: middle;\n",
       "    }\n",
       "\n",
       "    .dataframe tbody tr th {\n",
       "        vertical-align: top;\n",
       "    }\n",
       "\n",
       "    .dataframe thead th {\n",
       "        text-align: right;\n",
       "    }\n",
       "</style>\n",
       "<table border=\"1\" class=\"dataframe\">\n",
       "  <thead>\n",
       "    <tr style=\"text-align: right;\">\n",
       "      <th></th>\n",
       "      <th>id</th>\n",
       "      <th>question_type</th>\n",
       "      <th>error</th>\n",
       "    </tr>\n",
       "  </thead>\n",
       "  <tbody>\n",
       "    <tr>\n",
       "      <th>110</th>\n",
       "      <td>4083</td>\n",
       "      <td>numeric</td>\n",
       "      <td>1.000000</td>\n",
       "    </tr>\n",
       "    <tr>\n",
       "      <th>4</th>\n",
       "      <td>3095</td>\n",
       "      <td>numeric</td>\n",
       "      <td>1.000000</td>\n",
       "    </tr>\n",
       "    <tr>\n",
       "      <th>53</th>\n",
       "      <td>4830</td>\n",
       "      <td>numeric</td>\n",
       "      <td>1.000000</td>\n",
       "    </tr>\n",
       "    <tr>\n",
       "      <th>83</th>\n",
       "      <td>17763</td>\n",
       "      <td>binary</td>\n",
       "      <td>0.940000</td>\n",
       "    </tr>\n",
       "    <tr>\n",
       "      <th>12</th>\n",
       "      <td>12348</td>\n",
       "      <td>binary</td>\n",
       "      <td>0.890000</td>\n",
       "    </tr>\n",
       "    <tr>\n",
       "      <th>...</th>\n",
       "      <td>...</td>\n",
       "      <td>...</td>\n",
       "      <td>...</td>\n",
       "    </tr>\n",
       "    <tr>\n",
       "      <th>70</th>\n",
       "      <td>15146</td>\n",
       "      <td>binary</td>\n",
       "      <td>0.030000</td>\n",
       "    </tr>\n",
       "    <tr>\n",
       "      <th>17</th>\n",
       "      <td>3665</td>\n",
       "      <td>binary</td>\n",
       "      <td>0.030000</td>\n",
       "    </tr>\n",
       "    <tr>\n",
       "      <th>21</th>\n",
       "      <td>15964</td>\n",
       "      <td>binary</td>\n",
       "      <td>0.010000</td>\n",
       "    </tr>\n",
       "    <tr>\n",
       "      <th>90</th>\n",
       "      <td>8583</td>\n",
       "      <td>binary</td>\n",
       "      <td>0.010000</td>\n",
       "    </tr>\n",
       "    <tr>\n",
       "      <th>78</th>\n",
       "      <td>12112</td>\n",
       "      <td>binary</td>\n",
       "      <td>0.004481</td>\n",
       "    </tr>\n",
       "  </tbody>\n",
       "</table>\n",
       "<p>113 rows × 3 columns</p>\n",
       "</div>"
      ],
      "text/plain": [
       "        id question_type     error\n",
       "110   4083       numeric  1.000000\n",
       "4     3095       numeric  1.000000\n",
       "53    4830       numeric  1.000000\n",
       "83   17763        binary  0.940000\n",
       "12   12348        binary  0.890000\n",
       "..     ...           ...       ...\n",
       "70   15146        binary  0.030000\n",
       "17    3665        binary  0.030000\n",
       "21   15964        binary  0.010000\n",
       "90    8583        binary  0.010000\n",
       "78   12112        binary  0.004481\n",
       "\n",
       "[113 rows x 3 columns]"
      ]
     },
     "execution_count": 8,
     "metadata": {},
     "output_type": "execute_result"
    }
   ],
   "source": [
    "df[['id', 'question_type', 'error']].sort_values(by='error', ascending=False)"
   ]
  },
  {
   "cell_type": "code",
   "execution_count": 17,
   "id": "b8b6b1c7-263d-404b-b5be-04c89639ac9d",
   "metadata": {},
   "outputs": [],
   "source": [
    "question = load_saved_questions([3095])[0]"
   ]
  },
  {
   "cell_type": "code",
   "execution_count": 18,
   "id": "552a481e-5a4f-405f-a618-4edf5107d0c9",
   "metadata": {},
   "outputs": [],
   "source": [
    "    from community_forecast import community_forecast\n",
    "    import pandas as pd\n",
    "    from flatten_dict import flatten_dict\n",
    "    from datetime import datetime\n",
    "    from gather_research_and_set_prompt import gather_research_and_set_prompt\n",
    "    from generate_forecasts_and_update_rag import generate_forecasts_and_update_rag\n",
    "    from tqdm import tqdm\n",
    "    import time"
   ]
  },
  {
   "cell_type": "code",
   "execution_count": 19,
   "id": "cc4b0cff-645d-463e-a91d-85e9a2911918",
   "metadata": {},
   "outputs": [
    {
     "name": "stdout",
     "output_type": "stream",
     "text": [
      "START model mistral-small3.2:24b-instruct-2506-q4_K_M id <built-in function id>\n"
     ]
    }
   ],
   "source": [
    "    print('START model', model, 'id', id)\n",
    "    start_time = time.time()\n",
    "    questions = [question]\n",
    "    id = question.id_of_question\n",
    "    id_to_forecast = {question.id_of_question: community_forecast(question) for question in questions}\n",
    "    df = pd.DataFrame([flatten_dict(q.api_json, sep='_') for q in questions])\n",
    "    df['id_of_post'] = [q.id_of_post for q in questions]\n",
    "    df['id_of_question'] = [q.id_of_question for q in questions]\n",
    "    df['question_options'] = df['question_options'].apply(repr)\n",
    "    df['today'] = datetime.now().strftime(\"%Y-%m-%d\")\n",
    "    df['crowd'] = df.apply(lambda row: id_to_forecast[row.id_of_question], axis=1)"
   ]
  },
  {
   "cell_type": "code",
   "execution_count": 20,
   "id": "b549d0b5-3a4f-4286-89c1-462c2a01b3c5",
   "metadata": {},
   "outputs": [],
   "source": [
    "    df1 = df[['id_of_question', 'id_of_post', 'today', 'open_time', 'scheduled_resolve_time', 'title',\n",
    "        'question_resolution_criteria', 'question_fine_print', 'question_type', \n",
    "         'question_description',\n",
    "        'question_options', 'question_group_variable', 'question_question_weight',\n",
    "        'question_unit', 'question_open_upper_bound', 'question_open_lower_bound',\n",
    "        'question_scaling_range_max', 'question_scaling_range_min', 'question_scaling_zero_point','crowd']].copy()"
   ]
  },
  {
   "cell_type": "code",
   "execution_count": 21,
   "id": "22294f1d-0065-460d-97b2-65cca83d0d90",
   "metadata": {},
   "outputs": [
    {
     "name": "stdout",
     "output_type": "stream",
     "text": [
      "Loaded existing index from forecast_index.faiss\n",
      "Index contains 5839 vectors at initialization\n"
     ]
    }
   ],
   "source": [
    "    df2, rag = gather_research_and_set_prompt(df1, True, model)"
   ]
  },
  {
   "cell_type": "code",
   "execution_count": 22,
   "id": "80261c3f-b8b1-44f7-9b75-b90be8f25229",
   "metadata": {},
   "outputs": [],
   "source": [
    "df3 = df2[['id_of_question', 'title',\n",
    "        'question_resolution_criteria', 'question_fine_print', 'question_type', \n",
    "         'question_description',\n",
    "        'question_options', 'question_group_variable', 'question_question_weight',\n",
    "        'question_unit', 'question_open_upper_bound', 'question_open_lower_bound',\n",
    "        'question_scaling_range_max', 'question_scaling_range_min', 'question_scaling_zero_point','crowd',\n",
    "          'research', 'asknews', 'learning']].copy()"
   ]
  },
  {
   "cell_type": "code",
   "execution_count": 23,
   "id": "d67ccbf7-02aa-4a15-a89e-d76a98532136",
   "metadata": {},
   "outputs": [],
   "source": [
    "row = df3.iloc[0]"
   ]
  },
  {
   "cell_type": "code",
   "execution_count": 24,
   "id": "c54b1448-a2a8-424a-a33f-61b37ad6b165",
   "metadata": {},
   "outputs": [
    {
     "data": {
      "text/plain": [
       "id_of_question                                                               3095\n",
       "title                           What will the US market for plant-based meat b...\n",
       "question_resolution_criteria    Data from [SPINS](https://www.spins.com/) summ...\n",
       "question_fine_print                                                              \n",
       "question_type                                                             numeric\n",
       "question_description                                                             \n",
       "question_options                                                             None\n",
       "question_group_variable                                                          \n",
       "question_question_weight                                                      1.0\n",
       "question_unit                                                               M USD\n",
       "question_open_upper_bound                                                    True\n",
       "question_open_lower_bound                                                    True\n",
       "question_scaling_range_max                                               100000.0\n",
       "question_scaling_range_min                                                  800.0\n",
       "question_scaling_zero_point                                                   0.0\n",
       "crowd                           {10: 979.8762472281021, 20: 2004.4326826429779...\n",
       "research                        ## Key Historical Trends and Current Status\\n\\...\n",
       "asknews                         Here are the relevant news articles:\\n\\n**Unit...\n",
       "learning                                                                       []\n",
       "Name: 0, dtype: object"
      ]
     },
     "execution_count": 24,
     "metadata": {},
     "output_type": "execute_result"
    }
   ],
   "source": [
    "row"
   ]
  },
  {
   "cell_type": "code",
   "execution_count": 25,
   "id": "a441b75e-e37e-4766-b5bd-24343d116e3e",
   "metadata": {},
   "outputs": [
    {
     "name": "stdout",
     "output_type": "stream",
     "text": [
      "ID_OF_QUESTION\n",
      "\n",
      "3095\n",
      "===============================\n",
      "\n",
      "TITLE\n",
      "\n",
      "What will the US market for plant-based meat be worth in the year ending in April 2028?\n",
      "===============================\n",
      "\n",
      "QUESTION_RESOLUTION_CRITERIA\n",
      "\n",
      "Data from [SPINS](https://www.spins.com/) summarised by the Plant Based Foods Association and The Good Food Institute shows U.S. retail sales of plant-based alternative foods have grown 11 percent in the past year, and 31% over the past two years ([Good Food Institute, 2019](https://www.gfi.org/marketresearch#section-intro)). By comparison, total U.S. retail food dollar sales grew just 2% over the past year and 4% over the past two years.\n",
      "\n",
      "This brings the total plant-based alternatives market value to a total value of $4.5 billion in 2019. At [an estimated $801M](https://plantbasedfoods.org/2019-data-plant-based-market/) the plant-based meat market is the second highest grossing plant-based alternatives product, after plant-based milk.\n",
      "\n",
      "Most dollar-sales of plant-based meat tend to come from frozen products (73% in 2019). However, this seems to changing quickly: product innovation and merchandising strategies have grown dollar sales of refrigerated plant-based meat by 85% ([Good Food Institute, 2019](https://www.gfi.org/marketresearch#section-intro)). \n",
      "\n",
      "**What will the U.S. market for plant-based meat be worth in the year ending in April 2028, in millions of 2019 USD?**\n",
      "\n",
      "This question will resolve as the value of the U.S. market for plant-based meat, as estimated by [SPINS](https://www.spins.com/). The market value is to be adjusted for inflation using a widely used CPI and given in 2019 prices. SPINS' estimate of the value of the U.S. market for plant-based meat is given by the sum of the value of the US market for the following subcategories of plant-based alternatives: meat based burgers, nuggets, strips and cutlets, links, patties, grounds, deli slices, meatballs, loafs/roasts, shreds/pulled, jerky and other plant-based meats.\n",
      "\n",
      "In the event that the only data available is that for the year ending in December, and if it cannot be constructed or obtained any other way (such as by using the following year's data release, or by contacting the relevant organisation), then this question shall resolve as the total value of the market for the year ending in December of the previous year.\n",
      "\n",
      "\n",
      "\n",
      "The question resolves ambiguously if SPINS data is substantially different in 2023 compared with 2019. SPINS data is to be considered to be substantially different if the methodology for estimating the size of the market is substantially changed, such as when using the new methodology, estimates of the historical size of the market (currently $584m in 2017, $731m in 2018, $801m in 2019, with all years ending in April) changes by more than 50%.\n",
      "\n",
      "In case SPINS data is not available, it is left to the discretion of an admin to either resolve this question ambiguous, or consult an alternative estimate. However, this alternative estimate should only be used if it is judged that this estimation approach is at least 90% likely produce an estimate within 50% of the estimate obtained by following the SPINS methodology, subject to updates considered reasonable in case new plant-based subcategories emerge, or previously existing subcategories that were excluded from earlier SPINS estimates constitute a larger share of the total value.\n",
      "===============================\n",
      "\n",
      "QUESTION_FINE_PRINT\n",
      "\n",
      "\n",
      "===============================\n",
      "\n",
      "QUESTION_TYPE\n",
      "\n",
      "numeric\n",
      "===============================\n",
      "\n",
      "QUESTION_DESCRIPTION\n",
      "\n",
      "\n",
      "===============================\n",
      "\n",
      "QUESTION_OPTIONS\n",
      "\n",
      "None\n",
      "===============================\n",
      "\n",
      "QUESTION_GROUP_VARIABLE\n",
      "\n",
      "\n",
      "===============================\n",
      "\n",
      "QUESTION_QUESTION_WEIGHT\n",
      "\n",
      "1.0\n",
      "===============================\n",
      "\n",
      "QUESTION_UNIT\n",
      "\n",
      "M USD\n",
      "===============================\n",
      "\n",
      "QUESTION_OPEN_UPPER_BOUND\n",
      "\n",
      "True\n",
      "===============================\n",
      "\n",
      "QUESTION_OPEN_LOWER_BOUND\n",
      "\n",
      "True\n",
      "===============================\n",
      "\n",
      "QUESTION_SCALING_RANGE_MAX\n",
      "\n",
      "100000.0\n",
      "===============================\n",
      "\n",
      "QUESTION_SCALING_RANGE_MIN\n",
      "\n",
      "800.0\n",
      "===============================\n",
      "\n",
      "QUESTION_SCALING_ZERO_POINT\n",
      "\n",
      "0.0\n",
      "===============================\n",
      "\n",
      "CROWD\n",
      "\n",
      "{10: 979.8762472281021, 20: 2004.4326826429779, 40: 3296.5149388407367, 60: 5427.301502268182, 80: 11280.270569827479, 90: 23522.984940687176}\n",
      "===============================\n",
      "\n",
      "RESEARCH\n",
      "\n",
      "## Key Historical Trends and Current Status\n",
      "\n",
      "- In 2019, the U.S. plant-based meat market was valued at $801 million, based on SPINS data for the year ending April 2019[1].\n",
      "- Between 2017 and 2019, annual growth rates averaged 11–12% (from $584M in 2017 to $801M in 2019)[1].\n",
      "- As of 2021, North America’s plant-based meat market was estimated at $1.76 billion (not U.S.-only), projected to reach $4.98 billion by 2028, implying a 16% CAGR for the region[5].\n",
      "- Statista’s U.S.-specific forecast estimates the market at $1.43 billion in 2025, with a 2.81% CAGR from 2025 to 2030[1].\n",
      "\n",
      "## Reference Case Comparisons\n",
      "\n",
      "| Case                | Value Year | Market Size | CAGR      | Notes                                          |\n",
      "|---------------------|------------|-------------|-----------|------------------------------------------------|\n",
      "| SPINS (U.S.)        | 2019       | $801M       | ~11–12%   | Historical, retail only                        |\n",
      "| Statista (U.S.)     | 2025       | $1.43B      | 2.81%     | Lower growth forecast for late 2020s           |\n",
      "| BusinessMarket (N.A.)| 2021–2028 | $1.76B → $4.98B | 16%   | North America, possibly overstates U.S. growth |\n",
      "\n",
      "## Key Differences Affecting the Forecast\n",
      "\n",
      "- **Slowing Growth:** The growth rate is projected to decline from the double-digit pace of the late 2010s to low-to-mid single digits by 2025–2030 according to Statista[1].\n",
      "- **Market Maturity:** Early rapid growth may have been driven by novelty, new product launches, and increased distribution; as the market matures, growth is expected to slow.\n",
      "- **Regional Scope:** Some projections are for North America, not the U.S. alone, so require adjustment downward for the U.S.-only market.\n",
      "- **Inflation Adjustment:** All figures should be in 2019 dollars, but most recent forecasts do not specify real vs. nominal terms, introducing some uncertainty.\n",
      "- **SPINS Methodology:** If the methodology for measuring the market changes substantially, estimates may not be directly comparable.\n",
      "\n",
      "## Adjusted Probabilistic Assessment\n",
      "\n",
      "### Calculation Approach\n",
      "\n",
      "1. **Baseline:** $801M in 2019 (SPINS, U.S. only).\n",
      "2. **Growth Rate:** \n",
      "   - Historical (2017–2019): ~12% CAGR.\n",
      "   - North America projection (2021–2028): 16% CAGR[5].\n",
      "   - Statista (U.S., 2025–2030): 2.81% CAGR[1].\n",
      "3. **Best Estimate for U.S. (2023–2028):** Given decelerating growth, a blended CAGR between 6–10% is plausible, recognizing that North America’s 16% likely overstates U.S.-only growth for the late 2020s.\n",
      "\n",
      "### Scenario Modeling\n",
      "\n",
      "- **Low Case (3% CAGR):** $1,260M (2023) × (1.03^5) ≈ $1,460M (2028, in nominal USD)\n",
      "- **Base Case (7% CAGR):** $1,260M (2023) × (1.07^5) ≈ $1,770M (2028, in nominal USD)\n",
      "- **High Case (12% CAGR):** $1,260M (2023) × (1.12^5) ≈ $2,220M (2028, in nominal USD)\n",
      "\n",
      "(Assuming $1,260M for 2023, an extrapolation from $801M in 2019 at 12% CAGR to 2023, then projecting forward.)\n",
      "\n",
      "- **Adjustment to 2019 dollars:** If cumulative inflation from 2019–2028 is about 20% (2% per year average), then adjust down by ~17% (divide by 1.2).\n",
      "\n",
      "### Final Probabilistic Forecast\n",
      "\n",
      "- **60% probability:** U.S. market for plant-based meat will be $1,400M–$1,600M (2019 USD) in the year ending April 2028.\n",
      "- **30% probability:** Exceeds $1,600M (2019 USD), up to $2,000M, if higher adoption resumes.\n",
      "- **10% probability:** Falls below $1,400M (2019 USD), if category stagnates.\n",
      "\n",
      "## Limitations and Uncertainties\n",
      "\n",
      "- Forecasts depend on consumer adoption, innovation, and competitive pressures.\n",
      "- Methodological changes in SPINS reporting could affect comparability.\n",
      "- Market shocks (e.g., regulatory changes, new entrants) could accelerate or slow growth.\n",
      "- Inflation adjustment is an estimate; actual CPI may differ.\n",
      "\n",
      "## References\n",
      "\n",
      "1. [Meat Substitutes - United States | Statista Market Forecast](https://www.statista.com/outlook/cmo/food/meat/meat-substitutes/united-states)\n",
      "2. [North America Plant-Based Meat Products Market to 2028](https://www.businessmarketinsights.com/reports/north-america-plant-based-meat-products-market)\n",
      "3. [Plant-based Meat Market Size, Share & Growth Report, 2030](https://www.grandviewresearch.com/industry-analysis/plant-based-meat-market)\n",
      "4. [Plant-based Meat Market Size, Share, Growth Report](https://www.arizton.com/market-reports/plant-based-meat-market-size-analysis)\n",
      "===============================\n",
      "\n",
      "ASKNEWS\n",
      "\n",
      "Here are the relevant news articles:\n",
      "\n",
      "**United States Plant Based Meat Market Growth Trends Report 2025-2033: $15 Billion Industry Faces Competitions from Lab-Grown and Insect Proteins as Market Diversifies - ResearchAndMarkets.com**\n",
      "The United States plant-based meat market is expected to reach $15.12 billion by 2033, growing at a CAGR of 19.91% from 2025 to 2033. The market is driven by factors such as increased awareness of health and wellness implications, environmental sustainability, and ethical concerns. Companies like Beyond Meat and Impossible Foods are leading the way with products that mimic the taste and texture of conventional meat. However, the industry still faces challenges such as production scaling, cost issues, and competition from conventional meat and other protein sources like lab-grown meat and plant-based dairy. According to Eliyahu, spokesman for Alpha Foods, the company is set to improve its growth trajectory by joining a group of brands. The market is expected to continue to innovate and diversify as customer preferences change and technology advances.\n",
      "Original language: en\n",
      "Publish date: June 02, 2025 06:02 PM\n",
      "Source:[Business Wire](https://www.businesswire.com/news/home/20250602846124/en/United-States-Plant-Based-Meat-Market-Growth-Trends-Report-2025-2033-%2415-Billion-Industry-Faces-Competitions-from-Lab-Grown-and-Insect-Proteins-as-Market-Diversifies---ResearchAndMarkets.com)\n",
      "\n",
      "**Global Plant Extract Market Set to Grow at 10.5% CAGR Through 2034**\n",
      "The global plant extract market is projected to grow at a CAGR of 10.5% from 2024 to 2034, reaching USD 106.6 billion by 2034. The market is driven by increasing consumer demand for natural and organic ingredients, particularly in the food & beverage, pharmaceutical, and personal care industries. Emerging markets in Asia Pacific and Latin America offer significant growth opportunities. The market can be segmented by product type, form, application, and source. Key drivers of the market include increasing consumer awareness of health benefits associated with plant-based products, a shift towards sustainable and clean-label solutions, and advancements in extraction technologies. However, the market faces challenges such as variability in raw material quality and supply, complex production processes, and lack of standardized regulations and quality control. The market is expected to witness further consolidation through mergers and acquisitions, along with increased investment in research and development to unlock the full potential of plant-derived compounds.\n",
      "Original language: en\n",
      "Publish date: June 02, 2025 02:19 PM\n",
      "Source:[openPR.com - Open Public Relations Free of Charge](https://www.openpr.com/news/4047306/global-plant-extract-market-set-to-grow-at-10-5-cagr-through-2034)\n",
      "\n",
      "**Frozen Food Market Size to expected to reach US$ 444.22 Billion by 2031, Rising Demand for Convenience Food Drives Growth | The Insight Partners**\n",
      "The global frozen food market is expected to reach USD 444.22 billion by 2031, growing at a CAGR of 6.00% from 2025. The market is driven by the rising demand for convenience food due to hectic work schedules, rapid urbanization, and increasing per capita income. Key players in the market include Nestlé S.A., Conagra Brands, General Mills, Unilever, and Tyson Foods. The market is segmented by type, distribution channel, and region. The frozen meat, poultry, and seafood segment held the largest share of the market in 2024, while the supermarkets and hypermarkets segment held the largest share of the market in terms of distribution channel. The Asia Pacific region is expected to register the highest CAGR during the forecast period. The growing inclination towards plant-based food, with the rocketing popularity of veganism, is expected to bring new trends in the frozen food market during the forecast period. Key players are focusing on product innovation and enhanced technology to propel the market.\n",
      "Original language: en\n",
      "Publish date: June 02, 2025 11:45 AM\n",
      "Source:[GlobeNewswire Press Releases](https://www.globenewswire.com/news-release/2025/06/02/3091769/0/en/Frozen-Food-Market-Size-to-expected-to-reach-US-444-22-Billion-by-2031-Rising-Demand-for-Convenience-Food-Drives-Growth-The-Insight-Partners.html)\n",
      "\n",
      "**Rügenwalder Mühle: 'Fleisch must become more expensive, not plant-based alternatives'**\n",
      "Rügenwalder Mühle, a company that has been producing sausages and ham for over 190 years, has seen significant growth in its plant-based alternatives. Despite having a market share of 43% in the chilled meat alternatives market, the company is concerned about the increasing number of competitors. The company's CEO, Herr Pfirrmann, stated that the market has become 'oversaturated' with around 50 competitors. However, the company remains optimistic about the future of plant-based meat alternatives, with a predicted market share of 12% in the next 5 years. The company has also seen a significant increase in sales, with a growth rate of 9% in the first quarter of 2025, while the industry as a whole saw a decline of 6%. The company attributes this success to its focus on taste and quality, rather than price. The CEO also expressed concerns about the impact of the Lieferkettengesetz (Supply Chain Act) on the company's operations, but remains committed to sustainability and reducing its environmental footprint.\n",
      "Original language: de\n",
      "Publish date: June 02, 2025 06:27 AM\n",
      "Source:[Handelsblatt](https://www.handelsblatt.com/unternehmen/handel-konsumgueter/ruegenwalder-muehle-fleisch-muesste-teurer-werden-und-nicht-pflanzliche-alternativen-guenstiger/100129502.html)\n",
      "\n",
      "**Europe Plant-based Milk Market Anticipated to Hit US$ 7.37 Bn by 2032 - Persistence Market Research**\n",
      "The Europe plant-based milk market is expected to grow from US$ 4,617.7 million in 2025 to US$ 7,374.9 million by 2032, representing a CAGR of 6.9% during the forecast period. Oat milk is the dominant segment due to its creamy texture and allergen-free profile. The United Kingdom is the regional leader, backed by powerful retail distribution and aggressive private label expansions. Key drivers of the market include vegan and flexitarian dietary trends, environmental awareness, and health reasons. However, the market faces challenges such as the nutritional gap in many offerings and the need for fortification. Opportunities lie in the development of functional plant-based milks that combine flavor with health benefits, such as beverages enriched with added fiber, protein, probiotics, or adaptogens.\n",
      "Original language: en\n",
      "Publish date: June 02, 2025 05:39 AM\n",
      "Source:[openPR.com - Open Public Relations Free of Charge](https://www.openpr.com/news/4045933/europe-plant-based-milk-market-anticipated-to-hit-us-7-37-bn)\n",
      "\n",
      "**Specialized Nutrition Market Forecasted to Expand to US$ 175 Bn by 2032 - Persistence Market Research**\n",
      "The global specialized nutrition market is expected to reach US$ 108 Bn in 2025 and expand to US$ 175 Bn by 2032, with a robust CAGR of 7.1% over the forecast period. The market is driven by increasing awareness about preventive healthcare, aging population demands, and the popularity of fitness-centric and plant-based lifestyles. Key highlights include the protein & amino acids segment dominating with 45% market share in 2025, sports nutrition commanding 67% of the application segment, and North America retaining dominance with 42% share in 2025. The market faces price-related barriers, but opportunities lie in plant-based and sustainable nutrition, with companies innovating with soy, pea, and algae-based proteins.\n",
      "Original language: en\n",
      "Publish date: June 02, 2025 05:35 AM\n",
      "Source:[openPR.com - Open Public Relations Free of Charge](https://www.openpr.com/news/4045922/specialized-nutrition-market-forecasted-to-expand-to-us-175-bn)\n",
      "\n",
      "**Animal Feed Market Predicted to Reach US$ 707.7 Bn by 2032 - Persistence Market Research**\n",
      "The global animal feed market is expected to reach US$707.7 billion by 2032, growing at a CAGR of 4.7% from US$514.4 billion in 2025. The market is driven by increasing demand for protein-rich diets and advancements in feed technologies. Poultry is the top consumer of animal feed, followed by swine, ruminants, and aquaculture. Corn is the dominant feed ingredient due to its nutritional value and adaptability. The market is segmented by source, type, form, livestock type, and region, with plant-based feed dominating and interest in insect-based and algae-based alternatives growing. The market is driven by rising global demand for meat, but is restrained by volatility in raw material prices. The rise of precision nutrition in animal feed offers immense potential, with customized feed based on species, age, and environmental factors now possible through real-time animal data and ingredient analysis.\n",
      "Original language: en\n",
      "Publish date: June 01, 2025 07:07 AM\n",
      "Source:[openPR.com - Open Public Relations Free of Charge](https://www.openpr.com/news/4045742/animal-feed-market-predicted-to-reach-us-707-7-bn-by-2032)\n",
      "\n",
      "**U.S. Nuts Market Projected to Grow to US$ 16.02 Bn by 2032 - Persistence Market Research**\n",
      "The U.S. nuts market is expected to grow from US$ 10,976.6 million in 2025 to US$ 16,026.1 million by 2032, with a CAGR of 5.6% during the forecast period. The market is driven by the rising demand for plant-based nutrition, health and wellness awareness, and the growing popularity of nuts as a nutritious snack. Almonds are expected to hold 32.6% market share in 2025 due to their diabetic-friendly and low-fat profile. The Western U.S. dominates the market with a projected 33.7% share, supported by the strategic advantage of export-friendly ports and California's dominance in nut production. Key trends include the increasing demand for organic and clean-label nut products, and the growing interest in functional snacking innovations such as protein-rich nut mixes.\n",
      "Original language: en\n",
      "Publish date: June 01, 2025 06:38 AM\n",
      "Source:[openPR.com - Open Public Relations Free of Charge](https://www.openpr.com/news/4045736/u-s-nuts-market-projected-to-grow-to-us-16-02-bn-by-2032)\n",
      "\n",
      "**Vietnam Imports Over 116 Million USD Worth of Frozen Pork in First Four Months of 2025**\n",
      "In the first four months of 2025, Vietnam imported 281,600 tons of meat and meat products, worth $573.61 million, a 12.4% increase in quantity and a 16.7% increase in value compared to the same period in 2024. The main types of meat imported by Vietnam include chicken meat (fresh, chilled, or frozen), frozen water buffalo meat, frozen beef, and others. Specifically, Vietnam imported 43,600 tons of frozen pork, worth $116.71 million, a 118.6% increase in quantity and a 161.4% increase in value compared to the same period in 2024. The average import price of frozen pork in Vietnam during this period was $2,672 per ton, a 19.8% increase compared to the same period last year. The main suppliers of frozen pork to Vietnam are the Netherlands (44.6%), Brazil (31.5%), and Spain (4.26%). In the domestic market, a representative of Hóc Môn Wholesale Market (TP.HCM) said that the market sold 4,391 pigs on May 31, equivalent to about 319 tons. The price of live pigs is still high compared to April, ranging from 80,000 to 84,000 VND/kg. As a result, the price of pork at the market is also high, ranging from 90,000 to 93,000 VND/kg, leading to an increase in the price of processed pork products. For example, the price of pork ribs is 160,000 VND/kg, pork loin is 95,000 VND/kg, and pork belly is 130,000 VND/kg. Similarly, the retail price of pork in markets across TP.HCM is also high, with pork belly priced at 140,000 - 150,000 VND/kg, pork ribs at 170,000 - 180,000 VND/kg, and lean meat at 110,000 - 120,000 VND/kg.\n",
      "Original language: vi\n",
      "Publish date: May 31, 2025 05:46 PM\n",
      "Source:[plo.vn](https://plo.vn/viet-nam-chi-hon-116-trieu-usd-nhap-khau-thit-heo-dong-lanh-post852787.html)\n",
      "\n",
      "**Weekly Market Outlook / Bizim Menkul – (2-6 June 2025)**\n",
      "This week, global markets were influenced by various economic data releases, including growth and unemployment rates in Turkey, inflation in Germany, and growth data in the US. Additionally, developments related to US President Trump's tariffs were a major focus. In Germany, the consumer price index rose by 0.1% in May, while the annual inflation rate remained at 2.1% in May, down from 2.1% in April. The US economy contracted by 0.2% in the first quarter of 2025, down from a previously forecasted 0.3% contraction. US President Donald Trump announced on May 23 that he would impose a 50% tariff on the European Union starting from June 1, but later postponed the decision to July 9, 2025. The US International Trade Commission ruled that Trump's tariffs on other countries exceeded his authority, effectively blocking their implementation. The Turkish economy grew by 1% in the first quarter of 2025 compared to the previous quarter, and by 2% compared to the same quarter last year. The unemployment rate in Turkey rose to 8.6% in May, up from 7.9% in April, while the youth unemployment rate rose to 15.7% in May. The BIST100 index fell by 3.6% to 9,019.57, while the dollar/TL exchange rate rose to 39.25 and the euro/TL exchange rate rose to 45.00. Foreign investors bought $13.2 million worth of stocks, $148.4 million worth of government bonds, and $191.6 million worth of corporate bonds in the 16-23 May period. Domestic investors increased their dollar deposits by $1.947 million to $118.701 million, while corporate investors decreased their dollar deposits by $468 million to $74.386 million. The central bank's 5-year dollar-denominated CDS rate rose above 300. The central bank cut the policy rate by 250 basis points to 42.50 in its first two meetings of 2025. According to the central bank's market participant survey, the annual inflation rate is expected to rise to 2.36% in May, 1.77% in June, 30.35% at the end of 2025, and 20.55% at the end of 2026. The dollar/TL exchange rate is expected to rise to 43.70 at the end of 2025 and 46.62 in 12 months. The current account deficit is expected to be $19.2 billion at the end of 2025 and $24.4 billion in 2026. The GDP growth rate is expected to be 2.9% in 2025 and 3.7% in 2026. The central bank's weekly repo rate is expected to be 46.00 at the end of the current month, 42.96 in 3 months, and 30.08 in 12 months.\n",
      "Original language: tr\n",
      "Publish date: May 30, 2025 05:02 PM\n",
      "Source:[paraborsa.net](https://www.paraborsa.net/i/haftanin-piyasa-beklentileri-bizim-menkul-2-6-haziran-2025/)\n",
      "\n",
      "**United States Plant Based Meat Market Forecast Report and Company Analysis 2025-2033 Featuring Beyond Meat, Maple Leaf Foods, Gardein Protein International, Morningstar Farms, and Tyson Foods**\n",
      "The United States plant-based meat market is expected to reach $15.12 billion by 2033, growing at a CAGR of 19.91% from 2025 to 2033. The market is driven by increased awareness of the product's health and wellness implications, environmental sustainability, ethical and animal welfare concerns, and improvements in food technology. Companies like Beyond Meat and Impossible Foods are leading the way with products that mimic the flavor, consistency, and appearance of conventional meat. However, the industry still faces challenges such as production scaling, cost issues, and competition from conventional meat and other protein sources. According to Eliyahu, the brand's spokesman for Alpha Foods, the company is set to improve its growth trajectory by joining a group of brands in August 2023. The market is expected to continue to develop and innovate as customer preferences change and the technology underlying plant-based meats advances.\n",
      "Original language: en\n",
      "Publish date: May 28, 2025 03:29 PM\n",
      "Source:[GlobeNewswire Press Releases](https://www.globenewswire.com/news-release/2025/05/28/3089763/28124/en/United-States-Plant-Based-Meat-Market-Forecast-Report-and-Company-Analysis-2025-2033-Featuring-Beyond-Meat-Maple-Leaf-Foods-Gardein-Protein-International-Morningstar-Farms-and-Tyso.html)\n",
      "\n",
      "**Plant-Based Meat Market Top Players - Beyond Meat; Impossible Foods Inc.; Maple Leaf Foods (Field Roast & Maple Leaf); Vegetarian Butcher; Conagra, Inc. (Garden Protein International).**\n",
      "The global plant-based meat market is valued at USD 6.7 Billion in 2024 and is predicted to reach USD 11.1 Billion by the year 2034 at a 5.4% CAGR during the forecast period for 2025-2034. The market is driven by factors such as the growing food and beverage sector, increasing number of vegetarians, and technological development. However, the market faces challenges such as high costs, distribution network issues, and restrictive regulations. The North American market is expected to grow with the highest CAGR during the forecast period. Key players in the market include Beyond Meat, Impossible Foods Inc., Maple Leaf Foods, and Conagra, Inc. among others.\n",
      "Original language: en\n",
      "Publish date: April 22, 2025 09:19 AM\n",
      "Source:[openPR.com - Open Public Relations Free of Charge](https://www.openpr.com/news/3981132/plant-based-meat-market-top-players-beyond-meat-impossible)\n",
      "\n",
      "**India Plant-Based Meat Market 2025 Edition: Size, Share, Industry Trends, Demand, and Report 2033**\n",
      "The India plant-based meat market size reached USD 98.6 Million in 2024 and is expected to reach USD 737.9 Million by 2033, exhibiting a growth rate (CAGR) of 22.3% during 2025-2033. The market is driven by increasing awareness of health, sustainability, and animal welfare, as well as a growing demand for plant-based foods among the population of over 600 million vegetarians. The market is segmented by product type, source, meat type, distribution channel, and region. The report provides an in-depth analysis of the competitive landscape, including market structure, key player positioning, leading strategies for success, and a company evaluation quadrant. The market is expected to continue growing due to government support, tech startups, accessibility of plant-based meat in a growing retail environment, and growing consumer awareness of the transition to plant-based diets.\n",
      "Original language: en\n",
      "Publish date: April 14, 2025 12:03 PM\n",
      "Source:[openPR.com - Open Public Relations Free of Charge](https://www.openpr.com/news/3969762/india-plant-based-meat-market-2025-edition-size-share)\n",
      "\n",
      "**Plant-Based Meat Market Growth | Trends, Demand & Key Players 2025-2032 | Kellogg Company (US), Beyond Meat (US), Maple Leaf Foods**\n",
      "The plant-based meat market is valued at USD 9.2 billion in 2024 and is expected to reach USD 32.1 billion by 2032, growing at a CAGR of 14.9%. The market is driven by increasing consumer awareness of the benefits of plant-based diets and the growing demand for plant-based meat products. Key players in the market include Kellogg Company, Beyond Meat, Maple Leaf Foods, and Impossible Foods. The market is segmented by source, product, and distribution channel. The North America region accounted for the largest market revenue share of 38.0% in 2023. The report provides an in-depth analysis of the market, including key trends, drivers, and challenges. It also provides a comprehensive analysis of the competitive landscape and identifies opportunities for stakeholders. 'Connect with our team of research specialists and unlock the optimal solution for driving your business growth'.\n",
      "Original language: en\n",
      "Publish date: April 11, 2025 03:48 PM\n",
      "Source:[openPR.com - Open Public Relations Free of Charge](https://www.openpr.com/news/3966363/plant-based-meat-market-growth-trends-demand-key-players)\n",
      "\n",
      "**Global Plant-Based Meat Market to Surpass USD 18.25 Billion by 2030, Tripling in Size at a Strong 17.68% CAGR | Taiwan News | Apr. 9, 2025 06:14**\n",
      "The global plant-based meat market is expected to surpass USD 18.25 billion by 2030, tripling in size at a strong 17.68% CAGR. The market is driven by growing awareness of health benefits and concerns surrounding animal rights. Report Ocean estimates the market size at USD 5.84 billion in 2023 and expects it to boom during the forecast period. The market is segmented by storage, with frozen plant-based meat holding the largest share. North America dominates the market due to the growing population of vegans, particularly in the United States. Major players operating in the market include Beyond Meat, Impossible Foods Inc., Nestle, Tyson, and Quorn Foods. The report provides an in-depth analysis of the market, including growth potential, upcoming trends, and forecasts of total market size.\n",
      "Original language: en\n",
      "Publish date: April 09, 2025 06:44 AM\n",
      "Source:[Taiwan News](https://taiwannews.com.tw/en/news/6080714)\n",
      "\n",
      "**Plant-Based Meat Market Value: Growth, Share, Size, Analysis, and Insights**\n",
      "The global plant-based meat market is expected to grow significantly, driven by increasing consumer demand for sustainable and healthier food options. The market size was valued at USD 11.27 billion in 2023 and is projected to reach USD 33.85 billion by 2031, with a CAGR of 12.74% during the forecast period. Key players such as Beyond Meat, Impossible Foods, Nestle SA, Maple Leaf Foods, and The Vegetarian Butcher are driving innovation and expanding their product offerings to meet the growing demand for plant-based meat alternatives. The market is segmented based on product type, source, and distribution channel, with burger patties, soy-based alternatives, and supermarkets holding significant market shares. The market is influenced by factors such as increasing awareness about the environmental impact of conventional meat production, rising health consciousness, and the trend of flexitarianism. Consumers are actively seeking sustainable and healthier food choices, leading to a transition towards plant-based diets.\n",
      "Original language: en\n",
      "Publish date: March 25, 2025 10:57 AM\n",
      "Source:[openPR.com - Open Public Relations Free of Charge](https://www.openpr.com/news/3936084/plant-based-meat-market-value-growth-share-size-analysis)\n",
      "\n",
      "**Plant-based Food Market to be Worth $113.1 Billion by 2031**\n",
      "According to Meticulous Research, the plant-based food market is expected to reach $113.1 billion by 2031, growing at a CAGR of 12.3% from 2024 to 2031. The market's growth is driven by increasing intolerance for animal protein, growing vegetarian population, and innovation in food technology. However, factors such as higher price range of meat substitutes and significant preference for animal-based products are expected to hinder growth. The key players in the market include Beyond Meat, Impossible Foods, Danone, and others. The market is segmented by type, source, distribution channel, and geography, with Asia-Pacific expected to account for the largest share in 2024. The report provides insights into the market's growth, trends, and opportunities for existing players and new entrants.\n",
      "Original language: en\n",
      "Publish date: February 21, 2025 08:13 AM\n",
      "Source:[openPR.com - Open Public Relations Free of Charge](https://www.openpr.com/news/3880186/plant-based-food-market-to-be-worth-113-1-billion-by-2031)\n",
      "\n",
      "**U.S. Plant Based Meat Market to Reach USD 14.65 Billion by 2032 with a Robust 25.1% CAGR | SkyQuest Technology**\n",
      "The U.S. plant-based meat market is expected to reach $14.65 billion by 2032, growing at a compound annual growth rate (CAGR) of 25.1% from 2025 to 2032. The market is driven by changing consumer preferences, growing environmental awareness, and advancements in food technology. Key factors contributing to market growth include health consciousness, environmental awareness, technological advancements, increased availability and variety, and ethical and animal welfare concerns. The market can be segmented by product type, source, distribution channel, and region. Prominent companies in the market include Beyond Meat, Impossible Foods, Oatly, and Nestlé. However, the market faces challenges such as price point, consumer perception, and supply chain issues. Despite these challenges, the market is expected to continue its upward trajectory well into the next decade.\n",
      "Original language: en\n",
      "Publish date: February 11, 2025 04:31 AM\n",
      "Source:[openPR.com - Open Public Relations Free of Charge](https://www.openpr.com/news/3861088/u-s-plant-based-meat-market-to-reach-usd-14-65-billion-by-2032)\n",
      "\n",
      "\n",
      "===============================\n",
      "\n",
      "LEARNING\n",
      "\n",
      "[]\n",
      "===============================\n",
      "\n"
     ]
    }
   ],
   "source": [
    "for item, value in row.items():\n",
    "    print(item.upper())\n",
    "    print()\n",
    "    print(value)\n",
    "    print('===============================')\n",
    "    print()"
   ]
  },
  {
   "cell_type": "code",
   "execution_count": 26,
   "id": "01582b8b-4070-4892-afc9-b79e755c90ff",
   "metadata": {},
   "outputs": [
    {
     "data": {
      "text/plain": [
       "\"Data from [SPINS](https://www.spins.com/) summarised by the Plant Based Foods Association and The Good Food Institute shows U.S. retail sales of plant-based alternative foods have grown 11 percent in the past year, and 31% over the past two years ([Good Food Institute, 2019](https://www.gfi.org/marketresearch#section-intro)). By comparison, total U.S. retail food dollar sales grew just 2% over the past year and 4% over the past two years.\\n\\nThis brings the total plant-based alternatives market value to a total value of $4.5 billion in 2019. At [an estimated $801M](https://plantbasedfoods.org/2019-data-plant-based-market/) the plant-based meat market is the second highest grossing plant-based alternatives product, after plant-based milk.\\n\\nMost dollar-sales of plant-based meat tend to come from frozen products (73% in 2019). However, this seems to changing quickly: product innovation and merchandising strategies have grown dollar sales of refrigerated plant-based meat by 85% ([Good Food Institute, 2019](https://www.gfi.org/marketresearch#section-intro)). \\n\\n**What will the U.S. market for plant-based meat be worth in the year ending in April 2028, in millions of 2019 USD?**\\n\\nThis question will resolve as the value of the U.S. market for plant-based meat, as estimated by [SPINS](https://www.spins.com/). The market value is to be adjusted for inflation using a widely used CPI and given in 2019 prices. SPINS' estimate of the value of the U.S. market for plant-based meat is given by the sum of the value of the US market for the following subcategories of plant-based alternatives: meat based burgers, nuggets, strips and cutlets, links, patties, grounds, deli slices, meatballs, loafs/roasts, shreds/pulled, jerky and other plant-based meats.\\n\\nIn the event that the only data available is that for the year ending in December, and if it cannot be constructed or obtained any other way (such as by using the following year's data release, or by contacting the relevant organisation), then this question shall resolve as the total value of the market for the year ending in December of the previous year.\\n\\n\\n\\nThe question resolves ambiguously if SPINS data is substantially different in 2023 compared with 2019. SPINS data is to be considered to be substantially different if the methodology for estimating the size of the market is substantially changed, such as when using the new methodology, estimates of the historical size of the market (currently $584m in 2017, $731m in 2018, $801m in 2019, with all years ending in April) changes by more than 50%.\\n\\nIn case SPINS data is not available, it is left to the discretion of an admin to either resolve this question ambiguous, or consult an alternative estimate. However, this alternative estimate should only be used if it is judged that this estimation approach is at least 90% likely produce an estimate within 50% of the estimate obtained by following the SPINS methodology, subject to updates considered reasonable in case new plant-based subcategories emerge, or previously existing subcategories that were excluded from earlier SPINS estimates constitute a larger share of the total value.\""
      ]
     },
     "execution_count": 26,
     "metadata": {},
     "output_type": "execute_result"
    }
   ],
   "source": [
    "row.question_resolution_criteria"
   ]
  },
  {
   "cell_type": "code",
   "execution_count": 27,
   "id": "3a439558-37ea-4b37-a1f5-00e59a29de6d",
   "metadata": {},
   "outputs": [],
   "source": [
    "prompt = f\"\"\"Here is some information about a question:\n",
    "\n",
    "TITLE\n",
    "=====\n",
    "\n",
    "{row.title}\n",
    "\n",
    "RESOLUTION CRITERIA\n",
    "===================\n",
    "\n",
    "{row.question_resolution_criteria}\n",
    "\n",
    "SCALE\n",
    "=====\n",
    "\n",
    "From {row.question_scaling_range_min} to {row.question_scaling_range_max}\n",
    "\n",
    "Using the information, answer the following questions:\n",
    "\n",
    "a.  What is the minimum value for the answer?\n",
    "b.  What is the maximum value for the answer?\n",
    "c.  Is there a formula for the answer given in the above text?\n",
    "d.  If there is a formula, what needs to go into the formula and how do you estimate it?  Write a python function for the formula, commenting its inputs and outputs for clarity\n",
    "\"\"\""
   ]
  },
  {
   "cell_type": "code",
   "execution_count": null,
   "id": "8488971f-4d99-406f-b373-73165a09c837",
   "metadata": {},
   "outputs": [],
   "source": [
    "print(prompt)"
   ]
  },
  {
   "cell_type": "code",
   "execution_count": 29,
   "id": "3701d646-39a8-49e8-9730-69246ec7d86e",
   "metadata": {},
   "outputs": [
    {
     "name": "stdout",
     "output_type": "stream",
     "text": [
      "START model mistral-small3.2:24b-instruct-2506-q4_K_M\n",
      "model mistral-small3.2:24b-instruct-2506-q4_K_M minutes 2.803510057926178\n"
     ]
    }
   ],
   "source": [
    "terms = call_local_llm(prompt, model)"
   ]
  },
  {
   "cell_type": "code",
   "execution_count": 31,
   "id": "be3402ac-521d-46ce-b960-36f2581b627a",
   "metadata": {},
   "outputs": [
    {
     "name": "stdout",
     "output_type": "stream",
     "text": [
      "a. The minimum value for the answer is **800.0** (as per the SCALE provided in the text).\n",
      "\n",
      "b. The maximum value for the answer is **100,000.0** (as per the SCALE provided in the text).\n",
      "\n",
      "c. There is no explicit formula provided in the text for calculating the future market value of plant-based meat in the U.S. in 2028. The resolution criteria rely on SPINS data, which is not directly provided or described in a formulaic way.\n",
      "\n",
      "d. Since no formula is explicitly given, we cannot write a Python function for it. However, if we were to estimate the future market value based on historical growth rates (as mentioned in the text), we could use a simple compound annual growth rate (CAGR) approach. Here’s a hypothetical Python function based on that assumption:\n",
      "\n",
      "```python\n",
      "def estimate_future_market_value(initial_value, growth_rate, years):\n",
      "    \"\"\"\n",
      "    Estimates the future market value using compound annual growth rate (CAGR).\n",
      "\n",
      "    Parameters:\n",
      "    - initial_value (float): The initial market value (e.g., $801M in 2019).\n",
      "    - growth_rate (float): The annual growth rate (e.g., 11% or 0.11).\n",
      "    - years (int): The number of years into the future to estimate (e.g., 2028 - 2019 = 9 years).\n",
      "\n",
      "    Returns:\n",
      "    - float: The estimated future market value in millions of 2019 USD.\n",
      "    \"\"\"\n",
      "    future_value = initial_value * (1 + growth_rate) ** years\n",
      "    return future_value\n",
      "\n",
      "# Example usage:\n",
      "initial_value = 801  # $801M in 2019\n",
      "growth_rate = 0.11   # 11% annual growth rate\n",
      "years = 9            # From 2019 to 2028\n",
      "estimated_value = estimate_future_market_value(initial_value, growth_rate, years)\n",
      "print(f\"Estimated future market value: ${estimated_value:.2f}M\")\n",
      "```\n",
      "\n",
      "### Notes:\n",
      "1. This is a hypothetical function based on the assumption that the market will continue to grow at the same rate as observed in the past (11% annually). The actual future value will depend on SPINS data, which may not follow this simple growth model.\n",
      "2. The function does not account for inflation adjustments or changes in SPINS methodology, as these would require more specific data or additional assumptions.\n",
      "3. The resolution criteria emphasize that the answer should be based on SPINS data, so this function is only a rough estimate and not a substitute for the actual SPINS data.\n"
     ]
    }
   ],
   "source": [
    "print(terms)"
   ]
  },
  {
   "cell_type": "code",
   "execution_count": 33,
   "id": "17775bc2-96c8-4667-87af-63f4c3ffc83c",
   "metadata": {},
   "outputs": [],
   "source": [
    "prompt2 = f\"\"\"\n",
    "You are the intelligence community's best geopolitical, economic and overall news trivia forecaster.  \n",
    "You are given the following information to make a prediction:\n",
    "\n",
    "```title\n",
    "{row.title}\n",
    "```\n",
    "\n",
    "```news\n",
    "{row.asknews}\n",
    "\n",
    "```research\n",
    "{row.research}\n",
    "```\n",
    "\n",
    "Using the title, news and research, make a forecast according to the formulas you derived in the previous prompt response.\n",
    "If the Python function has multiple variables, assess each variable individually and then use the function to compute the measure.\n",
    "\n",
    "The last thing you write is your final answer as this sequence of percentile levels in percent and values as floating point numbers without currency symbols, commas or spelled out numbers like \"trillion\", just the raw complete number:\n",
    "\"\n",
    "Percentile 10: XX\n",
    "Percentile 20: XX\n",
    "Percentile 40: XX\n",
    "Percentile 60: XX\n",
    "Percentile 80: XX\n",
    "Percentile 90: XX\n",
    "\"\n",
    "Each line of the final answer MUST START with the word \"Percentile\".  For example if you have \"10: 201\" instead of \"Percentile 10: 201\", that is wrong.\n",
    "\n",
    "PLEASE REMEMBER THAT THE ANSWER MUST BE IN THE TERMS REQUESTED BY THE PROBLEM.  \n",
    "A QUICK CORRECTNESS CHECK IS THAT YOUR ANSWER MUST LIE BETWEEN THE MINIMUM AND MAXIMUM VALUES SPECIFIED.  \n",
    "THE REQUESTED TERMS ARE AS FOLLOWS:\n",
    "\n",
    "```terms\n",
    "{terms}\n",
    "```\n",
    "\"\"\""
   ]
  },
  {
   "cell_type": "code",
   "execution_count": 34,
   "id": "0c61abbd-ff80-43a7-8244-ac213fbf2107",
   "metadata": {},
   "outputs": [
    {
     "name": "stdout",
     "output_type": "stream",
     "text": [
      "\n",
      "You are the intelligence community's best geopolitical, economic and overall news trivia forecaster.  \n",
      "You are given the following information to make a prediction:\n",
      "\n",
      "```title\n",
      "What will the US market for plant-based meat be worth in the year ending in April 2028?\n",
      "```\n",
      "\n",
      "```news\n",
      "Here are the relevant news articles:\n",
      "\n",
      "**United States Plant Based Meat Market Growth Trends Report 2025-2033: $15 Billion Industry Faces Competitions from Lab-Grown and Insect Proteins as Market Diversifies - ResearchAndMarkets.com**\n",
      "The United States plant-based meat market is expected to reach $15.12 billion by 2033, growing at a CAGR of 19.91% from 2025 to 2033. The market is driven by factors such as increased awareness of health and wellness implications, environmental sustainability, and ethical concerns. Companies like Beyond Meat and Impossible Foods are leading the way with products that mimic the taste and texture of conventional meat. However, the industry still faces challenges such as production scaling, cost issues, and competition from conventional meat and other protein sources like lab-grown meat and plant-based dairy. According to Eliyahu, spokesman for Alpha Foods, the company is set to improve its growth trajectory by joining a group of brands. The market is expected to continue to innovate and diversify as customer preferences change and technology advances.\n",
      "Original language: en\n",
      "Publish date: June 02, 2025 06:02 PM\n",
      "Source:[Business Wire](https://www.businesswire.com/news/home/20250602846124/en/United-States-Plant-Based-Meat-Market-Growth-Trends-Report-2025-2033-%2415-Billion-Industry-Faces-Competitions-from-Lab-Grown-and-Insect-Proteins-as-Market-Diversifies---ResearchAndMarkets.com)\n",
      "\n",
      "**Global Plant Extract Market Set to Grow at 10.5% CAGR Through 2034**\n",
      "The global plant extract market is projected to grow at a CAGR of 10.5% from 2024 to 2034, reaching USD 106.6 billion by 2034. The market is driven by increasing consumer demand for natural and organic ingredients, particularly in the food & beverage, pharmaceutical, and personal care industries. Emerging markets in Asia Pacific and Latin America offer significant growth opportunities. The market can be segmented by product type, form, application, and source. Key drivers of the market include increasing consumer awareness of health benefits associated with plant-based products, a shift towards sustainable and clean-label solutions, and advancements in extraction technologies. However, the market faces challenges such as variability in raw material quality and supply, complex production processes, and lack of standardized regulations and quality control. The market is expected to witness further consolidation through mergers and acquisitions, along with increased investment in research and development to unlock the full potential of plant-derived compounds.\n",
      "Original language: en\n",
      "Publish date: June 02, 2025 02:19 PM\n",
      "Source:[openPR.com - Open Public Relations Free of Charge](https://www.openpr.com/news/4047306/global-plant-extract-market-set-to-grow-at-10-5-cagr-through-2034)\n",
      "\n",
      "**Frozen Food Market Size to expected to reach US$ 444.22 Billion by 2031, Rising Demand for Convenience Food Drives Growth | The Insight Partners**\n",
      "The global frozen food market is expected to reach USD 444.22 billion by 2031, growing at a CAGR of 6.00% from 2025. The market is driven by the rising demand for convenience food due to hectic work schedules, rapid urbanization, and increasing per capita income. Key players in the market include Nestlé S.A., Conagra Brands, General Mills, Unilever, and Tyson Foods. The market is segmented by type, distribution channel, and region. The frozen meat, poultry, and seafood segment held the largest share of the market in 2024, while the supermarkets and hypermarkets segment held the largest share of the market in terms of distribution channel. The Asia Pacific region is expected to register the highest CAGR during the forecast period. The growing inclination towards plant-based food, with the rocketing popularity of veganism, is expected to bring new trends in the frozen food market during the forecast period. Key players are focusing on product innovation and enhanced technology to propel the market.\n",
      "Original language: en\n",
      "Publish date: June 02, 2025 11:45 AM\n",
      "Source:[GlobeNewswire Press Releases](https://www.globenewswire.com/news-release/2025/06/02/3091769/0/en/Frozen-Food-Market-Size-to-expected-to-reach-US-444-22-Billion-by-2031-Rising-Demand-for-Convenience-Food-Drives-Growth-The-Insight-Partners.html)\n",
      "\n",
      "**Rügenwalder Mühle: 'Fleisch must become more expensive, not plant-based alternatives'**\n",
      "Rügenwalder Mühle, a company that has been producing sausages and ham for over 190 years, has seen significant growth in its plant-based alternatives. Despite having a market share of 43% in the chilled meat alternatives market, the company is concerned about the increasing number of competitors. The company's CEO, Herr Pfirrmann, stated that the market has become 'oversaturated' with around 50 competitors. However, the company remains optimistic about the future of plant-based meat alternatives, with a predicted market share of 12% in the next 5 years. The company has also seen a significant increase in sales, with a growth rate of 9% in the first quarter of 2025, while the industry as a whole saw a decline of 6%. The company attributes this success to its focus on taste and quality, rather than price. The CEO also expressed concerns about the impact of the Lieferkettengesetz (Supply Chain Act) on the company's operations, but remains committed to sustainability and reducing its environmental footprint.\n",
      "Original language: de\n",
      "Publish date: June 02, 2025 06:27 AM\n",
      "Source:[Handelsblatt](https://www.handelsblatt.com/unternehmen/handel-konsumgueter/ruegenwalder-muehle-fleisch-muesste-teurer-werden-und-nicht-pflanzliche-alternativen-guenstiger/100129502.html)\n",
      "\n",
      "**Europe Plant-based Milk Market Anticipated to Hit US$ 7.37 Bn by 2032 - Persistence Market Research**\n",
      "The Europe plant-based milk market is expected to grow from US$ 4,617.7 million in 2025 to US$ 7,374.9 million by 2032, representing a CAGR of 6.9% during the forecast period. Oat milk is the dominant segment due to its creamy texture and allergen-free profile. The United Kingdom is the regional leader, backed by powerful retail distribution and aggressive private label expansions. Key drivers of the market include vegan and flexitarian dietary trends, environmental awareness, and health reasons. However, the market faces challenges such as the nutritional gap in many offerings and the need for fortification. Opportunities lie in the development of functional plant-based milks that combine flavor with health benefits, such as beverages enriched with added fiber, protein, probiotics, or adaptogens.\n",
      "Original language: en\n",
      "Publish date: June 02, 2025 05:39 AM\n",
      "Source:[openPR.com - Open Public Relations Free of Charge](https://www.openpr.com/news/4045933/europe-plant-based-milk-market-anticipated-to-hit-us-7-37-bn)\n",
      "\n",
      "**Specialized Nutrition Market Forecasted to Expand to US$ 175 Bn by 2032 - Persistence Market Research**\n",
      "The global specialized nutrition market is expected to reach US$ 108 Bn in 2025 and expand to US$ 175 Bn by 2032, with a robust CAGR of 7.1% over the forecast period. The market is driven by increasing awareness about preventive healthcare, aging population demands, and the popularity of fitness-centric and plant-based lifestyles. Key highlights include the protein & amino acids segment dominating with 45% market share in 2025, sports nutrition commanding 67% of the application segment, and North America retaining dominance with 42% share in 2025. The market faces price-related barriers, but opportunities lie in plant-based and sustainable nutrition, with companies innovating with soy, pea, and algae-based proteins.\n",
      "Original language: en\n",
      "Publish date: June 02, 2025 05:35 AM\n",
      "Source:[openPR.com - Open Public Relations Free of Charge](https://www.openpr.com/news/4045922/specialized-nutrition-market-forecasted-to-expand-to-us-175-bn)\n",
      "\n",
      "**Animal Feed Market Predicted to Reach US$ 707.7 Bn by 2032 - Persistence Market Research**\n",
      "The global animal feed market is expected to reach US$707.7 billion by 2032, growing at a CAGR of 4.7% from US$514.4 billion in 2025. The market is driven by increasing demand for protein-rich diets and advancements in feed technologies. Poultry is the top consumer of animal feed, followed by swine, ruminants, and aquaculture. Corn is the dominant feed ingredient due to its nutritional value and adaptability. The market is segmented by source, type, form, livestock type, and region, with plant-based feed dominating and interest in insect-based and algae-based alternatives growing. The market is driven by rising global demand for meat, but is restrained by volatility in raw material prices. The rise of precision nutrition in animal feed offers immense potential, with customized feed based on species, age, and environmental factors now possible through real-time animal data and ingredient analysis.\n",
      "Original language: en\n",
      "Publish date: June 01, 2025 07:07 AM\n",
      "Source:[openPR.com - Open Public Relations Free of Charge](https://www.openpr.com/news/4045742/animal-feed-market-predicted-to-reach-us-707-7-bn-by-2032)\n",
      "\n",
      "**U.S. Nuts Market Projected to Grow to US$ 16.02 Bn by 2032 - Persistence Market Research**\n",
      "The U.S. nuts market is expected to grow from US$ 10,976.6 million in 2025 to US$ 16,026.1 million by 2032, with a CAGR of 5.6% during the forecast period. The market is driven by the rising demand for plant-based nutrition, health and wellness awareness, and the growing popularity of nuts as a nutritious snack. Almonds are expected to hold 32.6% market share in 2025 due to their diabetic-friendly and low-fat profile. The Western U.S. dominates the market with a projected 33.7% share, supported by the strategic advantage of export-friendly ports and California's dominance in nut production. Key trends include the increasing demand for organic and clean-label nut products, and the growing interest in functional snacking innovations such as protein-rich nut mixes.\n",
      "Original language: en\n",
      "Publish date: June 01, 2025 06:38 AM\n",
      "Source:[openPR.com - Open Public Relations Free of Charge](https://www.openpr.com/news/4045736/u-s-nuts-market-projected-to-grow-to-us-16-02-bn-by-2032)\n",
      "\n",
      "**Vietnam Imports Over 116 Million USD Worth of Frozen Pork in First Four Months of 2025**\n",
      "In the first four months of 2025, Vietnam imported 281,600 tons of meat and meat products, worth $573.61 million, a 12.4% increase in quantity and a 16.7% increase in value compared to the same period in 2024. The main types of meat imported by Vietnam include chicken meat (fresh, chilled, or frozen), frozen water buffalo meat, frozen beef, and others. Specifically, Vietnam imported 43,600 tons of frozen pork, worth $116.71 million, a 118.6% increase in quantity and a 161.4% increase in value compared to the same period in 2024. The average import price of frozen pork in Vietnam during this period was $2,672 per ton, a 19.8% increase compared to the same period last year. The main suppliers of frozen pork to Vietnam are the Netherlands (44.6%), Brazil (31.5%), and Spain (4.26%). In the domestic market, a representative of Hóc Môn Wholesale Market (TP.HCM) said that the market sold 4,391 pigs on May 31, equivalent to about 319 tons. The price of live pigs is still high compared to April, ranging from 80,000 to 84,000 VND/kg. As a result, the price of pork at the market is also high, ranging from 90,000 to 93,000 VND/kg, leading to an increase in the price of processed pork products. For example, the price of pork ribs is 160,000 VND/kg, pork loin is 95,000 VND/kg, and pork belly is 130,000 VND/kg. Similarly, the retail price of pork in markets across TP.HCM is also high, with pork belly priced at 140,000 - 150,000 VND/kg, pork ribs at 170,000 - 180,000 VND/kg, and lean meat at 110,000 - 120,000 VND/kg.\n",
      "Original language: vi\n",
      "Publish date: May 31, 2025 05:46 PM\n",
      "Source:[plo.vn](https://plo.vn/viet-nam-chi-hon-116-trieu-usd-nhap-khau-thit-heo-dong-lanh-post852787.html)\n",
      "\n",
      "**Weekly Market Outlook / Bizim Menkul – (2-6 June 2025)**\n",
      "This week, global markets were influenced by various economic data releases, including growth and unemployment rates in Turkey, inflation in Germany, and growth data in the US. Additionally, developments related to US President Trump's tariffs were a major focus. In Germany, the consumer price index rose by 0.1% in May, while the annual inflation rate remained at 2.1% in May, down from 2.1% in April. The US economy contracted by 0.2% in the first quarter of 2025, down from a previously forecasted 0.3% contraction. US President Donald Trump announced on May 23 that he would impose a 50% tariff on the European Union starting from June 1, but later postponed the decision to July 9, 2025. The US International Trade Commission ruled that Trump's tariffs on other countries exceeded his authority, effectively blocking their implementation. The Turkish economy grew by 1% in the first quarter of 2025 compared to the previous quarter, and by 2% compared to the same quarter last year. The unemployment rate in Turkey rose to 8.6% in May, up from 7.9% in April, while the youth unemployment rate rose to 15.7% in May. The BIST100 index fell by 3.6% to 9,019.57, while the dollar/TL exchange rate rose to 39.25 and the euro/TL exchange rate rose to 45.00. Foreign investors bought $13.2 million worth of stocks, $148.4 million worth of government bonds, and $191.6 million worth of corporate bonds in the 16-23 May period. Domestic investors increased their dollar deposits by $1.947 million to $118.701 million, while corporate investors decreased their dollar deposits by $468 million to $74.386 million. The central bank's 5-year dollar-denominated CDS rate rose above 300. The central bank cut the policy rate by 250 basis points to 42.50 in its first two meetings of 2025. According to the central bank's market participant survey, the annual inflation rate is expected to rise to 2.36% in May, 1.77% in June, 30.35% at the end of 2025, and 20.55% at the end of 2026. The dollar/TL exchange rate is expected to rise to 43.70 at the end of 2025 and 46.62 in 12 months. The current account deficit is expected to be $19.2 billion at the end of 2025 and $24.4 billion in 2026. The GDP growth rate is expected to be 2.9% in 2025 and 3.7% in 2026. The central bank's weekly repo rate is expected to be 46.00 at the end of the current month, 42.96 in 3 months, and 30.08 in 12 months.\n",
      "Original language: tr\n",
      "Publish date: May 30, 2025 05:02 PM\n",
      "Source:[paraborsa.net](https://www.paraborsa.net/i/haftanin-piyasa-beklentileri-bizim-menkul-2-6-haziran-2025/)\n",
      "\n",
      "**United States Plant Based Meat Market Forecast Report and Company Analysis 2025-2033 Featuring Beyond Meat, Maple Leaf Foods, Gardein Protein International, Morningstar Farms, and Tyson Foods**\n",
      "The United States plant-based meat market is expected to reach $15.12 billion by 2033, growing at a CAGR of 19.91% from 2025 to 2033. The market is driven by increased awareness of the product's health and wellness implications, environmental sustainability, ethical and animal welfare concerns, and improvements in food technology. Companies like Beyond Meat and Impossible Foods are leading the way with products that mimic the flavor, consistency, and appearance of conventional meat. However, the industry still faces challenges such as production scaling, cost issues, and competition from conventional meat and other protein sources. According to Eliyahu, the brand's spokesman for Alpha Foods, the company is set to improve its growth trajectory by joining a group of brands in August 2023. The market is expected to continue to develop and innovate as customer preferences change and the technology underlying plant-based meats advances.\n",
      "Original language: en\n",
      "Publish date: May 28, 2025 03:29 PM\n",
      "Source:[GlobeNewswire Press Releases](https://www.globenewswire.com/news-release/2025/05/28/3089763/28124/en/United-States-Plant-Based-Meat-Market-Forecast-Report-and-Company-Analysis-2025-2033-Featuring-Beyond-Meat-Maple-Leaf-Foods-Gardein-Protein-International-Morningstar-Farms-and-Tyso.html)\n",
      "\n",
      "**Plant-Based Meat Market Top Players - Beyond Meat; Impossible Foods Inc.; Maple Leaf Foods (Field Roast & Maple Leaf); Vegetarian Butcher; Conagra, Inc. (Garden Protein International).**\n",
      "The global plant-based meat market is valued at USD 6.7 Billion in 2024 and is predicted to reach USD 11.1 Billion by the year 2034 at a 5.4% CAGR during the forecast period for 2025-2034. The market is driven by factors such as the growing food and beverage sector, increasing number of vegetarians, and technological development. However, the market faces challenges such as high costs, distribution network issues, and restrictive regulations. The North American market is expected to grow with the highest CAGR during the forecast period. Key players in the market include Beyond Meat, Impossible Foods Inc., Maple Leaf Foods, and Conagra, Inc. among others.\n",
      "Original language: en\n",
      "Publish date: April 22, 2025 09:19 AM\n",
      "Source:[openPR.com - Open Public Relations Free of Charge](https://www.openpr.com/news/3981132/plant-based-meat-market-top-players-beyond-meat-impossible)\n",
      "\n",
      "**India Plant-Based Meat Market 2025 Edition: Size, Share, Industry Trends, Demand, and Report 2033**\n",
      "The India plant-based meat market size reached USD 98.6 Million in 2024 and is expected to reach USD 737.9 Million by 2033, exhibiting a growth rate (CAGR) of 22.3% during 2025-2033. The market is driven by increasing awareness of health, sustainability, and animal welfare, as well as a growing demand for plant-based foods among the population of over 600 million vegetarians. The market is segmented by product type, source, meat type, distribution channel, and region. The report provides an in-depth analysis of the competitive landscape, including market structure, key player positioning, leading strategies for success, and a company evaluation quadrant. The market is expected to continue growing due to government support, tech startups, accessibility of plant-based meat in a growing retail environment, and growing consumer awareness of the transition to plant-based diets.\n",
      "Original language: en\n",
      "Publish date: April 14, 2025 12:03 PM\n",
      "Source:[openPR.com - Open Public Relations Free of Charge](https://www.openpr.com/news/3969762/india-plant-based-meat-market-2025-edition-size-share)\n",
      "\n",
      "**Plant-Based Meat Market Growth | Trends, Demand & Key Players 2025-2032 | Kellogg Company (US), Beyond Meat (US), Maple Leaf Foods**\n",
      "The plant-based meat market is valued at USD 9.2 billion in 2024 and is expected to reach USD 32.1 billion by 2032, growing at a CAGR of 14.9%. The market is driven by increasing consumer awareness of the benefits of plant-based diets and the growing demand for plant-based meat products. Key players in the market include Kellogg Company, Beyond Meat, Maple Leaf Foods, and Impossible Foods. The market is segmented by source, product, and distribution channel. The North America region accounted for the largest market revenue share of 38.0% in 2023. The report provides an in-depth analysis of the market, including key trends, drivers, and challenges. It also provides a comprehensive analysis of the competitive landscape and identifies opportunities for stakeholders. 'Connect with our team of research specialists and unlock the optimal solution for driving your business growth'.\n",
      "Original language: en\n",
      "Publish date: April 11, 2025 03:48 PM\n",
      "Source:[openPR.com - Open Public Relations Free of Charge](https://www.openpr.com/news/3966363/plant-based-meat-market-growth-trends-demand-key-players)\n",
      "\n",
      "**Global Plant-Based Meat Market to Surpass USD 18.25 Billion by 2030, Tripling in Size at a Strong 17.68% CAGR | Taiwan News | Apr. 9, 2025 06:14**\n",
      "The global plant-based meat market is expected to surpass USD 18.25 billion by 2030, tripling in size at a strong 17.68% CAGR. The market is driven by growing awareness of health benefits and concerns surrounding animal rights. Report Ocean estimates the market size at USD 5.84 billion in 2023 and expects it to boom during the forecast period. The market is segmented by storage, with frozen plant-based meat holding the largest share. North America dominates the market due to the growing population of vegans, particularly in the United States. Major players operating in the market include Beyond Meat, Impossible Foods Inc., Nestle, Tyson, and Quorn Foods. The report provides an in-depth analysis of the market, including growth potential, upcoming trends, and forecasts of total market size.\n",
      "Original language: en\n",
      "Publish date: April 09, 2025 06:44 AM\n",
      "Source:[Taiwan News](https://taiwannews.com.tw/en/news/6080714)\n",
      "\n",
      "**Plant-Based Meat Market Value: Growth, Share, Size, Analysis, and Insights**\n",
      "The global plant-based meat market is expected to grow significantly, driven by increasing consumer demand for sustainable and healthier food options. The market size was valued at USD 11.27 billion in 2023 and is projected to reach USD 33.85 billion by 2031, with a CAGR of 12.74% during the forecast period. Key players such as Beyond Meat, Impossible Foods, Nestle SA, Maple Leaf Foods, and The Vegetarian Butcher are driving innovation and expanding their product offerings to meet the growing demand for plant-based meat alternatives. The market is segmented based on product type, source, and distribution channel, with burger patties, soy-based alternatives, and supermarkets holding significant market shares. The market is influenced by factors such as increasing awareness about the environmental impact of conventional meat production, rising health consciousness, and the trend of flexitarianism. Consumers are actively seeking sustainable and healthier food choices, leading to a transition towards plant-based diets.\n",
      "Original language: en\n",
      "Publish date: March 25, 2025 10:57 AM\n",
      "Source:[openPR.com - Open Public Relations Free of Charge](https://www.openpr.com/news/3936084/plant-based-meat-market-value-growth-share-size-analysis)\n",
      "\n",
      "**Plant-based Food Market to be Worth $113.1 Billion by 2031**\n",
      "According to Meticulous Research, the plant-based food market is expected to reach $113.1 billion by 2031, growing at a CAGR of 12.3% from 2024 to 2031. The market's growth is driven by increasing intolerance for animal protein, growing vegetarian population, and innovation in food technology. However, factors such as higher price range of meat substitutes and significant preference for animal-based products are expected to hinder growth. The key players in the market include Beyond Meat, Impossible Foods, Danone, and others. The market is segmented by type, source, distribution channel, and geography, with Asia-Pacific expected to account for the largest share in 2024. The report provides insights into the market's growth, trends, and opportunities for existing players and new entrants.\n",
      "Original language: en\n",
      "Publish date: February 21, 2025 08:13 AM\n",
      "Source:[openPR.com - Open Public Relations Free of Charge](https://www.openpr.com/news/3880186/plant-based-food-market-to-be-worth-113-1-billion-by-2031)\n",
      "\n",
      "**U.S. Plant Based Meat Market to Reach USD 14.65 Billion by 2032 with a Robust 25.1% CAGR | SkyQuest Technology**\n",
      "The U.S. plant-based meat market is expected to reach $14.65 billion by 2032, growing at a compound annual growth rate (CAGR) of 25.1% from 2025 to 2032. The market is driven by changing consumer preferences, growing environmental awareness, and advancements in food technology. Key factors contributing to market growth include health consciousness, environmental awareness, technological advancements, increased availability and variety, and ethical and animal welfare concerns. The market can be segmented by product type, source, distribution channel, and region. Prominent companies in the market include Beyond Meat, Impossible Foods, Oatly, and Nestlé. However, the market faces challenges such as price point, consumer perception, and supply chain issues. Despite these challenges, the market is expected to continue its upward trajectory well into the next decade.\n",
      "Original language: en\n",
      "Publish date: February 11, 2025 04:31 AM\n",
      "Source:[openPR.com - Open Public Relations Free of Charge](https://www.openpr.com/news/3861088/u-s-plant-based-meat-market-to-reach-usd-14-65-billion-by-2032)\n",
      "\n",
      "\n",
      "\n",
      "```research\n",
      "## Key Historical Trends and Current Status\n",
      "\n",
      "- In 2019, the U.S. plant-based meat market was valued at $801 million, based on SPINS data for the year ending April 2019[1].\n",
      "- Between 2017 and 2019, annual growth rates averaged 11–12% (from $584M in 2017 to $801M in 2019)[1].\n",
      "- As of 2021, North America’s plant-based meat market was estimated at $1.76 billion (not U.S.-only), projected to reach $4.98 billion by 2028, implying a 16% CAGR for the region[5].\n",
      "- Statista’s U.S.-specific forecast estimates the market at $1.43 billion in 2025, with a 2.81% CAGR from 2025 to 2030[1].\n",
      "\n",
      "## Reference Case Comparisons\n",
      "\n",
      "| Case                | Value Year | Market Size | CAGR      | Notes                                          |\n",
      "|---------------------|------------|-------------|-----------|------------------------------------------------|\n",
      "| SPINS (U.S.)        | 2019       | $801M       | ~11–12%   | Historical, retail only                        |\n",
      "| Statista (U.S.)     | 2025       | $1.43B      | 2.81%     | Lower growth forecast for late 2020s           |\n",
      "| BusinessMarket (N.A.)| 2021–2028 | $1.76B → $4.98B | 16%   | North America, possibly overstates U.S. growth |\n",
      "\n",
      "## Key Differences Affecting the Forecast\n",
      "\n",
      "- **Slowing Growth:** The growth rate is projected to decline from the double-digit pace of the late 2010s to low-to-mid single digits by 2025–2030 according to Statista[1].\n",
      "- **Market Maturity:** Early rapid growth may have been driven by novelty, new product launches, and increased distribution; as the market matures, growth is expected to slow.\n",
      "- **Regional Scope:** Some projections are for North America, not the U.S. alone, so require adjustment downward for the U.S.-only market.\n",
      "- **Inflation Adjustment:** All figures should be in 2019 dollars, but most recent forecasts do not specify real vs. nominal terms, introducing some uncertainty.\n",
      "- **SPINS Methodology:** If the methodology for measuring the market changes substantially, estimates may not be directly comparable.\n",
      "\n",
      "## Adjusted Probabilistic Assessment\n",
      "\n",
      "### Calculation Approach\n",
      "\n",
      "1. **Baseline:** $801M in 2019 (SPINS, U.S. only).\n",
      "2. **Growth Rate:** \n",
      "   - Historical (2017–2019): ~12% CAGR.\n",
      "   - North America projection (2021–2028): 16% CAGR[5].\n",
      "   - Statista (U.S., 2025–2030): 2.81% CAGR[1].\n",
      "3. **Best Estimate for U.S. (2023–2028):** Given decelerating growth, a blended CAGR between 6–10% is plausible, recognizing that North America’s 16% likely overstates U.S.-only growth for the late 2020s.\n",
      "\n",
      "### Scenario Modeling\n",
      "\n",
      "- **Low Case (3% CAGR):** $1,260M (2023) × (1.03^5) ≈ $1,460M (2028, in nominal USD)\n",
      "- **Base Case (7% CAGR):** $1,260M (2023) × (1.07^5) ≈ $1,770M (2028, in nominal USD)\n",
      "- **High Case (12% CAGR):** $1,260M (2023) × (1.12^5) ≈ $2,220M (2028, in nominal USD)\n",
      "\n",
      "(Assuming $1,260M for 2023, an extrapolation from $801M in 2019 at 12% CAGR to 2023, then projecting forward.)\n",
      "\n",
      "- **Adjustment to 2019 dollars:** If cumulative inflation from 2019–2028 is about 20% (2% per year average), then adjust down by ~17% (divide by 1.2).\n",
      "\n",
      "### Final Probabilistic Forecast\n",
      "\n",
      "- **60% probability:** U.S. market for plant-based meat will be $1,400M–$1,600M (2019 USD) in the year ending April 2028.\n",
      "- **30% probability:** Exceeds $1,600M (2019 USD), up to $2,000M, if higher adoption resumes.\n",
      "- **10% probability:** Falls below $1,400M (2019 USD), if category stagnates.\n",
      "\n",
      "## Limitations and Uncertainties\n",
      "\n",
      "- Forecasts depend on consumer adoption, innovation, and competitive pressures.\n",
      "- Methodological changes in SPINS reporting could affect comparability.\n",
      "- Market shocks (e.g., regulatory changes, new entrants) could accelerate or slow growth.\n",
      "- Inflation adjustment is an estimate; actual CPI may differ.\n",
      "\n",
      "## References\n",
      "\n",
      "1. [Meat Substitutes - United States | Statista Market Forecast](https://www.statista.com/outlook/cmo/food/meat/meat-substitutes/united-states)\n",
      "2. [North America Plant-Based Meat Products Market to 2028](https://www.businessmarketinsights.com/reports/north-america-plant-based-meat-products-market)\n",
      "3. [Plant-based Meat Market Size, Share & Growth Report, 2030](https://www.grandviewresearch.com/industry-analysis/plant-based-meat-market)\n",
      "4. [Plant-based Meat Market Size, Share, Growth Report](https://www.arizton.com/market-reports/plant-based-meat-market-size-analysis)\n",
      "```\n",
      "\n",
      "Using the title, news and research, make a forecast according to the formulas you derived in the previous prompt response.\n",
      "If the Python function has multiple variables, assess each variable individually and then use the function to compute the measure.\n",
      "\n",
      "The last thing you write is your final answer as this sequence of percentile levels in percent and values as floating point numbers without currency symbols, commas or spelled out numbers like \"trillion\", just the raw complete number:\n",
      "\"\n",
      "Percentile 10: XX\n",
      "Percentile 20: XX\n",
      "Percentile 40: XX\n",
      "Percentile 60: XX\n",
      "Percentile 80: XX\n",
      "Percentile 90: XX\n",
      "\"\n",
      "Each line of the final answer MUST START with the word \"Percentile\".  For example if you have \"10: 201\" instead of \"Percentile 10: 201\", that is wrong.\n",
      "\n",
      "PLEASE REMEMBER THAT THE ANSWER MUST BE IN THE TERMS REQUESTED BY THE PROBLEM.  \n",
      "A QUICK CORRECTNESS CHECK IS THAT YOUR ANSWER MUST LIE BETWEEN THE MINIMUM AND MAXIMUM VALUES SPECIFIED.  \n",
      "THE REQUESTED TERMS ARE AS FOLLOWS:\n",
      "\n",
      "```terms\n",
      "a. The minimum value for the answer is **800.0** (as per the SCALE provided in the text).\n",
      "\n",
      "b. The maximum value for the answer is **100,000.0** (as per the SCALE provided in the text).\n",
      "\n",
      "c. There is no explicit formula provided in the text for calculating the future market value of plant-based meat in the U.S. in 2028. The resolution criteria rely on SPINS data, which is not directly provided or described in a formulaic way.\n",
      "\n",
      "d. Since no formula is explicitly given, we cannot write a Python function for it. However, if we were to estimate the future market value based on historical growth rates (as mentioned in the text), we could use a simple compound annual growth rate (CAGR) approach. Here’s a hypothetical Python function based on that assumption:\n",
      "\n",
      "```python\n",
      "def estimate_future_market_value(initial_value, growth_rate, years):\n",
      "    \"\"\"\n",
      "    Estimates the future market value using compound annual growth rate (CAGR).\n",
      "\n",
      "    Parameters:\n",
      "    - initial_value (float): The initial market value (e.g., $801M in 2019).\n",
      "    - growth_rate (float): The annual growth rate (e.g., 11% or 0.11).\n",
      "    - years (int): The number of years into the future to estimate (e.g., 2028 - 2019 = 9 years).\n",
      "\n",
      "    Returns:\n",
      "    - float: The estimated future market value in millions of 2019 USD.\n",
      "    \"\"\"\n",
      "    future_value = initial_value * (1 + growth_rate) ** years\n",
      "    return future_value\n",
      "\n",
      "# Example usage:\n",
      "initial_value = 801  # $801M in 2019\n",
      "growth_rate = 0.11   # 11% annual growth rate\n",
      "years = 9            # From 2019 to 2028\n",
      "estimated_value = estimate_future_market_value(initial_value, growth_rate, years)\n",
      "print(f\"Estimated future market value: ${estimated_value:.2f}M\")\n",
      "```\n",
      "\n",
      "### Notes:\n",
      "1. This is a hypothetical function based on the assumption that the market will continue to grow at the same rate as observed in the past (11% annually). The actual future value will depend on SPINS data, which may not follow this simple growth model.\n",
      "2. The function does not account for inflation adjustments or changes in SPINS methodology, as these would require more specific data or additional assumptions.\n",
      "3. The resolution criteria emphasize that the answer should be based on SPINS data, so this function is only a rough estimate and not a substitute for the actual SPINS data.\n",
      "```\n",
      "\n"
     ]
    }
   ],
   "source": [
    "print(prompt2)"
   ]
  },
  {
   "cell_type": "code",
   "execution_count": 35,
   "id": "ecd4d27f-55e7-42ef-a509-29557925d423",
   "metadata": {},
   "outputs": [
    {
     "name": "stdout",
     "output_type": "stream",
     "text": [
      "START model mistral-small3.2:24b-instruct-2506-q4_K_M\n",
      "model mistral-small3.2:24b-instruct-2506-q4_K_M minutes 4.783025630315145\n",
      "START model mistral-small3.2:24b-instruct-2506-q4_K_M\n",
      "model mistral-small3.2:24b-instruct-2506-q4_K_M minutes 4.896182092030843\n",
      "START model mistral-small3.2:24b-instruct-2506-q4_K_M\n",
      "model mistral-small3.2:24b-instruct-2506-q4_K_M minutes 5.349415183067322\n"
     ]
    }
   ],
   "source": [
    "answer_mistral = call_local_llm(prompt2, model_mistral)\n",
    "\n",
    "answer_mistral2 = call_local_llm(prompt2, model_mistral)\n",
    "\n",
    "answer_mistral3 = call_local_llm(prompt2, model_mistral)"
   ]
  },
  {
   "cell_type": "code",
   "execution_count": 36,
   "id": "db24ee66-0737-4355-a6e4-8d78685c147b",
   "metadata": {},
   "outputs": [],
   "source": [
    "from extract_forecast import extract_percentile_numbers"
   ]
  },
  {
   "cell_type": "code",
   "execution_count": 37,
   "id": "aa6ae250-740e-4a61-8ea3-22bd126193b8",
   "metadata": {},
   "outputs": [],
   "source": [
    "forecasts = [extract_percentile_numbers(x) for x in [answer_mistral, answer_mistral2, answer_mistral3]]"
   ]
  },
  {
   "cell_type": "code",
   "execution_count": 38,
   "id": "39a7d073-9f08-4896-bedb-f44032c25e70",
   "metadata": {},
   "outputs": [
    {
     "data": {
      "text/plain": [
       "[{10: 1050.0, 20: 1150.0, 40: 1300.0, 60: 1550.0, 80: 1800.0, 90: 2220.0},\n",
       " {10: 1054.1, 20: 1165.3, 40: 1270.4, 60: 1376.6, 80: 1778.5, 90: 2080.4},\n",
       " {10: 1120.0, 20: 1300.0, 40: 1570.0, 60: 2010.0, 80: 2220.0, 90: 2800.0}]"
      ]
     },
     "execution_count": 38,
     "metadata": {},
     "output_type": "execute_result"
    }
   ],
   "source": [
    "forecasts"
   ]
  },
  {
   "cell_type": "code",
   "execution_count": 39,
   "id": "159c7b93-7ca6-4089-b15f-f9de732d0f52",
   "metadata": {},
   "outputs": [],
   "source": [
    "from median_dictionaries import median_dictionaries"
   ]
  },
  {
   "cell_type": "code",
   "execution_count": 40,
   "id": "fdec48e4-3576-448f-b3b9-1319bef933aa",
   "metadata": {},
   "outputs": [],
   "source": [
    "forecast = median_dictionaries(forecasts)"
   ]
  },
  {
   "cell_type": "code",
   "execution_count": 41,
   "id": "68503cc0-0fcf-4713-9da2-3f1827b5087a",
   "metadata": {},
   "outputs": [
    {
     "data": {
      "text/plain": [
       "{10: 1054.1, 20: 1165.3, 40: 1300.0, 60: 1550.0, 80: 1800.0, 90: 2220.0}"
      ]
     },
     "execution_count": 41,
     "metadata": {},
     "output_type": "execute_result"
    }
   ],
   "source": [
    "forecast"
   ]
  },
  {
   "cell_type": "code",
   "execution_count": 42,
   "id": "f2c7e373-03e2-484b-91bb-5dee34d5104e",
   "metadata": {},
   "outputs": [],
   "source": [
    "prompt = f\"\"\"\n",
    "Summarize the gist pf the rationale or thinking of the following answers from 3 different forecasters to a single problem. \n",
    "\n",
    "```forecast 1\n",
    "{answer_mistral}\n",
    "```\n",
    "\n",
    "```forecast 2\n",
    "{answer_mistral2}\n",
    "```\n",
    "\n",
    "```forecast 3\n",
    "{answer_mistral3}\n",
    "```\n",
    "\n",
    "DO NOT REFER TO THE 3 FORECASTERS.  PRESENT THIS AS YOUR OWN THINKING, YOUR OWN RATIONALE.  Use as your final the median forecast which is\n",
    "\n",
    "```median forecast\n",
    "{forecast}\n",
    "```\n",
    "\"\"\""
   ]
  },
  {
   "cell_type": "code",
   "execution_count": 43,
   "id": "aa5934ed-07b0-49f4-89e5-d4b151677c2a",
   "metadata": {},
   "outputs": [
    {
     "name": "stdout",
     "output_type": "stream",
     "text": [
      "START model mistral-small3.2:24b-instruct-2506-q4_K_M\n",
      "model mistral-small3.2:24b-instruct-2506-q4_K_M minutes 3.5563150962193806\n"
     ]
    }
   ],
   "source": [
    "rationale = call_local_llm(prompt, model_mistral)"
   ]
  },
  {
   "cell_type": "code",
   "execution_count": 44,
   "id": "e730a688-3cf3-400f-b65d-a733eac497d3",
   "metadata": {},
   "outputs": [
    {
     "name": "stdout",
     "output_type": "stream",
     "text": [
      "To forecast the future market value of plant-based meat in the U.S. in 2028, I will use the compound annual growth rate (CAGR) approach based on historical data. Here's the step-by-step reasoning:\n",
      "\n",
      "### Key Data Points:\n",
      "1. **Initial Value (2019):** $801 million (from SPINS data).\n",
      "2. **Historical Growth Rate (2017–2019):** 11–12% CAGR.\n",
      "3. **Projected Growth Rate (2025–2030):** 2.81% CAGR (from Statista).\n",
      "4. **Years to Project:** 2019 to 2028 = 9 years.\n",
      "\n",
      "### Assumptions:\n",
      "- We'll use a blended growth rate to account for decelerating growth. A reasonable midpoint is 7% CAGR for the first 5 years (2019–2024) and 3% CAGR for the next 4 years (2024–2028).\n",
      "- Inflation adjustment is not applied here, as the problem does not specify it.\n",
      "\n",
      "### Calculation:\n",
      "1. **First 5 Years (2019–2024):**\n",
      "   - Future Value = $801M * (1 + 0.07)^5 ≈ $1,120M.\n",
      "2. **Next 4 Years (2024–2028):**\n",
      "   - Future Value = $1,120M * (1 + 0.03)^4 ≈ $1,260M.\n",
      "\n",
      "### Probabilistic Forecast:\n",
      "We'll model the uncertainty by varying the growth rates:\n",
      "- **Low Case (3% CAGR):** $801M * (1.03)^9 ≈ $1,050M.\n",
      "- **Base Case (7% CAGR):** $801M * (1.07)^9 ≈ $1,550M.\n",
      "- **High Case (12% CAGR):** $801M * (1.12)^9 ≈ $2,220M.\n",
      "\n",
      "### Final Answer:\n",
      "Based on the probabilistic assessment, the forecasted market value of plant-based meat in the U.S. in 2028 is:\n",
      "\n",
      "```median forecast\n",
      "{10: 1054.1, 20: 1165.3, 40: 1300.0, 60: 1550.0, 80: 1800.0, 90: 2220.0}\n",
      "```\n"
     ]
    }
   ],
   "source": [
    "print(rationale)"
   ]
  },
  {
   "cell_type": "code",
   "execution_count": 45,
   "id": "c755e36f-b4e0-4365-b1c2-8ace6c787711",
   "metadata": {},
   "outputs": [],
   "source": [
    "row.forecast = rationale"
   ]
  },
  {
   "cell_type": "code",
   "execution_count": 46,
   "id": "0845b771-1ca2-4b20-8321-316c7bf4ef39",
   "metadata": {},
   "outputs": [],
   "source": [
    "row.prediction = forecast"
   ]
  },
  {
   "cell_type": "code",
   "execution_count": 47,
   "id": "4afa82f0-c230-4553-b163-f6fd7baf55f8",
   "metadata": {},
   "outputs": [
    {
     "data": {
      "text/plain": [
       "{10: 979.8762472281021,\n",
       " 20: 2004.4326826429779,\n",
       " 40: 3296.5149388407367,\n",
       " 60: 5427.301502268182,\n",
       " 80: 11280.270569827479,\n",
       " 90: 23522.984940687176}"
      ]
     },
     "execution_count": 47,
     "metadata": {},
     "output_type": "execute_result"
    }
   ],
   "source": [
    "row.crowd"
   ]
  },
  {
   "cell_type": "code",
   "execution_count": 48,
   "id": "babd53b4-f064-48a4-8604-410d55dd9700",
   "metadata": {},
   "outputs": [],
   "source": [
    "from error import error"
   ]
  },
  {
   "cell_type": "code",
   "execution_count": 49,
   "id": "f03e7094-7ea0-4047-be90-44c6fc0cf8ad",
   "metadata": {},
   "outputs": [
    {
     "data": {
      "text/plain": [
       "0.6738770473449628"
      ]
     },
     "execution_count": 49,
     "metadata": {},
     "output_type": "execute_result"
    }
   ],
   "source": [
    "error(row)"
   ]
  },
  {
   "cell_type": "code",
   "execution_count": null,
   "id": "5047bad9-5ed3-48aa-ab12-154d38e591d4",
   "metadata": {},
   "outputs": [],
   "source": []
  }
 ],
 "metadata": {
  "kernelspec": {
   "display_name": "Python 3 (ipykernel)",
   "language": "python",
   "name": "python3"
  },
  "language_info": {
   "codemirror_mode": {
    "name": "ipython",
    "version": 3
   },
   "file_extension": ".py",
   "mimetype": "text/x-python",
   "name": "python",
   "nbconvert_exporter": "python",
   "pygments_lexer": "ipython3",
   "version": "3.12.3"
  }
 },
 "nbformat": 4,
 "nbformat_minor": 5
}
