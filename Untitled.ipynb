{
 "cells": [
  {
   "cell_type": "code",
   "execution_count": 1,
   "id": "3fd02dc3-b286-4765-9d97-36700399ceac",
   "metadata": {},
   "outputs": [],
   "source": [
    "from load_secrets import load_secrets\n",
    "load_secrets()"
   ]
  },
  {
   "cell_type": "code",
   "execution_count": 2,
   "id": "e09b1498-9d89-4942-b2d4-18ce9437f448",
   "metadata": {},
   "outputs": [
    {
     "name": "stdout",
     "output_type": "stream",
     "text": [
      "loaded 1181\n"
     ]
    }
   ],
   "source": [
    "from pickle_objects import *\n",
    "qfn = 'all_questions.pkl'\n",
    "q2 = unpickle_objects(qfn)\n",
    "print(\"loaded\", len(q2))"
   ]
  },
  {
   "cell_type": "code",
   "execution_count": null,
   "id": "9461f61c-c830-4f28-8d65-8ff7908d225c",
   "metadata": {},
   "outputs": [],
   "source": [
    "def unpack(qv):\n",
    "    flds = ['id', 'description', 'created_at', 'question"
   ]
  },
  {
   "cell_type": "code",
   "execution_count": 3,
   "id": "c2d099f0-e2e3-45ca-86c8-cf2624fd8930",
   "metadata": {},
   "outputs": [
    {
     "data": {
      "text/plain": [
       "{None, 'ambiguous', 'annulled', 'no', 'yes'}"
      ]
     },
     "execution_count": 3,
     "metadata": {},
     "output_type": "execute_result"
    }
   ],
   "source": [
    "set([q['question']['resolution'] for q in q2])"
   ]
  },
  {
   "cell_type": "code",
   "execution_count": null,
   "id": "0a27c3d6-d906-4f63-a169-b44dc56aa467",
   "metadata": {},
   "outputs": [],
   "source": [
    "qv=q2[-1]"
   ]
  },
  {
   "cell_type": "code",
   "execution_count": null,
   "id": "fe8d9783-6f35-4ba9-9842-137e4804cce1",
   "metadata": {},
   "outputs": [],
   "source": [
    "import pprint\n",
    "# Limit to 2 levels deep\n",
    "pp = pprint.PrettyPrinter(depth=2)\n",
    "pp.pprint(qv)"
   ]
  },
  {
   "cell_type": "code",
   "execution_count": null,
   "id": "9edc750c-a5dc-4234-bbd9-23664c06d08b",
   "metadata": {},
   "outputs": [],
   "source": [
    "len(q2)"
   ]
  },
  {
   "cell_type": "code",
   "execution_count": 4,
   "id": "291cea9e-b1e3-44c0-b55c-871205da33fb",
   "metadata": {},
   "outputs": [],
   "source": [
    "ids = [q['id'] for q in q2]"
   ]
  },
  {
   "cell_type": "code",
   "execution_count": 5,
   "id": "464ea447-534d-45a5-aea3-1002a8cdc7a8",
   "metadata": {},
   "outputs": [
    {
     "data": {
      "text/plain": [
       "False"
      ]
     },
     "execution_count": 5,
     "metadata": {},
     "output_type": "execute_result"
    }
   ],
   "source": [
    "37246 in ids"
   ]
  },
  {
   "cell_type": "code",
   "execution_count": 6,
   "id": "f2af8582-95b1-42bb-a32c-7d0875455d88",
   "metadata": {},
   "outputs": [
    {
     "ename": "NameError",
     "evalue": "name 'sort' is not defined",
     "output_type": "error",
     "traceback": [
      "\u001b[31m---------------------------------------------------------------------------\u001b[39m",
      "\u001b[31mNameError\u001b[39m                                 Traceback (most recent call last)",
      "\u001b[36mCell\u001b[39m\u001b[36m \u001b[39m\u001b[32mIn[6]\u001b[39m\u001b[32m, line 1\u001b[39m\n\u001b[32m----> \u001b[39m\u001b[32m1\u001b[39m \u001b[43msort\u001b[49m(ids)\n",
      "\u001b[31mNameError\u001b[39m: name 'sort' is not defined"
     ]
    }
   ],
   "source": [
    "sort(ids)"
   ]
  },
  {
   "cell_type": "code",
   "execution_count": null,
   "id": "a1247b81-361b-423d-9982-0b5d98bcb0d2",
   "metadata": {},
   "outputs": [],
   "source": [
    "sorted(ids)"
   ]
  },
  {
   "cell_type": "code",
   "execution_count": 10,
   "id": "4c14a52e-719a-4b61-bef2-31f1d789e696",
   "metadata": {},
   "outputs": [
    {
     "data": {
      "text/plain": [
       "[]"
      ]
     },
     "execution_count": 10,
     "metadata": {},
     "output_type": "execute_result"
    }
   ],
   "source": [
    "[x for x in ids if x == 35170]"
   ]
  },
  {
   "cell_type": "code",
   "execution_count": 13,
   "id": "6a3bdf78-fd38-471f-b0df-1e3a4e1012c9",
   "metadata": {},
   "outputs": [],
   "source": [
    "from forecasting_tools import MetaculusApi\n",
    "tourneys=[MetaculusApi.AI_COMPETITION_ID_Q3, \n",
    "          MetaculusApi.AI_COMPETITION_ID_Q4, \n",
    "          MetaculusApi.AI_COMPETITION_ID_Q1, \n",
    "          MetaculusApi.AI_COMPETITION_ID_Q2]   "
   ]
  },
  {
   "cell_type": "code",
   "execution_count": 14,
   "id": "0b2fe5e2-8251-456c-9bc4-ed532600e628",
   "metadata": {},
   "outputs": [
    {
     "data": {
      "text/plain": [
       "[3349, 32506, 32627, 32721]"
      ]
     },
     "execution_count": 14,
     "metadata": {},
     "output_type": "execute_result"
    }
   ],
   "source": [
    "tourneys"
   ]
  },
  {
   "cell_type": "code",
   "execution_count": 15,
   "id": "a248320a-d748-4b48-ab10-f3ff31ad8399",
   "metadata": {},
   "outputs": [],
   "source": [
    "import json"
   ]
  },
  {
   "cell_type": "code",
   "execution_count": 25,
   "id": "33ee51f6-4f23-4f15-99da-aacf70796f72",
   "metadata": {},
   "outputs": [],
   "source": [
    "with open('questions.json', 'r') as f:\n",
    "    questions = json.load(f)"
   ]
  },
  {
   "cell_type": "code",
   "execution_count": 26,
   "id": "dc5980bf-49a9-4b82-8ac5-2043eb7d7eec",
   "metadata": {},
   "outputs": [
    {
     "data": {
      "text/plain": [
       "3"
      ]
     },
     "execution_count": 26,
     "metadata": {},
     "output_type": "execute_result"
    }
   ],
   "source": [
    "len(questions)"
   ]
  },
  {
   "cell_type": "code",
   "execution_count": 27,
   "id": "9c26552d-248e-46f0-8d3e-b287d41156e3",
   "metadata": {},
   "outputs": [
    {
     "data": {
      "text/plain": [
       "dict_keys(['next', 'previous', 'results'])"
      ]
     },
     "execution_count": 27,
     "metadata": {},
     "output_type": "execute_result"
    }
   ],
   "source": [
    "questions.keys()"
   ]
  },
  {
   "cell_type": "code",
   "execution_count": 28,
   "id": "b1e0d11c-a4b0-4da6-8078-bdda7ed2ad85",
   "metadata": {},
   "outputs": [
    {
     "data": {
      "text/plain": [
       "100"
      ]
     },
     "execution_count": 28,
     "metadata": {},
     "output_type": "execute_result"
    }
   ],
   "source": [
    "len(questions['results'])"
   ]
  },
  {
   "cell_type": "code",
   "execution_count": null,
   "id": "62d368d8-11fd-4121-9343-93897c8af724",
   "metadata": {},
   "outputs": [],
   "source": []
  }
 ],
 "metadata": {
  "kernelspec": {
   "display_name": "Python 3 (ipykernel)",
   "language": "python",
   "name": "python3"
  },
  "language_info": {
   "codemirror_mode": {
    "name": "ipython",
    "version": 3
   },
   "file_extension": ".py",
   "mimetype": "text/x-python",
   "name": "python",
   "nbconvert_exporter": "python",
   "pygments_lexer": "ipython3",
   "version": "3.12.3"
  }
 },
 "nbformat": 4,
 "nbformat_minor": 5
}
