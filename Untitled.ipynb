{
 "cells": [
  {
   "cell_type": "code",
   "execution_count": 1,
   "id": "18fcdb6a-da06-4c2b-8a6a-bccc1d644581",
   "metadata": {},
   "outputs": [],
   "source": [
    "from get_temporal_facts import get_temporal_facts"
   ]
  },
  {
   "cell_type": "code",
   "execution_count": 2,
   "id": "372b15c6-2bf9-4688-8f88-719b35df12f5",
   "metadata": {},
   "outputs": [
    {
     "name": "stdout",
     "output_type": "stream",
     "text": [
      "Based on the current date provided (Saturday, May 3rd, 2025), I can determine whether tomorrow is a Saturday by examining the calendar information.\n",
      "\n",
      "According to the search results, today is Saturday, May 3rd, 2025. The day before (May 2nd, 2025) was a Friday and was day 122 of the year 2025[1]. Since today is Saturday, May 3rd, tomorrow would be Sunday, May 4th, 2025.\n",
      "\n",
      "Therefore, tomorrow is not a Saturday; tomorrow is a Sunday.\n",
      "\n",
      "Note that while the query mentions a cutoff date of March 2nd, 2025, the current date provided in the conversation is May 3rd, 2025, which is what I've used to determine the answer.\n"
     ]
    }
   ],
   "source": [
    "from load_secrets import load_secrets\n",
    "load_secrets()\n",
    "\n",
    "import os\n",
    "API_KEY = os.getenv('PERPLEXITY_API_KEY')\n",
    "QUESTION = \"Is tomorrow a Saturday?\"\n",
    "CUTOFF_DATE = \"2025-03-02\" #  YYYY-MM-DD format\n",
    "\n",
    "facts = get_temporal_facts(QUESTION, CUTOFF_DATE, API_KEY)\n",
    "print(facts)"
   ]
  },
  {
   "cell_type": "code",
   "execution_count": null,
   "id": "ff7de4e3-bc85-4ebd-bb59-2ac7deca9a26",
   "metadata": {},
   "outputs": [],
   "source": [
    "print(facts)"
   ]
  },
  {
   "cell_type": "code",
   "execution_count": null,
   "id": "2174f19d-b680-4954-b322-f01da1528505",
   "metadata": {},
   "outputs": [],
   "source": []
  },
  {
   "cell_type": "code",
   "execution_count": 8,
   "id": "79b5aa15-d4f5-4941-831c-6482e952bd0a",
   "metadata": {
    "scrolled": true
   },
   "outputs": [
    {
     "name": "stdout",
     "output_type": "stream",
     "text": [
      "No, tomorrow is not a Saturday. Based on the 2025 calendar, March 3, 2025 (the day after the knowledge cutoff date) is a Monday[2][3]. The calendar for 2025 shows that March 4, 2025 is a Tuesday, which confirms that March 3 must be a Monday[2].\n"
     ]
    }
   ],
   "source": [
    "import dspy\n",
    "import os\n",
    "from datetime import datetime\n",
    "\n",
    "class ProSearchSignature(dspy.Signature):\n",
    "    \"\"\"Generate Perplexity-style answer with strict temporal grounding\"\"\"\n",
    "    question = dspy.InputField()\n",
    "    answer = dspy.OutputField(desc=\"Markdown formatted response with [N] citations\")\n",
    "\n",
    "class ResearchProModule(dspy.Module):\n",
    "    def __init__(self):\n",
    "        super().__init__()\n",
    "        self.generate = dspy.ChainOfThought(ProSearchSignature)\n",
    "    \n",
    "    def forward(self, question, cutoff_date=None):\n",
    "        # Configure API parameters\n",
    "        api_config = {\n",
    "            \"model\": \"sonar-pro\",\n",
    "            \"search_focus\": \"internet\",\n",
    "            \"temperature\": 0.2,\n",
    "            \"max_tokens\": 2000\n",
    "        }\n",
    "        \n",
    "        if cutoff_date:\n",
    "            # Convert to Perplexity's required format\n",
    "            pplx_date = datetime.strptime(cutoff_date, \"%Y-%m-%d\").strftime(\"%m/%d/%Y\")\n",
    "            api_config[\"search_before_date_filter\"] = pplx_date\n",
    "            \n",
    "            # Update question with cutoff context\n",
    "            question += f\" [Knowledge cutoff: {pplx_date}]\"\n",
    "\n",
    "        # Create LM with temporal filtering\n",
    "        lm = dspy.LM(\n",
    "            base_url=\"https://api.perplexity.ai\",\n",
    "            api_key=os.getenv(\"PERPLEXITY_API_KEY\"),\n",
    "            **api_config\n",
    "        )\n",
    "\n",
    "        # System prompt to enforce temporal constraints\n",
    "        system_prompt = (\n",
    "            \"You are a research assistant with knowledge up to {cutoff}. \"\n",
    "            \"Answer using ONLY information available before {cutoff}. \"\n",
    "            \"Format response in markdown with citations. NEVER mention post-cutoff dates.\"\n",
    "        ).format(cutoff=pplx_date if cutoff_date else \"the current date\")\n",
    "\n",
    "        with dspy.context(lm=lm):\n",
    "            response = self.generate(\n",
    "                question=system_prompt + \"\\n\\n\" + question\n",
    "            )\n",
    "            \n",
    "        return response.answer\n",
    "\n",
    "# Usage Test\n",
    "if __name__ == \"__main__\":\n",
    "    bot = ResearchProModule()\n",
    "    \n",
    "    # Test 1: Temporal query with cutoff\n",
    "    result = bot(\n",
    "        question=\"Is tomorrow a Saturday?\",\n",
    "        cutoff_date=\"2025-03-02\"  # Should NOT know about May dates\n",
    "    )\n",
    "    print(result)\n",
    "\n",
    "if 0:\n",
    "    # Test 2: Current query\n",
    "    result = bot(\n",
    "        question=\"What will Donald Trump's 2026 budget look like tomorrow?\"\n",
    "    )\n",
    "    print(result)\n"
   ]
  },
  {
   "cell_type": "code",
   "execution_count": null,
   "id": "f1e639c1-3a97-4f81-995b-8d86b0bead77",
   "metadata": {},
   "outputs": [],
   "source": []
  },
  {
   "cell_type": "code",
   "execution_count": null,
   "id": "da6ff2c3-7065-444b-99c1-480c0a1e77e4",
   "metadata": {},
   "outputs": [],
   "source": []
  },
  {
   "cell_type": "code",
   "execution_count": null,
   "id": "19f082a1-9e9b-4f07-984c-a09e06bd13c3",
   "metadata": {},
   "outputs": [],
   "source": []
  }
 ],
 "metadata": {
  "kernelspec": {
   "display_name": "Python 3 (ipykernel)",
   "language": "python",
   "name": "python3"
  },
  "language_info": {
   "codemirror_mode": {
    "name": "ipython",
    "version": 3
   },
   "file_extension": ".py",
   "mimetype": "text/x-python",
   "name": "python",
   "nbconvert_exporter": "python",
   "pygments_lexer": "ipython3",
   "version": "3.12.3"
  }
 },
 "nbformat": 4,
 "nbformat_minor": 5
}
