{
 "cells": [
  {
   "cell_type": "code",
   "execution_count": 23,
   "id": "83406259-2e85-494a-b8c5-774d56078db1",
   "metadata": {},
   "outputs": [],
   "source": [
    "%matplotlib inline\n",
    "import numpy as np\n",
    "import pandas as pd\n",
    "import matplotlib.pylab as plt\n",
    "import forecasting_tools\n",
    "import joblib\n",
    "question = joblib.load('open/7811.joblib')"
   ]
  },
  {
   "cell_type": "code",
   "execution_count": 34,
   "id": "12a831a0-c75c-423c-9185-d362312548b7",
   "metadata": {},
   "outputs": [],
   "source": [
    "from community_forecast_numeric import community_forecast_numeric"
   ]
  },
  {
   "cell_type": "code",
   "execution_count": 35,
   "id": "f80dfb09-4644-4019-a163-5e6d53cdde87",
   "metadata": {},
   "outputs": [
    {
     "data": {
      "text/plain": [
       "{10: 1.1026943697496483,\n",
       " 20: 1.4767917000858612,\n",
       " 40: 3.3850033147992824,\n",
       " 60: 18.945305664986087,\n",
       " 80: 505.4047046805215,\n",
       " 90: 3366.1074633562034}"
      ]
     },
     "execution_count": 35,
     "metadata": {},
     "output_type": "execute_result"
    }
   ],
   "source": [
    "community_forecast_numeric(question)"
   ]
  }
 ],
 "metadata": {
  "kernelspec": {
   "display_name": "Python 3 (ipykernel)",
   "language": "python",
   "name": "python3"
  },
  "language_info": {
   "codemirror_mode": {
    "name": "ipython",
    "version": 3
   },
   "file_extension": ".py",
   "mimetype": "text/x-python",
   "name": "python",
   "nbconvert_exporter": "python",
   "pygments_lexer": "ipython3",
   "version": "3.12.3"
  }
 },
 "nbformat": 4,
 "nbformat_minor": 5
}
