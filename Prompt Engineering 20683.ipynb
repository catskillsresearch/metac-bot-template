{
 "cells": [
  {
   "cell_type": "markdown",
   "id": "c1f27471-5886-4bc2-acdf-2dac9cf49676",
   "metadata": {},
   "source": [
    "# Prompt engineering on worst econ questions: answer verification, temperature, red/blue, context"
   ]
  },
  {
   "cell_type": "code",
   "execution_count": 1,
   "id": "40c585c9-9d1e-4329-a0ed-f78f53ec8176",
   "metadata": {},
   "outputs": [],
   "source": [
    "%matplotlib inline"
   ]
  },
  {
   "cell_type": "code",
   "execution_count": 2,
   "id": "122c8339-86ea-47c5-8993-033752f69f5d",
   "metadata": {},
   "outputs": [],
   "source": [
    "import pandas as pd\n",
    "pd.set_option('display.max_columns', None)\n",
    "from ollama_models import ollama_models\n",
    "models = ollama_models()"
   ]
  },
  {
   "cell_type": "code",
   "execution_count": 3,
   "id": "70be6a67-c25b-4729-ab99-725f064528d7",
   "metadata": {},
   "outputs": [
    {
     "data": {
      "text/plain": [
       "['mistral-small3.2:24b-instruct-2506-q4_K_M']"
      ]
     },
     "execution_count": 3,
     "metadata": {},
     "output_type": "execute_result"
    }
   ],
   "source": [
    "models"
   ]
  },
  {
   "cell_type": "code",
   "execution_count": 4,
   "id": "a75e3d1e-890d-44d9-b173-18f3afbfbe31",
   "metadata": {},
   "outputs": [],
   "source": [
    "model = models[0]"
   ]
  },
  {
   "cell_type": "code",
   "execution_count": 5,
   "id": "6651ca1a-083f-4ea2-87fa-bc56531f788f",
   "metadata": {},
   "outputs": [],
   "source": [
    "from load_saved_questions import load_saved_questions\n",
    "from call_local_llm import call_local_llm"
   ]
  },
  {
   "cell_type": "code",
   "execution_count": 13,
   "id": "b8b6b1c7-263d-404b-b5be-04c89639ac9d",
   "metadata": {},
   "outputs": [],
   "source": [
    "question = load_saved_questions([20683])[0]"
   ]
  },
  {
   "cell_type": "code",
   "execution_count": 14,
   "id": "552a481e-5a4f-405f-a618-4edf5107d0c9",
   "metadata": {},
   "outputs": [],
   "source": [
    "    from community_forecast import community_forecast\n",
    "    import pandas as pd\n",
    "    from flatten_dict import flatten_dict\n",
    "    from datetime import datetime\n",
    "    from gather_research_and_set_prompt import gather_research_and_set_prompt\n",
    "    from generate_forecasts_and_update_rag import generate_forecasts_and_update_rag\n",
    "    from tqdm import tqdm\n",
    "    import time"
   ]
  },
  {
   "cell_type": "code",
   "execution_count": 15,
   "id": "cc4b0cff-645d-463e-a91d-85e9a2911918",
   "metadata": {},
   "outputs": [
    {
     "name": "stdout",
     "output_type": "stream",
     "text": [
      "START model mistral-small3.2:24b-instruct-2506-q4_K_M id 8509\n"
     ]
    }
   ],
   "source": [
    "    print('START model', model, 'id', id)\n",
    "    start_time = time.time()\n",
    "    questions = [question]\n",
    "    id = question.id_of_question\n",
    "    id_to_forecast = {question.id_of_question: community_forecast(question) for question in questions}\n",
    "    df = pd.DataFrame([flatten_dict(q.api_json, sep='_') for q in questions])\n",
    "    df['id_of_post'] = [q.id_of_post for q in questions]\n",
    "    df['id_of_question'] = [q.id_of_question for q in questions]\n",
    "    df['question_options'] = df['question_options'].apply(repr)\n",
    "    df['today'] = datetime.now().strftime(\"%Y-%m-%d\")\n",
    "    df['crowd'] = df.apply(lambda row: id_to_forecast[row.id_of_question], axis=1)"
   ]
  },
  {
   "cell_type": "code",
   "execution_count": 16,
   "id": "b549d0b5-3a4f-4286-89c1-462c2a01b3c5",
   "metadata": {},
   "outputs": [],
   "source": [
    "    df1 = df[['id_of_question', 'id_of_post', 'today', 'open_time', 'scheduled_resolve_time', 'title',\n",
    "        'question_resolution_criteria', 'question_fine_print', 'question_type', \n",
    "         'question_description',\n",
    "        'question_options', 'question_group_variable', 'question_question_weight',\n",
    "        'question_unit', 'question_open_upper_bound', 'question_open_lower_bound',\n",
    "        'question_scaling_range_max', 'question_scaling_range_min', 'question_scaling_zero_point','crowd']].copy()"
   ]
  },
  {
   "cell_type": "code",
   "execution_count": 17,
   "id": "22294f1d-0065-460d-97b2-65cca83d0d90",
   "metadata": {},
   "outputs": [
    {
     "name": "stdout",
     "output_type": "stream",
     "text": [
      "Loaded existing index from forecast_index.faiss\n",
      "Index contains 5839 vectors at initialization\n"
     ]
    }
   ],
   "source": [
    "    df2, rag = gather_research_and_set_prompt(df1, True, model)"
   ]
  },
  {
   "cell_type": "code",
   "execution_count": 23,
   "id": "80261c3f-b8b1-44f7-9b75-b90be8f25229",
   "metadata": {},
   "outputs": [],
   "source": [
    "df3 = df2[['id_of_question', 'title',\n",
    "        'question_resolution_criteria', 'question_type', 'question_options',\n",
    "         'question_description','crowd',\n",
    "          'research', 'asknews']].copy()"
   ]
  },
  {
   "cell_type": "code",
   "execution_count": 24,
   "id": "d67ccbf7-02aa-4a15-a89e-d76a98532136",
   "metadata": {},
   "outputs": [],
   "source": [
    "row = df3.iloc[0]"
   ]
  },
  {
   "cell_type": "code",
   "execution_count": 25,
   "id": "c54b1448-a2a8-424a-a33f-61b37ad6b165",
   "metadata": {},
   "outputs": [
    {
     "data": {
      "text/plain": [
       "id_of_question                                                              20683\n",
       "title                           Which of Scott Aaronson's five AI worlds will ...\n",
       "question_resolution_criteria    One option will resolve as **Yes**. The rest w...\n",
       "question_type                                                     multiple_choice\n",
       "question_options                ['AI-Fizzle', 'Futurama', 'AI-Dystopia', 'Sing...\n",
       "question_description            Recent times have seen rapid progress in artif...\n",
       "crowd                           {'AI-Fizzle': 0.1271267605633803, 'Futurama': ...\n",
       "research                        ### 1. Key Historical Trends and Current Statu...\n",
       "asknews                         Here are the relevant news articles:\\n\\n**5 Wa...\n",
       "Name: 0, dtype: object"
      ]
     },
     "execution_count": 25,
     "metadata": {},
     "output_type": "execute_result"
    }
   ],
   "source": [
    "row"
   ]
  },
  {
   "cell_type": "code",
   "execution_count": null,
   "id": "a441b75e-e37e-4766-b5bd-24343d116e3e",
   "metadata": {},
   "outputs": [],
   "source": [
    "for item, value in row.items():\n",
    "    print(item.upper())\n",
    "    print()\n",
    "    print(str(value)[0:200])\n",
    "    print('===============================')\n",
    "    print()"
   ]
  },
  {
   "cell_type": "code",
   "execution_count": 33,
   "id": "17775bc2-96c8-4667-87af-63f4c3ffc83c",
   "metadata": {},
   "outputs": [],
   "source": [
    "prompt2 = f\"\"\"\n",
    "You are the intelligence community's best geopolitical, economic and overall news trivia forecaster.  \n",
    "You will analyse and make a prediction about this question:\n",
    "\n",
    "```title\n",
    "{row.title}\n",
    "```\n",
    "\n",
    "You take into consideration this news:\n",
    "\n",
    "```news\n",
    "{row.asknews}\n",
    "\n",
    "You take into consideration also this research:\n",
    "\n",
    "```research\n",
    "{row.research}\n",
    "```\n",
    "\n",
    "This is a multiple choice forecast.  There are N choices.  Each choice is a mutually exclusive event. \n",
    "You supply a forecast giving the percentage likelihood that the given event is likely to occur, to the exclusion of the other events.  \n",
    "The events are:\n",
    "\n",
    "```choices\n",
    "{row.question_options}\n",
    "```\n",
    "\n",
    "We discriminate between the events as follows:\n",
    "\n",
    "```resolution_criteria\n",
    "{row.question_resolution_criteria}\n",
    "```\n",
    "\n",
    "The last thing you write is your final probabilities for the possible events in order as:\n",
    "\n",
    "Choice_A: Probability_A\n",
    "Choice_B: Probability_B\n",
    "...\n",
    "Choice_N: Probability_N\n",
    "\n",
    "where you must assign your probabilities so they add up to 100: Probability_A + Probability_B + ... + Probability_N = 100.\n",
    "\"\"\""
   ]
  },
  {
   "cell_type": "code",
   "execution_count": 34,
   "id": "0c61abbd-ff80-43a7-8244-ac213fbf2107",
   "metadata": {},
   "outputs": [
    {
     "name": "stdout",
     "output_type": "stream",
     "text": [
      "\n",
      "You are the intelligence community's best geopolitical, economic and overall news trivia forecaster.  \n",
      "You will analyse and make a prediction about this question:\n",
      "\n",
      "```title\n",
      "Which of Scott Aaronson's five AI worlds will come to pass?\n",
      "```\n",
      "\n",
      "You take into consideration this news:\n",
      "\n",
      "```news\n",
      "Here are the relevant news articles:\n",
      "\n",
      "**5 Ways To Use AI To Earn and Save an Extra $100,000 for Retirement**\n",
      "Artificial intelligence (AI) can be a valuable tool in saving an extra $100,000 for retirement. By using AI for budgeting, career advancement, and side hustles, individuals can better manage their finances, increase their productivity, and earn more. According to Aaron Razon, a budgeting expert, AI can make expense tracking less tedious and more efficient, allowing consumers to seal financial leaks. Additionally, AI can help users brainstorm job and career ideas, create bespoke AI art, and manage side hustles, such as creating a media site that can earn over $100,000 in a few years with Google Ads and affiliate links.\n",
      "Original language: en\n",
      "Publish date: June 02, 2025 07:39 PM\n",
      "Source:[Yahoo! Finance](https://finance.yahoo.com/news/5-ways-ai-earn-save-110041941.html)\n",
      "\n",
      "**Yankees' Aaron Judge makes admission on 2024 World Series error against Dodgers**\n",
      "New York Yankees' star Aaron Judge reflected on his error in Game 5 of the 2024 World Series, where he dropped a fly ball in center field, allowing the Los Angeles Dodgers to win the series in five games. When speaking to Bob Nightengale of USA Today, Judge acknowledged that the error is something he thinks about, but emphasized that it's baseball and mistakes happen. He noted, 'Stuff like that happens. I've just got to make the play. There were five other plays after that could have changed the course of that.' Judge demonstrated a professional mindset by dismissing the error and focusing on making the next play, saying, 'Once the play is over with, there's nothing you can do about it. Go out and make the next play. That's what it really all comes down to.'\n",
      "Original language: en\n",
      "Publish date: June 02, 2025 05:40 PM\n",
      "Source:[Sporting News](https://www.sportingnews.com/us/mlb/new-york-yankees/news/yankees-aaron-judge-admission-2024-world-series-dodgers/2ceff2c22c78941d34d0c61e)\n",
      "\n",
      "**Fiverr CEO Micha Kaufman Warns His Employees: 'AI Is Coming For Your Jobs. It's Coming From My Job Too. This Is A Wake Up Call' - Fiverr Intl (NYSE:FVRR)**\n",
      "Fiverr CEO Micha Kaufman warned his employees that AI is coming for their jobs, including his own. He encouraged them to automate repetitive tasks and focus on uniquely human strengths, such as non-linear thinking and judgment calls. Kaufman believes AI will force people to double down on their human capabilities, rather than erasing humanity from work. LinkedIn's Aneesh Raman also sounded the alarm, citing AI's replacement of entry-level jobs like junior software engineers and retail associates. Raman warned that college graduates are feeling the pressure hardest, with unemployment among them rising to 30% since 2022. He suggested that companies must rethink entry-level work and give new hires higher-level responsibilities, using AI to augment, not replace, them.\n",
      "Original language: en\n",
      "Publish date: June 02, 2025 02:45 PM\n",
      "Source:[Benzinga](https://www.benzinga.com/news/topics/25/06/45724431/fiverr-ceo-micha-kaufman-warns-his-employees-ai-is-coming-for-your-jobs-its-coming-from-my-job-too-this-is-a-wake-up-call)\n",
      "\n",
      "**Fiverr CEO Micha Kaufman Warns His Employees: 'AI Is Coming For Your Jobs. It's Coming From My Job Too. This Is A Wake Up Call'**\n",
      "Fiverr CEO Micha Kaufman warned his employees that artificial intelligence (AI) is coming for their jobs, including his own. In a company-wide email, Kaufman wrote, 'AI is coming for your jobs. Heck, it's coming for my job too. This is a wake-up call.' He encouraged employees to embrace AI as a tool to increase output and quality, saying it should feel like gaining 'superpowers.' Kaufman believes AI will force people to double down on their uniquely human strengths, rather than erasing humanity from work. He urged his team to automate 100% of their repetitive tasks, freeing up time for non-linear thinking, judgment calls, and other tasks that require human capabilities. This warning is echoed by others in the industry, including LinkedIn's Aneesh Raman, who wrote that AI is already replacing entry-level jobs like junior software engineers and retail associates. According to LinkedIn data, 40% of Gen Z workers would be willing to take a 2 to 5 percent pay cut for more advancement opportunities.\n",
      "Original language: en\n",
      "Publish date: June 02, 2025 02:45 PM\n",
      "Source:[Yahoo! Finance](https://finance.yahoo.com/news/fiverr-ceo-micha-kaufman-warns-144516541.html)\n",
      "\n",
      "**Mandelson: Tariffs are just the beginning, AI is the key to the future**\n",
      "Peter Mandelson, the British Ambassador to the US, has stated that tariffs are just the beginning. He believes that the Trump administration wants to go beyond trade and establish a technological alliance between the two countries. Mandelson, known as the 'Prince of Darkness', has been a key figure in promoting globalization and the US-led order. However, he now argues that the era of hyperglobalization is over and that the world is entering a new era of power, where national economies and protectionism are on the rise. He believes that China is a major threat and that the UK must reorganize its economy to defend itself. Mandelson sees artificial intelligence as a solution to the problems faced by Western societies and believes that the UK should focus on developing its AI capabilities, particularly in Silicon Valley. He also thinks that the new relationship between the UK and the US should be centered around AI and that it should be used to drive economic growth and improve public services. This new approach is a significant departure from Mandelson's previous views on globalization and highlights the changing landscape of international relations.\n",
      "Original language: es\n",
      "Publish date: June 02, 2025 03:06 AM\n",
      "Source:[El Confidencial](https://www.elconfidencial.com/economia/2025-06-02/trump-comercio-ia-tecnocracia-china-embajador_4141390/)\n",
      "\n",
      "**Odyssey Develops AI Model for Interactive 3D Video Worlds**\n",
      "Odyssey, a startup company specializing in artificial intelligence technology, has developed a new AI model that allows users to 'interact' with videos in real-time. According to TechCrunch, the company has released a 'beta version' of the AI model, which generates and broadcasts a new video frame every 40 milliseconds (equivalent to one-thousandth of a second). Through basic control tools, viewers can explore multiple areas within the video, similar to 3D video games. Odyssey stated, 'Considering the current state of the video world being broadcast and the next development, and recording the history of cases and events in the video, the model attempts to predict the expected shape of the video world.' This model relies on a new global model, which demonstrates capabilities such as generating realistic pixel units, maintaining spatial coherence, learning video actions, and producing and broadcasting cohesive videos for 5 minutes or more. Many startups and major tech companies, including DeepMind, World Lab, Microsoft, and Dicart, are working on developing AI models of the world. They believe that these models could be used to create interactive media, such as games and films, and to conduct realistic simulations of training environments for artificial intelligence systems. However, the opinions of creators are mixed, as a recent investigation by Wired revealed that game development studios, which have laid off dozens of employees, are using AI to reduce costs.\n",
      "Original language: ar\n",
      "Publish date: June 01, 2025 08:16 PM\n",
      "Source:[البيان](https://www.albayan.ae/technology/tech-radar/emerging-technologies/82568)\n",
      "\n",
      "**Fears AI will leave Earth with population ‘the size of UK’ by 2300 & turn entire countries into apocalyptic wastelands**\n",
      "Computer science professor Subhash Kak warns that AI will lead to a population collapse, shrinking the world's population to 100 million by 2300, which is roughly the size of the UK's current population. He believes that AI will replace 'literally everything' that humans do, including decision-making in offices, leading to a devastating impact on society. Kak points out that demographers are predicting a population collapse due to AI, and that the great cities of the world will be abandoned if the population shrinks to 100 million. He also notes that birth rates are already plummeting due to people's reluctance to have children who will likely be unemployed in adult life. Kak refuses to rule out the possibility of human extinction due to AI and declining birth rates, and suggests that Elon Musk's idea of colonizing space may be a viable option to ensure humanity's survival.\n",
      "Original language: en\n",
      "Publish date: June 01, 2025 10:28 AM\n",
      "Source:[thesun.co.uk](https://www.thesun.co.uk/tech/35208054/ai-population-size-uk-ghost-towns/)\n",
      "\n",
      "**Odyssey Launches Interactive 3D World Generator Using AI**\n",
      "Odyssey, a startup, has launched a test version of an interactive video technology generated entirely by artificial intelligence in real-time. The technology uses GPU H100 clusters in the US and Europe to generate new frames every 40 milliseconds based on user actions and frame history. In the demo version, several locations are available: a forest with a cabin, a shopping center, and a parking lot in front of a building. Each user input slightly changes the details of the world, but the image quality remains 'blurred, like in Google Street View.' Users control movement through the keyboard, and sometimes errors occur: for example, a fence can stop movement, while passing through a house is possible. If the user is inactive, the camera may randomly shift. The developers noted that improving image quality will take time, and problems with textures and sounds will be solved using neural network filters. Although the current version cannot replace video games or movies due to instability and distracting details, it demonstrates high potential.\n",
      "Original language: ru\n",
      "Publish date: May 30, 2025 12:35 PM\n",
      "Source:[devby.io](https://devby.io/news/ii-startap-zapustil-generator-3d-mirov-mozhno-gulyat-kak-v-google-kartah)\n",
      "\n",
      "**The Six Five Summit: AI Unleashed 2025 Explores the Future of Artificial Intelligence**\n",
      "The Six Five Summit: AI Unleashed 2025 will take place virtually from June 16-19, 2025, and will explore the transformative power of artificial intelligence and its impact across various industries. The summit will feature insights from top tech executives and industry analysts, with sessions covering 14 different track topics, including AI with automotive, DevOps, cloud infrastructure, and more. Patrick Moorhead, Founder, CEO, and Chief Analyst at Moor Insights & Strategy, said, 'We're excited to present a dynamic and comprehensive program that addresses the most pressing questions and exciting possibilities in the world of AI.' The summit will also feature keynote speakers, including Michael Dell, Rene Hass, and Aaron Levie, and will provide insider perspectives on the next wave of AI innovation. Sessions will span critical industry sectors, including Semiconductors, Devices, Cloud, and Cybersecurity, and examine their intersection with pivotal AI trends such as Agentic AI, Co-Pilots, Frontier Models, and SLMs. Registration for The Six Five Summit: AI Unleashed 2025 is now open. 'AI is rapidly evolving, reshaping industries and creating unprecedented opportunities,' said Daniel Newman, Founding Partner of Six Five Media and CEO of The Futurum Group. 'The Six Five Summit: AI Unleashed will bring together the brightest minds in technology to explore the latest advancements, challenges, and opportunities in AI.' \n",
      "Original language: en\n",
      "Publish date: May 12, 2025 12:10 PM\n",
      "Source:[GlobeNewswire Press Releases](https://www.globenewswire.com/news-release/2025/05/12/3079104/0/en/The-Six-Five-Summit-AI-Unleashed-2025-Explores-the-Future-of-Artificial-Intelligence.html)\n",
      "\n",
      "**Redefining Gaming with ChatGPT-Powered AI Worlds Built By ShadowThorn Studios**\n",
      "ShadowThorn Studios is revolutionizing the gaming industry with their ChatGPT-powered AI worlds. By turning the Large Language Model (LLM) into the game engine, they are creating immersive experiences where AI serves as a guide and players' imagination fuels the gameplay. Unlike traditional custom GPTs, which are limited to answering questions or automating tasks, ShadowThorn Studios' AI-driven RPG worlds allow players to shape the narrative, conquer quests, and experience dynamic gameplay. According to the studio, their AI becomes 'your guide, and your imagination fuels the gameplay.' \n",
      "Original language: en\n",
      "Publish date: May 12, 2025 02:43 AM\n",
      "Source:[Medium.com](https://medium.com/@tripwireonfire/redefining-gaming-with-chatgpt-powered-ai-worlds-built-by-shadowthorn-studios-94b9f0c43c51)\n",
      "\n",
      "**Upheaval launches Dreamer Portal early access for AI-powered 3D game world creation**\n",
      "Upheaval Games, a company founded by industry veterans, has launched the Dreamer Portal, a free web-based tool that uses AI to empower anyone to design immersive game content. The tool can create creatures, items, worlds, and props from a single prompt, and integrates with Unreal Engine and Unity. Upheaval's CEO, Jeff Goodsill, said that the tool will eliminate tasks like scripting character behaviors and instead use agents who generate evolving narratives. The company's head of product, Aaron Moon, demonstrated the tool's capabilities, showing how it can create fully agentic NPCs with rich meta, descriptions, personalities, and moralities. Moon said that the tool will allow for user-generated content with high fidelity, similar to Roblox, and that it will be available on a marketplace. The company is starting to do sign-ups for access to the web platform and plans to push out its own agentic games as an example of how to use the platform by the end of 2025 and into 2026.\n",
      "Original language: en\n",
      "Publish date: April 29, 2025 12:00 PM\n",
      "Source:[VentureBeat](https://venturebeat.com/games/upheaval-launches-dreamer-portal-early-access-for-ai-powered-3d-game-world-creation/)\n",
      "\n",
      "**An AI Identifies Where All Those Planets That Could Host Life Are Hiding**\n",
      "Researchers in Switzerland have developed an AI model that can identify potentially habitable worlds that are hiding from view. The model, which achieved a precision value of up to 0.99 in simulations, suggests that nearly four dozen systems with at least one known planet and a G-type, K-type, or M-type star may harbor an Earth-like world. According to the researchers, the strongest indicators of an Earth-like planet are its mass and orbital period, particularly in the system's innermost detectable planet. As Dr. Landymore noted, 'anything to narrow down astronomers' hunt for Earth's cousins through the unfathomably vast cosmos could be a gamechanger.' \n",
      "Original language: en\n",
      "Publish date: April 20, 2025 07:00 PM\n",
      "Source:[ca.news.yahoo.com](https://ca.news.yahoo.com/ai-identifies-where-those-planets-190039445.html)\n",
      "\n",
      "**Deathenomics to drive the new AI world order - Asia Times**\n",
      "The economist Paul Samuelson noted that the Second World War was the 'economists war.' The US came to realize that economic planning, the role of the Federal Reserve and mobilization of the civilian sector were crucial in times of war. The article argues that the increasing mobilization of resources (both natural and human) has led to the idea of the 'zero-sum' concept of winners and losers. The emphasis in mercantilism is the feature of one or two 'hegemonic' powers. The world has changed for a few dollars more, with the fiat currency of the dollar replacing gold. Hegemony is policed through global payment systems, sanctions, etc. The implementation of geoeconomics, and the need to establish hegemony leads to inevitable conflict. This is endemic to the 'third revolution', that of technology. The move towards automation and AI means that labor as the predominant factor in capital creation will be overtaken by technology and automation. This will heap pressure on the rate of return on capital and profits. The new world order rests on the diminishing importance of labor as seen in its traditional mode. Robotics and AI will replace human labor. Elon Musk estimates there will be demand for 20 billion robots, considering a one-off price of US$20,000-30,000 per unit. This is a win-win for capital. However, what of labor? The future will abandon labor in all areas such as administration, retail, nurses and even agriculture. The problem with Keynesian 'Deathenomics' is that it will ultimately eradicate the consumer. The laborer was traditionally a consumer. The future of this new world will mean a dichotomy between tech/machine-owning elites and a surplus lumpen proletariat. In a world where surplus value of the worker is eliminated, value is replaced by machines. Human beings will thus become dependent on the state for sustenance.\n",
      "Original language: en\n",
      "Publish date: March 11, 2025 05:15 AM\n",
      "Source:[Asia Times](http://asiatimes.com/2025/03/deathenomics-to-drive-the-new-ai-world-order/)\n",
      "\n",
      "**Netflix brought back A Different World of AI-upscaled nightmare fuel**\n",
      "The Netflix version of the 1980s sitcom A Different World has been criticized for its poor AI upscaling, resulting in distorted faces, garbled text, and misshapen backgrounds. Developer Scott Hanselman explained, 'You can make one blurry pixel into four pixels, or four pixels into sixteen pixels but you gotta have that information come from somewhere.' The issues have not arisen on other platforms that support the show's original 4:3 format, leading to speculation that the problem lies with the licensing rights holder, Carsey-Werner. Netflix has been reached out to for clarification, but the company's quality control checks have been called into question. This comes as Netflix faces criticism for its use of AI in other areas, including reproducing the voice of murdered influencer Gabby Petito and broadcasting a true crime documentary with AI-generated images.\n",
      "Original language: en\n",
      "Publish date: March 07, 2025 04:32 PM\n",
      "Source:[The Verge](https://www.theverge.com/news/625904/netflix-a-different-world-ai-upscaling-nightmare)\n",
      "\n",
      "**MWC 2025: How will 5G and AI come together?**\n",
      "The Mobile World Congress (MWC) 2025 is expected to showcase the convergence of 5G and Artificial Intelligence (AI). The event, which has returned stronger since 2022, will feature over 100,000 attendees. According to the MWC website, the focus will be on '5G inside', which aims to make the network more 'versatile, reliable, and ubiquitous'. This theme is reminiscent of the initial expectations for 5G, which was supposed to be a more advanced network from the start. As the author notes, 'You have enough time to take in about 10% of what’s happening across the Fira Grand Via’s eight Halls', highlighting the chaos and excitement of the event.\n",
      "Original language: en\n",
      "Publish date: February 28, 2025 11:42 AM\n",
      "Source:[itpro.com](https://www.itpro.com/infrastructure/mobile-networks/mwc-2025-how-will-5g-and-ai-come-together)\n",
      "\n",
      "**Open Worlds 2025: Finally Asking the Why**\n",
      "The gaming industry is at a turning point with open-world games, shifting away from overcrowded maps, collectible quests, and checklists towards more organic and realistic worlds. GTA 6 is expected to set new trends, and AI could potentially aid in building immersive worlds like Kingdom Come 2. Developers should focus on the 'why' behind creating open worlds, rather than just the 'how'. Fritz wonders why developers rarely ask themselves 'why' when building worlds, citing Kingdom Come: Deliverance 2 as an example of the importance of this question. The discussion also touches on the possibility of creating a world that reacts to player activities, essentially an open world with an open story.\n",
      "Original language: de\n",
      "Publish date: February 20, 2025 05:15 PM\n",
      "Source:[GameStar](https://www.gamestar.de/artikel/podcast-open-world,3428135.html)\n",
      "\n",
      "**Microsoft Revolutionizes Gaming with WHAM: AI that Creates Infinite Game Worlds**\n",
      "Microsoft Research has developed WHAM (World and Human Action Model), an AI that creates infinite game worlds. WHAM allows for interactive game simulations, and Electronic Arts (EA) is also exploring this technology. WHAM's ability to manage the persistence of game objects is particularly interesting. The team has demonstrated that it is possible to insert new objects or characters into existing videos by modifying only five frames, with the model maintaining these elements in subsequent frames with a success rate of 85-98%. This innovation opens up new possibilities for the development of AI-guided interactive games and simulations. As Microsoft Research's team leader said, 'The road ahead is still long, but the potential is vast.' \n",
      "Original language: it\n",
      "Publish date: February 20, 2025 12:21 PM\n",
      "Source:[leganerd.com](https://leganerd.com/2025/02/20/microsoft-rivoluziona-il-gaming-lai-che-crea-mondi-di-gioco-infiniti/)\n",
      "\n",
      "**‘AI and the Human Future’ presented at Marshalltown Public Library**\n",
      "Scott Samuelson, a philosopher from Iowa State University, presented a thought-provoking program at the Marshalltown Public Library on the topic of 'AI and the Human Future.' He discussed the ethical, moral, political, and environmental concerns related to artificial intelligence. Samuelson highlighted three AI roads: substitution, collaboration, and certified organic, and posed big questions such as who we are, what we care about, and how we can reinvent ourselves and our institutions to focus on what matters. He also discussed the limitations of AI, including its lack of common sense, creativity, and emotional intelligence, and the risks of over-trust in AI, deskilling, and mass unemployment. Additionally, Samuelson touched on the environmental concerns of AI, including resource depletion, and the question of who should control our data. He ended the presentation by endorsing the humanities and emphasizing the importance of not allowing AI to take our humanity away. 'We still need arts and crafts, we still need deep connection, to the world and to each other,' Samuelson said.\n",
      "Original language: en\n",
      "Publish date: February 10, 2025 12:00 AM\n",
      "Source:[timesrepublican.com](https://www.timesrepublican.com/news/todays-news/2025/02/ai-and-the-human-future-presented-at-marshalltown-public-library/)\n",
      "\n",
      "**All upcoming PS5 games: 2025 and beyond**\n",
      "Several upcoming games for the PS5 have been announced, including Elden Ring: Nightreign, Raidou Remastered: The Mystery of the Soulless Army, and Death Stranding 2: On The Beach. Other notable releases include Patapon 1+2 Replay, Tony Hawk's Pro Skater 3+4, and Killing Floor III. Additionally, games like The Outer Worlds 2, Moonlighter 2: The Endless Vault, and Hollow Knight: Silksong are also expected to be released in 2025. Furthermore, games like Grand Theft Auto VI, Marvel 1943: Rise of Hydra, and Star Wars Zero Company are scheduled for release in 2026. Some games, such as Intergalactic: The Heretic Prophet and Sonic Racing: CrossWorlds, are still in development with no release window announced.\n",
      "Original language: en\n",
      "Publish date: November 14, 2024 07:54 PM\n",
      "Source:[digitaltrends.com](https://www.digitaltrends.com/gaming/upcoming-ps5-games/)\n",
      "\n",
      "\n",
      "\n",
      "You take into consideration also this research:\n",
      "\n",
      "```research\n",
      "### 1. Key Historical Trends and Current Status\n",
      "\n",
      "- **AI capabilities grew rapidly in the decade preceding 2024**, especially in generative models (e.g., GPT, DALL-E, advanced language and vision systems). These systems now perform many expert tasks and are widely used in industry, education, and creative work[5].\n",
      "- **No strong evidence of recursive self-improvement**: While there have been improvements in efficiency and scale, there is no sign of AIs autonomously improving themselves beyond human oversight or resource constraints[5].\n",
      "- **Societal impact is significant, but not existential or utopian**: There is growing economic disruption (job displacement, productivity gains), and widespread concern over misinformation, deepfakes, bias, and surveillance. However, daily life continues, and humans remain the primary decision-makers[5].\n",
      "- **Human control and oversight remain central**: Despite advances, AI systems are primarily used as tools by humans, and there is little mainstream discussion of sentient or agentic AIs outside speculative circles[5].\n",
      "- **Regulation and safety are growing concerns**: Policymakers are developing and (sometimes) enacting AI safety and transparency laws, e.g., California's SB 1047 (though it was later vetoed, it reflects strong interest), and the EU's AI Act[1][3].\n",
      "\n",
      "### 2. Recent Announcements/Policies Affecting the Metric\n",
      "\n",
      "- **California SB 1047**: First-of-its-kind AI safety regulation passed the legislature in 2024, though it was vetoed by the governor[1][3]. This shows significant political attention to AI safety, even if policy lags technical progress.\n",
      "- **AI alignment research**: Prominent researchers (including Scott Aaronson) are leading new academic initiatives focused on AI alignment and safety, suggesting ongoing concern but no breakthrough in “solving” control or alignment[2].\n",
      "- **EU AI Act and similar frameworks**: Major economies are moving to regulate AI systems, focusing on transparency, safety, and accountability.\n",
      "\n",
      "### 3. Authoritative Sources for Verification\n",
      "\n",
      "- Scott Aaronson’s original “Five Worlds of AI” post, which outlines the taxonomy and discusses the underlying assumptions[5].\n",
      "- Recent blog updates and public statements by Aaronson, tracking both technical advances and regulatory responses[1][2][3].\n",
      "\n",
      "### 4. Limitations and Uncertainties\n",
      "\n",
      "- **Forecasting decades ahead has high uncertainty**. Discontinuous breakthroughs, societal shocks, or regulatory shifts could change the trajectory.\n",
      "- **Black swan risks** (e.g., sudden emergence of self-improving AI) are possible but currently lack supporting evidence.\n",
      "- **Resolution criteria are subjective**: The final judgment will rest with a panel, which may interpret ambiguous developments differently.\n",
      "\n",
      "---\n",
      "\n",
      "### Adjusted Probabilistic Assessment (as of early 2024)\n",
      "\n",
      "| AI World         | Likelihood | Justification                                                                                      |\n",
      "|------------------|------------|---------------------------------------------------------------------------------------------------|\n",
      "| AI-Fizzle        | 15%        | Progress and investment remain strong; “fizzle” seems unlikely unless technical or social backlash halts advances. |\n",
      "| Futurama         | 50%        | Most consistent with current trends: transformative impact, broad adoption, but no superintelligence or loss of control. |\n",
      "| AI-Dystopia      | 25%        | Risk of negative societal outcomes (surveillance, inequality, job loss) is rising, but not yet dominant. |\n",
      "| Singularia       | 5%         | No evidence of self-improving, superintelligent, agentic AI; technical hurdles remain.             |\n",
      "| Paperclipalypse  | 5%         | No signs of AI agency, existential risk, or catastrophic misalignment; remains a speculative risk.  |\n",
      "\n",
      "---\n",
      "\n",
      "### Summary\n",
      "\n",
      "- **Current evidence overwhelmingly favors “Futurama”**: AI is transforming society at scale, but as an advanced tool rather than an autonomous agent. Humans remain in control, and mainstream society does not treat AIs as sentient.\n",
      "- **“AI-Dystopia” is the next most likely**: If negative consequences from AI (surveillance, job loss, elite enrichment) become dominant, the scenario could shift toward dystopia.\n",
      "- **“Singularia” and “Paperclipalypse” remain remote**: There is little technical or societal evidence for the emergence of autonomous, self-improving superintelligent AIs—either benevolent or catastrophic.\n",
      "- **“AI-Fizzle” is possible but not favored**: Continued rapid progress and investment make a major fizzle unlikely unless new technical or social barriers emerge.\n",
      "\n",
      "---\n",
      "\n",
      "## References\n",
      "\n",
      "[1]. In Support of SB 1047 - Shtetl-Optimized (https://scottaaronson.blog/?p=8269)  \n",
      "[2]. Theoretical Computer Science for AI Alignment … and More (https://scottaaronson.blog/?p=8790)  \n",
      "[3]. October 2024 – Shtetl-Optimized (https://scottaaronson.blog/?m=202410)  \n",
      "[5]. Five Worlds of AI (a joint post with Boaz Barak) - Shtetl-Optimized (https://scottaaronson.blog/?p=7266)\n",
      "```\n",
      "\n",
      "This is a multiple choice forecast.  There are N choices.  Each choice is a mutually exclusive event. \n",
      "You supply a forecast giving the percentage likelihood that the given event is likely to occur, to the exclusion of the other events.  \n",
      "The events are:\n",
      "\n",
      "```choices\n",
      "['AI-Fizzle', 'Futurama', 'AI-Dystopia', 'Singularia', 'Paperclipalypse']\n",
      "```\n",
      "\n",
      "We discriminate between the events as follows:\n",
      "\n",
      "```resolution_criteria\n",
      "One option will resolve as **Yes**. The rest will resolve as **No**.\n",
      "\n",
      "Resolution will be determined by a judging panel of three Metaculus admins. The panel will convene at least once every three years, and outside of that cadence at the suggestion of at least five Metaculus forecasters. A unanimous vote of the panel indicating that one of the worlds has come to pass will lead to immediate resolution.\n",
      "\n",
      "If no resolution has occurred prior to 2050, the panel will meet and will vote on  the option that is closest to the real world. The option that receives the majority of votes will resolve as Yes. \n",
      "\n",
      "These AI worlds are outlined in the fine print; they correspond to the five AI worlds in Aaronson and Barak's \"[Five Worlds of AI](https://scottaaronson.blog/?p=7266)\" post.\n",
      "```\n",
      "\n",
      "The last thing you write is your final probabilities for the possible events in order as:\n",
      "\n",
      "Choice_A: Probability_A\n",
      "Choice_B: Probability_B\n",
      "...\n",
      "Choice_N: Probability_N\n",
      "\n",
      "where you must assign your probabilities so they add up to 100: Probability_A + Probability_B + ... + Probability_N = 100.\n",
      "\n"
     ]
    }
   ],
   "source": [
    "print(prompt2)"
   ]
  },
  {
   "cell_type": "code",
   "execution_count": 35,
   "id": "ecd4d27f-55e7-42ef-a509-29557925d423",
   "metadata": {},
   "outputs": [
    {
     "name": "stdout",
     "output_type": "stream",
     "text": [
      "START model mistral-small3.2:24b-instruct-2506-q4_K_M\n",
      "model mistral-small3.2:24b-instruct-2506-q4_K_M minutes 3.761407514413198\n",
      "START model mistral-small3.2:24b-instruct-2506-q4_K_M\n",
      "model mistral-small3.2:24b-instruct-2506-q4_K_M minutes 3.7275726596514382\n",
      "START model mistral-small3.2:24b-instruct-2506-q4_K_M\n",
      "model mistral-small3.2:24b-instruct-2506-q4_K_M minutes 3.794920758406321\n"
     ]
    }
   ],
   "source": [
    "answer_mistral = call_local_llm(prompt2, model)\n",
    "answer_mistral2 = call_local_llm(prompt2, model)\n",
    "answer_mistral3 = call_local_llm(prompt2, model)"
   ]
  },
  {
   "cell_type": "code",
   "execution_count": 38,
   "id": "fc1ec05c-cb20-4de4-879a-852243b095a4",
   "metadata": {},
   "outputs": [
    {
     "name": "stdout",
     "output_type": "stream",
     "text": [
      "Based on the provided research and recent developments in AI, here's my forecast for the likelihood of each AI world scenario:\n",
      "\n",
      "1. **AI-Fizzle (15%)**: Progress in AI has been rapid, with significant investments and advancements. A complete fizzle seems unlikely unless there's a major technical or social backlash halting AI development.\n",
      "\n",
      "2. **Futurama (50%)**: This scenario aligns most closely with current trends. AI is transforming society as an advanced tool, with broad adoption and transformative impact, but without superintelligence or loss of human control.\n",
      "\n",
      "3. **AI-Dystopia (25%)**: There are growing concerns about negative societal outcomes from AI, such as surveillance, inequality, and job loss. While not yet dominant, these risks are increasing.\n",
      "\n",
      "4. **Singularia (5%)**: There's no evidence of self-improving, superintelligent, agentic AI. Technical hurdles remain significant, making this scenario unlikely in the near term.\n",
      "\n",
      "5. **Paperclipalypse (5%)**: Similar to Singularia, there are no signs of AI agency, existential risk, or catastrophic misalignment. This remains a speculative risk with little supporting evidence.\n",
      "\n",
      "**Final Probabilities**:\n",
      "AI-Fizzle: 15%\n",
      "Futurama: 50%\n",
      "AI-Dystopia: 25%\n",
      "Singularia: 5%\n",
      "Paperclipalypse: 5%\n"
     ]
    }
   ],
   "source": [
    "print(answer_mistral)"
   ]
  },
  {
   "cell_type": "code",
   "execution_count": 42,
   "id": "db24ee66-0737-4355-a6e4-8d78685c147b",
   "metadata": {},
   "outputs": [],
   "source": [
    "from extract_forecast import *"
   ]
  },
  {
   "cell_type": "code",
   "execution_count": 43,
   "id": "119da298-c237-4148-9a8f-20c128aaa30c",
   "metadata": {},
   "outputs": [
    {
     "data": {
      "text/plain": [
       "['AI-Fizzle', 'Futurama', 'AI-Dystopia', 'Singularia', 'Paperclipalypse']"
      ]
     },
     "execution_count": 43,
     "metadata": {},
     "output_type": "execute_result"
    }
   ],
   "source": [
    "options = eval(row.question_options) \n",
    "options"
   ]
  },
  {
   "cell_type": "code",
   "execution_count": 46,
   "id": "f85ded48-e343-4545-9a3e-0a052e293d81",
   "metadata": {},
   "outputs": [
    {
     "data": {
      "text/plain": [
       "[{'AI-Fizzle': 0.15,\n",
       "  'Futurama': 0.5,\n",
       "  'AI-Dystopia': 0.25,\n",
       "  'Singularia': 0.05,\n",
       "  'Paperclipalypse': 0.05},\n",
       " {'AI-Fizzle': 0.15,\n",
       "  'Futurama': 0.5,\n",
       "  'AI-Dystopia': 0.25,\n",
       "  'Singularia': 0.05,\n",
       "  'Paperclipalypse': 0.05},\n",
       " {'AI-Fizzle': 0.15,\n",
       "  'Futurama': 0.5,\n",
       "  'AI-Dystopia': 0.25,\n",
       "  'Singularia': 0.05,\n",
       "  'Paperclipalypse': 0.05}]"
      ]
     },
     "execution_count": 46,
     "metadata": {},
     "output_type": "execute_result"
    }
   ],
   "source": [
    "forecasts = [generate_multiple_choice_forecast(options,extract_option_probabilities_from_response(x, options))\n",
    "             for x in [answer_mistral, answer_mistral2, answer_mistral3]]\n",
    "forecasts"
   ]
  },
  {
   "cell_type": "code",
   "execution_count": 51,
   "id": "159c7b93-7ca6-4089-b15f-f9de732d0f52",
   "metadata": {},
   "outputs": [],
   "source": [
    "from median_dictionaries import median_dictionaries"
   ]
  },
  {
   "cell_type": "code",
   "execution_count": 52,
   "id": "fdec48e4-3576-448f-b3b9-1319bef933aa",
   "metadata": {},
   "outputs": [],
   "source": [
    "forecast = median_dictionaries(forecasts)"
   ]
  },
  {
   "cell_type": "code",
   "execution_count": 53,
   "id": "68503cc0-0fcf-4713-9da2-3f1827b5087a",
   "metadata": {},
   "outputs": [
    {
     "data": {
      "text/plain": [
       "{'AI-Fizzle': 0.15,\n",
       " 'Futurama': 0.5,\n",
       " 'AI-Dystopia': 0.25,\n",
       " 'Singularia': 0.05,\n",
       " 'Paperclipalypse': 0.05}"
      ]
     },
     "execution_count": 53,
     "metadata": {},
     "output_type": "execute_result"
    }
   ],
   "source": [
    "forecast"
   ]
  },
  {
   "cell_type": "code",
   "execution_count": 54,
   "id": "f2c7e373-03e2-484b-91bb-5dee34d5104e",
   "metadata": {},
   "outputs": [],
   "source": [
    "prompt = f\"\"\"\n",
    "Summarize the gist pf the rationale or thinking of the following answers from 3 different forecasters to a single problem. \n",
    "\n",
    "```forecast 1\n",
    "{answer_mistral}\n",
    "```\n",
    "\n",
    "```forecast 2\n",
    "{answer_mistral2}\n",
    "```\n",
    "\n",
    "```forecast 3\n",
    "{answer_mistral3}\n",
    "```\n",
    "\n",
    "DO NOT REFER TO THE 3 FORECASTERS.  PRESENT THIS AS YOUR OWN THINKING, YOUR OWN RATIONALE.  Use as your final the median forecast which is\n",
    "\n",
    "```median forecast\n",
    "{forecast}\n",
    "```\n",
    "\"\"\""
   ]
  },
  {
   "cell_type": "code",
   "execution_count": 55,
   "id": "aa5934ed-07b0-49f4-89e5-d4b151677c2a",
   "metadata": {},
   "outputs": [
    {
     "name": "stdout",
     "output_type": "stream",
     "text": [
      "START model mistral-small3.2:24b-instruct-2506-q4_K_M\n",
      "model mistral-small3.2:24b-instruct-2506-q4_K_M minutes 1.9387137691179912\n"
     ]
    }
   ],
   "source": [
    "rationale = call_local_llm(prompt, model)"
   ]
  },
  {
   "cell_type": "code",
   "execution_count": null,
   "id": "6ba86e5c-5c5c-48fe-82e6-3c79588d8a61",
   "metadata": {},
   "outputs": [],
   "source": []
  },
  {
   "cell_type": "code",
   "execution_count": 56,
   "id": "e730a688-3cf3-400f-b65d-a733eac497d3",
   "metadata": {},
   "outputs": [
    {
     "name": "stdout",
     "output_type": "stream",
     "text": [
      "Based on the provided research and recent developments in AI, here's my forecast for the likelihood of each AI world scenario:\n",
      "\n",
      "1. **AI-Fizzle (15%)**: While there is significant progress in AI, a complete fizzle seems unlikely given the continued investment and rapid advancements. However, if technical or social barriers emerge, this scenario could become more probable.\n",
      "\n",
      "2. **Futurama (50%)**: This scenario aligns most closely with current trends, where AI is transformative but remains under human control. It is widely adopted as an advanced tool without achieving superintelligence or autonomy.\n",
      "\n",
      "3. **AI-Dystopia (25%)**: The risks of negative societal outcomes, such as surveillance, job loss, and inequality, are rising. While not yet dominant, these concerns are significant and could lead to a dystopian outcome if not properly managed.\n",
      "\n",
      "4. **Singularia (5%)**: There is no evidence of self-improving, superintelligent AI, and technical hurdles remain substantial. This scenario is highly speculative at this stage.\n",
      "\n",
      "5. **Paperclipalypse (5%)**: Similar to Singularia, there are no signs of AI agency or catastrophic misalignment. This remains a remote possibility with little supporting evidence.\n",
      "\n",
      "**Final Probabilities**:\n",
      "- AI-Fizzle: 15%\n",
      "- Futurama: 50%\n",
      "- AI-Dystopia: 25%\n",
      "- Singularia: 5%\n",
      "- Paperclipalypse: 5%\n"
     ]
    }
   ],
   "source": [
    "print(rationale)"
   ]
  },
  {
   "cell_type": "code",
   "execution_count": 57,
   "id": "c755e36f-b4e0-4365-b1c2-8ace6c787711",
   "metadata": {},
   "outputs": [],
   "source": [
    "row.forecast = rationale"
   ]
  },
  {
   "cell_type": "code",
   "execution_count": 58,
   "id": "0845b771-1ca2-4b20-8321-316c7bf4ef39",
   "metadata": {},
   "outputs": [],
   "source": [
    "row.prediction = forecast"
   ]
  },
  {
   "cell_type": "code",
   "execution_count": 62,
   "id": "4b228d15-08fb-462a-86c6-9af8a36d18c9",
   "metadata": {},
   "outputs": [
    {
     "data": {
      "text/plain": [
       "{'AI-Fizzle': 0.15,\n",
       " 'Futurama': 0.5,\n",
       " 'AI-Dystopia': 0.25,\n",
       " 'Singularia': 0.05,\n",
       " 'Paperclipalypse': 0.05}"
      ]
     },
     "execution_count": 62,
     "metadata": {},
     "output_type": "execute_result"
    }
   ],
   "source": [
    "row.prediction"
   ]
  },
  {
   "cell_type": "code",
   "execution_count": 59,
   "id": "4afa82f0-c230-4553-b163-f6fd7baf55f8",
   "metadata": {},
   "outputs": [
    {
     "data": {
      "text/plain": [
       "{'AI-Fizzle': 0.1271267605633803,\n",
       " 'Futurama': 0.29274775928297053,\n",
       " 'AI-Dystopia': 0.28000768245838664,\n",
       " 'Singularia': 0.1729910371318822,\n",
       " 'Paperclipalypse': 0.1271267605633803}"
      ]
     },
     "execution_count": 59,
     "metadata": {},
     "output_type": "execute_result"
    }
   ],
   "source": [
    "row.crowd"
   ]
  },
  {
   "cell_type": "code",
   "execution_count": 60,
   "id": "babd53b4-f064-48a4-8604-410d55dd9700",
   "metadata": {},
   "outputs": [],
   "source": [
    "from error import error"
   ]
  },
  {
   "cell_type": "code",
   "execution_count": 61,
   "id": "f03e7094-7ea0-4047-be90-44c6fc0cf8ad",
   "metadata": {},
   "outputs": [
    {
     "data": {
      "text/plain": [
       "0.28765685019206144"
      ]
     },
     "execution_count": 61,
     "metadata": {},
     "output_type": "execute_result"
    }
   ],
   "source": [
    "error(row)"
   ]
  },
  {
   "cell_type": "code",
   "execution_count": null,
   "id": "5047bad9-5ed3-48aa-ab12-154d38e591d4",
   "metadata": {},
   "outputs": [],
   "source": []
  }
 ],
 "metadata": {
  "kernelspec": {
   "display_name": "Python 3 (ipykernel)",
   "language": "python",
   "name": "python3"
  },
  "language_info": {
   "codemirror_mode": {
    "name": "ipython",
    "version": 3
   },
   "file_extension": ".py",
   "mimetype": "text/x-python",
   "name": "python",
   "nbconvert_exporter": "python",
   "pygments_lexer": "ipython3",
   "version": "3.12.3"
  }
 },
 "nbformat": 4,
 "nbformat_minor": 5
}
