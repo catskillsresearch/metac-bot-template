{
 "cells": [
  {
   "cell_type": "markdown",
   "id": "c1f27471-5886-4bc2-acdf-2dac9cf49676",
   "metadata": {},
   "source": [
    "# Prompt engineering on worst econ questions: answer verification, temperature, red/blue, context"
   ]
  },
  {
   "cell_type": "code",
   "execution_count": 1,
   "id": "40c585c9-9d1e-4329-a0ed-f78f53ec8176",
   "metadata": {},
   "outputs": [],
   "source": [
    "%matplotlib inline"
   ]
  },
  {
   "cell_type": "code",
   "execution_count": 2,
   "id": "122c8339-86ea-47c5-8993-033752f69f5d",
   "metadata": {},
   "outputs": [],
   "source": [
    "import pandas as pd\n",
    "pd.set_option('display.max_columns', None)\n",
    "from ollama_models import ollama_models\n",
    "models = ollama_models()"
   ]
  },
  {
   "cell_type": "code",
   "execution_count": 3,
   "id": "70be6a67-c25b-4729-ab99-725f064528d7",
   "metadata": {},
   "outputs": [
    {
     "data": {
      "text/plain": [
       "['mistral-small3.2:24b-instruct-2506-q4_K_M']"
      ]
     },
     "execution_count": 3,
     "metadata": {},
     "output_type": "execute_result"
    }
   ],
   "source": [
    "models"
   ]
  },
  {
   "cell_type": "code",
   "execution_count": 4,
   "id": "a75e3d1e-890d-44d9-b173-18f3afbfbe31",
   "metadata": {},
   "outputs": [],
   "source": [
    "model = models[0]"
   ]
  },
  {
   "cell_type": "code",
   "execution_count": 5,
   "id": "6651ca1a-083f-4ea2-87fa-bc56531f788f",
   "metadata": {},
   "outputs": [],
   "source": [
    "from load_saved_questions import load_saved_questions\n",
    "from call_local_llm import call_local_llm"
   ]
  },
  {
   "cell_type": "code",
   "execution_count": 6,
   "id": "b8b6b1c7-263d-404b-b5be-04c89639ac9d",
   "metadata": {},
   "outputs": [],
   "source": [
    "question = load_saved_questions([4830])[0]"
   ]
  },
  {
   "cell_type": "code",
   "execution_count": 7,
   "id": "552a481e-5a4f-405f-a618-4edf5107d0c9",
   "metadata": {},
   "outputs": [],
   "source": [
    "    from community_forecast import community_forecast\n",
    "    import pandas as pd\n",
    "    from flatten_dict import flatten_dict\n",
    "    from datetime import datetime\n",
    "    from gather_research_and_set_prompt import gather_research_and_set_prompt\n",
    "    from generate_forecasts_and_update_rag import generate_forecasts_and_update_rag\n",
    "    from tqdm import tqdm\n",
    "    import time"
   ]
  },
  {
   "cell_type": "code",
   "execution_count": 8,
   "id": "cc4b0cff-645d-463e-a91d-85e9a2911918",
   "metadata": {},
   "outputs": [
    {
     "name": "stdout",
     "output_type": "stream",
     "text": [
      "START model mistral-small3.2:24b-instruct-2506-q4_K_M id <built-in function id>\n"
     ]
    }
   ],
   "source": [
    "    print('START model', model, 'id', id)\n",
    "    start_time = time.time()\n",
    "    questions = [question]\n",
    "    id = question.id_of_question\n",
    "    id_to_forecast = {question.id_of_question: community_forecast(question) for question in questions}\n",
    "    df = pd.DataFrame([flatten_dict(q.api_json, sep='_') for q in questions])\n",
    "    df['id_of_post'] = [q.id_of_post for q in questions]\n",
    "    df['id_of_question'] = [q.id_of_question for q in questions]\n",
    "    df['question_options'] = df['question_options'].apply(repr)\n",
    "    df['today'] = datetime.now().strftime(\"%Y-%m-%d\")\n",
    "    df['crowd'] = df.apply(lambda row: id_to_forecast[row.id_of_question], axis=1)"
   ]
  },
  {
   "cell_type": "code",
   "execution_count": 9,
   "id": "b549d0b5-3a4f-4286-89c1-462c2a01b3c5",
   "metadata": {},
   "outputs": [],
   "source": [
    "    df1 = df[['id_of_question', 'id_of_post', 'today', 'open_time', 'scheduled_resolve_time', 'title',\n",
    "        'question_resolution_criteria', 'question_fine_print', 'question_type', \n",
    "         'question_description',\n",
    "        'question_options', 'question_group_variable', 'question_question_weight',\n",
    "        'question_unit', 'question_open_upper_bound', 'question_open_lower_bound',\n",
    "        'question_scaling_range_max', 'question_scaling_range_min', 'question_scaling_zero_point','crowd']].copy()"
   ]
  },
  {
   "cell_type": "code",
   "execution_count": 10,
   "id": "22294f1d-0065-460d-97b2-65cca83d0d90",
   "metadata": {},
   "outputs": [
    {
     "name": "stdout",
     "output_type": "stream",
     "text": [
      "Loaded existing index from forecast_index.faiss\n",
      "Index contains 5839 vectors at initialization\n"
     ]
    }
   ],
   "source": [
    "    df2, rag = gather_research_and_set_prompt(df1, True, model)"
   ]
  },
  {
   "cell_type": "code",
   "execution_count": 11,
   "id": "80261c3f-b8b1-44f7-9b75-b90be8f25229",
   "metadata": {},
   "outputs": [],
   "source": [
    "df3 = df2[['id_of_question', 'title',\n",
    "        'question_resolution_criteria', 'question_fine_print', 'question_type', \n",
    "         'question_description',\n",
    "        'question_options', 'question_group_variable', 'question_question_weight',\n",
    "        'question_unit', 'question_open_upper_bound', 'question_open_lower_bound',\n",
    "        'question_scaling_range_max', 'question_scaling_range_min', 'question_scaling_zero_point','crowd',\n",
    "          'research', 'asknews', 'learning']].copy()"
   ]
  },
  {
   "cell_type": "code",
   "execution_count": 12,
   "id": "d67ccbf7-02aa-4a15-a89e-d76a98532136",
   "metadata": {},
   "outputs": [],
   "source": [
    "row = df3.iloc[0]"
   ]
  },
  {
   "cell_type": "code",
   "execution_count": 13,
   "id": "c54b1448-a2a8-424a-a33f-61b37ad6b165",
   "metadata": {},
   "outputs": [
    {
     "data": {
      "text/plain": [
       "id_of_question                                                               4830\n",
       "title                             What will the global fertility rate be in 2050?\n",
       "question_resolution_criteria    The age-specific fertility rate is the number ...\n",
       "question_fine_print                                                              \n",
       "question_type                                                             numeric\n",
       "question_description                                                             \n",
       "question_options                                                             None\n",
       "question_group_variable                                                          \n",
       "question_question_weight                                                      1.0\n",
       "question_unit                                                  children per woman\n",
       "question_open_upper_bound                                                    True\n",
       "question_open_lower_bound                                                   False\n",
       "question_scaling_range_max                                                    5.0\n",
       "question_scaling_range_min                                                    0.0\n",
       "question_scaling_zero_point                                                  None\n",
       "crowd                           {10: 1.2404005339653996, 20: 1.471560916910481...\n",
       "research                        ## 1. Key Historical Trends and Current Status...\n",
       "asknews                         Here are the relevant news articles:\\n\\n**10 T...\n",
       "learning                                                                       []\n",
       "Name: 0, dtype: object"
      ]
     },
     "execution_count": 13,
     "metadata": {},
     "output_type": "execute_result"
    }
   ],
   "source": [
    "row"
   ]
  },
  {
   "cell_type": "code",
   "execution_count": 14,
   "id": "a441b75e-e37e-4766-b5bd-24343d116e3e",
   "metadata": {},
   "outputs": [
    {
     "name": "stdout",
     "output_type": "stream",
     "text": [
      "ID_OF_QUESTION\n",
      "\n",
      "4830\n",
      "===============================\n",
      "\n",
      "TITLE\n",
      "\n",
      "What will the global fertility rate be in 2050?\n",
      "===============================\n",
      "\n",
      "QUESTION_RESOLUTION_CRITERIA\n",
      "\n",
      "The age-specific fertility rate is the number of children born per woman per year for women at a specified age. Integrating over a lifetime gives a metric called the [total fertility rate](https://ourworldindata.org/fertility-rate#data-quality-definition), which is the average number of children that a woman would have if all the age-specific fertility rates stayed constant. \n",
      "\n",
      "Globally, the total fertility rate was [2.49 children per woman](https://ourworldindata.org/fertility-rate#50-years-ago-the-average-woman-had-five-children-since-then-the-number-has-halved) in 2015, down from 5.05 in 1950. This large decline is part of what is known as the [demographic transition](https://en.wikipedia.org/wiki/Demographic_transition) from high birth rates and high child mortality to low birth rates and low child mortality. The causes of this include more women in education and work, as well as greater access to contraception. \n",
      "\n",
      "A [recent study](https://www.bbc.co.uk/news/health-53409521) by researchers at the University of Washington's Institute for Health Metrics and Evaluation extrapolates trends in education and contraception access and predicts that this decline in fertility rates will continue, reaching 1.33-2.08 in 2100.\n",
      "\n",
      "**What will the global total fertility rate be in 2050?**\n",
      "\n",
      "Resolution will be by the figure for the year 2050 published by the [UN Population Division](https://esa.un.org/unpd/wpp/Download/Standard/Population/) or other appropriate branch of the UN/WHO in the first edition released after 2050. If a figure is only available for a range of time of no more than 5 years that includes 2050, resolve at that value. If no such figures are available, then resolve ambiguously.\n",
      "===============================\n",
      "\n",
      "QUESTION_FINE_PRINT\n",
      "\n",
      "\n",
      "===============================\n",
      "\n",
      "QUESTION_TYPE\n",
      "\n",
      "numeric\n",
      "===============================\n",
      "\n",
      "QUESTION_DESCRIPTION\n",
      "\n",
      "\n",
      "===============================\n",
      "\n",
      "QUESTION_OPTIONS\n",
      "\n",
      "None\n",
      "===============================\n",
      "\n",
      "QUESTION_GROUP_VARIABLE\n",
      "\n",
      "\n",
      "===============================\n",
      "\n",
      "QUESTION_QUESTION_WEIGHT\n",
      "\n",
      "1.0\n",
      "===============================\n",
      "\n",
      "QUESTION_UNIT\n",
      "\n",
      "children per woman\n",
      "===============================\n",
      "\n",
      "QUESTION_OPEN_UPPER_BOUND\n",
      "\n",
      "True\n",
      "===============================\n",
      "\n",
      "QUESTION_OPEN_LOWER_BOUND\n",
      "\n",
      "False\n",
      "===============================\n",
      "\n",
      "QUESTION_SCALING_RANGE_MAX\n",
      "\n",
      "5.0\n",
      "===============================\n",
      "\n",
      "QUESTION_SCALING_RANGE_MIN\n",
      "\n",
      "0.0\n",
      "===============================\n",
      "\n",
      "QUESTION_SCALING_ZERO_POINT\n",
      "\n",
      "None\n",
      "===============================\n",
      "\n",
      "CROWD\n",
      "\n",
      "{10: 1.2404005339653996, 20: 1.471560916910481, 40: 1.6992185491831817, 60: 1.9151103347581657, 80: 2.182339722200339, 90: 2.3414068703959257}\n",
      "===============================\n",
      "\n",
      "RESEARCH\n",
      "\n",
      "## 1. Key Historical Trends and Current Status\n",
      "\n",
      "- The global total fertility rate (TFR) has sharply declined from about 5.0 children per woman in 1950 to 2.2 in 2025[4][2].\n",
      "- This decline is attributed to increased education for women, greater workforce participation, urbanization, and improved access to contraception[1][4].\n",
      "- As of 2024, the global TFR stands at approximately 2.25 live births per woman, one child fewer than a generation ago[2].\n",
      "\n",
      "## 2. Recent Announcements/Policies Affecting the Metric\n",
      "\n",
      "- Projections from the United Nations and independent research groups (such as the IHME and The Lancet’s Global Burden of Disease collaborators) consistently predict continued declines in TFR, with most countries falling below the replacement rate (2.1) by 2050[1][5].\n",
      "- Pro-natal policies—such as expanded parental leave, childcare subsidies, and support for fertility treatments—are being implemented in some countries, but have not measurably reversed low fertility trends at the global scale[1][5].\n",
      "- Expanded education (especially for girls) and increased access to contraception remain the primary drivers of the ongoing decline in global fertility rates[1][5].\n",
      "\n",
      "## 3. Authoritative Sources for Verification\n",
      "\n",
      "- The United Nations World Population Prospects and the UN Population Fund are the primary authorities for global demographic projections[2][3].\n",
      "- Peer-reviewed forecasts from The Lancet and research groups such as IHME provide independent estimates and scenario modeling[1][5].\n",
      "\n",
      "## 4. Limitations and Uncertainties\n",
      "\n",
      "- Regional variation remains significant: while Africa’s TFR is higher than the global average, it is also declining[4].\n",
      "- Measurement depends on accurate reporting of births and population by age, which can vary by country.\n",
      "- Social, economic, or policy shocks (e.g., pandemics, migration policy changes, or unexpected technological advances) could alter fertility patterns.\n",
      "- Some uncertainty remains regarding the effectiveness of pro-natal policies and the possible impact of future policy innovations or reversals.\n",
      "\n",
      "## 5. Adjusted Probabilistic Assessment\n",
      "\n",
      "- Reference cases from the 2010s suggested the global TFR would approach the replacement rate (2.1) by 2050.\n",
      "- More recent projections and modeling (as of 2024) forecast a lower outcome: \n",
      "    - The most widely cited estimates place the global TFR at **1.8 children per woman in 2050**[1][5].\n",
      "    - The UN Population Fund projects a slightly higher figure of **2.1 children per woman**[3].\n",
      "    - The balance of evidence by 2024 supports a central estimate of **1.8–2.1 children per woman**, with a median forecast close to 1.8[1][5].\n",
      "\n",
      "### Final Probabilistic Forecast for 2050 (as of July 2020 information and subsequent updates to 2024):\n",
      "\n",
      "> The most likely global total fertility rate in 2050 is **1.8 children per woman** (central estimate), with a plausible range of **1.8 to 2.1** children per woman, and a substantial probability it will be below the replacement rate.\n",
      "\n",
      "---\n",
      "\n",
      "## References\n",
      "\n",
      "[1]. Global Fertility Rate Continues To Fall: How Governments Could ... (https://www.thinkglobalhealth.org/article/global-fertility-rate-continues-fall-how-governments-could-prepare)  \n",
      "[2]. Population - the United Nations (https://www.un.org/en/global-issues/population)  \n",
      "[3]. The problem with 'too few' - United Nations Population Fund (https://www.unfpa.org/swp2023/too-few)  \n",
      "[4]. Total fertility rate globally and by continent 1950-2050 - Statista (https://www.statista.com/statistics/1034075/fertility-rate-world-continents-1950-2050/)  \n",
      "[5]. The Lancet: Dramatic declines in global fertility rates set to transform ... (https://www.eurekalert.org/news-releases/1038195)\n",
      "===============================\n",
      "\n",
      "ASKNEWS\n",
      "\n",
      "Here are the relevant news articles:\n",
      "\n",
      "**10 Trends That Will Shape the Future of Food by 2050**\n",
      "By 2050, the world's food system will be under pressure due to the need to reach net-zero emissions and a projected global population of over 10 billion people. To reduce food waste, companies will need to rethink the food chain. According to food futurists Morgaine Gaye and Joseph Poore, there will be 10 key trends in food production, consumption, and preparation. These include: 1) 'community meals' where food is shared and valued for its emotional and relational aspects; 2) the end of weekly grocery shopping, replaced by AI-powered meal planning and home delivery; 3) clothing that can grow food, such as shirts with built-in gardens; 4) urban agriculture, with shared gardens, vertical farming, and local food systems; 5) food that absorbs CO2, such as seaweed and shellfish; 6) AI-powered food planning to reduce waste and use 'imperfect' fruits and vegetables; 7) climate-resilient crops, such as quinoa and soy in northern Europe; 8) a return to ancient crops, such as sorrel and dandelion; 9) 'niche' crops, such as teff and fonio, becoming mainstream; 10) personalized nutrition, with AI-powered meal planning to prevent disease. According to Poore, 'it's likely that our diet in 2050 will be significantly different from what we have today, although not necessarily in the ways we expect.' Gaye added, 'in the future, we will see significant changes in our daily habits and food models.'\n",
      "Original language: it\n",
      "Publish date: June 02, 2025 05:47 PM\n",
      "Source:[ANSA.it](https://www.ansa.it/canale_lifestyle/notizie/food/2025/06/02/la-cena-nel-2050-previsioni-cibo-per-il-futuro-in-10-tendenze_a790340b-fd42-4f02-9190-6a8efbf4cc54.html)\n",
      "\n",
      "**Test Strip Market Is Booming So Rapidly 2025-2032 -Abbott Laboratories, Roche Diagnostics, Bayer AG, Ascensia Diabetes Care**\n",
      "The global Test Strip Market is expected to grow from USD 14.25 Bn in 2025 to USD 18.38 Bn by 2032, with a compound annual growth rate (CAGR) of 3.7% from 2025 to 2032. The market is driven by factors such as increasing demand for diabetes management, cardiovascular diseases, and pregnancy and fertility testing. The report highlights the key players in the market, including Abbott Laboratories, Roche Diagnostics, Bayer AG, Ascensia Diabetes Care, and others. The market is segmented by product type, application, end-user, and distribution channel. The report provides a comprehensive analysis of the market, including market size, production, revenue, consumption, CAGR, gross margin, and pricing. It also includes a detailed analysis of the competitive landscape, company profiles, and manufacturing costs. The report provides a future outlook for the market, including market trends, growth prospects, and potential challenges. The key drivers of the market include increasing demand for diabetes management, cardiovascular diseases, and pregnancy and fertility testing. The report also highlights the key challenges facing the market, including competition from emerging players and the need for innovative products. The report provides a comprehensive analysis of the market, including market size, production, revenue, consumption, CAGR, gross margin, and pricing. It also includes a detailed analysis of the competitive landscape, company profiles, and manufacturing costs. The report provides a future outlook for the market, including market trends, growth prospects, and potential challenges.\n",
      "Original language: en\n",
      "Publish date: June 02, 2025 04:29 PM\n",
      "Source:[openPR.com - Open Public Relations Free of Charge](https://www.openpr.com/news/4047511/test-strip-market-is-booming-so-rapidly-2025-2032-abbott)\n",
      "\n",
      "**The Top 10 Most Populous Countries in 2024**\n",
      "According to the United Nations, the world's population has increased by three times since the mid-20th century, reaching 8 billion in mid-November 2022, up from 2.5 billion in 1950. The population is expected to reach 8.5 billion by 2030, 9.7 billion by 2050, and 10.4 billion by 2100. The top 10 most populous countries in 2024 are: India (1.44 billion), China (1.43 billion), the United States (341.81 million), Indonesia (289.8 million), Pakistan (245.21 million), Nigeria (229.15 million), Brazil (217.64 million), Bangladesh (174.7 million), Russia (143.96 million), and Ethiopia (129.72 million). These countries have diverse geography, economies, and cultures, with some experiencing rapid growth and development, while others face challenges such as poverty and inequality.\n",
      "Original language: ar\n",
      "Publish date: June 02, 2025 03:15 PM\n",
      "Source:[alweeam.com.sa](https://www.alweeam.com.sa/1069885/2024/%d8%a7%d9%84%d8%af%d9%88%d9%84-%d8%a7%d9%84%d8%b9%d8%b4%d8%b1-%d8%a7%d9%84%d8%a3%d9%83%d8%ab%d8%b1-%d8%a7%d9%83%d8%aa%d8%b8%d8%a7%d8%b8%d9%8b%d8%a7-%d8%a8%d8%a7%d9%84%d8%b3%d9%83%d8%a7%d9%86/)\n",
      "\n",
      "**Chronic Gonadotropin Market 2025 | Worth USD 11.71 billion by 2033**\n",
      "The global chronic gonadotropin market is expected to grow from USD 5.40 billion in 2023 to USD 11.71 billion by 2033, with a compound annual growth rate (CAGR) of 7.8% from 2023 to 2033. The market is driven by increasing infertility rates, advancements in assisted reproductive technologies (ART), and rising awareness about reproductive health. The market is led by North America, followed by emerging markets in Asia-Pacific and Latin America. The market is segmented by type (human chronic gonadotropin and animal chronic gonadotropin) and application (female infertility treatment, male hypogonadism, oligospermia treatment, and cryptorchidism treatment). The report provides a comprehensive analysis of the market, including research objectives, research design, data collection, data analysis, and limitations. The report also highlights the key findings and recommendations for the market.\n",
      "Original language: en\n",
      "Publish date: June 02, 2025 10:24 AM\n",
      "Source:[openPR.com - Open Public Relations Free of Charge](https://www.openpr.com/news/4046665/chronic-gonadotropin-market-2025-worth-usd-11-71-billion)\n",
      "\n",
      "**Europe's Aging Population: A Growing Concern**\n",
      "The median age in Europe has reached 44.7 years, with some countries, such as Italy, already exceeding 48.7 years. According to Eurostat, the population of the EU will begin to decline in 2026, with a projected decrease of 50 million people by 2100. The main cause of this demographic shift is the decline in fertility rates, which have fallen below the replacement level. In 2023, the global fertility rate in the EU was 1.38 children per woman, down from 1.44 in 2003 and below the replacement level of 2.1. Eurostat estimates that the proportion of people aged 65 or older will increase from 21.6% in 2024 to 32.5% in 2100, while the proportion of people aged 80 or older will multiply by 2.5, from 6% to 15%. The tasa de dependencia, which measures the relationship between the number of young people and those of older age, will tend to worsen, with a projected ratio of two people in work for every one dependent in 2024. As stated by Eurostat, 'the process of aging is so accelerated, linked to the increases in longevity, that Eurostat predicts that the proportion of people aged 80 or more in the population of the EU will multiply by 2.5 between 2024 and 2100, passing from 6% to 15%.' \n",
      "Original language: es\n",
      "Publish date: June 02, 2025 03:06 AM\n",
      "Source:[El Confidencial](https://www.elconfidencial.com/economia/2025-06-02/la-edad-media-europa-roza-45-anos-otros-cerca-50_4142107/)\n",
      "\n",
      "**Korea's birth crisis far from over**\n",
      "South Korea's total fertility rate reached 0.82 in the first quarter of 2025, a 7.4% year-on-year increase, the highest since records began in 1981. Experts are cautiously optimistic, but warn that even if the government's target of a 1.0 fertility rate by 2030 is met, Korea would still be at the bottom globally in terms of fertility. The prolonged low birthrate has eroded the population of people capable of having children, and an increase in fertility rates may not translate into more births due to a smaller base population of parents. According to Statistics Korea, even under the agency's high-fertility projection scenario, the national population will fall to the 30-million range within 45 years. Complacency is not an option, and a fertility rate must rise to two or three children per woman to avoid a shrinking society. 'We must remember that we have merely bought a little more time to prepare for the demographic shock ahead,' said a warning from the article. \n",
      "Original language: en\n",
      "Publish date: June 01, 2025 10:49 PM\n",
      "Source:[www.donga.com](https://www.donga.com/en/article/all/20250602/5637598/1)\n",
      "\n",
      "**Jamal Al-Loughani: Electricity Consumption Will Double by 2050**\n",
      "The Secretary-General of the Arab Organization for Energy, Jamal Al-Loughani, predicts that electricity consumption will double by 2050, emphasizing the need for significant investments in all energy sources without exception. Al-Loughani stated that the global trend of interest in renewable energy sources in the first quarter of 2025 will continue, but noted that there are significant differences in investment levels between different regions. He pointed out that the total capacity of global renewable energy reached approximately 4,448 gigawatts by the end of 2024, and that it must grow at a rate of 16.6% annually to achieve the goal of tripling the global cumulative capacity of renewable energy by 2030, as agreed upon during the 'COP 28' climate conference. Al-Loughani emphasized that the concept of energy security differs from country to country, depending on their priorities and economic conditions, and that energy transitions must be fair, comprehensive, and smooth, taking into account the economic and social conditions of each country during the transition to clean energy. He also noted that the concentration of critical minerals in specific geographic regions around the world is increasing concerns about supply chain disruptions and geostrategic risks, as China currently dominates 60% of the global supply chains of rare earth minerals and around 90% of their processing capacity. Al-Loughani highlighted that nuclear energy is a strategic option that holds great opportunities and complex challenges, combining the ability to achieve energy security and reduce carbon emissions on the one hand, and the need to ensure the element of safety and proper handling of waste on the other. He pointed out that there are 440 operational nuclear power plants in 32 countries around the world, with a total installed capacity of 400 gigawatts, and that they provide approximately 9% of global electricity production.\n",
      "Original language: ar\n",
      "Publish date: June 01, 2025 06:54 PM\n",
      "Source:[Alrai-media](https://www.alraimedia.com/article/1729215/%D8%A7%D9%82%D8%AA%D8%B5%D8%A7%D8%AF/%D9%86%D9%81%D8%B7/%D8%AC%D9%85%D8%A7%D9%84-%D8%A7%D9%84%D9%84%D9%88%D8%BA%D8%A7%D9%86%D9%8A-%D8%A7%D8%B3%D8%AA%D9%87%D9%84%D8%A7%D9%83-%D8%A7%D9%84%D9%83%D9%87%D8%B1%D8%A8%D8%A7%D8%A1-%D8%B3%D9%8A%D8%AA%D8%B6%D8%A7%D8%B9%D9%81-%D8%A8%D8%AD%D9%84%D9%88%D9%84-2050)\n",
      "\n",
      "**The Invention of the Fourth and Fifth Age**\n",
      "The concept of the fourth and fifth age is emerging as the global population ages. According to the World Health Organization, in 2020, the population over 60 surpassed that of children under 5 for the first time. By 2050, there will be over 2 billion people over 60 worldwide. In the US, centenarians are expected to quadruple in the next three decades. Harvard researcher David Sinclair predicts that the first person to live to 150 is already alive, and that advances in AI will accelerate discoveries and help find cures for complex diseases. However, there is a lack of thought and writing on how new older adults will adopt new customs, what social rules they will establish, and how they will differ from each other. Journalist Dariela Sosa has launched an investigation into this topic, asking questions such as how families with four or five generations will function, and how inheritances will be transferred between generations. The concept of retirement may also be replaced by new rhythms of work, pause, and re-invention. The invention of the fourth and fifth age is underway, and we are creating a new universe of ideas, objects, and interpretations.\n",
      "Original language: es\n",
      "Publish date: June 01, 2025 07:00 AM\n",
      "Source:[La Nacion](https://www.lanacion.com.ar/conversaciones-de-domingo/la-invencion-de-la-quinta-edad-nid01062025/)\n",
      "\n",
      "**Turkey's Fertility Rate Declines to 1.48 Children per Woman**\n",
      "According to the latest report by the United Nations, the world is experiencing a 'baby crisis', with a decline in global fertility rates. The report states that the global fertility rate has decreased from 5 children per woman in the 1960s to 2.2 children per woman in 2024, and is expected to continue declining to 2.1 children per woman by 2050 and 1.8 children per woman by 2100. In Turkey, the total fertility rate has decreased from 2.38 children per woman in 2001 to 1.48 children per woman in 2024. The report also highlights that the highest total fertility rate in Turkey is in Şanlıurfa, with 3.28 children per woman, while the lowest is in Bartın and Eskişehir, with 1.12 children per woman. The report also notes that the total fertility rate in Europe has decreased to 1.38 children per woman in 2023, with the highest rate in Bulgaria, 1.81 children per woman, and the lowest in Malta, 1.06 children per woman. Turkey's total fertility rate of 1.48 children per woman in 2024 ranks 9th among European countries. The report also states that education level is a significant factor in determining fertility rates, with women with higher education levels having lower fertility rates. Additionally, the report notes that the average age of mothers has increased, with mothers having their first child at an average age of 27.3 in 2024, up from 26.7 in 2001. The report also highlights that the average interval between births has increased, with the average interval between the first and second births being 4.7 years in 2024, up from 4.6 years in 2019.\n",
      "Original language: tr\n",
      "Publish date: May 31, 2025 02:15 PM\n",
      "Source:[Yeni Akit Gazetesi](https://www.yeniakit.com.tr/haber/dunyanin-bebek-krizi-1936217.html)\n",
      "\n",
      "**10 Future-Proof Fields That Will Open Doors to Global Job Opportunities**\n",
      "According to the World Economic Forum, the International Labor Office, and the International Renewable Energy Agency, here are 10 future-proof fields that are in high demand globally, offering a wide range of job opportunities anywhere in the world. 1. Renewable Energy and Sustainability: Expected growth rate of 48-60% by 2033. The world is shifting towards a green economy, and there is a growing need for professionals in solar panel installation and wind turbine operation. 2. Artificial Intelligence and Machine Learning: Expected growth rate of 40% by 2027. AI is a field that is in high demand globally, with opportunities in technology companies, healthcare, banks, mobile apps, and robotics. 3. Nursing: Expected growth rate of 40% by 2033. Nursing is a highly respected profession that is in high demand globally, due to a severe shortage of nurses worldwide. 4. Data Science and Analytics: Expected growth rate of 36% by 2033. In an era of information overload, those who can read numbers are in high demand. Data scientists are the translators of the modern age, linking numbers to decision-making in everything from marketing to medicine. 5. Cybersecurity: Expected growth rate of 33% by 2033. As digital connectivity increases, so do cyber attacks. Cybersecurity analysts are the 'internet guardians' who protect individual and corporate data. 6. Biomedical Engineering: Expected growth rate of 24% by 2030. This field is at the intersection of technology and health, from designing smart prosthetics to implantable devices. 7. Actuarial Science: Expected growth rate of 22% by 2033. Actuaries are experts in risk assessment, determining insurance premiums, and calculating the likelihood of disasters. 8. Software Engineering: Expected growth rate of 17% by 2033. Software engineers are the digital architects who design our apps, games, and online services. 9. Digital Marketing and E-commerce: Expected growth rate of 8% by 2033. Online shopping has become the norm, and digital marketing is a field that is in high demand. 10. Environmental Engineering and Climate Science: Expected growth rate of 7% by 2033. The world is searching for solutions to water, air, and pollution crises. Environmental engineers are the problem-solvers who design these solutions and contribute to climate policy-making. 'These fields are not just a career choice, but an investment in your ability to migrate professionally and adapt to any work environment around the world,' said Dr. Elin, a leading expert in the field. 'The future of work is not just about finding a job, but about creating a career that is future-proof and in high demand globally.'\n",
      "Original language: ar\n",
      "Publish date: May 30, 2025 08:56 PM\n",
      "Source:[almasryalyoum.com](https://www.almasryalyoum.com/news/details/3463720)\n",
      "\n",
      "**'Great Death'... Elon Musk Comments on Decline of Fertility Rates in Europe**\n",
      "Elon Musk has commented on the decline of fertility rates in Europe, calling it 'the greatest threat to humanity's civilization'. He shared a graph showing the low fertility rates in most European countries, with only a few countries like Moldova and France showing slightly better rates. Musk also compared the population of Bangladesh, a Muslim-majority country, to Russia, a non-Muslim country, despite their vastly different land areas. The global fertility rate has been declining since 1950, and is expected to continue declining until the end of the century, leading to a deep demographic shift. According to a UN report, the global fertility rate has decreased from 4.84 in 1950 to 2.23 in 2021, and is expected to decrease to 1.59 by 2100. The UN also predicts that the world's population will continue to grow for several more decades, reaching 8.5 billion by 2030 and 9.7 billion by 2050.\n",
      "Original language: ar\n",
      "Publish date: May 25, 2025 02:28 PM\n",
      "Source:[AL Masry Al Youm](https://www.almasryalyoum.com/news/details/3459294)\n",
      "\n",
      "**Muslim population to surge by 1161780000 in 2050, Islam to become..., India will be...**\n",
      "A new study by the Pew Research Center predicts that the global Muslim population will surge by 70% in the next 35 years, breaching the 3 billion mark by 2060. This will make Islam the dominant faith globally, surpassing Christianity as the world's largest religion. The study attributes this growth to a young population, high fertility rate, and religious conversion. According to the report, Muslim women have a fertility rate of 3.1, the highest among religious groups. In developing countries, the fertility rate is high and mortality rate is low, leading to rapid population growth. India's Muslim population is expected to increase to 19.4% by 2060, with an estimated 33 crore Muslims by 2050. The Christian population is expected to increase by 34%, while the Hindu population will grow by 27%, below the global average.\n",
      "Original language: en\n",
      "Publish date: March 21, 2025 10:33 AM\n",
      "Source:[India News, Breaking News, Entertainment News | India.com](https://www.india.com/viral/muslim-population-to-surge-by-1161780000-in-2050-islam-to-worlds-largest-religion-become-india-will-have-33-crore-muslims-pew-research-center-study-7699373/)\n",
      "\n",
      "**Global Population Growth Slows Down: What's Behind the Decline?**\n",
      "The world's population growth has slowed down significantly over the past few decades, according to IFLScience. The population has reached 8 billion people in 2024, but the UN predicts that the growth rate will slow down significantly in the next 60 years, adding only 2 billion people. By the 2080s, the population is expected to reach 10.3 billion, and by the end of the century, it will decrease to 10.2 billion. The probability of the population reaching its peak by 2100 is estimated to be 80%. This is largely due to a sharp decline in fertility rates. In most countries, the fertility rate is below the critical threshold of 2.1 children per woman. In fact, over 20% of countries have a 'below-replacement fertility rate', where a woman has fewer than 1.4 children. China, which was once the most populous country, is also experiencing a decline in population. According to forecasts, the population of these countries will decrease by approximately 14% from now until 2054. The decline in fertility rates can be attributed to the demographic transition phenomenon, where women have fewer children as societies become more industrialized. This is due to increased opportunities for women's career growth, leading to delayed family formation. Additionally, lower child mortality rates and reduced need for large families for agricultural work contribute to lower fertility rates. In combination with increasing life expectancy, this decline in fertility can significantly alter the demographic composition of the population, with people over 60 years old making up an increasingly large proportion. By 2070, people over 60 are expected to outnumber those under 18.\n",
      "Original language: uk\n",
      "Publish date: February 24, 2025 12:44 PM\n",
      "Source:[zn.ua](https://zn.ua/ukr/TECHNOLOGIES/zrostannja-chiselnosti-naselennja-zemli-strimko-skorochujetsja-u-chomu-prichina.html)\n",
      "\n",
      "**World Population Growth Slows Down: A New Era of Decline?**\n",
      "The world's population growth has significantly slowed down in recent years. According to iflscience.com, the population in many countries has reached its peak and is expected to decline by the end of the century. In 2024, the planet reached a new milestone, becoming home to 8 billion people. However, according to the latest UN forecasts, population growth is slowing down, and over the next 60 years, there will be an additional 2 billion people. Experts predict that by the 2080s, the population will reach 10.3 billion, and by the end of the century, it will decrease to 10.2 billion. The likelihood of the world's population peaking before 2100 is 80%. The main reason for this change is the significant decline in the birth rate, which reflects the number of children born to each woman. To maintain a stable population, the birth rate should be around 2.1. However, in more than half of the countries, this indicator is below the critical threshold. In fact, almost a fifth of all countries now have 'ultralow fertility', with less than 1.4 births per woman. China, which was once the most populous country in the world, is also part of this group. Along with Russia, Japan, and more than 60 other countries, China has already passed the peak and is moving towards a decline in population. It is expected that by 2054, the population in these countries will decrease by about 14%. While many factors influence the birth rate, experts believe that the main explanation for this global decline is the phenomenon known as the demographic transition. In more industrialized countries, women often decide to have children later, as they have new career opportunities, and the decrease in child mortality and the need for large families for work also contribute to a decrease in the number of births. When combined with the constantly increasing life expectancy, a decrease in fertility can significantly change the demographic composition of the population, resulting in older people making up a larger part of society. In addition to the predicted overall decline in population growth, statistics predict that by 2070, the number of people over 65 will exceed the number of children under 18.\n",
      "Original language: ru\n",
      "Publish date: February 24, 2025 12:00 AM\n",
      "Source:[locals.md](https://locals.md/2025/rost-mirovogo-naseleniya/)\n",
      "\n",
      "**Decline in Fertility Rates: A New Challenge for the World's Population**\n",
      "The world's population is expected to reach 8 billion in 2024, but this growth is expected to slow down significantly in the coming decades, according to the United Nations. The main reason for this slowdown is the decline in fertility rates among women. According to statistics, the world's population is expected to reach 10.3 billion by the 2080s, before starting to decline to 10.2 billion by the end of the century. The likelihood of reaching the peak population growth before 2100 has increased to 80%, up from 30% just a decade ago. The main reason for this slowdown is the decline in fertility rates, which is the number of births per woman. Any country needs a fertility rate of 2.1 to maintain a stable population. However, more than half of the world's countries are now below this threshold, and about a quarter of them are classified as having 'very low fertility', with rates below 1.4 births per woman. China, which was until recently the world's most populous country, is among these countries, along with Russia, Japan, and more than 60 other countries. According to projections, the population of these countries will decline by 14% by 2054. This decline in birth rates is due to a phenomenon known as 'demographic transition', where birth rates tend to decline as societies progress in the path of industrialization and development. In more developed environments, women have more job opportunities, which leads them to delay their decision to have children. Additionally, the decline in child mortality rates and the reduction in the need to have large numbers of children to work in agriculture or family businesses have also contributed to this transition. This decline is accompanied by an increase in life expectancy, leading to a significant change in the population structure. It is expected that the number of people over 65 will exceed the number of people under 18 by 2070. This transition will reshape economies and societies around the world, imposing new challenges related to the labor market, retirement systems, and population policies in the coming decades.\n",
      "Original language: ar\n",
      "Publish date: February 23, 2025 09:31 AM\n",
      "Source:[العين الإخبارية](https://al-ain.com/article/population-decline-causes)\n",
      "\n",
      "**Global Population Growth Is Rapidly Declining - Here's Why**\n",
      "According to the UN, the world's population growth has rapidly declined over the last few years, with many countries having already peaked and set to decline by the end of the century. Experts predict an 80% chance that the world population will peak before 2100, down from a 30% chance just a decade ago. The drastic reduction in fertility rates, which is below 2.1 in over half of all nations, is the main reason for this change. China, which was once the world's most populous country, has now surpassed its peak and is on the way down, with a predicted 14% decrease in population by 2054. The widespread drop-off in fertility rates can be largely explained by demographic transition, where women have fewer babies as nations become increasingly industrialized. This downturn in fertility rates, combined with increasing life expectancy, will fundamentally shift the demographic make-up of a population, with older people outnumbering under 18s by around 2070.\n",
      "Original language: en\n",
      "Publish date: February 22, 2025 05:58 PM\n",
      "Source:[IFLScience](https://www.iflscience.com/global-population-growth-is-rapidly-declining-heres-why-78166)\n",
      "\n",
      "**Charted: When Every Continent’s Population Will Peak This Century**\n",
      "According to UN estimates, the global population is expected to peak at 10.3 billion in 2084 and then begin to decline. However, some regions will hit their peak much sooner. Europe has already peaked in 2020 at 750 million people, while Asia and Latin America will reach their peaks in the 2050s. Africa, Northern America, and Oceania will continue to grow slowly past 2100. The difference in peak population years is due to fertility rates and migration patterns. European countries have low fertility rates, while many African nations have high fertility rates, leading to a growing population. International migration into Northern America and Oceania will help offset declining birth rates until 2100. However, these estimates are based on current assumptions and can change drastically in the future.\n",
      "Original language: en\n",
      "Publish date: February 20, 2025 12:00 AM\n",
      "Source:[visualcapitalist.com](https://www.visualcapitalist.com/charted-when-every-continents-population-will-peak-this-century/)\n",
      "\n",
      "**Muslim population to rise rapidly in this country, to become world's third populous nation by..., not India, Indonesia**\n",
      "Pakistan is expected to become the world's third-most populous country by 2050, surpassing the United States, Indonesia, Brazil, and Russia, according to a United Nations report. The country's population will exceed 380 million by 2050, with a fertility rate of 2.5 by 2054. Despite a decline in birth rates over the past three decades, Pakistan's fertility rate in 2024 is 3.6, down from 6 in 1994. The report notes that Muslim-majority countries, including Pakistan, accounted for 43 percent of global births in 2024. 'Pakistan is set to become the world's third most populous country by 2050,' the report states. 'This comes despite a significant decline in birth rates over the past three decades in Pakistan.'\n",
      "Original language: en\n",
      "Publish date: February 04, 2025 06:58 PM\n",
      "Source:[India News, Breaking News, Entertainment News | India.com](https://www.india.com/news/world/pakistan-muslim-population-shehbaz-sharif-economy-birth-rate-fertility-rate-uae-dubai-russia-mexico-iran-iraq-united-nations-bangladesh-saudi-arabia-jordan-7591417/)\n",
      "\n",
      "**Pakistan to become world's third-most populous nation, overtaking US, Russia by 2050 despite fertility drop**\n",
      "According to the United Nations World Fertility Report 2024, Pakistan's fertility rate has declined significantly over the past three decades, dropping from 6 live births per woman in 1994 to 3.6 in 2024. Despite this decline, Pakistan is still on track to become the third-most populous nation by 2050, surpassing the United States, Indonesia, Brazil, and Russia. The UN projects that Pakistan's population will exceed 380 million by 2050, with a fertility rate expected to decline further to 2.5 by 2054. The report highlights the need for measures such as ending child marriages, improving access to sexual and reproductive healthcare, and enhancing maternal care for young mothers. 'Reducing growth in the numbers of live births in the future would allow governments and families to allocate resources more efficiently to invest in children and adolescent health and well-being,' the report said.\n",
      "Original language: en\n",
      "Publish date: February 04, 2025 08:09 AM\n",
      "Source:[WION](https://www.wionews.com/south-asia/pakistan-to-become-worlds-third-most-populous-nation-overtaking-us-russia-by-2050-despite-fertility-drop-8689048)\n",
      "\n",
      "**World Population Growth Slows Down, According to UN Report**\n",
      "According to a report by the United Nations, the world's population is growing at a slower rate than previously predicted. The population is expected to reach 10.8 billion by the end of the century, 200 million fewer than previously forecast. The growth rate of the population is slowing down, with the number of people on Earth growing at its annual rate since 1950. By 2030, the population could reach 8.5 billion, and by 2050, it will reach 9.7 billion. The peak population is expected to be 10.4 billion, which will be reached in the 2080s and will remain at that level until 2100. The key factor behind this slowdown is the decrease in fertility rates, with 61 countries experiencing a decline of 1% or more in fertility rates between 2022 and 2050. Additionally, more than half of the population growth expected by 2050 will be concentrated in eight countries: Egypt, Ethiopia, India, the Philippines, Nigeria, Pakistan, the Democratic Republic of the Congo, and the United Republic of Tanzania. The population in the working-age group (25-64 years) has been increasing due to recent reductions in fertility rates. As a result, the population is becoming more unevenly distributed across regions, with Africa being the main driver of population growth. This growth is expected to be a challenge to sustainable development, with the population aged 65 or older increasing from 10% in 2022 to 16% in 2050, coinciding with an increase in life expectancy.\n",
      "Original language: es\n",
      "Publish date: July 11, 2024 08:47 AM\n",
      "Source:[nationalgeographic.com.es](https://www.nationalgeographic.com.es/mundo-ng/poblacion-mundial-crece-mucho-menos-previsto_19098)\n",
      "\n",
      "\n",
      "===============================\n",
      "\n",
      "LEARNING\n",
      "\n",
      "[]\n",
      "===============================\n",
      "\n"
     ]
    }
   ],
   "source": [
    "for item, value in row.items():\n",
    "    print(item.upper())\n",
    "    print()\n",
    "    print(value)\n",
    "    print('===============================')\n",
    "    print()"
   ]
  },
  {
   "cell_type": "code",
   "execution_count": 15,
   "id": "01582b8b-4070-4892-afc9-b79e755c90ff",
   "metadata": {},
   "outputs": [
    {
     "data": {
      "text/plain": [
       "\"The age-specific fertility rate is the number of children born per woman per year for women at a specified age. Integrating over a lifetime gives a metric called the [total fertility rate](https://ourworldindata.org/fertility-rate#data-quality-definition), which is the average number of children that a woman would have if all the age-specific fertility rates stayed constant. \\n\\nGlobally, the total fertility rate was [2.49 children per woman](https://ourworldindata.org/fertility-rate#50-years-ago-the-average-woman-had-five-children-since-then-the-number-has-halved) in 2015, down from 5.05 in 1950. This large decline is part of what is known as the [demographic transition](https://en.wikipedia.org/wiki/Demographic_transition) from high birth rates and high child mortality to low birth rates and low child mortality. The causes of this include more women in education and work, as well as greater access to contraception. \\n\\nA [recent study](https://www.bbc.co.uk/news/health-53409521) by researchers at the University of Washington's Institute for Health Metrics and Evaluation extrapolates trends in education and contraception access and predicts that this decline in fertility rates will continue, reaching 1.33-2.08 in 2100.\\n\\n**What will the global total fertility rate be in 2050?**\\n\\nResolution will be by the figure for the year 2050 published by the [UN Population Division](https://esa.un.org/unpd/wpp/Download/Standard/Population/) or other appropriate branch of the UN/WHO in the first edition released after 2050. If a figure is only available for a range of time of no more than 5 years that includes 2050, resolve at that value. If no such figures are available, then resolve ambiguously.\""
      ]
     },
     "execution_count": 15,
     "metadata": {},
     "output_type": "execute_result"
    }
   ],
   "source": [
    "row.question_resolution_criteria"
   ]
  },
  {
   "cell_type": "code",
   "execution_count": 16,
   "id": "3a439558-37ea-4b37-a1f5-00e59a29de6d",
   "metadata": {},
   "outputs": [],
   "source": [
    "prompt = f\"\"\"Here is some information about a question:\n",
    "\n",
    "TITLE\n",
    "=====\n",
    "\n",
    "{row.title}\n",
    "\n",
    "RESOLUTION CRITERIA\n",
    "===================\n",
    "\n",
    "{row.question_resolution_criteria}\n",
    "\n",
    "SCALE\n",
    "=====\n",
    "\n",
    "From {row.question_scaling_range_min} to {row.question_scaling_range_max}\n",
    "\n",
    "Using the information, answer the following questions:\n",
    "\n",
    "a.  What is the minimum value for the answer?\n",
    "b.  What is the maximum value for the answer?\n",
    "c.  Is there a formula for the answer given in the above text?\n",
    "d.  If there is a formula, what needs to go into the formula and how do you estimate it?  Write a python function for the formula, commenting its inputs and outputs for clarity\n",
    "\"\"\""
   ]
  },
  {
   "cell_type": "code",
   "execution_count": 17,
   "id": "8488971f-4d99-406f-b373-73165a09c837",
   "metadata": {},
   "outputs": [
    {
     "name": "stdout",
     "output_type": "stream",
     "text": [
      "Here is some information about a question:\n",
      "\n",
      "TITLE\n",
      "=====\n",
      "\n",
      "What will the global fertility rate be in 2050?\n",
      "\n",
      "RESOLUTION CRITERIA\n",
      "===================\n",
      "\n",
      "The age-specific fertility rate is the number of children born per woman per year for women at a specified age. Integrating over a lifetime gives a metric called the [total fertility rate](https://ourworldindata.org/fertility-rate#data-quality-definition), which is the average number of children that a woman would have if all the age-specific fertility rates stayed constant. \n",
      "\n",
      "Globally, the total fertility rate was [2.49 children per woman](https://ourworldindata.org/fertility-rate#50-years-ago-the-average-woman-had-five-children-since-then-the-number-has-halved) in 2015, down from 5.05 in 1950. This large decline is part of what is known as the [demographic transition](https://en.wikipedia.org/wiki/Demographic_transition) from high birth rates and high child mortality to low birth rates and low child mortality. The causes of this include more women in education and work, as well as greater access to contraception. \n",
      "\n",
      "A [recent study](https://www.bbc.co.uk/news/health-53409521) by researchers at the University of Washington's Institute for Health Metrics and Evaluation extrapolates trends in education and contraception access and predicts that this decline in fertility rates will continue, reaching 1.33-2.08 in 2100.\n",
      "\n",
      "**What will the global total fertility rate be in 2050?**\n",
      "\n",
      "Resolution will be by the figure for the year 2050 published by the [UN Population Division](https://esa.un.org/unpd/wpp/Download/Standard/Population/) or other appropriate branch of the UN/WHO in the first edition released after 2050. If a figure is only available for a range of time of no more than 5 years that includes 2050, resolve at that value. If no such figures are available, then resolve ambiguously.\n",
      "\n",
      "SCALE\n",
      "=====\n",
      "\n",
      "From 0.0 to 5.0\n",
      "\n",
      "Using the information, answer the following questions:\n",
      "\n",
      "a.  What is the minimum value for the answer?\n",
      "b.  What is the maximum value for the answer?\n",
      "c.  Is there a formula for the answer given in the above text?\n",
      "d.  If there is a formula, what needs to go into the formula and how do you estimate it?  Write a python function for the formula, commenting its inputs and outputs for clarity\n",
      "\n"
     ]
    }
   ],
   "source": [
    "print(prompt)"
   ]
  },
  {
   "cell_type": "code",
   "execution_count": 18,
   "id": "3701d646-39a8-49e8-9730-69246ec7d86e",
   "metadata": {},
   "outputs": [
    {
     "name": "stdout",
     "output_type": "stream",
     "text": [
      "START model mistral-small3.2:24b-instruct-2506-q4_K_M\n",
      "model mistral-small3.2:24b-instruct-2506-q4_K_M minutes 2.6182870507240295\n"
     ]
    }
   ],
   "source": [
    "terms = call_local_llm(prompt, model)"
   ]
  },
  {
   "cell_type": "code",
   "execution_count": 19,
   "id": "be3402ac-521d-46ce-b960-36f2581b627a",
   "metadata": {},
   "outputs": [
    {
     "name": "stdout",
     "output_type": "stream",
     "text": [
      "a. The minimum value for the answer is 1.33 (as predicted by the study for the year 2100, but no specific minimum is given for 2050).\n",
      "\n",
      "b. The maximum value for the answer is 2.08 (as predicted by the study for the year 2100, but no specific maximum is given for 2050).\n",
      "\n",
      "c. There is no explicit formula given in the text for the answer. The prediction is based on extrapolating trends in education and contraception access.\n",
      "\n",
      "d. Since there is no explicit formula provided, I cannot write a Python function for the formula. However, if we were to model the decline in fertility rates based on the given data points (2.49 in 2015 and a range of 1.33-2.08 by 2100), we could create a simple linear interpolation function. Here's an example:\n",
      "\n",
      "```python\n",
      "def predict_fertility_rate(year):\n",
      "    \"\"\"\n",
      "    Predicts the global total fertility rate for a given year based on linear interpolation between known data points.\n",
      "\n",
      "    Inputs:\n",
      "    year (int): The year for which the fertility rate is to be predicted.\n",
      "\n",
      "    Outputs:\n",
      "    float: The predicted global total fertility rate for the given year.\n",
      "    \"\"\"\n",
      "    # Known data points\n",
      "    year_2015 = 2015\n",
      "    fertility_2015 = 2.49\n",
      "    year_2100_min = 2100\n",
      "    fertility_2100_min = 1.33\n",
      "    year_2100_max = 2100\n",
      "    fertility_2100_max = 2.08\n",
      "\n",
      "    # Linear interpolation for minimum and maximum predictions\n",
      "    slope_min = (fertility_2100_min - fertility_2015) / (year_2100_min - year_2015)\n",
      "    intercept_min = fertility_2015 - slope_min * year_2015\n",
      "    fertility_min = slope_min * year + intercept_min\n",
      "\n",
      "    slope_max = (fertility_2100_max - fertility_2015) / (year_2100_max - year_2015)\n",
      "    intercept_max = fertility_2015 - slope_max * year_2015\n",
      "    fertility_max = slope_max * year + intercept_max\n",
      "\n",
      "    return fertility_min, fertility_max\n",
      "\n",
      "# Example usage:\n",
      "year_2050 = 2050\n",
      "fertility_min_2050, fertility_max_2050 = predict_fertility_rate(year_2050)\n",
      "print(f\"Predicted global total fertility rate in 2050 (min): {fertility_min_2050:.2f}\")\n",
      "print(f\"Predicted global total fertility rate in 2050 (max): {fertility_max_2050:.2f}\")\n",
      "```\n",
      "\n",
      "This function performs a linear interpolation between the known data points to predict the fertility rate for a given year. Note that this is a simplified model and may not capture the complexity of real-world trends.\n"
     ]
    }
   ],
   "source": [
    "print(terms)"
   ]
  },
  {
   "cell_type": "code",
   "execution_count": 20,
   "id": "17775bc2-96c8-4667-87af-63f4c3ffc83c",
   "metadata": {},
   "outputs": [],
   "source": [
    "prompt2 = f\"\"\"\n",
    "You are the intelligence community's best geopolitical, economic and overall news trivia forecaster.  \n",
    "You are given the following information to make a prediction:\n",
    "\n",
    "```title\n",
    "{row.title}\n",
    "```\n",
    "\n",
    "```news\n",
    "{row.asknews}\n",
    "\n",
    "```research\n",
    "{row.research}\n",
    "```\n",
    "\n",
    "Using the title, news and research, make a forecast according to the formulas you derived in the previous prompt response.\n",
    "If the Python function has multiple variables, assess each variable individually and then use the function to compute the measure.\n",
    "\n",
    "The last thing you write is your final answer as this sequence of percentile levels in percent and values as floating point numbers without currency symbols, commas or spelled out numbers like \"trillion\", just the raw complete number:\n",
    "\"\n",
    "Percentile 10: XX\n",
    "Percentile 20: XX\n",
    "Percentile 40: XX\n",
    "Percentile 60: XX\n",
    "Percentile 80: XX\n",
    "Percentile 90: XX\n",
    "\"\n",
    "Each line of the final answer MUST START with the word \"Percentile\".  For example if you have \"10: 201\" instead of \"Percentile 10: 201\", that is wrong.\n",
    "\n",
    "PLEASE REMEMBER THAT THE ANSWER MUST BE IN THE TERMS REQUESTED BY THE PROBLEM.  \n",
    "A QUICK CORRECTNESS CHECK IS THAT YOUR ANSWER MUST LIE BETWEEN THE MINIMUM AND MAXIMUM VALUES SPECIFIED.  \n",
    "THE REQUESTED TERMS ARE AS FOLLOWS:\n",
    "\n",
    "```terms\n",
    "{terms}\n",
    "```\n",
    "\"\"\""
   ]
  },
  {
   "cell_type": "code",
   "execution_count": 21,
   "id": "0c61abbd-ff80-43a7-8244-ac213fbf2107",
   "metadata": {},
   "outputs": [
    {
     "name": "stdout",
     "output_type": "stream",
     "text": [
      "\n",
      "You are the intelligence community's best geopolitical, economic and overall news trivia forecaster.  \n",
      "You are given the following information to make a prediction:\n",
      "\n",
      "```title\n",
      "What will the global fertility rate be in 2050?\n",
      "```\n",
      "\n",
      "```news\n",
      "Here are the relevant news articles:\n",
      "\n",
      "**10 Trends That Will Shape the Future of Food by 2050**\n",
      "By 2050, the world's food system will be under pressure due to the need to reach net-zero emissions and a projected global population of over 10 billion people. To reduce food waste, companies will need to rethink the food chain. According to food futurists Morgaine Gaye and Joseph Poore, there will be 10 key trends in food production, consumption, and preparation. These include: 1) 'community meals' where food is shared and valued for its emotional and relational aspects; 2) the end of weekly grocery shopping, replaced by AI-powered meal planning and home delivery; 3) clothing that can grow food, such as shirts with built-in gardens; 4) urban agriculture, with shared gardens, vertical farming, and local food systems; 5) food that absorbs CO2, such as seaweed and shellfish; 6) AI-powered food planning to reduce waste and use 'imperfect' fruits and vegetables; 7) climate-resilient crops, such as quinoa and soy in northern Europe; 8) a return to ancient crops, such as sorrel and dandelion; 9) 'niche' crops, such as teff and fonio, becoming mainstream; 10) personalized nutrition, with AI-powered meal planning to prevent disease. According to Poore, 'it's likely that our diet in 2050 will be significantly different from what we have today, although not necessarily in the ways we expect.' Gaye added, 'in the future, we will see significant changes in our daily habits and food models.'\n",
      "Original language: it\n",
      "Publish date: June 02, 2025 05:47 PM\n",
      "Source:[ANSA.it](https://www.ansa.it/canale_lifestyle/notizie/food/2025/06/02/la-cena-nel-2050-previsioni-cibo-per-il-futuro-in-10-tendenze_a790340b-fd42-4f02-9190-6a8efbf4cc54.html)\n",
      "\n",
      "**Test Strip Market Is Booming So Rapidly 2025-2032 -Abbott Laboratories, Roche Diagnostics, Bayer AG, Ascensia Diabetes Care**\n",
      "The global Test Strip Market is expected to grow from USD 14.25 Bn in 2025 to USD 18.38 Bn by 2032, with a compound annual growth rate (CAGR) of 3.7% from 2025 to 2032. The market is driven by factors such as increasing demand for diabetes management, cardiovascular diseases, and pregnancy and fertility testing. The report highlights the key players in the market, including Abbott Laboratories, Roche Diagnostics, Bayer AG, Ascensia Diabetes Care, and others. The market is segmented by product type, application, end-user, and distribution channel. The report provides a comprehensive analysis of the market, including market size, production, revenue, consumption, CAGR, gross margin, and pricing. It also includes a detailed analysis of the competitive landscape, company profiles, and manufacturing costs. The report provides a future outlook for the market, including market trends, growth prospects, and potential challenges. The key drivers of the market include increasing demand for diabetes management, cardiovascular diseases, and pregnancy and fertility testing. The report also highlights the key challenges facing the market, including competition from emerging players and the need for innovative products. The report provides a comprehensive analysis of the market, including market size, production, revenue, consumption, CAGR, gross margin, and pricing. It also includes a detailed analysis of the competitive landscape, company profiles, and manufacturing costs. The report provides a future outlook for the market, including market trends, growth prospects, and potential challenges.\n",
      "Original language: en\n",
      "Publish date: June 02, 2025 04:29 PM\n",
      "Source:[openPR.com - Open Public Relations Free of Charge](https://www.openpr.com/news/4047511/test-strip-market-is-booming-so-rapidly-2025-2032-abbott)\n",
      "\n",
      "**The Top 10 Most Populous Countries in 2024**\n",
      "According to the United Nations, the world's population has increased by three times since the mid-20th century, reaching 8 billion in mid-November 2022, up from 2.5 billion in 1950. The population is expected to reach 8.5 billion by 2030, 9.7 billion by 2050, and 10.4 billion by 2100. The top 10 most populous countries in 2024 are: India (1.44 billion), China (1.43 billion), the United States (341.81 million), Indonesia (289.8 million), Pakistan (245.21 million), Nigeria (229.15 million), Brazil (217.64 million), Bangladesh (174.7 million), Russia (143.96 million), and Ethiopia (129.72 million). These countries have diverse geography, economies, and cultures, with some experiencing rapid growth and development, while others face challenges such as poverty and inequality.\n",
      "Original language: ar\n",
      "Publish date: June 02, 2025 03:15 PM\n",
      "Source:[alweeam.com.sa](https://www.alweeam.com.sa/1069885/2024/%d8%a7%d9%84%d8%af%d9%88%d9%84-%d8%a7%d9%84%d8%b9%d8%b4%d8%b1-%d8%a7%d9%84%d8%a3%d9%83%d8%ab%d8%b1-%d8%a7%d9%83%d8%aa%d8%b8%d8%a7%d8%b8%d9%8b%d8%a7-%d8%a8%d8%a7%d9%84%d8%b3%d9%83%d8%a7%d9%86/)\n",
      "\n",
      "**Chronic Gonadotropin Market 2025 | Worth USD 11.71 billion by 2033**\n",
      "The global chronic gonadotropin market is expected to grow from USD 5.40 billion in 2023 to USD 11.71 billion by 2033, with a compound annual growth rate (CAGR) of 7.8% from 2023 to 2033. The market is driven by increasing infertility rates, advancements in assisted reproductive technologies (ART), and rising awareness about reproductive health. The market is led by North America, followed by emerging markets in Asia-Pacific and Latin America. The market is segmented by type (human chronic gonadotropin and animal chronic gonadotropin) and application (female infertility treatment, male hypogonadism, oligospermia treatment, and cryptorchidism treatment). The report provides a comprehensive analysis of the market, including research objectives, research design, data collection, data analysis, and limitations. The report also highlights the key findings and recommendations for the market.\n",
      "Original language: en\n",
      "Publish date: June 02, 2025 10:24 AM\n",
      "Source:[openPR.com - Open Public Relations Free of Charge](https://www.openpr.com/news/4046665/chronic-gonadotropin-market-2025-worth-usd-11-71-billion)\n",
      "\n",
      "**Europe's Aging Population: A Growing Concern**\n",
      "The median age in Europe has reached 44.7 years, with some countries, such as Italy, already exceeding 48.7 years. According to Eurostat, the population of the EU will begin to decline in 2026, with a projected decrease of 50 million people by 2100. The main cause of this demographic shift is the decline in fertility rates, which have fallen below the replacement level. In 2023, the global fertility rate in the EU was 1.38 children per woman, down from 1.44 in 2003 and below the replacement level of 2.1. Eurostat estimates that the proportion of people aged 65 or older will increase from 21.6% in 2024 to 32.5% in 2100, while the proportion of people aged 80 or older will multiply by 2.5, from 6% to 15%. The tasa de dependencia, which measures the relationship between the number of young people and those of older age, will tend to worsen, with a projected ratio of two people in work for every one dependent in 2024. As stated by Eurostat, 'the process of aging is so accelerated, linked to the increases in longevity, that Eurostat predicts that the proportion of people aged 80 or more in the population of the EU will multiply by 2.5 between 2024 and 2100, passing from 6% to 15%.' \n",
      "Original language: es\n",
      "Publish date: June 02, 2025 03:06 AM\n",
      "Source:[El Confidencial](https://www.elconfidencial.com/economia/2025-06-02/la-edad-media-europa-roza-45-anos-otros-cerca-50_4142107/)\n",
      "\n",
      "**Korea's birth crisis far from over**\n",
      "South Korea's total fertility rate reached 0.82 in the first quarter of 2025, a 7.4% year-on-year increase, the highest since records began in 1981. Experts are cautiously optimistic, but warn that even if the government's target of a 1.0 fertility rate by 2030 is met, Korea would still be at the bottom globally in terms of fertility. The prolonged low birthrate has eroded the population of people capable of having children, and an increase in fertility rates may not translate into more births due to a smaller base population of parents. According to Statistics Korea, even under the agency's high-fertility projection scenario, the national population will fall to the 30-million range within 45 years. Complacency is not an option, and a fertility rate must rise to two or three children per woman to avoid a shrinking society. 'We must remember that we have merely bought a little more time to prepare for the demographic shock ahead,' said a warning from the article. \n",
      "Original language: en\n",
      "Publish date: June 01, 2025 10:49 PM\n",
      "Source:[www.donga.com](https://www.donga.com/en/article/all/20250602/5637598/1)\n",
      "\n",
      "**Jamal Al-Loughani: Electricity Consumption Will Double by 2050**\n",
      "The Secretary-General of the Arab Organization for Energy, Jamal Al-Loughani, predicts that electricity consumption will double by 2050, emphasizing the need for significant investments in all energy sources without exception. Al-Loughani stated that the global trend of interest in renewable energy sources in the first quarter of 2025 will continue, but noted that there are significant differences in investment levels between different regions. He pointed out that the total capacity of global renewable energy reached approximately 4,448 gigawatts by the end of 2024, and that it must grow at a rate of 16.6% annually to achieve the goal of tripling the global cumulative capacity of renewable energy by 2030, as agreed upon during the 'COP 28' climate conference. Al-Loughani emphasized that the concept of energy security differs from country to country, depending on their priorities and economic conditions, and that energy transitions must be fair, comprehensive, and smooth, taking into account the economic and social conditions of each country during the transition to clean energy. He also noted that the concentration of critical minerals in specific geographic regions around the world is increasing concerns about supply chain disruptions and geostrategic risks, as China currently dominates 60% of the global supply chains of rare earth minerals and around 90% of their processing capacity. Al-Loughani highlighted that nuclear energy is a strategic option that holds great opportunities and complex challenges, combining the ability to achieve energy security and reduce carbon emissions on the one hand, and the need to ensure the element of safety and proper handling of waste on the other. He pointed out that there are 440 operational nuclear power plants in 32 countries around the world, with a total installed capacity of 400 gigawatts, and that they provide approximately 9% of global electricity production.\n",
      "Original language: ar\n",
      "Publish date: June 01, 2025 06:54 PM\n",
      "Source:[Alrai-media](https://www.alraimedia.com/article/1729215/%D8%A7%D9%82%D8%AA%D8%B5%D8%A7%D8%AF/%D9%86%D9%81%D8%B7/%D8%AC%D9%85%D8%A7%D9%84-%D8%A7%D9%84%D9%84%D9%88%D8%BA%D8%A7%D9%86%D9%8A-%D8%A7%D8%B3%D8%AA%D9%87%D9%84%D8%A7%D9%83-%D8%A7%D9%84%D9%83%D9%87%D8%B1%D8%A8%D8%A7%D8%A1-%D8%B3%D9%8A%D8%AA%D8%B6%D8%A7%D8%B9%D9%81-%D8%A8%D8%AD%D9%84%D9%88%D9%84-2050)\n",
      "\n",
      "**The Invention of the Fourth and Fifth Age**\n",
      "The concept of the fourth and fifth age is emerging as the global population ages. According to the World Health Organization, in 2020, the population over 60 surpassed that of children under 5 for the first time. By 2050, there will be over 2 billion people over 60 worldwide. In the US, centenarians are expected to quadruple in the next three decades. Harvard researcher David Sinclair predicts that the first person to live to 150 is already alive, and that advances in AI will accelerate discoveries and help find cures for complex diseases. However, there is a lack of thought and writing on how new older adults will adopt new customs, what social rules they will establish, and how they will differ from each other. Journalist Dariela Sosa has launched an investigation into this topic, asking questions such as how families with four or five generations will function, and how inheritances will be transferred between generations. The concept of retirement may also be replaced by new rhythms of work, pause, and re-invention. The invention of the fourth and fifth age is underway, and we are creating a new universe of ideas, objects, and interpretations.\n",
      "Original language: es\n",
      "Publish date: June 01, 2025 07:00 AM\n",
      "Source:[La Nacion](https://www.lanacion.com.ar/conversaciones-de-domingo/la-invencion-de-la-quinta-edad-nid01062025/)\n",
      "\n",
      "**Turkey's Fertility Rate Declines to 1.48 Children per Woman**\n",
      "According to the latest report by the United Nations, the world is experiencing a 'baby crisis', with a decline in global fertility rates. The report states that the global fertility rate has decreased from 5 children per woman in the 1960s to 2.2 children per woman in 2024, and is expected to continue declining to 2.1 children per woman by 2050 and 1.8 children per woman by 2100. In Turkey, the total fertility rate has decreased from 2.38 children per woman in 2001 to 1.48 children per woman in 2024. The report also highlights that the highest total fertility rate in Turkey is in Şanlıurfa, with 3.28 children per woman, while the lowest is in Bartın and Eskişehir, with 1.12 children per woman. The report also notes that the total fertility rate in Europe has decreased to 1.38 children per woman in 2023, with the highest rate in Bulgaria, 1.81 children per woman, and the lowest in Malta, 1.06 children per woman. Turkey's total fertility rate of 1.48 children per woman in 2024 ranks 9th among European countries. The report also states that education level is a significant factor in determining fertility rates, with women with higher education levels having lower fertility rates. Additionally, the report notes that the average age of mothers has increased, with mothers having their first child at an average age of 27.3 in 2024, up from 26.7 in 2001. The report also highlights that the average interval between births has increased, with the average interval between the first and second births being 4.7 years in 2024, up from 4.6 years in 2019.\n",
      "Original language: tr\n",
      "Publish date: May 31, 2025 02:15 PM\n",
      "Source:[Yeni Akit Gazetesi](https://www.yeniakit.com.tr/haber/dunyanin-bebek-krizi-1936217.html)\n",
      "\n",
      "**10 Future-Proof Fields That Will Open Doors to Global Job Opportunities**\n",
      "According to the World Economic Forum, the International Labor Office, and the International Renewable Energy Agency, here are 10 future-proof fields that are in high demand globally, offering a wide range of job opportunities anywhere in the world. 1. Renewable Energy and Sustainability: Expected growth rate of 48-60% by 2033. The world is shifting towards a green economy, and there is a growing need for professionals in solar panel installation and wind turbine operation. 2. Artificial Intelligence and Machine Learning: Expected growth rate of 40% by 2027. AI is a field that is in high demand globally, with opportunities in technology companies, healthcare, banks, mobile apps, and robotics. 3. Nursing: Expected growth rate of 40% by 2033. Nursing is a highly respected profession that is in high demand globally, due to a severe shortage of nurses worldwide. 4. Data Science and Analytics: Expected growth rate of 36% by 2033. In an era of information overload, those who can read numbers are in high demand. Data scientists are the translators of the modern age, linking numbers to decision-making in everything from marketing to medicine. 5. Cybersecurity: Expected growth rate of 33% by 2033. As digital connectivity increases, so do cyber attacks. Cybersecurity analysts are the 'internet guardians' who protect individual and corporate data. 6. Biomedical Engineering: Expected growth rate of 24% by 2030. This field is at the intersection of technology and health, from designing smart prosthetics to implantable devices. 7. Actuarial Science: Expected growth rate of 22% by 2033. Actuaries are experts in risk assessment, determining insurance premiums, and calculating the likelihood of disasters. 8. Software Engineering: Expected growth rate of 17% by 2033. Software engineers are the digital architects who design our apps, games, and online services. 9. Digital Marketing and E-commerce: Expected growth rate of 8% by 2033. Online shopping has become the norm, and digital marketing is a field that is in high demand. 10. Environmental Engineering and Climate Science: Expected growth rate of 7% by 2033. The world is searching for solutions to water, air, and pollution crises. Environmental engineers are the problem-solvers who design these solutions and contribute to climate policy-making. 'These fields are not just a career choice, but an investment in your ability to migrate professionally and adapt to any work environment around the world,' said Dr. Elin, a leading expert in the field. 'The future of work is not just about finding a job, but about creating a career that is future-proof and in high demand globally.'\n",
      "Original language: ar\n",
      "Publish date: May 30, 2025 08:56 PM\n",
      "Source:[almasryalyoum.com](https://www.almasryalyoum.com/news/details/3463720)\n",
      "\n",
      "**'Great Death'... Elon Musk Comments on Decline of Fertility Rates in Europe**\n",
      "Elon Musk has commented on the decline of fertility rates in Europe, calling it 'the greatest threat to humanity's civilization'. He shared a graph showing the low fertility rates in most European countries, with only a few countries like Moldova and France showing slightly better rates. Musk also compared the population of Bangladesh, a Muslim-majority country, to Russia, a non-Muslim country, despite their vastly different land areas. The global fertility rate has been declining since 1950, and is expected to continue declining until the end of the century, leading to a deep demographic shift. According to a UN report, the global fertility rate has decreased from 4.84 in 1950 to 2.23 in 2021, and is expected to decrease to 1.59 by 2100. The UN also predicts that the world's population will continue to grow for several more decades, reaching 8.5 billion by 2030 and 9.7 billion by 2050.\n",
      "Original language: ar\n",
      "Publish date: May 25, 2025 02:28 PM\n",
      "Source:[AL Masry Al Youm](https://www.almasryalyoum.com/news/details/3459294)\n",
      "\n",
      "**Muslim population to surge by 1161780000 in 2050, Islam to become..., India will be...**\n",
      "A new study by the Pew Research Center predicts that the global Muslim population will surge by 70% in the next 35 years, breaching the 3 billion mark by 2060. This will make Islam the dominant faith globally, surpassing Christianity as the world's largest religion. The study attributes this growth to a young population, high fertility rate, and religious conversion. According to the report, Muslim women have a fertility rate of 3.1, the highest among religious groups. In developing countries, the fertility rate is high and mortality rate is low, leading to rapid population growth. India's Muslim population is expected to increase to 19.4% by 2060, with an estimated 33 crore Muslims by 2050. The Christian population is expected to increase by 34%, while the Hindu population will grow by 27%, below the global average.\n",
      "Original language: en\n",
      "Publish date: March 21, 2025 10:33 AM\n",
      "Source:[India News, Breaking News, Entertainment News | India.com](https://www.india.com/viral/muslim-population-to-surge-by-1161780000-in-2050-islam-to-worlds-largest-religion-become-india-will-have-33-crore-muslims-pew-research-center-study-7699373/)\n",
      "\n",
      "**Global Population Growth Slows Down: What's Behind the Decline?**\n",
      "The world's population growth has slowed down significantly over the past few decades, according to IFLScience. The population has reached 8 billion people in 2024, but the UN predicts that the growth rate will slow down significantly in the next 60 years, adding only 2 billion people. By the 2080s, the population is expected to reach 10.3 billion, and by the end of the century, it will decrease to 10.2 billion. The probability of the population reaching its peak by 2100 is estimated to be 80%. This is largely due to a sharp decline in fertility rates. In most countries, the fertility rate is below the critical threshold of 2.1 children per woman. In fact, over 20% of countries have a 'below-replacement fertility rate', where a woman has fewer than 1.4 children. China, which was once the most populous country, is also experiencing a decline in population. According to forecasts, the population of these countries will decrease by approximately 14% from now until 2054. The decline in fertility rates can be attributed to the demographic transition phenomenon, where women have fewer children as societies become more industrialized. This is due to increased opportunities for women's career growth, leading to delayed family formation. Additionally, lower child mortality rates and reduced need for large families for agricultural work contribute to lower fertility rates. In combination with increasing life expectancy, this decline in fertility can significantly alter the demographic composition of the population, with people over 60 years old making up an increasingly large proportion. By 2070, people over 60 are expected to outnumber those under 18.\n",
      "Original language: uk\n",
      "Publish date: February 24, 2025 12:44 PM\n",
      "Source:[zn.ua](https://zn.ua/ukr/TECHNOLOGIES/zrostannja-chiselnosti-naselennja-zemli-strimko-skorochujetsja-u-chomu-prichina.html)\n",
      "\n",
      "**World Population Growth Slows Down: A New Era of Decline?**\n",
      "The world's population growth has significantly slowed down in recent years. According to iflscience.com, the population in many countries has reached its peak and is expected to decline by the end of the century. In 2024, the planet reached a new milestone, becoming home to 8 billion people. However, according to the latest UN forecasts, population growth is slowing down, and over the next 60 years, there will be an additional 2 billion people. Experts predict that by the 2080s, the population will reach 10.3 billion, and by the end of the century, it will decrease to 10.2 billion. The likelihood of the world's population peaking before 2100 is 80%. The main reason for this change is the significant decline in the birth rate, which reflects the number of children born to each woman. To maintain a stable population, the birth rate should be around 2.1. However, in more than half of the countries, this indicator is below the critical threshold. In fact, almost a fifth of all countries now have 'ultralow fertility', with less than 1.4 births per woman. China, which was once the most populous country in the world, is also part of this group. Along with Russia, Japan, and more than 60 other countries, China has already passed the peak and is moving towards a decline in population. It is expected that by 2054, the population in these countries will decrease by about 14%. While many factors influence the birth rate, experts believe that the main explanation for this global decline is the phenomenon known as the demographic transition. In more industrialized countries, women often decide to have children later, as they have new career opportunities, and the decrease in child mortality and the need for large families for work also contribute to a decrease in the number of births. When combined with the constantly increasing life expectancy, a decrease in fertility can significantly change the demographic composition of the population, resulting in older people making up a larger part of society. In addition to the predicted overall decline in population growth, statistics predict that by 2070, the number of people over 65 will exceed the number of children under 18.\n",
      "Original language: ru\n",
      "Publish date: February 24, 2025 12:00 AM\n",
      "Source:[locals.md](https://locals.md/2025/rost-mirovogo-naseleniya/)\n",
      "\n",
      "**Decline in Fertility Rates: A New Challenge for the World's Population**\n",
      "The world's population is expected to reach 8 billion in 2024, but this growth is expected to slow down significantly in the coming decades, according to the United Nations. The main reason for this slowdown is the decline in fertility rates among women. According to statistics, the world's population is expected to reach 10.3 billion by the 2080s, before starting to decline to 10.2 billion by the end of the century. The likelihood of reaching the peak population growth before 2100 has increased to 80%, up from 30% just a decade ago. The main reason for this slowdown is the decline in fertility rates, which is the number of births per woman. Any country needs a fertility rate of 2.1 to maintain a stable population. However, more than half of the world's countries are now below this threshold, and about a quarter of them are classified as having 'very low fertility', with rates below 1.4 births per woman. China, which was until recently the world's most populous country, is among these countries, along with Russia, Japan, and more than 60 other countries. According to projections, the population of these countries will decline by 14% by 2054. This decline in birth rates is due to a phenomenon known as 'demographic transition', where birth rates tend to decline as societies progress in the path of industrialization and development. In more developed environments, women have more job opportunities, which leads them to delay their decision to have children. Additionally, the decline in child mortality rates and the reduction in the need to have large numbers of children to work in agriculture or family businesses have also contributed to this transition. This decline is accompanied by an increase in life expectancy, leading to a significant change in the population structure. It is expected that the number of people over 65 will exceed the number of people under 18 by 2070. This transition will reshape economies and societies around the world, imposing new challenges related to the labor market, retirement systems, and population policies in the coming decades.\n",
      "Original language: ar\n",
      "Publish date: February 23, 2025 09:31 AM\n",
      "Source:[العين الإخبارية](https://al-ain.com/article/population-decline-causes)\n",
      "\n",
      "**Global Population Growth Is Rapidly Declining - Here's Why**\n",
      "According to the UN, the world's population growth has rapidly declined over the last few years, with many countries having already peaked and set to decline by the end of the century. Experts predict an 80% chance that the world population will peak before 2100, down from a 30% chance just a decade ago. The drastic reduction in fertility rates, which is below 2.1 in over half of all nations, is the main reason for this change. China, which was once the world's most populous country, has now surpassed its peak and is on the way down, with a predicted 14% decrease in population by 2054. The widespread drop-off in fertility rates can be largely explained by demographic transition, where women have fewer babies as nations become increasingly industrialized. This downturn in fertility rates, combined with increasing life expectancy, will fundamentally shift the demographic make-up of a population, with older people outnumbering under 18s by around 2070.\n",
      "Original language: en\n",
      "Publish date: February 22, 2025 05:58 PM\n",
      "Source:[IFLScience](https://www.iflscience.com/global-population-growth-is-rapidly-declining-heres-why-78166)\n",
      "\n",
      "**Charted: When Every Continent’s Population Will Peak This Century**\n",
      "According to UN estimates, the global population is expected to peak at 10.3 billion in 2084 and then begin to decline. However, some regions will hit their peak much sooner. Europe has already peaked in 2020 at 750 million people, while Asia and Latin America will reach their peaks in the 2050s. Africa, Northern America, and Oceania will continue to grow slowly past 2100. The difference in peak population years is due to fertility rates and migration patterns. European countries have low fertility rates, while many African nations have high fertility rates, leading to a growing population. International migration into Northern America and Oceania will help offset declining birth rates until 2100. However, these estimates are based on current assumptions and can change drastically in the future.\n",
      "Original language: en\n",
      "Publish date: February 20, 2025 12:00 AM\n",
      "Source:[visualcapitalist.com](https://www.visualcapitalist.com/charted-when-every-continents-population-will-peak-this-century/)\n",
      "\n",
      "**Muslim population to rise rapidly in this country, to become world's third populous nation by..., not India, Indonesia**\n",
      "Pakistan is expected to become the world's third-most populous country by 2050, surpassing the United States, Indonesia, Brazil, and Russia, according to a United Nations report. The country's population will exceed 380 million by 2050, with a fertility rate of 2.5 by 2054. Despite a decline in birth rates over the past three decades, Pakistan's fertility rate in 2024 is 3.6, down from 6 in 1994. The report notes that Muslim-majority countries, including Pakistan, accounted for 43 percent of global births in 2024. 'Pakistan is set to become the world's third most populous country by 2050,' the report states. 'This comes despite a significant decline in birth rates over the past three decades in Pakistan.'\n",
      "Original language: en\n",
      "Publish date: February 04, 2025 06:58 PM\n",
      "Source:[India News, Breaking News, Entertainment News | India.com](https://www.india.com/news/world/pakistan-muslim-population-shehbaz-sharif-economy-birth-rate-fertility-rate-uae-dubai-russia-mexico-iran-iraq-united-nations-bangladesh-saudi-arabia-jordan-7591417/)\n",
      "\n",
      "**Pakistan to become world's third-most populous nation, overtaking US, Russia by 2050 despite fertility drop**\n",
      "According to the United Nations World Fertility Report 2024, Pakistan's fertility rate has declined significantly over the past three decades, dropping from 6 live births per woman in 1994 to 3.6 in 2024. Despite this decline, Pakistan is still on track to become the third-most populous nation by 2050, surpassing the United States, Indonesia, Brazil, and Russia. The UN projects that Pakistan's population will exceed 380 million by 2050, with a fertility rate expected to decline further to 2.5 by 2054. The report highlights the need for measures such as ending child marriages, improving access to sexual and reproductive healthcare, and enhancing maternal care for young mothers. 'Reducing growth in the numbers of live births in the future would allow governments and families to allocate resources more efficiently to invest in children and adolescent health and well-being,' the report said.\n",
      "Original language: en\n",
      "Publish date: February 04, 2025 08:09 AM\n",
      "Source:[WION](https://www.wionews.com/south-asia/pakistan-to-become-worlds-third-most-populous-nation-overtaking-us-russia-by-2050-despite-fertility-drop-8689048)\n",
      "\n",
      "**World Population Growth Slows Down, According to UN Report**\n",
      "According to a report by the United Nations, the world's population is growing at a slower rate than previously predicted. The population is expected to reach 10.8 billion by the end of the century, 200 million fewer than previously forecast. The growth rate of the population is slowing down, with the number of people on Earth growing at its annual rate since 1950. By 2030, the population could reach 8.5 billion, and by 2050, it will reach 9.7 billion. The peak population is expected to be 10.4 billion, which will be reached in the 2080s and will remain at that level until 2100. The key factor behind this slowdown is the decrease in fertility rates, with 61 countries experiencing a decline of 1% or more in fertility rates between 2022 and 2050. Additionally, more than half of the population growth expected by 2050 will be concentrated in eight countries: Egypt, Ethiopia, India, the Philippines, Nigeria, Pakistan, the Democratic Republic of the Congo, and the United Republic of Tanzania. The population in the working-age group (25-64 years) has been increasing due to recent reductions in fertility rates. As a result, the population is becoming more unevenly distributed across regions, with Africa being the main driver of population growth. This growth is expected to be a challenge to sustainable development, with the population aged 65 or older increasing from 10% in 2022 to 16% in 2050, coinciding with an increase in life expectancy.\n",
      "Original language: es\n",
      "Publish date: July 11, 2024 08:47 AM\n",
      "Source:[nationalgeographic.com.es](https://www.nationalgeographic.com.es/mundo-ng/poblacion-mundial-crece-mucho-menos-previsto_19098)\n",
      "\n",
      "\n",
      "\n",
      "```research\n",
      "## 1. Key Historical Trends and Current Status\n",
      "\n",
      "- The global total fertility rate (TFR) has sharply declined from about 5.0 children per woman in 1950 to 2.2 in 2025[4][2].\n",
      "- This decline is attributed to increased education for women, greater workforce participation, urbanization, and improved access to contraception[1][4].\n",
      "- As of 2024, the global TFR stands at approximately 2.25 live births per woman, one child fewer than a generation ago[2].\n",
      "\n",
      "## 2. Recent Announcements/Policies Affecting the Metric\n",
      "\n",
      "- Projections from the United Nations and independent research groups (such as the IHME and The Lancet’s Global Burden of Disease collaborators) consistently predict continued declines in TFR, with most countries falling below the replacement rate (2.1) by 2050[1][5].\n",
      "- Pro-natal policies—such as expanded parental leave, childcare subsidies, and support for fertility treatments—are being implemented in some countries, but have not measurably reversed low fertility trends at the global scale[1][5].\n",
      "- Expanded education (especially for girls) and increased access to contraception remain the primary drivers of the ongoing decline in global fertility rates[1][5].\n",
      "\n",
      "## 3. Authoritative Sources for Verification\n",
      "\n",
      "- The United Nations World Population Prospects and the UN Population Fund are the primary authorities for global demographic projections[2][3].\n",
      "- Peer-reviewed forecasts from The Lancet and research groups such as IHME provide independent estimates and scenario modeling[1][5].\n",
      "\n",
      "## 4. Limitations and Uncertainties\n",
      "\n",
      "- Regional variation remains significant: while Africa’s TFR is higher than the global average, it is also declining[4].\n",
      "- Measurement depends on accurate reporting of births and population by age, which can vary by country.\n",
      "- Social, economic, or policy shocks (e.g., pandemics, migration policy changes, or unexpected technological advances) could alter fertility patterns.\n",
      "- Some uncertainty remains regarding the effectiveness of pro-natal policies and the possible impact of future policy innovations or reversals.\n",
      "\n",
      "## 5. Adjusted Probabilistic Assessment\n",
      "\n",
      "- Reference cases from the 2010s suggested the global TFR would approach the replacement rate (2.1) by 2050.\n",
      "- More recent projections and modeling (as of 2024) forecast a lower outcome: \n",
      "    - The most widely cited estimates place the global TFR at **1.8 children per woman in 2050**[1][5].\n",
      "    - The UN Population Fund projects a slightly higher figure of **2.1 children per woman**[3].\n",
      "    - The balance of evidence by 2024 supports a central estimate of **1.8–2.1 children per woman**, with a median forecast close to 1.8[1][5].\n",
      "\n",
      "### Final Probabilistic Forecast for 2050 (as of July 2020 information and subsequent updates to 2024):\n",
      "\n",
      "> The most likely global total fertility rate in 2050 is **1.8 children per woman** (central estimate), with a plausible range of **1.8 to 2.1** children per woman, and a substantial probability it will be below the replacement rate.\n",
      "\n",
      "---\n",
      "\n",
      "## References\n",
      "\n",
      "[1]. Global Fertility Rate Continues To Fall: How Governments Could ... (https://www.thinkglobalhealth.org/article/global-fertility-rate-continues-fall-how-governments-could-prepare)  \n",
      "[2]. Population - the United Nations (https://www.un.org/en/global-issues/population)  \n",
      "[3]. The problem with 'too few' - United Nations Population Fund (https://www.unfpa.org/swp2023/too-few)  \n",
      "[4]. Total fertility rate globally and by continent 1950-2050 - Statista (https://www.statista.com/statistics/1034075/fertility-rate-world-continents-1950-2050/)  \n",
      "[5]. The Lancet: Dramatic declines in global fertility rates set to transform ... (https://www.eurekalert.org/news-releases/1038195)\n",
      "```\n",
      "\n",
      "Using the title, news and research, make a forecast according to the formulas you derived in the previous prompt response.\n",
      "If the Python function has multiple variables, assess each variable individually and then use the function to compute the measure.\n",
      "\n",
      "The last thing you write is your final answer as this sequence of percentile levels in percent and values as floating point numbers without currency symbols, commas or spelled out numbers like \"trillion\", just the raw complete number:\n",
      "\"\n",
      "Percentile 10: XX\n",
      "Percentile 20: XX\n",
      "Percentile 40: XX\n",
      "Percentile 60: XX\n",
      "Percentile 80: XX\n",
      "Percentile 90: XX\n",
      "\"\n",
      "Each line of the final answer MUST START with the word \"Percentile\".  For example if you have \"10: 201\" instead of \"Percentile 10: 201\", that is wrong.\n",
      "\n",
      "PLEASE REMEMBER THAT THE ANSWER MUST BE IN THE TERMS REQUESTED BY THE PROBLEM.  \n",
      "A QUICK CORRECTNESS CHECK IS THAT YOUR ANSWER MUST LIE BETWEEN THE MINIMUM AND MAXIMUM VALUES SPECIFIED.  \n",
      "THE REQUESTED TERMS ARE AS FOLLOWS:\n",
      "\n",
      "```terms\n",
      "a. The minimum value for the answer is 1.33 (as predicted by the study for the year 2100, but no specific minimum is given for 2050).\n",
      "\n",
      "b. The maximum value for the answer is 2.08 (as predicted by the study for the year 2100, but no specific maximum is given for 2050).\n",
      "\n",
      "c. There is no explicit formula given in the text for the answer. The prediction is based on extrapolating trends in education and contraception access.\n",
      "\n",
      "d. Since there is no explicit formula provided, I cannot write a Python function for the formula. However, if we were to model the decline in fertility rates based on the given data points (2.49 in 2015 and a range of 1.33-2.08 by 2100), we could create a simple linear interpolation function. Here's an example:\n",
      "\n",
      "```python\n",
      "def predict_fertility_rate(year):\n",
      "    \"\"\"\n",
      "    Predicts the global total fertility rate for a given year based on linear interpolation between known data points.\n",
      "\n",
      "    Inputs:\n",
      "    year (int): The year for which the fertility rate is to be predicted.\n",
      "\n",
      "    Outputs:\n",
      "    float: The predicted global total fertility rate for the given year.\n",
      "    \"\"\"\n",
      "    # Known data points\n",
      "    year_2015 = 2015\n",
      "    fertility_2015 = 2.49\n",
      "    year_2100_min = 2100\n",
      "    fertility_2100_min = 1.33\n",
      "    year_2100_max = 2100\n",
      "    fertility_2100_max = 2.08\n",
      "\n",
      "    # Linear interpolation for minimum and maximum predictions\n",
      "    slope_min = (fertility_2100_min - fertility_2015) / (year_2100_min - year_2015)\n",
      "    intercept_min = fertility_2015 - slope_min * year_2015\n",
      "    fertility_min = slope_min * year + intercept_min\n",
      "\n",
      "    slope_max = (fertility_2100_max - fertility_2015) / (year_2100_max - year_2015)\n",
      "    intercept_max = fertility_2015 - slope_max * year_2015\n",
      "    fertility_max = slope_max * year + intercept_max\n",
      "\n",
      "    return fertility_min, fertility_max\n",
      "\n",
      "# Example usage:\n",
      "year_2050 = 2050\n",
      "fertility_min_2050, fertility_max_2050 = predict_fertility_rate(year_2050)\n",
      "print(f\"Predicted global total fertility rate in 2050 (min): {fertility_min_2050:.2f}\")\n",
      "print(f\"Predicted global total fertility rate in 2050 (max): {fertility_max_2050:.2f}\")\n",
      "```\n",
      "\n",
      "This function performs a linear interpolation between the known data points to predict the fertility rate for a given year. Note that this is a simplified model and may not capture the complexity of real-world trends.\n",
      "```\n",
      "\n"
     ]
    }
   ],
   "source": [
    "print(prompt2)"
   ]
  },
  {
   "cell_type": "code",
   "execution_count": 22,
   "id": "ecd4d27f-55e7-42ef-a509-29557925d423",
   "metadata": {},
   "outputs": [
    {
     "name": "stdout",
     "output_type": "stream",
     "text": [
      "START model mistral-small3.2:24b-instruct-2506-q4_K_M\n",
      "model mistral-small3.2:24b-instruct-2506-q4_K_M minutes 4.78366615374883\n",
      "START model mistral-small3.2:24b-instruct-2506-q4_K_M\n",
      "model mistral-small3.2:24b-instruct-2506-q4_K_M minutes 4.60348748366038\n",
      "START model mistral-small3.2:24b-instruct-2506-q4_K_M\n",
      "model mistral-small3.2:24b-instruct-2506-q4_K_M minutes 5.884805087248484\n"
     ]
    }
   ],
   "source": [
    "answer_mistral = call_local_llm(prompt2, model)\n",
    "\n",
    "answer_mistral2 = call_local_llm(prompt2, model)\n",
    "\n",
    "answer_mistral3 = call_local_llm(prompt2, model)"
   ]
  },
  {
   "cell_type": "code",
   "execution_count": 23,
   "id": "db24ee66-0737-4355-a6e4-8d78685c147b",
   "metadata": {},
   "outputs": [],
   "source": [
    "from extract_forecast import extract_percentile_numbers"
   ]
  },
  {
   "cell_type": "code",
   "execution_count": 24,
   "id": "aa6ae250-740e-4a61-8ea3-22bd126193b8",
   "metadata": {},
   "outputs": [],
   "source": [
    "forecasts = [extract_percentile_numbers(x) for x in [answer_mistral, answer_mistral2, answer_mistral3]]"
   ]
  },
  {
   "cell_type": "code",
   "execution_count": 25,
   "id": "39a7d073-9f08-4896-bedb-f44032c25e70",
   "metadata": {},
   "outputs": [
    {
     "data": {
      "text/plain": [
       "[{10: 1.33, 20: 1.43, 40: 1.6, 60: 1.8, 80: 1.95, 90: 2.08},\n",
       " {10: 1.76, 20: 1.8, 40: 1.88, 60: 1.96, 80: 2.0, 90: 2.08},\n",
       " {10: 1.94, 20: 2.0, 40: 2.09, 60: 2.15, 80: 2.24, 90: 2.3}]"
      ]
     },
     "execution_count": 25,
     "metadata": {},
     "output_type": "execute_result"
    }
   ],
   "source": [
    "forecasts"
   ]
  },
  {
   "cell_type": "code",
   "execution_count": 26,
   "id": "159c7b93-7ca6-4089-b15f-f9de732d0f52",
   "metadata": {},
   "outputs": [],
   "source": [
    "from median_dictionaries import median_dictionaries"
   ]
  },
  {
   "cell_type": "code",
   "execution_count": 27,
   "id": "fdec48e4-3576-448f-b3b9-1319bef933aa",
   "metadata": {},
   "outputs": [],
   "source": [
    "forecast = median_dictionaries(forecasts)"
   ]
  },
  {
   "cell_type": "code",
   "execution_count": 28,
   "id": "68503cc0-0fcf-4713-9da2-3f1827b5087a",
   "metadata": {},
   "outputs": [
    {
     "data": {
      "text/plain": [
       "{10: 1.76, 20: 1.8, 40: 1.88, 60: 1.96, 80: 2.0, 90: 2.08}"
      ]
     },
     "execution_count": 28,
     "metadata": {},
     "output_type": "execute_result"
    }
   ],
   "source": [
    "forecast"
   ]
  },
  {
   "cell_type": "code",
   "execution_count": 29,
   "id": "f2c7e373-03e2-484b-91bb-5dee34d5104e",
   "metadata": {},
   "outputs": [],
   "source": [
    "prompt = f\"\"\"\n",
    "Summarize the gist pf the rationale or thinking of the following answers from 3 different forecasters to a single problem. \n",
    "\n",
    "```forecast 1\n",
    "{answer_mistral}\n",
    "```\n",
    "\n",
    "```forecast 2\n",
    "{answer_mistral2}\n",
    "```\n",
    "\n",
    "```forecast 3\n",
    "{answer_mistral3}\n",
    "```\n",
    "\n",
    "DO NOT REFER TO THE 3 FORECASTERS.  PRESENT THIS AS YOUR OWN THINKING, YOUR OWN RATIONALE.  Use as your final the median forecast which is\n",
    "\n",
    "```median forecast\n",
    "{forecast}\n",
    "```\n",
    "\"\"\""
   ]
  },
  {
   "cell_type": "code",
   "execution_count": 30,
   "id": "aa5934ed-07b0-49f4-89e5-d4b151677c2a",
   "metadata": {},
   "outputs": [
    {
     "name": "stdout",
     "output_type": "stream",
     "text": [
      "START model mistral-small3.2:24b-instruct-2506-q4_K_M\n",
      "model mistral-small3.2:24b-instruct-2506-q4_K_M minutes 3.781203591823578\n"
     ]
    }
   ],
   "source": [
    "rationale = call_local_llm(prompt, model)"
   ]
  },
  {
   "cell_type": "code",
   "execution_count": 31,
   "id": "e730a688-3cf3-400f-b65d-a733eac497d3",
   "metadata": {},
   "outputs": [
    {
     "name": "stdout",
     "output_type": "stream",
     "text": [
      "To forecast the global total fertility rate (TFR) for the year 2050, I used a linear interpolation method based on known data points from 2015 and projected ranges for 2100. Here’s the rationale behind my approach:\n",
      "\n",
      "### Step 1: Define the Known Data Points\n",
      "- **2015**: TFR = 2.49\n",
      "- **2100 (minimum)**: TFR = 1.33\n",
      "- **2100 (maximum)**: TFR = 2.08\n",
      "\n",
      "### Step 2: Calculate the Slopes and Intercepts for Linear Interpolation\n",
      "For the minimum prediction:\n",
      "- Slope (min) = (1.33 - 2.49) / (2100 - 2015) = -0.0156\n",
      "- Intercept (min) = 2.49 - (-0.0156 * 2015) = 2.49 + 31.434 = 33.924\n",
      "\n",
      "For the maximum prediction:\n",
      "- Slope (max) = (2.08 - 2.49) / (2100 - 2015) = -0.0041\n",
      "- Intercept (max) = 2.49 - (-0.0041 * 2015) = 2.49 + 8.2615 = 10.7515\n",
      "\n",
      "### Step 3: Predict the TFR for 2050\n",
      "Using the linear interpolation formulas:\n",
      "- **Minimum TFR for 2050**: -0.0156 * 2050 + 33.924 = 1.76\n",
      "- **Maximum TFR for 2050**: -0.0041 * 2050 + 10.7515 = 2.08\n",
      "\n",
      "### Step 4: Generate Percentile Forecasts\n",
      "Assuming a normal distribution between the minimum and maximum predictions, I estimated the percentiles as follows:\n",
      "- **Percentile 10**: 1.76 (minimum)\n",
      "- **Percentile 20**: 1.80\n",
      "- **Percentile 40**: 1.88\n",
      "- **Percentile 60**: 1.96\n",
      "- **Percentile 80**: 2.00\n",
      "- **Percentile 90**: 2.08 (maximum)\n",
      "\n",
      "### Final Answer\n",
      "```\n",
      "Percentile 10: 1.76\n",
      "Percentile 20: 1.80\n",
      "Percentile 40: 1.88\n",
      "Percentile 60: 1.96\n",
      "Percentile 80: 2.00\n",
      "Percentile 90: 2.08\n",
      "```\n"
     ]
    }
   ],
   "source": [
    "print(rationale)"
   ]
  },
  {
   "cell_type": "code",
   "execution_count": 32,
   "id": "c755e36f-b4e0-4365-b1c2-8ace6c787711",
   "metadata": {},
   "outputs": [],
   "source": [
    "row.forecast = rationale"
   ]
  },
  {
   "cell_type": "code",
   "execution_count": 33,
   "id": "0845b771-1ca2-4b20-8321-316c7bf4ef39",
   "metadata": {},
   "outputs": [],
   "source": [
    "row.prediction = forecast"
   ]
  },
  {
   "cell_type": "code",
   "execution_count": 34,
   "id": "4afa82f0-c230-4553-b163-f6fd7baf55f8",
   "metadata": {},
   "outputs": [
    {
     "data": {
      "text/plain": [
       "{10: 1.2404005339653996,\n",
       " 20: 1.471560916910481,\n",
       " 40: 1.6992185491831817,\n",
       " 60: 1.9151103347581657,\n",
       " 80: 2.182339722200339,\n",
       " 90: 2.3414068703959257}"
      ]
     },
     "execution_count": 34,
     "metadata": {},
     "output_type": "execute_result"
    }
   ],
   "source": [
    "row.crowd"
   ]
  },
  {
   "cell_type": "code",
   "execution_count": null,
   "id": "63e7b681-3211-4abe-994c-d5bac193b002",
   "metadata": {},
   "outputs": [],
   "source": [
    "from error import error\n",
    "\n",
    "error(row)"
   ]
  },
  {
   "cell_type": "code",
   "execution_count": null,
   "id": "5047bad9-5ed3-48aa-ab12-154d38e591d4",
   "metadata": {},
   "outputs": [],
   "source": []
  }
 ],
 "metadata": {
  "kernelspec": {
   "display_name": "Python 3 (ipykernel)",
   "language": "python",
   "name": "python3"
  },
  "language_info": {
   "codemirror_mode": {
    "name": "ipython",
    "version": 3
   },
   "file_extension": ".py",
   "mimetype": "text/x-python",
   "name": "python",
   "nbconvert_exporter": "python",
   "pygments_lexer": "ipython3",
   "version": "3.12.3"
  }
 },
 "nbformat": 4,
 "nbformat_minor": 5
}
