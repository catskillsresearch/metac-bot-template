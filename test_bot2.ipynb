{
 "cells": [
  {
   "cell_type": "markdown",
   "id": "c14abaf7-4228-4494-9ad1-e8589c46a3a0",
   "metadata": {},
   "source": [
    "# Test bot"
   ]
  },
  {
   "cell_type": "code",
   "execution_count": 1,
   "id": "11e50f22-950c-40ce-85fe-0c89f2624bbc",
   "metadata": {},
   "outputs": [
    {
     "name": "stdout",
     "output_type": "stream",
     "text": [
      "created forecast_cogito:latest\n",
      "created forecast_deepseek-r1:32b-qwen-distill-q4_K_M\n",
      "created forecast_gemma3:latest\n",
      "created forecast_granite3.3:2b\n",
      "created forecast_llama3:8b\n",
      "created forecast_magistral:24b-small-2506-q4_K_M\n",
      "created forecast_mistral-small3.1:latest\n",
      "created forecast_openthinker:7b-v2-q4_K_M\n",
      "created forecast_phi4-mini-reasoning:3.8b\n",
      "created forecast_qwen2.5vl:latest\n",
      "created forecast_qwen3:0.6b-q4_K_M\n"
     ]
    }
   ],
   "source": [
    "from ollama_models import ollama_models\n",
    "models = ollama_models()\n",
    "\n",
    "import os\n",
    "for model in models:\n",
    "    dn = f'forecast_{model}'\n",
    "    os.makedirs(dn, exist_ok=True)\n",
    "    print(\"created\", dn)\n",
    "\n",
    "hard_ids = [6614, 1482, 1337, 7811, 8734, 5531, 1454, 6633, 2622, 3054]"
   ]
  },
  {
   "cell_type": "code",
   "execution_count": 3,
   "id": "b8530d78-b284-4479-a3eb-41752b838f16",
   "metadata": {},
   "outputs": [
    {
     "name": "stdout",
     "output_type": "stream",
     "text": [
      "python forecast_question_in_model.py 6614 deepseek-r1:32b-qwen-distill-q4_K_M&\n",
      "python forecast_question_in_model.py 1482 deepseek-r1:32b-qwen-distill-q4_K_M&\n",
      "python forecast_question_in_model.py 1337 deepseek-r1:32b-qwen-distill-q4_K_M&\n",
      "python forecast_question_in_model.py 7811 deepseek-r1:32b-qwen-distill-q4_K_M&\n",
      "python forecast_question_in_model.py 8734 deepseek-r1:32b-qwen-distill-q4_K_M&\n",
      "python forecast_question_in_model.py 5531 deepseek-r1:32b-qwen-distill-q4_K_M&\n",
      "python forecast_question_in_model.py 1454 deepseek-r1:32b-qwen-distill-q4_K_M&\n",
      "python forecast_question_in_model.py 6633 deepseek-r1:32b-qwen-distill-q4_K_M&\n",
      "python forecast_question_in_model.py 2622 deepseek-r1:32b-qwen-distill-q4_K_M&\n",
      "python forecast_question_in_model.py 3054 deepseek-r1:32b-qwen-distill-q4_K_M&\n",
      "python forecast_question_in_model.py 6614 granite3.3:2b&\n",
      "python forecast_question_in_model.py 1482 granite3.3:2b&\n",
      "python forecast_question_in_model.py 1337 granite3.3:2b&\n",
      "python forecast_question_in_model.py 7811 granite3.3:2b&\n",
      "python forecast_question_in_model.py 8734 granite3.3:2b&\n",
      "python forecast_question_in_model.py 5531 granite3.3:2b&\n",
      "python forecast_question_in_model.py 1454 granite3.3:2b&\n",
      "python forecast_question_in_model.py 6633 granite3.3:2b&\n",
      "python forecast_question_in_model.py 2622 granite3.3:2b&\n",
      "python forecast_question_in_model.py 3054 granite3.3:2b&\n",
      "python forecast_question_in_model.py 6614 magistral:24b-small-2506-q4_K_M&\n",
      "python forecast_question_in_model.py 1482 magistral:24b-small-2506-q4_K_M&\n",
      "python forecast_question_in_model.py 1337 magistral:24b-small-2506-q4_K_M&\n",
      "python forecast_question_in_model.py 7811 magistral:24b-small-2506-q4_K_M&\n",
      "python forecast_question_in_model.py 8734 magistral:24b-small-2506-q4_K_M&\n",
      "python forecast_question_in_model.py 5531 magistral:24b-small-2506-q4_K_M&\n",
      "python forecast_question_in_model.py 1454 magistral:24b-small-2506-q4_K_M&\n",
      "python forecast_question_in_model.py 6633 magistral:24b-small-2506-q4_K_M&\n",
      "python forecast_question_in_model.py 2622 magistral:24b-small-2506-q4_K_M&\n",
      "python forecast_question_in_model.py 3054 magistral:24b-small-2506-q4_K_M&\n",
      "python forecast_question_in_model.py 6614 openthinker:7b-v2-q4_K_M&\n",
      "python forecast_question_in_model.py 1482 openthinker:7b-v2-q4_K_M&\n",
      "python forecast_question_in_model.py 1337 openthinker:7b-v2-q4_K_M&\n",
      "python forecast_question_in_model.py 7811 openthinker:7b-v2-q4_K_M&\n",
      "python forecast_question_in_model.py 8734 openthinker:7b-v2-q4_K_M&\n",
      "python forecast_question_in_model.py 5531 openthinker:7b-v2-q4_K_M&\n",
      "python forecast_question_in_model.py 1454 openthinker:7b-v2-q4_K_M&\n",
      "python forecast_question_in_model.py 6633 openthinker:7b-v2-q4_K_M&\n",
      "python forecast_question_in_model.py 2622 openthinker:7b-v2-q4_K_M&\n",
      "python forecast_question_in_model.py 3054 openthinker:7b-v2-q4_K_M&\n",
      "python forecast_question_in_model.py 6614 phi4-mini-reasoning:3.8b&\n",
      "python forecast_question_in_model.py 1482 phi4-mini-reasoning:3.8b&\n",
      "python forecast_question_in_model.py 1337 phi4-mini-reasoning:3.8b&\n",
      "python forecast_question_in_model.py 7811 phi4-mini-reasoning:3.8b&\n",
      "python forecast_question_in_model.py 8734 phi4-mini-reasoning:3.8b&\n",
      "python forecast_question_in_model.py 5531 phi4-mini-reasoning:3.8b&\n",
      "python forecast_question_in_model.py 1454 phi4-mini-reasoning:3.8b&\n",
      "python forecast_question_in_model.py 6633 phi4-mini-reasoning:3.8b&\n",
      "python forecast_question_in_model.py 2622 phi4-mini-reasoning:3.8b&\n",
      "python forecast_question_in_model.py 3054 phi4-mini-reasoning:3.8b&\n",
      "python forecast_question_in_model.py 6614 qwen3:0.6b-q4_K_M&\n",
      "python forecast_question_in_model.py 1482 qwen3:0.6b-q4_K_M&\n",
      "python forecast_question_in_model.py 1337 qwen3:0.6b-q4_K_M&\n",
      "python forecast_question_in_model.py 7811 qwen3:0.6b-q4_K_M&\n",
      "python forecast_question_in_model.py 8734 qwen3:0.6b-q4_K_M&\n",
      "python forecast_question_in_model.py 5531 qwen3:0.6b-q4_K_M&\n",
      "python forecast_question_in_model.py 1454 qwen3:0.6b-q4_K_M&\n",
      "python forecast_question_in_model.py 6633 qwen3:0.6b-q4_K_M&\n",
      "python forecast_question_in_model.py 2622 qwen3:0.6b-q4_K_M&\n",
      "python forecast_question_in_model.py 3054 qwen3:0.6b-q4_K_M&\n"
     ]
    }
   ],
   "source": [
    "for model in models:\n",
    "    for id in hard_ids:\n",
    "        fn = f'forecast_{model}/{id}.md'\n",
    "        if os.path.exists(fn):\n",
    "            continue\n",
    "        print(f'python forecast_question_in_model.py {id} {model}&')"
   ]
  },
  {
   "cell_type": "code",
   "execution_count": null,
   "id": "cd5d788b-15da-46e0-911c-2d213137bb66",
   "metadata": {},
   "outputs": [],
   "source": []
  }
 ],
 "metadata": {
  "kernelspec": {
   "display_name": "Python 3 (ipykernel)",
   "language": "python",
   "name": "python3"
  },
  "language_info": {
   "codemirror_mode": {
    "name": "ipython",
    "version": 3
   },
   "file_extension": ".py",
   "mimetype": "text/x-python",
   "name": "python",
   "nbconvert_exporter": "python",
   "pygments_lexer": "ipython3",
   "version": "3.12.3"
  }
 },
 "nbformat": 4,
 "nbformat_minor": 5
}
