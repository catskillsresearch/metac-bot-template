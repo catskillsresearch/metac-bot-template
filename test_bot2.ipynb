{
 "cells": [
  {
   "cell_type": "markdown",
   "id": "c14abaf7-4228-4494-9ad1-e8589c46a3a0",
   "metadata": {},
   "source": [
    "# Test bot"
   ]
  },
  {
   "cell_type": "code",
   "execution_count": 1,
   "id": "11e50f22-950c-40ce-85fe-0c89f2624bbc",
   "metadata": {},
   "outputs": [
    {
     "name": "stdout",
     "output_type": "stream",
     "text": [
      "created forecast_cogito:latest\n",
      "created forecast_deepseek-r1:32b-qwen-distill-q4_K_M\n",
      "created forecast_gemma3:latest\n",
      "created forecast_granite3.3:2b\n",
      "created forecast_llama3:8b\n",
      "created forecast_magistral:24b-small-2506-q4_K_M\n",
      "created forecast_mistral-small3.1:latest\n",
      "created forecast_openthinker:7b-v2-q4_K_M\n",
      "created forecast_phi4-mini-reasoning:3.8b\n",
      "created forecast_qwen2.5vl:latest\n",
      "created forecast_qwen3:0.6b-q4_K_M\n"
     ]
    }
   ],
   "source": [
    "from ollama_models import ollama_models\n",
    "models = ollama_models()\n",
    "\n",
    "import os\n",
    "for model in models:\n",
    "    dn = f'forecast_{model}'\n",
    "    os.makedirs(dn, exist_ok=True)\n",
    "    print(\"created\", dn)\n",
    "\n",
    "hard_ids = [6614, 1482, 1337, 7811, 8734, 5531, 1454, 6633, 2622, 3054]"
   ]
  },
  {
   "cell_type": "code",
   "execution_count": null,
   "id": "b8530d78-b284-4479-a3eb-41752b838f16",
   "metadata": {},
   "outputs": [
    {
     "name": "stdout",
     "output_type": "stream",
     "text": [
      "created forecast_cogito:latest\n",
      "created forecast_deepseek-r1:32b-qwen-distill-q4_K_M\n",
      "created forecast_gemma3:latest\n",
      "created forecast_granite3.3:2b\n",
      "created forecast_llama3:8b\n",
      "created forecast_magistral:24b-small-2506-q4_K_M\n",
      "created forecast_mistral-small3.1:latest\n",
      "created forecast_openthinker:7b-v2-q4_K_M\n",
      "created forecast_phi4-mini-reasoning:3.8b\n",
      "created forecast_qwen2.5vl:latest\n",
      "created forecast_qwen3:0.6b-q4_K_M\n",
      "Loaded existing index from forecast_index.faiss\n",
      "Index contains 4841 vectors at initialization\n"
     ]
    },
    {
     "name": "stderr",
     "output_type": "stream",
     "text": [
      "  9%|██████████████▌                                                                                                                                                 | 1/11 [00:00<00:01,  6.68it/s]"
     ]
    },
    {
     "name": "stdout",
     "output_type": "stream",
     "text": [
      "Model cogito:latest\n",
      "=== Starting Forecast ===\n",
      "already done forecast_cogito:latest/6614.md\n",
      "already done forecast_cogito:latest/1482.md\n",
      "already done forecast_cogito:latest/1337.md\n",
      "already done forecast_cogito:latest/7811.md\n",
      "already done forecast_cogito:latest/8734.md\n",
      "already done forecast_cogito:latest/5531.md\n",
      "already done forecast_cogito:latest/1454.md\n",
      "already done forecast_cogito:latest/6633.md\n",
      "already done forecast_cogito:latest/2622.md\n",
      "already done forecast_cogito:latest/3054.md\n",
      "Atomically saved RAG state\n",
      "Model deepseek-r1:32b-qwen-distill-q4_K_M\n",
      "=== Starting Forecast ===\n",
      "Detected RAG file updates at 2025-06-20 15:07:49.943847\n",
      "Loaded existing index from forecast_index.faiss\n",
      "Index contains 4841 vectors at initialization\n",
      "###################################################################\n",
      "Combined forecast for 6614\n"
     ]
    },
    {
     "name": "stderr",
     "output_type": "stream",
     "text": [
      "\n",
      "  0%|                                                                                                                                                                         | 0/5 [00:00<?, ?it/s]\u001b[A"
     ]
    }
   ],
   "source": [
    "    "
   ]
  },
  {
   "cell_type": "code",
   "execution_count": null,
   "id": "cd5d788b-15da-46e0-911c-2d213137bb66",
   "metadata": {},
   "outputs": [],
   "source": []
  }
 ],
 "metadata": {
  "kernelspec": {
   "display_name": "Python 3 (ipykernel)",
   "language": "python",
   "name": "python3"
  },
  "language_info": {
   "codemirror_mode": {
    "name": "ipython",
    "version": 3
   },
   "file_extension": ".py",
   "mimetype": "text/x-python",
   "name": "python",
   "nbconvert_exporter": "python",
   "pygments_lexer": "ipython3",
   "version": "3.12.3"
  }
 },
 "nbformat": 4,
 "nbformat_minor": 5
}
