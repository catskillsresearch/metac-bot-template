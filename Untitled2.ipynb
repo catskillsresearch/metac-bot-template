{
 "cells": [
  {
   "cell_type": "code",
   "execution_count": 1,
   "id": "dbb3f4a9-a6d0-4e6d-8ebb-88c76d31372b",
   "metadata": {},
   "outputs": [],
   "source": [
    "from flatten_dict import flatten_dict"
   ]
  },
  {
   "cell_type": "code",
   "execution_count": 2,
   "id": "eee33d8e-5039-465d-8ed0-a8ab405e92c1",
   "metadata": {},
   "outputs": [],
   "source": [
    "import json\n",
    "with open('questions.json', 'r') as f:\n",
    "    questions = json.load(f)"
   ]
  },
  {
   "cell_type": "code",
   "execution_count": 3,
   "id": "904cb0ab-dc6c-4618-889e-843581a8e5ed",
   "metadata": {},
   "outputs": [],
   "source": [
    "qflat = [flatten_dict(q, sep='_') for q in questions]"
   ]
  },
  {
   "cell_type": "code",
   "execution_count": 4,
   "id": "835bc958-132d-4dd3-bacb-350ae665bd3c",
   "metadata": {},
   "outputs": [],
   "source": [
    "import pandas as pd\n",
    "df = pd.DataFrame(qflat)"
   ]
  },
  {
   "cell_type": "code",
   "execution_count": 5,
   "id": "a9a723df-2c5c-4d05-92ab-bcce24d6733f",
   "metadata": {},
   "outputs": [],
   "source": [
    "pd.set_option('display.max_columns', None)"
   ]
  },
  {
   "cell_type": "code",
   "execution_count": 6,
   "id": "06160696-764a-43d3-9cad-8ed495d6d53d",
   "metadata": {},
   "outputs": [],
   "source": [
    "df['question_options'] = df['question_options'].apply(repr)"
   ]
  },
  {
   "cell_type": "code",
   "execution_count": 7,
   "id": "4284d4bf-6975-4c07-9ef9-9ae51b329b94",
   "metadata": {},
   "outputs": [],
   "source": [
    "df = df[df.question_resolution.apply(lambda x: x not in ['annulled', 'ambiguous'])]"
   ]
  },
  {
   "cell_type": "code",
   "execution_count": 8,
   "id": "44d3d0d5-e1e3-48df-bbce-f68493e68e80",
   "metadata": {},
   "outputs": [
    {
     "data": {
      "text/plain": [
       "1168"
      ]
     },
     "execution_count": 8,
     "metadata": {},
     "output_type": "execute_result"
    }
   ],
   "source": [
    "len(df)"
   ]
  },
  {
   "cell_type": "code",
   "execution_count": 9,
   "id": "2e990999-8a6c-40d8-addb-2072883a0101",
   "metadata": {},
   "outputs": [],
   "source": [
    "df_questions = df[[ 'projects_default_project_id',\n",
    " 'id',\n",
    " 'open_time',\n",
    " 'scheduled_resolve_time',\n",
    " 'title',\n",
    " 'question_description',\n",
    " 'question_resolution_criteria',\n",
    " 'question_fine_print',\n",
    " 'question_type',\n",
    " 'question_options',\n",
    " 'question_group_variable',\n",
    " 'question_resolution',\n",
    " 'question_question_weight',\n",
    " 'question_unit',\n",
    " 'question_open_upper_bound',\n",
    " 'question_open_lower_bound',\n",
    " 'question_scaling_range_max',\n",
    " 'question_scaling_range_min']]"
   ]
  },
  {
   "cell_type": "code",
   "execution_count": 10,
   "id": "b4bcd906-eb50-4bd4-856e-661e880e40c3",
   "metadata": {},
   "outputs": [],
   "source": [
    "df_questions.to_json('resolved.json', indent=4)"
   ]
  },
  {
   "cell_type": "code",
   "execution_count": 11,
   "id": "76284f97-33d4-44f3-a399-b61b812cfcd5",
   "metadata": {},
   "outputs": [
    {
     "data": {
      "text/plain": [
       "projects_default_project_id                                                 32721\n",
       "id                                                                          37220\n",
       "open_time                                                    2025-04-28T10:00:00Z\n",
       "scheduled_resolve_time                                       2025-05-17T00:00:00Z\n",
       "title                           How many FBI firearms background checks will i...\n",
       "question_description            In the long term (since the turn of the 21st C...\n",
       "question_resolution_criteria    This question resolves as the number of backgr...\n",
       "question_fine_print             In case of reporting delays, resolution will w...\n",
       "question_type                                                             numeric\n",
       "question_options                                                             None\n",
       "question_group_variable                                                          \n",
       "question_resolution                                                     2284806.0\n",
       "question_question_weight                                                      1.0\n",
       "question_unit                                                   background checks\n",
       "question_open_upper_bound                                                    True\n",
       "question_open_lower_bound                                                    True\n",
       "question_scaling_range_max                                              3100000.0\n",
       "question_scaling_range_min                                              1800000.0\n",
       "Name: 0, dtype: object"
      ]
     },
     "execution_count": 11,
     "metadata": {},
     "output_type": "execute_result"
    }
   ],
   "source": [
    "df_questions.iloc[0]"
   ]
  },
  {
   "cell_type": "code",
   "execution_count": null,
   "id": "622e8a60-8bbb-44ac-a928-3ec537cf5141",
   "metadata": {},
   "outputs": [],
   "source": [
    "\n"
   ]
  },
  {
   "cell_type": "code",
   "execution_count": 12,
   "id": "23bd1e01-9315-489d-bb5a-9852fe038817",
   "metadata": {},
   "outputs": [
    {
     "ename": "NameError",
     "evalue": "name 'generate_prompt_and_date' is not defined",
     "output_type": "error",
     "traceback": [
      "\u001b[31m---------------------------------------------------------------------------\u001b[39m",
      "\u001b[31mNameError\u001b[39m                                 Traceback (most recent call last)",
      "\u001b[36mCell\u001b[39m\u001b[36m \u001b[39m\u001b[32mIn[12]\u001b[39m\u001b[32m, line 1\u001b[39m\n\u001b[32m----> \u001b[39m\u001b[32m1\u001b[39m prompt, cutoff = \u001b[43mgenerate_prompt_and_date\u001b[49m(df_questions.iloc[\u001b[32m0\u001b[39m])\n",
      "\u001b[31mNameError\u001b[39m: name 'generate_prompt_and_date' is not defined"
     ]
    }
   ],
   "source": [
    "prompt, cutoff = generate_prompt_and_date(df_questions.iloc[0])"
   ]
  },
  {
   "cell_type": "code",
   "execution_count": 13,
   "id": "48469c19-931a-4fed-b753-c4c80967c7c7",
   "metadata": {},
   "outputs": [
    {
     "ename": "NameError",
     "evalue": "name 'cutoff' is not defined",
     "output_type": "error",
     "traceback": [
      "\u001b[31m---------------------------------------------------------------------------\u001b[39m",
      "\u001b[31mNameError\u001b[39m                                 Traceback (most recent call last)",
      "\u001b[36mCell\u001b[39m\u001b[36m \u001b[39m\u001b[32mIn[13]\u001b[39m\u001b[32m, line 1\u001b[39m\n\u001b[32m----> \u001b[39m\u001b[32m1\u001b[39m \u001b[43mcutoff\u001b[49m\n",
      "\u001b[31mNameError\u001b[39m: name 'cutoff' is not defined"
     ]
    }
   ],
   "source": [
    "cutoff"
   ]
  },
  {
   "cell_type": "code",
   "execution_count": 14,
   "id": "ece829b8-c8a9-4c92-96e6-e34ca7f6fad8",
   "metadata": {},
   "outputs": [
    {
     "ename": "NameError",
     "evalue": "name 'prompt' is not defined",
     "output_type": "error",
     "traceback": [
      "\u001b[31m---------------------------------------------------------------------------\u001b[39m",
      "\u001b[31mNameError\u001b[39m                                 Traceback (most recent call last)",
      "\u001b[36mCell\u001b[39m\u001b[36m \u001b[39m\u001b[32mIn[14]\u001b[39m\u001b[32m, line 1\u001b[39m\n\u001b[32m----> \u001b[39m\u001b[32m1\u001b[39m \u001b[38;5;28mprint\u001b[39m(\u001b[43mprompt\u001b[49m)\n",
      "\u001b[31mNameError\u001b[39m: name 'prompt' is not defined"
     ]
    }
   ],
   "source": [
    "print(prompt)"
   ]
  },
  {
   "cell_type": "code",
   "execution_count": null,
   "id": "53f4ed87-0f13-4f26-8360-e5a63944e8d2",
   "metadata": {},
   "outputs": [],
   "source": []
  },
  {
   "cell_type": "code",
   "execution_count": null,
   "id": "af5d37af-3ae0-4ab9-a8dc-7a21a4192b61",
   "metadata": {},
   "outputs": [],
   "source": []
  }
 ],
 "metadata": {
  "kernelspec": {
   "display_name": "Python 3 (ipykernel)",
   "language": "python",
   "name": "python3"
  },
  "language_info": {
   "codemirror_mode": {
    "name": "ipython",
    "version": 3
   },
   "file_extension": ".py",
   "mimetype": "text/x-python",
   "name": "python",
   "nbconvert_exporter": "python",
   "pygments_lexer": "ipython3",
   "version": "3.12.3"
  }
 },
 "nbformat": 4,
 "nbformat_minor": 5
}
