{
 "cells": [
  {
   "cell_type": "code",
   "execution_count": 1,
   "id": "0f5edbe4-5915-43cb-a6ba-140569ccc8df",
   "metadata": {},
   "outputs": [],
   "source": [
    "from RAGForecaster import RAGForecaster"
   ]
  },
  {
   "cell_type": "code",
   "execution_count": 2,
   "id": "e2aa67fc-15ad-4a16-8262-594350949cd4",
   "metadata": {},
   "outputs": [
    {
     "name": "stdout",
     "output_type": "stream",
     "text": [
      "Loaded existing index from forecast_index.faiss\n"
     ]
    }
   ],
   "source": [
    "eff = RAGForecaster()"
   ]
  },
  {
   "cell_type": "code",
   "execution_count": null,
   "id": "12bd4e13-7fea-4a75-a221-50bd77e07d56",
   "metadata": {},
   "outputs": [],
   "source": []
  }
 ],
 "metadata": {
  "kernelspec": {
   "display_name": "Python 3 (ipykernel)",
   "language": "python",
   "name": "python3"
  },
  "language_info": {
   "codemirror_mode": {
    "name": "ipython",
    "version": 3
   },
   "file_extension": ".py",
   "mimetype": "text/x-python",
   "name": "python",
   "nbconvert_exporter": "python",
   "pygments_lexer": "ipython3",
   "version": "3.12.3"
  }
 },
 "nbformat": 4,
 "nbformat_minor": 5
}
