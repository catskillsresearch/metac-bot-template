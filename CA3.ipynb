{
 "cells": [
  {
   "cell_type": "markdown",
   "id": "c1f27471-5886-4bc2-acdf-2dac9cf49676",
   "metadata": {},
   "source": [
    "# Community alignment of training questions"
   ]
  },
  {
   "cell_type": "markdown",
   "id": "50d47902-1f71-4794-9bfa-0a9a9756598a",
   "metadata": {},
   "source": [
    "## Imports"
   ]
  },
  {
   "cell_type": "code",
   "execution_count": 1,
   "id": "2a228aa4-f04f-4e92-9989-d4d1e9cc33b5",
   "metadata": {},
   "outputs": [],
   "source": [
    "%matplotlib inline\n",
    "import matplotlib.pyplot as plt"
   ]
  },
  {
   "cell_type": "markdown",
   "id": "9ed28a2c-287a-4ce0-939a-0bbd57bc2fb9",
   "metadata": {},
   "source": [
    "## Question sample"
   ]
  },
  {
   "cell_type": "code",
   "execution_count": 2,
   "id": "17d6bc41-680c-494a-a9d5-82eb399a09f2",
   "metadata": {},
   "outputs": [],
   "source": [
    "from load_forecasted_open_questions import load_forecasted_open_questions"
   ]
  },
  {
   "cell_type": "code",
   "execution_count": 3,
   "id": "477984cb-3550-4a88-b892-a0a9d091841a",
   "metadata": {},
   "outputs": [],
   "source": [
    "num_questions = (0,100000)"
   ]
  },
  {
   "cell_type": "code",
   "execution_count": 4,
   "id": "eb82340e-268d-4621-9969-3b7995162739",
   "metadata": {},
   "outputs": [
    {
     "name": "stderr",
     "output_type": "stream",
     "text": [
      "2025-06-16 14:18:59.663 WARNING streamlit.runtime.caching.cache_data_api: No runtime found, using MemoryCacheStorageManager\n"
     ]
    }
   ],
   "source": [
    "questions = load_forecasted_open_questions(num_questions)"
   ]
  },
  {
   "cell_type": "code",
   "execution_count": 5,
   "id": "7c2cef39-e872-4152-97cb-6b95587f6386",
   "metadata": {},
   "outputs": [],
   "source": [
    "questions_binary = [question for question in questions if question.api_json['question']['type'] == 'binary']"
   ]
  },
  {
   "cell_type": "code",
   "execution_count": 6,
   "id": "c0f20b4d-1554-4722-a3a9-575dc0793c02",
   "metadata": {},
   "outputs": [],
   "source": [
    "questions_multiple_choice = [question for question in questions if question.api_json['question']['type'] == 'multiple_choice']"
   ]
  },
  {
   "cell_type": "code",
   "execution_count": 7,
   "id": "d4666832-a6a9-4a39-9a24-d6957eb25ee2",
   "metadata": {},
   "outputs": [],
   "source": [
    "questions_numeric = [question for question in questions if question.api_json['question']['type'] == 'numeric']"
   ]
  },
  {
   "cell_type": "code",
   "execution_count": 8,
   "id": "bf88c61f-b466-4a60-8187-8184e33127ed",
   "metadata": {},
   "outputs": [
    {
     "data": {
      "text/plain": [
       "[699, 24, 136]"
      ]
     },
     "execution_count": 8,
     "metadata": {},
     "output_type": "execute_result"
    }
   ],
   "source": [
    "[len(x) for x in [questions_binary, questions_multiple_choice, questions_numeric]]"
   ]
  },
  {
   "cell_type": "markdown",
   "id": "8561c6a0-26e7-42b1-83af-1f93f96c0dca",
   "metadata": {},
   "source": [
    "## Community forecast"
   ]
  },
  {
   "cell_type": "code",
   "execution_count": 9,
   "id": "cbb4ac5c-1499-4b5a-ad48-de921cec919b",
   "metadata": {},
   "outputs": [],
   "source": [
    "from community_forecast import *"
   ]
  },
  {
   "cell_type": "code",
   "execution_count": 10,
   "id": "ebe818c7-c2cf-4333-96e7-95f61ebff5c5",
   "metadata": {},
   "outputs": [],
   "source": [
    "id_to_forecast = {question.api_json['id']: community_forecast(question) for question in questions}"
   ]
  },
  {
   "cell_type": "code",
   "execution_count": 11,
   "id": "a7272eb7-e48c-4597-b52b-2fca3f8a0f06",
   "metadata": {},
   "outputs": [],
   "source": [
    "id_to_question = {question.api_json['id']: question for question in questions}"
   ]
  },
  {
   "cell_type": "markdown",
   "id": "44c204ef-48f9-4914-8046-a59a9696dbb3",
   "metadata": {},
   "source": [
    "## 000 forecast"
   ]
  },
  {
   "cell_type": "code",
   "execution_count": 12,
   "id": "4880ac6e-e046-41e0-9e4d-a07bc2511f60",
   "metadata": {},
   "outputs": [],
   "source": [
    "import glob\n",
    "fns = glob.glob('forecast_community/*.md')"
   ]
  },
  {
   "cell_type": "code",
   "execution_count": 13,
   "id": "74bc3bc6-1476-4a33-9a10-961a7f46edb6",
   "metadata": {},
   "outputs": [
    {
     "data": {
      "text/plain": [
       "forecasting_tools.data_models.questions.NumericQuestion"
      ]
     },
     "execution_count": 13,
     "metadata": {},
     "output_type": "execute_result"
    }
   ],
   "source": [
    "type(questions_numeric[0])"
   ]
  },
  {
   "cell_type": "code",
   "execution_count": 14,
   "id": "f4ae73ca-4954-4dde-a879-c8f88e04f415",
   "metadata": {},
   "outputs": [],
   "source": [
    "fn = fns[0]"
   ]
  },
  {
   "cell_type": "code",
   "execution_count": 15,
   "id": "08970f07-d97e-4b63-80b3-fa1c02570e1c",
   "metadata": {},
   "outputs": [],
   "source": [
    "ids = [int(fn.split('/')[1].split('.')[0]) for fn in fns]"
   ]
  },
  {
   "cell_type": "code",
   "execution_count": 16,
   "id": "a12d098f-c18a-40c7-a83c-6fdc0d3fc05e",
   "metadata": {},
   "outputs": [],
   "source": [
    "forecasts = {id: open(f'forecast_community/{id}.md').read() for id in ids}"
   ]
  },
  {
   "cell_type": "code",
   "execution_count": 17,
   "id": "8e77d7c8-866a-413d-a57a-3bc861e9aeec",
   "metadata": {},
   "outputs": [],
   "source": [
    "community_ids = list(id_to_forecast.keys())"
   ]
  },
  {
   "cell_type": "code",
   "execution_count": 18,
   "id": "ee5fb45e-f2de-4323-a4cd-23764bbeefbe",
   "metadata": {},
   "outputs": [
    {
     "data": {
      "text/plain": [
       "int"
      ]
     },
     "execution_count": 18,
     "metadata": {},
     "output_type": "execute_result"
    }
   ],
   "source": [
    "type(community_ids[0])"
   ]
  },
  {
   "cell_type": "code",
   "execution_count": 19,
   "id": "b124946e-e78d-41dc-8067-b558562b9431",
   "metadata": {},
   "outputs": [],
   "source": [
    "forecast_ids = list(forecasts.keys())"
   ]
  },
  {
   "cell_type": "code",
   "execution_count": 20,
   "id": "93f6f9f6-a479-4fac-92e0-e4b6cf1f859c",
   "metadata": {},
   "outputs": [],
   "source": [
    "done = list(set(forecast_ids).intersection(community_ids))"
   ]
  },
  {
   "cell_type": "code",
   "execution_count": 21,
   "id": "b476dfca-19b2-4852-b254-e4beb26b897a",
   "metadata": {},
   "outputs": [],
   "source": [
    "from extract_forecast import *\n",
    "\n",
    "def extract_only_forecast(id):\n",
    "    question = id_to_question[id]\n",
    "    question_type = type(question)\n",
    "    forecast = forecasts[id]\n",
    "    if question_type == forecasting_tools.data_models.questions.BinaryQuestion:\n",
    "        prediction = extract_probability_from_response_as_percentage_not_decimal(forecast)/100.0\n",
    "    elif question_type == forecasting_tools.data_models.questions.MultipleChoiceQuestion:\n",
    "        options = question.options\n",
    "        option_probabilities = extract_option_probabilities_from_response(forecast, options)\n",
    "        prediction = generate_multiple_choice_forecast(options, option_probabilities)\n",
    "    elif question_type == forecasting_tools.data_models.questions.NumericQuestion:\n",
    "        prediction = extract_percentiles_from_response(forecast)\n",
    "    return prediction"
   ]
  },
  {
   "cell_type": "code",
   "execution_count": 22,
   "id": "53b7374f-ee0f-4776-ab38-d5bc20931f09",
   "metadata": {},
   "outputs": [],
   "source": [
    "import forecasting_tools"
   ]
  },
  {
   "cell_type": "code",
   "execution_count": 23,
   "id": "0ca59d9d-97df-44c9-9a3c-50a131a219b9",
   "metadata": {},
   "outputs": [],
   "source": [
    "for id in done:\n",
    "    try:\n",
    "        foo = extract_only_forecast(id)\n",
    "    except:\n",
    "        print(f'rm forecast_community/{id}.md')"
   ]
  },
  {
   "cell_type": "code",
   "execution_count": 25,
   "id": "6943de7f-d6e9-4374-a715-e92d6f9780c9",
   "metadata": {},
   "outputs": [],
   "source": [
    "predictions = {id: extract_only_forecast(id) for id in done}"
   ]
  },
  {
   "cell_type": "markdown",
   "id": "ada71bb8-e2ee-4450-9315-43396d0a7d92",
   "metadata": {},
   "source": [
    "## Put this in a dataframe"
   ]
  },
  {
   "cell_type": "code",
   "execution_count": 105,
   "id": "c39d67bb-7b39-4638-8977-8e2c175fc11f",
   "metadata": {},
   "outputs": [],
   "source": [
    "from flatten_dict import flatten_dict\n",
    "import pandas as pd\n",
    "from prompt_question import prompt_question\n",
    "pd.set_option('display.max_columns', None)"
   ]
  },
  {
   "cell_type": "code",
   "execution_count": 106,
   "id": "e051a78d-9811-4315-935c-7f781c62f791",
   "metadata": {},
   "outputs": [],
   "source": [
    "q_done = [id_to_question[id] for id in done]"
   ]
  },
  {
   "cell_type": "code",
   "execution_count": 107,
   "id": "56311163-731a-479c-8280-c39f56a964f5",
   "metadata": {},
   "outputs": [],
   "source": [
    "qflat = [flatten_dict(q.api_json, sep='_') for q in q_done]"
   ]
  },
  {
   "cell_type": "code",
   "execution_count": 108,
   "id": "19a24b3d-16e5-4597-be6d-c55aa366fb92",
   "metadata": {},
   "outputs": [],
   "source": [
    "df = pd.DataFrame(qflat)"
   ]
  },
  {
   "cell_type": "code",
   "execution_count": 109,
   "id": "2ef391e5-4b3b-4261-a17e-0a23d041adbc",
   "metadata": {},
   "outputs": [
    {
     "data": {
      "text/plain": [
       "id                                                                                                 4219\n",
       "title                                                 Will large scale solar radiation management be...\n",
       "short_title                                                                                            \n",
       "url_title                                                                                              \n",
       "slug                                                  will-large-scale-solar-radiation-management-be...\n",
       "                                                                            ...                        \n",
       "question_my_forecasts_latest_centers                                                                NaN\n",
       "question_my_forecasts_latest_interval_upper_bounds                                                  NaN\n",
       "question_my_forecasts_latest_distribution_input                                                     NaN\n",
       "html_metadata_json_title                                                                            NaN\n",
       "html_metadata_json_description                                                                      NaN\n",
       "Name: 26, Length: 137, dtype: object"
      ]
     },
     "execution_count": 109,
     "metadata": {},
     "output_type": "execute_result"
    }
   ],
   "source": [
    "df.iloc[26]"
   ]
  },
  {
   "cell_type": "code",
   "execution_count": 110,
   "id": "00ed81bc-0829-42fb-aa36-a38aa07678b0",
   "metadata": {},
   "outputs": [],
   "source": [
    "df['crowd'] = df.apply(lambda row: id_to_forecast[row.id], axis=1)"
   ]
  },
  {
   "cell_type": "code",
   "execution_count": 111,
   "id": "b28be051-5f01-4139-b99c-a7a9ca211ed5",
   "metadata": {},
   "outputs": [],
   "source": [
    "def pull_asknews(row):\n",
    "    fn = f'asknews/{row.id}.md'\n",
    "    with open(fn, 'r') as f:\n",
    "        return f.read()"
   ]
  },
  {
   "cell_type": "code",
   "execution_count": null,
   "id": "6cdb4c86-2589-43ab-8623-78304293aa80",
   "metadata": {},
   "outputs": [],
   "source": []
  },
  {
   "cell_type": "code",
   "execution_count": 112,
   "id": "a3d84964-4b32-48fe-a75a-539bbdde54d6",
   "metadata": {},
   "outputs": [],
   "source": [
    "df['question_options'] = df['question_options'].apply(repr)"
   ]
  },
  {
   "cell_type": "code",
   "execution_count": 113,
   "id": "d504f9a4-738d-42b3-b2a9-8458c504e87f",
   "metadata": {},
   "outputs": [],
   "source": [
    "df = df[['id',\n",
    " 'open_time',\n",
    " 'scheduled_resolve_time',\n",
    " 'title',\n",
    " 'question_description',\n",
    " 'question_resolution_criteria',\n",
    " 'question_fine_print',\n",
    " 'question_type',\n",
    " 'question_options',\n",
    " 'question_group_variable',\n",
    " 'question_question_weight',\n",
    " 'question_unit',\n",
    " 'question_open_upper_bound',\n",
    " 'question_open_lower_bound',\n",
    " 'question_scaling_range_max',\n",
    " 'question_scaling_range_min',\n",
    " 'question_scaling_zero_point',\n",
    " 'crowd']]"
   ]
  },
  {
   "cell_type": "code",
   "execution_count": 114,
   "id": "8fa364d1-4931-47e5-a3db-d418c5bc7c28",
   "metadata": {},
   "outputs": [],
   "source": [
    "from datetime import datetime\n",
    "dfn = 'forecast_community'\n",
    "df['today'] = datetime.now().strftime(\"%Y-%m-%d\")"
   ]
  },
  {
   "cell_type": "code",
   "execution_count": 115,
   "id": "1f82b60a-798d-4fca-8daf-302ca6eb89bc",
   "metadata": {},
   "outputs": [],
   "source": [
    "df['asknews'] = df.apply(pull_asknews, axis=1)"
   ]
  },
  {
   "cell_type": "code",
   "execution_count": 116,
   "id": "8c70956c-796b-476d-b427-7590da581d26",
   "metadata": {},
   "outputs": [
    {
     "data": {
      "text/plain": [
       "Index(['id', 'open_time', 'scheduled_resolve_time', 'title',\n",
       "       'question_description', 'question_resolution_criteria',\n",
       "       'question_fine_print', 'question_type', 'question_options',\n",
       "       'question_group_variable', 'question_question_weight', 'question_unit',\n",
       "       'question_open_upper_bound', 'question_open_lower_bound',\n",
       "       'question_scaling_range_max', 'question_scaling_range_min',\n",
       "       'question_scaling_zero_point', 'crowd', 'today', 'asknews'],\n",
       "      dtype='object')"
      ]
     },
     "execution_count": 116,
     "metadata": {},
     "output_type": "execute_result"
    }
   ],
   "source": [
    "df.columns"
   ]
  },
  {
   "cell_type": "code",
   "execution_count": 117,
   "id": "b9d6cb4e-cd84-4e0b-8b9e-6291c8ee2186",
   "metadata": {},
   "outputs": [],
   "source": [
    "def load_research(row):\n",
    "    with open(f\"research/{row['id']}.md\", 'r') as f:\n",
    "        return f.read()\n",
    "\n",
    "df['research'] = df.apply(load_research, axis=1)"
   ]
  },
  {
   "cell_type": "code",
   "execution_count": 118,
   "id": "b457572f-082e-4d48-8118-a5ed208f2dbf",
   "metadata": {},
   "outputs": [
    {
     "data": {
      "text/plain": [
       "0      Here are the relevant news articles:\\n\\n**Huma...\n",
       "1      Here are the relevant news articles:\\n\\n**Iran...\n",
       "2      Here are the relevant news articles:\\n\\n**EU P...\n",
       "3      Here are the relevant news articles:\\n\\n**UK D...\n",
       "4      Here are the relevant news articles:\\n\\n**US D...\n",
       "                             ...                        \n",
       "706    Here are the relevant news articles:\\n\\n**Bitc...\n",
       "707    Here are the relevant news articles:\\n\\n**Bitc...\n",
       "708    Here are the relevant news articles:\\n\\n**EU E...\n",
       "709    Here are the relevant news articles:\\n\\n**Chat...\n",
       "710    Here are the relevant news articles:\\n\\n**Stud...\n",
       "Name: asknews, Length: 711, dtype: object"
      ]
     },
     "execution_count": 118,
     "metadata": {},
     "output_type": "execute_result"
    }
   ],
   "source": [
    "df['asknews']"
   ]
  },
  {
   "cell_type": "code",
   "execution_count": 119,
   "id": "83a0302a-13ef-4e0a-87d9-4db9e12f53cb",
   "metadata": {},
   "outputs": [],
   "source": [
    "from RAGForecaster import RAGForecaster\n",
    "from EnhancedResearchPro import EnhancedResearchPro"
   ]
  },
  {
   "cell_type": "code",
   "execution_count": 120,
   "id": "3e799730-c1cd-4a19-991e-c95533419c34",
   "metadata": {},
   "outputs": [
    {
     "name": "stdout",
     "output_type": "stream",
     "text": [
      "Loaded existing index from forecast_index.faiss\n",
      "Index contains 4766 vectors at initialization\n"
     ]
    }
   ],
   "source": [
    "    rag = RAGForecaster()"
   ]
  },
  {
   "cell_type": "code",
   "execution_count": 121,
   "id": "ad35484b-711b-46f6-902e-dfe2ea5773b9",
   "metadata": {},
   "outputs": [],
   "source": [
    "    research_bot = EnhancedResearchPro(rag)"
   ]
  },
  {
   "cell_type": "code",
   "execution_count": 122,
   "id": "d17c9105-4448-4170-9724-8f12bfa9ca6c",
   "metadata": {},
   "outputs": [],
   "source": [
    "df['id_of_question'] = df['id']"
   ]
  },
  {
   "cell_type": "code",
   "execution_count": 123,
   "id": "0202cf02-bfc6-4e46-a4dc-1daedb624c4a",
   "metadata": {},
   "outputs": [],
   "source": [
    "    research_bot.process_dataframe(df, use_cutoff=False)"
   ]
  },
  {
   "cell_type": "code",
   "execution_count": 124,
   "id": "1209ebf4-0203-4224-b74e-9baf3632673b",
   "metadata": {},
   "outputs": [],
   "source": [
    "    rag.research_bot = research_bot\n",
    "\n",
    "    # Updated learning field with raw text extraction\n",
    "    df['learning'] = df.apply(\n",
    "        lambda row: [\n",
    "            m['raw_text'] \n",
    "            for m, _ in research_bot.retrieval_cache.get(row['title'], []) \n",
    "            if 'raw_text' in m  # Safety check for legacy entries\n",
    "        ], \n",
    "        axis=1\n",
    "    )\n"
   ]
  },
  {
   "cell_type": "code",
   "execution_count": 125,
   "id": "28ac29c2-c85b-466a-8379-6d40d75261fe",
   "metadata": {},
   "outputs": [],
   "source": [
    "df['prompt'] = df.apply(prompt_question, axis=1)"
   ]
  },
  {
   "cell_type": "code",
   "execution_count": 126,
   "id": "48158979-05aa-4f64-a728-5fed3a850e13",
   "metadata": {},
   "outputs": [],
   "source": [
    "from tqdm import tqdm\n",
    "tqdm.pandas()"
   ]
  },
  {
   "cell_type": "code",
   "execution_count": 127,
   "id": "86121d0d-e869-4137-8516-735f7201ad2d",
   "metadata": {},
   "outputs": [],
   "source": [
    "\n",
    "def predict(dfn, question, iterations = 3):\n",
    "    ffn = f'{dfn}/{question.id_of_question}.md'\n",
    "    with open(ffn, 'r') as f:\n",
    "        return f.read()\n"
   ]
  },
  {
   "cell_type": "code",
   "execution_count": 128,
   "id": "8c0aa841-a36b-4515-9b4c-047ace67ee80",
   "metadata": {},
   "outputs": [
    {
     "name": "stderr",
     "output_type": "stream",
     "text": [
      "100%|██████████████████████████████████████| 711/711 [00:00<00:00, 33690.52it/s]\n"
     ]
    }
   ],
   "source": [
    "df['forecast'] = df.progress_apply(lambda question: predict(dfn, question), axis=1)"
   ]
  },
  {
   "cell_type": "code",
   "execution_count": null,
   "id": "0c89a71b-6c2c-4fc2-a1ee-30410be01db6",
   "metadata": {},
   "outputs": [],
   "source": [
    "from extract_forecast import extract_forecast\n",
    "\n",
    "df['prediction'] = df.apply(extract_forecast, axis=1)"
   ]
  },
  {
   "cell_type": "markdown",
   "id": "f7b3b7ab-7769-4973-90fe-8932e15e0c8f",
   "metadata": {},
   "source": [
    "## Compare"
   ]
  },
  {
   "cell_type": "code",
   "execution_count": 130,
   "id": "fc0d65ac-cd32-4f42-981e-723df0942b12",
   "metadata": {},
   "outputs": [],
   "source": [
    "from error import error"
   ]
  },
  {
   "cell_type": "code",
   "execution_count": null,
   "id": "a73a3673-709f-4824-b66c-0359c5906f95",
   "metadata": {},
   "outputs": [],
   "source": [
    "df = df[~df.crowd.apply(lambda x: x is None)].copy()\n",
    "\n",
    "df['error'] = df.apply(error, axis=1)"
   ]
  },
  {
   "cell_type": "code",
   "execution_count": 132,
   "id": "0eb12048-f7a2-4908-b49d-e1cb6f7d7bd7",
   "metadata": {},
   "outputs": [
    {
     "data": {
      "text/html": [
       "<div>\n",
       "<style scoped>\n",
       "    .dataframe tbody tr th:only-of-type {\n",
       "        vertical-align: middle;\n",
       "    }\n",
       "\n",
       "    .dataframe tbody tr th {\n",
       "        vertical-align: top;\n",
       "    }\n",
       "\n",
       "    .dataframe thead th {\n",
       "        text-align: right;\n",
       "    }\n",
       "</style>\n",
       "<table border=\"1\" class=\"dataframe\">\n",
       "  <thead>\n",
       "    <tr style=\"text-align: right;\">\n",
       "      <th></th>\n",
       "      <th>id</th>\n",
       "      <th>open_time</th>\n",
       "      <th>scheduled_resolve_time</th>\n",
       "      <th>title</th>\n",
       "      <th>question_description</th>\n",
       "      <th>question_resolution_criteria</th>\n",
       "      <th>question_fine_print</th>\n",
       "      <th>question_type</th>\n",
       "      <th>question_options</th>\n",
       "      <th>question_group_variable</th>\n",
       "      <th>question_question_weight</th>\n",
       "      <th>question_unit</th>\n",
       "      <th>question_open_upper_bound</th>\n",
       "      <th>question_open_lower_bound</th>\n",
       "      <th>question_scaling_range_max</th>\n",
       "      <th>question_scaling_range_min</th>\n",
       "      <th>question_scaling_zero_point</th>\n",
       "      <th>crowd</th>\n",
       "      <th>today</th>\n",
       "      <th>asknews</th>\n",
       "      <th>research</th>\n",
       "      <th>id_of_question</th>\n",
       "      <th>learning</th>\n",
       "      <th>prompt</th>\n",
       "      <th>forecast</th>\n",
       "      <th>prediction</th>\n",
       "      <th>error</th>\n",
       "    </tr>\n",
       "  </thead>\n",
       "  <tbody>\n",
       "    <tr>\n",
       "      <th>0</th>\n",
       "      <td>10243</td>\n",
       "      <td>2022-03-16T04:00:00Z</td>\n",
       "      <td>3001-01-01T04:59:00Z</td>\n",
       "      <td>If humanity goes extinct, will another intelli...</td>\n",
       "      <td>In a blog post, Paul Christiano argues that we...</td>\n",
       "      <td>For the purpose of this question, what it mean...</td>\n",
       "      <td></td>\n",
       "      <td>binary</td>\n",
       "      <td>None</td>\n",
       "      <td></td>\n",
       "      <td>1.0</td>\n",
       "      <td></td>\n",
       "      <td>None</td>\n",
       "      <td>None</td>\n",
       "      <td>NaN</td>\n",
       "      <td>NaN</td>\n",
       "      <td>NaN</td>\n",
       "      <td>0.4</td>\n",
       "      <td>2025-06-16</td>\n",
       "      <td>Here are the relevant news articles:\\n\\n**Huma...</td>\n",
       "      <td>## Key Historical Trends and Current Status\\n\\...</td>\n",
       "      <td>10243</td>\n",
       "      <td>[]</td>\n",
       "      <td>You are a professional forecaster interviewing...</td>\n",
       "      <td>Here is a combined rationale that incorporates...</td>\n",
       "      <td>0.7</td>\n",
       "      <td>0.30</td>\n",
       "    </tr>\n",
       "    <tr>\n",
       "      <th>1</th>\n",
       "      <td>10244</td>\n",
       "      <td>2022-08-14T07:00:00Z</td>\n",
       "      <td>2041-01-01T05:00:00Z</td>\n",
       "      <td>Will Iran possess a nuclear weapon before 2041?</td>\n",
       "      <td>A [previous Metaculus question](https://www.me...</td>\n",
       "      <td>This question will resolve as **Yes** if the I...</td>\n",
       "      <td></td>\n",
       "      <td>binary</td>\n",
       "      <td>None</td>\n",
       "      <td></td>\n",
       "      <td>1.0</td>\n",
       "      <td></td>\n",
       "      <td>None</td>\n",
       "      <td>None</td>\n",
       "      <td>NaN</td>\n",
       "      <td>NaN</td>\n",
       "      <td>NaN</td>\n",
       "      <td>0.69</td>\n",
       "      <td>2025-06-16</td>\n",
       "      <td>Here are the relevant news articles:\\n\\n**Iran...</td>\n",
       "      <td>## 1. Key Historical Trends and Current Status...</td>\n",
       "      <td>10244</td>\n",
       "      <td>[]</td>\n",
       "      <td>You are a professional forecaster interviewing...</td>\n",
       "      <td>Here is the combined rationale that incorporat...</td>\n",
       "      <td>0.2</td>\n",
       "      <td>0.49</td>\n",
       "    </tr>\n",
       "    <tr>\n",
       "      <th>2</th>\n",
       "      <td>28682</td>\n",
       "      <td>2024-10-01T16:56:00Z</td>\n",
       "      <td>2030-01-01T17:00:00Z</td>\n",
       "      <td>Will any country trigger article 50 to leave t...</td>\n",
       "      <td>This forecasting question is associated with t...</td>\n",
       "      <td>The question will resolve as **Yes** if, befor...</td>\n",
       "      <td>The completion of the withdrawal process is no...</td>\n",
       "      <td>binary</td>\n",
       "      <td>None</td>\n",
       "      <td></td>\n",
       "      <td>1.0</td>\n",
       "      <td></td>\n",
       "      <td>False</td>\n",
       "      <td>False</td>\n",
       "      <td>NaN</td>\n",
       "      <td>NaN</td>\n",
       "      <td>NaN</td>\n",
       "      <td>0.11</td>\n",
       "      <td>2025-06-16</td>\n",
       "      <td>Here are the relevant news articles:\\n\\n**EU P...</td>\n",
       "      <td>1. **Key Historical Trends and Current Status*...</td>\n",
       "      <td>28682</td>\n",
       "      <td>[]</td>\n",
       "      <td>You are a professional forecaster interviewing...</td>\n",
       "      <td>Here is a combined rationale that incorporates...</td>\n",
       "      <td>0.6</td>\n",
       "      <td>0.49</td>\n",
       "    </tr>\n",
       "  </tbody>\n",
       "</table>\n",
       "</div>"
      ],
      "text/plain": [
       "      id             open_time scheduled_resolve_time  \\\n",
       "0  10243  2022-03-16T04:00:00Z   3001-01-01T04:59:00Z   \n",
       "1  10244  2022-08-14T07:00:00Z   2041-01-01T05:00:00Z   \n",
       "2  28682  2024-10-01T16:56:00Z   2030-01-01T17:00:00Z   \n",
       "\n",
       "                                               title  \\\n",
       "0  If humanity goes extinct, will another intelli...   \n",
       "1    Will Iran possess a nuclear weapon before 2041?   \n",
       "2  Will any country trigger article 50 to leave t...   \n",
       "\n",
       "                                question_description  \\\n",
       "0  In a blog post, Paul Christiano argues that we...   \n",
       "1  A [previous Metaculus question](https://www.me...   \n",
       "2  This forecasting question is associated with t...   \n",
       "\n",
       "                        question_resolution_criteria  \\\n",
       "0  For the purpose of this question, what it mean...   \n",
       "1  This question will resolve as **Yes** if the I...   \n",
       "2  The question will resolve as **Yes** if, befor...   \n",
       "\n",
       "                                 question_fine_print question_type  \\\n",
       "0                                                           binary   \n",
       "1                                                           binary   \n",
       "2  The completion of the withdrawal process is no...        binary   \n",
       "\n",
       "  question_options question_group_variable  question_question_weight  \\\n",
       "0             None                                               1.0   \n",
       "1             None                                               1.0   \n",
       "2             None                                               1.0   \n",
       "\n",
       "  question_unit question_open_upper_bound question_open_lower_bound  \\\n",
       "0                                    None                      None   \n",
       "1                                    None                      None   \n",
       "2                                   False                     False   \n",
       "\n",
       "   question_scaling_range_max  question_scaling_range_min  \\\n",
       "0                         NaN                         NaN   \n",
       "1                         NaN                         NaN   \n",
       "2                         NaN                         NaN   \n",
       "\n",
       "   question_scaling_zero_point crowd       today  \\\n",
       "0                          NaN   0.4  2025-06-16   \n",
       "1                          NaN  0.69  2025-06-16   \n",
       "2                          NaN  0.11  2025-06-16   \n",
       "\n",
       "                                             asknews  \\\n",
       "0  Here are the relevant news articles:\\n\\n**Huma...   \n",
       "1  Here are the relevant news articles:\\n\\n**Iran...   \n",
       "2  Here are the relevant news articles:\\n\\n**EU P...   \n",
       "\n",
       "                                            research  id_of_question learning  \\\n",
       "0  ## Key Historical Trends and Current Status\\n\\...           10243       []   \n",
       "1  ## 1. Key Historical Trends and Current Status...           10244       []   \n",
       "2  1. **Key Historical Trends and Current Status*...           28682       []   \n",
       "\n",
       "                                              prompt  \\\n",
       "0  You are a professional forecaster interviewing...   \n",
       "1  You are a professional forecaster interviewing...   \n",
       "2  You are a professional forecaster interviewing...   \n",
       "\n",
       "                                            forecast prediction  error  \n",
       "0  Here is a combined rationale that incorporates...        0.7   0.30  \n",
       "1  Here is the combined rationale that incorporat...        0.2   0.49  \n",
       "2  Here is a combined rationale that incorporates...        0.6   0.49  "
      ]
     },
     "execution_count": 132,
     "metadata": {},
     "output_type": "execute_result"
    }
   ],
   "source": [
    "df.head(3)"
   ]
  },
  {
   "cell_type": "code",
   "execution_count": 135,
   "id": "91b9ef63-597c-4cad-98ed-ebc2393ce748",
   "metadata": {},
   "outputs": [
    {
     "data": {
      "image/png": "[encoded data removed]",
      "text/plain": [
       "<Figure size 640x480 with 1 Axes>"
      ]
     },
     "metadata": {},
     "output_type": "display_data"
    }
   ],
   "source": [
    "plt.hist(df.error.values, bins=20);"
   ]
  },
  {
   "cell_type": "code",
   "execution_count": 136,
   "id": "8d31697b-4e12-4e56-98eb-abfc417a4e28",
   "metadata": {},
   "outputs": [],
   "source": [
    "df.to_json('community_local_results.json', indent=4)"
   ]
  },
  {
   "cell_type": "code",
   "execution_count": 137,
   "id": "a6d464bd-00cb-4978-bf93-bf8bf1047dc2",
   "metadata": {},
   "outputs": [
    {
     "data": {
      "text/html": [
       "<div>\n",
       "<style scoped>\n",
       "    .dataframe tbody tr th:only-of-type {\n",
       "        vertical-align: middle;\n",
       "    }\n",
       "\n",
       "    .dataframe tbody tr th {\n",
       "        vertical-align: top;\n",
       "    }\n",
       "\n",
       "    .dataframe thead th {\n",
       "        text-align: right;\n",
       "    }\n",
       "</style>\n",
       "<table border=\"1\" class=\"dataframe\">\n",
       "  <thead>\n",
       "    <tr style=\"text-align: right;\">\n",
       "      <th></th>\n",
       "      <th>title</th>\n",
       "      <th>question_type</th>\n",
       "      <th>prediction</th>\n",
       "      <th>crowd</th>\n",
       "      <th>error</th>\n",
       "    </tr>\n",
       "  </thead>\n",
       "  <tbody>\n",
       "    <tr>\n",
       "      <th>0</th>\n",
       "      <td>If humanity goes extinct, will another intelli...</td>\n",
       "      <td>binary</td>\n",
       "      <td>0.7</td>\n",
       "      <td>0.4</td>\n",
       "      <td>0.300000</td>\n",
       "    </tr>\n",
       "    <tr>\n",
       "      <th>1</th>\n",
       "      <td>Will Iran possess a nuclear weapon before 2041?</td>\n",
       "      <td>binary</td>\n",
       "      <td>0.2</td>\n",
       "      <td>0.69</td>\n",
       "      <td>0.490000</td>\n",
       "    </tr>\n",
       "    <tr>\n",
       "      <th>2</th>\n",
       "      <td>Will any country trigger article 50 to leave t...</td>\n",
       "      <td>binary</td>\n",
       "      <td>0.6</td>\n",
       "      <td>0.11</td>\n",
       "      <td>0.490000</td>\n",
       "    </tr>\n",
       "    <tr>\n",
       "      <th>3</th>\n",
       "      <td>If China invades Taiwan before 2035, will the ...</td>\n",
       "      <td>binary</td>\n",
       "      <td>0.3</td>\n",
       "      <td>0.25</td>\n",
       "      <td>0.050000</td>\n",
       "    </tr>\n",
       "    <tr>\n",
       "      <th>4</th>\n",
       "      <td>Will the Chinese Yuan be among the top 3 globa...</td>\n",
       "      <td>binary</td>\n",
       "      <td>0.4</td>\n",
       "      <td>0.37</td>\n",
       "      <td>0.030000</td>\n",
       "    </tr>\n",
       "    <tr>\n",
       "      <th>5</th>\n",
       "      <td>Will there be a positive transition to a world...</td>\n",
       "      <td>binary</td>\n",
       "      <td>0.8</td>\n",
       "      <td>0.53</td>\n",
       "      <td>0.270000</td>\n",
       "    </tr>\n",
       "    <tr>\n",
       "      <th>6</th>\n",
       "      <td>Will the size of the US Supreme Court increase...</td>\n",
       "      <td>binary</td>\n",
       "      <td>0.01</td>\n",
       "      <td>0.05</td>\n",
       "      <td>0.040000</td>\n",
       "    </tr>\n",
       "    <tr>\n",
       "      <th>7</th>\n",
       "      <td>After a weak AGI is created, how many months w...</td>\n",
       "      <td>numeric</td>\n",
       "      <td>[0.05, 0.050050000000000004, 0.050100000000000...</td>\n",
       "      <td>{10: 13.221944759886265, 20: 16.50158147430704...</td>\n",
       "      <td>0.800000</td>\n",
       "    </tr>\n",
       "    <tr>\n",
       "      <th>8</th>\n",
       "      <td>Will TikTok still be available in the United S...</td>\n",
       "      <td>multiple_choice</td>\n",
       "      <td>{'Yes, still owned by foreign adversary': 0.33...</td>\n",
       "      <td>{'Yes, still owned by foreign adversary': 0.47...</td>\n",
       "      <td>0.355728</td>\n",
       "    </tr>\n",
       "    <tr>\n",
       "      <th>9</th>\n",
       "      <td>Will the USA enter a second civil war before 2...</td>\n",
       "      <td>binary</td>\n",
       "      <td>0.2</td>\n",
       "      <td>0.04</td>\n",
       "      <td>0.160000</td>\n",
       "    </tr>\n",
       "    <tr>\n",
       "      <th>10</th>\n",
       "      <td>If Trump is elected president in 2024, will AI...</td>\n",
       "      <td>binary</td>\n",
       "      <td>0.7</td>\n",
       "      <td>0.2</td>\n",
       "      <td>0.500000</td>\n",
       "    </tr>\n",
       "    <tr>\n",
       "      <th>11</th>\n",
       "      <td>Will Brazil win the FIFA World Cup by the end ...</td>\n",
       "      <td>binary</td>\n",
       "      <td>0.6</td>\n",
       "      <td>0.74</td>\n",
       "      <td>0.140000</td>\n",
       "    </tr>\n",
       "    <tr>\n",
       "      <th>12</th>\n",
       "      <td>Will 3M file for bankruptcy before 2026?</td>\n",
       "      <td>binary</td>\n",
       "      <td>0.7</td>\n",
       "      <td>0.01</td>\n",
       "      <td>0.690000</td>\n",
       "    </tr>\n",
       "    <tr>\n",
       "      <th>13</th>\n",
       "      <td>Will a terrorist attack in Sweden cause at lea...</td>\n",
       "      <td>binary</td>\n",
       "      <td>0.6</td>\n",
       "      <td>0.94</td>\n",
       "      <td>0.340000</td>\n",
       "    </tr>\n",
       "    <tr>\n",
       "      <th>14</th>\n",
       "      <td>By five years after AGI, will an engineered pa...</td>\n",
       "      <td>binary</td>\n",
       "      <td>0.6</td>\n",
       "      <td>0.05</td>\n",
       "      <td>0.550000</td>\n",
       "    </tr>\n",
       "    <tr>\n",
       "      <th>15</th>\n",
       "      <td>Five years after AGI, will there be widely ava...</td>\n",
       "      <td>binary</td>\n",
       "      <td>0.65</td>\n",
       "      <td>0.65</td>\n",
       "      <td>0.000000</td>\n",
       "    </tr>\n",
       "    <tr>\n",
       "      <th>16</th>\n",
       "      <td>Five years after AGI, how happy will people be?</td>\n",
       "      <td>numeric</td>\n",
       "      <td>[0.0, 0.004545454545454546, 0.0090909090909090...</td>\n",
       "      <td>{10: 0.037244497952941706, 20: 0.0680727765325...</td>\n",
       "      <td>0.629017</td>\n",
       "    </tr>\n",
       "    <tr>\n",
       "      <th>17</th>\n",
       "      <td>Will the S&amp;P 500 Index increase over the year ...</td>\n",
       "      <td>binary</td>\n",
       "      <td>0.7</td>\n",
       "      <td>0.61</td>\n",
       "      <td>0.090000</td>\n",
       "    </tr>\n",
       "    <tr>\n",
       "      <th>18</th>\n",
       "      <td>Will at least three lithium mines operate in t...</td>\n",
       "      <td>binary</td>\n",
       "      <td>0.7</td>\n",
       "      <td>0.65</td>\n",
       "      <td>0.050000</td>\n",
       "    </tr>\n",
       "    <tr>\n",
       "      <th>19</th>\n",
       "      <td>Will any Western countries go to war against e...</td>\n",
       "      <td>binary</td>\n",
       "      <td>0.6</td>\n",
       "      <td>0.18</td>\n",
       "      <td>0.420000</td>\n",
       "    </tr>\n",
       "    <tr>\n",
       "      <th>20</th>\n",
       "      <td>Will there be a total solar eclipse on June 25...</td>\n",
       "      <td>binary</td>\n",
       "      <td>0.85</td>\n",
       "      <td>0.95</td>\n",
       "      <td>0.100000</td>\n",
       "    </tr>\n",
       "    <tr>\n",
       "      <th>21</th>\n",
       "      <td>Will a US aircraft carrier be destroyed in com...</td>\n",
       "      <td>binary</td>\n",
       "      <td>0.6</td>\n",
       "      <td>0.25</td>\n",
       "      <td>0.350000</td>\n",
       "    </tr>\n",
       "    <tr>\n",
       "      <th>22</th>\n",
       "      <td>What will be the real world GDP on the year AG...</td>\n",
       "      <td>numeric</td>\n",
       "      <td>[0.0, 0.9000011069504906, 0.9000511069504906, ...</td>\n",
       "      <td>{10: 52594.46960618577, 20: 72763.35611579647,...</td>\n",
       "      <td>0.800000</td>\n",
       "    </tr>\n",
       "    <tr>\n",
       "      <th>23</th>\n",
       "      <td>Will Turkey's annual inflation fall to 4% or l...</td>\n",
       "      <td>binary</td>\n",
       "      <td>0.75</td>\n",
       "      <td>0.01</td>\n",
       "      <td>0.740000</td>\n",
       "    </tr>\n",
       "    <tr>\n",
       "      <th>24</th>\n",
       "      <td>Will Sam Bankman-Fried be the richest person i...</td>\n",
       "      <td>binary</td>\n",
       "      <td>0.2</td>\n",
       "      <td>0.001</td>\n",
       "      <td>0.199000</td>\n",
       "    </tr>\n",
       "    <tr>\n",
       "      <th>25</th>\n",
       "      <td>Will Ukraine's exports in 2025 exceed those in...</td>\n",
       "      <td>binary</td>\n",
       "      <td>0.7</td>\n",
       "      <td>0.01</td>\n",
       "      <td>0.690000</td>\n",
       "    </tr>\n",
       "    <tr>\n",
       "      <th>26</th>\n",
       "      <td>Will large scale solar radiation management be...</td>\n",
       "      <td>binary</td>\n",
       "      <td>0.2</td>\n",
       "      <td>0.45</td>\n",
       "      <td>0.250000</td>\n",
       "    </tr>\n",
       "    <tr>\n",
       "      <th>27</th>\n",
       "      <td>Will Stephen Wolfram, Jonathan Gorard, or Max ...</td>\n",
       "      <td>binary</td>\n",
       "      <td>0.2</td>\n",
       "      <td>0.01</td>\n",
       "      <td>0.190000</td>\n",
       "    </tr>\n",
       "    <tr>\n",
       "      <th>28</th>\n",
       "      <td>Will the research group that is responsible fo...</td>\n",
       "      <td>binary</td>\n",
       "      <td>0.7</td>\n",
       "      <td>0.9</td>\n",
       "      <td>0.200000</td>\n",
       "    </tr>\n",
       "    <tr>\n",
       "      <th>29</th>\n",
       "      <td>Will the research group that is responsible fo...</td>\n",
       "      <td>binary</td>\n",
       "      <td>0.6</td>\n",
       "      <td>0.1</td>\n",
       "      <td>0.500000</td>\n",
       "    </tr>\n",
       "  </tbody>\n",
       "</table>\n",
       "</div>"
      ],
      "text/plain": [
       "                                                title    question_type  \\\n",
       "0   If humanity goes extinct, will another intelli...           binary   \n",
       "1     Will Iran possess a nuclear weapon before 2041?           binary   \n",
       "2   Will any country trigger article 50 to leave t...           binary   \n",
       "3   If China invades Taiwan before 2035, will the ...           binary   \n",
       "4   Will the Chinese Yuan be among the top 3 globa...           binary   \n",
       "5   Will there be a positive transition to a world...           binary   \n",
       "6   Will the size of the US Supreme Court increase...           binary   \n",
       "7   After a weak AGI is created, how many months w...          numeric   \n",
       "8   Will TikTok still be available in the United S...  multiple_choice   \n",
       "9   Will the USA enter a second civil war before 2...           binary   \n",
       "10  If Trump is elected president in 2024, will AI...           binary   \n",
       "11  Will Brazil win the FIFA World Cup by the end ...           binary   \n",
       "12           Will 3M file for bankruptcy before 2026?           binary   \n",
       "13  Will a terrorist attack in Sweden cause at lea...           binary   \n",
       "14  By five years after AGI, will an engineered pa...           binary   \n",
       "15  Five years after AGI, will there be widely ava...           binary   \n",
       "16    Five years after AGI, how happy will people be?          numeric   \n",
       "17  Will the S&P 500 Index increase over the year ...           binary   \n",
       "18  Will at least three lithium mines operate in t...           binary   \n",
       "19  Will any Western countries go to war against e...           binary   \n",
       "20  Will there be a total solar eclipse on June 25...           binary   \n",
       "21  Will a US aircraft carrier be destroyed in com...           binary   \n",
       "22  What will be the real world GDP on the year AG...          numeric   \n",
       "23  Will Turkey's annual inflation fall to 4% or l...           binary   \n",
       "24  Will Sam Bankman-Fried be the richest person i...           binary   \n",
       "25  Will Ukraine's exports in 2025 exceed those in...           binary   \n",
       "26  Will large scale solar radiation management be...           binary   \n",
       "27  Will Stephen Wolfram, Jonathan Gorard, or Max ...           binary   \n",
       "28  Will the research group that is responsible fo...           binary   \n",
       "29  Will the research group that is responsible fo...           binary   \n",
       "\n",
       "                                           prediction  \\\n",
       "0                                                 0.7   \n",
       "1                                                 0.2   \n",
       "2                                                 0.6   \n",
       "3                                                 0.3   \n",
       "4                                                 0.4   \n",
       "5                                                 0.8   \n",
       "6                                                0.01   \n",
       "7   [0.05, 0.050050000000000004, 0.050100000000000...   \n",
       "8   {'Yes, still owned by foreign adversary': 0.33...   \n",
       "9                                                 0.2   \n",
       "10                                                0.7   \n",
       "11                                                0.6   \n",
       "12                                                0.7   \n",
       "13                                                0.6   \n",
       "14                                                0.6   \n",
       "15                                               0.65   \n",
       "16  [0.0, 0.004545454545454546, 0.0090909090909090...   \n",
       "17                                                0.7   \n",
       "18                                                0.7   \n",
       "19                                                0.6   \n",
       "20                                               0.85   \n",
       "21                                                0.6   \n",
       "22  [0.0, 0.9000011069504906, 0.9000511069504906, ...   \n",
       "23                                               0.75   \n",
       "24                                                0.2   \n",
       "25                                                0.7   \n",
       "26                                                0.2   \n",
       "27                                                0.2   \n",
       "28                                                0.7   \n",
       "29                                                0.6   \n",
       "\n",
       "                                                crowd     error  \n",
       "0                                                 0.4  0.300000  \n",
       "1                                                0.69  0.490000  \n",
       "2                                                0.11  0.490000  \n",
       "3                                                0.25  0.050000  \n",
       "4                                                0.37  0.030000  \n",
       "5                                                0.53  0.270000  \n",
       "6                                                0.05  0.040000  \n",
       "7   {10: 13.221944759886265, 20: 16.50158147430704...  0.800000  \n",
       "8   {'Yes, still owned by foreign adversary': 0.47...  0.355728  \n",
       "9                                                0.04  0.160000  \n",
       "10                                                0.2  0.500000  \n",
       "11                                               0.74  0.140000  \n",
       "12                                               0.01  0.690000  \n",
       "13                                               0.94  0.340000  \n",
       "14                                               0.05  0.550000  \n",
       "15                                               0.65  0.000000  \n",
       "16  {10: 0.037244497952941706, 20: 0.0680727765325...  0.629017  \n",
       "17                                               0.61  0.090000  \n",
       "18                                               0.65  0.050000  \n",
       "19                                               0.18  0.420000  \n",
       "20                                               0.95  0.100000  \n",
       "21                                               0.25  0.350000  \n",
       "22  {10: 52594.46960618577, 20: 72763.35611579647,...  0.800000  \n",
       "23                                               0.01  0.740000  \n",
       "24                                              0.001  0.199000  \n",
       "25                                               0.01  0.690000  \n",
       "26                                               0.45  0.250000  \n",
       "27                                               0.01  0.190000  \n",
       "28                                                0.9  0.200000  \n",
       "29                                                0.1  0.500000  "
      ]
     },
     "execution_count": 137,
     "metadata": {},
     "output_type": "execute_result"
    }
   ],
   "source": [
    "df1 = df[['title', 'question_type', 'prediction', 'crowd', 'error']]\n",
    "df1.head(30)"
   ]
  },
  {
   "cell_type": "code",
   "execution_count": 138,
   "id": "aa2c6bd8-8291-43f7-b336-7c7f75847335",
   "metadata": {},
   "outputs": [],
   "source": [
    "df1.to_csv('community_local.csv')"
   ]
  },
  {
   "cell_type": "code",
   "execution_count": 140,
   "id": "f481522a-8c19-4fb0-952f-5dcd792bc4ad",
   "metadata": {},
   "outputs": [
    {
     "name": "stdout",
     "output_type": "stream",
     "text": [
      "community_local_results.json  questions.json\t      run_with_predictions.json\n",
      "community_results.json\t      rag_system_report.json  scored.json\n",
      "debug.json\t\t      resolved.json\t      wow.json\n"
     ]
    }
   ],
   "source": [
    "!ls *.json"
   ]
  },
  {
   "cell_type": "code",
   "execution_count": 147,
   "id": "9da11b5d-8d2c-4e17-9e87-8cd1a062a252",
   "metadata": {},
   "outputs": [],
   "source": [
    "dfp = pd.read_csv('comm_perp.csv')"
   ]
  },
  {
   "cell_type": "code",
   "execution_count": 148,
   "id": "02a10769-76c4-4179-974a-1bcc9e4d1b3b",
   "metadata": {},
   "outputs": [
    {
     "data": {
      "text/html": [
       "<div>\n",
       "<style scoped>\n",
       "    .dataframe tbody tr th:only-of-type {\n",
       "        vertical-align: middle;\n",
       "    }\n",
       "\n",
       "    .dataframe tbody tr th {\n",
       "        vertical-align: top;\n",
       "    }\n",
       "\n",
       "    .dataframe thead th {\n",
       "        text-align: right;\n",
       "    }\n",
       "</style>\n",
       "<table border=\"1\" class=\"dataframe\">\n",
       "  <thead>\n",
       "    <tr style=\"text-align: right;\">\n",
       "      <th></th>\n",
       "      <th>Unnamed: 0</th>\n",
       "      <th>title</th>\n",
       "      <th>question_type</th>\n",
       "      <th>prediction</th>\n",
       "      <th>crowd</th>\n",
       "      <th>error</th>\n",
       "    </tr>\n",
       "  </thead>\n",
       "  <tbody>\n",
       "    <tr>\n",
       "      <th>0</th>\n",
       "      <td>0</td>\n",
       "      <td>If humanity goes extinct, will another intelli...</td>\n",
       "      <td>binary</td>\n",
       "      <td>0.25</td>\n",
       "      <td>0.4</td>\n",
       "      <td>0.15</td>\n",
       "    </tr>\n",
       "    <tr>\n",
       "      <th>1</th>\n",
       "      <td>1</td>\n",
       "      <td>Will Iran possess a nuclear weapon before 2041?</td>\n",
       "      <td>binary</td>\n",
       "      <td>0.4</td>\n",
       "      <td>0.69</td>\n",
       "      <td>0.29</td>\n",
       "    </tr>\n",
       "    <tr>\n",
       "      <th>2</th>\n",
       "      <td>2</td>\n",
       "      <td>Will any country trigger article 50 to leave t...</td>\n",
       "      <td>binary</td>\n",
       "      <td>0.12</td>\n",
       "      <td>0.11</td>\n",
       "      <td>0.01</td>\n",
       "    </tr>\n",
       "  </tbody>\n",
       "</table>\n",
       "</div>"
      ],
      "text/plain": [
       "   Unnamed: 0                                              title  \\\n",
       "0           0  If humanity goes extinct, will another intelli...   \n",
       "1           1    Will Iran possess a nuclear weapon before 2041?   \n",
       "2           2  Will any country trigger article 50 to leave t...   \n",
       "\n",
       "  question_type prediction crowd  error  \n",
       "0        binary       0.25   0.4   0.15  \n",
       "1        binary        0.4  0.69   0.29  \n",
       "2        binary       0.12  0.11   0.01  "
      ]
     },
     "execution_count": 148,
     "metadata": {},
     "output_type": "execute_result"
    }
   ],
   "source": [
    "dfp.head(3)"
   ]
  },
  {
   "cell_type": "code",
   "execution_count": 146,
   "id": "d024cfc1-0cc8-41ca-801e-143d1f1e7dfc",
   "metadata": {},
   "outputs": [
    {
     "data": {
      "text/plain": [
       "array([1.e+10])"
      ]
     },
     "execution_count": 146,
     "metadata": {},
     "output_type": "execute_result"
    }
   ],
   "source": [
    "dfp.error.values"
   ]
  },
  {
   "cell_type": "code",
   "execution_count": 149,
   "id": "15f45308-f1a2-40e8-95df-ecfd6ba7eb5c",
   "metadata": {},
   "outputs": [
    {
     "data": {
      "text/plain": [
       "0.42895934890238163"
      ]
     },
     "execution_count": 149,
     "metadata": {},
     "output_type": "execute_result"
    }
   ],
   "source": [
    "df.error.mean()"
   ]
  },
  {
   "cell_type": "code",
   "execution_count": 150,
   "id": "6ab4f1e5-0eb3-4853-b529-9c048eddbd62",
   "metadata": {},
   "outputs": [
    {
     "data": {
      "text/plain": [
       "0.2798393752964097"
      ]
     },
     "execution_count": 150,
     "metadata": {},
     "output_type": "execute_result"
    }
   ],
   "source": [
    "dfp.error.mean()"
   ]
  },
  {
   "cell_type": "code",
   "execution_count": 152,
   "id": "9ede327f-6315-44c4-9992-d6f0b8e2c324",
   "metadata": {},
   "outputs": [
    {
     "data": {
      "text/plain": [
       "0.26066897413420154"
      ]
     },
     "execution_count": 152,
     "metadata": {},
     "output_type": "execute_result"
    }
   ],
   "source": [
    "df.error.std()"
   ]
  },
  {
   "cell_type": "code",
   "execution_count": 153,
   "id": "24cf7bef-9b98-4a37-be6f-6a47f04638f8",
   "metadata": {},
   "outputs": [
    {
     "data": {
      "text/plain": [
       "0.2822323998781548"
      ]
     },
     "execution_count": 153,
     "metadata": {},
     "output_type": "execute_result"
    }
   ],
   "source": [
    "dfp.error.std()"
   ]
  },
  {
   "cell_type": "code",
   "execution_count": 154,
   "id": "14ae6cd8-1c28-4cfe-abe8-cb01f8471085",
   "metadata": {},
   "outputs": [
    {
     "data": {
      "text/plain": [
       "(711, 711)"
      ]
     },
     "execution_count": 154,
     "metadata": {},
     "output_type": "execute_result"
    }
   ],
   "source": [
    "len(dfp), len(df)"
   ]
  },
  {
   "cell_type": "code",
   "execution_count": null,
   "id": "b2601d84-f811-440a-8a43-00f7f53c718d",
   "metadata": {},
   "outputs": [],
   "source": []
  }
 ],
 "metadata": {
  "kernelspec": {
   "display_name": "Python 3 (ipykernel)",
   "language": "python",
   "name": "python3"
  },
  "language_info": {
   "codemirror_mode": {
    "name": "ipython",
    "version": 3
   },
   "file_extension": ".py",
   "mimetype": "text/x-python",
   "name": "python",
   "nbconvert_exporter": "python",
   "pygments_lexer": "ipython3",
   "version": "3.12.3"
  }
 },
 "nbformat": 4,
 "nbformat_minor": 5
}
