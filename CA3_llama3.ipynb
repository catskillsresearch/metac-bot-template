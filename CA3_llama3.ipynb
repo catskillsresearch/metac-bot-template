{
 "cells": [
  {
   "cell_type": "markdown",
   "id": "c1f27471-5886-4bc2-acdf-2dac9cf49676",
   "metadata": {},
   "source": [
    "# Community alignment of training questions"
   ]
  },
  {
   "cell_type": "markdown",
   "id": "50d47902-1f71-4794-9bfa-0a9a9756598a",
   "metadata": {},
   "source": [
    "## Imports"
   ]
  },
  {
   "cell_type": "code",
   "execution_count": 1,
   "id": "2a228aa4-f04f-4e92-9989-d4d1e9cc33b5",
   "metadata": {},
   "outputs": [],
   "source": [
    "%matplotlib inline\n",
    "import matplotlib.pyplot as plt"
   ]
  },
  {
   "cell_type": "markdown",
   "id": "9ed28a2c-287a-4ce0-939a-0bbd57bc2fb9",
   "metadata": {},
   "source": [
    "## Question sample"
   ]
  },
  {
   "cell_type": "code",
   "execution_count": 2,
   "id": "17d6bc41-680c-494a-a9d5-82eb399a09f2",
   "metadata": {},
   "outputs": [],
   "source": [
    "from load_forecasted_open_questions import load_forecasted_open_questions"
   ]
  },
  {
   "cell_type": "code",
   "execution_count": 3,
   "id": "477984cb-3550-4a88-b892-a0a9d091841a",
   "metadata": {},
   "outputs": [],
   "source": [
    "num_questions = (0,100000)"
   ]
  },
  {
   "cell_type": "code",
   "execution_count": 4,
   "id": "fb5ce635-8595-4eb6-8ef2-a65af9987d76",
   "metadata": {},
   "outputs": [],
   "source": [
    "model = 'llama3'"
   ]
  },
  {
   "cell_type": "code",
   "execution_count": 5,
   "id": "eb82340e-268d-4621-9969-3b7995162739",
   "metadata": {},
   "outputs": [
    {
     "name": "stderr",
     "output_type": "stream",
     "text": [
      "2025-06-17 20:45:28.224 WARNING streamlit.runtime.caching.cache_data_api: No runtime found, using MemoryCacheStorageManager\n"
     ]
    }
   ],
   "source": [
    "questions = load_forecasted_open_questions(num_questions, model)"
   ]
  },
  {
   "cell_type": "code",
   "execution_count": 6,
   "id": "e8b853af-cbb2-465e-aaf5-cc22579c7d00",
   "metadata": {},
   "outputs": [
    {
     "data": {
      "text/plain": [
       "859"
      ]
     },
     "execution_count": 6,
     "metadata": {},
     "output_type": "execute_result"
    }
   ],
   "source": [
    "len(questions)"
   ]
  },
  {
   "cell_type": "code",
   "execution_count": 7,
   "id": "7c2cef39-e872-4152-97cb-6b95587f6386",
   "metadata": {},
   "outputs": [],
   "source": [
    "questions_binary = [question for question in questions if question.api_json['question']['type'] == 'binary']"
   ]
  },
  {
   "cell_type": "code",
   "execution_count": 8,
   "id": "c0f20b4d-1554-4722-a3a9-575dc0793c02",
   "metadata": {},
   "outputs": [],
   "source": [
    "questions_multiple_choice = [question for question in questions if question.api_json['question']['type'] == 'multiple_choice']"
   ]
  },
  {
   "cell_type": "code",
   "execution_count": 9,
   "id": "d4666832-a6a9-4a39-9a24-d6957eb25ee2",
   "metadata": {},
   "outputs": [],
   "source": [
    "questions_numeric = [question for question in questions if question.api_json['question']['type'] == 'numeric']"
   ]
  },
  {
   "cell_type": "code",
   "execution_count": 10,
   "id": "bf88c61f-b466-4a60-8187-8184e33127ed",
   "metadata": {},
   "outputs": [
    {
     "data": {
      "text/plain": [
       "[699, 24, 136]"
      ]
     },
     "execution_count": 10,
     "metadata": {},
     "output_type": "execute_result"
    }
   ],
   "source": [
    "[len(x) for x in [questions_binary, questions_multiple_choice, questions_numeric]]"
   ]
  },
  {
   "cell_type": "markdown",
   "id": "8561c6a0-26e7-42b1-83af-1f93f96c0dca",
   "metadata": {},
   "source": [
    "## Community forecast"
   ]
  },
  {
   "cell_type": "code",
   "execution_count": 11,
   "id": "cbb4ac5c-1499-4b5a-ad48-de921cec919b",
   "metadata": {},
   "outputs": [],
   "source": [
    "from community_forecast import *"
   ]
  },
  {
   "cell_type": "code",
   "execution_count": 12,
   "id": "ebe818c7-c2cf-4333-96e7-95f61ebff5c5",
   "metadata": {},
   "outputs": [],
   "source": [
    "id_to_forecast = {question.api_json['id']: community_forecast(question) for question in questions}"
   ]
  },
  {
   "cell_type": "code",
   "execution_count": 13,
   "id": "a7272eb7-e48c-4597-b52b-2fca3f8a0f06",
   "metadata": {},
   "outputs": [],
   "source": [
    "id_to_question = {question.api_json['id']: question for question in questions}"
   ]
  },
  {
   "cell_type": "markdown",
   "id": "44c204ef-48f9-4914-8046-a59a9696dbb3",
   "metadata": {},
   "source": [
    "## 000 forecast"
   ]
  },
  {
   "cell_type": "code",
   "execution_count": 14,
   "id": "3531846f-0cd0-4768-9a0f-bdb531550e3e",
   "metadata": {},
   "outputs": [],
   "source": [
    "model = 'llama3'"
   ]
  },
  {
   "cell_type": "code",
   "execution_count": 15,
   "id": "776cc33a-b5e0-41f3-af6b-2bcde3ba46c2",
   "metadata": {},
   "outputs": [],
   "source": [
    "pdir = f'forecast_{model}'"
   ]
  },
  {
   "cell_type": "code",
   "execution_count": 16,
   "id": "4880ac6e-e046-41e0-9e4d-a07bc2511f60",
   "metadata": {},
   "outputs": [],
   "source": [
    "import glob\n",
    "fns = glob.glob(f'{pdir}/*.md')"
   ]
  },
  {
   "cell_type": "code",
   "execution_count": 17,
   "id": "f4ae73ca-4954-4dde-a879-c8f88e04f415",
   "metadata": {},
   "outputs": [],
   "source": [
    "fn = fns[0]"
   ]
  },
  {
   "cell_type": "code",
   "execution_count": 18,
   "id": "08970f07-d97e-4b63-80b3-fa1c02570e1c",
   "metadata": {},
   "outputs": [],
   "source": [
    "ids = [int(fn.split('/')[1].split('.')[0]) for fn in fns]"
   ]
  },
  {
   "cell_type": "code",
   "execution_count": 19,
   "id": "b6dac9c4-596e-4e53-b64f-cf454fd861bb",
   "metadata": {},
   "outputs": [
    {
     "data": {
      "text/plain": [
       "863"
      ]
     },
     "execution_count": 19,
     "metadata": {},
     "output_type": "execute_result"
    }
   ],
   "source": [
    "len(ids)"
   ]
  },
  {
   "cell_type": "code",
   "execution_count": 20,
   "id": "a12d098f-c18a-40c7-a83c-6fdc0d3fc05e",
   "metadata": {},
   "outputs": [],
   "source": [
    "forecasts = {id: open(f'{pdir}/{id}.md').read() for id in ids}"
   ]
  },
  {
   "cell_type": "code",
   "execution_count": 21,
   "id": "eaede453-f06c-4af4-be31-c300b42ebe34",
   "metadata": {},
   "outputs": [
    {
     "data": {
      "text/plain": [
       "863"
      ]
     },
     "execution_count": 21,
     "metadata": {},
     "output_type": "execute_result"
    }
   ],
   "source": [
    "len(forecasts)"
   ]
  },
  {
   "cell_type": "code",
   "execution_count": 22,
   "id": "8e77d7c8-866a-413d-a57a-3bc861e9aeec",
   "metadata": {},
   "outputs": [],
   "source": [
    "community_ids = list(id_to_forecast.keys())"
   ]
  },
  {
   "cell_type": "code",
   "execution_count": 23,
   "id": "e077f094-9d9a-4292-a9f5-98cf3e9d3792",
   "metadata": {},
   "outputs": [
    {
     "data": {
      "text/plain": [
       "859"
      ]
     },
     "execution_count": 23,
     "metadata": {},
     "output_type": "execute_result"
    }
   ],
   "source": [
    "len(community_ids)"
   ]
  },
  {
   "cell_type": "code",
   "execution_count": 24,
   "id": "b124946e-e78d-41dc-8067-b558562b9431",
   "metadata": {},
   "outputs": [],
   "source": [
    "forecast_ids = list(forecasts.keys())"
   ]
  },
  {
   "cell_type": "code",
   "execution_count": 25,
   "id": "bacbfef3-4497-470e-9101-08dd078f0dc1",
   "metadata": {},
   "outputs": [
    {
     "data": {
      "text/plain": [
       "863"
      ]
     },
     "execution_count": 25,
     "metadata": {},
     "output_type": "execute_result"
    }
   ],
   "source": [
    "len(forecast_ids)"
   ]
  },
  {
   "cell_type": "code",
   "execution_count": 26,
   "id": "93f6f9f6-a479-4fac-92e0-e4b6cf1f859c",
   "metadata": {},
   "outputs": [],
   "source": [
    "done = list(set(forecast_ids).intersection(community_ids))"
   ]
  },
  {
   "cell_type": "code",
   "execution_count": 27,
   "id": "7502a8eb-c2c1-4f61-a84f-5b943fd61843",
   "metadata": {},
   "outputs": [
    {
     "data": {
      "text/plain": [
       "711"
      ]
     },
     "execution_count": 27,
     "metadata": {},
     "output_type": "execute_result"
    }
   ],
   "source": [
    "len(done)"
   ]
  },
  {
   "cell_type": "code",
   "execution_count": 28,
   "id": "b476dfca-19b2-4852-b254-e4beb26b897a",
   "metadata": {},
   "outputs": [],
   "source": [
    "from extract_forecast import *\n",
    "\n",
    "def extract_only_forecast(id):\n",
    "    question = id_to_question[id]\n",
    "    question_type = type(question)\n",
    "    forecast = forecasts[id]\n",
    "    if question_type == forecasting_tools.data_models.questions.BinaryQuestion:\n",
    "        prediction = extract_probability_from_response_as_percentage_not_decimal(forecast)/100.0\n",
    "    elif question_type == forecasting_tools.data_models.questions.MultipleChoiceQuestion:\n",
    "        options = question.options\n",
    "        option_probabilities = extract_option_probabilities_from_response(forecast, options)\n",
    "        prediction = generate_multiple_choice_forecast(options, option_probabilities)\n",
    "    elif question_type == forecasting_tools.data_models.questions.NumericQuestion:\n",
    "        prediction = extract_percentiles_from_response(forecast)\n",
    "    return prediction"
   ]
  },
  {
   "cell_type": "code",
   "execution_count": 29,
   "id": "53b7374f-ee0f-4776-ab38-d5bc20931f09",
   "metadata": {},
   "outputs": [],
   "source": [
    "import forecasting_tools"
   ]
  },
  {
   "cell_type": "code",
   "execution_count": 30,
   "id": "0ca59d9d-97df-44c9-9a3c-50a131a219b9",
   "metadata": {},
   "outputs": [],
   "source": [
    "for id in done:\n",
    "    try:\n",
    "        foo = extract_only_forecast(id)\n",
    "    except:\n",
    "        print(f'rm forecast_community/{id}.md')"
   ]
  },
  {
   "cell_type": "code",
   "execution_count": 31,
   "id": "6943de7f-d6e9-4374-a715-e92d6f9780c9",
   "metadata": {},
   "outputs": [],
   "source": [
    "predictions = {id: extract_only_forecast(id) for id in done}"
   ]
  },
  {
   "cell_type": "markdown",
   "id": "ada71bb8-e2ee-4450-9315-43396d0a7d92",
   "metadata": {},
   "source": [
    "## Put this in a dataframe"
   ]
  },
  {
   "cell_type": "code",
   "execution_count": 32,
   "id": "c39d67bb-7b39-4638-8977-8e2c175fc11f",
   "metadata": {},
   "outputs": [],
   "source": [
    "from flatten_dict import flatten_dict\n",
    "import pandas as pd\n",
    "from prompt_question import prompt_question\n",
    "pd.set_option('display.max_columns', None)"
   ]
  },
  {
   "cell_type": "code",
   "execution_count": 33,
   "id": "e051a78d-9811-4315-935c-7f781c62f791",
   "metadata": {},
   "outputs": [],
   "source": [
    "q_done = [id_to_question[id] for id in done]"
   ]
  },
  {
   "cell_type": "code",
   "execution_count": 34,
   "id": "56311163-731a-479c-8280-c39f56a964f5",
   "metadata": {},
   "outputs": [],
   "source": [
    "qflat = [flatten_dict(q.api_json, sep='_') for q in q_done]"
   ]
  },
  {
   "cell_type": "code",
   "execution_count": 35,
   "id": "19a24b3d-16e5-4597-be6d-c55aa366fb92",
   "metadata": {},
   "outputs": [],
   "source": [
    "df = pd.DataFrame(qflat)"
   ]
  },
  {
   "cell_type": "code",
   "execution_count": 36,
   "id": "00ed81bc-0829-42fb-aa36-a38aa07678b0",
   "metadata": {},
   "outputs": [],
   "source": [
    "df['crowd'] = df.apply(lambda row: id_to_forecast[row.id], axis=1)"
   ]
  },
  {
   "cell_type": "code",
   "execution_count": 37,
   "id": "b28be051-5f01-4139-b99c-a7a9ca211ed5",
   "metadata": {},
   "outputs": [],
   "source": [
    "def pull_asknews(row):\n",
    "    fn = f'asknews/{row.id}.md'\n",
    "    with open(fn, 'r') as f:\n",
    "        return f.read()"
   ]
  },
  {
   "cell_type": "code",
   "execution_count": null,
   "id": "6cdb4c86-2589-43ab-8623-78304293aa80",
   "metadata": {},
   "outputs": [],
   "source": []
  },
  {
   "cell_type": "code",
   "execution_count": 38,
   "id": "a3d84964-4b32-48fe-a75a-539bbdde54d6",
   "metadata": {},
   "outputs": [],
   "source": [
    "df['question_options'] = df['question_options'].apply(repr)"
   ]
  },
  {
   "cell_type": "code",
   "execution_count": 39,
   "id": "d504f9a4-738d-42b3-b2a9-8458c504e87f",
   "metadata": {},
   "outputs": [],
   "source": [
    "df = df[['id',\n",
    " 'open_time',\n",
    " 'scheduled_resolve_time',\n",
    " 'title',\n",
    " 'question_description',\n",
    " 'question_resolution_criteria',\n",
    " 'question_fine_print',\n",
    " 'question_type',\n",
    " 'question_options',\n",
    " 'question_group_variable',\n",
    " 'question_question_weight',\n",
    " 'question_unit',\n",
    " 'question_open_upper_bound',\n",
    " 'question_open_lower_bound',\n",
    " 'question_scaling_range_max',\n",
    " 'question_scaling_range_min',\n",
    " 'question_scaling_zero_point',\n",
    " 'crowd']]"
   ]
  },
  {
   "cell_type": "code",
   "execution_count": 55,
   "id": "8fa364d1-4931-47e5-a3db-d418c5bc7c28",
   "metadata": {},
   "outputs": [],
   "source": [
    "from datetime import datetime\n",
    "dfn = f'forecast_{model}'\n",
    "df['today'] = datetime.now().strftime(\"%Y-%m-%d\")"
   ]
  },
  {
   "cell_type": "code",
   "execution_count": 56,
   "id": "1f82b60a-798d-4fca-8daf-302ca6eb89bc",
   "metadata": {},
   "outputs": [],
   "source": [
    "df['asknews'] = df.apply(pull_asknews, axis=1)"
   ]
  },
  {
   "cell_type": "code",
   "execution_count": 57,
   "id": "8c70956c-796b-476d-b427-7590da581d26",
   "metadata": {},
   "outputs": [
    {
     "data": {
      "text/plain": [
       "Index(['id', 'open_time', 'scheduled_resolve_time', 'title',\n",
       "       'question_description', 'question_resolution_criteria',\n",
       "       'question_fine_print', 'question_type', 'question_options',\n",
       "       'question_group_variable', 'question_question_weight', 'question_unit',\n",
       "       'question_open_upper_bound', 'question_open_lower_bound',\n",
       "       'question_scaling_range_max', 'question_scaling_range_min',\n",
       "       'question_scaling_zero_point', 'crowd', 'today', 'asknews', 'research',\n",
       "       'id_of_question', 'learning', 'prompt'],\n",
       "      dtype='object')"
      ]
     },
     "execution_count": 57,
     "metadata": {},
     "output_type": "execute_result"
    }
   ],
   "source": [
    "df.columns"
   ]
  },
  {
   "cell_type": "code",
   "execution_count": 58,
   "id": "b9d6cb4e-cd84-4e0b-8b9e-6291c8ee2186",
   "metadata": {},
   "outputs": [],
   "source": [
    "def load_research(row):\n",
    "    with open(f\"research/{row['id']}.md\", 'r') as f:\n",
    "        return f.read()\n",
    "\n",
    "df['research'] = df.apply(load_research, axis=1)"
   ]
  },
  {
   "cell_type": "code",
   "execution_count": 59,
   "id": "b457572f-082e-4d48-8118-a5ed208f2dbf",
   "metadata": {},
   "outputs": [
    {
     "data": {
      "text/plain": [
       "0      Here are the relevant news articles:\\n\\n**Huma...\n",
       "1      Here are the relevant news articles:\\n\\n**Iran...\n",
       "2      Here are the relevant news articles:\\n\\n**EU P...\n",
       "3      Here are the relevant news articles:\\n\\n**UK D...\n",
       "4      Here are the relevant news articles:\\n\\n**US D...\n",
       "                             ...                        \n",
       "706    Here are the relevant news articles:\\n\\n**Bitc...\n",
       "707    Here are the relevant news articles:\\n\\n**Bitc...\n",
       "708    Here are the relevant news articles:\\n\\n**EU E...\n",
       "709    Here are the relevant news articles:\\n\\n**Chat...\n",
       "710    Here are the relevant news articles:\\n\\n**Stud...\n",
       "Name: asknews, Length: 711, dtype: object"
      ]
     },
     "execution_count": 59,
     "metadata": {},
     "output_type": "execute_result"
    }
   ],
   "source": [
    "df['asknews']"
   ]
  },
  {
   "cell_type": "code",
   "execution_count": 60,
   "id": "83a0302a-13ef-4e0a-87d9-4db9e12f53cb",
   "metadata": {},
   "outputs": [],
   "source": [
    "from RAGForecaster import RAGForecaster\n",
    "from EnhancedResearchPro import EnhancedResearchPro"
   ]
  },
  {
   "cell_type": "code",
   "execution_count": 61,
   "id": "3e799730-c1cd-4a19-991e-c95533419c34",
   "metadata": {},
   "outputs": [
    {
     "name": "stdout",
     "output_type": "stream",
     "text": [
      "Loaded existing index from forecast_index.faiss\n",
      "Index contains 4767 vectors at initialization\n"
     ]
    }
   ],
   "source": [
    "    rag = RAGForecaster()"
   ]
  },
  {
   "cell_type": "code",
   "execution_count": 62,
   "id": "ad35484b-711b-46f6-902e-dfe2ea5773b9",
   "metadata": {},
   "outputs": [],
   "source": [
    "    research_bot = EnhancedResearchPro(rag)"
   ]
  },
  {
   "cell_type": "code",
   "execution_count": 63,
   "id": "d17c9105-4448-4170-9724-8f12bfa9ca6c",
   "metadata": {},
   "outputs": [],
   "source": [
    "df['id_of_question'] = df['id']"
   ]
  },
  {
   "cell_type": "code",
   "execution_count": 64,
   "id": "0202cf02-bfc6-4e46-a4dc-1daedb624c4a",
   "metadata": {},
   "outputs": [],
   "source": [
    "    research_bot.process_dataframe(df, use_cutoff=False)"
   ]
  },
  {
   "cell_type": "code",
   "execution_count": 65,
   "id": "1209ebf4-0203-4224-b74e-9baf3632673b",
   "metadata": {},
   "outputs": [],
   "source": [
    "    rag.research_bot = research_bot\n",
    "\n",
    "    # Updated learning field with raw text extraction\n",
    "    df['learning'] = df.apply(\n",
    "        lambda row: [\n",
    "            m['raw_text'] \n",
    "            for m, _ in research_bot.retrieval_cache.get(row['title'], []) \n",
    "            if 'raw_text' in m  # Safety check for legacy entries\n",
    "        ], \n",
    "        axis=1\n",
    "    )\n"
   ]
  },
  {
   "cell_type": "code",
   "execution_count": 66,
   "id": "28ac29c2-c85b-466a-8379-6d40d75261fe",
   "metadata": {},
   "outputs": [],
   "source": [
    "df['prompt'] = df.apply(prompt_question, axis=1)"
   ]
  },
  {
   "cell_type": "code",
   "execution_count": 67,
   "id": "48158979-05aa-4f64-a728-5fed3a850e13",
   "metadata": {},
   "outputs": [],
   "source": [
    "from tqdm import tqdm\n",
    "tqdm.pandas()"
   ]
  },
  {
   "cell_type": "code",
   "execution_count": 68,
   "id": "86121d0d-e869-4137-8516-735f7201ad2d",
   "metadata": {},
   "outputs": [],
   "source": [
    "\n",
    "def predict(dfn, question, iterations = 3):\n",
    "    ffn = f'{dfn}/{question.id_of_question}.md'\n",
    "    with open(ffn, 'r') as f:\n",
    "        return f.read()\n"
   ]
  },
  {
   "cell_type": "code",
   "execution_count": 69,
   "id": "8c0aa841-a36b-4515-9b4c-047ace67ee80",
   "metadata": {},
   "outputs": [
    {
     "name": "stderr",
     "output_type": "stream",
     "text": [
      "100%|███████████████████████████████████████████████████████████████████████████████████████████████████████| 711/711 [00:00<00:00, 33762.99it/s]\n"
     ]
    }
   ],
   "source": [
    "df['forecast'] = df.progress_apply(lambda question: predict(dfn, question), axis=1)"
   ]
  },
  {
   "cell_type": "code",
   "execution_count": 70,
   "id": "0c89a71b-6c2c-4fc2-a1ee-30410be01db6",
   "metadata": {},
   "outputs": [
    {
     "name": "stdout",
     "output_type": "stream",
     "text": [
      "EXTRACT_FORECAST 10243\n",
      "EXTRACT_FORECAST 10244\n",
      "EXTRACT_FORECAST 28682\n",
      "EXTRACT_FORECAST 18444\n",
      "EXTRACT_FORECAST 16404\n",
      "EXTRACT_FORECAST 4118\n",
      "EXTRACT_FORECAST 36887\n",
      "EXTRACT_FORECAST 4123\n",
      "EXTRACT_FORECAST 22559\n",
      "EXTRACT_FORECAST 6179\n",
      "EXTRACT_FORECAST 20522\n",
      "EXTRACT_FORECAST 6197\n",
      "EXTRACT_FORECAST 12348\n",
      "EXTRACT_FORECAST 18515\n",
      "EXTRACT_FORECAST 26715\n",
      "EXTRACT_FORECAST 26717\n",
      "EXTRACT_FORECAST 26718\n",
      "EXTRACT_FORECAST 26721\n",
      "EXTRACT_FORECAST 14441\n",
      "EXTRACT_FORECAST 20588\n",
      "EXTRACT_FORECAST 111\n",
      "EXTRACT_FORECAST 18545\n",
      "EXTRACT_FORECAST 4215\n",
      "EXTRACT_FORECAST 10359\n",
      "EXTRACT_FORECAST 8313\n",
      "EXTRACT_FORECAST 14456\n",
      "EXTRACT_FORECAST 4219\n",
      "EXTRACT_FORECAST 4224\n",
      "EXTRACT_FORECAST 8324\n",
      "EXTRACT_FORECAST 8325\n",
      "EXTRACT_FORECAST 4229\n",
      "EXTRACT_FORECAST 8327\n",
      "EXTRACT_FORECAST 8326\n",
      "EXTRACT_FORECAST 8328\n",
      "EXTRACT_FORECAST 10393\n",
      "EXTRACT_FORECAST 6304\n",
      "EXTRACT_FORECAST 161\n",
      "EXTRACT_FORECAST 12453\n",
      "EXTRACT_FORECAST 4264\n",
      "EXTRACT_FORECAST 16553\n",
      "EXTRACT_FORECAST 8362\n",
      "EXTRACT_FORECAST 8363\n",
      "EXTRACT_FORECAST 10409\n",
      "EXTRACT_FORECAST 12461\n",
      "EXTRACT_FORECAST 8379\n",
      "EXTRACT_FORECAST 8382\n",
      "EXTRACT_FORECAST 8383\n",
      "EXTRACT_FORECAST 4290\n",
      "EXTRACT_FORECAST 10436\n",
      "EXTRACT_FORECAST 8388\n",
      "EXTRACT_FORECAST 8391\n",
      "EXTRACT_FORECAST 20683\n",
      "EXTRACT_FORECAST 8396\n",
      "EXTRACT_FORECAST 8399\n",
      "EXTRACT_FORECAST 4306\n",
      "EXTRACT_FORECAST 8403\n",
      "EXTRACT_FORECAST 8404\n",
      "EXTRACT_FORECAST 6356\n",
      "EXTRACT_FORECAST 6365\n",
      "EXTRACT_FORECAST 18663\n",
      "EXTRACT_FORECAST 18664\n",
      "EXTRACT_FORECAST 6378\n",
      "EXTRACT_FORECAST 4333\n",
      "EXTRACT_FORECAST 4334\n",
      "EXTRACT_FORECAST 30959\n",
      "EXTRACT_FORECAST 30960\n",
      "EXTRACT_FORECAST 12529\n",
      "EXTRACT_FORECAST 18677\n",
      "EXTRACT_FORECAST 12539\n",
      "EXTRACT_FORECAST 18683\n",
      "EXTRACT_FORECAST 8466\n",
      "EXTRACT_FORECAST 8470\n",
      "EXTRACT_FORECAST 8475\n",
      "EXTRACT_FORECAST 6455\n",
      "EXTRACT_FORECAST 8504\n",
      "EXTRACT_FORECAST 4409\n",
      "EXTRACT_FORECAST 8509\n",
      "EXTRACT_FORECAST 8512\n",
      "EXTRACT_FORECAST 8515\n",
      "EXTRACT_FORECAST 8516\n",
      "EXTRACT_FORECAST 12613\n",
      "EXTRACT_FORECAST 6476\n",
      "EXTRACT_FORECAST 4429\n",
      "EXTRACT_FORECAST 10574\n",
      "EXTRACT_FORECAST 6479\n",
      "EXTRACT_FORECAST 16720\n",
      "EXTRACT_FORECAST 8533\n",
      "EXTRACT_FORECAST 18776\n",
      "EXTRACT_FORECAST 8538\n",
      "EXTRACT_FORECAST 349\n",
      "EXTRACT_FORECAST 353\n",
      "EXTRACT_FORECAST 18789\n",
      "EXTRACT_FORECAST 6502\n",
      "EXTRACT_FORECAST 6506\n",
      "EXTRACT_FORECAST 8554\n",
      "EXTRACT_FORECAST 8556\n",
      "EXTRACT_FORECAST 6509\n",
      "EXTRACT_FORECAST 8558\n",
      "EXTRACT_FORECAST 372\n",
      "EXTRACT_FORECAST 10614\n",
      "EXTRACT_FORECAST 375\n",
      "EXTRACT_FORECAST 384\n",
      "EXTRACT_FORECAST 10626\n",
      "EXTRACT_FORECAST 8583\n",
      "EXTRACT_FORECAST 397\n",
      "EXTRACT_FORECAST 10642\n",
      "EXTRACT_FORECAST 10643\n",
      "EXTRACT_FORECAST 18839\n",
      "EXTRACT_FORECAST 8600\n",
      "EXTRACT_FORECAST 8599\n",
      "EXTRACT_FORECAST 27034\n",
      "EXTRACT_FORECAST 27035\n",
      "EXTRACT_FORECAST 4507\n",
      "EXTRACT_FORECAST 6558\n",
      "EXTRACT_FORECAST 4511\n",
      "EXTRACT_FORECAST 10658\n",
      "EXTRACT_FORECAST 8611\n",
      "EXTRACT_FORECAST 8613\n",
      "EXTRACT_FORECAST 4518\n",
      "EXTRACT_FORECAST 8614\n",
      "EXTRACT_FORECAST 10667\n",
      "EXTRACT_FORECAST 4524\n",
      "EXTRACT_FORECAST 18862\n",
      "EXTRACT_FORECAST 4527\n",
      "EXTRACT_FORECAST 18865\n",
      "EXTRACT_FORECAST 8634\n",
      "EXTRACT_FORECAST 8636\n",
      "EXTRACT_FORECAST 10686\n",
      "EXTRACT_FORECAST 10697\n",
      "EXTRACT_FORECAST 6601\n",
      "EXTRACT_FORECAST 8649\n",
      "EXTRACT_FORECAST 6604\n",
      "EXTRACT_FORECAST 6608\n",
      "EXTRACT_FORECAST 2513\n",
      "EXTRACT_FORECAST 2514\n",
      "EXTRACT_FORECAST 10709\n",
      "EXTRACT_FORECAST 6614\n",
      "EXTRACT_FORECAST 8662\n",
      "EXTRACT_FORECAST 6616\n",
      "EXTRACT_FORECAST 20953\n",
      "EXTRACT_FORECAST 6618\n",
      "EXTRACT_FORECAST 6615\n",
      "EXTRACT_FORECAST 8670\n",
      "EXTRACT_FORECAST 480\n",
      "EXTRACT_FORECAST 8675\n",
      "EXTRACT_FORECAST 8677\n",
      "EXTRACT_FORECAST 2534\n",
      "EXTRACT_FORECAST 6632\n",
      "EXTRACT_FORECAST 4585\n",
      "EXTRACT_FORECAST 6633\n",
      "EXTRACT_FORECAST 491\n",
      "EXTRACT_FORECAST 492\n",
      "EXTRACT_FORECAST 10744\n",
      "EXTRACT_FORECAST 12794\n",
      "EXTRACT_FORECAST 12795\n",
      "EXTRACT_FORECAST 2561\n",
      "EXTRACT_FORECAST 513\n",
      "EXTRACT_FORECAST 2563\n",
      "EXTRACT_FORECAST 4615\n",
      "EXTRACT_FORECAST 4616\n",
      "EXTRACT_FORECAST 6663\n",
      "EXTRACT_FORECAST 27148\n",
      "EXTRACT_FORECAST 10765\n",
      "EXTRACT_FORECAST 12813\n",
      "EXTRACT_FORECAST 10767\n",
      "EXTRACT_FORECAST 10766\n",
      "EXTRACT_FORECAST 10768\n",
      "EXTRACT_FORECAST 8734\n",
      "EXTRACT_FORECAST 6691\n",
      "EXTRACT_FORECAST 8745\n",
      "EXTRACT_FORECAST 2605\n",
      "EXTRACT_FORECAST 6702\n",
      "EXTRACT_FORECAST 2611\n",
      "EXTRACT_FORECAST 10806\n",
      "EXTRACT_FORECAST 10810\n",
      "EXTRACT_FORECAST 2619\n",
      "EXTRACT_FORECAST 2621\n",
      "EXTRACT_FORECAST 2622\n",
      "EXTRACT_FORECAST 578\n",
      "EXTRACT_FORECAST 6725\n",
      "EXTRACT_FORECAST 4678\n",
      "EXTRACT_FORECAST 1337\n",
      "EXTRACT_FORECAST 2632\n",
      "EXTRACT_FORECAST 585\n",
      "EXTRACT_FORECAST 1338\n",
      "EXTRACT_FORECAST 10832\n",
      "EXTRACT_FORECAST 8786\n",
      "EXTRACT_FORECAST 10834\n",
      "EXTRACT_FORECAST 594\n",
      "EXTRACT_FORECAST 2646\n",
      "EXTRACT_FORECAST 4694\n",
      "EXTRACT_FORECAST 2649\n",
      "EXTRACT_FORECAST 604\n",
      "EXTRACT_FORECAST 4701\n",
      "EXTRACT_FORECAST 606\n",
      "EXTRACT_FORECAST 19038\n",
      "EXTRACT_FORECAST 605\n",
      "EXTRACT_FORECAST 610\n",
      "EXTRACT_FORECAST 10851\n",
      "EXTRACT_FORECAST 8805\n",
      "EXTRACT_FORECAST 614\n",
      "EXTRACT_FORECAST 2665\n",
      "EXTRACT_FORECAST 2666\n",
      "EXTRACT_FORECAST 10872\n",
      "EXTRACT_FORECAST 658\n",
      "EXTRACT_FORECAST 21140\n",
      "EXTRACT_FORECAST 6804\n",
      "EXTRACT_FORECAST 6806\n",
      "EXTRACT_FORECAST 3388\n",
      "EXTRACT_FORECAST 2711\n",
      "EXTRACT_FORECAST 665\n",
      "EXTRACT_FORECAST 2713\n",
      "EXTRACT_FORECAST 2729\n",
      "EXTRACT_FORECAST 6827\n",
      "EXTRACT_FORECAST 4779\n",
      "EXTRACT_FORECAST 686\n",
      "EXTRACT_FORECAST 21167\n",
      "EXTRACT_FORECAST 4785\n",
      "EXTRACT_FORECAST 4788\n",
      "EXTRACT_FORECAST 10933\n",
      "EXTRACT_FORECAST 4798\n",
      "EXTRACT_FORECAST 2751\n",
      "EXTRACT_FORECAST 10949\n",
      "EXTRACT_FORECAST 17095\n",
      "EXTRACT_FORECAST 10952\n",
      "EXTRACT_FORECAST 10953\n",
      "EXTRACT_FORECAST 2762\n",
      "EXTRACT_FORECAST 4812\n",
      "EXTRACT_FORECAST 17100\n",
      "EXTRACT_FORECAST 17102\n",
      "EXTRACT_FORECAST 8909\n",
      "EXTRACT_FORECAST 17104\n",
      "EXTRACT_FORECAST 10962\n",
      "EXTRACT_FORECAST 10965\n",
      "EXTRACT_FORECAST 17110\n",
      "EXTRACT_FORECAST 6870\n",
      "EXTRACT_FORECAST 27350\n",
      "EXTRACT_FORECAST 27353\n",
      "EXTRACT_FORECAST 17112\n",
      "EXTRACT_FORECAST 10971\n",
      "EXTRACT_FORECAST 4830\n",
      "EXTRACT_FORECAST 736\n",
      "EXTRACT_FORECAST 737\n",
      "EXTRACT_FORECAST 4849\n",
      "EXTRACT_FORECAST 2802\n",
      "EXTRACT_FORECAST 4851\n",
      "EXTRACT_FORECAST 2803\n",
      "EXTRACT_FORECAST 15098\n",
      "EXTRACT_FORECAST 2812\n",
      "EXTRACT_FORECAST 21245\n",
      "EXTRACT_FORECAST 15102\n",
      "EXTRACT_FORECAST 8959\n",
      "EXTRACT_FORECAST 2817\n",
      "EXTRACT_FORECAST 2822\n",
      "EXTRACT_FORECAST 2823\n",
      "EXTRACT_FORECAST 4872\n",
      "EXTRACT_FORECAST 4873\n",
      "EXTRACT_FORECAST 8968\n",
      "EXTRACT_FORECAST 4882\n",
      "EXTRACT_FORECAST 4883\n",
      "EXTRACT_FORECAST 21270\n",
      "EXTRACT_FORECAST 27415\n",
      "EXTRACT_FORECAST 6940\n",
      "EXTRACT_FORECAST 797\n",
      "EXTRACT_FORECAST 4894\n",
      "EXTRACT_FORECAST 4892\n",
      "EXTRACT_FORECAST 15134\n",
      "EXTRACT_FORECAST 6946\n",
      "EXTRACT_FORECAST 11045\n",
      "EXTRACT_FORECAST 808\n",
      "EXTRACT_FORECAST 15146\n",
      "EXTRACT_FORECAST 4919\n",
      "EXTRACT_FORECAST 824\n",
      "EXTRACT_FORECAST 6967\n",
      "EXTRACT_FORECAST 4922\n",
      "EXTRACT_FORECAST 4923\n",
      "EXTRACT_FORECAST 4924\n",
      "EXTRACT_FORECAST 6973\n",
      "EXTRACT_FORECAST 4927\n",
      "EXTRACT_FORECAST 21319\n",
      "EXTRACT_FORECAST 841\n",
      "EXTRACT_FORECAST 9532\n",
      "EXTRACT_FORECAST 23387\n",
      "EXTRACT_FORECAST 9533\n",
      "EXTRACT_FORECAST 19298\n",
      "EXTRACT_FORECAST 17251\n",
      "EXTRACT_FORECAST 9060\n",
      "EXTRACT_FORECAST 9062\n",
      "EXTRACT_FORECAST 4968\n",
      "EXTRACT_FORECAST 11112\n",
      "EXTRACT_FORECAST 7018\n",
      "EXTRACT_FORECAST 15211\n",
      "EXTRACT_FORECAST 11122\n",
      "EXTRACT_FORECAST 11124\n",
      "EXTRACT_FORECAST 15644\n",
      "EXTRACT_FORECAST 11127\n",
      "EXTRACT_FORECAST 11129\n",
      "EXTRACT_FORECAST 2937\n",
      "EXTRACT_FORECAST 7035\n",
      "EXTRACT_FORECAST 7037\n",
      "EXTRACT_FORECAST 21374\n",
      "EXTRACT_FORECAST 7038\n",
      "EXTRACT_FORECAST 7040\n",
      "EXTRACT_FORECAST 7041\n",
      "EXTRACT_FORECAST 899\n",
      "EXTRACT_FORECAST 4997\n",
      "EXTRACT_FORECAST 2954\n",
      "EXTRACT_FORECAST 15246\n",
      "EXTRACT_FORECAST 7055\n",
      "EXTRACT_FORECAST 7056\n",
      "EXTRACT_FORECAST 7054\n",
      "EXTRACT_FORECAST 915\n",
      "EXTRACT_FORECAST 916\n",
      "EXTRACT_FORECAST 917\n",
      "EXTRACT_FORECAST 7072\n",
      "EXTRACT_FORECAST 5029\n",
      "EXTRACT_FORECAST 11175\n",
      "EXTRACT_FORECAST 7079\n",
      "EXTRACT_FORECAST 11177\n",
      "EXTRACT_FORECAST 7082\n",
      "EXTRACT_FORECAST 11179\n",
      "EXTRACT_FORECAST 15277\n",
      "EXTRACT_FORECAST 5039\n",
      "EXTRACT_FORECAST 11188\n",
      "EXTRACT_FORECAST 5048\n",
      "EXTRACT_FORECAST 11198\n",
      "EXTRACT_FORECAST 11199\n",
      "EXTRACT_FORECAST 7109\n",
      "EXTRACT_FORECAST 7110\n",
      "EXTRACT_FORECAST 3019\n",
      "EXTRACT_FORECAST 3021\n",
      "EXTRACT_FORECAST 11216\n",
      "EXTRACT_FORECAST 980\n",
      "EXTRACT_FORECAST 13271\n",
      "EXTRACT_FORECAST 21465\n",
      "EXTRACT_FORECAST 17373\n",
      "EXTRACT_FORECAST 21471\n",
      "EXTRACT_FORECAST 3042\n",
      "EXTRACT_FORECAST 1002\n",
      "EXTRACT_FORECAST 3054\n",
      "EXTRACT_FORECAST 7155\n",
      "EXTRACT_FORECAST 17408\n",
      "EXTRACT_FORECAST 3078\n",
      "EXTRACT_FORECAST 15370\n",
      "EXTRACT_FORECAST 15375\n",
      "EXTRACT_FORECAST 3095\n",
      "EXTRACT_FORECAST 17432\n",
      "EXTRACT_FORECAST 17434\n",
      "EXTRACT_FORECAST 21531\n",
      "EXTRACT_FORECAST 1052\n",
      "EXTRACT_FORECAST 3103\n",
      "EXTRACT_FORECAST 1056\n",
      "EXTRACT_FORECAST 1058\n",
      "EXTRACT_FORECAST 1059\n",
      "EXTRACT_FORECAST 17443\n",
      "EXTRACT_FORECAST 1061\n",
      "EXTRACT_FORECAST 7207\n",
      "EXTRACT_FORECAST 3112\n",
      "EXTRACT_FORECAST 7209\n",
      "EXTRACT_FORECAST 21548\n",
      "EXTRACT_FORECAST 7216\n",
      "EXTRACT_FORECAST 7217\n",
      "EXTRACT_FORECAST 3124\n",
      "EXTRACT_FORECAST 3125\n",
      "EXTRACT_FORECAST 3127\n",
      "EXTRACT_FORECAST 11324\n",
      "EXTRACT_FORECAST 1088\n",
      "EXTRACT_FORECAST 1090\n",
      "EXTRACT_FORECAST 3142\n",
      "EXTRACT_FORECAST 3144\n",
      "EXTRACT_FORECAST 7243\n",
      "EXTRACT_FORECAST 7244\n",
      "EXTRACT_FORECAST 3150\n",
      "EXTRACT_FORECAST 7250\n",
      "EXTRACT_FORECAST 7252\n",
      "EXTRACT_FORECAST 3158\n",
      "EXTRACT_FORECAST 17498\n",
      "EXTRACT_FORECAST 5212\n",
      "EXTRACT_FORECAST 17519\n",
      "EXTRACT_FORECAST 17520\n",
      "EXTRACT_FORECAST 11381\n",
      "EXTRACT_FORECAST 3191\n",
      "EXTRACT_FORECAST 5240\n",
      "EXTRACT_FORECAST 5243\n",
      "EXTRACT_FORECAST 7300\n",
      "EXTRACT_FORECAST 5253\n",
      "EXTRACT_FORECAST 15493\n",
      "EXTRACT_FORECAST 5255\n",
      "EXTRACT_FORECAST 5252\n",
      "EXTRACT_FORECAST 11401\n",
      "EXTRACT_FORECAST 7314\n",
      "EXTRACT_FORECAST 13467\n",
      "EXTRACT_FORECAST 11424\n",
      "EXTRACT_FORECAST 7329\n",
      "EXTRACT_FORECAST 7333\n",
      "EXTRACT_FORECAST 7334\n",
      "EXTRACT_FORECAST 7335\n",
      "EXTRACT_FORECAST 13482\n",
      "EXTRACT_FORECAST 3244\n",
      "EXTRACT_FORECAST 7340\n",
      "EXTRACT_FORECAST 3245\n",
      "EXTRACT_FORECAST 15536\n",
      "EXTRACT_FORECAST 15537\n",
      "EXTRACT_FORECAST 5313\n",
      "EXTRACT_FORECAST 13509\n",
      "EXTRACT_FORECAST 5320\n",
      "EXTRACT_FORECAST 25801\n",
      "EXTRACT_FORECAST 7383\n",
      "EXTRACT_FORECAST 7384\n",
      "EXTRACT_FORECAST 3289\n",
      "EXTRACT_FORECAST 3290\n",
      "EXTRACT_FORECAST 13532\n",
      "EXTRACT_FORECAST 5344\n",
      "EXTRACT_FORECAST 9450\n",
      "EXTRACT_FORECAST 19691\n",
      "EXTRACT_FORECAST 7405\n",
      "EXTRACT_FORECAST 7406\n",
      "EXTRACT_FORECAST 7408\n",
      "EXTRACT_FORECAST 15602\n",
      "EXTRACT_FORECAST 15609\n",
      "EXTRACT_FORECAST 3325\n",
      "EXTRACT_FORECAST 27902\n",
      "EXTRACT_FORECAST 21761\n",
      "EXTRACT_FORECAST 3330\n",
      "EXTRACT_FORECAST 3332\n",
      "EXTRACT_FORECAST 15621\n",
      "EXTRACT_FORECAST 3337\n",
      "EXTRACT_FORECAST 19724\n",
      "EXTRACT_FORECAST 3343\n",
      "EXTRACT_FORECAST 3344\n",
      "EXTRACT_FORECAST 9492\n",
      "EXTRACT_FORECAST 7445\n",
      "EXTRACT_FORECAST 7444\n",
      "EXTRACT_FORECAST 3351\n",
      "EXTRACT_FORECAST 9496\n",
      "EXTRACT_FORECAST 7452\n",
      "EXTRACT_FORECAST 7453\n",
      "EXTRACT_FORECAST 15646\n",
      "EXTRACT_FORECAST 5406\n",
      "EXTRACT_FORECAST 3359\n",
      "EXTRACT_FORECAST 3360\n",
      "EXTRACT_FORECAST 15650\n",
      "EXTRACT_FORECAST 5407\n",
      "EXTRACT_FORECAST 3364\n",
      "EXTRACT_FORECAST 5413\n",
      "EXTRACT_FORECAST 5414\n",
      "EXTRACT_FORECAST 3366\n",
      "EXTRACT_FORECAST 21799\n",
      "EXTRACT_FORECAST 1321\n",
      "EXTRACT_FORECAST 7457\n",
      "EXTRACT_FORECAST 3371\n",
      "EXTRACT_FORECAST 5423\n",
      "EXTRACT_FORECAST 17714\n",
      "EXTRACT_FORECAST 9524\n",
      "EXTRACT_FORECAST 1332\n",
      "EXTRACT_FORECAST 19767\n",
      "EXTRACT_FORECAST 3384\n",
      "EXTRACT_FORECAST 7481\n",
      "EXTRACT_FORECAST 9530\n",
      "EXTRACT_FORECAST 1339\n",
      "EXTRACT_FORECAST 1340\n",
      "EXTRACT_FORECAST 1341\n",
      "EXTRACT_FORECAST 9534\n",
      "EXTRACT_FORECAST 1343\n",
      "EXTRACT_FORECAST 17728\n",
      "EXTRACT_FORECAST 3393\n",
      "EXTRACT_FORECAST 3385\n",
      "EXTRACT_FORECAST 1342\n",
      "EXTRACT_FORECAST 11588\n",
      "EXTRACT_FORECAST 3397\n",
      "EXTRACT_FORECAST 9540\n",
      "EXTRACT_FORECAST 9535\n",
      "EXTRACT_FORECAST 11589\n",
      "EXTRACT_FORECAST 1348\n",
      "EXTRACT_FORECAST 3410\n",
      "EXTRACT_FORECAST 5459\n",
      "EXTRACT_FORECAST 7509\n",
      "EXTRACT_FORECAST 5463\n",
      "EXTRACT_FORECAST 7512\n",
      "EXTRACT_FORECAST 21856\n",
      "EXTRACT_FORECAST 9570\n",
      "EXTRACT_FORECAST 17763\n",
      "EXTRACT_FORECAST 13672\n",
      "EXTRACT_FORECAST 1385\n",
      "EXTRACT_FORECAST 1394\n",
      "EXTRACT_FORECAST 7544\n",
      "EXTRACT_FORECAST 7546\n",
      "EXTRACT_FORECAST 7547\n",
      "EXTRACT_FORECAST 1402\n",
      "EXTRACT_FORECAST 17791\n",
      "EXTRACT_FORECAST 1408\n",
      "EXTRACT_FORECAST 7551\n",
      "EXTRACT_FORECAST 3458\n",
      "EXTRACT_FORECAST 7552\n",
      "EXTRACT_FORECAST 13710\n",
      "EXTRACT_FORECAST 11667\n",
      "EXTRACT_FORECAST 3477\n",
      "EXTRACT_FORECAST 1432\n",
      "EXTRACT_FORECAST 1433\n",
      "EXTRACT_FORECAST 21914\n",
      "EXTRACT_FORECAST 5531\n",
      "EXTRACT_FORECAST 21915\n",
      "EXTRACT_FORECAST 5538\n",
      "EXTRACT_FORECAST 17827\n",
      "EXTRACT_FORECAST 1444\n",
      "EXTRACT_FORECAST 5540\n",
      "EXTRACT_FORECAST 19878\n",
      "EXTRACT_FORECAST 19879\n",
      "EXTRACT_FORECAST 28072\n",
      "EXTRACT_FORECAST 21930\n",
      "EXTRACT_FORECAST 1454\n",
      "EXTRACT_FORECAST 7599\n",
      "EXTRACT_FORECAST 13743\n",
      "EXTRACT_FORECAST 13752\n",
      "EXTRACT_FORECAST 1469\n",
      "EXTRACT_FORECAST 3517\n",
      "EXTRACT_FORECAST 3519\n",
      "EXTRACT_FORECAST 1476\n",
      "EXTRACT_FORECAST 1480\n",
      "EXTRACT_FORECAST 1482\n",
      "EXTRACT_FORECAST 3531\n",
      "EXTRACT_FORECAST 21965\n",
      "EXTRACT_FORECAST 7631\n",
      "EXTRACT_FORECAST 5587\n",
      "EXTRACT_FORECAST 1493\n",
      "EXTRACT_FORECAST 1494\n",
      "EXTRACT_FORECAST 1495\n",
      "EXTRACT_FORECAST 1500\n",
      "EXTRACT_FORECAST 1501\n",
      "EXTRACT_FORECAST 1502\n",
      "EXTRACT_FORECAST 1515\n",
      "EXTRACT_FORECAST 7660\n",
      "EXTRACT_FORECAST 19949\n",
      "EXTRACT_FORECAST 17917\n",
      "EXTRACT_FORECAST 1535\n",
      "EXTRACT_FORECAST 1536\n",
      "EXTRACT_FORECAST 1538\n",
      "EXTRACT_FORECAST 1539\n",
      "EXTRACT_FORECAST 3588\n",
      "EXTRACT_FORECAST 26114\n",
      "EXTRACT_FORECAST 9734\n",
      "EXTRACT_FORECAST 3593\n",
      "EXTRACT_FORECAST 1552\n",
      "EXTRACT_FORECAST 3600\n",
      "EXTRACT_FORECAST 1558\n",
      "EXTRACT_FORECAST 3608\n",
      "EXTRACT_FORECAST 19999\n",
      "EXTRACT_FORECAST 1568\n",
      "EXTRACT_FORECAST 3617\n",
      "EXTRACT_FORECAST 11810\n",
      "EXTRACT_FORECAST 3616\n",
      "EXTRACT_FORECAST 3620\n",
      "EXTRACT_FORECAST 3621\n",
      "EXTRACT_FORECAST 3622\n",
      "EXTRACT_FORECAST 1574\n",
      "EXTRACT_FORECAST 1576\n",
      "EXTRACT_FORECAST 1579\n",
      "EXTRACT_FORECAST 3629\n",
      "EXTRACT_FORECAST 5678\n",
      "EXTRACT_FORECAST 1585\n",
      "EXTRACT_FORECAST 1591\n",
      "EXTRACT_FORECAST 7740\n",
      "EXTRACT_FORECAST 3645\n",
      "EXTRACT_FORECAST 1598\n",
      "EXTRACT_FORECAST 3648\n",
      "EXTRACT_FORECAST 9795\n",
      "EXTRACT_FORECAST 1604\n",
      "EXTRACT_FORECAST 9796\n",
      "EXTRACT_FORECAST 13896\n",
      "EXTRACT_FORECAST 13897\n",
      "EXTRACT_FORECAST 3657\n",
      "EXTRACT_FORECAST 11856\n",
      "EXTRACT_FORECAST 3665\n",
      "EXTRACT_FORECAST 1620\n",
      "EXTRACT_FORECAST 1621\n",
      "EXTRACT_FORECAST 13912\n",
      "EXTRACT_FORECAST 1625\n",
      "EXTRACT_FORECAST 1626\n",
      "EXTRACT_FORECAST 20056\n",
      "EXTRACT_FORECAST 1628\n",
      "EXTRACT_FORECAST 1629\n",
      "EXTRACT_FORECAST 1630\n",
      "EXTRACT_FORECAST 13919\n",
      "EXTRACT_FORECAST 13920\n",
      "EXTRACT_FORECAST 1624\n",
      "EXTRACT_FORECAST 13922\n",
      "EXTRACT_FORECAST 3683\n",
      "EXTRACT_FORECAST 9825\n",
      "EXTRACT_FORECAST 15964\n",
      "EXTRACT_FORECAST 1638\n",
      "EXTRACT_FORECAST 7786\n",
      "EXTRACT_FORECAST 1642\n",
      "EXTRACT_FORECAST 1644\n",
      "EXTRACT_FORECAST 1646\n",
      "EXTRACT_FORECAST 7790\n",
      "EXTRACT_FORECAST 1648\n",
      "EXTRACT_FORECAST 7792\n",
      "EXTRACT_FORECAST 1651\n",
      "EXTRACT_FORECAST 7795\n",
      "EXTRACT_FORECAST 7798\n",
      "EXTRACT_FORECAST 18042\n",
      "EXTRACT_FORECAST 5755\n",
      "EXTRACT_FORECAST 7803\n",
      "EXTRACT_FORECAST 1662\n",
      "EXTRACT_FORECAST 7807\n",
      "EXTRACT_FORECAST 7808\n",
      "EXTRACT_FORECAST 7811\n",
      "EXTRACT_FORECAST 7812\n",
      "EXTRACT_FORECAST 26244\n",
      "EXTRACT_FORECAST 26246\n",
      "EXTRACT_FORECAST 7814\n",
      "EXTRACT_FORECAST 5768\n",
      "EXTRACT_FORECAST 7818\n",
      "EXTRACT_FORECAST 7819\n",
      "EXTRACT_FORECAST 7821\n",
      "EXTRACT_FORECAST 16014\n",
      "EXTRACT_FORECAST 3730\n",
      "EXTRACT_FORECAST 3733\n",
      "EXTRACT_FORECAST 20118\n",
      "EXTRACT_FORECAST 26266\n",
      "EXTRACT_FORECAST 18075\n",
      "EXTRACT_FORECAST 26267\n",
      "EXTRACT_FORECAST 3739\n",
      "EXTRACT_FORECAST 3742\n",
      "EXTRACT_FORECAST 26272\n",
      "EXTRACT_FORECAST 7841\n",
      "EXTRACT_FORECAST 20136\n",
      "EXTRACT_FORECAST 28329\n",
      "EXTRACT_FORECAST 7857\n",
      "EXTRACT_FORECAST 7859\n",
      "EXTRACT_FORECAST 7860\n",
      "EXTRACT_FORECAST 7861\n",
      "EXTRACT_FORECAST 7862\n",
      "EXTRACT_FORECAST 3772\n",
      "EXTRACT_FORECAST 20157\n",
      "EXTRACT_FORECAST 3777\n",
      "EXTRACT_FORECAST 5832\n",
      "EXTRACT_FORECAST 7882\n",
      "EXTRACT_FORECAST 20172\n",
      "EXTRACT_FORECAST 3795\n",
      "EXTRACT_FORECAST 26326\n",
      "EXTRACT_FORECAST 26327\n",
      "EXTRACT_FORECAST 26328\n",
      "EXTRACT_FORECAST 26336\n",
      "EXTRACT_FORECAST 3812\n",
      "EXTRACT_FORECAST 14060\n",
      "EXTRACT_FORECAST 5875\n",
      "EXTRACT_FORECAST 12020\n",
      "EXTRACT_FORECAST 7925\n",
      "EXTRACT_FORECAST 26359\n",
      "EXTRACT_FORECAST 26360\n",
      "EXTRACT_FORECAST 3834\n",
      "EXTRACT_FORECAST 7932\n",
      "EXTRACT_FORECAST 5885\n",
      "EXTRACT_FORECAST 18174\n",
      "EXTRACT_FORECAST 5886\n",
      "EXTRACT_FORECAST 3842\n",
      "EXTRACT_FORECAST 14089\n",
      "EXTRACT_FORECAST 12046\n",
      "EXTRACT_FORECAST 18194\n",
      "EXTRACT_FORECAST 3858\n",
      "EXTRACT_FORECAST 3867\n",
      "EXTRACT_FORECAST 3868\n",
      "EXTRACT_FORECAST 3870\n",
      "EXTRACT_FORECAST 5919\n",
      "EXTRACT_FORECAST 22310\n",
      "EXTRACT_FORECAST 7975\n",
      "EXTRACT_FORECAST 3882\n",
      "EXTRACT_FORECAST 10036\n",
      "EXTRACT_FORECAST 10043\n",
      "EXTRACT_FORECAST 12112\n",
      "EXTRACT_FORECAST 12117\n",
      "EXTRACT_FORECAST 18265\n",
      "EXTRACT_FORECAST 8032\n",
      "EXTRACT_FORECAST 22377\n",
      "EXTRACT_FORECAST 20333\n",
      "EXTRACT_FORECAST 8050\n",
      "EXTRACT_FORECAST 8051\n",
      "EXTRACT_FORECAST 22388\n",
      "EXTRACT_FORECAST 8074\n",
      "EXTRACT_FORECAST 14223\n",
      "EXTRACT_FORECAST 26522\n",
      "EXTRACT_FORECAST 22427\n",
      "EXTRACT_FORECAST 28570\n",
      "EXTRACT_FORECAST 8093\n",
      "EXTRACT_FORECAST 3999\n",
      "EXTRACT_FORECAST 8100\n",
      "EXTRACT_FORECAST 8103\n",
      "EXTRACT_FORECAST 8107\n",
      "EXTRACT_FORECAST 8109\n",
      "EXTRACT_FORECAST 8110\n",
      "EXTRACT_FORECAST 20406\n",
      "EXTRACT_FORECAST 18360\n",
      "EXTRACT_FORECAST 10176\n",
      "EXTRACT_FORECAST 4034\n",
      "EXTRACT_FORECAST 4050\n",
      "EXTRACT_FORECAST 4051\n",
      "EXTRACT_FORECAST 4052\n",
      "EXTRACT_FORECAST 12245\n",
      "EXTRACT_FORECAST 4055\n",
      "EXTRACT_FORECAST 8164\n",
      "EXTRACT_FORECAST 12264\n",
      "EXTRACT_FORECAST 20460\n",
      "EXTRACT_FORECAST 10220\n",
      "EXTRACT_FORECAST 4083\n",
      "EXTRACT_FORECAST 10229\n",
      "EXTRACT_FORECAST 8183\n",
      "EXTRACT_FORECAST 8186\n",
      "EXTRACT_FORECAST 22523\n",
      "EXTRACT_FORECAST 14333\n",
      "EXTRACT_FORECAST 4094\n"
     ]
    }
   ],
   "source": [
    "from extract_forecast import extract_forecast\n",
    "\n",
    "df['prediction'] = df.apply(extract_forecast, axis=1)"
   ]
  },
  {
   "cell_type": "markdown",
   "id": "f7b3b7ab-7769-4973-90fe-8932e15e0c8f",
   "metadata": {},
   "source": [
    "## Compare"
   ]
  },
  {
   "cell_type": "code",
   "execution_count": 71,
   "id": "fc0d65ac-cd32-4f42-981e-723df0942b12",
   "metadata": {},
   "outputs": [],
   "source": [
    "from error import error"
   ]
  },
  {
   "cell_type": "code",
   "execution_count": 72,
   "id": "a73a3673-709f-4824-b66c-0359c5906f95",
   "metadata": {},
   "outputs": [],
   "source": [
    "df = df[~df.crowd.apply(lambda x: x is None)].copy()\n",
    "\n",
    "df['error'] = df.apply(error, axis=1)"
   ]
  },
  {
   "cell_type": "code",
   "execution_count": 73,
   "id": "0eb12048-f7a2-4908-b49d-e1cb6f7d7bd7",
   "metadata": {},
   "outputs": [
    {
     "data": {
      "text/html": [
       "<div>\n",
       "<style scoped>\n",
       "    .dataframe tbody tr th:only-of-type {\n",
       "        vertical-align: middle;\n",
       "    }\n",
       "\n",
       "    .dataframe tbody tr th {\n",
       "        vertical-align: top;\n",
       "    }\n",
       "\n",
       "    .dataframe thead th {\n",
       "        text-align: right;\n",
       "    }\n",
       "</style>\n",
       "<table border=\"1\" class=\"dataframe\">\n",
       "  <thead>\n",
       "    <tr style=\"text-align: right;\">\n",
       "      <th></th>\n",
       "      <th>id</th>\n",
       "      <th>open_time</th>\n",
       "      <th>scheduled_resolve_time</th>\n",
       "      <th>title</th>\n",
       "      <th>question_description</th>\n",
       "      <th>question_resolution_criteria</th>\n",
       "      <th>question_fine_print</th>\n",
       "      <th>question_type</th>\n",
       "      <th>question_options</th>\n",
       "      <th>question_group_variable</th>\n",
       "      <th>question_question_weight</th>\n",
       "      <th>question_unit</th>\n",
       "      <th>question_open_upper_bound</th>\n",
       "      <th>question_open_lower_bound</th>\n",
       "      <th>question_scaling_range_max</th>\n",
       "      <th>question_scaling_range_min</th>\n",
       "      <th>question_scaling_zero_point</th>\n",
       "      <th>crowd</th>\n",
       "      <th>today</th>\n",
       "      <th>asknews</th>\n",
       "      <th>research</th>\n",
       "      <th>id_of_question</th>\n",
       "      <th>learning</th>\n",
       "      <th>prompt</th>\n",
       "      <th>forecast</th>\n",
       "      <th>prediction</th>\n",
       "      <th>error</th>\n",
       "    </tr>\n",
       "  </thead>\n",
       "  <tbody>\n",
       "    <tr>\n",
       "      <th>0</th>\n",
       "      <td>10243</td>\n",
       "      <td>2022-03-16T04:00:00Z</td>\n",
       "      <td>3001-01-01T04:59:00Z</td>\n",
       "      <td>If humanity goes extinct, will another intelli...</td>\n",
       "      <td>In a blog post, Paul Christiano argues that we...</td>\n",
       "      <td>For the purpose of this question, what it mean...</td>\n",
       "      <td></td>\n",
       "      <td>binary</td>\n",
       "      <td>None</td>\n",
       "      <td></td>\n",
       "      <td>1.0</td>\n",
       "      <td></td>\n",
       "      <td>None</td>\n",
       "      <td>None</td>\n",
       "      <td>NaN</td>\n",
       "      <td>NaN</td>\n",
       "      <td>NaN</td>\n",
       "      <td>0.4</td>\n",
       "      <td>2025-06-17</td>\n",
       "      <td>Here are the relevant news articles:\\n\\n**Huma...</td>\n",
       "      <td>## Key Historical Trends and Current Status\\n\\...</td>\n",
       "      <td>10243</td>\n",
       "      <td>[]</td>\n",
       "      <td>You are a professional forecaster interviewing...</td>\n",
       "      <td>Here is a combined rationale that incorporates...</td>\n",
       "      <td>0.7</td>\n",
       "      <td>0.30</td>\n",
       "    </tr>\n",
       "    <tr>\n",
       "      <th>1</th>\n",
       "      <td>10244</td>\n",
       "      <td>2022-08-14T07:00:00Z</td>\n",
       "      <td>2041-01-01T05:00:00Z</td>\n",
       "      <td>Will Iran possess a nuclear weapon before 2041?</td>\n",
       "      <td>A [previous Metaculus question](https://www.me...</td>\n",
       "      <td>This question will resolve as **Yes** if the I...</td>\n",
       "      <td></td>\n",
       "      <td>binary</td>\n",
       "      <td>None</td>\n",
       "      <td></td>\n",
       "      <td>1.0</td>\n",
       "      <td></td>\n",
       "      <td>None</td>\n",
       "      <td>None</td>\n",
       "      <td>NaN</td>\n",
       "      <td>NaN</td>\n",
       "      <td>NaN</td>\n",
       "      <td>0.69</td>\n",
       "      <td>2025-06-17</td>\n",
       "      <td>Here are the relevant news articles:\\n\\n**Iran...</td>\n",
       "      <td>## 1. Key Historical Trends and Current Status...</td>\n",
       "      <td>10244</td>\n",
       "      <td>[]</td>\n",
       "      <td>You are a professional forecaster interviewing...</td>\n",
       "      <td>Here is the combined rationale that incorporat...</td>\n",
       "      <td>0.2</td>\n",
       "      <td>0.49</td>\n",
       "    </tr>\n",
       "    <tr>\n",
       "      <th>2</th>\n",
       "      <td>28682</td>\n",
       "      <td>2024-10-01T16:56:00Z</td>\n",
       "      <td>2030-01-01T17:00:00Z</td>\n",
       "      <td>Will any country trigger article 50 to leave t...</td>\n",
       "      <td>This forecasting question is associated with t...</td>\n",
       "      <td>The question will resolve as **Yes** if, befor...</td>\n",
       "      <td>The completion of the withdrawal process is no...</td>\n",
       "      <td>binary</td>\n",
       "      <td>None</td>\n",
       "      <td></td>\n",
       "      <td>1.0</td>\n",
       "      <td></td>\n",
       "      <td>False</td>\n",
       "      <td>False</td>\n",
       "      <td>NaN</td>\n",
       "      <td>NaN</td>\n",
       "      <td>NaN</td>\n",
       "      <td>0.11</td>\n",
       "      <td>2025-06-17</td>\n",
       "      <td>Here are the relevant news articles:\\n\\n**EU P...</td>\n",
       "      <td>1. **Key Historical Trends and Current Status*...</td>\n",
       "      <td>28682</td>\n",
       "      <td>[]</td>\n",
       "      <td>You are a professional forecaster interviewing...</td>\n",
       "      <td>Here is a combined rationale that incorporates...</td>\n",
       "      <td>0.6</td>\n",
       "      <td>0.49</td>\n",
       "    </tr>\n",
       "  </tbody>\n",
       "</table>\n",
       "</div>"
      ],
      "text/plain": [
       "      id             open_time scheduled_resolve_time  \\\n",
       "0  10243  2022-03-16T04:00:00Z   3001-01-01T04:59:00Z   \n",
       "1  10244  2022-08-14T07:00:00Z   2041-01-01T05:00:00Z   \n",
       "2  28682  2024-10-01T16:56:00Z   2030-01-01T17:00:00Z   \n",
       "\n",
       "                                               title  \\\n",
       "0  If humanity goes extinct, will another intelli...   \n",
       "1    Will Iran possess a nuclear weapon before 2041?   \n",
       "2  Will any country trigger article 50 to leave t...   \n",
       "\n",
       "                                question_description  \\\n",
       "0  In a blog post, Paul Christiano argues that we...   \n",
       "1  A [previous Metaculus question](https://www.me...   \n",
       "2  This forecasting question is associated with t...   \n",
       "\n",
       "                        question_resolution_criteria  \\\n",
       "0  For the purpose of this question, what it mean...   \n",
       "1  This question will resolve as **Yes** if the I...   \n",
       "2  The question will resolve as **Yes** if, befor...   \n",
       "\n",
       "                                 question_fine_print question_type  \\\n",
       "0                                                           binary   \n",
       "1                                                           binary   \n",
       "2  The completion of the withdrawal process is no...        binary   \n",
       "\n",
       "  question_options question_group_variable  question_question_weight  \\\n",
       "0             None                                               1.0   \n",
       "1             None                                               1.0   \n",
       "2             None                                               1.0   \n",
       "\n",
       "  question_unit question_open_upper_bound question_open_lower_bound  \\\n",
       "0                                    None                      None   \n",
       "1                                    None                      None   \n",
       "2                                   False                     False   \n",
       "\n",
       "   question_scaling_range_max  question_scaling_range_min  \\\n",
       "0                         NaN                         NaN   \n",
       "1                         NaN                         NaN   \n",
       "2                         NaN                         NaN   \n",
       "\n",
       "   question_scaling_zero_point crowd       today  \\\n",
       "0                          NaN   0.4  2025-06-17   \n",
       "1                          NaN  0.69  2025-06-17   \n",
       "2                          NaN  0.11  2025-06-17   \n",
       "\n",
       "                                             asknews  \\\n",
       "0  Here are the relevant news articles:\\n\\n**Huma...   \n",
       "1  Here are the relevant news articles:\\n\\n**Iran...   \n",
       "2  Here are the relevant news articles:\\n\\n**EU P...   \n",
       "\n",
       "                                            research  id_of_question learning  \\\n",
       "0  ## Key Historical Trends and Current Status\\n\\...           10243       []   \n",
       "1  ## 1. Key Historical Trends and Current Status...           10244       []   \n",
       "2  1. **Key Historical Trends and Current Status*...           28682       []   \n",
       "\n",
       "                                              prompt  \\\n",
       "0  You are a professional forecaster interviewing...   \n",
       "1  You are a professional forecaster interviewing...   \n",
       "2  You are a professional forecaster interviewing...   \n",
       "\n",
       "                                            forecast prediction  error  \n",
       "0  Here is a combined rationale that incorporates...        0.7   0.30  \n",
       "1  Here is the combined rationale that incorporat...        0.2   0.49  \n",
       "2  Here is a combined rationale that incorporates...        0.6   0.49  "
      ]
     },
     "execution_count": 73,
     "metadata": {},
     "output_type": "execute_result"
    }
   ],
   "source": [
    "df.head(3)"
   ]
  },
  {
   "cell_type": "code",
   "execution_count": 74,
   "id": "91b9ef63-597c-4cad-98ed-ebc2393ce748",
   "metadata": {},
   "outputs": [
    {
     "data": {
      "image/png": "[encoded data removed]",
      "text/plain": [
       "<Figure size 640x480 with 1 Axes>"
      ]
     },
     "metadata": {},
     "output_type": "display_data"
    }
   ],
   "source": [
    "plt.hist(df.error.values, bins=20);"
   ]
  },
  {
   "cell_type": "code",
   "execution_count": 77,
   "id": "8d31697b-4e12-4e56-98eb-abfc417a4e28",
   "metadata": {},
   "outputs": [],
   "source": [
    "df.to_json(f'community_{model}.json', indent=4)"
   ]
  }
 ],
 "metadata": {
  "kernelspec": {
   "display_name": "Python 3 (ipykernel)",
   "language": "python",
   "name": "python3"
  },
  "language_info": {
   "codemirror_mode": {
    "name": "ipython",
    "version": 3
   },
   "file_extension": ".py",
   "mimetype": "text/x-python",
   "name": "python",
   "nbconvert_exporter": "python",
   "pygments_lexer": "ipython3",
   "version": "3.12.3"
  }
 },
 "nbformat": 4,
 "nbformat_minor": 5
}
