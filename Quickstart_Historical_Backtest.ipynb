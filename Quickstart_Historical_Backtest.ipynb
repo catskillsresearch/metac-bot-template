{
 "cells": [
  {
   "cell_type": "markdown",
   "id": "c1f27471-5886-4bc2-acdf-2dac9cf49676",
   "metadata": {},
   "source": [
    "# Base forecaster against historical questions"
   ]
  },
  {
   "cell_type": "markdown",
   "id": "9f7c4ae9-a254-4421-ad9a-5189b5ba3f68",
   "metadata": {
    "jp-MarkdownHeadingCollapsed": true
   },
   "source": [
    "## Imports"
   ]
  },
  {
   "cell_type": "code",
   "execution_count": null,
   "id": "53b5f0c9-7367-48de-9312-54fabe6ccc5f",
   "metadata": {},
   "outputs": [],
   "source": [
    "from load_secrets import load_secrets\n",
    "load_secrets()\n",
    "from forecasting_tools.ai_models.ai_utils.ai_misc import clean_indents"
   ]
  },
  {
   "cell_type": "markdown",
   "id": "e95ce7db-2756-4eea-b414-6e1d9e1fec9e",
   "metadata": {
    "jp-MarkdownHeadingCollapsed": true
   },
   "source": [
    "## Historical data"
   ]
  },
  {
   "cell_type": "code",
   "execution_count": null,
   "id": "3e24cdf8-e1ab-4b67-ae8c-db176e6e5f8d",
   "metadata": {},
   "outputs": [],
   "source": [
    "import pandas as pd\n",
    "df = pd.read_json('resolved.json')"
   ]
  },
  {
   "cell_type": "code",
   "execution_count": null,
   "id": "faf1c906-5f32-4112-86c9-d5e854c2403f",
   "metadata": {},
   "outputs": [],
   "source": [
    "df"
   ]
  },
  {
   "cell_type": "code",
   "execution_count": null,
   "id": "259abfc6-d4b7-4d2c-ba11-771703d1a9cc",
   "metadata": {},
   "outputs": [],
   "source": [
    "def load_research(row):\n",
    "    with open(f\"research/{row['id']}.md\", 'r') as f:\n",
    "        return f.read()"
   ]
  },
  {
   "cell_type": "code",
   "execution_count": null,
   "id": "ca5882f7-7aa0-4e93-870a-4998674f7aef",
   "metadata": {},
   "outputs": [],
   "source": [
    "df['research'] = df.apply(load_research, axis=1)"
   ]
  },
  {
   "cell_type": "code",
   "execution_count": null,
   "id": "0fa5de70-23f1-4dd8-b4ce-6c0863d9706c",
   "metadata": {},
   "outputs": [],
   "source": [
    "df['today'] = df.apply(lambda row: row.open_time.date().strftime(\"%Y-%m-%d\"), axis=1)"
   ]
  },
  {
   "cell_type": "code",
   "execution_count": null,
   "id": "b2f79f42-4080-4e61-8c94-e25cf122dd97",
   "metadata": {},
   "outputs": [],
   "source": []
  },
  {
   "cell_type": "markdown",
   "id": "8e2875c6-8a38-4612-8ae7-59bcf1d6335f",
   "metadata": {
    "jp-MarkdownHeadingCollapsed": true
   },
   "source": [
    "## All questions"
   ]
  },
  {
   "cell_type": "code",
   "execution_count": null,
   "id": "668309df-f419-4f9d-9e2a-8cf71469b65d",
   "metadata": {},
   "outputs": [],
   "source": [
    "def prompt_all (question):\n",
    "    return clean_indents(f\"\"\"\n",
    "You are a professional forecaster interviewing for a job.\n",
    "\n",
    "Your interview question is:\n",
    "{question.title}\n",
    "\n",
    "Question background:\n",
    "{question.question_description}\n",
    "\n",
    "\n",
    "This question's outcome will be determined by the specific criteria below. These criteria have not yet been satisfied:\n",
    "{question.question_resolution_criteria}\n",
    "\n",
    "{question.question_fine_print}\n",
    "\n",
    "Your research assistant reports:\n",
    "{question.research}\n",
    "\n",
    "Today is {question.today}\n",
    "\n",
    "Before answering you write:\n",
    "(a) The time left until the outcome to the question is known.\n",
    "(b) The status quo outcome if nothing changed.\"\"\")\n"
   ]
  },
  {
   "cell_type": "markdown",
   "id": "41da08bf-e31f-4b95-958c-f3ff1fe30912",
   "metadata": {
    "jp-MarkdownHeadingCollapsed": true
   },
   "source": [
    "## Binary"
   ]
  },
  {
   "cell_type": "code",
   "execution_count": null,
   "id": "d31573bf-c6d5-4158-bbbe-cb57fcd71a0a",
   "metadata": {},
   "outputs": [],
   "source": [
    "def prompt_binary(question):\n",
    "    return clean_indents(prompt_all(question)+\n",
    "            f\"\"\"\n",
    "(c) A brief description of a scenario that results in a No outcome.\n",
    "(d) A brief description of a scenario that results in a Yes outcome.\n",
    "\n",
    "You write your rationale remembering that good forecasters put extra weight on the status quo outcome since the world changes slowly most of the time.\n",
    "\n",
    "The last thing you write is your final answer as: \"Probability: ZZ%\", 0-100\n",
    "            \"\"\")"
   ]
  },
  {
   "cell_type": "code",
   "execution_count": null,
   "id": "6017cf49-3c45-4321-8fc6-83ad956a9638",
   "metadata": {},
   "outputs": [],
   "source": [
    "question_binary = df[df.question_type == 'binary'].iloc[0]\n",
    "print(prompt_binary(question_binary))"
   ]
  },
  {
   "cell_type": "markdown",
   "id": "f94cb75c-255a-48b6-a7ec-b323b13a3b6e",
   "metadata": {
    "jp-MarkdownHeadingCollapsed": true
   },
   "source": [
    "## Multiple Choice"
   ]
  },
  {
   "cell_type": "code",
   "execution_count": null,
   "id": "07604135-e212-483e-8212-e8541bec89e5",
   "metadata": {},
   "outputs": [],
   "source": [
    "def prompt_multiple_choice(question):\n",
    "    return clean_indents(prompt_all(question)+\n",
    "            f\"\"\"\n",
    "(c) A description of an scenario that results in an unexpected outcome.\n",
    "\n",
    "You write your rationale remembering that (1) good forecasters put extra weight on the status quo outcome since the world changes slowly most of the time, and (2) good forecasters leave some moderate probability on most options to account for unexpected outcomes.\n",
    "\n",
    "The last thing you write is your final probabilities for the N options in this order {question.question_options} as:\n",
    "Option_A: Probability_A\n",
    "Option_B: Probability_B\n",
    "...\n",
    "Option_N: Probability_N\"\"\")"
   ]
  },
  {
   "cell_type": "code",
   "execution_count": null,
   "id": "6ed73257-7531-44d8-bda8-5bf17bfa92aa",
   "metadata": {},
   "outputs": [],
   "source": [
    "question_multiple_choice = df[df.question_type == 'multiple_choice'].iloc[0]\n",
    "print(prompt_multiple_choice(question_multiple_choice))"
   ]
  },
  {
   "cell_type": "markdown",
   "id": "906ab0d3-e402-40cf-ae79-42c99b0566f1",
   "metadata": {
    "jp-MarkdownHeadingCollapsed": true
   },
   "source": [
    "## Numeric question"
   ]
  },
  {
   "cell_type": "code",
   "execution_count": null,
   "id": "20bcc19d-385a-4bb3-a6b8-e617eb0ba71b",
   "metadata": {},
   "outputs": [],
   "source": [
    "import numpy as np"
   ]
  },
  {
   "cell_type": "code",
   "execution_count": null,
   "id": "abb70af3-8103-4030-a75c-9ca77dd67d15",
   "metadata": {},
   "outputs": [],
   "source": [
    "def _create_upper_and_lower_bound_messages(question):\n",
    "    if np.isnan(question.question_open_upper_bound):\n",
    "        upper_bound_message = \"\"\n",
    "    else:\n",
    "        upper_bound_message = (\n",
    "            f\"The outcome can not be higher than {question.question_open_upper_bound}.\"\n",
    "        )\n",
    "    if np.isnan(question.question_open_lower_bound):\n",
    "        lower_bound_message = \"\"\n",
    "    else:\n",
    "        lower_bound_message = (\n",
    "            f\"The outcome can not be lower than {question.question_open_lower_bound}.\"\n",
    "        )\n",
    "    return upper_bound_message, lower_bound_message"
   ]
  },
  {
   "cell_type": "code",
   "execution_count": null,
   "id": "5fcc6d15-4301-4fc7-8273-c5d0eee03393",
   "metadata": {},
   "outputs": [],
   "source": [
    "def prompt_numeric(question):\n",
    "    upper_bound_message, lower_bound_message = _create_upper_and_lower_bound_messages(question)\n",
    "    return clean_indents(prompt_all(question)+\n",
    "    f\"\"\"\n",
    "Units for answer: {question.question_unit if question.question_unit else \"Not stated (please infer this)\"}\n",
    "\n",
    "{lower_bound_message}\n",
    "{upper_bound_message}\n",
    "\n",
    "Formatting Instructions:\n",
    "- Please notice the units requested (e.g. whether you represent a number as 1,000,000 or 1 million).\n",
    "- Never use scientific notation.\n",
    "- Always start with a smaller number (more negative if negative) and then increase from there\n",
    "\n",
    "Before answering you write:\n",
    "(a) The time left until the outcome to the question is known.\n",
    "(b) The outcome if nothing changed.\n",
    "(c) The outcome if the current trend continued.\n",
    "(d) The expectations of experts and markets.\n",
    "(e) A brief description of an unexpected scenario that results in a low outcome.\n",
    "(f) A brief description of an unexpected scenario that results in a high outcome.\n",
    "\n",
    "You remind yourself that good forecasters are humble and set wide 90/10 confidence intervals to account for unknown unknowns.\n",
    "\n",
    "The last thing you write is your final answer as:\n",
    "\"\n",
    "Percentile 10: XX\n",
    "Percentile 20: XX\n",
    "Percentile 40: XX\n",
    "Percentile 60: XX\n",
    "Percentile 80: XX\n",
    "Percentile 90: XX\n",
    "\" \"\"\")"
   ]
  },
  {
   "cell_type": "code",
   "execution_count": null,
   "id": "c859bbdb-6749-41a5-984c-071cbb747819",
   "metadata": {},
   "outputs": [],
   "source": [
    "question_numeric = df[df.question_type == 'numeric'].iloc[0]\n",
    "print(prompt_numeric(question_numeric))"
   ]
  },
  {
   "cell_type": "code",
   "execution_count": null,
   "id": "184f7bb5-45e1-4c94-8475-7b5c35b2c453",
   "metadata": {},
   "outputs": [],
   "source": [
    "prompt_funs = {x: eval(f'prompt_{x}') for x in df.question_type.unique()}\n",
    "prompt_funs"
   ]
  },
  {
   "cell_type": "code",
   "execution_count": null,
   "id": "50071dc7-641c-4ae8-96d7-f5cf44669af8",
   "metadata": {},
   "outputs": [],
   "source": [
    "def prompt_question(question):\n",
    "   return (prompt_funs[question.question_type](question)).strip()"
   ]
  },
  {
   "cell_type": "code",
   "execution_count": null,
   "id": "e21eb7c6-9c06-4d42-8b98-7f69a4aa6054",
   "metadata": {},
   "outputs": [],
   "source": [
    "df['prompt'] = df.apply(prompt_question, axis=1)"
   ]
  },
  {
   "cell_type": "markdown",
   "id": "5075bd09-8b2f-4205-bea3-ad37145896fd",
   "metadata": {
    "jp-MarkdownHeadingCollapsed": true
   },
   "source": [
    "## Try it out on one"
   ]
  },
  {
   "cell_type": "code",
   "execution_count": null,
   "id": "1a5a8a99-7ac8-47ac-a8b9-3e13337cafed",
   "metadata": {},
   "outputs": [],
   "source": [
    "question = df.iloc[0]"
   ]
  },
  {
   "cell_type": "code",
   "execution_count": null,
   "id": "fcec8da0-8b86-4cff-9f6c-1ef9fec145d1",
   "metadata": {},
   "outputs": [],
   "source": [
    "prompt = question.prompt"
   ]
  },
  {
   "cell_type": "code",
   "execution_count": null,
   "id": "2315a3d8-f4b8-4e23-9568-6b715edc9d61",
   "metadata": {},
   "outputs": [],
   "source": [
    "question.today"
   ]
  },
  {
   "cell_type": "code",
   "execution_count": null,
   "id": "cb16d8d4-7ec8-409c-9410-9bccec2017b8",
   "metadata": {},
   "outputs": [],
   "source": [
    "from query_perplexity_with_date_filter import query_perplexity_with_date_filter"
   ]
  },
  {
   "cell_type": "code",
   "execution_count": null,
   "id": "13eefdf7-3d50-48ff-8365-f4d6b27a3cb0",
   "metadata": {},
   "outputs": [],
   "source": [
    "from predict import predict"
   ]
  },
  {
   "cell_type": "code",
   "execution_count": null,
   "id": "6ad7d404-2205-4002-b19a-400faf29c7e3",
   "metadata": {},
   "outputs": [],
   "source": [
    "import os"
   ]
  },
  {
   "cell_type": "code",
   "execution_count": null,
   "id": "d2a588b8-513e-4e3f-9a7a-98888b77c682",
   "metadata": {},
   "outputs": [],
   "source": [
    "dfn = 'forecast'\n",
    "os.makedirs(dfn, exist_ok=True)"
   ]
  },
  {
   "cell_type": "raw",
   "id": "2717c26d-2be6-4db2-93f0-cab04e7ac455",
   "metadata": {},
   "source": [
    "forecast = predict(dfn, question)"
   ]
  },
  {
   "cell_type": "code",
   "execution_count": null,
   "id": "1330747b-543e-49d6-99e5-7d051bc17f05",
   "metadata": {},
   "outputs": [],
   "source": [
    "from tqdm import tqdm\n",
    "tqdm.pandas()"
   ]
  },
  {
   "cell_type": "code",
   "execution_count": null,
   "id": "532a8610-7457-4b45-90a1-d9b1c9cd6b69",
   "metadata": {},
   "outputs": [],
   "source": [
    "!pwd"
   ]
  },
  {
   "cell_type": "code",
   "execution_count": null,
   "id": "c403e15f-2457-4de0-990a-192cc1fb8de7",
   "metadata": {},
   "outputs": [],
   "source": [
    "df['forecast'] = df.progress_apply(lambda question: predict(dfn, question), axis=1)"
   ]
  },
  {
   "cell_type": "code",
   "execution_count": null,
   "id": "c4b681d5-1218-4213-9001-a59231297715",
   "metadata": {},
   "outputs": [],
   "source": [
    "df.to_json('wow.json')"
   ]
  },
  {
   "cell_type": "markdown",
   "id": "80c6dab0-fe52-440c-bb31-a355c424d487",
   "metadata": {},
   "source": [
    "## Extract the answer"
   ]
  },
  {
   "cell_type": "markdown",
   "id": "757972a3-9a13-4b17-b4db-820e4c3cb7ca",
   "metadata": {
    "jp-MarkdownHeadingCollapsed": true
   },
   "source": [
    "### Binary"
   ]
  },
  {
   "cell_type": "code",
   "execution_count": null,
   "id": "26ca347a-59fd-41ac-9643-c49e90e859de",
   "metadata": {},
   "outputs": [],
   "source": [
    "question = df[df.id == 37008].iloc[0]\n",
    "question"
   ]
  },
  {
   "cell_type": "code",
   "execution_count": null,
   "id": "ecef3fa7-69e7-437b-a9fc-82f8c7850323",
   "metadata": {},
   "outputs": [],
   "source": [
    "print(question.forecast)"
   ]
  },
  {
   "cell_type": "code",
   "execution_count": null,
   "id": "93919764-7300-4259-9fc1-6b3427acb95b",
   "metadata": {},
   "outputs": [],
   "source": [
    "import re\n",
    "\n",
    "def extract_probability(question):\n",
    "    text = question.forecast\n",
    "    # Regex to find 'Probability: XX%' or 'Probability: XX'\n",
    "    text = text.replace('**', '')\n",
    "    pattern = r\"Probability: (\\d+)%?\"\n",
    "    match = re.search(pattern, text)\n",
    "    if match:\n",
    "        return int(match.group(1))\n",
    "    return None"
   ]
  },
  {
   "cell_type": "code",
   "execution_count": null,
   "id": "5aacfe42-19b7-439f-ac41-fb8667e20416",
   "metadata": {},
   "outputs": [],
   "source": [
    "extract_probability(question)"
   ]
  },
  {
   "cell_type": "markdown",
   "id": "886d99d9-28cf-47ca-ad53-4c28b77c90ef",
   "metadata": {},
   "source": [
    "### Numeric"
   ]
  },
  {
   "cell_type": "code",
   "execution_count": null,
   "id": "930242d0-f528-45e3-921b-387aa919ea1f",
   "metadata": {},
   "outputs": [],
   "source": [
    "import re\n",
    "\n",
    "def extract_percentiles0(question):\n",
    "    text = question.forecast\n",
    "    # Regex to find lines like 'Percentile X: number'\n",
    "    pattern = r\"Percentile (\\d+): ([\\d,]+)\"\n",
    "    matches = re.findall(pattern, text)\n",
    "    # Convert to dict with integer keys and values (remove commas)\n",
    "    percentiles = {int(p): int(v.replace(',', '')) for p, v in matches}\n",
    "    return percentiles"
   ]
  },
  {
   "cell_type": "code",
   "execution_count": null,
   "id": "e574d5fb-7475-4ef7-8298-5db160e8cac6",
   "metadata": {},
   "outputs": [],
   "source": [
    "import re\n",
    "\n",
    "def extract_percentiles1(question):\n",
    "    text = question.forecast\n",
    "    # Regex to capture \"Percentile X: [expression]\" with flexible whitespace and special chars\n",
    "    pattern = r\"Percentile\\s*(\\d+):\\s*([^\\n]+)\"\n",
    "    matches = re.findall(pattern, text)\n",
    "    \n",
    "    # Clean and store expressions (remove markdown, extra spaces)\n",
    "    percentiles = {}\n",
    "    for p, expr in matches:\n",
    "        p = int(p)\n",
    "        # Remove common noise characters: *,_ and trim whitespace\n",
    "        clean_expr = re.sub(r\"[*_-]\", \"\", expr).strip()\n",
    "        percentiles[p] = clean_expr\n",
    "    \n",
    "    return percentiles"
   ]
  },
  {
   "cell_type": "code",
   "execution_count": null,
   "id": "cd11b91b-2df1-4c52-9cde-177702dddcc7",
   "metadata": {},
   "outputs": [],
   "source": [
    "def extract_percentiles2(question):\n",
    "    text = question.forecast\n",
    "    # Regex to capture percentage AFTER '+' and before '%', ignoring other numbers\n",
    "    pattern = r\"Percentile\\s*(\\d+):\\s*.*?([+-]\\s*)?(\\d*\\.?\\d+)%\"\n",
    "    matches = re.findall(pattern, text)\n",
    "    # Extract percentile and percentage value (ignore operator like '+')\n",
    "    percentiles = {int(p): float(percent) for p, _, percent in matches}\n",
    "    return percentiles"
   ]
  },
  {
   "cell_type": "code",
   "execution_count": null,
   "id": "9ca35f23-203b-4c95-a71d-16e06d8ab2bc",
   "metadata": {},
   "outputs": [],
   "source": [
    "def extract_percentiles3(question):\n",
    "    text = question.forecast\n",
    "    # Regex handles commas and variable whitespace\n",
    "    pattern = r\"Percentile\\s*(\\d+):\\s*([\\d,]+)\"\n",
    "    matches = re.findall(pattern, text)\n",
    "    return {int(p): int(v.replace(',', '')) for p, v in matches}"
   ]
  },
  {
   "cell_type": "code",
   "execution_count": null,
   "id": "39865dfd-369c-4f0b-979c-44c3b3a25355",
   "metadata": {},
   "outputs": [],
   "source": [
    "import re\n",
    "\n",
    "def extract_percentiles4(question):\n",
    "    text = question.forecast\n",
    "    # Regex to capture percentile lines with flexible formatting\n",
    "    pattern = r\"Percentile\\s*(\\d+):\\s*([^\\n]+)\"\n",
    "    matches = re.findall(pattern, text)\n",
    "    \n",
    "    percentiles = {}\n",
    "    for p, val_str in matches:\n",
    "        p = int(p)\n",
    "        val_str = val_str.strip()\n",
    "        \n",
    "        # Check for percentage format (e.g., \"S₀ + 0.5%\")\n",
    "        if '%' in val_str:\n",
    "            pct_match = re.search(r\"(\\d+\\.?\\d+)%\", val_str.replace(',', ''))\n",
    "            if pct_match:\n",
    "                percentiles[p] = float(pct_match.group(1))\n",
    "        # Check for absolute numeric format (e.g., \"1,600,000\")\n",
    "        else:\n",
    "            num_match = re.search(r\"[\\d,]+\", val_str)\n",
    "            if num_match:\n",
    "                percentiles[p] = int(num_match.group(0).replace(',', ''))\n",
    "                \n",
    "    return percentiles\n"
   ]
  },
  {
   "cell_type": "code",
   "execution_count": null,
   "id": "be8bb1c8-5d19-4f15-8ed1-6376753787ed",
   "metadata": {},
   "outputs": [],
   "source": [
    "def linear_sample_percentiles(range_min, range_max):\n",
    "    percentiles = [10, 20, 40, 80, 90]\n",
    "    fractions = [p / 100 for p in percentiles]\n",
    "    samples = {int(f*100): range_min + f * (range_max - range_min) for f in fractions}\n",
    "    return samples"
   ]
  },
  {
   "cell_type": "code",
   "execution_count": null,
   "id": "1a359dd7-20c6-4a89-8f8d-1151025fcaac",
   "metadata": {},
   "outputs": [],
   "source": []
  },
  {
   "cell_type": "code",
   "execution_count": null,
   "id": "3bcf92c2-2941-4e3f-9b9c-1c435c9295dc",
   "metadata": {},
   "outputs": [],
   "source": [
    "def extract_percentiles1(question):\n",
    "    text = question.forecast\n",
    "    if 'Cannot be determined from available data' in text:\n",
    "        return linear_sample_percentiles(question.question_scaling_range_max, question.question_scaling_range_min)\n",
    "    else:\n",
    "        return {}"
   ]
  },
  {
   "cell_type": "code",
   "execution_count": null,
   "id": "ea8ee579-598e-4fa1-9bcc-75e2534698a6",
   "metadata": {},
   "outputs": [],
   "source": [
    "def extract_percentiles(question):\n",
    "    tries = [f(question) for f in [extract_percentiles0, extract_percentiles1, extract_percentiles2, extract_percentiles3]]\n",
    "    lengths = [len(x) for x in tries]\n",
    "    maxlength = max(lengths)\n",
    "    for x in tries:\n",
    "        if len(x) == maxlength:\n",
    "            return x"
   ]
  },
  {
   "cell_type": "code",
   "execution_count": null,
   "id": "30e5fb98-25a4-4b6a-9a51-f3e1daa869e7",
   "metadata": {},
   "outputs": [],
   "source": [
    "extract_percentiles(question)"
   ]
  },
  {
   "cell_type": "code",
   "execution_count": null,
   "id": "dcea8ccc-8ddf-4634-82d0-19291839663a",
   "metadata": {},
   "outputs": [],
   "source": [
    "question = df[df.id == 36164].iloc[0]"
   ]
  },
  {
   "cell_type": "code",
   "execution_count": null,
   "id": "61092b75-58a4-42af-938b-cc8de28dc357",
   "metadata": {},
   "outputs": [],
   "source": [
    "extract_percentiles(question)"
   ]
  },
  {
   "cell_type": "code",
   "execution_count": null,
   "id": "02e2cc85-b21d-4101-bbeb-61088efcfd94",
   "metadata": {},
   "outputs": [],
   "source": [
    "question = df.iloc[0]"
   ]
  },
  {
   "cell_type": "code",
   "execution_count": null,
   "id": "80bfe835-21bb-45ca-b7d6-a4eff1816c99",
   "metadata": {},
   "outputs": [],
   "source": [
    "extract_percentiles(question)"
   ]
  },
  {
   "cell_type": "code",
   "execution_count": null,
   "id": "feb64650-f993-4ffe-a2dc-4709efcdd0ce",
   "metadata": {},
   "outputs": [],
   "source": [
    "print(df.iloc[0].question_resolution)"
   ]
  },
  {
   "cell_type": "code",
   "execution_count": null,
   "id": "a1757946-0e12-43f9-acd3-abb2b63046e3",
   "metadata": {},
   "outputs": [],
   "source": [
    "question = df[df.id == 35678].iloc[0]"
   ]
  },
  {
   "cell_type": "code",
   "execution_count": null,
   "id": "ae777bb2-003b-4218-8318-5667ead5475a",
   "metadata": {},
   "outputs": [],
   "source": [
    "print(question.forecast)"
   ]
  },
  {
   "cell_type": "markdown",
   "id": "b90a0f92-65fa-412a-a6f3-2debda313b20",
   "metadata": {
    "jp-MarkdownHeadingCollapsed": true
   },
   "source": [
    "### Multiple choice"
   ]
  },
  {
   "cell_type": "code",
   "execution_count": null,
   "id": "0fc2c479-3b38-4502-ada6-16a834055ea4",
   "metadata": {},
   "outputs": [],
   "source": [
    "import re\n",
    "\n",
    "def extract_probabilities(text, question_options):\n",
    "    # Regex to capture \"Option_X: [label]: [percentage]%\"\n",
    "    pattern = r\"Option_[A-Z]:\\s*([^:]+?)\\s*:\\s*\\**(\\d+)%\\**\"\n",
    "    matches = re.findall(pattern, text)\n",
    "    \n",
    "    # Convert to dictionary with percentage values\n",
    "    prob_map = {}\n",
    "    for label, pct_str in matches:\n",
    "        label = label.strip()\n",
    "        if label in question_options:\n",
    "            prob_map[label] = int(pct_str) / 100.0\n",
    "    \n",
    "    # Ensure all question options are in the map (0% if missing)\n",
    "    for option in question_options:\n",
    "        if option not in prob_map:\n",
    "            prob_map[option] = 0.0\n",
    "    \n",
    "    return prob_map"
   ]
  },
  {
   "cell_type": "code",
   "execution_count": null,
   "id": "d5510f5a-9a0c-4801-9c32-172842f314aa",
   "metadata": {},
   "outputs": [],
   "source": []
  },
  {
   "cell_type": "code",
   "execution_count": null,
   "id": "6be75d66-9dab-4569-83b5-563ed4f7dea8",
   "metadata": {},
   "outputs": [],
   "source": [
    "question = df[df.question_type == 'multiple_choice'].iloc[0]"
   ]
  },
  {
   "cell_type": "code",
   "execution_count": null,
   "id": "45373040-e593-4e1a-8257-8c7f17f1f4be",
   "metadata": {},
   "outputs": [],
   "source": [
    "print(question.forecast)"
   ]
  },
  {
   "cell_type": "code",
   "execution_count": null,
   "id": "db0f569c-295d-47cb-a2bd-b3a9b95e54d0",
   "metadata": {},
   "outputs": [],
   "source": [
    "question.question_options"
   ]
  },
  {
   "cell_type": "code",
   "execution_count": null,
   "id": "8476ad7d-acb3-409c-9ce8-6c62330e9432",
   "metadata": {},
   "outputs": [],
   "source": [
    "question.question_resolution"
   ]
  },
  {
   "cell_type": "code",
   "execution_count": null,
   "id": "4c2b0d68-6af2-4c0d-8c05-919fc5dc32f7",
   "metadata": {},
   "outputs": [],
   "source": [
    "def extract_multiple_choice(question):\n",
    "    return extract_probabilities(question.forecast, eval(question.question_options))"
   ]
  },
  {
   "cell_type": "code",
   "execution_count": null,
   "id": "0820149a-d871-4377-bca2-e8ea02ee16f6",
   "metadata": {},
   "outputs": [],
   "source": [
    "question = df[df.id == 36264].iloc[0]"
   ]
  },
  {
   "cell_type": "code",
   "execution_count": null,
   "id": "9f853a33-d2d3-4e68-a7ac-10de8d3c6bfc",
   "metadata": {},
   "outputs": [],
   "source": [
    "print(question.forecast)"
   ]
  },
  {
   "cell_type": "code",
   "execution_count": null,
   "id": "51ba1e93-9131-4ba1-9bce-39d0906215dc",
   "metadata": {},
   "outputs": [],
   "source": [
    "print(question.question_options)"
   ]
  },
  {
   "cell_type": "code",
   "execution_count": null,
   "id": "0872c9d4-35a0-4d34-8777-31b7946b89de",
   "metadata": {},
   "outputs": [],
   "source": [
    "extract_multiple_choice(question)"
   ]
  },
  {
   "cell_type": "code",
   "execution_count": null,
   "id": "d004726a-1342-4e23-903d-f78e1f2fba2b",
   "metadata": {},
   "outputs": [],
   "source": [
    "question = df[df.id == 36168].iloc[0]"
   ]
  },
  {
   "cell_type": "code",
   "execution_count": null,
   "id": "fc904a28-f60a-48e4-8cf3-3fb2662830c8",
   "metadata": {},
   "outputs": [],
   "source": [
    "extract_multiple_choice(question)"
   ]
  },
  {
   "cell_type": "code",
   "execution_count": null,
   "id": "31fc3aea-a4b8-49bd-8359-06a7548b3cd0",
   "metadata": {},
   "outputs": [],
   "source": [
    "question.question_options"
   ]
  },
  {
   "cell_type": "code",
   "execution_count": null,
   "id": "5ab7fb71-5b9a-40cb-9197-5e368fb49f66",
   "metadata": {},
   "outputs": [],
   "source": [
    "print(question.forecast)"
   ]
  },
  {
   "cell_type": "code",
   "execution_count": null,
   "id": "ec2fb94a-fd82-4547-964a-e9a9e33dbb3f",
   "metadata": {},
   "outputs": [],
   "source": [
    "extract_multiple_choice(question)"
   ]
  },
  {
   "cell_type": "markdown",
   "id": "64d21f26-0ca0-40ca-9974-5ec39469da4b",
   "metadata": {},
   "source": [
    "### All"
   ]
  },
  {
   "cell_type": "code",
   "execution_count": null,
   "id": "dd40453a-5e2c-46d6-819c-073f6fe3f0f7",
   "metadata": {},
   "outputs": [],
   "source": [
    "def extract_forecast(question):\n",
    "    method = {'binary': extract_probability,\n",
    "              'numeric': extract_percentiles,\n",
    "              'multiple_choice': extract_multiple_choice}\n",
    "    return method[question.question_type](question)"
   ]
  },
  {
   "cell_type": "code",
   "execution_count": null,
   "id": "21590e77-3fe3-4c87-a8c8-6b4527d6ba43",
   "metadata": {},
   "outputs": [],
   "source": [
    "df['prediction'] = df.apply(extract_forecast, axis=1)"
   ]
  },
  {
   "cell_type": "code",
   "execution_count": null,
   "id": "454b77d1-27ad-4b38-a3a6-35b45fc43ce9",
   "metadata": {},
   "outputs": [],
   "source": [
    "df.to_json('run_with_predictions.json')"
   ]
  },
  {
   "cell_type": "code",
   "execution_count": null,
   "id": "58f32ff8-65b8-4255-bedc-d0c310cfe921",
   "metadata": {},
   "outputs": [],
   "source": [
    "question"
   ]
  },
  {
   "cell_type": "code",
   "execution_count": null,
   "id": "6c83f456-de7a-4098-b5af-5bf2b0a1bd1c",
   "metadata": {},
   "outputs": [],
   "source": [
    "df[['id','question_type', 'question_resolution', 'prediction']]"
   ]
  },
  {
   "cell_type": "markdown",
   "id": "4b970c6c-1054-413f-b884-d4c5ddb340e5",
   "metadata": {
    "jp-MarkdownHeadingCollapsed": true
   },
   "source": [
    "## Scoring rule"
   ]
  },
  {
   "cell_type": "markdown",
   "id": "41ebb5af-2dda-4378-ac0b-dec72b4ef610",
   "metadata": {
    "jp-MarkdownHeadingCollapsed": true
   },
   "source": [
    "### Binary"
   ]
  },
  {
   "cell_type": "code",
   "execution_count": null,
   "id": "6c267c77-6a43-4fd9-9216-82fbd341f3a4",
   "metadata": {},
   "outputs": [],
   "source": [
    "df[df.question_type == 'binary'].question_resolution.unique()"
   ]
  },
  {
   "cell_type": "code",
   "execution_count": null,
   "id": "56d9692a-2baf-4a90-b536-a9763a461978",
   "metadata": {},
   "outputs": [],
   "source": [
    "question = df[df.question_type == 'binary'].iloc[0]"
   ]
  },
  {
   "cell_type": "code",
   "execution_count": null,
   "id": "db2c29c4-e63c-4403-af72-e1005ec73bf2",
   "metadata": {},
   "outputs": [],
   "source": [
    "question = df[df.id == 37008].iloc[0]\n",
    "question"
   ]
  },
  {
   "cell_type": "code",
   "execution_count": null,
   "id": "9462f267-c980-448f-8a3a-01d3af16289c",
   "metadata": {},
   "outputs": [],
   "source": [
    "question.prediction = 10"
   ]
  },
  {
   "cell_type": "code",
   "execution_count": null,
   "id": "758c5749-c51f-48a4-a756-dc2991615a23",
   "metadata": {},
   "outputs": [],
   "source": [
    "question.question_resolution, question.prediction"
   ]
  },
  {
   "cell_type": "code",
   "execution_count": null,
   "id": "157165a5-f427-4017-829e-3e44e7d313a9",
   "metadata": {},
   "outputs": [],
   "source": [
    "def calculate_ubs_binary(instance):\n",
    "    \"\"\"\n",
    "    Calculate Universal Binarized Score (UBS) for a binary question forecast.\n",
    "    \n",
    "    Args:\n",
    "        instance: Object with:\n",
    "            - prediction (int/float): Forecast probability for 'yes' (0-100)\n",
    "            - question_resolution (str): Actual outcome ('yes' or 'no')\n",
    "    \n",
    "    Returns:\n",
    "        float: UBS score between 0 (worst) and 1 (best)\n",
    "    \"\"\"\n",
    "    # Convert prediction to probability (0.0-1.0 scale)\n",
    "    p_yes = instance.prediction / 100.0\n",
    "    p_no = 1.0 - p_yes\n",
    "    \n",
    "    # Convert resolution to binary (1.0 for 'yes', 0.0 for 'no')\n",
    "    resolution = instance.question_resolution.lower()\n",
    "    y_yes = 1.0 if resolution == 'yes' else 0.0\n",
    "    y_no = 1.0 - y_yes\n",
    "    \n",
    "    # Calculate Brier Score (sum of squared errors for both outcomes)\n",
    "    brier_score = (p_yes - y_yes)**2 + (p_no - y_no)**2\n",
    "    \n",
    "    # Universal Binarized Score (UBS)\n",
    "    K_max = 2.0  # Maximum possible Brier Score for binary questions\n",
    "    ubs = 1.0 - (brier_score / K_max)\n",
    "    \n",
    "    return round(ubs, 4)  # Rounded to 4 decimal places for readability\n"
   ]
  },
  {
   "cell_type": "code",
   "execution_count": null,
   "id": "36e79e80-f74a-4aaf-ae2a-45e5611e88d0",
   "metadata": {},
   "outputs": [],
   "source": [
    "calculate_ubs_binary(question)"
   ]
  },
  {
   "cell_type": "markdown",
   "id": "3b12aa9b-f496-4acb-a4e0-ac3150b0b175",
   "metadata": {
    "jp-MarkdownHeadingCollapsed": true
   },
   "source": [
    "### Numeric"
   ]
  },
  {
   "cell_type": "code",
   "execution_count": null,
   "id": "f16e36b7-2548-4277-822d-47c3511f933e",
   "metadata": {},
   "outputs": [],
   "source": [
    "def calculate_ubs_numeric(instance):\n",
    "    \"\"\"\n",
    "    Calculate Universal Binarized Score (UBS) for numeric forecasts using CRPS.\n",
    "    \n",
    "    Args:\n",
    "        instance: Object with:\n",
    "            - prediction (dict): Percentile-to-value mapping (e.g., {10: 1600000, ...})\n",
    "            - question_resolution (float): Actual resolved value\n",
    "    \n",
    "    Returns:\n",
    "        float: UBS score between 0 (worst) and 1 (best)\n",
    "    \"\"\"\n",
    "    percentiles = sorted(instance.prediction.keys())\n",
    "    values = [float(instance.prediction[p]) for p in percentiles]\n",
    "    if instance.question_resolution == \"below_lower_bound\":\n",
    "        Q = instance.question_scaling_range_min\n",
    "    elif instance.question_resolution == \"above_upper_bound\":\n",
    "        Q = instance.question_scaling_range_max\n",
    "    else:\n",
    "        Q = float(instance.question_resolution)\n",
    "    min_val, max_val = values[0], values[-1]\n",
    "    \n",
    "    # Linear interpolation for CDF\n",
    "    def cdf(x):\n",
    "        if x <= min_val: return 0.0\n",
    "        if x >= max_val: return 1.0\n",
    "        for i in range(len(values)-1):\n",
    "            if values[i] <= x < values[i+1]:\n",
    "                p_low = percentiles[i]/100\n",
    "                p_high = percentiles[i+1]/100\n",
    "                return p_low + (x - values[i]) * (p_high - p_low)/(values[i+1] - values[i])\n",
    "        return 0.0\n",
    "    \n",
    "    # CRPS calculation\n",
    "    crps = 0.0\n",
    "    for i in range(len(values)-1):\n",
    "        v1, v2 = values[i], values[i+1]\n",
    "        mid = (v1 + v2)/2\n",
    "        F_mid = cdf(mid)\n",
    "        I_mid = 1.0 if mid >= Q else 0.0\n",
    "        crps += (F_mid - I_mid)**2 * (v2 - v1)\n",
    "        \n",
    "    # Tail contributions\n",
    "    if Q < min_val:\n",
    "        crps += (0.0 - 1.0)**2 * (min_val - Q)\n",
    "    elif Q > max_val:\n",
    "        crps += (1.0 - 0.0)**2 * (Q - max_val)\n",
    "    \n",
    "    # Normalize using question's intrinsic range\n",
    "    K_max = max_val - min_val\n",
    "    ubs = 1.0 - (crps / K_max) if K_max != 0 else 0.0\n",
    "    return max(0.0, min(1.0, round(ubs, 4)))"
   ]
  },
  {
   "cell_type": "code",
   "execution_count": null,
   "id": "88e5b5fc-a568-4826-8568-2e4140c9d9e3",
   "metadata": {},
   "outputs": [],
   "source": [
    "question=df[df.id==35677].iloc[0]"
   ]
  },
  {
   "cell_type": "code",
   "execution_count": null,
   "id": "ffb0b5c2-1991-4489-b0aa-af0aa9f59412",
   "metadata": {},
   "outputs": [],
   "source": [
    "print(question.forecast)"
   ]
  },
  {
   "cell_type": "code",
   "execution_count": null,
   "id": "5176b917-bf22-49de-b373-0f7c2a6cdbef",
   "metadata": {},
   "outputs": [],
   "source": [
    "question.prediction"
   ]
  },
  {
   "cell_type": "code",
   "execution_count": null,
   "id": "b7f16eda-1467-41a0-b2ee-f022c1ee6ecd",
   "metadata": {},
   "outputs": [],
   "source": [
    "calculate_ubs_numeric(question)"
   ]
  },
  {
   "cell_type": "code",
   "execution_count": null,
   "id": "7720b913-d983-4415-89f4-67135d7e7ab4",
   "metadata": {},
   "outputs": [],
   "source": [
    "question = df[df.question_type == 'numeric'].iloc[0]"
   ]
  },
  {
   "cell_type": "code",
   "execution_count": null,
   "id": "b5909782-814b-4b7f-921b-a7105374a484",
   "metadata": {},
   "outputs": [],
   "source": [
    "question"
   ]
  },
  {
   "cell_type": "code",
   "execution_count": null,
   "id": "6dd81863-507a-4066-902f-ccfe59173036",
   "metadata": {},
   "outputs": [],
   "source": [
    "print(question.question_resolution)"
   ]
  },
  {
   "cell_type": "code",
   "execution_count": null,
   "id": "cd3f7fb1-a75b-4ba2-922b-dc21481ee80f",
   "metadata": {},
   "outputs": [],
   "source": [
    "calculate_ubs_numeric(question)"
   ]
  },
  {
   "cell_type": "markdown",
   "id": "805e0e1a-fb99-4db1-ab56-2594f7771725",
   "metadata": {
    "jp-MarkdownHeadingCollapsed": true
   },
   "source": [
    "### Multiple choice"
   ]
  },
  {
   "cell_type": "code",
   "execution_count": null,
   "id": "f4fa2dd2-e191-46ce-ad3f-b4fa524c8fa0",
   "metadata": {},
   "outputs": [],
   "source": [
    "question = df[df.question_type == 'multiple_choice'].iloc[0]"
   ]
  },
  {
   "cell_type": "code",
   "execution_count": null,
   "id": "2130bf75-7d80-46cb-a5b8-56df5c264408",
   "metadata": {},
   "outputs": [],
   "source": [
    "question"
   ]
  },
  {
   "cell_type": "code",
   "execution_count": null,
   "id": "a0da7b6e-cf4a-496c-8a39-be65193c1a1d",
   "metadata": {},
   "outputs": [],
   "source": [
    "question.prediction, question.question_resolution"
   ]
  },
  {
   "cell_type": "code",
   "execution_count": null,
   "id": "cc464d6d-aded-4022-ad4a-1905894e0e99",
   "metadata": {},
   "outputs": [],
   "source": [
    "def calculate_ubs_multiclass(instance):\n",
    "    \"\"\"\n",
    "    Calculate Universal Binarized Score (UBS) for a multi-category question.\n",
    "    \n",
    "    Args:\n",
    "        instance: Object with:\n",
    "            - prediction (dict): {category: percentage forecast (0-100)}\n",
    "            - question_resolution (str): The correct category\n",
    "    \n",
    "    Returns:\n",
    "        float: UBS score between 0 (worst) and 1 (best)\n",
    "    \"\"\"\n",
    "    categories = list(instance.prediction.keys())\n",
    "    n = len(categories)\n",
    "    # Convert predictions to probabilities (0.0-1.0)\n",
    "    probs = {k: instance.prediction[k]/100.0 for k in categories}\n",
    "    # Create outcome vector: 1 for correct, 0 for others\n",
    "    outcome = {k: 1.0 if k == instance.question_resolution else 0.0 for k in categories}\n",
    "    # Multi-category Brier score\n",
    "    brier = sum((probs[k] - outcome[k])**2 for k in categories)\n",
    "    # Normalize by maximum possible score (which is n)\n",
    "    ubs = 1.0 - (brier / n)\n",
    "    return max(0.0, min(1.0, round(ubs, 4)))"
   ]
  },
  {
   "cell_type": "code",
   "execution_count": null,
   "id": "d1eae117-2e9a-4aa4-a307-da09ca35879a",
   "metadata": {},
   "outputs": [],
   "source": [
    "calculate_ubs_multiclass(question)"
   ]
  },
  {
   "cell_type": "code",
   "execution_count": null,
   "id": "d7bb9467-c786-4473-ba79-659cd064337a",
   "metadata": {},
   "outputs": [],
   "source": [
    "question = df[df.id == 36168].iloc[0]"
   ]
  },
  {
   "cell_type": "code",
   "execution_count": null,
   "id": "ae101bc2-1065-4273-8cb3-4851403e5703",
   "metadata": {},
   "outputs": [],
   "source": [
    "calculate_ubs_multiclass(question)"
   ]
  },
  {
   "cell_type": "markdown",
   "id": "a5466f7d-c6d1-4ccf-a09e-e4fb21cba369",
   "metadata": {},
   "source": [
    "## All"
   ]
  },
  {
   "cell_type": "code",
   "execution_count": null,
   "id": "35eff090-ba2f-41a7-acaa-39cb69a480b5",
   "metadata": {},
   "outputs": [],
   "source": [
    "def calculate_ubs(question):\n",
    "    print(question.id)\n",
    "    method = {'binary': calculate_ubs_binary,\n",
    "              'numeric': calculate_ubs_numeric,\n",
    "              'multiple_choice': calculate_ubs_multiclass}\n",
    "    return method[question.question_type](question)"
   ]
  },
  {
   "cell_type": "code",
   "execution_count": null,
   "id": "a9e3613e-ec60-47f6-ba18-67fbb77a28e4",
   "metadata": {},
   "outputs": [],
   "source": [
    "question = df[df.id == 35678].iloc[0]"
   ]
  },
  {
   "cell_type": "code",
   "execution_count": null,
   "id": "0d74d03c-37cb-4f39-a190-4120621f065f",
   "metadata": {},
   "outputs": [],
   "source": [
    "question"
   ]
  },
  {
   "cell_type": "code",
   "execution_count": null,
   "id": "a8ee8461-54bc-4d84-8cb4-85e202b022fe",
   "metadata": {},
   "outputs": [],
   "source": [
    "calculate_ubs(question)"
   ]
  },
  {
   "cell_type": "code",
   "execution_count": null,
   "id": "790f6cee-aab7-456a-88e0-d94379a3e83d",
   "metadata": {},
   "outputs": [],
   "source": [
    "df['score'] = df.apply(calculate_ubs, axis=1)"
   ]
  },
  {
   "cell_type": "code",
   "execution_count": null,
   "id": "60e75cc5-147d-4fb0-995e-5f4ee9a6e4b2",
   "metadata": {},
   "outputs": [],
   "source": [
    "question"
   ]
  },
  {
   "cell_type": "code",
   "execution_count": null,
   "id": "b276ed51-8a57-4510-a3f0-75c581e0e188",
   "metadata": {},
   "outputs": [],
   "source": [
    "question=df[df.id==35677].iloc[0]"
   ]
  },
  {
   "cell_type": "code",
   "execution_count": null,
   "id": "8470a505-5d6b-4b4a-90c3-4ef1d9166155",
   "metadata": {},
   "outputs": [],
   "source": [
    "print(question.prediction)"
   ]
  },
  {
   "cell_type": "code",
   "execution_count": null,
   "id": "5f679008-3d06-4d1d-9bfa-d618240c02eb",
   "metadata": {},
   "outputs": [],
   "source": [
    "print(question.prediction)"
   ]
  },
  {
   "cell_type": "markdown",
   "id": "0888cd8d-c9af-457f-a20d-73e463036194",
   "metadata": {},
   "source": [
    "## Make it more RAGy, using the references in the prompt for possible deeper search"
   ]
  },
  {
   "cell_type": "code",
   "execution_count": null,
   "id": "61db6494-c4ee-4e8e-a9f1-869f7866ee36",
   "metadata": {},
   "outputs": [],
   "source": [
    "df[df.id == 36164].iloc[0]"
   ]
  },
  {
   "cell_type": "code",
   "execution_count": null,
   "id": "fcae82ab-0460-4f56-a8f7-4f2cb7b4b19a",
   "metadata": {},
   "outputs": [],
   "source": []
  }
 ],
 "metadata": {
  "kernelspec": {
   "display_name": "Python 3 (ipykernel)",
   "language": "python",
   "name": "python3"
  },
  "language_info": {
   "codemirror_mode": {
    "name": "ipython",
    "version": 3
   },
   "file_extension": ".py",
   "mimetype": "text/x-python",
   "name": "python",
   "nbconvert_exporter": "python",
   "pygments_lexer": "ipython3",
   "version": "3.12.3"
  }
 },
 "nbformat": 4,
 "nbformat_minor": 5
}
