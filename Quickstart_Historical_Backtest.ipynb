{
 "cells": [
  {
   "cell_type": "markdown",
   "id": "c1f27471-5886-4bc2-acdf-2dac9cf49676",
   "metadata": {},
   "source": [
    "# Base forecaster against historical questions"
   ]
  },
  {
   "cell_type": "markdown",
   "id": "9f7c4ae9-a254-4421-ad9a-5189b5ba3f68",
   "metadata": {},
   "source": [
    "## Imports"
   ]
  },
  {
   "cell_type": "code",
   "execution_count": 9,
   "id": "53b5f0c9-7367-48de-9312-54fabe6ccc5f",
   "metadata": {},
   "outputs": [],
   "source": [
    "from load_secrets import load_secrets\n",
    "load_secrets()\n",
    "from forecasting_tools.ai_models.ai_utils.ai_misc import clean_indents"
   ]
  },
  {
   "cell_type": "markdown",
   "id": "e95ce7db-2756-4eea-b414-6e1d9e1fec9e",
   "metadata": {
    "jp-MarkdownHeadingCollapsed": true
   },
   "source": [
    "## Historical data"
   ]
  },
  {
   "cell_type": "code",
   "execution_count": 2,
   "id": "3e24cdf8-e1ab-4b67-ae8c-db176e6e5f8d",
   "metadata": {},
   "outputs": [],
   "source": [
    "import pandas as pd\n",
    "df = pd.read_json('resolved.json')"
   ]
  },
  {
   "cell_type": "code",
   "execution_count": 3,
   "id": "faf1c906-5f32-4112-86c9-d5e854c2403f",
   "metadata": {},
   "outputs": [
    {
     "data": {
      "text/html": [
       "<div>\n",
       "<style scoped>\n",
       "    .dataframe tbody tr th:only-of-type {\n",
       "        vertical-align: middle;\n",
       "    }\n",
       "\n",
       "    .dataframe tbody tr th {\n",
       "        vertical-align: top;\n",
       "    }\n",
       "\n",
       "    .dataframe thead th {\n",
       "        text-align: right;\n",
       "    }\n",
       "</style>\n",
       "<table border=\"1\" class=\"dataframe\">\n",
       "  <thead>\n",
       "    <tr style=\"text-align: right;\">\n",
       "      <th></th>\n",
       "      <th>projects_default_project_id</th>\n",
       "      <th>id</th>\n",
       "      <th>open_time</th>\n",
       "      <th>scheduled_resolve_time</th>\n",
       "      <th>title</th>\n",
       "      <th>question_description</th>\n",
       "      <th>question_resolution_criteria</th>\n",
       "      <th>question_fine_print</th>\n",
       "      <th>question_type</th>\n",
       "      <th>question_options</th>\n",
       "      <th>question_group_variable</th>\n",
       "      <th>question_resolution</th>\n",
       "      <th>question_question_weight</th>\n",
       "      <th>question_unit</th>\n",
       "      <th>question_open_upper_bound</th>\n",
       "      <th>question_open_lower_bound</th>\n",
       "      <th>question_scaling_range_max</th>\n",
       "      <th>question_scaling_range_min</th>\n",
       "    </tr>\n",
       "  </thead>\n",
       "  <tbody>\n",
       "    <tr>\n",
       "      <th>0</th>\n",
       "      <td>32721</td>\n",
       "      <td>37220</td>\n",
       "      <td>2025-04-28 10:00:00+00:00</td>\n",
       "      <td>2025-05-17 00:00:00+00:00</td>\n",
       "      <td>How many FBI firearms background checks will i...</td>\n",
       "      <td>In the long term (since the turn of the 21st C...</td>\n",
       "      <td>This question resolves as the number of backgr...</td>\n",
       "      <td>In case of reporting delays, resolution will w...</td>\n",
       "      <td>numeric</td>\n",
       "      <td>None</td>\n",
       "      <td></td>\n",
       "      <td>2284806.0</td>\n",
       "      <td>1.0</td>\n",
       "      <td>background checks</td>\n",
       "      <td>1.0</td>\n",
       "      <td>1.0</td>\n",
       "      <td>3100000.0</td>\n",
       "      <td>1800000.0</td>\n",
       "    </tr>\n",
       "    <tr>\n",
       "      <th>2</th>\n",
       "      <td>32721</td>\n",
       "      <td>37015</td>\n",
       "      <td>2025-04-22 02:00:00+00:00</td>\n",
       "      <td>2025-05-05 00:00:00+00:00</td>\n",
       "      <td>Will Han Duck-soo announce his candidacy for S...</td>\n",
       "      <td>The Chosun Daily: [Support grows in PPP to dra...</td>\n",
       "      <td>This question resolves as **Yes** if Han Duck-...</td>\n",
       "      <td></td>\n",
       "      <td>binary</td>\n",
       "      <td>None</td>\n",
       "      <td></td>\n",
       "      <td>yes</td>\n",
       "      <td>1.0</td>\n",
       "      <td></td>\n",
       "      <td>0.0</td>\n",
       "      <td>0.0</td>\n",
       "      <td>NaN</td>\n",
       "      <td>NaN</td>\n",
       "    </tr>\n",
       "    <tr>\n",
       "      <th>3</th>\n",
       "      <td>32721</td>\n",
       "      <td>37013</td>\n",
       "      <td>2025-04-21 22:00:00+00:00</td>\n",
       "      <td>2025-05-02 00:00:00+00:00</td>\n",
       "      <td>Will the Liberal Democrats win the most seats ...</td>\n",
       "      <td>Cornwall Live: [Cornwall Council elections 202...</td>\n",
       "      <td>This question resolves as **Yes** if the Liber...</td>\n",
       "      <td></td>\n",
       "      <td>binary</td>\n",
       "      <td>None</td>\n",
       "      <td></td>\n",
       "      <td>no</td>\n",
       "      <td>1.0</td>\n",
       "      <td></td>\n",
       "      <td>0.0</td>\n",
       "      <td>0.0</td>\n",
       "      <td>NaN</td>\n",
       "      <td>NaN</td>\n",
       "    </tr>\n",
       "    <tr>\n",
       "      <th>4</th>\n",
       "      <td>32721</td>\n",
       "      <td>37012</td>\n",
       "      <td>2025-04-21 20:00:00+00:00</td>\n",
       "      <td>2025-05-02 00:00:00+00:00</td>\n",
       "      <td>Will the Conservative Party win the most seats...</td>\n",
       "      <td>BBC: [A guide to Northamptonshire's local elec...</td>\n",
       "      <td>This question resolves as **Yes** if the Conse...</td>\n",
       "      <td></td>\n",
       "      <td>binary</td>\n",
       "      <td>None</td>\n",
       "      <td></td>\n",
       "      <td>no</td>\n",
       "      <td>1.0</td>\n",
       "      <td></td>\n",
       "      <td>0.0</td>\n",
       "      <td>0.0</td>\n",
       "      <td>NaN</td>\n",
       "      <td>NaN</td>\n",
       "    </tr>\n",
       "    <tr>\n",
       "      <th>5</th>\n",
       "      <td>32721</td>\n",
       "      <td>37011</td>\n",
       "      <td>2025-04-21 18:00:00+00:00</td>\n",
       "      <td>2025-05-02 00:00:00+00:00</td>\n",
       "      <td>Will Reform UK win the most seats in the 2025 ...</td>\n",
       "      <td>BBC: ['Unusual' election campaign under way in...</td>\n",
       "      <td>This question resolves as **Yes** if Reform UK...</td>\n",
       "      <td></td>\n",
       "      <td>binary</td>\n",
       "      <td>None</td>\n",
       "      <td></td>\n",
       "      <td>yes</td>\n",
       "      <td>1.0</td>\n",
       "      <td></td>\n",
       "      <td>0.0</td>\n",
       "      <td>0.0</td>\n",
       "      <td>NaN</td>\n",
       "      <td>NaN</td>\n",
       "    </tr>\n",
       "    <tr>\n",
       "      <th>...</th>\n",
       "      <td>...</td>\n",
       "      <td>...</td>\n",
       "      <td>...</td>\n",
       "      <td>...</td>\n",
       "      <td>...</td>\n",
       "      <td>...</td>\n",
       "      <td>...</td>\n",
       "      <td>...</td>\n",
       "      <td>...</td>\n",
       "      <td>...</td>\n",
       "      <td>...</td>\n",
       "      <td>...</td>\n",
       "      <td>...</td>\n",
       "      <td>...</td>\n",
       "      <td>...</td>\n",
       "      <td>...</td>\n",
       "      <td>...</td>\n",
       "      <td>...</td>\n",
       "    </tr>\n",
       "    <tr>\n",
       "      <th>1404</th>\n",
       "      <td>3349</td>\n",
       "      <td>25871</td>\n",
       "      <td>2024-07-08 14:30:00+00:00</td>\n",
       "      <td>2024-07-18 23:52:00+00:00</td>\n",
       "      <td>On July 17, 2024, will Nvidia's market capital...</td>\n",
       "      <td>Since late 2022, Nvidia Corporation has experi...</td>\n",
       "      <td>This question resolves Yes if, on July 17, 202...</td>\n",
       "      <td>* If Companies Market Cap is unavailable or if...</td>\n",
       "      <td>binary</td>\n",
       "      <td>None</td>\n",
       "      <td></td>\n",
       "      <td>no</td>\n",
       "      <td>1.0</td>\n",
       "      <td></td>\n",
       "      <td>NaN</td>\n",
       "      <td>NaN</td>\n",
       "      <td>NaN</td>\n",
       "      <td>NaN</td>\n",
       "    </tr>\n",
       "    <tr>\n",
       "      <th>1405</th>\n",
       "      <td>3349</td>\n",
       "      <td>25872</td>\n",
       "      <td>2024-07-08 14:30:00+00:00</td>\n",
       "      <td>2024-07-10 19:31:00+00:00</td>\n",
       "      <td>Will 4 or more goals be scored in the two semi...</td>\n",
       "      <td>The UEFA European championship is a football t...</td>\n",
       "      <td>This question will resolve based on the total ...</td>\n",
       "      <td></td>\n",
       "      <td>binary</td>\n",
       "      <td>None</td>\n",
       "      <td></td>\n",
       "      <td>yes</td>\n",
       "      <td>1.0</td>\n",
       "      <td></td>\n",
       "      <td>NaN</td>\n",
       "      <td>NaN</td>\n",
       "      <td>NaN</td>\n",
       "      <td>NaN</td>\n",
       "    </tr>\n",
       "    <tr>\n",
       "      <th>1406</th>\n",
       "      <td>3349</td>\n",
       "      <td>25873</td>\n",
       "      <td>2024-07-08 14:30:00+00:00</td>\n",
       "      <td>2024-09-06 14:02:00+00:00</td>\n",
       "      <td>Will the Real-time Sahm Rule Recession Indicat...</td>\n",
       "      <td>According to [FRED](https://fred.stlouisfed.or...</td>\n",
       "      <td>This question will resolve based on reporting ...</td>\n",
       "      <td>The question will resolve according to the fir...</td>\n",
       "      <td>binary</td>\n",
       "      <td>None</td>\n",
       "      <td></td>\n",
       "      <td>yes</td>\n",
       "      <td>1.0</td>\n",
       "      <td></td>\n",
       "      <td>NaN</td>\n",
       "      <td>NaN</td>\n",
       "      <td>NaN</td>\n",
       "      <td>NaN</td>\n",
       "    </tr>\n",
       "    <tr>\n",
       "      <th>1407</th>\n",
       "      <td>3349</td>\n",
       "      <td>25874</td>\n",
       "      <td>2024-07-08 14:30:00+00:00</td>\n",
       "      <td>2024-07-23 19:37:00+00:00</td>\n",
       "      <td>Will the time gap between the first and second...</td>\n",
       "      <td>The Tour de France is an annual men's multiple...</td>\n",
       "      <td>This question will resolve based on the time g...</td>\n",
       "      <td></td>\n",
       "      <td>binary</td>\n",
       "      <td>None</td>\n",
       "      <td></td>\n",
       "      <td>yes</td>\n",
       "      <td>1.0</td>\n",
       "      <td></td>\n",
       "      <td>NaN</td>\n",
       "      <td>NaN</td>\n",
       "      <td>NaN</td>\n",
       "      <td>NaN</td>\n",
       "    </tr>\n",
       "    <tr>\n",
       "      <th>1408</th>\n",
       "      <td>3349</td>\n",
       "      <td>25875</td>\n",
       "      <td>2024-07-08 14:30:00+00:00</td>\n",
       "      <td>2024-07-29 15:59:00+00:00</td>\n",
       "      <td>Will Joe Biden announce before July 31, 2024 t...</td>\n",
       "      <td>As of June 29, 2024, [Joe Biden](https://en.wi...</td>\n",
       "      <td>This question will resolve as Yes if prior to ...</td>\n",
       "      <td>Please note that Joe Biden releasing his deleg...</td>\n",
       "      <td>binary</td>\n",
       "      <td>None</td>\n",
       "      <td></td>\n",
       "      <td>yes</td>\n",
       "      <td>1.0</td>\n",
       "      <td></td>\n",
       "      <td>NaN</td>\n",
       "      <td>NaN</td>\n",
       "      <td>NaN</td>\n",
       "      <td>NaN</td>\n",
       "    </tr>\n",
       "  </tbody>\n",
       "</table>\n",
       "<p>1168 rows × 18 columns</p>\n",
       "</div>"
      ],
      "text/plain": [
       "      projects_default_project_id     id                 open_time  \\\n",
       "0                           32721  37220 2025-04-28 10:00:00+00:00   \n",
       "2                           32721  37015 2025-04-22 02:00:00+00:00   \n",
       "3                           32721  37013 2025-04-21 22:00:00+00:00   \n",
       "4                           32721  37012 2025-04-21 20:00:00+00:00   \n",
       "5                           32721  37011 2025-04-21 18:00:00+00:00   \n",
       "...                           ...    ...                       ...   \n",
       "1404                         3349  25871 2024-07-08 14:30:00+00:00   \n",
       "1405                         3349  25872 2024-07-08 14:30:00+00:00   \n",
       "1406                         3349  25873 2024-07-08 14:30:00+00:00   \n",
       "1407                         3349  25874 2024-07-08 14:30:00+00:00   \n",
       "1408                         3349  25875 2024-07-08 14:30:00+00:00   \n",
       "\n",
       "        scheduled_resolve_time  \\\n",
       "0    2025-05-17 00:00:00+00:00   \n",
       "2    2025-05-05 00:00:00+00:00   \n",
       "3    2025-05-02 00:00:00+00:00   \n",
       "4    2025-05-02 00:00:00+00:00   \n",
       "5    2025-05-02 00:00:00+00:00   \n",
       "...                        ...   \n",
       "1404 2024-07-18 23:52:00+00:00   \n",
       "1405 2024-07-10 19:31:00+00:00   \n",
       "1406 2024-09-06 14:02:00+00:00   \n",
       "1407 2024-07-23 19:37:00+00:00   \n",
       "1408 2024-07-29 15:59:00+00:00   \n",
       "\n",
       "                                                  title  \\\n",
       "0     How many FBI firearms background checks will i...   \n",
       "2     Will Han Duck-soo announce his candidacy for S...   \n",
       "3     Will the Liberal Democrats win the most seats ...   \n",
       "4     Will the Conservative Party win the most seats...   \n",
       "5     Will Reform UK win the most seats in the 2025 ...   \n",
       "...                                                 ...   \n",
       "1404  On July 17, 2024, will Nvidia's market capital...   \n",
       "1405  Will 4 or more goals be scored in the two semi...   \n",
       "1406  Will the Real-time Sahm Rule Recession Indicat...   \n",
       "1407  Will the time gap between the first and second...   \n",
       "1408  Will Joe Biden announce before July 31, 2024 t...   \n",
       "\n",
       "                                   question_description  \\\n",
       "0     In the long term (since the turn of the 21st C...   \n",
       "2     The Chosun Daily: [Support grows in PPP to dra...   \n",
       "3     Cornwall Live: [Cornwall Council elections 202...   \n",
       "4     BBC: [A guide to Northamptonshire's local elec...   \n",
       "5     BBC: ['Unusual' election campaign under way in...   \n",
       "...                                                 ...   \n",
       "1404  Since late 2022, Nvidia Corporation has experi...   \n",
       "1405  The UEFA European championship is a football t...   \n",
       "1406  According to [FRED](https://fred.stlouisfed.or...   \n",
       "1407  The Tour de France is an annual men's multiple...   \n",
       "1408  As of June 29, 2024, [Joe Biden](https://en.wi...   \n",
       "\n",
       "                           question_resolution_criteria  \\\n",
       "0     This question resolves as the number of backgr...   \n",
       "2     This question resolves as **Yes** if Han Duck-...   \n",
       "3     This question resolves as **Yes** if the Liber...   \n",
       "4     This question resolves as **Yes** if the Conse...   \n",
       "5     This question resolves as **Yes** if Reform UK...   \n",
       "...                                                 ...   \n",
       "1404  This question resolves Yes if, on July 17, 202...   \n",
       "1405  This question will resolve based on the total ...   \n",
       "1406  This question will resolve based on reporting ...   \n",
       "1407  This question will resolve based on the time g...   \n",
       "1408  This question will resolve as Yes if prior to ...   \n",
       "\n",
       "                                    question_fine_print question_type  \\\n",
       "0     In case of reporting delays, resolution will w...       numeric   \n",
       "2                                                              binary   \n",
       "3                                                              binary   \n",
       "4                                                              binary   \n",
       "5                                                              binary   \n",
       "...                                                 ...           ...   \n",
       "1404  * If Companies Market Cap is unavailable or if...        binary   \n",
       "1405                                                           binary   \n",
       "1406  The question will resolve according to the fir...        binary   \n",
       "1407                                                           binary   \n",
       "1408  Please note that Joe Biden releasing his deleg...        binary   \n",
       "\n",
       "     question_options question_group_variable question_resolution  \\\n",
       "0                None                                   2284806.0   \n",
       "2                None                                         yes   \n",
       "3                None                                          no   \n",
       "4                None                                          no   \n",
       "5                None                                         yes   \n",
       "...               ...                     ...                 ...   \n",
       "1404             None                                          no   \n",
       "1405             None                                         yes   \n",
       "1406             None                                         yes   \n",
       "1407             None                                         yes   \n",
       "1408             None                                         yes   \n",
       "\n",
       "      question_question_weight      question_unit  question_open_upper_bound  \\\n",
       "0                          1.0  background checks                        1.0   \n",
       "2                          1.0                                           0.0   \n",
       "3                          1.0                                           0.0   \n",
       "4                          1.0                                           0.0   \n",
       "5                          1.0                                           0.0   \n",
       "...                        ...                ...                        ...   \n",
       "1404                       1.0                                           NaN   \n",
       "1405                       1.0                                           NaN   \n",
       "1406                       1.0                                           NaN   \n",
       "1407                       1.0                                           NaN   \n",
       "1408                       1.0                                           NaN   \n",
       "\n",
       "      question_open_lower_bound  question_scaling_range_max  \\\n",
       "0                           1.0                   3100000.0   \n",
       "2                           0.0                         NaN   \n",
       "3                           0.0                         NaN   \n",
       "4                           0.0                         NaN   \n",
       "5                           0.0                         NaN   \n",
       "...                         ...                         ...   \n",
       "1404                        NaN                         NaN   \n",
       "1405                        NaN                         NaN   \n",
       "1406                        NaN                         NaN   \n",
       "1407                        NaN                         NaN   \n",
       "1408                        NaN                         NaN   \n",
       "\n",
       "      question_scaling_range_min  \n",
       "0                      1800000.0  \n",
       "2                            NaN  \n",
       "3                            NaN  \n",
       "4                            NaN  \n",
       "5                            NaN  \n",
       "...                          ...  \n",
       "1404                         NaN  \n",
       "1405                         NaN  \n",
       "1406                         NaN  \n",
       "1407                         NaN  \n",
       "1408                         NaN  \n",
       "\n",
       "[1168 rows x 18 columns]"
      ]
     },
     "execution_count": 3,
     "metadata": {},
     "output_type": "execute_result"
    }
   ],
   "source": [
    "df"
   ]
  },
  {
   "cell_type": "code",
   "execution_count": 4,
   "id": "259abfc6-d4b7-4d2c-ba11-771703d1a9cc",
   "metadata": {},
   "outputs": [],
   "source": [
    "def load_research(row):\n",
    "    with open(f\"research/{row['id']}.md\", 'r') as f:\n",
    "        return f.read()"
   ]
  },
  {
   "cell_type": "code",
   "execution_count": 5,
   "id": "ca5882f7-7aa0-4e93-870a-4998674f7aef",
   "metadata": {},
   "outputs": [],
   "source": [
    "df['research'] = df.apply(load_research, axis=1)"
   ]
  },
  {
   "cell_type": "code",
   "execution_count": 6,
   "id": "0fa5de70-23f1-4dd8-b4ce-6c0863d9706c",
   "metadata": {},
   "outputs": [],
   "source": [
    "df['today'] = df.apply(lambda row: row.open_time.date().strftime(\"%Y-%m-%d\"), axis=1)"
   ]
  },
  {
   "cell_type": "markdown",
   "id": "1306a579-1f84-4892-8ded-1b7a5bad38ed",
   "metadata": {
    "jp-MarkdownHeadingCollapsed": true
   },
   "source": [
    "## Prompts"
   ]
  },
  {
   "cell_type": "markdown",
   "id": "8e2875c6-8a38-4612-8ae7-59bcf1d6335f",
   "metadata": {
    "jp-MarkdownHeadingCollapsed": true
   },
   "source": [
    "### Common"
   ]
  },
  {
   "cell_type": "code",
   "execution_count": 7,
   "id": "668309df-f419-4f9d-9e2a-8cf71469b65d",
   "metadata": {},
   "outputs": [],
   "source": [
    "def prompt_all (question):\n",
    "    return clean_indents(f\"\"\"\n",
    "You are a professional forecaster interviewing for a job.\n",
    "\n",
    "Your interview question is:\n",
    "{question.title}\n",
    "\n",
    "Question background:\n",
    "{question.question_description}\n",
    "\n",
    "\n",
    "This question's outcome will be determined by the specific criteria below. These criteria have not yet been satisfied:\n",
    "{question.question_resolution_criteria}\n",
    "\n",
    "{question.question_fine_print}\n",
    "\n",
    "Your research assistant reports:\n",
    "{question.research}\n",
    "\n",
    "Today is {question.today}\n",
    "\n",
    "Before answering you write:\n",
    "(a) The time left until the outcome to the question is known.\n",
    "(b) The status quo outcome if nothing changed.\"\"\")\n"
   ]
  },
  {
   "cell_type": "markdown",
   "id": "41da08bf-e31f-4b95-958c-f3ff1fe30912",
   "metadata": {},
   "source": [
    "### Binary"
   ]
  },
  {
   "cell_type": "code",
   "execution_count": 8,
   "id": "d31573bf-c6d5-4158-bbbe-cb57fcd71a0a",
   "metadata": {},
   "outputs": [],
   "source": [
    "def prompt_binary(question):\n",
    "    return clean_indents(prompt_all(question)+\n",
    "            f\"\"\"\n",
    "(c) A brief description of a scenario that results in a No outcome.\n",
    "(d) A brief description of a scenario that results in a Yes outcome.\n",
    "\n",
    "You write your rationale remembering that good forecasters put extra weight on the status quo outcome since the world changes slowly most of the time.\n",
    "\n",
    "The last thing you write is your final answer as: \"Probability: ZZ%\", 0-100\n",
    "            \"\"\")"
   ]
  },
  {
   "cell_type": "code",
   "execution_count": null,
   "id": "6017cf49-3c45-4321-8fc6-83ad956a9638",
   "metadata": {},
   "outputs": [],
   "source": [
    "question_binary = df[df.question_type == 'binary'].iloc[0]\n",
    "print(prompt_binary(question_binary))"
   ]
  },
  {
   "cell_type": "code",
   "execution_count": null,
   "id": "93ed104f-1ad3-4abe-afee-56777d5f5c3f",
   "metadata": {},
   "outputs": [],
   "source": []
  },
  {
   "cell_type": "markdown",
   "id": "f94cb75c-255a-48b6-a7ec-b323b13a3b6e",
   "metadata": {
    "jp-MarkdownHeadingCollapsed": true
   },
   "source": [
    "### Multiple Choice"
   ]
  },
  {
   "cell_type": "code",
   "execution_count": null,
   "id": "07604135-e212-483e-8212-e8541bec89e5",
   "metadata": {},
   "outputs": [],
   "source": [
    "def prompt_multiple_choice(question):\n",
    "    return clean_indents(prompt_all(question)+\n",
    "            f\"\"\"\n",
    "(c) A description of an scenario that results in an unexpected outcome.\n",
    "\n",
    "You write your rationale remembering that (1) good forecasters put extra weight on the status quo outcome since the world changes slowly most of the time, and (2) good forecasters leave some moderate probability on most options to account for unexpected outcomes.\n",
    "\n",
    "The last thing you write is your final probabilities for the N options in this order {question.question_options} as:\n",
    "Option_A: Probability_A\n",
    "Option_B: Probability_B\n",
    "...\n",
    "Option_N: Probability_N\"\"\")"
   ]
  },
  {
   "cell_type": "code",
   "execution_count": null,
   "id": "6ed73257-7531-44d8-bda8-5bf17bfa92aa",
   "metadata": {},
   "outputs": [],
   "source": [
    "question_multiple_choice = df[df.question_type == 'multiple_choice'].iloc[0]\n",
    "print(prompt_multiple_choice(question_multiple_choice))"
   ]
  },
  {
   "cell_type": "markdown",
   "id": "906ab0d3-e402-40cf-ae79-42c99b0566f1",
   "metadata": {
    "jp-MarkdownHeadingCollapsed": true
   },
   "source": [
    "### Numeric question"
   ]
  },
  {
   "cell_type": "code",
   "execution_count": null,
   "id": "20bcc19d-385a-4bb3-a6b8-e617eb0ba71b",
   "metadata": {},
   "outputs": [],
   "source": [
    "import numpy as np"
   ]
  },
  {
   "cell_type": "code",
   "execution_count": null,
   "id": "abb70af3-8103-4030-a75c-9ca77dd67d15",
   "metadata": {},
   "outputs": [],
   "source": [
    "def _create_upper_and_lower_bound_messages(question):\n",
    "    if np.isnan(question.question_open_upper_bound):\n",
    "        upper_bound_message = \"\"\n",
    "    else:\n",
    "        upper_bound_message = (\n",
    "            f\"The outcome can not be higher than {question.question_open_upper_bound}.\"\n",
    "        )\n",
    "    if np.isnan(question.question_open_lower_bound):\n",
    "        lower_bound_message = \"\"\n",
    "    else:\n",
    "        lower_bound_message = (\n",
    "            f\"The outcome can not be lower than {question.question_open_lower_bound}.\"\n",
    "        )\n",
    "    return upper_bound_message, lower_bound_message"
   ]
  },
  {
   "cell_type": "code",
   "execution_count": null,
   "id": "5fcc6d15-4301-4fc7-8273-c5d0eee03393",
   "metadata": {},
   "outputs": [],
   "source": [
    "def prompt_numeric(question):\n",
    "    upper_bound_message, lower_bound_message = _create_upper_and_lower_bound_messages(question)\n",
    "    return clean_indents(prompt_all(question)+\n",
    "    f\"\"\"\n",
    "Units for answer: {question.question_unit if question.question_unit else \"Not stated (please infer this)\"}\n",
    "\n",
    "{lower_bound_message}\n",
    "{upper_bound_message}\n",
    "\n",
    "Formatting Instructions:\n",
    "- Please notice the units requested (e.g. whether you represent a number as 1,000,000 or 1 million).\n",
    "- Never use scientific notation.\n",
    "- Always start with a smaller number (more negative if negative) and then increase from there\n",
    "\n",
    "Before answering you write:\n",
    "(a) The time left until the outcome to the question is known.\n",
    "(b) The outcome if nothing changed.\n",
    "(c) The outcome if the current trend continued.\n",
    "(d) The expectations of experts and markets.\n",
    "(e) A brief description of an unexpected scenario that results in a low outcome.\n",
    "(f) A brief description of an unexpected scenario that results in a high outcome.\n",
    "\n",
    "You remind yourself that good forecasters are humble and set wide 90/10 confidence intervals to account for unknown unknowns.\n",
    "\n",
    "The last thing you write is your final answer as:\n",
    "\"\n",
    "Percentile 10: XX\n",
    "Percentile 20: XX\n",
    "Percentile 40: XX\n",
    "Percentile 60: XX\n",
    "Percentile 80: XX\n",
    "Percentile 90: XX\n",
    "\" \"\"\")"
   ]
  },
  {
   "cell_type": "code",
   "execution_count": null,
   "id": "c859bbdb-6749-41a5-984c-071cbb747819",
   "metadata": {},
   "outputs": [],
   "source": [
    "question_numeric = df[df.question_type == 'numeric'].iloc[0]\n",
    "print(prompt_numeric(question_numeric))"
   ]
  },
  {
   "cell_type": "code",
   "execution_count": null,
   "id": "184f7bb5-45e1-4c94-8475-7b5c35b2c453",
   "metadata": {},
   "outputs": [],
   "source": [
    "prompt_funs = {x: eval(f'prompt_{x}') for x in df.question_type.unique()}\n",
    "prompt_funs"
   ]
  },
  {
   "cell_type": "code",
   "execution_count": null,
   "id": "50071dc7-641c-4ae8-96d7-f5cf44669af8",
   "metadata": {},
   "outputs": [],
   "source": [
    "def prompt_question(question):\n",
    "   return (prompt_funs[question.question_type](question)).strip()"
   ]
  },
  {
   "cell_type": "code",
   "execution_count": null,
   "id": "e21eb7c6-9c06-4d42-8b98-7f69a4aa6054",
   "metadata": {},
   "outputs": [],
   "source": [
    "df['prompt'] = df.apply(prompt_question, axis=1)"
   ]
  },
  {
   "cell_type": "markdown",
   "id": "5075bd09-8b2f-4205-bea3-ad37145896fd",
   "metadata": {
    "jp-MarkdownHeadingCollapsed": true
   },
   "source": [
    "## Forecast all questions"
   ]
  },
  {
   "cell_type": "code",
   "execution_count": null,
   "id": "1a5a8a99-7ac8-47ac-a8b9-3e13337cafed",
   "metadata": {},
   "outputs": [],
   "source": [
    "question = df.iloc[0]"
   ]
  },
  {
   "cell_type": "code",
   "execution_count": null,
   "id": "fcec8da0-8b86-4cff-9f6c-1ef9fec145d1",
   "metadata": {},
   "outputs": [],
   "source": [
    "prompt = question.prompt"
   ]
  },
  {
   "cell_type": "code",
   "execution_count": null,
   "id": "2315a3d8-f4b8-4e23-9568-6b715edc9d61",
   "metadata": {},
   "outputs": [],
   "source": [
    "question.today"
   ]
  },
  {
   "cell_type": "code",
   "execution_count": null,
   "id": "cb16d8d4-7ec8-409c-9410-9bccec2017b8",
   "metadata": {},
   "outputs": [],
   "source": [
    "from query_perplexity_with_date_filter import query_perplexity_with_date_filter"
   ]
  },
  {
   "cell_type": "code",
   "execution_count": null,
   "id": "13eefdf7-3d50-48ff-8365-f4d6b27a3cb0",
   "metadata": {},
   "outputs": [],
   "source": [
    "from predict import predict"
   ]
  },
  {
   "cell_type": "code",
   "execution_count": null,
   "id": "6ad7d404-2205-4002-b19a-400faf29c7e3",
   "metadata": {},
   "outputs": [],
   "source": [
    "import os"
   ]
  },
  {
   "cell_type": "code",
   "execution_count": null,
   "id": "d2a588b8-513e-4e3f-9a7a-98888b77c682",
   "metadata": {},
   "outputs": [],
   "source": [
    "dfn = 'forecast'\n",
    "os.makedirs(dfn, exist_ok=True)"
   ]
  },
  {
   "cell_type": "raw",
   "id": "2717c26d-2be6-4db2-93f0-cab04e7ac455",
   "metadata": {},
   "source": [
    "forecast = predict(dfn, question)"
   ]
  },
  {
   "cell_type": "code",
   "execution_count": null,
   "id": "1330747b-543e-49d6-99e5-7d051bc17f05",
   "metadata": {},
   "outputs": [],
   "source": [
    "from tqdm import tqdm\n",
    "tqdm.pandas()"
   ]
  },
  {
   "cell_type": "code",
   "execution_count": null,
   "id": "532a8610-7457-4b45-90a1-d9b1c9cd6b69",
   "metadata": {},
   "outputs": [],
   "source": [
    "!pwd"
   ]
  },
  {
   "cell_type": "code",
   "execution_count": null,
   "id": "c403e15f-2457-4de0-990a-192cc1fb8de7",
   "metadata": {},
   "outputs": [],
   "source": [
    "df['forecast'] = df.progress_apply(lambda question: predict(dfn, question), axis=1)"
   ]
  },
  {
   "cell_type": "code",
   "execution_count": null,
   "id": "c4b681d5-1218-4213-9001-a59231297715",
   "metadata": {},
   "outputs": [],
   "source": [
    "df.to_json('wow.json')"
   ]
  },
  {
   "cell_type": "markdown",
   "id": "8c817e9c-19f5-45a6-9d5b-b191aabe5d6f",
   "metadata": {},
   "source": [
    "## Reload all forecasts"
   ]
  },
  {
   "cell_type": "code",
   "execution_count": 11,
   "id": "9086f2f2-eac8-4dbd-a665-1ddb9254f68f",
   "metadata": {},
   "outputs": [],
   "source": [
    "df = pd.read_json('wow.json')"
   ]
  },
  {
   "cell_type": "markdown",
   "id": "80c6dab0-fe52-440c-bb31-a355c424d487",
   "metadata": {},
   "source": [
    "## Extract the answer"
   ]
  },
  {
   "cell_type": "markdown",
   "id": "757972a3-9a13-4b17-b4db-820e4c3cb7ca",
   "metadata": {},
   "source": [
    "### Binary"
   ]
  },
  {
   "cell_type": "code",
   "execution_count": 12,
   "id": "26ca347a-59fd-41ac-9643-c49e90e859de",
   "metadata": {},
   "outputs": [
    {
     "data": {
      "text/plain": [
       "projects_default_project_id                                                 32721\n",
       "id                                                                          37008\n",
       "open_time                                                     2025-04-21 12:00:00\n",
       "scheduled_resolve_time                                        2025-05-01 00:00:00\n",
       "title                           Will a state of emergency be in effect in Samo...\n",
       "question_description            [Samoan Prime Minister declares state of emerg...\n",
       "question_resolution_criteria    This question resolves as **Yes** if, accordin...\n",
       "question_fine_print             For example, the state of emergency declaratio...\n",
       "question_type                                                              binary\n",
       "question_options                                                             None\n",
       "question_group_variable                                                          \n",
       "question_resolution                                                            no\n",
       "question_question_weight                                                      1.0\n",
       "question_unit                                                                    \n",
       "question_open_upper_bound                                                     0.0\n",
       "question_open_lower_bound                                                     0.0\n",
       "question_scaling_range_max                                                    NaN\n",
       "question_scaling_range_min                                                    NaN\n",
       "research                        ### Key Factual Information\\n\\n- The Samoan go...\n",
       "today                                                                  2025-04-21\n",
       "prompt                          You are a professional forecaster interviewing...\n",
       "forecast                        (a) **Time left until the outcome is known:** ...\n",
       "Name: 8, dtype: object"
      ]
     },
     "execution_count": 12,
     "metadata": {},
     "output_type": "execute_result"
    }
   ],
   "source": [
    "question = df[df.id == 37008].iloc[0]\n",
    "question"
   ]
  },
  {
   "cell_type": "code",
   "execution_count": 13,
   "id": "ecef3fa7-69e7-437b-a9fc-82f8c7850323",
   "metadata": {},
   "outputs": [
    {
     "name": "stdout",
     "output_type": "stream",
     "text": [
      "(a) **Time left until the outcome is known:**  \n",
      "As of the last information cutoff (April 21, 2025), there were 9 days remaining before April 30, 2025. However, today is May 6, 2025, so the outcome is now in the past and would be known at this point.\n",
      "\n",
      "(b) **Status quo outcome if nothing changed:**  \n",
      "The state of emergency (SOE) was officially declared for the island of Upolu on March 31, 2025, set for 30 days and scheduled to expire on April 29, 2025[1][3][4]. As of April 21, 2025, there were no credible reports or government announcements indicating an extension of the SOE beyond this date[1][3]. Therefore, under the status quo, there *would not* be a state of emergency in effect on April 30, 2025.\n",
      "\n",
      "(c) **Scenario that results in a No outcome:**  \n",
      "No new Proclamation of Emergency is issued, and the SOE declared on March 31, 2025, expires as scheduled on April 29, 2025. No extensions or additional orders are announced by the Samoan government. As a result, Samoa is not under an SOE on April 30, 2025[1][3][4].\n",
      "\n",
      "(d) **Scenario that results in a Yes outcome:**  \n",
      "The government of Samoa, either due to ongoing electricity issues, new power infrastructure setbacks, or continued humanitarian/economic impact, officially extends the current SOE or declares a new SOE before or on April 30, 2025. This would be communicated through official channels or credible news sources, resulting in a state of emergency being in effect on April 30, 2025.\n",
      "\n",
      "---\n",
      "\n",
      "## Rationale\n",
      "\n",
      "The most reliable information up to April 21, 2025, points toward the SOE expiring on April 29, 2025, with no public indication of an extension or plans for a new emergency declaration[1][3]. Temporary generators were expected to arrive before the end of April, which suggests government confidence in their short-term solution for the power crisis[1]. Official statements implied an intention to restore stability and end emergency measures as soon as possible[1][2][4]. \n",
      "\n",
      "From a forecasting perspective, the *status quo bias* applies: absent strong indications of a change, the best prediction is that the currently scheduled expiration will hold. However, the situation's fluidity means there is always uncertainty—a last-minute extension could have been issued if problems persisted or solutions failed.\n",
      "\n",
      "Given there were no signs of such an extension as of the last credible reporting, and the SOE was limited in scope and duration, the probability that an SOE was in effect on April 30, 2025, is low, though not strictly zero.\n",
      "\n",
      "---\n",
      "\n",
      "Probability: **10%**\n"
     ]
    }
   ],
   "source": [
    "print(question.forecast)"
   ]
  },
  {
   "cell_type": "code",
   "execution_count": 157,
   "id": "93919764-7300-4259-9fc1-6b3427acb95b",
   "metadata": {},
   "outputs": [],
   "source": [
    "import re\n",
    "\n",
    "def extract_probability(question):\n",
    "    text = question.forecast\n",
    "    # Regex to find 'Probability: XX%' or 'Probability: XX'\n",
    "    text = text.replace('**', '')\n",
    "    pattern = r\"Probability: (\\d+)%?\"\n",
    "    match = re.search(pattern, text)\n",
    "    if match:\n",
    "        return int(match.group(1))\n",
    "    return 50"
   ]
  },
  {
   "cell_type": "code",
   "execution_count": 158,
   "id": "5aacfe42-19b7-439f-ac41-fb8667e20416",
   "metadata": {},
   "outputs": [
    {
     "data": {
      "text/plain": [
       "50"
      ]
     },
     "execution_count": 158,
     "metadata": {},
     "output_type": "execute_result"
    }
   ],
   "source": [
    "extract_probability(question)"
   ]
  },
  {
   "cell_type": "code",
   "execution_count": 159,
   "id": "69398fb7-2507-44fe-813b-8cd0b3b2f022",
   "metadata": {},
   "outputs": [
    {
     "data": {
      "text/plain": [
       "projects_default_project_id                                                 32627\n",
       "id                                                                          35190\n",
       "open_time                                                     2025-02-19 22:00:00\n",
       "scheduled_resolve_time                                        2025-04-01 00:00:00\n",
       "title                           Will any US federal judges be impeached before...\n",
       "question_description            NewsNation: [Can federal judges be impeached?]...\n",
       "question_resolution_criteria    This question resolves as **Yes** if a US fede...\n",
       "question_fine_print             Please note that a conviction in the US Senate...\n",
       "question_type                                                              binary\n",
       "question_options                                                             None\n",
       "question_group_variable                                                          \n",
       "question_resolution                                                            no\n",
       "question_question_weight                                                      1.0\n",
       "question_unit                                                                    \n",
       "question_open_upper_bound                                                     0.0\n",
       "question_open_lower_bound                                                     0.0\n",
       "question_scaling_range_max                                                    NaN\n",
       "question_scaling_range_min                                                    NaN\n",
       "research                        # Will Any US Federal Judges Be Impeached Befo...\n",
       "today                                                                  2025-02-19\n",
       "prompt                          You are a professional forecaster interviewing...\n",
       "forecast                        (a) Time left until the outcome is known: Appr...\n",
       "prediction                                                                   None\n",
       "Name: 409, dtype: object"
      ]
     },
     "execution_count": 159,
     "metadata": {},
     "output_type": "execute_result"
    }
   ],
   "source": [
    "question = df[df.id == 35190].iloc[0]\n",
    "question"
   ]
  },
  {
   "cell_type": "code",
   "execution_count": 160,
   "id": "7d5a22da-63bd-483c-8419-ad5995df6be6",
   "metadata": {},
   "outputs": [],
   "source": [
    "question = df[df.id == 36168].iloc[0]"
   ]
  },
  {
   "cell_type": "code",
   "execution_count": 161,
   "id": "6cc18c71-ef8c-4bdc-bb06-72d087073ca4",
   "metadata": {},
   "outputs": [
    {
     "data": {
      "text/plain": [
       "50"
      ]
     },
     "execution_count": 161,
     "metadata": {},
     "output_type": "execute_result"
    }
   ],
   "source": [
    "extract_probability(question)"
   ]
  },
  {
   "cell_type": "code",
   "execution_count": null,
   "id": "469b8c1c-a14f-4e80-a81c-8389ab60fdad",
   "metadata": {},
   "outputs": [],
   "source": []
  },
  {
   "cell_type": "markdown",
   "id": "886d99d9-28cf-47ca-ad53-4c28b77c90ef",
   "metadata": {
    "jp-MarkdownHeadingCollapsed": true
   },
   "source": [
    "### Numeric"
   ]
  },
  {
   "cell_type": "code",
   "execution_count": 16,
   "id": "930242d0-f528-45e3-921b-387aa919ea1f",
   "metadata": {},
   "outputs": [],
   "source": [
    "import re\n",
    "\n",
    "def extract_percentiles0(question):\n",
    "    text = question.forecast\n",
    "    # Regex to find lines like 'Percentile X: number'\n",
    "    pattern = r\"Percentile (\\d+): ([\\d,]+)\"\n",
    "    matches = re.findall(pattern, text)\n",
    "    # Convert to dict with integer keys and values (remove commas)\n",
    "    percentiles = {int(p): int(v.replace(',', '')) for p, v in matches}\n",
    "    return percentiles"
   ]
  },
  {
   "cell_type": "code",
   "execution_count": 17,
   "id": "e574d5fb-7475-4ef7-8298-5db160e8cac6",
   "metadata": {},
   "outputs": [],
   "source": [
    "import re\n",
    "\n",
    "def extract_percentiles1(question):\n",
    "    text = question.forecast\n",
    "    # Regex to capture \"Percentile X: [expression]\" with flexible whitespace and special chars\n",
    "    pattern = r\"Percentile\\s*(\\d+):\\s*([^\\n]+)\"\n",
    "    matches = re.findall(pattern, text)\n",
    "    \n",
    "    # Clean and store expressions (remove markdown, extra spaces)\n",
    "    percentiles = {}\n",
    "    for p, expr in matches:\n",
    "        p = int(p)\n",
    "        # Remove common noise characters: *,_ and trim whitespace\n",
    "        clean_expr = re.sub(r\"[*_-]\", \"\", expr).strip()\n",
    "        percentiles[p] = clean_expr\n",
    "    \n",
    "    return percentiles"
   ]
  },
  {
   "cell_type": "code",
   "execution_count": 18,
   "id": "cd11b91b-2df1-4c52-9cde-177702dddcc7",
   "metadata": {},
   "outputs": [],
   "source": [
    "def extract_percentiles2(question):\n",
    "    text = question.forecast\n",
    "    # Regex to capture percentage AFTER '+' and before '%', ignoring other numbers\n",
    "    pattern = r\"Percentile\\s*(\\d+):\\s*.*?([+-]\\s*)?(\\d*\\.?\\d+)%\"\n",
    "    matches = re.findall(pattern, text)\n",
    "    # Extract percentile and percentage value (ignore operator like '+')\n",
    "    percentiles = {int(p): float(percent) for p, _, percent in matches}\n",
    "    return percentiles"
   ]
  },
  {
   "cell_type": "code",
   "execution_count": 19,
   "id": "9ca35f23-203b-4c95-a71d-16e06d8ab2bc",
   "metadata": {},
   "outputs": [],
   "source": [
    "def extract_percentiles3(question):\n",
    "    text = question.forecast\n",
    "    # Regex handles commas and variable whitespace\n",
    "    pattern = r\"Percentile\\s*(\\d+):\\s*([\\d,]+)\"\n",
    "    matches = re.findall(pattern, text)\n",
    "    return {int(p): int(v.replace(',', '')) for p, v in matches}"
   ]
  },
  {
   "cell_type": "code",
   "execution_count": 20,
   "id": "39865dfd-369c-4f0b-979c-44c3b3a25355",
   "metadata": {},
   "outputs": [],
   "source": [
    "import re\n",
    "\n",
    "def extract_percentiles4(question):\n",
    "    text = question.forecast\n",
    "    # Regex to capture percentile lines with flexible formatting\n",
    "    pattern = r\"Percentile\\s*(\\d+):\\s*([^\\n]+)\"\n",
    "    matches = re.findall(pattern, text)\n",
    "    \n",
    "    percentiles = {}\n",
    "    for p, val_str in matches:\n",
    "        p = int(p)\n",
    "        val_str = val_str.strip()\n",
    "        \n",
    "        # Check for percentage format (e.g., \"S₀ + 0.5%\")\n",
    "        if '%' in val_str:\n",
    "            pct_match = re.search(r\"(\\d+\\.?\\d+)%\", val_str.replace(',', ''))\n",
    "            if pct_match:\n",
    "                percentiles[p] = float(pct_match.group(1))\n",
    "        # Check for absolute numeric format (e.g., \"1,600,000\")\n",
    "        else:\n",
    "            num_match = re.search(r\"[\\d,]+\", val_str)\n",
    "            if num_match:\n",
    "                percentiles[p] = int(num_match.group(0).replace(',', ''))\n",
    "                \n",
    "    return percentiles\n"
   ]
  },
  {
   "cell_type": "code",
   "execution_count": 21,
   "id": "be8bb1c8-5d19-4f15-8ed1-6376753787ed",
   "metadata": {},
   "outputs": [],
   "source": [
    "def linear_sample_percentiles(range_min, range_max):\n",
    "    percentiles = [10, 20, 40, 80, 90]\n",
    "    fractions = [p / 100 for p in percentiles]\n",
    "    samples = {int(f*100): range_min + f * (range_max - range_min) for f in fractions}\n",
    "    return samples"
   ]
  },
  {
   "cell_type": "code",
   "execution_count": 34,
   "id": "3bcf92c2-2941-4e3f-9b9c-1c435c9295dc",
   "metadata": {},
   "outputs": [],
   "source": [
    "def extract_percentiles1(question):\n",
    "    text = question.forecast\n",
    "    return linear_sample_percentiles(question.question_scaling_range_max, question.question_scaling_range_min)"
   ]
  },
  {
   "cell_type": "code",
   "execution_count": 44,
   "id": "ea8ee579-598e-4fa1-9bcc-75e2534698a6",
   "metadata": {},
   "outputs": [],
   "source": [
    "def extract_percentiles(question):\n",
    "    tries = [f(question) for f in [extract_percentiles0, extract_percentiles3]]\n",
    "    lengths = [len(x) for x in tries]\n",
    "    maxlength = max(lengths)\n",
    "    if maxlength > 0:\n",
    "        for x in tries:\n",
    "            if len(x) == maxlength:\n",
    "                return x\n",
    "    return extract_percentiles1(question)"
   ]
  },
  {
   "cell_type": "code",
   "execution_count": 46,
   "id": "dcea8ccc-8ddf-4634-82d0-19291839663a",
   "metadata": {},
   "outputs": [],
   "source": [
    "question = df[df.id == 36164].iloc[0]"
   ]
  },
  {
   "cell_type": "code",
   "execution_count": 47,
   "id": "61092b75-58a4-42af-938b-cc8de28dc357",
   "metadata": {},
   "outputs": [
    {
     "data": {
      "text/plain": [
       "{10: 118000.0, 20: 116000.0, 40: 112000.0, 80: 104000.0, 90: 102000.0}"
      ]
     },
     "execution_count": 47,
     "metadata": {},
     "output_type": "execute_result"
    }
   ],
   "source": [
    "extract_percentiles(question)"
   ]
  },
  {
   "cell_type": "code",
   "execution_count": 48,
   "id": "02e2cc85-b21d-4101-bbeb-61088efcfd94",
   "metadata": {},
   "outputs": [],
   "source": [
    "question = df.iloc[0]"
   ]
  },
  {
   "cell_type": "code",
   "execution_count": 49,
   "id": "80bfe835-21bb-45ca-b7d6-a4eff1816c99",
   "metadata": {},
   "outputs": [
    {
     "data": {
      "text/plain": [
       "{10: 1600000, 20: 1700000, 40: 1850000, 60: 1950000, 80: 2100000, 90: 2200000}"
      ]
     },
     "execution_count": 49,
     "metadata": {},
     "output_type": "execute_result"
    }
   ],
   "source": [
    "extract_percentiles(question)"
   ]
  },
  {
   "cell_type": "code",
   "execution_count": 50,
   "id": "feb64650-f993-4ffe-a2dc-4709efcdd0ce",
   "metadata": {},
   "outputs": [
    {
     "name": "stdout",
     "output_type": "stream",
     "text": [
      "2284806.0\n"
     ]
    }
   ],
   "source": [
    "print(df.iloc[0].question_resolution)"
   ]
  },
  {
   "cell_type": "code",
   "execution_count": 51,
   "id": "a1757946-0e12-43f9-acd3-abb2b63046e3",
   "metadata": {},
   "outputs": [],
   "source": [
    "question = df[df.id == 35678].iloc[0]"
   ]
  },
  {
   "cell_type": "code",
   "execution_count": 53,
   "id": "ae777bb2-003b-4218-8318-5667ead5475a",
   "metadata": {},
   "outputs": [
    {
     "data": {
      "text/plain": [
       "{10: 11405000.0, 20: 11010000.0, 40: 10220000.0, 80: 8640000.0, 90: 8245000.0}"
      ]
     },
     "execution_count": 53,
     "metadata": {},
     "output_type": "execute_result"
    }
   ],
   "source": [
    "extract_percentiles(question)"
   ]
  },
  {
   "cell_type": "markdown",
   "id": "b90a0f92-65fa-412a-a6f3-2debda313b20",
   "metadata": {
    "jp-MarkdownHeadingCollapsed": true
   },
   "source": [
    "### Multiple choice"
   ]
  },
  {
   "cell_type": "code",
   "execution_count": 83,
   "id": "6be75d66-9dab-4569-83b5-563ed4f7dea8",
   "metadata": {},
   "outputs": [],
   "source": [
    "question = df[df.question_type == 'multiple_choice'].iloc[0]"
   ]
  },
  {
   "cell_type": "code",
   "execution_count": 84,
   "id": "0fc2c479-3b38-4502-ada6-16a834055ea4",
   "metadata": {},
   "outputs": [],
   "source": [
    "import re\n",
    "\n",
    "def extract_probabilities(text, question_options, prefix='Option_[A-Z]:'):\n",
    "    # Regex to capture \"Option_X: [label]: [percentage]%\"\n",
    "    pattern = prefix + r\"\\s*([^:]+?)\\s*:\\s*\\**(\\d+)%\\**\"\n",
    "    matches = re.findall(pattern, text)\n",
    "    \n",
    "    # Convert to dictionary with percentage values\n",
    "    prob_map = {}\n",
    "    for label, pct_str in matches:\n",
    "        label = label.strip()\n",
    "        if label in question_options:\n",
    "            prob_map[label] = int(pct_str) / 100.0\n",
    "    \n",
    "    # Ensure all question options are in the map (0% if missing)\n",
    "    for option in question_options:\n",
    "        if option not in prob_map:\n",
    "            prob_map[option] = 0.0\n",
    "    \n",
    "    return prob_map"
   ]
  },
  {
   "cell_type": "code",
   "execution_count": 85,
   "id": "45373040-e593-4e1a-8257-8c7f17f1f4be",
   "metadata": {},
   "outputs": [
    {
     "name": "stdout",
     "output_type": "stream",
     "text": [
      "(a) **Time left until outcome**: 11 days (March 20 → March 31, 2025)  \n",
      "(b) **Status quo outcome**: Call Her Daddy remains above Candace, as their current ranks (#4 vs. #5) and stability metrics suggest no imminent reversal absent new developments[1][3].  \n",
      "(c) **Unexpected outcome scenario**: A viral Candace episode (e.g., high-profile political endorsement or controversy) could spike downloads, while Call Her Daddy’s relative lack of recent news leaves it vulnerable to stagnation[1][5].  \n",
      "\n",
      "### Rationale  \n",
      "1. **Stability of top podcasts**: Established shows in the 4-5 range rarely swap positions without specific catalysts (new episodes, media coverage, or algorithm changes)[3].  \n",
      "2. **Candace’s upward trajectory**: Despite its #5 rank, Candace Owens’ podcast has demonstrated rapid growth since its June 2024 launch, suggesting underlying momentum[1][2].  \n",
      "3. **Call Her Daddy’s advantage**: The show’s $30M+ brand value and consistent topical relevance (dating/relationships) provide a defensive moat against rank erosion[4][5].  \n",
      "\n",
      "**Final probabilities**:  \n",
      "Call Her Daddy: 65%  \n",
      "Candace: 35%\n"
     ]
    }
   ],
   "source": [
    "print(question.forecast)"
   ]
  },
  {
   "cell_type": "code",
   "execution_count": 86,
   "id": "db0f569c-295d-47cb-a2bd-b3a9b95e54d0",
   "metadata": {},
   "outputs": [
    {
     "data": {
      "text/plain": [
       "\"['Call Her Daddy', 'Candace']\""
      ]
     },
     "execution_count": 86,
     "metadata": {},
     "output_type": "execute_result"
    }
   ],
   "source": [
    "question.question_options"
   ]
  },
  {
   "cell_type": "code",
   "execution_count": 87,
   "id": "8476ad7d-acb3-409c-9ce8-6c62330e9432",
   "metadata": {},
   "outputs": [
    {
     "data": {
      "text/plain": [
       "'Candace'"
      ]
     },
     "execution_count": 87,
     "metadata": {},
     "output_type": "execute_result"
    }
   ],
   "source": [
    "question.question_resolution"
   ]
  },
  {
   "cell_type": "code",
   "execution_count": 90,
   "id": "5524b811-4b31-43c8-b7a7-a70d0ff83687",
   "metadata": {},
   "outputs": [],
   "source": [
    "text, question_options = question.forecast, eval(question.question_options)"
   ]
  },
  {
   "cell_type": "code",
   "execution_count": 92,
   "id": "17d1d8e7-cd3b-4f1e-8c73-5657f48f46d9",
   "metadata": {},
   "outputs": [
    {
     "data": {
      "text/plain": [
       "{'Call Her Daddy': 0.65, 'Candace': 0.35}"
      ]
     },
     "execution_count": 92,
     "metadata": {},
     "output_type": "execute_result"
    }
   ],
   "source": [
    "extract_probabilities(text, question_options, '')"
   ]
  },
  {
   "cell_type": "code",
   "execution_count": 94,
   "id": "4c2b0d68-6af2-4c0d-8c05-919fc5dc32f7",
   "metadata": {},
   "outputs": [],
   "source": [
    "def extract_multiple_choice(question):\n",
    "    text, question_options = question.forecast, eval(question.question_options)\n",
    "    if 'Option_' in text:\n",
    "        return extract_probabilities(text, question_options)\n",
    "    else:\n",
    "        return extract_probabilities(text, question_options, '')"
   ]
  },
  {
   "cell_type": "code",
   "execution_count": 95,
   "id": "0820149a-d871-4377-bca2-e8ea02ee16f6",
   "metadata": {},
   "outputs": [],
   "source": [
    "question = df[df.id == 36264].iloc[0]"
   ]
  },
  {
   "cell_type": "code",
   "execution_count": 96,
   "id": "9f853a33-d2d3-4e68-a7ac-10de8d3c6bfc",
   "metadata": {},
   "outputs": [
    {
     "name": "stdout",
     "output_type": "stream",
     "text": [
      "(a) **Time left until outcome**: 11 days (March 20 → March 31, 2025)  \n",
      "(b) **Status quo outcome**: Call Her Daddy remains above Candace, as their current ranks (#4 vs. #5) and stability metrics suggest no imminent reversal absent new developments[1][3].  \n",
      "(c) **Unexpected outcome scenario**: A viral Candace episode (e.g., high-profile political endorsement or controversy) could spike downloads, while Call Her Daddy’s relative lack of recent news leaves it vulnerable to stagnation[1][5].  \n",
      "\n",
      "### Rationale  \n",
      "1. **Stability of top podcasts**: Established shows in the 4-5 range rarely swap positions without specific catalysts (new episodes, media coverage, or algorithm changes)[3].  \n",
      "2. **Candace’s upward trajectory**: Despite its #5 rank, Candace Owens’ podcast has demonstrated rapid growth since its June 2024 launch, suggesting underlying momentum[1][2].  \n",
      "3. **Call Her Daddy’s advantage**: The show’s $30M+ brand value and consistent topical relevance (dating/relationships) provide a defensive moat against rank erosion[4][5].  \n",
      "\n",
      "**Final probabilities**:  \n",
      "Call Her Daddy: 65%  \n",
      "Candace: 35%\n"
     ]
    }
   ],
   "source": [
    "print(question.forecast)"
   ]
  },
  {
   "cell_type": "code",
   "execution_count": 97,
   "id": "51ba1e93-9131-4ba1-9bce-39d0906215dc",
   "metadata": {},
   "outputs": [
    {
     "name": "stdout",
     "output_type": "stream",
     "text": [
      "['Call Her Daddy', 'Candace']\n"
     ]
    }
   ],
   "source": [
    "print(question.question_options)"
   ]
  },
  {
   "cell_type": "code",
   "execution_count": 98,
   "id": "0872c9d4-35a0-4d34-8777-31b7946b89de",
   "metadata": {},
   "outputs": [
    {
     "data": {
      "text/plain": [
       "{'Call Her Daddy': 0.65, 'Candace': 0.35}"
      ]
     },
     "execution_count": 98,
     "metadata": {},
     "output_type": "execute_result"
    }
   ],
   "source": [
    "extract_multiple_choice(question)"
   ]
  },
  {
   "cell_type": "code",
   "execution_count": 153,
   "id": "d004726a-1342-4e23-903d-f78e1f2fba2b",
   "metadata": {},
   "outputs": [],
   "source": [
    "question = df[df.id == 36168].iloc[0]"
   ]
  },
  {
   "cell_type": "code",
   "execution_count": 154,
   "id": "fc904a28-f60a-48e4-8cf3-3fb2662830c8",
   "metadata": {},
   "outputs": [
    {
     "data": {
      "text/plain": [
       "{'Under 10,000': 0.1,\n",
       " '10,000-11,000': 0.15,\n",
       " '>11,000 and <12,000': 0.2,\n",
       " '12,000 to 14,000': 0.4,\n",
       " 'Over 14,000': 0.15}"
      ]
     },
     "execution_count": 154,
     "metadata": {},
     "output_type": "execute_result"
    }
   ],
   "source": [
    "extract_multiple_choice(question)"
   ]
  },
  {
   "cell_type": "code",
   "execution_count": 101,
   "id": "31fc3aea-a4b8-49bd-8359-06a7548b3cd0",
   "metadata": {},
   "outputs": [
    {
     "data": {
      "text/plain": [
       "\"['Under 10,000', '10,000-11,000', '>11,000 and <12,000', '12,000 to 14,000', 'Over 14,000']\""
      ]
     },
     "execution_count": 101,
     "metadata": {},
     "output_type": "execute_result"
    }
   ],
   "source": [
    "question.question_options"
   ]
  },
  {
   "cell_type": "code",
   "execution_count": 102,
   "id": "5ab7fb71-5b9a-40cb-9197-5e368fb49f66",
   "metadata": {},
   "outputs": [
    {
     "name": "stdout",
     "output_type": "stream",
     "text": [
      "(a) **Time until outcome is known:**  \n",
      "The March 2025 arrival data from the UNHCR Mediterranean Refugees/Migrants Data Portal is typically published in the first week of April 2025. Given today is May 6, 2025, the data should already be available, but as of March 19, 2025 (the scenario date), about two to three weeks remained until official figures would be published[1].\n",
      "\n",
      "(b) **Status quo outcome if nothing changes:**  \n",
      "In January–February 2025, there were a total of nearly 25,000 irregular border crossings into the EU, averaging about 12,500 per month[1][5]. The Central Mediterranean route continues to see higher arrivals, while other routes are experiencing declines. March arrivals typically increase with spring weather, but the policy environment remains restrictive. If current patterns persist without major shocks, the likely number of Mediterranean arrivals (sea and land) for March 2025 would be in the **12,000 to 14,000** range[1][5].\n",
      "\n",
      "(c) **Scenario leading to an unexpected outcome:**  \n",
      "Unexpected outcomes could arise if, for example:\n",
      "\n",
      "- A sudden escalation of conflict (such as renewed violence in Syria or Libya) triggers a mass movement of refugees, significantly boosting arrivals beyond expectations.\n",
      "- Severe weather or intensified enforcement temporarily blocks crossings, resulting in an abrupt drop (below 10,000) for the month.\n",
      "- A major policy agreement or intervention on key routes abruptly reduces flows, or, conversely, a sudden border opening elsewhere diverts or increases flows unpredictably.\n",
      "\n",
      "**Rationale:**  \n",
      "Historical trends indicate that most months cluster around gradual shifts, with the status quo persisting due to the inertia of policy, weather, and structural factors. Forecasters give the highest probability to the continuation of current levels, with moderate upgrades for seasonal increases in spring. However, migration is highly sensitive to geopolitical events, enforcement variations, and weather, so a non-trivial probability must be assigned to both higher and lower outlier outcomes, reflecting the inherent uncertainty.\n",
      "\n",
      "## Final Probabilities\n",
      "\n",
      "Option_A: Under 10,000: **10%**  \n",
      "Option_B: 10,000-11,000: **15%**  \n",
      "Option_C: >11,000 and <12,000: **20%**  \n",
      "Option_D: 12,000 to 14,000: **40%**  \n",
      "Option_E: Over 14,000: **15%**\n"
     ]
    }
   ],
   "source": [
    "print(question.forecast)"
   ]
  },
  {
   "cell_type": "code",
   "execution_count": 103,
   "id": "ec2fb94a-fd82-4547-964a-e9a9e33dbb3f",
   "metadata": {},
   "outputs": [
    {
     "data": {
      "text/plain": [
       "{'Under 10,000': 0.1,\n",
       " '10,000-11,000': 0.15,\n",
       " '>11,000 and <12,000': 0.2,\n",
       " '12,000 to 14,000': 0.4,\n",
       " 'Over 14,000': 0.15}"
      ]
     },
     "execution_count": 103,
     "metadata": {},
     "output_type": "execute_result"
    }
   ],
   "source": [
    "extract_multiple_choice(question)"
   ]
  },
  {
   "cell_type": "markdown",
   "id": "64d21f26-0ca0-40ca-9974-5ec39469da4b",
   "metadata": {},
   "source": [
    "### All"
   ]
  },
  {
   "cell_type": "code",
   "execution_count": 104,
   "id": "dd40453a-5e2c-46d6-819c-073f6fe3f0f7",
   "metadata": {},
   "outputs": [],
   "source": [
    "def extract_forecast(question):\n",
    "    method = {'binary': extract_probability,\n",
    "              'numeric': extract_percentiles,\n",
    "              'multiple_choice': extract_multiple_choice}\n",
    "    return method[question.question_type](question)"
   ]
  },
  {
   "cell_type": "code",
   "execution_count": 162,
   "id": "21590e77-3fe3-4c87-a8c8-6b4527d6ba43",
   "metadata": {},
   "outputs": [],
   "source": [
    "df['prediction'] = df.apply(extract_forecast, axis=1)"
   ]
  },
  {
   "cell_type": "code",
   "execution_count": 163,
   "id": "454b77d1-27ad-4b38-a3a6-35b45fc43ce9",
   "metadata": {},
   "outputs": [],
   "source": [
    "df.to_json('run_with_predictions.json')"
   ]
  },
  {
   "cell_type": "markdown",
   "id": "4b970c6c-1054-413f-b884-d4c5ddb340e5",
   "metadata": {},
   "source": [
    "## Scoring rule"
   ]
  },
  {
   "cell_type": "markdown",
   "id": "41ebb5af-2dda-4378-ac0b-dec72b4ef610",
   "metadata": {},
   "source": [
    "### Binary"
   ]
  },
  {
   "cell_type": "code",
   "execution_count": 109,
   "id": "6c267c77-6a43-4fd9-9216-82fbd341f3a4",
   "metadata": {},
   "outputs": [
    {
     "data": {
      "text/plain": [
       "array(['yes', 'no'], dtype=object)"
      ]
     },
     "execution_count": 109,
     "metadata": {},
     "output_type": "execute_result"
    }
   ],
   "source": [
    "df[df.question_type == 'binary'].question_resolution.unique()"
   ]
  },
  {
   "cell_type": "code",
   "execution_count": 110,
   "id": "56d9692a-2baf-4a90-b536-a9763a461978",
   "metadata": {},
   "outputs": [],
   "source": [
    "question = df[df.question_type == 'binary'].iloc[0]"
   ]
  },
  {
   "cell_type": "code",
   "execution_count": 166,
   "id": "db2c29c4-e63c-4403-af72-e1005ec73bf2",
   "metadata": {},
   "outputs": [
    {
     "data": {
      "text/plain": [
       "projects_default_project_id                                                 32627\n",
       "id                                                                          35190\n",
       "open_time                                                     2025-02-19 22:00:00\n",
       "scheduled_resolve_time                                        2025-04-01 00:00:00\n",
       "title                           Will any US federal judges be impeached before...\n",
       "question_description            NewsNation: [Can federal judges be impeached?]...\n",
       "question_resolution_criteria    This question resolves as **Yes** if a US fede...\n",
       "question_fine_print             Please note that a conviction in the US Senate...\n",
       "question_type                                                              binary\n",
       "question_options                                                             None\n",
       "question_group_variable                                                          \n",
       "question_resolution                                                            no\n",
       "question_question_weight                                                      1.0\n",
       "question_unit                                                                    \n",
       "question_open_upper_bound                                                     0.0\n",
       "question_open_lower_bound                                                     0.0\n",
       "question_scaling_range_max                                                    NaN\n",
       "question_scaling_range_min                                                    NaN\n",
       "research                        # Will Any US Federal Judges Be Impeached Befo...\n",
       "today                                                                  2025-02-19\n",
       "prompt                          You are a professional forecaster interviewing...\n",
       "forecast                        (a) Time left until the outcome is known: Appr...\n",
       "prediction                                                                     50\n",
       "Name: 409, dtype: object"
      ]
     },
     "execution_count": 166,
     "metadata": {},
     "output_type": "execute_result"
    }
   ],
   "source": [
    "question = df[df.id == 35190].iloc[0]\n",
    "question"
   ]
  },
  {
   "cell_type": "code",
   "execution_count": 167,
   "id": "758c5749-c51f-48a4-a756-dc2991615a23",
   "metadata": {},
   "outputs": [
    {
     "data": {
      "text/plain": [
       "('no', 50)"
      ]
     },
     "execution_count": 167,
     "metadata": {},
     "output_type": "execute_result"
    }
   ],
   "source": [
    "question.question_resolution, question.prediction"
   ]
  },
  {
   "cell_type": "code",
   "execution_count": 168,
   "id": "157165a5-f427-4017-829e-3e44e7d313a9",
   "metadata": {},
   "outputs": [],
   "source": [
    "def calculate_ubs_binary(instance):\n",
    "    \"\"\"\n",
    "    Calculate Universal Binarized Score (UBS) for a binary question forecast.\n",
    "    \n",
    "    Args:\n",
    "        instance: Object with:\n",
    "            - prediction (int/float): Forecast probability for 'yes' (0-100)\n",
    "            - question_resolution (str): Actual outcome ('yes' or 'no')\n",
    "    \n",
    "    Returns:\n",
    "        float: UBS score between 0 (worst) and 1 (best)\n",
    "    \"\"\"\n",
    "    # Convert prediction to probability (0.0-1.0 scale)\n",
    "    p_yes = instance.prediction / 100.0\n",
    "    p_no = 1.0 - p_yes\n",
    "    \n",
    "    # Convert resolution to binary (1.0 for 'yes', 0.0 for 'no')\n",
    "    resolution = instance.question_resolution.lower()\n",
    "    y_yes = 1.0 if resolution == 'yes' else 0.0\n",
    "    y_no = 1.0 - y_yes\n",
    "    \n",
    "    # Calculate Brier Score (sum of squared errors for both outcomes)\n",
    "    brier_score = (p_yes - y_yes)**2 + (p_no - y_no)**2\n",
    "    \n",
    "    # Universal Binarized Score (UBS)\n",
    "    K_max = 2.0  # Maximum possible Brier Score for binary questions\n",
    "    ubs = 1.0 - (brier_score / K_max)\n",
    "    \n",
    "    return round(ubs, 4)  # Rounded to 4 decimal places for readability\n"
   ]
  },
  {
   "cell_type": "code",
   "execution_count": 115,
   "id": "36e79e80-f74a-4aaf-ae2a-45e5611e88d0",
   "metadata": {},
   "outputs": [
    {
     "data": {
      "text/plain": [
       "0.99"
      ]
     },
     "execution_count": 115,
     "metadata": {},
     "output_type": "execute_result"
    }
   ],
   "source": [
    "calculate_ubs_binary(question)"
   ]
  },
  {
   "cell_type": "markdown",
   "id": "3b12aa9b-f496-4acb-a4e0-ac3150b0b175",
   "metadata": {
    "jp-MarkdownHeadingCollapsed": true
   },
   "source": [
    "### Numeric"
   ]
  },
  {
   "cell_type": "code",
   "execution_count": 116,
   "id": "f16e36b7-2548-4277-822d-47c3511f933e",
   "metadata": {},
   "outputs": [],
   "source": [
    "def calculate_ubs_numeric(instance):\n",
    "    \"\"\"\n",
    "    Calculate Universal Binarized Score (UBS) for numeric forecasts using CRPS.\n",
    "    \n",
    "    Args:\n",
    "        instance: Object with:\n",
    "            - prediction (dict): Percentile-to-value mapping (e.g., {10: 1600000, ...})\n",
    "            - question_resolution (float): Actual resolved value\n",
    "    \n",
    "    Returns:\n",
    "        float: UBS score between 0 (worst) and 1 (best)\n",
    "    \"\"\"\n",
    "    percentiles = sorted(instance.prediction.keys())\n",
    "    values = [float(instance.prediction[p]) for p in percentiles]\n",
    "    if instance.question_resolution == \"below_lower_bound\":\n",
    "        Q = instance.question_scaling_range_min\n",
    "    elif instance.question_resolution == \"above_upper_bound\":\n",
    "        Q = instance.question_scaling_range_max\n",
    "    else:\n",
    "        Q = float(instance.question_resolution)\n",
    "    min_val, max_val = values[0], values[-1]\n",
    "    \n",
    "    # Linear interpolation for CDF\n",
    "    def cdf(x):\n",
    "        if x <= min_val: return 0.0\n",
    "        if x >= max_val: return 1.0\n",
    "        for i in range(len(values)-1):\n",
    "            if values[i] <= x < values[i+1]:\n",
    "                p_low = percentiles[i]/100\n",
    "                p_high = percentiles[i+1]/100\n",
    "                return p_low + (x - values[i]) * (p_high - p_low)/(values[i+1] - values[i])\n",
    "        return 0.0\n",
    "    \n",
    "    # CRPS calculation\n",
    "    crps = 0.0\n",
    "    for i in range(len(values)-1):\n",
    "        v1, v2 = values[i], values[i+1]\n",
    "        mid = (v1 + v2)/2\n",
    "        F_mid = cdf(mid)\n",
    "        I_mid = 1.0 if mid >= Q else 0.0\n",
    "        crps += (F_mid - I_mid)**2 * (v2 - v1)\n",
    "        \n",
    "    # Tail contributions\n",
    "    if Q < min_val:\n",
    "        crps += (0.0 - 1.0)**2 * (min_val - Q)\n",
    "    elif Q > max_val:\n",
    "        crps += (1.0 - 0.0)**2 * (Q - max_val)\n",
    "    \n",
    "    # Normalize using question's intrinsic range\n",
    "    K_max = max_val - min_val\n",
    "    ubs = 1.0 - (crps / K_max) if K_max != 0 else 0.0\n",
    "    return max(0.0, min(1.0, round(ubs, 4)))"
   ]
  },
  {
   "cell_type": "code",
   "execution_count": 117,
   "id": "88e5b5fc-a568-4826-8568-2e4140c9d9e3",
   "metadata": {},
   "outputs": [],
   "source": [
    "question=df[df.id==35677].iloc[0]"
   ]
  },
  {
   "cell_type": "code",
   "execution_count": 118,
   "id": "ffb0b5c2-1991-4489-b0aa-af0aa9f59412",
   "metadata": {},
   "outputs": [
    {
     "name": "stdout",
     "output_type": "stream",
     "text": [
      "(a) **Time left until outcome is known:**  \n",
      "The outcome—total Bay Wheels trips for February 2025—will be published after February closes. Since today is May 6, 2025, and the BTS data is typically updated with a lag, the number is now likely available or will be within days.\n",
      "\n",
      "(b) **Status quo outcome if nothing changed:**  \n",
      "If ridership stayed at its February 2024 level (preliminary, as current detailed monthly numbers were not in the search results but inferred from trends), the number of trips would be slightly lower than February 2025's likely outcome, since ridership has increased year-over-year[3].\n",
      "\n",
      "(c) **Outcome if current trend continued:**  \n",
      "Ridership across the first nine months of 2024 set all-time highs compared to the same period in prior years[3]. E-bike growth and network expansion continue to boost usage, so if this trend persists, February 2025 should reach or slightly surpass the February 2024 figure. Given that every month since mid-2023 has equaled or exceeded its 2019 level, and February is a strong month historically, the best estimate is a continued, modest increase[3].\n",
      "\n",
      "(d) **Expectations of experts and markets:**  \n",
      "Experts expect further growth, anchored by e-bike popularity, ongoing expansion, and urban recovery post-pandemic[3]. However, the historical February peak in 2020 has likely not been exceeded every year since, so growth is strong but not exponential.\n",
      "\n",
      "(e) **Unexpected scenario for a low outcome:**  \n",
      "A rare winter storm, protracted heavy rain, or technical issues that remove a high number of e-bikes from service—especially as e-bikes now account for nearly all growth—could reduce trip numbers.\n",
      "\n",
      "(f) **Unexpected scenario for a high outcome:**  \n",
      "Unseasonably mild, dry weather, a successful Bay Wheels promotional campaign, or a major sporting or cultural event driving demand could push February ridership to a new record.\n",
      "\n",
      "---\n",
      "\n",
      "Percentile 10: 230,000  \n",
      "Percentile 20: 250,000  \n",
      "Percentile 40: 270,000  \n",
      "Percentile 60: 290,000  \n",
      "Percentile 80: 320,000  \n",
      "Percentile 90: 340,000\n"
     ]
    }
   ],
   "source": [
    "print(question.forecast)"
   ]
  },
  {
   "cell_type": "code",
   "execution_count": 119,
   "id": "5176b917-bf22-49de-b373-0f7c2a6cdbef",
   "metadata": {},
   "outputs": [
    {
     "data": {
      "text/plain": [
       "{10: 230000, 20: 250000, 40: 270000, 60: 290000, 80: 320000, 90: 340000}"
      ]
     },
     "execution_count": 119,
     "metadata": {},
     "output_type": "execute_result"
    }
   ],
   "source": [
    "question.prediction"
   ]
  },
  {
   "cell_type": "code",
   "execution_count": 120,
   "id": "b7f16eda-1467-41a0-b2ee-f022c1ee6ecd",
   "metadata": {},
   "outputs": [
    {
     "data": {
      "text/plain": [
       "0.9055"
      ]
     },
     "execution_count": 120,
     "metadata": {},
     "output_type": "execute_result"
    }
   ],
   "source": [
    "calculate_ubs_numeric(question)"
   ]
  },
  {
   "cell_type": "code",
   "execution_count": 121,
   "id": "7720b913-d983-4415-89f4-67135d7e7ab4",
   "metadata": {},
   "outputs": [],
   "source": [
    "question = df[df.question_type == 'numeric'].iloc[0]"
   ]
  },
  {
   "cell_type": "code",
   "execution_count": 122,
   "id": "b5909782-814b-4b7f-921b-a7105374a484",
   "metadata": {},
   "outputs": [
    {
     "data": {
      "text/plain": [
       "projects_default_project_id                                                 32721\n",
       "id                                                                          37220\n",
       "open_time                                                     2025-04-28 10:00:00\n",
       "scheduled_resolve_time                                        2025-05-17 00:00:00\n",
       "title                           How many FBI firearms background checks will i...\n",
       "question_description            In the long term (since the turn of the 21st C...\n",
       "question_resolution_criteria    This question resolves as the number of backgr...\n",
       "question_fine_print             In case of reporting delays, resolution will w...\n",
       "question_type                                                             numeric\n",
       "question_options                                                             None\n",
       "question_group_variable                                                          \n",
       "question_resolution                                                     2284806.0\n",
       "question_question_weight                                                      1.0\n",
       "question_unit                                                   background checks\n",
       "question_open_upper_bound                                                     1.0\n",
       "question_open_lower_bound                                                     1.0\n",
       "question_scaling_range_max                                              3100000.0\n",
       "question_scaling_range_min                                              1800000.0\n",
       "research                        ### Key Factual Information for Forecasting Ap...\n",
       "today                                                                  2025-04-28\n",
       "prompt                          You are a professional forecaster interviewing...\n",
       "forecast                        (a) **Time left until the outcome is known:** ...\n",
       "prediction                      {10: 1600000, 20: 1700000, 40: 1850000, 60: 19...\n",
       "Name: 0, dtype: object"
      ]
     },
     "execution_count": 122,
     "metadata": {},
     "output_type": "execute_result"
    }
   ],
   "source": [
    "question"
   ]
  },
  {
   "cell_type": "code",
   "execution_count": 123,
   "id": "6dd81863-507a-4066-902f-ccfe59173036",
   "metadata": {},
   "outputs": [
    {
     "name": "stdout",
     "output_type": "stream",
     "text": [
      "2284806.0\n"
     ]
    }
   ],
   "source": [
    "print(question.question_resolution)"
   ]
  },
  {
   "cell_type": "code",
   "execution_count": 124,
   "id": "cd3f7fb1-a75b-4ba2-922b-dc21481ee80f",
   "metadata": {},
   "outputs": [
    {
     "data": {
      "text/plain": [
       "0.5478"
      ]
     },
     "execution_count": 124,
     "metadata": {},
     "output_type": "execute_result"
    }
   ],
   "source": [
    "calculate_ubs_numeric(question)"
   ]
  },
  {
   "cell_type": "markdown",
   "id": "805e0e1a-fb99-4db1-ab56-2594f7771725",
   "metadata": {
    "jp-MarkdownHeadingCollapsed": true
   },
   "source": [
    "### Multiple choice"
   ]
  },
  {
   "cell_type": "code",
   "execution_count": 125,
   "id": "f4fa2dd2-e191-46ce-ad3f-b4fa524c8fa0",
   "metadata": {},
   "outputs": [],
   "source": [
    "question = df[df.question_type == 'multiple_choice'].iloc[0]"
   ]
  },
  {
   "cell_type": "code",
   "execution_count": 126,
   "id": "2130bf75-7d80-46cb-a5b8-56df5c264408",
   "metadata": {},
   "outputs": [
    {
     "data": {
      "text/plain": [
       "projects_default_project_id                                                 32627\n",
       "id                                                                          36264\n",
       "open_time                                                     2025-03-20 18:00:00\n",
       "scheduled_resolve_time                                        2025-03-31 00:00:00\n",
       "title                           Which podcast will be ranked higher on Spotify...\n",
       "question_description            At the time of this question, Candace is ranke...\n",
       "question_resolution_criteria    This question resolves as the podcast with the...\n",
       "question_fine_print             Ensure settings are on United States and Top P...\n",
       "question_type                                                     multiple_choice\n",
       "question_options                                    ['Call Her Daddy', 'Candace']\n",
       "question_group_variable                                                      Rank\n",
       "question_resolution                                                       Candace\n",
       "question_question_weight                                                      1.0\n",
       "question_unit                                                                    \n",
       "question_open_upper_bound                                                     0.0\n",
       "question_open_lower_bound                                                     0.0\n",
       "question_scaling_range_max                                                    NaN\n",
       "question_scaling_range_min                                                    NaN\n",
       "research                        ### Key Factual Information for Forecasting\\n\\...\n",
       "today                                                                  2025-03-20\n",
       "prompt                          You are a professional forecaster interviewing...\n",
       "forecast                        (a) **Time left until outcome**: 11 days (Marc...\n",
       "prediction                              {'Call Her Daddy': 0.65, 'Candace': 0.35}\n",
       "Name: 177, dtype: object"
      ]
     },
     "execution_count": 126,
     "metadata": {},
     "output_type": "execute_result"
    }
   ],
   "source": [
    "question"
   ]
  },
  {
   "cell_type": "code",
   "execution_count": 127,
   "id": "a0da7b6e-cf4a-496c-8a39-be65193c1a1d",
   "metadata": {},
   "outputs": [
    {
     "data": {
      "text/plain": [
       "({'Call Her Daddy': 0.65, 'Candace': 0.35}, 'Candace')"
      ]
     },
     "execution_count": 127,
     "metadata": {},
     "output_type": "execute_result"
    }
   ],
   "source": [
    "question.prediction, question.question_resolution"
   ]
  },
  {
   "cell_type": "code",
   "execution_count": 128,
   "id": "cc464d6d-aded-4022-ad4a-1905894e0e99",
   "metadata": {},
   "outputs": [],
   "source": [
    "def calculate_ubs_multiclass(instance):\n",
    "    \"\"\"\n",
    "    Calculate Universal Binarized Score (UBS) for a multi-category question.\n",
    "    \n",
    "    Args:\n",
    "        instance: Object with:\n",
    "            - prediction (dict): {category: percentage forecast (0-100)}\n",
    "            - question_resolution (str): The correct category\n",
    "    \n",
    "    Returns:\n",
    "        float: UBS score between 0 (worst) and 1 (best)\n",
    "    \"\"\"\n",
    "    categories = list(instance.prediction.keys())\n",
    "    n = len(categories)\n",
    "    # Convert predictions to probabilities (0.0-1.0)\n",
    "    probs = {k: instance.prediction[k]/100.0 for k in categories}\n",
    "    # Create outcome vector: 1 for correct, 0 for others\n",
    "    outcome = {k: 1.0 if k == instance.question_resolution else 0.0 for k in categories}\n",
    "    # Multi-category Brier score\n",
    "    brier = sum((probs[k] - outcome[k])**2 for k in categories)\n",
    "    # Normalize by maximum possible score (which is n)\n",
    "    ubs = 1.0 - (brier / n)\n",
    "    return max(0.0, min(1.0, round(ubs, 4)))"
   ]
  },
  {
   "cell_type": "code",
   "execution_count": 129,
   "id": "d1eae117-2e9a-4aa4-a307-da09ca35879a",
   "metadata": {},
   "outputs": [
    {
     "data": {
      "text/plain": [
       "0.5035"
      ]
     },
     "execution_count": 129,
     "metadata": {},
     "output_type": "execute_result"
    }
   ],
   "source": [
    "calculate_ubs_multiclass(question)"
   ]
  },
  {
   "cell_type": "code",
   "execution_count": 130,
   "id": "d7bb9467-c786-4473-ba79-659cd064337a",
   "metadata": {},
   "outputs": [],
   "source": [
    "question = df[df.id == 36168].iloc[0]"
   ]
  },
  {
   "cell_type": "code",
   "execution_count": 131,
   "id": "ae101bc2-1065-4273-8cb3-4851403e5703",
   "metadata": {},
   "outputs": [
    {
     "data": {
      "text/plain": [
       "0.8004"
      ]
     },
     "execution_count": 131,
     "metadata": {},
     "output_type": "execute_result"
    }
   ],
   "source": [
    "calculate_ubs_multiclass(question)"
   ]
  },
  {
   "cell_type": "markdown",
   "id": "a5466f7d-c6d1-4ccf-a09e-e4fb21cba369",
   "metadata": {},
   "source": [
    "### All"
   ]
  },
  {
   "cell_type": "code",
   "execution_count": 170,
   "id": "35eff090-ba2f-41a7-acaa-39cb69a480b5",
   "metadata": {},
   "outputs": [],
   "source": [
    "def calculate_ubs(question):\n",
    "    method = {'binary': calculate_ubs_binary,\n",
    "              'numeric': calculate_ubs_numeric,\n",
    "              'multiple_choice': calculate_ubs_multiclass}\n",
    "    return method[question.question_type](question)"
   ]
  },
  {
   "cell_type": "code",
   "execution_count": 171,
   "id": "790f6cee-aab7-456a-88e0-d94379a3e83d",
   "metadata": {},
   "outputs": [],
   "source": [
    "df['score'] = df.apply(calculate_ubs, axis=1)"
   ]
  },
  {
   "cell_type": "code",
   "execution_count": 172,
   "id": "b276ed51-8a57-4510-a3f0-75c581e0e188",
   "metadata": {},
   "outputs": [],
   "source": [
    "df.to_json('scored.json')"
   ]
  },
  {
   "cell_type": "markdown",
   "id": "9351f06e-c012-4712-877d-ba07a0205801",
   "metadata": {},
   "source": [
    "## Explore performance a little"
   ]
  },
  {
   "cell_type": "code",
   "execution_count": 175,
   "id": "5a855867-1896-45fc-a3c9-cee7ef430d4a",
   "metadata": {},
   "outputs": [],
   "source": [
    "%matplotlib inline"
   ]
  },
  {
   "cell_type": "code",
   "execution_count": 180,
   "id": "ece54551-e33c-4958-97c2-24ec54a27213",
   "metadata": {},
   "outputs": [
    {
     "data": {
      "image/png": "[encoded data removed]",
      "text/plain": [
       "<Figure size 640x480 with 1 Axes>"
      ]
     },
     "metadata": {},
     "output_type": "display_data"
    }
   ],
   "source": [
    "import matplotlib.pyplot as plt\n",
    "\n",
    "ax = df.hist(column='score', bins=100)\n",
    "plt.show()  # explicitly show the plot"
   ]
  },
  {
   "cell_type": "markdown",
   "id": "0888cd8d-c9af-457f-a20d-73e463036194",
   "metadata": {},
   "source": [
    "## Make it more RAGy, using the references in the prompt for possible deeper search"
   ]
  },
  {
   "cell_type": "code",
   "execution_count": null,
   "id": "61db6494-c4ee-4e8e-a9f1-869f7866ee36",
   "metadata": {},
   "outputs": [],
   "source": [
    "df[df.id == 36164].iloc[0]"
   ]
  },
  {
   "cell_type": "code",
   "execution_count": null,
   "id": "fcae82ab-0460-4f56-a8f7-4f2cb7b4b19a",
   "metadata": {},
   "outputs": [],
   "source": []
  }
 ],
 "metadata": {
  "kernelspec": {
   "display_name": "Python 3 (ipykernel)",
   "language": "python",
   "name": "python3"
  },
  "language_info": {
   "codemirror_mode": {
    "name": "ipython",
    "version": 3
   },
   "file_extension": ".py",
   "mimetype": "text/x-python",
   "name": "python",
   "nbconvert_exporter": "python",
   "pygments_lexer": "ipython3",
   "version": "3.12.3"
  }
 },
 "nbformat": 4,
 "nbformat_minor": 5
}
