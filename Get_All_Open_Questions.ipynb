{
 "cells": [
  {
   "cell_type": "markdown",
   "id": "83e0602e-8dd7-437c-9335-f818ddd64d5b",
   "metadata": {},
   "source": [
    "# Get all open questions"
   ]
  },
  {
   "cell_type": "code",
   "execution_count": 1,
   "id": "090fd132-d6cb-428c-96b4-d89f9e56e82c",
   "metadata": {},
   "outputs": [],
   "source": [
    "import load_secrets\n",
    "load_secrets.load_secrets()"
   ]
  },
  {
   "cell_type": "code",
   "execution_count": 2,
   "id": "97c6f00b-d06d-40b4-a01e-3050704ce407",
   "metadata": {},
   "outputs": [],
   "source": [
    "import forecasting_tools"
   ]
  },
  {
   "cell_type": "code",
   "execution_count": 3,
   "id": "7439aa91-23f3-4496-8d6c-bc4fb1962d42",
   "metadata": {},
   "outputs": [],
   "source": [
    "from forecasting_tools import MetaculusApi, ApiFilter, DataOrganizer\n",
    "from datetime import datetime\n",
    "import asyncio, time, joblib"
   ]
  },
  {
   "cell_type": "code",
   "execution_count": 4,
   "id": "e3e78e4f-eebf-4356-a40f-f1f80fdebaec",
   "metadata": {},
   "outputs": [],
   "source": [
    "api_filter = ApiFilter(\n",
    "    allowed_statuses=[\"open\"],\n",
    ")\n",
    "\n",
    "all_open = []"
   ]
  },
  {
   "cell_type": "code",
   "execution_count": 5,
   "id": "94973263-2398-4eac-b7b6-2f6480826705",
   "metadata": {},
   "outputs": [
    {
     "name": "stdout",
     "output_type": "stream",
     "text": [
      "chunk starting 0\n",
      "100\n",
      "chunk starting 1\n",
      "200\n",
      "chunk starting 2\n",
      "300\n",
      "chunk starting 3\n",
      "400\n",
      "chunk starting 4\n",
      "500\n",
      "chunk starting 5\n",
      "600\n",
      "chunk starting 6\n",
      "700\n",
      "chunk starting 7\n",
      "800\n",
      "chunk starting 8\n",
      "900\n",
      "chunk starting 9\n",
      "1000\n",
      "chunk starting 10\n",
      "1100\n",
      "chunk starting 11\n",
      "1200\n",
      "chunk starting 12\n",
      "1300\n",
      "chunk starting 13\n",
      "1400\n",
      "chunk starting 14\n",
      "1500\n",
      "chunk starting 15\n",
      "1600\n",
      "chunk starting 16\n",
      "1700\n",
      "chunk starting 17\n",
      "1800\n",
      "chunk starting 18\n",
      "1900\n",
      "chunk starting 19\n",
      "2000\n",
      "chunk starting 20\n",
      "2100\n",
      "chunk starting 21\n",
      "2200\n",
      "chunk starting 22\n",
      "2300\n",
      "chunk starting 23\n",
      "2399\n",
      "chunk starting 24\n",
      "done\n"
     ]
    }
   ],
   "source": [
    "for chunk in range(0,1000):\n",
    "    print('chunk starting', chunk)\n",
    "    offset = chunk * MetaculusApi.MAX_QUESTIONS_FROM_QUESTION_API_PER_REQUEST\n",
    "    questions, success = MetaculusApi._grab_filtered_questions_with_offset(api_filter, offset)\n",
    "    if success:\n",
    "        all_open.extend(questions)\n",
    "        print(len(all_open))\n",
    "        time.sleep(1.1)\n",
    "    else:\n",
    "        print('done')\n",
    "        break"
   ]
  },
  {
   "cell_type": "code",
   "execution_count": 8,
   "id": "ff1471d2-4594-4b32-bed4-c8609779412f",
   "metadata": {},
   "outputs": [
    {
     "data": {
      "text/plain": [
       "['all_open.joblib']"
      ]
     },
     "execution_count": 8,
     "metadata": {},
     "output_type": "execute_result"
    }
   ],
   "source": [
    "joblib.dump(all_open, 'all_open.joblib')"
   ]
  },
  {
   "cell_type": "code",
   "execution_count": 9,
   "id": "4671dd2e-8b34-4d78-b77d-66a1e8de0ded",
   "metadata": {},
   "outputs": [],
   "source": [
    "questions = joblib.load('all_open.joblib')"
   ]
  },
  {
   "cell_type": "code",
   "execution_count": 10,
   "id": "3ea3babc-80cd-45a5-9b60-ed7facead498",
   "metadata": {},
   "outputs": [],
   "source": [
    "questions = [x for x in questions if x.num_forecasters > 40 and type(x) != forecasting_tools.data_models.questions.DateQuestion]"
   ]
  },
  {
   "cell_type": "code",
   "execution_count": 11,
   "id": "6217bbab-0a1a-4cd0-976c-559535bf48c0",
   "metadata": {},
   "outputs": [
    {
     "data": {
      "text/plain": [
       "{forecasting_tools.data_models.questions.BinaryQuestion,\n",
       " forecasting_tools.data_models.questions.MultipleChoiceQuestion,\n",
       " forecasting_tools.data_models.questions.NumericQuestion}"
      ]
     },
     "execution_count": 11,
     "metadata": {},
     "output_type": "execute_result"
    }
   ],
   "source": [
    "set([type(x) for x in questions])"
   ]
  },
  {
   "cell_type": "code",
   "execution_count": 12,
   "id": "0559e7a7-ad6b-45f2-a68b-471c2d963335",
   "metadata": {},
   "outputs": [],
   "source": [
    "binaries = [x for x in questions if type(x) == forecasting_tools.data_models.questions.BinaryQuestion]"
   ]
  },
  {
   "cell_type": "code",
   "execution_count": 13,
   "id": "b14dca55-5fa4-4eb0-b9ea-f3e144d3b43e",
   "metadata": {},
   "outputs": [],
   "source": [
    "binaries = [x for x in binaries if x.community_prediction_at_access_time is not None]"
   ]
  },
  {
   "cell_type": "code",
   "execution_count": 14,
   "id": "728e2b04-398c-44fd-92cf-edf6f9722b61",
   "metadata": {},
   "outputs": [
    {
     "data": {
      "text/plain": [
       "699"
      ]
     },
     "execution_count": 14,
     "metadata": {},
     "output_type": "execute_result"
    }
   ],
   "source": [
    "len(binaries)"
   ]
  },
  {
   "cell_type": "code",
   "execution_count": 15,
   "id": "db447207-53bb-4d0b-b715-efd84846e946",
   "metadata": {},
   "outputs": [],
   "source": [
    "mc = [x for x in questions if type(x) == forecasting_tools.data_models.questions.MultipleChoiceQuestion]"
   ]
  },
  {
   "cell_type": "code",
   "execution_count": 16,
   "id": "ae511357-58fb-4837-884a-6f21e2f15628",
   "metadata": {},
   "outputs": [],
   "source": [
    "x = mc[0]"
   ]
  },
  {
   "cell_type": "code",
   "execution_count": 17,
   "id": "296cfc1c-2aff-4ec1-85c9-09d8b7a05a83",
   "metadata": {},
   "outputs": [],
   "source": [
    "mc = [x for x in mc if x.api_json['question']['aggregations']['recency_weighted']['latest'] is not None]"
   ]
  },
  {
   "cell_type": "code",
   "execution_count": 18,
   "id": "c848945e-0cdb-4173-b751-a4baae8de40b",
   "metadata": {},
   "outputs": [
    {
     "data": {
      "text/plain": [
       "25"
      ]
     },
     "execution_count": 18,
     "metadata": {},
     "output_type": "execute_result"
    }
   ],
   "source": [
    "len(mc)"
   ]
  },
  {
   "cell_type": "code",
   "execution_count": 19,
   "id": "20919acc-98b5-4fe1-af6f-d4a9459905a6",
   "metadata": {},
   "outputs": [],
   "source": [
    "num = [x for x in questions if type(x) == forecasting_tools.data_models.questions.NumericQuestion]"
   ]
  },
  {
   "cell_type": "code",
   "execution_count": 20,
   "id": "399782e8-b988-4057-84e4-bba0a3e03d8e",
   "metadata": {},
   "outputs": [
    {
     "data": {
      "text/plain": [
       "142"
      ]
     },
     "execution_count": 20,
     "metadata": {},
     "output_type": "execute_result"
    }
   ],
   "source": [
    "len(num)"
   ]
  },
  {
   "cell_type": "code",
   "execution_count": 21,
   "id": "6c41cc46-a8ae-45c5-a3de-15a83174430f",
   "metadata": {},
   "outputs": [],
   "source": [
    "num = [x for x in num if x.api_json['question']['aggregations']['recency_weighted']['latest'] is not None]"
   ]
  },
  {
   "cell_type": "code",
   "execution_count": 22,
   "id": "37602c01-c179-4327-ab90-c99850e7c704",
   "metadata": {},
   "outputs": [
    {
     "data": {
      "text/plain": [
       "142"
      ]
     },
     "execution_count": 22,
     "metadata": {},
     "output_type": "execute_result"
    }
   ],
   "source": [
    "len(num)"
   ]
  },
  {
   "cell_type": "code",
   "execution_count": 23,
   "id": "f30df306-e3c3-40ec-ae37-0ac742294801",
   "metadata": {},
   "outputs": [],
   "source": [
    "questions = binaries + mc + num"
   ]
  },
  {
   "cell_type": "code",
   "execution_count": 24,
   "id": "7d763211-5248-416e-ab34-7a2b08bab2c5",
   "metadata": {},
   "outputs": [
    {
     "data": {
      "text/plain": [
       "866"
      ]
     },
     "execution_count": 24,
     "metadata": {},
     "output_type": "execute_result"
    }
   ],
   "source": [
    "len(questions)"
   ]
  },
  {
   "cell_type": "code",
   "execution_count": 25,
   "id": "16c00656-40a2-4f70-a52d-09460c994224",
   "metadata": {},
   "outputs": [
    {
     "name": "stdout",
     "output_type": "stream",
     "text": [
      "mkdir: cannot create directory ‘open’: File exists\n"
     ]
    }
   ],
   "source": [
    "!mkdir open"
   ]
  },
  {
   "cell_type": "code",
   "execution_count": 26,
   "id": "ce7300d9-bda3-4541-9730-142d1da61542",
   "metadata": {},
   "outputs": [],
   "source": [
    "from tqdm import tqdm"
   ]
  },
  {
   "cell_type": "code",
   "execution_count": 27,
   "id": "1a683ed4-cda6-400d-9c25-62bb510c2d4b",
   "metadata": {},
   "outputs": [
    {
     "name": "stderr",
     "output_type": "stream",
     "text": [
      "100%|████████████████████████████████████████| 866/866 [00:01<00:00, 804.76it/s]\n"
     ]
    }
   ],
   "source": [
    "for question in tqdm(questions):\n",
    "    fn=f'open/{question.id_of_question}.joblib'\n",
    "    joblib.dump(question, fn)"
   ]
  },
  {
   "cell_type": "code",
   "execution_count": 100,
   "id": "dca240b5-09b0-4571-8d6a-7a213b14e464",
   "metadata": {},
   "outputs": [],
   "source": [
    "question = joblib.load('open/37229.joblib')"
   ]
  },
  {
   "cell_type": "code",
   "execution_count": null,
   "id": "684cd827-87c0-41c5-96c9-139adf7b0aeb",
   "metadata": {},
   "outputs": [],
   "source": []
  }
 ],
 "metadata": {
  "kernelspec": {
   "display_name": "Python 3 (ipykernel)",
   "language": "python",
   "name": "python3"
  },
  "language_info": {
   "codemirror_mode": {
    "name": "ipython",
    "version": 3
   },
   "file_extension": ".py",
   "mimetype": "text/x-python",
   "name": "python",
   "nbconvert_exporter": "python",
   "pygments_lexer": "ipython3",
   "version": "3.12.3"
  }
 },
 "nbformat": 4,
 "nbformat_minor": 5
}
