{
 "cells": [
  {
   "cell_type": "markdown",
   "id": "83e0602e-8dd7-437c-9335-f818ddd64d5b",
   "metadata": {},
   "source": [
    "# Get all open questions"
   ]
  },
  {
   "cell_type": "code",
   "execution_count": 1,
   "id": "090fd132-d6cb-428c-96b4-d89f9e56e82c",
   "metadata": {},
   "outputs": [],
   "source": [
    "import load_secrets\n",
    "load_secrets.load_secrets()"
   ]
  },
  {
   "cell_type": "code",
   "execution_count": 2,
   "id": "98646464-deef-432d-ac11-a045c1773582",
   "metadata": {},
   "outputs": [],
   "source": [
    "from forecasting_tools import MetaculusApi, ApiFilter, DataOrganizer\n",
    "from datetime import datetime\n",
    "import asyncio, time, joblib\n",
    "\n",
    "api_filter = ApiFilter(\n",
    "    allowed_statuses=[\"open\"],\n",
    ")\n",
    "\n",
    "all_open = []"
   ]
  },
  {
   "cell_type": "code",
   "execution_count": 3,
   "id": "94973263-2398-4eac-b7b6-2f6480826705",
   "metadata": {},
   "outputs": [
    {
     "name": "stdout",
     "output_type": "stream",
     "text": [
      "chunk starting 0\n",
      "100\n",
      "chunk starting 1\n",
      "200\n",
      "chunk starting 2\n",
      "300\n",
      "chunk starting 3\n",
      "400\n",
      "chunk starting 4\n",
      "500\n",
      "chunk starting 5\n",
      "600\n",
      "chunk starting 6\n",
      "700\n",
      "chunk starting 7\n",
      "800\n",
      "chunk starting 8\n",
      "900\n",
      "chunk starting 9\n",
      "1000\n",
      "chunk starting 10\n",
      "1100\n",
      "chunk starting 11\n",
      "1200\n",
      "chunk starting 12\n",
      "1300\n",
      "chunk starting 13\n",
      "1400\n",
      "chunk starting 14\n",
      "1500\n",
      "chunk starting 15\n",
      "1600\n",
      "chunk starting 16\n",
      "1700\n",
      "chunk starting 17\n",
      "1800\n",
      "chunk starting 18\n",
      "1900\n",
      "chunk starting 19\n",
      "2000\n",
      "chunk starting 20\n",
      "2100\n",
      "chunk starting 21\n",
      "2200\n",
      "chunk starting 22\n",
      "2300\n",
      "chunk starting 23\n",
      "2385\n",
      "chunk starting 24\n",
      "done\n"
     ]
    }
   ],
   "source": [
    "for chunk in range(0,1000):\n",
    "    print('chunk starting', chunk)\n",
    "    offset = chunk * MetaculusApi.MAX_QUESTIONS_FROM_QUESTION_API_PER_REQUEST\n",
    "    questions, success = MetaculusApi._grab_filtered_questions_with_offset(api_filter, offset)\n",
    "    if success:\n",
    "        all_open.extend(questions)\n",
    "        print(len(all_open))\n",
    "        time.sleep(1.1)\n",
    "    else:\n",
    "        print('done')\n",
    "        break"
   ]
  },
  {
   "cell_type": "code",
   "execution_count": 4,
   "id": "ff1471d2-4594-4b32-bed4-c8609779412f",
   "metadata": {},
   "outputs": [
    {
     "data": {
      "text/plain": [
       "['all_open.joblib']"
      ]
     },
     "execution_count": 4,
     "metadata": {},
     "output_type": "execute_result"
    }
   ],
   "source": [
    "joblib.dump(all_open, 'all_open.joblib')"
   ]
  },
  {
   "cell_type": "code",
   "execution_count": 5,
   "id": "4671dd2e-8b34-4d78-b77d-66a1e8de0ded",
   "metadata": {},
   "outputs": [],
   "source": [
    "questions = joblib.load('all_open.joblib')"
   ]
  },
  {
   "cell_type": "code",
   "execution_count": 6,
   "id": "4436be08-2fbd-4f5e-9396-97cfd83bbddd",
   "metadata": {},
   "outputs": [],
   "source": [
    "from flatten_dict import flatten_dict"
   ]
  },
  {
   "cell_type": "code",
   "execution_count": 7,
   "id": "f3fd60aa-b435-4e38-ac31-e51b9a68770a",
   "metadata": {},
   "outputs": [],
   "source": [
    "import pandas as pd\n",
    "df = pd.DataFrame([flatten_dict(vars(q)) for q in questions])"
   ]
  },
  {
   "cell_type": "code",
   "execution_count": 10,
   "id": "e6e320db-82b6-4b76-81f2-a7ede2dd5a18",
   "metadata": {},
   "outputs": [],
   "source": [
    "df1 = df[df['num_forecasters'] > 40]"
   ]
  },
  {
   "cell_type": "code",
   "execution_count": 11,
   "id": "63230f28-d9b6-4328-964c-d4795ad7bdbd",
   "metadata": {},
   "outputs": [
    {
     "data": {
      "text/plain": [
       "1049"
      ]
     },
     "execution_count": 11,
     "metadata": {},
     "output_type": "execute_result"
    }
   ],
   "source": [
    "len(df1)"
   ]
  },
  {
   "cell_type": "code",
   "execution_count": 13,
   "id": "16c00656-40a2-4f70-a52d-09460c994224",
   "metadata": {},
   "outputs": [],
   "source": [
    "!mkdir open"
   ]
  },
  {
   "cell_type": "code",
   "execution_count": 15,
   "id": "2b0d3471-f4fa-4933-937c-b109d8f4bf70",
   "metadata": {},
   "outputs": [],
   "source": [
    "question_ids = df1.id_of_question.values"
   ]
  },
  {
   "cell_type": "code",
   "execution_count": 16,
   "id": "ce7300d9-bda3-4541-9730-142d1da61542",
   "metadata": {},
   "outputs": [],
   "source": [
    "from tqdm import tqdm"
   ]
  },
  {
   "cell_type": "code",
   "execution_count": 17,
   "id": "1a683ed4-cda6-400d-9c25-62bb510c2d4b",
   "metadata": {},
   "outputs": [
    {
     "name": "stderr",
     "output_type": "stream",
     "text": [
      "100%|██████████████████████████████████████| 2385/2385 [00:06<00:00, 347.70it/s]\n"
     ]
    }
   ],
   "source": [
    "for question in tqdm(questions):\n",
    "    if question.id_of_question in question_ids:\n",
    "        fn=f'open/{question.id_of_question}.joblib'\n",
    "        joblib.dump(question, fn)\n"
   ]
  },
  {
   "cell_type": "code",
   "execution_count": 19,
   "id": "dca240b5-09b0-4571-8d6a-7a213b14e464",
   "metadata": {},
   "outputs": [],
   "source": [
    "question = joblib.load('open/37391.joblib')"
   ]
  },
  {
   "cell_type": "code",
   "execution_count": 20,
   "id": "0b2de818-5505-4d39-8cab-2fb8d7f3d431",
   "metadata": {},
   "outputs": [
    {
     "data": {
      "text/plain": [
       "BinaryQuestion(question_text='Will Florida have 14.0 million or more residents living in drought on June 28, 2025?', id_of_post=38085, page_url='https://www.metaculus.com/questions/38085', id_of_question=37391, state=<QuestionState.OPEN: 'open'>, num_forecasters=81, num_predictions=83, resolution_criteria='This question resolves as **Yes** if Drought Monitor at [this link](https://www.drought.gov/states/florida) lists greater than or equal to 14.0 million Florida residents in areas of drought, when the link is accessed by Metaculus on or after June 28, 2025. If the number is below that, this question resolves as **No**.', fine_print=\"The question will resolve as soon as the page is accessed by Metaculus Admins on the resolution date. However, if there are issues accessing the page, then resolution will wait up until the end of the tournament's scoring at which point if Metaculus has still not been able to access the resolution source, this question will be **annulled**.\", background_info='USA Today: [14 million Florida residents are under drought conditions, some extreme: What to know](https://www.usatoday.com/story/news/nation/2025/04/28/florida-drought-conditions-what-to-know/83328368007/)', unit_of_measure='', close_time=datetime.datetime(2025, 5, 29, 4, 0), actual_resolution_time=None, scheduled_resolution_time=datetime.datetime(2025, 6, 28, 0, 0), published_time=datetime.datetime(2025, 5, 29, 2, 0), open_time=datetime.datetime(2025, 5, 29, 2, 0), date_accessed=datetime.datetime(2025, 5, 28, 23, 22, 56, 882633), already_forecasted=True, tournament_slugs=[], includes_bots_in_aggregates=True, cp_reveal_time=datetime.datetime(2025, 5, 29, 4, 0), api_json={'id': 38085, 'title': 'Will Florida have 14.0 million or more residents living in drought on June 28, 2025?', 'short_title': '', 'url_title': '', 'slug': 'will-florida-have-140-million-or-more-residents-living-in-drought-on-june-28-2025', 'author_id': 115975, 'author_username': 'johnnycaffeine', 'coauthors': [], 'created_at': '2025-05-24T05:50:06.940518Z', 'published_at': '2025-05-29T02:00:00Z', 'edited_at': '2025-05-29T03:20:03.510853Z', 'curation_status': 'approved', 'curation_status_updated_at': None, 'comment_count': 0, 'status': 'open', 'resolved': False, 'actual_close_time': None, 'scheduled_close_time': '2025-05-29T04:00:00Z', 'scheduled_resolve_time': '2025-06-28T00:00:00Z', 'open_time': '2025-05-29T02:00:00Z', 'nr_forecasters': 81, 'html_metadata_json': None, 'projects': {'question_series': [{'id': 32721, 'type': 'question_series', 'name': 'Q2 AI Forecasting Benchmark Tournament', 'slug': 'aibq2', 'header_image': 'https://metaculus-web-media.s3.amazonaws.com/aib-q2-banner.webp', 'prize_pool': '30000.00', 'start_date': '2025-04-21T01:38:25Z', 'close_date': '2025-07-11T18:43:55Z', 'forecasting_end_date': None, 'meta_description': '', 'is_ongoing': True, 'user_permission': None, 'created_at': '2025-03-22T19:06:55.820092Z', 'edited_at': '2025-05-20T18:37:21.219322Z', 'score_type': 'spot_peer_tournament', 'default_permission': 'viewer', 'visibility': 'not_in_main_feed', 'is_current_content_translated': False}], 'default_project': {'id': 32721, 'type': 'question_series', 'name': 'Q2 AI Forecasting Benchmark Tournament', 'slug': 'aibq2', 'header_image': 'https://metaculus-web-media.s3.amazonaws.com/aib-q2-banner.webp', 'prize_pool': '30000.00', 'start_date': '2025-04-21T01:38:25Z', 'close_date': '2025-07-11T18:43:55Z', 'forecasting_end_date': None, 'meta_description': '', 'is_ongoing': True, 'user_permission': None, 'created_at': '2025-03-22T19:06:55.820092Z', 'edited_at': '2025-05-20T18:37:21.219322Z', 'score_type': 'spot_peer_tournament', 'default_permission': 'viewer', 'visibility': 'not_in_main_feed', 'is_current_content_translated': False}}, 'question': {'id': 37391, 'title': 'Will Florida have 14.0 million or more residents living in drought on June 28, 2025?', 'description': 'USA Today: [14 million Florida residents are under drought conditions, some extreme: What to know](https://www.usatoday.com/story/news/nation/2025/04/28/florida-drought-conditions-what-to-know/83328368007/)', 'created_at': '2025-05-24T05:50:06.940518Z', 'open_time': '2025-05-29T02:00:00Z', 'cp_reveal_time': '2025-05-29T04:00:00Z', 'spot_scoring_time': '2025-05-29T04:00:00Z', 'scheduled_resolve_time': '2025-06-28T00:00:00Z', 'actual_resolve_time': None, 'resolution_set_time': None, 'scheduled_close_time': '2025-05-29T04:00:00Z', 'actual_close_time': '2025-05-29T04:00:00Z', 'type': 'binary', 'options': None, 'group_variable': '', 'status': 'open', 'possibilities': None, 'resolution': None, 'include_bots_in_aggregates': True, 'question_weight': 1.0, 'resolution_criteria': 'This question resolves as **Yes** if Drought Monitor at [this link](https://www.drought.gov/states/florida) lists greater than or equal to 14.0 million Florida residents in areas of drought, when the link is accessed by Metaculus on or after June 28, 2025. If the number is below that, this question resolves as **No**.', 'fine_print': \"The question will resolve as soon as the page is accessed by Metaculus Admins on the resolution date. However, if there are issues accessing the page, then resolution will wait up until the end of the tournament's scoring at which point if Metaculus has still not been able to access the resolution source, this question will be **annulled**.\", 'label': '', 'unit': '', 'open_upper_bound': False, 'open_lower_bound': False, 'inbound_outcome_count': None, 'scaling': {'range_max': None, 'range_min': None, 'zero_point': None}, 'group_rank': None, 'post_id': 38085, 'aggregations': {'recency_weighted': {'history': [], 'latest': None, 'score_data': {}, 'movement': None}, 'unweighted': {'history': [], 'latest': None, 'score_data': {}}, 'single_aggregation': {'history': [], 'latest': None, 'score_data': {}}, 'metaculus_prediction': {'history': [], 'latest': None, 'score_data': {}}}, 'nr_forecasters': 81, 'my_forecasts': {'history': [{'question_id': 37391, 'author_id': 191284, 'start_time': 1748484895.879373, 'end_time': None, 'forecast_values': [0.55, 0.45], 'interval_lower_bounds': None, 'centers': None, 'interval_upper_bounds': None, 'distribution_input': None}], 'latest': {'question_id': 37391, 'author_id': 191284, 'start_time': 1748484895.879373, 'end_time': None, 'forecast_values': [0.55, 0.45], 'interval_lower_bounds': None, 'centers': None, 'interval_upper_bounds': None, 'distribution_input': None}, 'score_data': {}}}, 'user_permission': 'forecaster', 'vote': {'score': 0, 'user_vote': None}, 'forecasts_count': 83, 'unread_comment_count': 0, 'last_viewed_at': '2025-05-29T02:14:56.094481Z', 'key_factors': [], 'is_current_content_translated': False}, community_prediction_at_access_time=None)"
      ]
     },
     "execution_count": 20,
     "metadata": {},
     "output_type": "execute_result"
    }
   ],
   "source": [
    "question"
   ]
  },
  {
   "cell_type": "code",
   "execution_count": null,
   "id": "1b72a08b-291d-4a67-a90d-f918db6960ac",
   "metadata": {},
   "outputs": [],
   "source": [
    "import glob, joblib\n",
    "\n",
    "num_questions = (36000, 40000)\n",
    "\n",
    "start, end = num_questions\n",
    "fns = glob.glob('open/*.joblib')\n",
    "\n",
    "fn = fns[0]\n",
    "\n",
    "fns = [(int(fn.split('/')[1].split('.')[0]), fn) for fn in fns]\n",
    "\n",
    "fns[0]\n",
    "\n",
    "fns = [fn for id,fn in fns if start <= id <= end]\n",
    "\n",
    "len(fns)\n",
    "\n",
    "questions = [joblib.load(fn) for fn in fns]\n",
    "\n",
    "len(questions)\n",
    "\n",
    "set([type(x) for x in questions])"
   ]
  },
  {
   "cell_type": "code",
   "execution_count": null,
   "id": "684cd827-87c0-41c5-96c9-139adf7b0aeb",
   "metadata": {},
   "outputs": [],
   "source": []
  }
 ],
 "metadata": {
  "kernelspec": {
   "display_name": "Python 3 (ipykernel)",
   "language": "python",
   "name": "python3"
  },
  "language_info": {
   "codemirror_mode": {
    "name": "ipython",
    "version": 3
   },
   "file_extension": ".py",
   "mimetype": "text/x-python",
   "name": "python",
   "nbconvert_exporter": "python",
   "pygments_lexer": "ipython3",
   "version": "3.12.3"
  }
 },
 "nbformat": 4,
 "nbformat_minor": 5
}
