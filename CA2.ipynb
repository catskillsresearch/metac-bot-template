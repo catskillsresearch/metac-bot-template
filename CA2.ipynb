{
 "cells": [
  {
   "cell_type": "markdown",
   "id": "c1f27471-5886-4bc2-acdf-2dac9cf49676",
   "metadata": {},
   "source": [
    "# Community alignment of training questions"
   ]
  },
  {
   "cell_type": "markdown",
   "id": "50d47902-1f71-4794-9bfa-0a9a9756598a",
   "metadata": {},
   "source": [
    "## Imports"
   ]
  },
  {
   "cell_type": "code",
   "execution_count": 1,
   "id": "2a228aa4-f04f-4e92-9989-d4d1e9cc33b5",
   "metadata": {},
   "outputs": [],
   "source": [
    "%matplotlib inline\n",
    "import matplotlib.pyplot as plt"
   ]
  },
  {
   "cell_type": "raw",
   "id": "ce49e5bd-6572-459d-ba86-48620289d351",
   "metadata": {},
   "source": [
    "from forecast import forecast\n",
    "from datetime import datetime, timedelta\n",
    "import pandas as pd\n",
    "import load_secrets\n",
    "load_secrets.load_secrets()"
   ]
  },
  {
   "cell_type": "markdown",
   "id": "9ed28a2c-287a-4ce0-939a-0bbd57bc2fb9",
   "metadata": {},
   "source": [
    "## Question sample"
   ]
  },
  {
   "cell_type": "code",
   "execution_count": 2,
   "id": "ee300f01-5063-4668-8789-8867ea04fb71",
   "metadata": {},
   "outputs": [],
   "source": [
    "num_questions = (604, 50000)\n",
    "perennial=False\n",
    "live=False"
   ]
  },
  {
   "cell_type": "code",
   "execution_count": 3,
   "id": "a07a8e6e-8793-4432-bff0-0956ed3d9769",
   "metadata": {},
   "outputs": [
    {
     "name": "stdout",
     "output_type": "stream",
     "text": [
      "Got 844 questions\n"
     ]
    }
   ],
   "source": [
    "from gather_questions import gather_questions\n",
    "questions, df = gather_questions(num_questions, perennial, live)"
   ]
  },
  {
   "cell_type": "code",
   "execution_count": 4,
   "id": "7c2cef39-e872-4152-97cb-6b95587f6386",
   "metadata": {},
   "outputs": [],
   "source": [
    "questions_binary = [question for question in questions if question.api_json['question']['type'] == 'binary']"
   ]
  },
  {
   "cell_type": "code",
   "execution_count": 5,
   "id": "c0f20b4d-1554-4722-a3a9-575dc0793c02",
   "metadata": {},
   "outputs": [],
   "source": [
    "questions_multiple_choice = [question for question in questions if question.api_json['question']['type'] == 'multiple_choice']"
   ]
  },
  {
   "cell_type": "code",
   "execution_count": 6,
   "id": "d4666832-a6a9-4a39-9a24-d6957eb25ee2",
   "metadata": {},
   "outputs": [],
   "source": [
    "questions_numeric = [question for question in questions if question.api_json['question']['type'] == 'numeric']"
   ]
  },
  {
   "cell_type": "code",
   "execution_count": 7,
   "id": "bf88c61f-b466-4a60-8187-8184e33127ed",
   "metadata": {},
   "outputs": [
    {
     "data": {
      "text/plain": [
       "[684, 24, 136]"
      ]
     },
     "execution_count": 7,
     "metadata": {},
     "output_type": "execute_result"
    }
   ],
   "source": [
    "[len(x) for x in [questions_binary, questions_multiple_choice, questions_numeric]]"
   ]
  },
  {
   "cell_type": "markdown",
   "id": "8561c6a0-26e7-42b1-83af-1f93f96c0dca",
   "metadata": {},
   "source": [
    "## Community forecast"
   ]
  },
  {
   "cell_type": "code",
   "execution_count": 8,
   "id": "cbb4ac5c-1499-4b5a-ad48-de921cec919b",
   "metadata": {},
   "outputs": [],
   "source": [
    "from community_forecast import *"
   ]
  },
  {
   "cell_type": "code",
   "execution_count": 9,
   "id": "ebe818c7-c2cf-4333-96e7-95f61ebff5c5",
   "metadata": {},
   "outputs": [],
   "source": [
    "id_to_forecast = {question.api_json['id']: community_forecast(question) for question in questions}"
   ]
  },
  {
   "cell_type": "code",
   "execution_count": 43,
   "id": "a7272eb7-e48c-4597-b52b-2fca3f8a0f06",
   "metadata": {},
   "outputs": [],
   "source": [
    "id_to_question = {question.api_json['id']: question for question in questions}"
   ]
  },
  {
   "cell_type": "code",
   "execution_count": 10,
   "id": "902211e8-027c-4014-84ba-ecef01cbce9d",
   "metadata": {},
   "outputs": [
    {
     "data": {
      "text/plain": [
       "0.3"
      ]
     },
     "execution_count": 10,
     "metadata": {},
     "output_type": "execute_result"
    }
   ],
   "source": [
    "community_forecast(questions_binary[0])"
   ]
  },
  {
   "cell_type": "code",
   "execution_count": 11,
   "id": "6188308a-0c80-40b6-a9c8-501ff1ea2765",
   "metadata": {},
   "outputs": [
    {
     "data": {
      "text/plain": [
       "{'Repealed fully': 0.10645192307692308,\n",
       " 'Reduced incentives': 0.4792617521367521,\n",
       " 'Neither repealed nor reduced': 0.41428632478632477}"
      ]
     },
     "execution_count": 11,
     "metadata": {},
     "output_type": "execute_result"
    }
   ],
   "source": [
    "community_forecast(questions_multiple_choice[0])"
   ]
  },
  {
   "cell_type": "code",
   "execution_count": 12,
   "id": "e0d0dadb-7d3a-4dc4-8759-33b263fa5a7c",
   "metadata": {},
   "outputs": [
    {
     "data": {
      "text/plain": [
       "{10: 10526.717731180133,\n",
       " 20: 16559.874704040678,\n",
       " 40: 46037.69411359078,\n",
       " 60: 676388.0718683149,\n",
       " 80: 4783197.661904035,\n",
       " 90: 4956904.492983556}"
      ]
     },
     "execution_count": 12,
     "metadata": {},
     "output_type": "execute_result"
    }
   ],
   "source": [
    "community_forecast(questions_numeric[0])"
   ]
  },
  {
   "cell_type": "markdown",
   "id": "44c204ef-48f9-4914-8046-a59a9696dbb3",
   "metadata": {},
   "source": [
    "## 000 forecast"
   ]
  },
  {
   "cell_type": "code",
   "execution_count": 13,
   "id": "4880ac6e-e046-41e0-9e4d-a07bc2511f60",
   "metadata": {},
   "outputs": [],
   "source": [
    "import glob\n",
    "fns = glob.glob('forecast_community/*.md')"
   ]
  },
  {
   "cell_type": "code",
   "execution_count": 14,
   "id": "74bc3bc6-1476-4a33-9a10-961a7f46edb6",
   "metadata": {},
   "outputs": [
    {
     "data": {
      "text/plain": [
       "forecasting_tools.data_models.questions.NumericQuestion"
      ]
     },
     "execution_count": 14,
     "metadata": {},
     "output_type": "execute_result"
    }
   ],
   "source": [
    "type(questions_numeric[0])"
   ]
  },
  {
   "cell_type": "code",
   "execution_count": 15,
   "id": "f4ae73ca-4954-4dde-a879-c8f88e04f415",
   "metadata": {},
   "outputs": [],
   "source": [
    "fn = fns[0]"
   ]
  },
  {
   "cell_type": "code",
   "execution_count": 16,
   "id": "08970f07-d97e-4b63-80b3-fa1c02570e1c",
   "metadata": {},
   "outputs": [],
   "source": [
    "ids = [int(fn.split('/')[1].split('.')[0]) for fn in fns]"
   ]
  },
  {
   "cell_type": "code",
   "execution_count": 17,
   "id": "a12d098f-c18a-40c7-a83c-6fdc0d3fc05e",
   "metadata": {},
   "outputs": [],
   "source": [
    "forecasts = {id: open(f'forecast_community/{id}.md').read() for id in ids}"
   ]
  },
  {
   "cell_type": "code",
   "execution_count": 26,
   "id": "8e77d7c8-866a-413d-a57a-3bc861e9aeec",
   "metadata": {},
   "outputs": [],
   "source": [
    "community_ids = list(id_to_forecast.keys())"
   ]
  },
  {
   "cell_type": "code",
   "execution_count": 28,
   "id": "ee5fb45e-f2de-4323-a4cd-23764bbeefbe",
   "metadata": {},
   "outputs": [
    {
     "data": {
      "text/plain": [
       "int"
      ]
     },
     "execution_count": 28,
     "metadata": {},
     "output_type": "execute_result"
    }
   ],
   "source": [
    "type(community_ids[0])"
   ]
  },
  {
   "cell_type": "code",
   "execution_count": 29,
   "id": "b124946e-e78d-41dc-8067-b558562b9431",
   "metadata": {},
   "outputs": [],
   "source": [
    "forecast_ids = list(forecasts.keys())"
   ]
  },
  {
   "cell_type": "code",
   "execution_count": 39,
   "id": "93f6f9f6-a479-4fac-92e0-e4b6cf1f859c",
   "metadata": {},
   "outputs": [],
   "source": [
    "done = list(set(forecast_ids).intersection(community_ids))"
   ]
  },
  {
   "cell_type": "code",
   "execution_count": 72,
   "id": "f2d3dfcc-a469-42a7-9ef6-22153b61a3b1",
   "metadata": {},
   "outputs": [],
   "source": [
    "id = 26327\n",
    "question = id_to_question[id]"
   ]
  },
  {
   "cell_type": "code",
   "execution_count": 76,
   "id": "652cd3ee-3895-4e74-8b76-ddc2305b1e57",
   "metadata": {},
   "outputs": [
    {
     "data": {
      "text/plain": [
       "'The measles outbreak in the United States in 2025 is unfolding against a backdrop of rising case counts, persistent clusters in under-vaccinated communities, and significant concerns about the sustainability of public health containment. As of late May, there are 1,046 confirmed cases distributed across 30 states, already marking this year as the second-highest annual total in a quarter-century and far surpassing previous years except for the 2019 peak. The majority of cases—over 90%—are associated with discrete outbreaks, with the largest centered in Texas, New Mexico, and Oklahoma, collectively accounting for approximately 82% of all cases so far. Most affected individuals are unvaccinated or have unknown vaccination status, leaving many communities vulnerable to ongoing transmission.\\n\\nThe current trajectory shows about 6.8 new cases per day between mid-April and late May, which, if it continues, would project an additional 1,300 to 1,500 cases by year-end, bringing the likely total to around 2,300 to 2,500 cases. Epidemiological modeling and expert opinion indicate that, unless there are significant improvements in vaccination rates, the U.S. remains at risk for sustained or even endemic measles transmission over the coming decades.\\n\\nExpert concern is amplified by the connectivity of outbreaks, often linked to travel, large public events, and cross-border transmission. Notably, exposure events such as large concerts (e.g., the Shakira concert in New Jersey) pose heightened risk for further spread, especially among clusters of undervaccinated individuals. Additionally, the parallel outbreak in Mexico—with over 1,600 cases—raises the threat of further importation into U.S. border regions, which could catalyze new outbreaks in susceptible communities.\\n\\nWhile the current data suggest a continued rise in cases, the trajectory is not fixed. Should state and federal public health agencies implement and enforce robust interventions—such as emergency vaccination campaigns, targeted outreach in outbreak hotspots, and rapid contact tracing—there is potential to substantially slow transmission. A swift and high-coverage response, particularly in the areas currently most affected, could limit the final tally to 1,300–1,500 cases if no major new outbreaks emerge and existing clusters are contained.\\n\\nOn the other hand, if containment measures falter, vaccination uptake continues to lag, or new clusters are seeded by super-spreader events or cross-border transmissions, the epidemic could accelerate, with total cases potentially exceeding 3,000 by year-end. Seasonal factors, like summer school breaks, may temporarily reduce spread, but the resumption of school activities in the fall could reignite transmission in vulnerable populations.\\n\\nIn summary, the outlook for U.S. measles cases in 2025 hinges on the interplay between persistent outbreak propagation in undervaccinated communities, the efficacy and speed of public health interventions, the impact of large-scale exposure events, and the risk of imported cases from international hotspots. The most plausible range for total cases reflects these competing forces, with a wide but upward-skewed distribution shaped by current outbreak dynamics and historical responses.\\n\\n### Forecast\\n\\n10: 1300.0\\n20: 1500.0\\n40: 1700.0\\n60: 1950.0\\n80: 2400.0\\n90: 3000.0\\n11: 1320.0\\n12: 1340.0\\n13: 1360.0\\n14: 1380.0\\n15: 1400.0\\n16: 1420.0\\n17: 1440.0\\n18: 1460.0\\n19: 1480.0\\n21: 1510.0\\n22: 1520.0\\n23: 1530.0\\n24: 1540.0\\n25: 1550.0\\n26: 1560.0\\n27: 1570.0\\n28: 1580.0\\n29: 1590.0\\n30: 1600.0\\n31: 1610.0\\n32: 1620.0\\n33: 1630.0\\n34: 1640.0\\n35: 1650.0\\n36: 1660.0\\n37: 1670.0\\n38: 1680.0\\n39: 1690.0\\n41: 1712.5\\n42: 1725.0\\n43: 1737.5\\n44: 1750.0\\n45: 1762.5\\n46: 1775.0\\n47: 1787.5\\n48: 1800.0\\n49: 1812.5\\n50: 1825.0\\n51: 1837.5\\n52: 1850.0\\n53: 1862.5\\n54: 1875.0\\n55: 1887.5\\n56: 1900.0\\n57: 1912.5\\n58: 1925.0\\n59: 1937.5\\n61: 1967.5\\n62: 1985.0\\n63: 2002.5\\n64: 2020.0\\n65: 2037.5\\n66: 2055.0\\n67: 2075.0\\n68: 2100.0\\n69: 2125.0\\n70: 2150.0\\n71: 2175.0\\n72: 2200.0\\n73: 2225.0\\n74: 2250.0\\n75: 2275.0\\n76: 2300.0\\n77: 2325.0\\n78: 2350.0\\n79: 2375.0\\n81: 2460.0\\n82: 2520.0\\n83: 2580.0\\n84: 2640.0\\n85: 2700.0\\n86: 2760.0\\n87: 2820.0\\n88: 2880.0\\n89: 2940.0'"
      ]
     },
     "execution_count": 76,
     "metadata": {},
     "output_type": "execute_result"
    }
   ],
   "source": [
    "forecasts[id]"
   ]
  },
  {
   "cell_type": "code",
   "execution_count": 74,
   "id": "b476dfca-19b2-4852-b254-e4beb26b897a",
   "metadata": {},
   "outputs": [],
   "source": [
    "from extract_forecast import *\n",
    "\n",
    "def extract_only_forecast(id):\n",
    "    question = id_to_question[id]\n",
    "    question_type = type(question)\n",
    "    forecast = forecasts[id]\n",
    "    if question_type == forecasting_tools.data_models.questions.BinaryQuestion:\n",
    "        prediction = extract_probability_from_response_as_percentage_not_decimal(forecast)/100.0\n",
    "    elif question_type == forecasting_tools.data_models.questions.MultipleChoiceQuestion:\n",
    "        options = question.options\n",
    "        option_probabilities = extract_option_probabilities_from_response(forecast, options)\n",
    "        prediction = generate_multiple_choice_forecast(options, option_probabilities)\n",
    "    elif question_type == forecasting_tools.data_models.questions.NumericQuestion:\n",
    "        prediction = extract_percentiles_from_response(forecast)\n",
    "    return prediction"
   ]
  },
  {
   "cell_type": "code",
   "execution_count": 75,
   "id": "53b7374f-ee0f-4776-ab38-d5bc20931f09",
   "metadata": {},
   "outputs": [
    {
     "name": "stdout",
     "output_type": "stream",
     "text": [
      "extracting percentile 10 value 1300.0\n",
      "extracting percentile 20 value 1500.0\n",
      "extracting percentile 40 value 1700.0\n",
      "extracting percentile 60 value 1950.0\n",
      "extracting percentile 80 value 2400.0\n",
      "extracting percentile 90 value 3000.0\n",
      "extracting percentile 11 value 1320.0\n",
      "extracting percentile 12 value 1340.0\n",
      "extracting percentile 13 value 1360.0\n",
      "extracting percentile 14 value 1380.0\n",
      "extracting percentile 15 value 1400.0\n",
      "extracting percentile 16 value 1420.0\n",
      "extracting percentile 17 value 1440.0\n",
      "extracting percentile 18 value 1460.0\n",
      "extracting percentile 19 value 1480.0\n",
      "extracting percentile 21 value 1510.0\n",
      "extracting percentile 22 value 1520.0\n",
      "extracting percentile 23 value 1530.0\n",
      "extracting percentile 24 value 1540.0\n",
      "extracting percentile 25 value 1550.0\n",
      "extracting percentile 26 value 1560.0\n",
      "extracting percentile 27 value 1570.0\n",
      "extracting percentile 28 value 1580.0\n",
      "extracting percentile 29 value 1590.0\n",
      "extracting percentile 30 value 1600.0\n",
      "extracting percentile 31 value 1610.0\n",
      "extracting percentile 32 value 1620.0\n",
      "extracting percentile 33 value 1630.0\n",
      "extracting percentile 34 value 1640.0\n",
      "extracting percentile 35 value 1650.0\n",
      "extracting percentile 36 value 1660.0\n",
      "extracting percentile 37 value 1670.0\n",
      "extracting percentile 38 value 1680.0\n",
      "extracting percentile 39 value 1690.0\n",
      "extracting percentile 41 value 1712.5\n",
      "extracting percentile 42 value 1725.0\n",
      "extracting percentile 43 value 1737.5\n",
      "extracting percentile 44 value 1750.0\n",
      "extracting percentile 45 value 1762.5\n",
      "extracting percentile 46 value 1775.0\n",
      "extracting percentile 47 value 1787.5\n",
      "extracting percentile 48 value 1800.0\n",
      "extracting percentile 49 value 1812.5\n",
      "extracting percentile 50 value 1825.0\n",
      "extracting percentile 51 value 1837.5\n",
      "extracting percentile 52 value 1850.0\n",
      "extracting percentile 53 value 1862.5\n",
      "extracting percentile 54 value 1875.0\n",
      "extracting percentile 55 value 1887.5\n",
      "extracting percentile 56 value 1900.0\n",
      "extracting percentile 57 value 1912.5\n",
      "extracting percentile 58 value 1925.0\n",
      "extracting percentile 59 value 1937.5\n",
      "extracting percentile 61 value 1967.5\n",
      "extracting percentile 62 value 1985.0\n",
      "extracting percentile 63 value 2002.5\n",
      "extracting percentile 64 value 2020.0\n",
      "extracting percentile 65 value 2037.5\n",
      "extracting percentile 66 value 2055.0\n",
      "extracting percentile 67 value 2075.0\n",
      "extracting percentile 68 value 2100.0\n",
      "extracting percentile 69 value 2125.0\n",
      "extracting percentile 70 value 2150.0\n",
      "extracting percentile 71 value 2175.0\n",
      "extracting percentile 72 value 2200.0\n",
      "extracting percentile 73 value 2225.0\n",
      "extracting percentile 74 value 2250.0\n",
      "extracting percentile 75 value 2275.0\n",
      "extracting percentile 76 value 2300.0\n",
      "extracting percentile 77 value 2325.0\n",
      "extracting percentile 78 value 2350.0\n",
      "extracting percentile 79 value 2375.0\n",
      "extracting percentile 81 value 2460.0\n",
      "extracting percentile 82 value 2520.0\n",
      "extracting percentile 83 value 2580.0\n",
      "extracting percentile 84 value 2640.0\n",
      "extracting percentile 85 value 2700.0\n",
      "extracting percentile 86 value 2760.0\n",
      "extracting percentile 87 value 2820.0\n",
      "extracting percentile 88 value 2880.0\n",
      "extracting percentile 89 value 2940.0\n"
     ]
    },
    {
     "data": {
      "text/plain": [
       "{10: 1300.0,\n",
       " 20: 1500.0,\n",
       " 40: 1700.0,\n",
       " 60: 1950.0,\n",
       " 80: 2400.0,\n",
       " 90: 3000.0,\n",
       " 11: 1320.0,\n",
       " 12: 1340.0,\n",
       " 13: 1360.0,\n",
       " 14: 1380.0,\n",
       " 15: 1400.0,\n",
       " 16: 1420.0,\n",
       " 17: 1440.0,\n",
       " 18: 1460.0,\n",
       " 19: 1480.0,\n",
       " 21: 1510.0,\n",
       " 22: 1520.0,\n",
       " 23: 1530.0,\n",
       " 24: 1540.0,\n",
       " 25: 1550.0,\n",
       " 26: 1560.0,\n",
       " 27: 1570.0,\n",
       " 28: 1580.0,\n",
       " 29: 1590.0,\n",
       " 30: 1600.0,\n",
       " 31: 1610.0,\n",
       " 32: 1620.0,\n",
       " 33: 1630.0,\n",
       " 34: 1640.0,\n",
       " 35: 1650.0,\n",
       " 36: 1660.0,\n",
       " 37: 1670.0,\n",
       " 38: 1680.0,\n",
       " 39: 1690.0,\n",
       " 41: 1712.5,\n",
       " 42: 1725.0,\n",
       " 43: 1737.5,\n",
       " 44: 1750.0,\n",
       " 45: 1762.5,\n",
       " 46: 1775.0,\n",
       " 47: 1787.5,\n",
       " 48: 1800.0,\n",
       " 49: 1812.5,\n",
       " 50: 1825.0,\n",
       " 51: 1837.5,\n",
       " 52: 1850.0,\n",
       " 53: 1862.5,\n",
       " 54: 1875.0,\n",
       " 55: 1887.5,\n",
       " 56: 1900.0,\n",
       " 57: 1912.5,\n",
       " 58: 1925.0,\n",
       " 59: 1937.5,\n",
       " 61: 1967.5,\n",
       " 62: 1985.0,\n",
       " 63: 2002.5,\n",
       " 64: 2020.0,\n",
       " 65: 2037.5,\n",
       " 66: 2055.0,\n",
       " 67: 2075.0,\n",
       " 68: 2100.0,\n",
       " 69: 2125.0,\n",
       " 70: 2150.0,\n",
       " 71: 2175.0,\n",
       " 72: 2200.0,\n",
       " 73: 2225.0,\n",
       " 74: 2250.0,\n",
       " 75: 2275.0,\n",
       " 76: 2300.0,\n",
       " 77: 2325.0,\n",
       " 78: 2350.0,\n",
       " 79: 2375.0,\n",
       " 81: 2460.0,\n",
       " 82: 2520.0,\n",
       " 83: 2580.0,\n",
       " 84: 2640.0,\n",
       " 85: 2700.0,\n",
       " 86: 2760.0,\n",
       " 87: 2820.0,\n",
       " 88: 2880.0,\n",
       " 89: 2940.0}"
      ]
     },
     "execution_count": 75,
     "metadata": {},
     "output_type": "execute_result"
    }
   ],
   "source": [
    "import forecasting_tools\n",
    "extract_only_forecast(id)"
   ]
  },
  {
   "cell_type": "code",
   "execution_count": null,
   "id": "0ca59d9d-97df-44c9-9a3c-50a131a219b9",
   "metadata": {},
   "outputs": [],
   "source": [
    "for id in done:\n",
    "    print(id)\n",
    "    print(extract_only_forecast(id))"
   ]
  },
  {
   "cell_type": "code",
   "execution_count": null,
   "id": "6943de7f-d6e9-4374-a715-e92d6f9780c9",
   "metadata": {},
   "outputs": [],
   "source": [
    "predictions = {id: extract_only_forecast(id, txt) for id,txt in forecasts.items()}"
   ]
  },
  {
   "cell_type": "markdown",
   "id": "2cb76940-921d-4217-bbf4-cf85685f6ebb",
   "metadata": {},
   "source": [
    "## Forecast missing questions"
   ]
  },
  {
   "cell_type": "code",
   "execution_count": 82,
   "id": "f6023c1d-01c8-42e9-8f3b-e8891020310c",
   "metadata": {},
   "outputs": [],
   "source": [
    "missing = list(sorted(set(community_ids).difference(forecast_ids)))"
   ]
  },
  {
   "cell_type": "code",
   "execution_count": 83,
   "id": "9a62eabd-8be8-446b-9d05-328b67b03743",
   "metadata": {},
   "outputs": [
    {
     "data": {
      "text/plain": [
       "769"
      ]
     },
     "execution_count": 83,
     "metadata": {},
     "output_type": "execute_result"
    }
   ],
   "source": [
    "len(missing)"
   ]
  },
  {
   "cell_type": "code",
   "execution_count": 84,
   "id": "16fda13b-42e8-407d-8d3a-35689b4a640c",
   "metadata": {},
   "outputs": [
    {
     "data": {
      "text/plain": [
       "604"
      ]
     },
     "execution_count": 84,
     "metadata": {},
     "output_type": "execute_result"
    }
   ],
   "source": [
    "missing[0]"
   ]
  },
  {
   "cell_type": "code",
   "execution_count": 81,
   "id": "812abb43-645c-4bf0-b3d5-0174929a8ea2",
   "metadata": {},
   "outputs": [],
   "source": [
    "from forecast import forecast"
   ]
  },
  {
   "cell_type": "code",
   "execution_count": 89,
   "id": "e4990ae8-d23b-4eb5-ab1b-e4adcd7576f0",
   "metadata": {},
   "outputs": [],
   "source": [
    "num_questions = (missing[0], missing[0]+1)\n",
    "perennial = False\n",
    "live = False"
   ]
  },
  {
   "cell_type": "code",
   "execution_count": 90,
   "id": "841234d8-0863-4d32-9aed-36a8bd36c4e8",
   "metadata": {},
   "outputs": [
    {
     "name": "stdout",
     "output_type": "stream",
     "text": [
      "Got 2 questions\n",
      "Loaded existing index from forecast_index.faiss\n",
      "Index contains 4656 vectors at initialization\n",
      "=== Starting Forecast ===\n",
      "###################################################################\n",
      "Combined forecast for 605\n"
     ]
    },
    {
     "name": "stderr",
     "output_type": "stream",
     "text": [
      "100%|█████████████████████████████████████████████| 5/5 [01:21<00:00, 16.39s/it]"
     ]
    },
    {
     "name": "stdout",
     "output_type": "stream",
     "text": [
      "extracting percentile 10 value 2.1\n",
      "extracting percentile 20 value 2.4\n",
      "extracting percentile 40 value 2.7\n",
      "extracting percentile 60 value 2.9\n",
      "extracting percentile 80 value 3.3\n",
      "extracting percentile 90 value 3.6\n",
      "extracting percentile 10 value 2.1\n",
      "extracting percentile 20 value 2.3\n",
      "extracting percentile 40 value 2.6\n",
      "extracting percentile 60 value 2.9\n",
      "extracting percentile 80 value 3.3\n",
      "extracting percentile 90 value 3.6\n",
      "extracting percentile 10 value 1.9\n",
      "extracting percentile 20 value 2.2\n",
      "extracting percentile 40 value 2.6\n",
      "extracting percentile 60 value 2.9\n",
      "extracting percentile 80 value 3.3\n",
      "extracting percentile 90 value 3.6\n",
      "extracting percentile 10 value 2.0\n",
      "extracting percentile 20 value 2.3\n",
      "extracting percentile 40 value 2.6\n",
      "extracting percentile 60 value 2.9\n",
      "extracting percentile 80 value 3.3\n",
      "extracting percentile 90 value 3.6\n"
     ]
    },
    {
     "name": "stderr",
     "output_type": "stream",
     "text": [
      "\n"
     ]
    },
    {
     "ename": "KeyError",
     "evalue": "10",
     "output_type": "error",
     "traceback": [
      "\u001b[31m---------------------------------------------------------------------------\u001b[39m",
      "\u001b[31mKeyError\u001b[39m                                  Traceback (most recent call last)",
      "\u001b[36mCell\u001b[39m\u001b[36m \u001b[39m\u001b[32mIn[90]\u001b[39m\u001b[32m, line 1\u001b[39m\n\u001b[32m----> \u001b[39m\u001b[32m1\u001b[39m results = \u001b[43mforecast\u001b[49m\u001b[43m(\u001b[49m\u001b[43mnum_questions\u001b[49m\u001b[43m \u001b[49m\u001b[43m=\u001b[49m\u001b[43m \u001b[49m\u001b[43mnum_questions\u001b[49m\u001b[43m,\u001b[49m\u001b[43m \u001b[49m\u001b[43mperennial\u001b[49m\u001b[43m \u001b[49m\u001b[43m=\u001b[49m\u001b[43m \u001b[49m\u001b[43mperennial\u001b[49m\u001b[43m,\u001b[49m\u001b[43m \u001b[49m\u001b[43mlive\u001b[49m\u001b[43m=\u001b[49m\u001b[38;5;28;43;01mFalse\u001b[39;49;00m\u001b[43m)\u001b[49m\n",
      "\u001b[36mFile \u001b[39m\u001b[32m~/Desktop/q2ai/metac-bot-template/forecast.py:16\u001b[39m, in \u001b[36mforecast\u001b[39m\u001b[34m(num_questions, perennial, live)\u001b[39m\n\u001b[32m     13\u001b[39m df, rag = gather_research_and_set_prompt(df, live)\n\u001b[32m     15\u001b[39m \u001b[38;5;28;01mfrom\u001b[39;00m\u001b[38;5;250m \u001b[39m\u001b[34;01mgenerate_forecasts_and_update_rag\u001b[39;00m\u001b[38;5;250m \u001b[39m\u001b[38;5;28;01mimport\u001b[39;00m generate_forecasts_and_update_rag\n\u001b[32m---> \u001b[39m\u001b[32m16\u001b[39m df = \u001b[43mgenerate_forecasts_and_update_rag\u001b[49m\u001b[43m(\u001b[49m\u001b[43mdf\u001b[49m\u001b[43m,\u001b[49m\u001b[43m \u001b[49m\u001b[43mrag\u001b[49m\u001b[43m,\u001b[49m\u001b[43m \u001b[49m\u001b[43mlive\u001b[49m\u001b[43m)\u001b[49m\n\u001b[32m     18\u001b[39m \u001b[38;5;28;01mfrom\u001b[39;00m\u001b[38;5;250m \u001b[39m\u001b[34;01mpost_forecasts\u001b[39;00m\u001b[38;5;250m \u001b[39m\u001b[38;5;28;01mimport\u001b[39;00m post_forecasts\n\u001b[32m     19\u001b[39m \u001b[38;5;28;01mreturn\u001b[39;00m post_forecasts(df, perennial, live)\n",
      "\u001b[36mFile \u001b[39m\u001b[32m~/Desktop/q2ai/metac-bot-template/generate_forecasts_and_update_rag.py:41\u001b[39m, in \u001b[36mgenerate_forecasts_and_update_rag\u001b[39m\u001b[34m(df, rag, live)\u001b[39m\n\u001b[32m     38\u001b[39m rag.add_to_index(row[\u001b[33m'\u001b[39m\u001b[33mresearch\u001b[39m\u001b[33m'\u001b[39m], row[\u001b[33m'\u001b[39m\u001b[33mid_of_question\u001b[39m\u001b[33m'\u001b[39m])\n\u001b[32m     39\u001b[39m context, indices = rag.retrieve_context(row[\u001b[33m'\u001b[39m\u001b[33mtitle\u001b[39m\u001b[33m'\u001b[39m])\n\u001b[32m---> \u001b[39m\u001b[32m41\u001b[39m row[\u001b[33m'\u001b[39m\u001b[33mforecast\u001b[39m\u001b[33m'\u001b[39m] = \u001b[43mpredict\u001b[49m\u001b[43m(\u001b[49m\u001b[33;43m'\u001b[39;49m\u001b[33;43mforecast_community\u001b[39;49m\u001b[33;43m'\u001b[39;49m\u001b[43m,\u001b[49m\u001b[43m \u001b[49m\u001b[43mrow\u001b[49m\u001b[43m)\u001b[49m\n\u001b[32m     42\u001b[39m df.at[idx, \u001b[33m'\u001b[39m\u001b[33mforecast\u001b[39m\u001b[33m'\u001b[39m] = row.forecast\n\u001b[32m     44\u001b[39m row[\u001b[33m'\u001b[39m\u001b[33mused_indices\u001b[39m\u001b[33m'\u001b[39m] = indices\n",
      "\u001b[36mFile \u001b[39m\u001b[32m~/Desktop/q2ai/metac-bot-template/predict.py:18\u001b[39m, in \u001b[36mpredict\u001b[39m\u001b[34m(dfn, question, iterations)\u001b[39m\n\u001b[32m     15\u001b[39m \u001b[38;5;28;01melse\u001b[39;00m:\n\u001b[32m     16\u001b[39m     \u001b[38;5;66;03m# Generate new forecast\u001b[39;00m\n\u001b[32m     17\u001b[39m     api_key = os.getenv(\u001b[33m'\u001b[39m\u001b[33mPERPLEXITY_API_KEY\u001b[39m\u001b[33m'\u001b[39m)\n\u001b[32m---> \u001b[39m\u001b[32m18\u001b[39m     forecast = \u001b[43mcombined_forecast\u001b[49m\u001b[43m(\u001b[49m\u001b[43mquestion\u001b[49m\u001b[43m,\u001b[49m\u001b[43m \u001b[49m\u001b[43miterations\u001b[49m\u001b[43m)\u001b[49m\n\u001b[32m     19\u001b[39m     \u001b[38;5;28;01mwith\u001b[39;00m \u001b[38;5;28mopen\u001b[39m(ffn, \u001b[33m'\u001b[39m\u001b[33mw\u001b[39m\u001b[33m'\u001b[39m) \u001b[38;5;28;01mas\u001b[39;00m f:\n\u001b[32m     20\u001b[39m         f.write(forecast)\n",
      "\u001b[36mFile \u001b[39m\u001b[32m~/Desktop/q2ai/metac-bot-template/combined_forecast.py:25\u001b[39m, in \u001b[36mcombined_forecast\u001b[39m\u001b[34m(question, iterations)\u001b[39m\n\u001b[32m     23\u001b[39m     comment = \u001b[33mf\u001b[39m\u001b[33m\"\u001b[39m\u001b[33m### Probability: \u001b[39m\u001b[38;5;132;01m{\u001b[39;00m\u001b[38;5;28mint\u001b[39m(prediction*\u001b[32m100\u001b[39m)\u001b[38;5;132;01m}\u001b[39;00m\u001b[33m%\u001b[39m\u001b[33m\"\u001b[39m\n\u001b[32m     24\u001b[39m \u001b[38;5;28;01melif\u001b[39;00m question.question_type == \u001b[33m'\u001b[39m\u001b[33mnumeric\u001b[39m\u001b[33m'\u001b[39m:\n\u001b[32m---> \u001b[39m\u001b[32m25\u001b[39m     prediction = \u001b[43mmedian_dictionaries\u001b[49m\u001b[43m(\u001b[49m\u001b[43mpredictions\u001b[49m\u001b[43m)\u001b[49m\n\u001b[32m     26\u001b[39m     comment = format_multiple_choices(prediction)\n\u001b[32m     27\u001b[39m \u001b[38;5;28;01melse\u001b[39;00m:\n",
      "\u001b[36mFile \u001b[39m\u001b[32m~/Desktop/q2ai/metac-bot-template/median_dictionaries.py:7\u001b[39m, in \u001b[36mmedian_dictionaries\u001b[39m\u001b[34m(D)\u001b[39m\n\u001b[32m      5\u001b[39m avg = {}\n\u001b[32m      6\u001b[39m \u001b[38;5;28;01mfor\u001b[39;00m option \u001b[38;5;129;01min\u001b[39;00m options:\n\u001b[32m----> \u001b[39m\u001b[32m7\u001b[39m     avg[option] = np.median([\u001b[43md\u001b[49m\u001b[43m[\u001b[49m\u001b[43moption\u001b[49m\u001b[43m]\u001b[49m \u001b[38;5;28;01mfor\u001b[39;00m d \u001b[38;5;129;01min\u001b[39;00m D])\n\u001b[32m      8\u001b[39m \u001b[38;5;28;01mreturn\u001b[39;00m avg\n",
      "\u001b[31mKeyError\u001b[39m: 10"
     ]
    }
   ],
   "source": [
    "results = forecast(num_questions = num_questions, perennial = perennial, live=False)"
   ]
  },
  {
   "cell_type": "code",
   "execution_count": null,
   "id": "f602c64f-6e7f-443a-868c-729241d26482",
   "metadata": {},
   "outputs": [],
   "source": []
  }
 ],
 "metadata": {
  "kernelspec": {
   "display_name": "Python 3 (ipykernel)",
   "language": "python",
   "name": "python3"
  },
  "language_info": {
   "codemirror_mode": {
    "name": "ipython",
    "version": 3
   },
   "file_extension": ".py",
   "mimetype": "text/x-python",
   "name": "python",
   "nbconvert_exporter": "python",
   "pygments_lexer": "ipython3",
   "version": "3.12.3"
  }
 },
 "nbformat": 4,
 "nbformat_minor": 5
}
