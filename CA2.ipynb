{
 "cells": [
  {
   "cell_type": "markdown",
   "id": "c1f27471-5886-4bc2-acdf-2dac9cf49676",
   "metadata": {},
   "source": [
    "# Community alignment of training questions"
   ]
  },
  {
   "cell_type": "markdown",
   "id": "50d47902-1f71-4794-9bfa-0a9a9756598a",
   "metadata": {},
   "source": [
    "## Imports"
   ]
  },
  {
   "cell_type": "code",
   "execution_count": null,
   "id": "2a228aa4-f04f-4e92-9989-d4d1e9cc33b5",
   "metadata": {},
   "outputs": [],
   "source": [
    "%matplotlib inline\n",
    "import matplotlib.pyplot as plt"
   ]
  },
  {
   "cell_type": "markdown",
   "id": "9ed28a2c-287a-4ce0-939a-0bbd57bc2fb9",
   "metadata": {},
   "source": [
    "## Question sample"
   ]
  },
  {
   "cell_type": "code",
   "execution_count": null,
   "id": "66721152-d243-42b5-b5f4-e4caeb071dda",
   "metadata": {},
   "outputs": [],
   "source": [
    "from forecasting_tools import MetaculusApi, ApiFilter\n",
    "from datetime import datetime, timedelta\n",
    "import glob, joblib, os"
   ]
  },
  {
   "cell_type": "code",
   "execution_count": null,
   "id": "17d6bc41-680c-494a-a9d5-82eb399a09f2",
   "metadata": {},
   "outputs": [],
   "source": [
    "from load_forecasted_open_questions import load_forecasted_open_questions"
   ]
  },
  {
   "cell_type": "code",
   "execution_count": null,
   "id": "477984cb-3550-4a88-b892-a0a9d091841a",
   "metadata": {},
   "outputs": [],
   "source": [
    "num_questions = (0,100000)"
   ]
  },
  {
   "cell_type": "code",
   "execution_count": null,
   "id": "eb82340e-268d-4621-9969-3b7995162739",
   "metadata": {},
   "outputs": [],
   "source": [
    "questions = load_forecasted_open_questions(num_questions)"
   ]
  },
  {
   "cell_type": "code",
   "execution_count": null,
   "id": "7c2cef39-e872-4152-97cb-6b95587f6386",
   "metadata": {},
   "outputs": [],
   "source": [
    "questions_binary = [question for question in questions if question.api_json['question']['type'] == 'binary']"
   ]
  },
  {
   "cell_type": "code",
   "execution_count": null,
   "id": "c0f20b4d-1554-4722-a3a9-575dc0793c02",
   "metadata": {},
   "outputs": [],
   "source": [
    "questions_multiple_choice = [question for question in questions if question.api_json['question']['type'] == 'multiple_choice']"
   ]
  },
  {
   "cell_type": "code",
   "execution_count": null,
   "id": "d4666832-a6a9-4a39-9a24-d6957eb25ee2",
   "metadata": {},
   "outputs": [],
   "source": [
    "questions_numeric = [question for question in questions if question.api_json['question']['type'] == 'numeric']"
   ]
  },
  {
   "cell_type": "code",
   "execution_count": null,
   "id": "bf88c61f-b466-4a60-8187-8184e33127ed",
   "metadata": {},
   "outputs": [],
   "source": [
    "[len(x) for x in [questions_binary, questions_multiple_choice, questions_numeric]]"
   ]
  },
  {
   "cell_type": "markdown",
   "id": "8561c6a0-26e7-42b1-83af-1f93f96c0dca",
   "metadata": {},
   "source": [
    "## Community forecast"
   ]
  },
  {
   "cell_type": "code",
   "execution_count": null,
   "id": "cbb4ac5c-1499-4b5a-ad48-de921cec919b",
   "metadata": {},
   "outputs": [],
   "source": [
    "from community_forecast import *"
   ]
  },
  {
   "cell_type": "code",
   "execution_count": null,
   "id": "ebe818c7-c2cf-4333-96e7-95f61ebff5c5",
   "metadata": {},
   "outputs": [],
   "source": [
    "id_to_forecast = {question.api_json['id']: community_forecast(question) for question in questions}"
   ]
  },
  {
   "cell_type": "code",
   "execution_count": null,
   "id": "a7272eb7-e48c-4597-b52b-2fca3f8a0f06",
   "metadata": {},
   "outputs": [],
   "source": [
    "id_to_question = {question.api_json['id']: question for question in questions}"
   ]
  },
  {
   "cell_type": "code",
   "execution_count": null,
   "id": "902211e8-027c-4014-84ba-ecef01cbce9d",
   "metadata": {},
   "outputs": [],
   "source": [
    "community_forecast(questions_binary[0])"
   ]
  },
  {
   "cell_type": "code",
   "execution_count": null,
   "id": "6188308a-0c80-40b6-a9c8-501ff1ea2765",
   "metadata": {},
   "outputs": [],
   "source": [
    "community_forecast(questions_multiple_choice[0])"
   ]
  },
  {
   "cell_type": "code",
   "execution_count": null,
   "id": "a3721913-6689-4cfc-8ef8-220b947f5d2a",
   "metadata": {},
   "outputs": [],
   "source": [
    "questions_multiple_choice[0].api_json['id']"
   ]
  },
  {
   "cell_type": "code",
   "execution_count": null,
   "id": "e0d0dadb-7d3a-4dc4-8759-33b263fa5a7c",
   "metadata": {},
   "outputs": [],
   "source": [
    "community_forecast(questions_numeric[0])"
   ]
  },
  {
   "cell_type": "markdown",
   "id": "44c204ef-48f9-4914-8046-a59a9696dbb3",
   "metadata": {},
   "source": [
    "## 000 forecast"
   ]
  },
  {
   "cell_type": "code",
   "execution_count": null,
   "id": "4880ac6e-e046-41e0-9e4d-a07bc2511f60",
   "metadata": {},
   "outputs": [],
   "source": [
    "import glob\n",
    "fns = glob.glob('forecast_community/*.md')"
   ]
  },
  {
   "cell_type": "code",
   "execution_count": null,
   "id": "74bc3bc6-1476-4a33-9a10-961a7f46edb6",
   "metadata": {},
   "outputs": [],
   "source": [
    "type(questions_numeric[0])"
   ]
  },
  {
   "cell_type": "code",
   "execution_count": null,
   "id": "f4ae73ca-4954-4dde-a879-c8f88e04f415",
   "metadata": {},
   "outputs": [],
   "source": [
    "fn = fns[0]"
   ]
  },
  {
   "cell_type": "code",
   "execution_count": null,
   "id": "08970f07-d97e-4b63-80b3-fa1c02570e1c",
   "metadata": {},
   "outputs": [],
   "source": [
    "ids = [int(fn.split('/')[1].split('.')[0]) for fn in fns]"
   ]
  },
  {
   "cell_type": "code",
   "execution_count": null,
   "id": "a12d098f-c18a-40c7-a83c-6fdc0d3fc05e",
   "metadata": {},
   "outputs": [],
   "source": [
    "forecasts = {id: open(f'forecast_community/{id}.md').read() for id in ids}"
   ]
  },
  {
   "cell_type": "code",
   "execution_count": null,
   "id": "8e77d7c8-866a-413d-a57a-3bc861e9aeec",
   "metadata": {},
   "outputs": [],
   "source": [
    "community_ids = list(id_to_forecast.keys())"
   ]
  },
  {
   "cell_type": "code",
   "execution_count": null,
   "id": "ee5fb45e-f2de-4323-a4cd-23764bbeefbe",
   "metadata": {},
   "outputs": [],
   "source": [
    "type(community_ids[0])"
   ]
  },
  {
   "cell_type": "code",
   "execution_count": null,
   "id": "b124946e-e78d-41dc-8067-b558562b9431",
   "metadata": {},
   "outputs": [],
   "source": [
    "forecast_ids = list(forecasts.keys())"
   ]
  },
  {
   "cell_type": "code",
   "execution_count": null,
   "id": "93f6f9f6-a479-4fac-92e0-e4b6cf1f859c",
   "metadata": {},
   "outputs": [],
   "source": [
    "done = list(set(forecast_ids).intersection(community_ids))"
   ]
  },
  {
   "cell_type": "code",
   "execution_count": null,
   "id": "f2d3dfcc-a469-42a7-9ef6-22153b61a3b1",
   "metadata": {},
   "outputs": [],
   "source": [
    "id = 26327\n",
    "question = id_to_question[id]"
   ]
  },
  {
   "cell_type": "code",
   "execution_count": null,
   "id": "652cd3ee-3895-4e74-8b76-ddc2305b1e57",
   "metadata": {},
   "outputs": [],
   "source": [
    "forecasts[id]"
   ]
  },
  {
   "cell_type": "code",
   "execution_count": null,
   "id": "b476dfca-19b2-4852-b254-e4beb26b897a",
   "metadata": {},
   "outputs": [],
   "source": [
    "from extract_forecast import *\n",
    "\n",
    "def extract_only_forecast(id):\n",
    "    question = id_to_question[id]\n",
    "    question_type = type(question)\n",
    "    forecast = forecasts[id]\n",
    "    if question_type == forecasting_tools.data_models.questions.BinaryQuestion:\n",
    "        prediction = extract_probability_from_response_as_percentage_not_decimal(forecast)/100.0\n",
    "    elif question_type == forecasting_tools.data_models.questions.MultipleChoiceQuestion:\n",
    "        options = question.options\n",
    "        option_probabilities = extract_option_probabilities_from_response(forecast, options)\n",
    "        prediction = generate_multiple_choice_forecast(options, option_probabilities)\n",
    "    elif question_type == forecasting_tools.data_models.questions.NumericQuestion:\n",
    "        prediction = extract_percentiles_from_response(forecast)\n",
    "    return prediction"
   ]
  },
  {
   "cell_type": "code",
   "execution_count": null,
   "id": "53b7374f-ee0f-4776-ab38-d5bc20931f09",
   "metadata": {},
   "outputs": [],
   "source": [
    "import forecasting_tools\n",
    "extract_only_forecast(id)"
   ]
  },
  {
   "cell_type": "code",
   "execution_count": null,
   "id": "0ca59d9d-97df-44c9-9a3c-50a131a219b9",
   "metadata": {},
   "outputs": [],
   "source": [
    "for id in done:\n",
    "    print(id)\n",
    "    print(extract_only_forecast(id))"
   ]
  },
  {
   "cell_type": "code",
   "execution_count": null,
   "id": "6943de7f-d6e9-4374-a715-e92d6f9780c9",
   "metadata": {},
   "outputs": [],
   "source": [
    "predictions = {id: extract_only_forecast(id, txt) for id,txt in forecasts.items()}"
   ]
  },
  {
   "cell_type": "markdown",
   "id": "2cb76940-921d-4217-bbf4-cf85685f6ebb",
   "metadata": {},
   "source": [
    "## Forecast missing questions"
   ]
  },
  {
   "cell_type": "code",
   "execution_count": null,
   "id": "f6023c1d-01c8-42e9-8f3b-e8891020310c",
   "metadata": {},
   "outputs": [],
   "source": [
    "missing = list(sorted(set(community_ids).difference(forecast_ids)))"
   ]
  },
  {
   "cell_type": "code",
   "execution_count": null,
   "id": "9a62eabd-8be8-446b-9d05-328b67b03743",
   "metadata": {},
   "outputs": [],
   "source": [
    "len(missing)"
   ]
  },
  {
   "cell_type": "code",
   "execution_count": null,
   "id": "16fda13b-42e8-407d-8d3a-35689b4a640c",
   "metadata": {},
   "outputs": [],
   "source": [
    "missing[0]"
   ]
  },
  {
   "cell_type": "code",
   "execution_count": null,
   "id": "812abb43-645c-4bf0-b3d5-0174929a8ea2",
   "metadata": {},
   "outputs": [],
   "source": [
    "from forecast import forecast"
   ]
  },
  {
   "cell_type": "code",
   "execution_count": null,
   "id": "e4990ae8-d23b-4eb5-ab1b-e4adcd7576f0",
   "metadata": {},
   "outputs": [],
   "source": [
    "num_questions = (missing[0], missing[0]+1)\n",
    "perennial = False\n",
    "live = False"
   ]
  },
  {
   "cell_type": "code",
   "execution_count": null,
   "id": "841234d8-0863-4d32-9aed-36a8bd36c4e8",
   "metadata": {},
   "outputs": [],
   "source": [
    "results = forecast(num_questions = num_questions, perennial = perennial, live=False)"
   ]
  },
  {
   "cell_type": "code",
   "execution_count": null,
   "id": "f602c64f-6e7f-443a-868c-729241d26482",
   "metadata": {},
   "outputs": [],
   "source": []
  }
 ],
 "metadata": {
  "kernelspec": {
   "display_name": "Python 3 (ipykernel)",
   "language": "python",
   "name": "python3"
  },
  "language_info": {
   "codemirror_mode": {
    "name": "ipython",
    "version": 3
   },
   "file_extension": ".py",
   "mimetype": "text/x-python",
   "name": "python",
   "nbconvert_exporter": "python",
   "pygments_lexer": "ipython3",
   "version": "3.12.3"
  }
 },
 "nbformat": 4,
 "nbformat_minor": 5
}
