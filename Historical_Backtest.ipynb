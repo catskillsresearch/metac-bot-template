{
 "cells": [
  {
   "cell_type": "markdown",
   "id": "c1f27471-5886-4bc2-acdf-2dac9cf49676",
   "metadata": {},
   "source": [
    "# Base forecaster against historical questions"
   ]
  },
  {
   "cell_type": "markdown",
   "id": "9f7c4ae9-a254-4421-ad9a-5189b5ba3f68",
   "metadata": {},
   "source": [
    "## Imports"
   ]
  },
  {
   "cell_type": "code",
   "execution_count": null,
   "id": "2489215b-6656-4ca9-a921-66663ab5094a",
   "metadata": {},
   "outputs": [],
   "source": [
    "%matplotlib inline\n",
    "import matplotlib.pyplot as plt\n",
    "import pandas as pd\n",
    "from load_research import load_research\n",
    "from prompt_question importprompt_question\n",
    "from query_perplexity_with_date_filter import query_perplexity_with_date_filter\n",
    "from predict import predict\n",
    "import os\n",
    "import numpy as np\n",
    "from extract_forecast import extract_forecast"
   ]
  },
  {
   "cell_type": "code",
   "execution_count": null,
   "id": "be720e31-aeab-4a94-b630-22d6f664a6eb",
   "metadata": {},
   "outputs": [],
   "source": [
    "from tqdm import tqdm\n",
    "tqdm.pandas()"
   ]
  },
  {
   "cell_type": "code",
   "execution_count": 2,
   "id": "53b5f0c9-7367-48de-9312-54fabe6ccc5f",
   "metadata": {},
   "outputs": [],
   "source": [
    "from load_secrets import load_secrets\n",
    "load_secrets()"
   ]
  },
  {
   "cell_type": "markdown",
   "id": "e95ce7db-2756-4eea-b414-6e1d9e1fec9e",
   "metadata": {},
   "source": [
    "## Historical data"
   ]
  },
  {
   "cell_type": "code",
   "execution_count": null,
   "id": "3e24cdf8-e1ab-4b67-ae8c-db176e6e5f8d",
   "metadata": {},
   "outputs": [],
   "source": [
    "df = pd.read_json('resolved.json')"
   ]
  },
  {
   "cell_type": "code",
   "execution_count": null,
   "id": "ca5882f7-7aa0-4e93-870a-4998674f7aef",
   "metadata": {},
   "outputs": [],
   "source": [
    "df['research'] = df.apply(load_research, axis=1)"
   ]
  },
  {
   "cell_type": "code",
   "execution_count": null,
   "id": "0fa5de70-23f1-4dd8-b4ce-6c0863d9706c",
   "metadata": {},
   "outputs": [],
   "source": [
    "df['today'] = df.apply(lambda row: row.open_time.date().strftime(\"%Y-%m-%d\"), axis=1)"
   ]
  },
  {
   "cell_type": "markdown",
   "id": "1306a579-1f84-4892-8ded-1b7a5bad38ed",
   "metadata": {},
   "source": [
    "## Prompts"
   ]
  },
  {
   "cell_type": "markdown",
   "id": "41da08bf-e31f-4b95-958c-f3ff1fe30912",
   "metadata": {},
   "source": [
    "### Binary"
   ]
  },
  {
   "cell_type": "code",
   "execution_count": null,
   "id": "6017cf49-3c45-4321-8fc6-83ad956a9638",
   "metadata": {},
   "outputs": [],
   "source": [
    "question_binary = df[df.question_type == 'binary'].iloc[0]\n",
    "print(prompt_binary(question_binary))"
   ]
  },
  {
   "cell_type": "markdown",
   "id": "f94cb75c-255a-48b6-a7ec-b323b13a3b6e",
   "metadata": {},
   "source": [
    "### Multiple Choice"
   ]
  },
  {
   "cell_type": "code",
   "execution_count": null,
   "id": "6ed73257-7531-44d8-bda8-5bf17bfa92aa",
   "metadata": {},
   "outputs": [],
   "source": [
    "question_multiple_choice = df[df.question_type == 'multiple_choice'].iloc[0]\n",
    "print(prompt_multiple_choice(question_multiple_choice))"
   ]
  },
  {
   "cell_type": "markdown",
   "id": "906ab0d3-e402-40cf-ae79-42c99b0566f1",
   "metadata": {},
   "source": [
    "### Numeric question"
   ]
  },
  {
   "cell_type": "code",
   "execution_count": null,
   "id": "c859bbdb-6749-41a5-984c-071cbb747819",
   "metadata": {},
   "outputs": [],
   "source": [
    "question_numeric = df[df.question_type == 'numeric'].iloc[0]\n",
    "print(prompt_numeric(question_numeric))"
   ]
  },
  {
   "cell_type": "code",
   "execution_count": null,
   "id": "184f7bb5-45e1-4c94-8475-7b5c35b2c453",
   "metadata": {},
   "outputs": [],
   "source": [
    "prompt_funs = {x: eval(f'prompt_{x}') for x in df.question_type.unique()}\n",
    "prompt_funs"
   ]
  },
  {
   "cell_type": "code",
   "execution_count": null,
   "id": "e21eb7c6-9c06-4d42-8b98-7f69a4aa6054",
   "metadata": {},
   "outputs": [],
   "source": [
    "df['prompt'] = df.apply(prompt_question, axis=1)"
   ]
  },
  {
   "cell_type": "markdown",
   "id": "ce8ae40e-2eb6-4cb1-b894-501dd0d7f2fc",
   "metadata": {},
   "source": [
    "## Historical benchmark"
   ]
  },
  {
   "cell_type": "markdown",
   "id": "5075bd09-8b2f-4205-bea3-ad37145896fd",
   "metadata": {},
   "source": [
    "### Forecast all questions"
   ]
  },
  {
   "cell_type": "code",
   "execution_count": null,
   "id": "1a5a8a99-7ac8-47ac-a8b9-3e13337cafed",
   "metadata": {},
   "outputs": [],
   "source": [
    "question = df.iloc[0]"
   ]
  },
  {
   "cell_type": "code",
   "execution_count": null,
   "id": "fcec8da0-8b86-4cff-9f6c-1ef9fec145d1",
   "metadata": {},
   "outputs": [],
   "source": [
    "prompt = question.prompt"
   ]
  },
  {
   "cell_type": "code",
   "execution_count": null,
   "id": "2315a3d8-f4b8-4e23-9568-6b715edc9d61",
   "metadata": {},
   "outputs": [],
   "source": [
    "question.today"
   ]
  },
  {
   "cell_type": "code",
   "execution_count": null,
   "id": "d2a588b8-513e-4e3f-9a7a-98888b77c682",
   "metadata": {},
   "outputs": [],
   "source": [
    "dfn = 'forecast'\n",
    "os.makedirs(dfn, exist_ok=True)"
   ]
  },
  {
   "cell_type": "raw",
   "id": "2717c26d-2be6-4db2-93f0-cab04e7ac455",
   "metadata": {},
   "source": [
    "forecast = predict(dfn, question)"
   ]
  },
  {
   "cell_type": "code",
   "execution_count": null,
   "id": "532a8610-7457-4b45-90a1-d9b1c9cd6b69",
   "metadata": {},
   "outputs": [],
   "source": [
    "!pwd"
   ]
  },
  {
   "cell_type": "code",
   "execution_count": null,
   "id": "c403e15f-2457-4de0-990a-192cc1fb8de7",
   "metadata": {},
   "outputs": [],
   "source": [
    "df['forecast'] = df.progress_apply(lambda question: predict(dfn, question), axis=1)"
   ]
  },
  {
   "cell_type": "code",
   "execution_count": null,
   "id": "c4b681d5-1218-4213-9001-a59231297715",
   "metadata": {},
   "outputs": [],
   "source": [
    "df.to_json('wow.json')"
   ]
  },
  {
   "cell_type": "markdown",
   "id": "8c817e9c-19f5-45a6-9d5b-b191aabe5d6f",
   "metadata": {},
   "source": [
    "### Reload all forecasts"
   ]
  },
  {
   "cell_type": "code",
   "execution_count": null,
   "id": "9086f2f2-eac8-4dbd-a665-1ddb9254f68f",
   "metadata": {},
   "outputs": [],
   "source": [
    "df = pd.read_json('wow.json')"
   ]
  },
  {
   "cell_type": "markdown",
   "id": "80c6dab0-fe52-440c-bb31-a355c424d487",
   "metadata": {
    "jp-MarkdownHeadingCollapsed": true
   },
   "source": [
    "### Extract the answer"
   ]
  },
  {
   "cell_type": "markdown",
   "id": "757972a3-9a13-4b17-b4db-820e4c3cb7ca",
   "metadata": {},
   "source": [
    "### Binary"
   ]
  },
  {
   "cell_type": "code",
   "execution_count": null,
   "id": "26ca347a-59fd-41ac-9643-c49e90e859de",
   "metadata": {},
   "outputs": [],
   "source": [
    "question = df[df.id == 37008].iloc[0]\n",
    "question"
   ]
  },
  {
   "cell_type": "code",
   "execution_count": null,
   "id": "ecef3fa7-69e7-437b-a9fc-82f8c7850323",
   "metadata": {},
   "outputs": [],
   "source": [
    "print(question.forecast)"
   ]
  },
  {
   "cell_type": "code",
   "execution_count": null,
   "id": "5aacfe42-19b7-439f-ac41-fb8667e20416",
   "metadata": {},
   "outputs": [],
   "source": [
    "extract_probability(question)"
   ]
  },
  {
   "cell_type": "code",
   "execution_count": null,
   "id": "69398fb7-2507-44fe-813b-8cd0b3b2f022",
   "metadata": {},
   "outputs": [],
   "source": [
    "question = df[df.id == 35190].iloc[0]\n",
    "question"
   ]
  },
  {
   "cell_type": "code",
   "execution_count": null,
   "id": "7d5a22da-63bd-483c-8419-ad5995df6be6",
   "metadata": {},
   "outputs": [],
   "source": [
    "question = df[df.id == 36168].iloc[0]"
   ]
  },
  {
   "cell_type": "code",
   "execution_count": null,
   "id": "6cc18c71-ef8c-4bdc-bb06-72d087073ca4",
   "metadata": {},
   "outputs": [],
   "source": [
    "extract_probability(question)"
   ]
  },
  {
   "cell_type": "code",
   "execution_count": null,
   "id": "469b8c1c-a14f-4e80-a81c-8389ab60fdad",
   "metadata": {},
   "outputs": [],
   "source": []
  },
  {
   "cell_type": "markdown",
   "id": "886d99d9-28cf-47ca-ad53-4c28b77c90ef",
   "metadata": {},
   "source": [
    "### Numeric"
   ]
  },
  {
   "cell_type": "code",
   "execution_count": null,
   "id": "dcea8ccc-8ddf-4634-82d0-19291839663a",
   "metadata": {},
   "outputs": [],
   "source": [
    "question = df[df.id == 36164].iloc[0]"
   ]
  },
  {
   "cell_type": "code",
   "execution_count": null,
   "id": "61092b75-58a4-42af-938b-cc8de28dc357",
   "metadata": {},
   "outputs": [],
   "source": [
    "extract_percentiles(question)"
   ]
  },
  {
   "cell_type": "code",
   "execution_count": null,
   "id": "02e2cc85-b21d-4101-bbeb-61088efcfd94",
   "metadata": {},
   "outputs": [],
   "source": [
    "question = df.iloc[0]"
   ]
  },
  {
   "cell_type": "code",
   "execution_count": null,
   "id": "80bfe835-21bb-45ca-b7d6-a4eff1816c99",
   "metadata": {},
   "outputs": [],
   "source": [
    "extract_percentiles(question)"
   ]
  },
  {
   "cell_type": "code",
   "execution_count": null,
   "id": "feb64650-f993-4ffe-a2dc-4709efcdd0ce",
   "metadata": {},
   "outputs": [],
   "source": [
    "print(df.iloc[0].question_resolution)"
   ]
  },
  {
   "cell_type": "code",
   "execution_count": null,
   "id": "a1757946-0e12-43f9-acd3-abb2b63046e3",
   "metadata": {},
   "outputs": [],
   "source": [
    "question = df[df.id == 35678].iloc[0]"
   ]
  },
  {
   "cell_type": "code",
   "execution_count": null,
   "id": "ae777bb2-003b-4218-8318-5667ead5475a",
   "metadata": {},
   "outputs": [],
   "source": [
    "extract_percentiles(question)"
   ]
  },
  {
   "cell_type": "markdown",
   "id": "b90a0f92-65fa-412a-a6f3-2debda313b20",
   "metadata": {},
   "source": [
    "### Multiple choice"
   ]
  },
  {
   "cell_type": "code",
   "execution_count": null,
   "id": "6be75d66-9dab-4569-83b5-563ed4f7dea8",
   "metadata": {},
   "outputs": [],
   "source": [
    "question = df[df.question_type == 'multiple_choice'].iloc[0]"
   ]
  },
  {
   "cell_type": "code",
   "execution_count": null,
   "id": "45373040-e593-4e1a-8257-8c7f17f1f4be",
   "metadata": {},
   "outputs": [],
   "source": [
    "print(question.forecast)"
   ]
  },
  {
   "cell_type": "code",
   "execution_count": null,
   "id": "db0f569c-295d-47cb-a2bd-b3a9b95e54d0",
   "metadata": {},
   "outputs": [],
   "source": [
    "question.question_options"
   ]
  },
  {
   "cell_type": "code",
   "execution_count": null,
   "id": "8476ad7d-acb3-409c-9ce8-6c62330e9432",
   "metadata": {},
   "outputs": [],
   "source": [
    "question.question_resolution"
   ]
  },
  {
   "cell_type": "code",
   "execution_count": null,
   "id": "5524b811-4b31-43c8-b7a7-a70d0ff83687",
   "metadata": {},
   "outputs": [],
   "source": [
    "text, question_options = question.forecast, eval(question.question_options)"
   ]
  },
  {
   "cell_type": "code",
   "execution_count": null,
   "id": "17d1d8e7-cd3b-4f1e-8c73-5657f48f46d9",
   "metadata": {},
   "outputs": [],
   "source": [
    "extract_probabilities(text, question_options, '')"
   ]
  },
  {
   "cell_type": "code",
   "execution_count": null,
   "id": "0820149a-d871-4377-bca2-e8ea02ee16f6",
   "metadata": {},
   "outputs": [],
   "source": [
    "question = df[df.id == 36264].iloc[0]"
   ]
  },
  {
   "cell_type": "code",
   "execution_count": null,
   "id": "9f853a33-d2d3-4e68-a7ac-10de8d3c6bfc",
   "metadata": {},
   "outputs": [],
   "source": [
    "print(question.forecast)"
   ]
  },
  {
   "cell_type": "code",
   "execution_count": null,
   "id": "51ba1e93-9131-4ba1-9bce-39d0906215dc",
   "metadata": {},
   "outputs": [],
   "source": [
    "print(question.question_options)"
   ]
  },
  {
   "cell_type": "code",
   "execution_count": null,
   "id": "0872c9d4-35a0-4d34-8777-31b7946b89de",
   "metadata": {},
   "outputs": [],
   "source": [
    "extract_multiple_choice(question)"
   ]
  },
  {
   "cell_type": "code",
   "execution_count": null,
   "id": "d004726a-1342-4e23-903d-f78e1f2fba2b",
   "metadata": {},
   "outputs": [],
   "source": [
    "question = df[df.id == 36168].iloc[0]"
   ]
  },
  {
   "cell_type": "code",
   "execution_count": null,
   "id": "fc904a28-f60a-48e4-8cf3-3fb2662830c8",
   "metadata": {},
   "outputs": [],
   "source": [
    "extract_multiple_choice(question)"
   ]
  },
  {
   "cell_type": "code",
   "execution_count": null,
   "id": "31fc3aea-a4b8-49bd-8359-06a7548b3cd0",
   "metadata": {},
   "outputs": [],
   "source": [
    "question.question_options"
   ]
  },
  {
   "cell_type": "code",
   "execution_count": null,
   "id": "5ab7fb71-5b9a-40cb-9197-5e368fb49f66",
   "metadata": {},
   "outputs": [],
   "source": [
    "print(question.forecast)"
   ]
  },
  {
   "cell_type": "code",
   "execution_count": null,
   "id": "ec2fb94a-fd82-4547-964a-e9a9e33dbb3f",
   "metadata": {},
   "outputs": [],
   "source": [
    "extract_multiple_choice(question)"
   ]
  },
  {
   "cell_type": "markdown",
   "id": "64d21f26-0ca0-40ca-9974-5ec39469da4b",
   "metadata": {},
   "source": [
    "### All"
   ]
  },
  {
   "cell_type": "code",
   "execution_count": null,
   "id": "21590e77-3fe3-4c87-a8c8-6b4527d6ba43",
   "metadata": {},
   "outputs": [],
   "source": [
    "df['prediction'] = df.apply(extract_forecast, axis=1)"
   ]
  },
  {
   "cell_type": "code",
   "execution_count": null,
   "id": "454b77d1-27ad-4b38-a3a6-35b45fc43ce9",
   "metadata": {},
   "outputs": [],
   "source": [
    "df.to_json('run_with_predictions.json')"
   ]
  },
  {
   "cell_type": "markdown",
   "id": "4b970c6c-1054-413f-b884-d4c5ddb340e5",
   "metadata": {},
   "source": [
    "## Scoring rule"
   ]
  },
  {
   "cell_type": "markdown",
   "id": "41ebb5af-2dda-4378-ac0b-dec72b4ef610",
   "metadata": {},
   "source": [
    "### Binary"
   ]
  },
  {
   "cell_type": "code",
   "execution_count": null,
   "id": "6c267c77-6a43-4fd9-9216-82fbd341f3a4",
   "metadata": {},
   "outputs": [],
   "source": [
    "df[df.question_type == 'binary'].question_resolution.unique()"
   ]
  },
  {
   "cell_type": "code",
   "execution_count": null,
   "id": "56d9692a-2baf-4a90-b536-a9763a461978",
   "metadata": {},
   "outputs": [],
   "source": [
    "question = df[df.question_type == 'binary'].iloc[0]"
   ]
  },
  {
   "cell_type": "code",
   "execution_count": null,
   "id": "db2c29c4-e63c-4403-af72-e1005ec73bf2",
   "metadata": {},
   "outputs": [],
   "source": [
    "question = df[df.id == 35190].iloc[0]\n",
    "question"
   ]
  },
  {
   "cell_type": "code",
   "execution_count": null,
   "id": "758c5749-c51f-48a4-a756-dc2991615a23",
   "metadata": {},
   "outputs": [],
   "source": [
    "question.question_resolution, question.prediction"
   ]
  },
  {
   "cell_type": "code",
   "execution_count": null,
   "id": "36e79e80-f74a-4aaf-ae2a-45e5611e88d0",
   "metadata": {},
   "outputs": [],
   "source": [
    "calculate_ubs_binary(question)"
   ]
  },
  {
   "cell_type": "markdown",
   "id": "3b12aa9b-f496-4acb-a4e0-ac3150b0b175",
   "metadata": {},
   "source": [
    "### Numeric"
   ]
  },
  {
   "cell_type": "code",
   "execution_count": null,
   "id": "88e5b5fc-a568-4826-8568-2e4140c9d9e3",
   "metadata": {},
   "outputs": [],
   "source": [
    "question=df[df.id==35677].iloc[0]"
   ]
  },
  {
   "cell_type": "code",
   "execution_count": null,
   "id": "ffb0b5c2-1991-4489-b0aa-af0aa9f59412",
   "metadata": {},
   "outputs": [],
   "source": [
    "print(question.forecast)"
   ]
  },
  {
   "cell_type": "code",
   "execution_count": null,
   "id": "5176b917-bf22-49de-b373-0f7c2a6cdbef",
   "metadata": {},
   "outputs": [],
   "source": [
    "question.prediction"
   ]
  },
  {
   "cell_type": "code",
   "execution_count": null,
   "id": "b7f16eda-1467-41a0-b2ee-f022c1ee6ecd",
   "metadata": {},
   "outputs": [],
   "source": [
    "calculate_ubs_numeric(question)"
   ]
  },
  {
   "cell_type": "code",
   "execution_count": null,
   "id": "7720b913-d983-4415-89f4-67135d7e7ab4",
   "metadata": {},
   "outputs": [],
   "source": [
    "question = df[df.question_type == 'numeric'].iloc[0]"
   ]
  },
  {
   "cell_type": "code",
   "execution_count": null,
   "id": "b5909782-814b-4b7f-921b-a7105374a484",
   "metadata": {},
   "outputs": [],
   "source": [
    "question"
   ]
  },
  {
   "cell_type": "code",
   "execution_count": null,
   "id": "6dd81863-507a-4066-902f-ccfe59173036",
   "metadata": {},
   "outputs": [],
   "source": [
    "print(question.question_resolution)"
   ]
  },
  {
   "cell_type": "code",
   "execution_count": null,
   "id": "cd3f7fb1-a75b-4ba2-922b-dc21481ee80f",
   "metadata": {},
   "outputs": [],
   "source": [
    "calculate_ubs_numeric(question)"
   ]
  },
  {
   "cell_type": "markdown",
   "id": "805e0e1a-fb99-4db1-ab56-2594f7771725",
   "metadata": {},
   "source": [
    "### Multiple choice"
   ]
  },
  {
   "cell_type": "code",
   "execution_count": null,
   "id": "f4fa2dd2-e191-46ce-ad3f-b4fa524c8fa0",
   "metadata": {},
   "outputs": [],
   "source": [
    "question = df[df.question_type == 'multiple_choice'].iloc[0]"
   ]
  },
  {
   "cell_type": "code",
   "execution_count": null,
   "id": "2130bf75-7d80-46cb-a5b8-56df5c264408",
   "metadata": {},
   "outputs": [],
   "source": [
    "question"
   ]
  },
  {
   "cell_type": "code",
   "execution_count": null,
   "id": "a0da7b6e-cf4a-496c-8a39-be65193c1a1d",
   "metadata": {},
   "outputs": [],
   "source": [
    "question.prediction, question.question_resolution"
   ]
  },
  {
   "cell_type": "code",
   "execution_count": null,
   "id": "d1eae117-2e9a-4aa4-a307-da09ca35879a",
   "metadata": {},
   "outputs": [],
   "source": [
    "calculate_ubs_multiclass(question)"
   ]
  },
  {
   "cell_type": "code",
   "execution_count": null,
   "id": "d7bb9467-c786-4473-ba79-659cd064337a",
   "metadata": {},
   "outputs": [],
   "source": [
    "question = df[df.id == 36168].iloc[0]"
   ]
  },
  {
   "cell_type": "code",
   "execution_count": null,
   "id": "ae101bc2-1065-4273-8cb3-4851403e5703",
   "metadata": {},
   "outputs": [],
   "source": [
    "calculate_ubs_multiclass(question)"
   ]
  },
  {
   "cell_type": "markdown",
   "id": "a5466f7d-c6d1-4ccf-a09e-e4fb21cba369",
   "metadata": {},
   "source": [
    "### All"
   ]
  },
  {
   "cell_type": "code",
   "execution_count": null,
   "id": "790f6cee-aab7-456a-88e0-d94379a3e83d",
   "metadata": {},
   "outputs": [],
   "source": [
    "df['score'] = df.apply(calculate_ubs, axis=1)"
   ]
  },
  {
   "cell_type": "code",
   "execution_count": null,
   "id": "b276ed51-8a57-4510-a3f0-75c581e0e188",
   "metadata": {},
   "outputs": [],
   "source": [
    "df.to_json('scored.json')"
   ]
  },
  {
   "cell_type": "markdown",
   "id": "9351f06e-c012-4712-877d-ba07a0205801",
   "metadata": {},
   "source": [
    "## Historical benchmark"
   ]
  },
  {
   "cell_type": "code",
   "execution_count": 6,
   "id": "d632ce98-249c-4031-a1dd-653c6517b3cf",
   "metadata": {},
   "outputs": [],
   "source": [
    "df = pd.read_json('scored.json')"
   ]
  },
  {
   "cell_type": "code",
   "execution_count": 15,
   "id": "8778a0ca-62b8-4001-8dd6-6601ad02441c",
   "metadata": {},
   "outputs": [
    {
     "data": {
      "image/png": "[encoded data removed]",
      "text/plain": [
       "<Figure size 640x480 with 1 Axes>"
      ]
     },
     "metadata": {},
     "output_type": "display_data"
    }
   ],
   "source": [
    "ax = df.hist(column='score', bins=10)\n",
    "plt.show()  # explicitly show the plot"
   ]
  },
  {
   "cell_type": "code",
   "execution_count": 17,
   "id": "bf974a9d-b24f-486c-bf6f-f59e0eb89bb2",
   "metadata": {},
   "outputs": [],
   "source": [
    "scores_by_date = df.sort_values(by='open_time')"
   ]
  },
  {
   "cell_type": "code",
   "execution_count": 19,
   "id": "f4d38890-5d90-474e-a72a-f6d589c73adf",
   "metadata": {},
   "outputs": [
    {
     "data": {
      "text/plain": [
       "0.7859450342465754"
      ]
     },
     "execution_count": 19,
     "metadata": {},
     "output_type": "execute_result"
    }
   ],
   "source": [
    "scores_by_date.score.mean()"
   ]
  },
  {
   "cell_type": "code",
   "execution_count": 20,
   "id": "82bc29ed-3224-4d38-81b4-4c14af8fa181",
   "metadata": {},
   "outputs": [
    {
     "data": {
      "text/plain": [
       "<matplotlib.collections.PathCollection at 0x7cf09ad00b00>"
      ]
     },
     "execution_count": 20,
     "metadata": {},
     "output_type": "execute_result"
    },
    {
     "data": {
      "image/png": "[encoded data removed]",
      "text/plain": [
       "<Figure size 640x480 with 1 Axes>"
      ]
     },
     "metadata": {},
     "output_type": "display_data"
    }
   ],
   "source": [
    "plt.scatter(scores_by_date.open_time, scores_by_date.score.values)"
   ]
  },
  {
   "cell_type": "code",
   "execution_count": 23,
   "id": "de761e34-b57f-4ac4-a647-804a66256532",
   "metadata": {},
   "outputs": [
    {
     "data": {
      "text/plain": [
       "0.28594503424657536"
      ]
     },
     "execution_count": 23,
     "metadata": {},
     "output_type": "execute_result"
    }
   ],
   "source": [
    "((scores_by_date.score-0.5).sum())/len(scores_by_date)"
   ]
  },
  {
   "cell_type": "code",
   "execution_count": 28,
   "id": "a5cfe775-73d7-4fa7-914e-eebd49209ead",
   "metadata": {},
   "outputs": [],
   "source": [
    "scores_by_date[['id', 'open_time', 'title', 'score']].to_csv('readme.csv', index=False)"
   ]
  },
  {
   "cell_type": "markdown",
   "id": "0888cd8d-c9af-457f-a20d-73e463036194",
   "metadata": {},
   "source": [
    "## Make it more RAGy, using the references in the prompt for possible deeper search"
   ]
  },
  {
   "cell_type": "code",
   "execution_count": null,
   "id": "61db6494-c4ee-4e8e-a9f1-869f7866ee36",
   "metadata": {},
   "outputs": [],
   "source": [
    "df[df.id == 36164].iloc[0]"
   ]
  },
  {
   "cell_type": "code",
   "execution_count": null,
   "id": "fcae82ab-0460-4f56-a8f7-4f2cb7b4b19a",
   "metadata": {},
   "outputs": [],
   "source": []
  }
 ],
 "metadata": {
  "kernelspec": {
   "display_name": "Python 3 (ipykernel)",
   "language": "python",
   "name": "python3"
  },
  "language_info": {
   "codemirror_mode": {
    "name": "ipython",
    "version": 3
   },
   "file_extension": ".py",
   "mimetype": "text/x-python",
   "name": "python",
   "nbconvert_exporter": "python",
   "pygments_lexer": "ipython3",
   "version": "3.12.3"
  }
 },
 "nbformat": 4,
 "nbformat_minor": 5
}
