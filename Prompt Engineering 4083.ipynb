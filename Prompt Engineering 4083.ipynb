{
 "cells": [
  {
   "cell_type": "markdown",
   "id": "c1f27471-5886-4bc2-acdf-2dac9cf49676",
   "metadata": {},
   "source": [
    "# Prompt engineering on worst econ questions: answer verification, temperature, red/blue, context"
   ]
  },
  {
   "cell_type": "code",
   "execution_count": 1,
   "id": "40c585c9-9d1e-4329-a0ed-f78f53ec8176",
   "metadata": {},
   "outputs": [],
   "source": [
    "%matplotlib inline"
   ]
  },
  {
   "cell_type": "code",
   "execution_count": 75,
   "id": "122c8339-86ea-47c5-8993-033752f69f5d",
   "metadata": {},
   "outputs": [],
   "source": [
    "import pandas as pd\n",
    "pd.set_option('display.max_columns', None)\n",
    "from ollama_models import ollama_models\n",
    "models = ollama_models()"
   ]
  },
  {
   "cell_type": "code",
   "execution_count": 76,
   "id": "70be6a67-c25b-4729-ab99-725f064528d7",
   "metadata": {},
   "outputs": [
    {
     "data": {
      "text/plain": [
       "['deepseek-r1:1.5b-qwen-distill-q4_K_M',\n",
       " 'mistral-small3.2:24b-instruct-2506-q4_K_M']"
      ]
     },
     "execution_count": 76,
     "metadata": {},
     "output_type": "execute_result"
    }
   ],
   "source": [
    "models"
   ]
  },
  {
   "cell_type": "code",
   "execution_count": 78,
   "id": "a75e3d1e-890d-44d9-b173-18f3afbfbe31",
   "metadata": {},
   "outputs": [],
   "source": [
    "model_mistral = models[1]"
   ]
  },
  {
   "cell_type": "code",
   "execution_count": 4,
   "id": "7e9ffc2f-696a-4511-9ab1-9b27936433ea",
   "metadata": {},
   "outputs": [],
   "source": [
    "from community_alignment import community_alignment"
   ]
  },
  {
   "cell_type": "code",
   "execution_count": 5,
   "id": "b7f8ae58-b789-43bf-8cf6-fec48e08679c",
   "metadata": {},
   "outputs": [
    {
     "name": "stdout",
     "output_type": "stream",
     "text": [
      "Loaded existing index from forecast_index.faiss\n",
      "Index contains 5839 vectors at initialization\n"
     ]
    },
    {
     "name": "stderr",
     "output_type": "stream",
     "text": [
      "100%|██████████████████████████████████████| 113/113 [00:00<00:00, 32691.15it/s]"
     ]
    },
    {
     "name": "stdout",
     "output_type": "stream",
     "text": [
      "saved community_deepseek-r1:1.5b-qwen-distill-q4_K_M.json\n"
     ]
    },
    {
     "name": "stderr",
     "output_type": "stream",
     "text": [
      "\n"
     ]
    },
    {
     "data": {
      "image/png": "[encoded data removed]",
      "text/plain": [
       "<Figure size 640x480 with 1 Axes>"
      ]
     },
     "metadata": {},
     "output_type": "display_data"
    }
   ],
   "source": [
    "df = community_alignment(model)"
   ]
  },
  {
   "cell_type": "code",
   "execution_count": 6,
   "id": "6651ca1a-083f-4ea2-87fa-bc56531f788f",
   "metadata": {},
   "outputs": [],
   "source": [
    "from load_saved_questions import load_saved_questions\n",
    "from call_local_llm import call_local_llm"
   ]
  },
  {
   "cell_type": "code",
   "execution_count": 7,
   "id": "b8b6b1c7-263d-404b-b5be-04c89639ac9d",
   "metadata": {},
   "outputs": [],
   "source": [
    "question = load_saved_questions([4083])[0]"
   ]
  },
  {
   "cell_type": "code",
   "execution_count": 8,
   "id": "552a481e-5a4f-405f-a618-4edf5107d0c9",
   "metadata": {},
   "outputs": [],
   "source": [
    "    from community_forecast import community_forecast\n",
    "    import pandas as pd\n",
    "    from flatten_dict import flatten_dict\n",
    "    from datetime import datetime\n",
    "    from gather_research_and_set_prompt import gather_research_and_set_prompt\n",
    "    from generate_forecasts_and_update_rag import generate_forecasts_and_update_rag\n",
    "    from tqdm import tqdm\n",
    "    import time"
   ]
  },
  {
   "cell_type": "code",
   "execution_count": 9,
   "id": "cc4b0cff-645d-463e-a91d-85e9a2911918",
   "metadata": {},
   "outputs": [
    {
     "name": "stdout",
     "output_type": "stream",
     "text": [
      "START model deepseek-r1:1.5b-qwen-distill-q4_K_M id <built-in function id>\n"
     ]
    }
   ],
   "source": [
    "    print('START model', model, 'id', id)\n",
    "    start_time = time.time()\n",
    "    questions = [question]\n",
    "    id = question.id_of_question\n",
    "    id_to_forecast = {question.id_of_question: community_forecast(question) for question in questions}\n",
    "    df = pd.DataFrame([flatten_dict(q.api_json, sep='_') for q in questions])\n",
    "    df['id_of_post'] = [q.id_of_post for q in questions]\n",
    "    df['id_of_question'] = [q.id_of_question for q in questions]\n",
    "    df['question_options'] = df['question_options'].apply(repr)\n",
    "    df['today'] = datetime.now().strftime(\"%Y-%m-%d\")\n",
    "    df['crowd'] = df.apply(lambda row: id_to_forecast[row.id_of_question], axis=1)"
   ]
  },
  {
   "cell_type": "code",
   "execution_count": 17,
   "id": "b549d0b5-3a4f-4286-89c1-462c2a01b3c5",
   "metadata": {},
   "outputs": [],
   "source": [
    "    df1 = df[['id_of_question', 'id_of_post', 'today', 'open_time', 'scheduled_resolve_time', 'title',\n",
    "        'question_resolution_criteria', 'question_fine_print', 'question_type', \n",
    "         'question_description',\n",
    "        'question_options', 'question_group_variable', 'question_question_weight',\n",
    "        'question_unit', 'question_open_upper_bound', 'question_open_lower_bound',\n",
    "        'question_scaling_range_max', 'question_scaling_range_min', 'question_scaling_zero_point','crowd']].copy()"
   ]
  },
  {
   "cell_type": "code",
   "execution_count": 18,
   "id": "22294f1d-0065-460d-97b2-65cca83d0d90",
   "metadata": {},
   "outputs": [
    {
     "name": "stdout",
     "output_type": "stream",
     "text": [
      "Loaded existing index from forecast_index.faiss\n",
      "Index contains 5839 vectors at initialization\n"
     ]
    }
   ],
   "source": [
    "    df2, rag = gather_research_and_set_prompt(df1, True, model)"
   ]
  },
  {
   "cell_type": "code",
   "execution_count": 43,
   "id": "80261c3f-b8b1-44f7-9b75-b90be8f25229",
   "metadata": {},
   "outputs": [],
   "source": [
    "df3 = df2[['id_of_question', 'title',\n",
    "        'question_resolution_criteria', 'question_fine_print', 'question_type', \n",
    "         'question_description',\n",
    "        'question_options', 'question_group_variable', 'question_question_weight',\n",
    "        'question_unit', 'question_open_upper_bound', 'question_open_lower_bound',\n",
    "        'question_scaling_range_max', 'question_scaling_range_min', 'question_scaling_zero_point','crowd',\n",
    "          'research', 'asknews', 'learning']].copy()"
   ]
  },
  {
   "cell_type": "code",
   "execution_count": 48,
   "id": "d67ccbf7-02aa-4a15-a89e-d76a98532136",
   "metadata": {},
   "outputs": [],
   "source": [
    "row = df3.iloc[0]"
   ]
  },
  {
   "cell_type": "code",
   "execution_count": 132,
   "id": "c54b1448-a2a8-424a-a33f-61b37ad6b165",
   "metadata": {},
   "outputs": [
    {
     "data": {
      "text/plain": [
       "id_of_question                                                               4083\n",
       "title                           What will be the relative severity of the next...\n",
       "question_resolution_criteria    This question will resolve as **Ambiguous** if...\n",
       "question_fine_print                                                              \n",
       "question_type                                                             numeric\n",
       "question_description                                                             \n",
       "question_options                                                             None\n",
       "question_group_variable                                                          \n",
       "question_question_weight                                                      1.0\n",
       "question_unit                                                                    \n",
       "question_open_upper_bound                                                    True\n",
       "question_open_lower_bound                                                    True\n",
       "question_scaling_range_max                                                   10.0\n",
       "question_scaling_range_min                                                    0.1\n",
       "question_scaling_zero_point                                                   0.0\n",
       "crowd                           {10: 0.12078030935394252, 20: 0.18090452838404...\n",
       "research                        # Forecasting Analysis: Potential US Depressio...\n",
       "asknews                         Here are the relevant news articles:\\n\\n**The ...\n",
       "learning                                                                       []\n",
       "Name: 0, dtype: object"
      ]
     },
     "execution_count": 132,
     "metadata": {},
     "output_type": "execute_result"
    }
   ],
   "source": [
    "row"
   ]
  },
  {
   "cell_type": "code",
   "execution_count": null,
   "id": "a441b75e-e37e-4766-b5bd-24343d116e3e",
   "metadata": {},
   "outputs": [],
   "source": [
    "for item, value in row.items():\n",
    "    print(item.upper())\n",
    "    print()\n",
    "    print(value)\n",
    "    print('===============================')\n",
    "    print()"
   ]
  },
  {
   "cell_type": "code",
   "execution_count": null,
   "id": "01582b8b-4070-4892-afc9-b79e755c90ff",
   "metadata": {},
   "outputs": [],
   "source": [
    "row.question_resolution_criteria"
   ]
  },
  {
   "cell_type": "code",
   "execution_count": 33,
   "id": "3a439558-37ea-4b37-a1f5-00e59a29de6d",
   "metadata": {},
   "outputs": [],
   "source": [
    "prompt = f\"\"\"Here is some information about a question:\n",
    "\n",
    "TITLE\n",
    "=====\n",
    "\n",
    "{row.title}\n",
    "\n",
    "RESOLUTION CRITERIA\n",
    "===================\n",
    "\n",
    "{row.question_resolution_criteria}\n",
    "\n",
    "SCALE\n",
    "=====\n",
    "\n",
    "From {row.question_scaling_range_min} to {row.question_scaling_range_max}\n",
    "\n",
    "Using the information, answer the following questions:\n",
    "\n",
    "a.  What is the minimum value for the answer?\n",
    "b.  What is the maximum value for the answer?\n",
    "c.  Is there a formula for the answer given in the above text?\n",
    "d.  If there is a formula, what needs to go into the formula and how do you estimate it?  Write a python function for the formula, commenting its inputs and outputs for clarity\n",
    "\"\"\""
   ]
  },
  {
   "cell_type": "code",
   "execution_count": 34,
   "id": "8488971f-4d99-406f-b373-73165a09c837",
   "metadata": {},
   "outputs": [
    {
     "name": "stdout",
     "output_type": "stream",
     "text": [
      "Here is some information about a question:\n",
      "\n",
      "TITLE\n",
      "=====\n",
      "\n",
      "What will be the relative severity of the next US depression, compared to the Great Depression?\n",
      "\n",
      "RESOLUTION CRITERIA\n",
      "===================\n",
      "\n",
      "This question will resolve as **Ambiguous** if there is no economic depression in the US between January 1, 2022 to January 1, 2032.  For this question, an \"Economic Depression\" is defined as meeting either of these criteria:\n",
      "\n",
      "* A recession lasting for 36 months or longer (as adjudicated by [this Metaculus Question's resolution](https://www.metaculus.com/questions/2623/if-the-us-enters-a-recession-how-many-months-will-the-economic-contraction-last/)--i.e., if that one resolves ≥36, this criterion has been met).\n",
      "\n",
      "* Any year's Annual Real GDP growth (as [reported by the US Bureau of Economic Analysis](https://www.bea.gov/news/current-releases)) is estimated to be -10% or less.\n",
      "\n",
      "If such a depression occurs, the relative severity will be defined as the number of months the depression lasts times the real GDP decline in percentage points (peak to trough, on an annual basis), divided by 1131.\n",
      "\n",
      "We divide by 1131 because the Great Depression lasted 43 months, and the real GDP decline [was](https://www.thebalance.com/us-gdp-by-year-3305543) 26.3%, and \\(43 \\times 26.3 \\simeq 1131\\)\n",
      "\n",
      "SCALE\n",
      "=====\n",
      "\n",
      "From 0.1 to 10.0\n",
      "\n",
      "Using the information, answer the following questions:\n",
      "\n",
      "a.  What is the minimum value for the answer?\n",
      "b.  What is the maximum value for the answer?\n",
      "c.  Is there a formula for the answer given in the above text?\n",
      "d.  If there is a formula, what needs to go into the formula and how do you estimate it?  Write a python function for the formula, commenting its inputs and outputs for clarity\n",
      "\n"
     ]
    }
   ],
   "source": [
    "print(prompt)"
   ]
  },
  {
   "cell_type": "code",
   "execution_count": 35,
   "id": "3701d646-39a8-49e8-9730-69246ec7d86e",
   "metadata": {},
   "outputs": [],
   "source": [
    "terms = call_local_llm(prompt, model)"
   ]
  },
  {
   "cell_type": "code",
   "execution_count": 38,
   "id": "9a99c5d6-77eb-41c5-a887-89981d5af4aa",
   "metadata": {},
   "outputs": [],
   "source": [
    "terms1 = terms.split(\"\"\"</think>\n",
    "\n",
    "\"\"\")[1])"
   ]
  },
  {
   "cell_type": "code",
   "execution_count": 79,
   "id": "45729af2-1f4f-4124-a5d6-81d74f4e19a2",
   "metadata": {},
   "outputs": [],
   "source": [
    "terms_mistral = call_local_llm(prompt, model_mistral)"
   ]
  },
  {
   "cell_type": "code",
   "execution_count": 80,
   "id": "be3402ac-521d-46ce-b960-36f2581b627a",
   "metadata": {},
   "outputs": [
    {
     "name": "stdout",
     "output_type": "stream",
     "text": [
      "a. The minimum value for the answer is 0.1. This would occur if there is an economic depression with the shortest possible duration (just over 36 months) and the smallest possible real GDP decline (-10%).\n",
      "\n",
      "b. The maximum value for the answer is 10.0. This would occur if there is an economic depression with the longest possible duration and the largest possible real GDP decline. However, the exact maximum is not specified, so 10.0 is the upper bound of the scale provided.\n",
      "\n",
      "c. Yes, there is a formula for the answer given in the text. The relative severity is defined as:\n",
      "\\[ \\text{Relative Severity} = \\frac{\\text{Number of months the depression lasts} \\times \\text{Real GDP decline in percentage points (peak to trough)}}{1131} \\]\n",
      "\n",
      "d. The formula requires two inputs:\n",
      "1. The number of months the depression lasts.\n",
      "2. The real GDP decline in percentage points (peak to trough).\n",
      "\n",
      "These can be estimated using the resolution criteria provided:\n",
      "- The number of months can be determined by the duration of the recession (if it lasts 36 months or longer) or by the year's annual real GDP growth (if it is -10% or less).\n",
      "- The real GDP decline can be estimated from the data reported by the US Bureau of Economic Analysis.\n",
      "\n",
      "Here is a Python function that implements the formula:\n",
      "\n",
      "```python\n",
      "def calculate_relative_severity(depression_duration_months, real_gdp_decline_percent):\n",
      "    \"\"\"\n",
      "    Calculate the relative severity of a US depression compared to the Great Depression.\n",
      "\n",
      "    Parameters:\n",
      "    depression_duration_months (int): The number of months the depression lasts.\n",
      "    real_gdp_decline_percent (float): The real GDP decline in percentage points (peak to trough).\n",
      "\n",
      "    Returns:\n",
      "    float: The relative severity of the depression.\n",
      "    \"\"\"\n",
      "    relative_severity = (depression_duration_months * real_gdp_decline_percent) / 1131\n",
      "    return relative_severity\n",
      "\n",
      "# Example usage:\n",
      "# depression_duration_months = 43  # Example duration\n",
      "# real_gdp_decline_percent = 26.3  # Example GDP decline\n",
      "# relative_severity = calculate_relative_severity(depression_duration_months, real_gdp_decline_percent)\n",
      "# print(relative_severity)\n",
      "```\n",
      "\n",
      "This function takes the duration of the depression in months and the real GDP decline in percentage points as inputs and returns the relative severity of the depression.\n"
     ]
    }
   ],
   "source": [
    "print(terms_mistral)"
   ]
  },
  {
   "cell_type": "code",
   "execution_count": 40,
   "id": "799af77d-af3c-4086-a6a1-c3353f5a7e1f",
   "metadata": {},
   "outputs": [
    {
     "data": {
      "text/plain": [
       "<bound method Series.items of id_of_question                                                               4083\n",
       "title                           What will be the relative severity of the next...\n",
       "question_resolution_criteria    This question will resolve as **Ambiguous** if...\n",
       "question_fine_print                                                              \n",
       "question_type                                                             numeric\n",
       "question_description                                                             \n",
       "question_options                                                             None\n",
       "question_group_variable                                                          \n",
       "question_question_weight                                                      1.0\n",
       "question_unit                                                                    \n",
       "question_open_upper_bound                                                    True\n",
       "question_open_lower_bound                                                    True\n",
       "question_scaling_range_max                                                   10.0\n",
       "question_scaling_range_min                                                    0.1\n",
       "question_scaling_zero_point                                                   0.0\n",
       "crowd                           {10: 0.12078030935394252, 20: 0.18090452838404...\n",
       "Name: 0, dtype: object>"
      ]
     },
     "execution_count": 40,
     "metadata": {},
     "output_type": "execute_result"
    }
   ],
   "source": [
    "row.items"
   ]
  },
  {
   "cell_type": "code",
   "execution_count": 39,
   "id": "6cc7e3d7-abd0-4cb7-acf3-77b77f64c729",
   "metadata": {},
   "outputs": [
    {
     "name": "stdout",
     "output_type": "stream",
     "text": [
      "**Answer:**\n",
      "\n",
      "a. **Minimum Value:** 0.1  \n",
      "   - The minimum relative severity is set to 0.1 to ensure clarity in interpretation.\n",
      "\n",
      "b. **Maximum Value:** Approximately 9.4  \n",
      "   - This aligns with the Great Depression's calculated value, providing a reasonable upper bound for subsequent depressions.\n",
      "\n",
      "c. **Formula:**  \n",
      "   \\[\n",
      "   \\text{Relative Severity} = \\frac{\\text{Duration (months)} \\times \\text{Real GDP Decline (\\%)}}\n",
      "   \\]\n",
      "   \n",
      "d. **Python Function:**\n",
      "\n",
      "```python\n",
      "def calculate_relativeness(duration_months, real_gdp_decline):\n",
      "    severity = (duration_months * real_gdp_decline) / 1131\n",
      "    return round(severity, 2)\n",
      "```\n",
      "\n",
      "**Inputs and Outputs:**  \n",
      "- **Duration Months:** Number of months the depression lasts.  \n",
      "- **Real GDP Decline (%):** Percentage point reduction in annual real GDP.  \n",
      "\n",
      "This function computes the relative severity using the provided formula.\n"
     ]
    }
   ],
   "source": [
    "print(terms1)"
   ]
  },
  {
   "cell_type": "code",
   "execution_count": 89,
   "id": "17775bc2-96c8-4667-87af-63f4c3ffc83c",
   "metadata": {},
   "outputs": [],
   "source": [
    "prompt2 = f\"\"\"\n",
    "You are the intelligence community's best geopolitical, economic and overall news trivia forecaster.  \n",
    "You are given the following information to make a prediction:\n",
    "\n",
    "```title\n",
    "{row.title}\n",
    "```\n",
    "\n",
    "```news\n",
    "{row.asknews}\n",
    "\n",
    "```research\n",
    "{row.research}\n",
    "```\n",
    "\n",
    "Using the title, news and research, make a forecast according to the formulas you derived in the previous prompt response.\n",
    "If the Python function has multiple variables, assess each variable individually and then use the function to compute the measure.\n",
    "\n",
    "The last thing you write is your final answer as this sequence of percentile levels in percent and values as floating point numbers without currency symbols, commas or spelled out numbers like \"trillion\", just the raw complete number:\n",
    "\"\n",
    "Percentile 10: XX\n",
    "Percentile 20: XX\n",
    "Percentile 40: XX\n",
    "Percentile 60: XX\n",
    "Percentile 80: XX\n",
    "Percentile 90: XX\n",
    "\"\n",
    "Each line of the final answer MUST START with the word \"Percentile\".  For example if you have \"10: 201\" instead of \"Percentile 10: 201\", that is wrong.\n",
    "\n",
    "PLEASE REMEMBER THAT THE ANSWER MUST BE IN THE TERMS REQUESTED BY THE PROBLEM.  \n",
    "A QUICK CORRECTNESS CHECK IS THAT YOUR ANSWER MUST LIE BETWEEN THE MINIMUM AND MAXIMUM VALUES SPECIFIED.  \n",
    "THE REQUESTED TERMS ARE AS FOLLOWS:\n",
    "\n",
    "```terms\n",
    "{terms_mistral}\n",
    "```\n",
    "\"\"\""
   ]
  },
  {
   "cell_type": "code",
   "execution_count": 90,
   "id": "0c61abbd-ff80-43a7-8244-ac213fbf2107",
   "metadata": {},
   "outputs": [
    {
     "name": "stdout",
     "output_type": "stream",
     "text": [
      "\n",
      "You are the intelligence community's best geopolitical, economic and overall news trivia forecaster.  \n",
      "You are given the following information to make a prediction:\n",
      "\n",
      "```title\n",
      "What will be the relative severity of the next US depression, compared to the Great Depression?\n",
      "```\n",
      "\n",
      "```news\n",
      "Here are the relevant news articles:\n",
      "\n",
      "**The Worsening Pandemic of Gambling Highlighted in the Journal of American Physicians and Surgeons**\n",
      "Gambling addiction is worse than substance abuse in many ways, including higher suicide rates, according to Andrew Schlafly, Esq. in the Journal of American Physicians and Surgeons. A Swedish study found that the rate of suicide is 15 times higher among gamblers than in the general population. Physical health problems and psychiatric harm are also common among gamblers, including hypertension, cardiovascular disease, and major depressive episodes. Roughly half of Americans are engaged in gambling, and extreme addiction afflicts about 5% of the population. Schlafly warns that the rise of AI-powered gambling on cell phones, particularly among teenagers, is a growing concern. He also notes that the 2018 Supreme Court decision in Murphy v. NCAA has led to the legalization of sports gambling in 39 states, resulting in $57.2 billion in annual wagers. Schlafly suggests that the Major Questions Doctrine could help limit the spread of this madness, but warns that a new way to bet on event contracts, which is federally regulated, could make corruption inevitable.\n",
      "Original language: en\n",
      "Publish date: June 02, 2025 05:45 PM\n",
      "Source:[GlobeNewswire Press Releases](https://www.globenewswire.com/news-release/2025/06/02/3092249/22503/en/The-Worsening-Pandemic-of-Gambling-Highlighted-in-the-Journal-of-American-Physicians-and-Surgeons.html)\n",
      "\n",
      "**Research Highlights Worsening Mental Health of US Mothers - Internewscast Journal**\n",
      "A recent study published in JAMA Internal Medicine found a significant decline in the mental health of mothers in the United States from 2016 to 2023. The study, conducted by researchers from Columbia University and the University of Michigan, analyzed data from nearly 200,000 mothers participating in the National Survey of Children's Health. The results showed a decrease in the percentage of mothers reporting 'excellent' mental health, from 38% in 2016 to 26% in 2023, and an increase in the number of mothers rating their mental health as 'fair/poor', from 5.5% to 9%. According to Jamie Daw, an assistant professor of health policy and management at Columbia's Mailman School of Public Health, 'Although high rates of maternal morbidity and mortality have been well documented, national data on the health status of mothers beyond pregnancy and the first year postpartum is lacking.' The decline in mental health was observed across nearly every socioeconomic subgroup examined and is expected to have a negative impact on children's development. \n",
      "Original language: en\n",
      "Publish date: June 01, 2025 02:29 PM\n",
      "Source:[internewscast.com](https://internewscast.com/news/us/research-highlights-worsening-mental-health-of-us-mothers/)\n",
      "\n",
      "**Robert Kiyosaki Says a 'Greater Depression' Is Coming  --  Do Other Experts Agree?**\n",
      "Robert Kiyosaki has predicted a 'Greater Depression' in 2025, citing high credit card debt, rising unemployment, and declining 401k values. He urges investors to buy gold, silver, and Bitcoin. Other financial experts agree that rising debt and deficit spending are concerns, but disagree on the severity of the situation. Rod Skyles notes that consumer, corporate, and government debt is 'out of control' and interest rates are building at a rapid rate. Economists surveyed in the Wolters Kluwer Blue Chip Economic Indicator survey forecast a 72% probability of U.S. inflation increasing and a 47% probability of a U.S. recession over the next 12 months. They also see a risk of stagflation, with the 'misery index' climbing to 8.1% in the third quarter of 2025.\n",
      "Original language: en\n",
      "Publish date: June 01, 2025 12:32 PM\n",
      "Source:[Yahoo! Finance](https://finance.yahoo.com/news/robert-kiyosaki-says-greater-depression-120050147.html)\n",
      "\n",
      "**U.S. Money Supply Is Making History on Both Ends -- Including a First Since the Great Depression -- and It Portends a Wild Ride for Stocks | The Motley Fool**\n",
      "The U.S. money supply, specifically M2, has been making history on both ends of the spectrum. It declined by more than $1 trillion between April 2022 and October 2023, marking the first time since the Great Depression that M2 has declined by at least 2% on a year-over-year basis. This decline has been followed by a record high for M2, reaching $21.863 trillion in April 2025. The correlation between declines in M2 money supply and trouble for the U.S. economy and Wall Street is strong, but the likelihood of a depression taking shape in modern times is extremely low. Nevertheless, a first-in-90-years decline in M2 money supply heightened the possibility of a near-term U.S. recession. However, patience has an immaculate track record of forecasting the future, with every rolling 20-year period of total return data from 1900 to 2024 producing a positive annualized rate of return. This suggests that stocks may be extra volatile in the quarters and years to come, but patient investors should not be alarmed.\n",
      "Original language: en\n",
      "Publish date: June 01, 2025 07:23 AM\n",
      "Source:[The Motley Fool](https://www.fool.com/investing/2025/06/01/us-money-supply-great-depression-big-move-stocks/)\n",
      "\n",
      "**U.S. Money Supply Is Making History on Both Ends -- Including a First Since the Great Depression -- and It Portends a Wild Ride for Stocks**\n",
      "The U.S. money supply has made history by experiencing a decline of 4.76% between April 2022 and October 2023, the first time since the Great Depression that M2 has declined by at least 2% on a year-over-year basis. However, the M2 money supply has since rebounded to an all-time record high of $21.863 trillion in April 2025. This whipsaw effect in M2 over the last three years suggests that stocks may be extra volatile in the quarters and years to come. Despite this, patient investors should not be alarmed, as the U.S. economy has a strong track record of recovering from downturns. According to Crestmont Research, every rolling 20-year period of total return data from the S&P 500 has produced a positive annualized rate of return since 1900. This suggests that holding a long-term perspective and maintaining patience can lead to wealth growth, regardless of market conditions.\n",
      "Original language: en\n",
      "Publish date: June 01, 2025 07:06 AM\n",
      "Source:[Yahoo! Finance](https://finance.yahoo.com/news/u-money-supply-making-history-070600129.html?guccounter=1&guce_referrer=aHR0cHM6Ly9zcG9ydHMueWFob28uY29tL2ZlZWQvcnNzLw&guce_referrer_sig=AQAAAKjsWa46oIkVRfmDxzZ2zbgb33dQA5AGaYPaj84N4UuY-2YaE4qtmiTQnQkPipc0-WEw1M2MfNockq7YK6ikAqiCcFEnLF2qABJ5A1ju0G0EtoCqTBEJ2Kd1luP199838SPUqc1_dPankaedppkWUNEBGtgvKi_F4EQnt0XjLINc)\n",
      "\n",
      "**Vagus Nerve Stimulation Shows Promise in Treating Severe Depression**\n",
      "A recent study has shown that vagus nerve stimulation (VNS) can have long-term effects on patients with severe depression. The study, conducted by an international team of researchers, involved 493 patients who had not responded to previous treatments. The participants were fitted with a device that stimulated the vagus nerve, which is responsible for transmitting signals from the brain to various vital organs. The results showed that patients who received the treatment experienced improvements in their depression symptoms, quality of life, and ability to perform daily tasks. According to Dr. Charles Conway, a professor of psychiatry at Washington University in St. Louis, 'Before joining this study, patients had tried an average of 13 treatments, all of which failed to help them, and they spent more than half of their lives suffering from depression.' He added, 'Despite this high level of chronic illness, we still observe significant and meaningful improvements in depression symptoms, quality of life, and functional outcomes.' While VNS has shown promise in treating depression, the evidence for its success has not always been clear-cut, making the treatment expensive for many patients in the US, especially those relying on insurance. However, the study's results are promising, particularly in helping patients overcome the psychological paralysis that often accompanies severe depression. Conway said, 'What matters here is that patients themselves reported improvements in their lives,' and added, 'They express meaningful improvements in their ability to function and live normally.' Up to 30% of patients with severe depression do not respond to traditional antidepressants, leading to a deterioration of their mental health and increased risk of suicide, hospitalization, and disability. This model of clinical trials is currently being used to determine whether VNS can also make a difference for patients with bipolar disorder. The researchers aim to continue the study for an additional four years to assess whether the benefits are more pronounced in certain groups of patients. Conway said, 'The unique thing about vagus nerve stimulation is that we know from previous studies that when the patient responds to the treatment, the effects often remain stable.'\n",
      "Original language: ar\n",
      "Publish date: May 30, 2025 08:11 PM\n",
      "Source:[ibelieveinsci.com](https://www.ibelieveinsci.com/%d8%aa%d8%ad%d9%81%d9%8a%d8%b2-%d8%a7%d9%84%d8%b9%d8%b5%d8%a8-%d8%a7%d9%84%d9%85%d8%a8%d9%87%d9%85-%d9%84%d9%87-%d8%aa%d8%a3%d8%ab%d9%8a%d8%b1%d8%a7%d8%aa-%d8%b7%d9%88%d9%8a%d9%84%d8%a9-%d8%a7%d9%84/)\n",
      "\n",
      "**Finance guru issues stark warning for the US economy**\n",
      "Robert Kiyosaki, a renowned financial expert and author of 'Rich Dad Poor Dad', has issued a stark warning about the US economy, claiming it is heading for an unprecedented economic catastrophe, worse than the Great Depression. Kiyosaki cites record-high credit card debt, ballooning national liabilities, rising unemployment, and shrinking retirement savings as signs of an impending economic unraveling. He predicts that the next downturn will eclipse the 2008 crash and make the 1930s look minor by comparison. Kiyosaki advises people to pivot into what he considers the only real shelters left: Bitcoin, gold, and silver, saying, 'For those who take action today, when the crash crashes, those who invest in just one Bitcoin, or some gold, or silver... You may come through this crisis a very rich person.' He also predicts that one Bitcoin will be over $1 million by 2035, gold will be $30K, and silver will be $3,000 a coin.\n",
      "Original language: en\n",
      "Publish date: May 27, 2025 10:30 AM\n",
      "Source:[Daily Mail Online](https://www.dailymail.co.uk/galleries/article-14752753/Finance-guru-issues-stark-warning-US-economy.html)\n",
      "\n",
      "**Finance guru who predicted crash of 2008 issues devastating take on US economy | Daily Mail Online**\n",
      "Bestselling financial author Robert Kiyosaki has issued a stark warning that the US is heading for an unprecedented economic catastrophe, which he claims will be worse than the Great Depression. Kiyosaki cites record-high credit card debt, ballooning national liabilities, rising unemployment, and shrinking retirement savings as signs the economy is about to unravel. He predicts that the next downturn will make the 2008 crash look minor by comparison and that people should pivot into what he considers the only real shelters left: Bitcoin, gold, and silver. 'This coming Great Depression will cause millions to be poor … and a few who take action may enjoy great wealth and freedom,' Kiyosaki declared. He also predicts that Bitcoin will reach $1 million by 2035, gold will be $30K, and silver will be $3,000 a coin. Kiyosaki has been advising Americans to stock up for years and has challenged conventional wisdom on home ownership, advocating for rental properties and investments in Bitcoin, gold, and silver.\n",
      "Original language: en\n",
      "Publish date: May 27, 2025 01:27 AM\n",
      "Source:[dailymail.co.uk](https://www.dailymail.co.uk/yourmoney/article-14751721/Finance-guru-Robert-Kiyosaki-warns-US-heading-greater-depression.html)\n",
      "\n",
      "**Trump's massive import taxes haven't done much economic damage -- yet | Business | postregister.com**\n",
      "Despite predictions of economic damage, President Trump's massive import taxes, or tariffs, have not yet had a significant impact on the US economy. However, economists warn that the tariffs are still a concern, as they are unpredictable and have only just begun to take effect. The tariffs, which are the highest since the Great Depression, have been imposed on almost every country on earth, with an average tariff rate of 17.8%, the highest since 1934. While some companies, such as Walmart, have warned of price increases, consumers are less willing to accept higher prices, and many companies are absorbing some of the tariff costs. The economic damage doesn't just come from the cost of tariffs, but also from the erratic way the president imposes them. As one economist noted, 'We had a good jobs report. We had a cool inflation report, and that’s great. But that should not give us comfort about what next month will be, particularly on inflation.' \n",
      "Original language: en\n",
      "Publish date: May 19, 2025 09:30 PM\n",
      "Source:[postregister.com](https://www.postregister.com/business/trumps-massive-import-taxes-havent-done-much-economic-damage----yet/article_71471019-d40d-442f-b341-384027132326.html)\n",
      "\n",
      "**'Depression Cycle Is Here' Charles Nenner Warns \"It Will Be Much Worse In 2026\"**\n",
      "Renowned geopolitical and financial cycle expert Charles Nenner is predicting a depression by the end of 2025 and into 2026. He warns that the next few months will be a down year, with the S&P expected to drop to 4,000, resulting in a 50% loss of money for those in bad stocks. Nenner believes that 2026 will be 'much worse' due to the cycles in 1928 and 1929 being in the same position as 2025 and 2026. He also predicts a DOW at 5,000, which is significantly lower than its current value of nearly 39,000. Nenner attributes his bearish outlook to the potential for a big war between China and Taiwan, which he believes has a 50/50 chance of occurring. He still likes gold for the long term and expects silver to start catching up in May. Nenner also thinks interest rates are still in a long-term trend up, but there can be pullbacks, and the US dollar will not fall much more for now.\n",
      "Original language: en\n",
      "Publish date: April 23, 2025 01:20 PM\n",
      "Source:[Zero Hedge](https://www.zerohedge.com/geopolitical/depression-cycle-here-charles-nenner-warns-it-will-be-much-worse-2026)\n",
      "\n",
      "**Economist Warns of Global Collapse: 'No One Will Be Spared'**\n",
      "Economist Saeil Al-Draji has warned of a major economic and financial collapse that he predicts will occur within the next 12 months. According to Al-Draji, no economy will be spared from this collapse, which could be even more devastating than the Great Depression that hit the world over 100 years ago. Al-Draji believes that the American real estate sector, as well as banks, will be severely affected, potentially leading to the bankruptcy of major companies and a sharp decline in stock markets in the US, Europe, and Asia, as he said. 'This collapse will not leave anyone unscathed,' Al-Draji warned.\n",
      "Original language: ar\n",
      "Publish date: April 17, 2025 10:51 PM\n",
      "Source:[صحيفة سبق الالكترونية](https://sabq.org/business/m79idqqtxr)\n",
      "\n",
      "**The Great Depression: A Look Back at the Worst Single-Day Losses in Stock Market History**\n",
      "The Dow Jones plummeted over 22% on Thursday, October 24, 1929, also known as Black Thursday, but managed to limit the loss to 2% by the end of the day. The next day, October 28, saw a 13% drop, followed by a 12% decline on October 29. This marked the beginning of the Great Depression in the United States and a global economic crisis. The article highlights the worst single-day losses in the history of the Swiss stock market, including a 10.54% drop on October 16, 1989, in response to a sharp decline on Wall Street, and a 9.64% loss on March 12, 2020, due to the COVID-19 pandemic. The current market is experiencing a 5.85% loss as of 14:15, which would be the largest single-day decline since the pandemic if it holds until the end of the day.\n",
      "Original language: it\n",
      "Publish date: April 07, 2025 07:22 AM\n",
      "Source:[Corriere del Ticino](https://www.cdt.ch/news/economia/trump-sta-valutando-una-pausa-di-90-giorni-sui-dazi-ma-la-casa-bianca-smentisce-390345)\n",
      "\n",
      "**The World on the Brink of a New Great Depression?**\n",
      "The world is facing a complex situation, with a low unemployment rate of 5% globally, but also 187 million unemployed people and over 240 million suffering from labor poverty. The youth unemployment rate is 12.6% worldwide, and 259 million people are considered 'ninis' globally. The rapid development of digital technologies, especially artificial intelligence, is creating and destroying jobs at an alarming rate. The article suggests that the current situation is similar to the lead-up to the Great Depression, and that a global economic collapse or war could be imminent. The author blames the US president for the potential crisis, and questions whether any nation will be able to escape the consequences. The article also mentions the ongoing conflicts in Gaza, Ukraine, and Yemen, and the potential for a global war. The author concludes that the situation is dire and that people should be prepared for the worst.\n",
      "Original language: es\n",
      "Publish date: March 29, 2025 03:58 AM\n",
      "Source:[El Heraldo de M�xico](https://heraldodemexico.com.mx/opinion/2025/3/29/hacia-otra-gran-depresion-687161.html)\n",
      "\n",
      "**THE GREAT DEPRESSION.**\n",
      "The Great Depression, which lasted from 1929 to the early 1940s, was the most severe economic depression of the 20th century. It began in the U.S.A. and spread globally, causing widespread suffering due to mass unemployment, poverty, and economic hardship. The stock market crash of October 1929 was a major cause, but other factors included bank failures, overproduction, and rampant speculation. According to History seeker, 'The crash, however, was just one reason among a great many others.' The collapse of thousands of banks and resulting loss of savings, as well as the production of more goods than the market could consume, further exacerbated the crisis.\n",
      "Original language: en\n",
      "Publish date: March 08, 2025 05:43 PM\n",
      "Source:[Medium.com](https://medium.com/@muhammadwaqar_74629/the-great-depression-50a7cf4b2692)\n",
      "\n",
      "**Experts: In 10 Years' Time, Things on Earth Will Be Worse**\n",
      "According to the Atlantic Council's Global Foresight report, hundreds of experts surveyed believe that the world will be in a worse state in 2035. The report cites concerns over an increasing number of nuclear weapons, ongoing world conflicts, and the 'chances of democratic depression' worldwide. As Axios reports, only a small minority of the over 350 international experts surveyed think that democracy will improve in the next decade. The experts' outlook is bleak, with many anticipating a decline in global stability and security.\n",
      "Original language: en\n",
      "Publish date: February 13, 2025 08:40 PM\n",
      "Source:[Newser](https://www.newser.com/story/364235/experts-predictions-for-earth-in-2035-arent-great.html)\n",
      "\n",
      "**Why Jay Bhattacharya, Next Director of National Institutes Of Health, Opposed Covid Lockdowns**\n",
      "Jay Bhattacharya, a professor at Stanford University School of Medicine and a senior fellow at the Stanford Institute for Economic Policy Research, has been nominated to serve as the director of the National Institutes of Health. Bhattacharya argues that the global economic depression caused by continued lockdowns will kill large numbers of people and calls for widespread seroprevalence tests to understand the severity of the disease. He believes that the epidemic is more widespread than believed, with many people having been infected with the virus and cleared it without being tested. Bhattacharya estimates that the actual number of people infected could be 50-85 times the number of confirmed cases, citing a study in Santa Clara that found a prevalence of 2-4% among 2 million people. He advocates for population-level seroprevalence testing to determine the true extent of the epidemic and to inform policy decisions. Bhattacharya also emphasizes the need to consider the economic costs of lockdowns, including the lives lost due to the global economic depression. He believes that making policy decisions in the midst of fear is a bad idea and that we need to 'shine the light of science on this' to make better decisions.\n",
      "Original language: en\n",
      "Publish date: November 27, 2024 12:27 PM\n",
      "Source:[indiaspend.com](https://www.indiaspend.com/indiaspend-interviews/why-jay-bhattacharya-next-director-of-national-institutes-of-health-opposed-covid-lockdowns-932617)\n",
      "\n",
      "\n",
      "\n",
      "```research\n",
      "# Forecasting Analysis: Potential US Depression (2022-2032)\n",
      "\n",
      "Based on information available as of April 13, 2020, I'll analyze the potential for and severity of a US depression in the 2022-2032 timeframe compared to the Great Depression.\n",
      "\n",
      "## Historical Context and Current Status\n",
      "\n",
      "The Great Depression (1929-1933) remains the benchmark for economic catastrophes in the US, with:\n",
      "- Duration: 43 months\n",
      "- Real GDP decline: 26.3% (peak to trough)\n",
      "- Severity score: 1131 (43 × 26.3)\n",
      "\n",
      "Economic conditions as of early 2020 showed several concerning patterns that could potentially contribute to economic instability:\n",
      "\n",
      "- Extended bull market and economic expansion following the 2008-2009 financial crisis\n",
      "- High corporate debt levels and potential asset bubbles\n",
      "- Growing federal budget deficits even during economic expansion\n",
      "- Global trade tensions affecting supply chains\n",
      "\n",
      "## Key Factors Affecting Depression Probability\n",
      "\n",
      "### Economic Growth Projections\n",
      "\n",
      "Economic forecasts available in early 2020 generally projected moderate but slowing growth for the coming decade. While some economists had raised concerns about a potential recession in the near term, few were projecting a depression-level event within the 2022-2032 timeframe.\n",
      "\n",
      "Some economic research firms have been forecasting a potential \"Great Depression\" scenario for the 2030s, which falls partially within our resolution timeframe[2]. However, these forecasts typically point to the latter part of the 2030s, mostly outside our resolution window.\n",
      "\n",
      "### Federal Fiscal Position\n",
      "\n",
      "The US federal deficit and debt positions were already concerning before 2020:\n",
      "- Growing deficits despite economic expansion\n",
      "- Federal debt approaching 100% of GDP\n",
      "- Increasing entitlement spending pressures\n",
      "\n",
      "These factors reduce the government's fiscal flexibility to respond to severe economic downturns.\n",
      "\n",
      "### Monetary Policy Environment\n",
      "\n",
      "As of early 2020, key monetary policy considerations included:\n",
      "- Interest rates already at historically low levels\n",
      "- Federal Reserve balance sheet still expanded from previous interventions\n",
      "- Limited room for conventional monetary policy responses to a severe downturn\n",
      "\n",
      "## Probabilistic Assessment\n",
      "\n",
      "Based on pre-April 2020 information, I assess the following:\n",
      "\n",
      "1. **Probability of a depression meeting the specified criteria (2022-2032)**: Approximately 15-20%\n",
      "   - Most likely scenario remains continued economic cycles without depression-level severity\n",
      "   - The probability is elevated compared to historical baselines due to systemic vulnerabilities\n",
      "\n",
      "2. **Conditional severity assessment** (if a depression occurs):\n",
      "   - Expected relative severity: 0.3-0.7 times the Great Depression\n",
      "   - This translates to approximately 340-790 on the severity scale (where Great Depression = 1131)\n",
      "   - Key factors: stronger institutional safeguards and policy tools compared to 1929, but potentially less fiscal/monetary flexibility\n",
      "\n",
      "3. **Most likely scenario**:\n",
      "   - If a depression occurs, it would likely feature:\n",
      "   - Duration: 24-36 months (shorter than Great Depression)\n",
      "   - GDP decline: 12-18% (less severe than Great Depression's 26.3%)\n",
      "   - Resulting in a severity score of approximately 290-650 (0.25-0.58× Great Depression)\n",
      "\n",
      "## Limitations and Uncertainties\n",
      "\n",
      "Several important limitations affect this forecast:\n",
      "\n",
      "1. Economic forecasting becomes increasingly uncertain beyond 2-3 year horizons\n",
      "2. The resolution criteria's specific thresholds (36+ months or -10% annual GDP) create discontinuities in assessment\n",
      "3. Historical sample size of depression-level events is extremely small, limiting statistical inference\n",
      "4. Structural changes in the economy make direct historical comparisons challenging\n",
      "5. The definition of \"depression\" itself lacks universal consensus among economists\n",
      "```\n",
      "\n",
      "Using the title, news and research, make a forecast according to the formulas you derived in the previous prompt response.\n",
      "If the Python function has multiple variables, assess each variable individually and then use the function to compute the measure.\n",
      "\n",
      "The last thing you write is your final answer as this sequence of percentile levels in percent and values as floating point numbers without currency symbols, commas or spelled out numbers like \"trillion\", just the raw complete number:\n",
      "\"\n",
      "Percentile 10: XX\n",
      "Percentile 20: XX\n",
      "Percentile 40: XX\n",
      "Percentile 60: XX\n",
      "Percentile 80: XX\n",
      "Percentile 90: XX\n",
      "\"\n",
      "Each line of the final answer MUST START with the word \"Percentile\".  For example if you have \"10: 201\" instead of \"Percentile 10: 201\", that is wrong.\n",
      "\n",
      "PLEASE REMEMBER THAT THE ANSWER MUST BE IN THE TERMS REQUESTED BY THE PROBLEM.  \n",
      "A QUICK CORRECTNESS CHECK IS THAT YOUR ANSWER MUST LIE BETWEEN THE MINIMUM AND MAXIMUM VALUES SPECIFIED.  \n",
      "THE REQUESTED TERMS ARE AS FOLLOWS:\n",
      "\n",
      "```terms\n",
      "a. The minimum value for the answer is 0.1. This would occur if there is an economic depression with the shortest possible duration (just over 36 months) and the smallest possible real GDP decline (-10%).\n",
      "\n",
      "b. The maximum value for the answer is 10.0. This would occur if there is an economic depression with the longest possible duration and the largest possible real GDP decline. However, the exact maximum is not specified, so 10.0 is the upper bound of the scale provided.\n",
      "\n",
      "c. Yes, there is a formula for the answer given in the text. The relative severity is defined as:\n",
      "\\[ \\text{Relative Severity} = \\frac{\\text{Number of months the depression lasts} \\times \\text{Real GDP decline in percentage points (peak to trough)}}{1131} \\]\n",
      "\n",
      "d. The formula requires two inputs:\n",
      "1. The number of months the depression lasts.\n",
      "2. The real GDP decline in percentage points (peak to trough).\n",
      "\n",
      "These can be estimated using the resolution criteria provided:\n",
      "- The number of months can be determined by the duration of the recession (if it lasts 36 months or longer) or by the year's annual real GDP growth (if it is -10% or less).\n",
      "- The real GDP decline can be estimated from the data reported by the US Bureau of Economic Analysis.\n",
      "\n",
      "Here is a Python function that implements the formula:\n",
      "\n",
      "```python\n",
      "def calculate_relative_severity(depression_duration_months, real_gdp_decline_percent):\n",
      "    \"\"\"\n",
      "    Calculate the relative severity of a US depression compared to the Great Depression.\n",
      "\n",
      "    Parameters:\n",
      "    depression_duration_months (int): The number of months the depression lasts.\n",
      "    real_gdp_decline_percent (float): The real GDP decline in percentage points (peak to trough).\n",
      "\n",
      "    Returns:\n",
      "    float: The relative severity of the depression.\n",
      "    \"\"\"\n",
      "    relative_severity = (depression_duration_months * real_gdp_decline_percent) / 1131\n",
      "    return relative_severity\n",
      "\n",
      "# Example usage:\n",
      "# depression_duration_months = 43  # Example duration\n",
      "# real_gdp_decline_percent = 26.3  # Example GDP decline\n",
      "# relative_severity = calculate_relative_severity(depression_duration_months, real_gdp_decline_percent)\n",
      "# print(relative_severity)\n",
      "```\n",
      "\n",
      "This function takes the duration of the depression in months and the real GDP decline in percentage points as inputs and returns the relative severity of the depression.\n",
      "```\n",
      "\n"
     ]
    }
   ],
   "source": [
    "print(prompt2)"
   ]
  },
  {
   "cell_type": "code",
   "execution_count": 91,
   "id": "89e5037b-c1f3-4759-acfa-14238e5f54ee",
   "metadata": {},
   "outputs": [],
   "source": [
    "answer_mistral = call_local_llm(prompt2, model_mistral)"
   ]
  },
  {
   "cell_type": "code",
   "execution_count": null,
   "id": "914392e0-133c-470a-aaa4-6a1ffdb5057c",
   "metadata": {},
   "outputs": [],
   "source": [
    "answer_mistral2 = call_local_llm(prompt2, model_mistral)"
   ]
  },
  {
   "cell_type": "code",
   "execution_count": 97,
   "id": "8e8f18b5-78d7-436c-91c2-6f73811259d9",
   "metadata": {},
   "outputs": [
    {
     "name": "stdout",
     "output_type": "stream",
     "text": [
      "START model mistral-small3.2:24b-instruct-2506-q4_K_M id 4083\n",
      "model mistral-small3.2:24b-instruct-2506-q4_K_M id 4083 minutes 5.391960394382477\n"
     ]
    }
   ],
   "source": [
    "answer_mistral3 = call_local_llm(prompt2, model_mistral)"
   ]
  },
  {
   "cell_type": "code",
   "execution_count": 101,
   "id": "db24ee66-0737-4355-a6e4-8d78685c147b",
   "metadata": {},
   "outputs": [],
   "source": [
    "from extract_forecast import extract_percentile_numbers"
   ]
  },
  {
   "cell_type": "code",
   "execution_count": 103,
   "id": "aa6ae250-740e-4a61-8ea3-22bd126193b8",
   "metadata": {},
   "outputs": [],
   "source": [
    "forecasts = [extract_percentile_numbers(x) for x in [answer_mistral, answer_mistral2, answer_mistral3]]"
   ]
  },
  {
   "cell_type": "code",
   "execution_count": 104,
   "id": "39a7d073-9f08-4896-bedb-f44032c25e70",
   "metadata": {},
   "outputs": [
    {
     "data": {
      "text/plain": [
       "[{10: 0.32, 20: 0.38, 40: 0.49, 60: 0.69, 80: 0.87, 90: 1.06},\n",
       " {10: 0.32, 20: 0.37, 40: 0.52, 60: 0.67, 80: 0.78, 90: 0.85},\n",
       " {10: 0.32, 20: 0.35, 40: 0.43, 60: 0.7, 80: 0.8, 90: 0.85}]"
      ]
     },
     "execution_count": 104,
     "metadata": {},
     "output_type": "execute_result"
    }
   ],
   "source": [
    "forecasts"
   ]
  },
  {
   "cell_type": "code",
   "execution_count": 105,
   "id": "159c7b93-7ca6-4089-b15f-f9de732d0f52",
   "metadata": {},
   "outputs": [],
   "source": [
    "from median_dictionaries import median_dictionaries"
   ]
  },
  {
   "cell_type": "code",
   "execution_count": 106,
   "id": "fdec48e4-3576-448f-b3b9-1319bef933aa",
   "metadata": {},
   "outputs": [],
   "source": [
    "forecast = median_dictionaries(forecasts)"
   ]
  },
  {
   "cell_type": "code",
   "execution_count": 107,
   "id": "68503cc0-0fcf-4713-9da2-3f1827b5087a",
   "metadata": {},
   "outputs": [
    {
     "data": {
      "text/plain": [
       "{10: 0.32, 20: 0.37, 40: 0.49, 60: 0.69, 80: 0.8, 90: 0.85}"
      ]
     },
     "execution_count": 107,
     "metadata": {},
     "output_type": "execute_result"
    }
   ],
   "source": [
    "forecast"
   ]
  },
  {
   "cell_type": "code",
   "execution_count": 121,
   "id": "f2c7e373-03e2-484b-91bb-5dee34d5104e",
   "metadata": {},
   "outputs": [],
   "source": [
    "prompt = f\"\"\"\n",
    "Summarize the gist pf the rationale or thinking of the following answers from 3 different forecasters to a single problem. \n",
    "\n",
    "```forecast 1\n",
    "{answer_mistral}\n",
    "```\n",
    "\n",
    "```forecast 2\n",
    "{answer_mistral2}\n",
    "```\n",
    "\n",
    "```forecast 3\n",
    "{answer_mistral3}\n",
    "```\n",
    "\n",
    "DO NOT REFER TO THE 3 FORECASTERS.  PRESENT THIS AS YOUR OWN THINKING, YOUR OWN RATIONALE.  Use as your final the median forecast which is\n",
    "\n",
    "```median forecast\n",
    "{forecast}\n",
    "```\n",
    "\"\"\""
   ]
  },
  {
   "cell_type": "code",
   "execution_count": 124,
   "id": "aa5934ed-07b0-49f4-89e5-d4b151677c2a",
   "metadata": {},
   "outputs": [
    {
     "name": "stdout",
     "output_type": "stream",
     "text": [
      "START model mistral-small3.2:24b-instruct-2506-q4_K_M\n",
      "model mistral-small3.2:24b-instruct-2506-q4_K_M minutes 4.024289488792419\n"
     ]
    }
   ],
   "source": [
    "rationale = call_local_llm(prompt, model_mistral)"
   ]
  },
  {
   "cell_type": "code",
   "execution_count": 125,
   "id": "e730a688-3cf3-400f-b65d-a733eac497d3",
   "metadata": {},
   "outputs": [
    {
     "name": "stdout",
     "output_type": "stream",
     "text": [
      "To forecast the potential severity of a US depression between 2022 and 2032, I analyzed key variables—depression duration and real GDP decline—using available news articles and research. The goal was to estimate the relative severity at various percentiles based on these variables.\n",
      "\n",
      "### Key Variables and Estimates\n",
      "\n",
      "1. **Depression Duration (months)**:\n",
      "   - Historical context suggests depressions typically last 3-4 years (36-48 months), but some forecasts suggest longer durations.\n",
      "   - Estimated range: 36 to 48 months.\n",
      "\n",
      "2. **Real GDP Decline (%)**:\n",
      "   - The Great Depression saw a 26.3% decline, but modern economies have stronger safeguards.\n",
      "   - Forecasts suggest a potential decline of 10-20% in a severe depression scenario.\n",
      "   - Estimated range: 10 to 20%.\n",
      "\n",
      "### Percentile Estimates\n",
      "\n",
      "I estimated the relative severity at various percentiles based on the range of possible outcomes:\n",
      "\n",
      "1. **Percentile 10 (Optimistic Scenario)**:\n",
      "   - Duration: 36 months\n",
      "   - GDP Decline: 10%\n",
      "   - Relative Severity: (36 * 10) / 1131 ≈ 0.32\n",
      "\n",
      "2. **Percentile 20**:\n",
      "   - Duration: 38 months\n",
      "   - GDP Decline: 11%\n",
      "   - Relative Severity: (38 * 11) / 1131 ≈ 0.37\n",
      "\n",
      "3. **Percentile 40**:\n",
      "   - Duration: 42 months\n",
      "   - GDP Decline: 13%\n",
      "   - Relative Severity: (42 * 13) / 1131 ≈ 0.49\n",
      "\n",
      "4. **Percentile 60**:\n",
      "   - Duration: 46 months\n",
      "   - GDP Decline: 16%\n",
      "   - Relative Severity: (46 * 16) / 1131 ≈ 0.69\n",
      "\n",
      "5. **Percentile 80**:\n",
      "   - Duration: 48 months\n",
      "   - GDP Decline: 18%\n",
      "   - Relative Severity: (48 * 18) / 1131 ≈ 0.80\n",
      "\n",
      "6. **Percentile 90 (Pessimistic Scenario)**:\n",
      "   - Duration: 48 months\n",
      "   - GDP Decline: 20%\n",
      "   - Relative Severity: (48 * 20) / 1131 ≈ 0.85\n",
      "\n",
      "### Final Answer\n",
      "\n",
      "Percentile 10: 0.32\n",
      "Percentile 20: 0.37\n",
      "Percentile 40: 0.49\n",
      "Percentile 60: 0.69\n",
      "Percentile 80: 0.80\n",
      "Percentile 90: 0.85\n"
     ]
    }
   ],
   "source": [
    "print(rationale)"
   ]
  },
  {
   "cell_type": "code",
   "execution_count": 127,
   "id": "c755e36f-b4e0-4365-b1c2-8ace6c787711",
   "metadata": {},
   "outputs": [],
   "source": [
    "row.forecast = rationale"
   ]
  },
  {
   "cell_type": "code",
   "execution_count": 128,
   "id": "0845b771-1ca2-4b20-8321-316c7bf4ef39",
   "metadata": {},
   "outputs": [],
   "source": [
    "row.prediction = forecast"
   ]
  },
  {
   "cell_type": "code",
   "execution_count": 129,
   "id": "4afa82f0-c230-4553-b163-f6fd7baf55f8",
   "metadata": {},
   "outputs": [
    {
     "data": {
      "text/plain": [
       "{10: 0.12078030935394252,\n",
       " 20: 0.18090452838404858,\n",
       " 40: 0.31602166092352635,\n",
       " 60: 0.5855876413475696,\n",
       " 80: 1.08827192521814,\n",
       " 90: 2.0153375155147737}"
      ]
     },
     "execution_count": 129,
     "metadata": {},
     "output_type": "execute_result"
    }
   ],
   "source": [
    "row.crowd"
   ]
  },
  {
   "cell_type": "code",
   "execution_count": 130,
   "id": "babd53b4-f064-48a4-8604-410d55dd9700",
   "metadata": {},
   "outputs": [],
   "source": [
    "from error import error"
   ]
  },
  {
   "cell_type": "code",
   "execution_count": 131,
   "id": "f03e7094-7ea0-4047-be90-44c6fc0cf8ad",
   "metadata": {},
   "outputs": [
    {
     "data": {
      "text/plain": [
       "0.4977514933466121"
      ]
     },
     "execution_count": 131,
     "metadata": {},
     "output_type": "execute_result"
    }
   ],
   "source": [
    "error(row)"
   ]
  },
  {
   "cell_type": "code",
   "execution_count": null,
   "id": "5047bad9-5ed3-48aa-ab12-154d38e591d4",
   "metadata": {},
   "outputs": [],
   "source": []
  }
 ],
 "metadata": {
  "kernelspec": {
   "display_name": "Python 3 (ipykernel)",
   "language": "python",
   "name": "python3"
  },
  "language_info": {
   "codemirror_mode": {
    "name": "ipython",
    "version": 3
   },
   "file_extension": ".py",
   "mimetype": "text/x-python",
   "name": "python",
   "nbconvert_exporter": "python",
   "pygments_lexer": "ipython3",
   "version": "3.12.3"
  }
 },
 "nbformat": 4,
 "nbformat_minor": 5
}
