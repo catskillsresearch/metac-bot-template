{
 "cells": [
  {
   "cell_type": "markdown",
   "id": "c1f27471-5886-4bc2-acdf-2dac9cf49676",
   "metadata": {},
   "source": [
    "# Community alignment of training questions"
   ]
  },
  {
   "cell_type": "code",
   "execution_count": 1,
   "id": "40c585c9-9d1e-4329-a0ed-f78f53ec8176",
   "metadata": {},
   "outputs": [],
   "source": [
    "%matplotlib inline"
   ]
  },
  {
   "cell_type": "code",
   "execution_count": 2,
   "id": "122c8339-86ea-47c5-8993-033752f69f5d",
   "metadata": {},
   "outputs": [],
   "source": [
    "import pandas as pd\n",
    "pd.set_option('display.max_columns', None)\n",
    "from ollama_models import ollama_models\n",
    "models = ollama_models()"
   ]
  },
  {
   "cell_type": "code",
   "execution_count": 3,
   "id": "a75e3d1e-890d-44d9-b173-18f3afbfbe31",
   "metadata": {},
   "outputs": [
    {
     "data": {
      "text/plain": [
       "['deepseek-r1:1.5b-qwen-distill-q4_K_M']"
      ]
     },
     "execution_count": 3,
     "metadata": {},
     "output_type": "execute_result"
    }
   ],
   "source": [
    "models"
   ]
  },
  {
   "cell_type": "code",
   "execution_count": 4,
   "id": "7e9ffc2f-696a-4511-9ab1-9b27936433ea",
   "metadata": {},
   "outputs": [],
   "source": [
    "from community_alignment import community_alignment"
   ]
  },
  {
   "cell_type": "code",
   "execution_count": 5,
   "id": "b7f8ae58-b789-43bf-8cf6-fec48e08679c",
   "metadata": {},
   "outputs": [
    {
     "name": "stdout",
     "output_type": "stream",
     "text": [
      "Loaded existing index from forecast_index.faiss\n",
      "Index contains 5834 vectors at initialization\n"
     ]
    },
    {
     "name": "stderr",
     "output_type": "stream",
     "text": [
      "100%|██████████████████████████████████████| 113/113 [00:00<00:00, 29644.51it/s]"
     ]
    },
    {
     "name": "stdout",
     "output_type": "stream",
     "text": [
      "saved community_deepseek-r1:1.5b-qwen-distill-q4_K_M.json\n"
     ]
    },
    {
     "name": "stderr",
     "output_type": "stream",
     "text": [
      "\n"
     ]
    },
    {
     "data": {
      "image/png": "[encoded data removed]",
      "text/plain": [
       "<Figure size 640x480 with 1 Axes>"
      ]
     },
     "metadata": {},
     "output_type": "display_data"
    }
   ],
   "source": [
    "dfs = {}\n",
    "for model in models:\n",
    "    df = community_alignment(model)\n",
    "    dfs[model] = df"
   ]
  },
  {
   "cell_type": "code",
   "execution_count": 21,
   "id": "078e67e8-8024-4a94-b2a9-9a155d50efc4",
   "metadata": {},
   "outputs": [
    {
     "data": {
      "text/html": [
       "<div>\n",
       "<style scoped>\n",
       "    .dataframe tbody tr th:only-of-type {\n",
       "        vertical-align: middle;\n",
       "    }\n",
       "\n",
       "    .dataframe tbody tr th {\n",
       "        vertical-align: top;\n",
       "    }\n",
       "\n",
       "    .dataframe thead th {\n",
       "        text-align: right;\n",
       "    }\n",
       "</style>\n",
       "<table border=\"1\" class=\"dataframe\">\n",
       "  <thead>\n",
       "    <tr style=\"text-align: right;\">\n",
       "      <th></th>\n",
       "      <th>model</th>\n",
       "      <th>id</th>\n",
       "      <th>title</th>\n",
       "      <th>error</th>\n",
       "    </tr>\n",
       "  </thead>\n",
       "  <tbody>\n",
       "    <tr>\n",
       "      <th>108</th>\n",
       "      <td>deepseek-r1:1.5b-qwen-distill-q4_K_M</td>\n",
       "      <td>491</td>\n",
       "      <td>Will China reduce their carbon emissions per G...</td>\n",
       "      <td>0.200</td>\n",
       "    </tr>\n",
       "    <tr>\n",
       "      <th>54</th>\n",
       "      <td>deepseek-r1:1.5b-qwen-distill-q4_K_M</td>\n",
       "      <td>736</td>\n",
       "      <td>Will there be a complete 4 year interval in wh...</td>\n",
       "      <td>0.230</td>\n",
       "    </tr>\n",
       "    <tr>\n",
       "      <th>76</th>\n",
       "      <td>deepseek-r1:1.5b-qwen-distill-q4_K_M</td>\n",
       "      <td>841</td>\n",
       "      <td>Will Metaculus exist in 2030?</td>\n",
       "      <td>0.150</td>\n",
       "    </tr>\n",
       "    <tr>\n",
       "      <th>88</th>\n",
       "      <td>deepseek-r1:1.5b-qwen-distill-q4_K_M</td>\n",
       "      <td>899</td>\n",
       "      <td>Will the richest person in the world in 2033 h...</td>\n",
       "      <td>0.260</td>\n",
       "    </tr>\n",
       "    <tr>\n",
       "      <th>102</th>\n",
       "      <td>deepseek-r1:1.5b-qwen-distill-q4_K_M</td>\n",
       "      <td>980</td>\n",
       "      <td>Will Tesla become the largest car company in t...</td>\n",
       "      <td>0.880</td>\n",
       "    </tr>\n",
       "    <tr>\n",
       "      <th>...</th>\n",
       "      <td>...</td>\n",
       "      <td>...</td>\n",
       "      <td>...</td>\n",
       "      <td>...</td>\n",
       "    </tr>\n",
       "    <tr>\n",
       "      <th>5</th>\n",
       "      <td>deepseek-r1:1.5b-qwen-distill-q4_K_M</td>\n",
       "      <td>21531</td>\n",
       "      <td>Will the bubble in the Magnificent Seven pop b...</td>\n",
       "      <td>0.560</td>\n",
       "    </tr>\n",
       "    <tr>\n",
       "      <th>93</th>\n",
       "      <td>deepseek-r1:1.5b-qwen-distill-q4_K_M</td>\n",
       "      <td>21914</td>\n",
       "      <td>Will Bryan Caplan win his bet that real gross ...</td>\n",
       "      <td>0.151</td>\n",
       "    </tr>\n",
       "    <tr>\n",
       "      <th>112</th>\n",
       "      <td>deepseek-r1:1.5b-qwen-distill-q4_K_M</td>\n",
       "      <td>22523</td>\n",
       "      <td>Will the U.S. employment to population ratio f...</td>\n",
       "      <td>0.845</td>\n",
       "    </tr>\n",
       "    <tr>\n",
       "      <th>22</th>\n",
       "      <td>deepseek-r1:1.5b-qwen-distill-q4_K_M</td>\n",
       "      <td>26721</td>\n",
       "      <td>Will the S&amp;P 500 Index increase over the year ...</td>\n",
       "      <td>0.120</td>\n",
       "    </tr>\n",
       "    <tr>\n",
       "      <th>94</th>\n",
       "      <td>deepseek-r1:1.5b-qwen-distill-q4_K_M</td>\n",
       "      <td>28570</td>\n",
       "      <td>Will there be a global recession before 2026, ...</td>\n",
       "      <td>0.100</td>\n",
       "    </tr>\n",
       "  </tbody>\n",
       "</table>\n",
       "<p>113 rows × 4 columns</p>\n",
       "</div>"
      ],
      "text/plain": [
       "                                    model     id  \\\n",
       "108  deepseek-r1:1.5b-qwen-distill-q4_K_M    491   \n",
       "54   deepseek-r1:1.5b-qwen-distill-q4_K_M    736   \n",
       "76   deepseek-r1:1.5b-qwen-distill-q4_K_M    841   \n",
       "88   deepseek-r1:1.5b-qwen-distill-q4_K_M    899   \n",
       "102  deepseek-r1:1.5b-qwen-distill-q4_K_M    980   \n",
       "..                                    ...    ...   \n",
       "5    deepseek-r1:1.5b-qwen-distill-q4_K_M  21531   \n",
       "93   deepseek-r1:1.5b-qwen-distill-q4_K_M  21914   \n",
       "112  deepseek-r1:1.5b-qwen-distill-q4_K_M  22523   \n",
       "22   deepseek-r1:1.5b-qwen-distill-q4_K_M  26721   \n",
       "94   deepseek-r1:1.5b-qwen-distill-q4_K_M  28570   \n",
       "\n",
       "                                                 title  error  \n",
       "108  Will China reduce their carbon emissions per G...  0.200  \n",
       "54   Will there be a complete 4 year interval in wh...  0.230  \n",
       "76                       Will Metaculus exist in 2030?  0.150  \n",
       "88   Will the richest person in the world in 2033 h...  0.260  \n",
       "102  Will Tesla become the largest car company in t...  0.880  \n",
       "..                                                 ...    ...  \n",
       "5    Will the bubble in the Magnificent Seven pop b...  0.560  \n",
       "93   Will Bryan Caplan win his bet that real gross ...  0.151  \n",
       "112  Will the U.S. employment to population ratio f...  0.845  \n",
       "22   Will the S&P 500 Index increase over the year ...  0.120  \n",
       "94   Will there be a global recession before 2026, ...  0.100  \n",
       "\n",
       "[113 rows x 4 columns]"
      ]
     },
     "metadata": {},
     "output_type": "display_data"
    }
   ],
   "source": [
    "for model in models:\n",
    "    df = dfs[model]\n",
    "    df1 = df[['model', 'id', 'title', 'error']].sort_values(by='id')\n",
    "    display(df1)"
   ]
  },
  {
   "cell_type": "code",
   "execution_count": 7,
   "id": "41ce78d6-396a-40ed-9870-3b0995db27ab",
   "metadata": {},
   "outputs": [
    {
     "data": {
      "image/png": "[encoded data removed]",
      "text/plain": [
       "<Figure size 640x480 with 1 Axes>"
      ]
     },
     "metadata": {},
     "output_type": "display_data"
    }
   ],
   "source": [
    "import matplotlib.pylab as plt\n",
    "errors = []\n",
    "for model in models:\n",
    "    df = dfs[model]\n",
    "    errors.append((model, df.error.median()))\n",
    "    plt.plot(sorted(df['error'].values.tolist()), label=model)\n",
    "plt.legend();"
   ]
  },
  {
   "cell_type": "code",
   "execution_count": 8,
   "id": "f43848a9-b447-4592-b5a8-c83659b3db5d",
   "metadata": {},
   "outputs": [],
   "source": [
    "import json\n",
    "with open('id_to_category.json', 'r') as f:\n",
    "    id_to_category = json.load(f)"
   ]
  },
  {
   "cell_type": "code",
   "execution_count": 10,
   "id": "d758cbab-65a3-48fc-822f-169589dba418",
   "metadata": {},
   "outputs": [],
   "source": [
    "for id in id_to_category:\n",
    "    if 'Environ' in id_to_category[id]:\n",
    "        id_to_category[id] = 'Environment'"
   ]
  },
  {
   "cell_type": "code",
   "execution_count": 12,
   "id": "70719641-9757-47b7-a2e6-0ddb8c0a055c",
   "metadata": {},
   "outputs": [
    {
     "data": {
      "text/html": [
       "<div>\n",
       "<style scoped>\n",
       "    .dataframe tbody tr th:only-of-type {\n",
       "        vertical-align: middle;\n",
       "    }\n",
       "\n",
       "    .dataframe tbody tr th {\n",
       "        vertical-align: top;\n",
       "    }\n",
       "\n",
       "    .dataframe thead th {\n",
       "        text-align: right;\n",
       "    }\n",
       "</style>\n",
       "<table border=\"1\" class=\"dataframe\">\n",
       "  <thead>\n",
       "    <tr style=\"text-align: right;\">\n",
       "      <th></th>\n",
       "      <th>model</th>\n",
       "      <th>id</th>\n",
       "      <th>title</th>\n",
       "      <th>error</th>\n",
       "    </tr>\n",
       "  </thead>\n",
       "  <tbody>\n",
       "    <tr>\n",
       "      <th>108</th>\n",
       "      <td>deepseek-r1:1.5b-qwen-distill-q4_K_M</td>\n",
       "      <td>491</td>\n",
       "      <td>Will China reduce their carbon emissions per G...</td>\n",
       "      <td>0.200</td>\n",
       "    </tr>\n",
       "    <tr>\n",
       "      <th>54</th>\n",
       "      <td>deepseek-r1:1.5b-qwen-distill-q4_K_M</td>\n",
       "      <td>736</td>\n",
       "      <td>Will there be a complete 4 year interval in wh...</td>\n",
       "      <td>0.230</td>\n",
       "    </tr>\n",
       "    <tr>\n",
       "      <th>76</th>\n",
       "      <td>deepseek-r1:1.5b-qwen-distill-q4_K_M</td>\n",
       "      <td>841</td>\n",
       "      <td>Will Metaculus exist in 2030?</td>\n",
       "      <td>0.150</td>\n",
       "    </tr>\n",
       "    <tr>\n",
       "      <th>88</th>\n",
       "      <td>deepseek-r1:1.5b-qwen-distill-q4_K_M</td>\n",
       "      <td>899</td>\n",
       "      <td>Will the richest person in the world in 2033 h...</td>\n",
       "      <td>0.260</td>\n",
       "    </tr>\n",
       "    <tr>\n",
       "      <th>102</th>\n",
       "      <td>deepseek-r1:1.5b-qwen-distill-q4_K_M</td>\n",
       "      <td>980</td>\n",
       "      <td>Will Tesla become the largest car company in t...</td>\n",
       "      <td>0.880</td>\n",
       "    </tr>\n",
       "    <tr>\n",
       "      <th>...</th>\n",
       "      <td>...</td>\n",
       "      <td>...</td>\n",
       "      <td>...</td>\n",
       "      <td>...</td>\n",
       "    </tr>\n",
       "    <tr>\n",
       "      <th>5</th>\n",
       "      <td>deepseek-r1:1.5b-qwen-distill-q4_K_M</td>\n",
       "      <td>21531</td>\n",
       "      <td>Will the bubble in the Magnificent Seven pop b...</td>\n",
       "      <td>0.560</td>\n",
       "    </tr>\n",
       "    <tr>\n",
       "      <th>93</th>\n",
       "      <td>deepseek-r1:1.5b-qwen-distill-q4_K_M</td>\n",
       "      <td>21914</td>\n",
       "      <td>Will Bryan Caplan win his bet that real gross ...</td>\n",
       "      <td>0.151</td>\n",
       "    </tr>\n",
       "    <tr>\n",
       "      <th>112</th>\n",
       "      <td>deepseek-r1:1.5b-qwen-distill-q4_K_M</td>\n",
       "      <td>22523</td>\n",
       "      <td>Will the U.S. employment to population ratio f...</td>\n",
       "      <td>0.845</td>\n",
       "    </tr>\n",
       "    <tr>\n",
       "      <th>22</th>\n",
       "      <td>deepseek-r1:1.5b-qwen-distill-q4_K_M</td>\n",
       "      <td>26721</td>\n",
       "      <td>Will the S&amp;P 500 Index increase over the year ...</td>\n",
       "      <td>0.120</td>\n",
       "    </tr>\n",
       "    <tr>\n",
       "      <th>94</th>\n",
       "      <td>deepseek-r1:1.5b-qwen-distill-q4_K_M</td>\n",
       "      <td>28570</td>\n",
       "      <td>Will there be a global recession before 2026, ...</td>\n",
       "      <td>0.100</td>\n",
       "    </tr>\n",
       "  </tbody>\n",
       "</table>\n",
       "<p>113 rows × 4 columns</p>\n",
       "</div>"
      ],
      "text/plain": [
       "                                    model     id  \\\n",
       "108  deepseek-r1:1.5b-qwen-distill-q4_K_M    491   \n",
       "54   deepseek-r1:1.5b-qwen-distill-q4_K_M    736   \n",
       "76   deepseek-r1:1.5b-qwen-distill-q4_K_M    841   \n",
       "88   deepseek-r1:1.5b-qwen-distill-q4_K_M    899   \n",
       "102  deepseek-r1:1.5b-qwen-distill-q4_K_M    980   \n",
       "..                                    ...    ...   \n",
       "5    deepseek-r1:1.5b-qwen-distill-q4_K_M  21531   \n",
       "93   deepseek-r1:1.5b-qwen-distill-q4_K_M  21914   \n",
       "112  deepseek-r1:1.5b-qwen-distill-q4_K_M  22523   \n",
       "22   deepseek-r1:1.5b-qwen-distill-q4_K_M  26721   \n",
       "94   deepseek-r1:1.5b-qwen-distill-q4_K_M  28570   \n",
       "\n",
       "                                                 title  error  \n",
       "108  Will China reduce their carbon emissions per G...  0.200  \n",
       "54   Will there be a complete 4 year interval in wh...  0.230  \n",
       "76                       Will Metaculus exist in 2030?  0.150  \n",
       "88   Will the richest person in the world in 2033 h...  0.260  \n",
       "102  Will Tesla become the largest car company in t...  0.880  \n",
       "..                                                 ...    ...  \n",
       "5    Will the bubble in the Magnificent Seven pop b...  0.560  \n",
       "93   Will Bryan Caplan win his bet that real gross ...  0.151  \n",
       "112  Will the U.S. employment to population ratio f...  0.845  \n",
       "22   Will the S&P 500 Index increase over the year ...  0.120  \n",
       "94   Will there be a global recession before 2026, ...  0.100  \n",
       "\n",
       "[113 rows x 4 columns]"
      ]
     },
     "execution_count": 12,
     "metadata": {},
     "output_type": "execute_result"
    }
   ],
   "source": [
    "df1"
   ]
  },
  {
   "cell_type": "code",
   "execution_count": 13,
   "id": "459b589c-2c3f-4b18-9f85-aabd737667ab",
   "metadata": {},
   "outputs": [],
   "source": [
    "id_to_category = {int(x): id_to_category[x] for x in id_to_category}"
   ]
  },
  {
   "cell_type": "code",
   "execution_count": 14,
   "id": "3e994b4d-64f8-4821-afe6-0bdad51b4124",
   "metadata": {},
   "outputs": [],
   "source": [
    "df['category'] = df.id.apply(lambda x: id_to_category[x])"
   ]
  },
  {
   "cell_type": "code",
   "execution_count": 15,
   "id": "78e36262-15db-48fd-bc07-1e4f5abeddc1",
   "metadata": {},
   "outputs": [],
   "source": [
    "dfe = df[['category', 'error']]"
   ]
  },
  {
   "cell_type": "code",
   "execution_count": 18,
   "id": "48308bf3-bc2c-4d7c-b5f0-3af77ded54a2",
   "metadata": {},
   "outputs": [],
   "source": [
    "result_df = dfe.groupby('category').agg(\n",
    "    mean_error=('error', 'mean'),\n",
    "    count=('error', 'size')\n",
    ").reset_index()"
   ]
  },
  {
   "cell_type": "code",
   "execution_count": 19,
   "id": "2124ed20-4978-4f6b-b892-2f17bbc121b4",
   "metadata": {},
   "outputs": [
    {
     "data": {
      "text/html": [
       "<div>\n",
       "<style scoped>\n",
       "    .dataframe tbody tr th:only-of-type {\n",
       "        vertical-align: middle;\n",
       "    }\n",
       "\n",
       "    .dataframe tbody tr th {\n",
       "        vertical-align: top;\n",
       "    }\n",
       "\n",
       "    .dataframe thead th {\n",
       "        text-align: right;\n",
       "    }\n",
       "</style>\n",
       "<table border=\"1\" class=\"dataframe\">\n",
       "  <thead>\n",
       "    <tr style=\"text-align: right;\">\n",
       "      <th></th>\n",
       "      <th>category</th>\n",
       "      <th>mean_error</th>\n",
       "      <th>count</th>\n",
       "    </tr>\n",
       "  </thead>\n",
       "  <tbody>\n",
       "    <tr>\n",
       "      <th>0</th>\n",
       "      <td>Economic Trends</td>\n",
       "      <td>0.488666</td>\n",
       "      <td>113</td>\n",
       "    </tr>\n",
       "  </tbody>\n",
       "</table>\n",
       "</div>"
      ],
      "text/plain": [
       "          category  mean_error  count\n",
       "0  Economic Trends    0.488666    113"
      ]
     },
     "execution_count": 19,
     "metadata": {},
     "output_type": "execute_result"
    }
   ],
   "source": [
    "result_df.sort_values(by='mean_error')"
   ]
  },
  {
   "cell_type": "code",
   "execution_count": 25,
   "id": "9d0fc33b-519b-43aa-ae59-f391c7d0c05e",
   "metadata": {},
   "outputs": [],
   "source": [
    "pd.set_option('display.max_colwidth', None)"
   ]
  },
  {
   "cell_type": "code",
   "execution_count": 26,
   "id": "a634eadf-96e3-4801-8929-d1b2dc16bfde",
   "metadata": {},
   "outputs": [
    {
     "data": {
      "text/html": [
       "<div>\n",
       "<style scoped>\n",
       "    .dataframe tbody tr th:only-of-type {\n",
       "        vertical-align: middle;\n",
       "    }\n",
       "\n",
       "    .dataframe tbody tr th {\n",
       "        vertical-align: top;\n",
       "    }\n",
       "\n",
       "    .dataframe thead th {\n",
       "        text-align: right;\n",
       "    }\n",
       "</style>\n",
       "<table border=\"1\" class=\"dataframe\">\n",
       "  <thead>\n",
       "    <tr style=\"text-align: right;\">\n",
       "      <th></th>\n",
       "      <th>id</th>\n",
       "      <th>title</th>\n",
       "      <th>error</th>\n",
       "    </tr>\n",
       "  </thead>\n",
       "  <tbody>\n",
       "    <tr>\n",
       "      <th>110</th>\n",
       "      <td>4083</td>\n",
       "      <td>What will be the relative severity of the next US depression, compared to the Great Depression?</td>\n",
       "      <td>1.000000</td>\n",
       "    </tr>\n",
       "    <tr>\n",
       "      <th>4</th>\n",
       "      <td>3095</td>\n",
       "      <td>What will the US market for plant-based meat be worth in the year ending in April 2028?</td>\n",
       "      <td>1.000000</td>\n",
       "    </tr>\n",
       "    <tr>\n",
       "      <th>53</th>\n",
       "      <td>4830</td>\n",
       "      <td>What will the global fertility rate be in 2050?</td>\n",
       "      <td>1.000000</td>\n",
       "    </tr>\n",
       "    <tr>\n",
       "      <th>83</th>\n",
       "      <td>17763</td>\n",
       "      <td>Will Threads report more monthly active users than Twitter before 2026?</td>\n",
       "      <td>0.940000</td>\n",
       "    </tr>\n",
       "    <tr>\n",
       "      <th>12</th>\n",
       "      <td>12348</td>\n",
       "      <td>Will 3M file for bankruptcy before 2026?</td>\n",
       "      <td>0.890000</td>\n",
       "    </tr>\n",
       "    <tr>\n",
       "      <th>...</th>\n",
       "      <td>...</td>\n",
       "      <td>...</td>\n",
       "      <td>...</td>\n",
       "    </tr>\n",
       "    <tr>\n",
       "      <th>17</th>\n",
       "      <td>3665</td>\n",
       "      <td>Will renewable energy contribute between 25% and 48% to global electricity production in 2030?</td>\n",
       "      <td>0.030000</td>\n",
       "    </tr>\n",
       "    <tr>\n",
       "      <th>70</th>\n",
       "      <td>15146</td>\n",
       "      <td>Will Russia’s GDP (in 2015 USD) be at least $1.50 trillion in 2030?</td>\n",
       "      <td>0.030000</td>\n",
       "    </tr>\n",
       "    <tr>\n",
       "      <th>21</th>\n",
       "      <td>15964</td>\n",
       "      <td>Will 10% or more of the top 20 biggest companies in early 2023 still be in the top 20 in 2050?</td>\n",
       "      <td>0.010000</td>\n",
       "    </tr>\n",
       "    <tr>\n",
       "      <th>90</th>\n",
       "      <td>8583</td>\n",
       "      <td>Will at least 10 of the 20 highest grossing new movies in the year 2050 be remakes of previous movies or continuations of previous movie franchises?</td>\n",
       "      <td>0.010000</td>\n",
       "    </tr>\n",
       "    <tr>\n",
       "      <th>78</th>\n",
       "      <td>12112</td>\n",
       "      <td>Will Beyond Meat file for bankruptcy protection before 2026?</td>\n",
       "      <td>0.004481</td>\n",
       "    </tr>\n",
       "  </tbody>\n",
       "</table>\n",
       "<p>113 rows × 3 columns</p>\n",
       "</div>"
      ],
      "text/plain": [
       "        id  \\\n",
       "110   4083   \n",
       "4     3095   \n",
       "53    4830   \n",
       "83   17763   \n",
       "12   12348   \n",
       "..     ...   \n",
       "17    3665   \n",
       "70   15146   \n",
       "21   15964   \n",
       "90    8583   \n",
       "78   12112   \n",
       "\n",
       "                                                                                                                                                    title  \\\n",
       "110                                                       What will be the relative severity of the next US depression, compared to the Great Depression?   \n",
       "4                                                                 What will the US market for plant-based meat be worth in the year ending in April 2028?   \n",
       "53                                                                                                        What will the global fertility rate be in 2050?   \n",
       "83                                                                                Will Threads report more monthly active users than Twitter before 2026?   \n",
       "12                                                                                                               Will 3M file for bankruptcy before 2026?   \n",
       "..                                                                                                                                                    ...   \n",
       "17                                                         Will renewable energy contribute between 25% and 48% to global electricity production in 2030?   \n",
       "70                                                                                    Will Russia’s GDP (in 2015 USD) be at least $1.50 trillion in 2030?   \n",
       "21                                                         Will 10% or more of the top 20 biggest companies in early 2023 still be in the top 20 in 2050?   \n",
       "90   Will at least 10 of the 20 highest grossing new movies in the year 2050 be remakes of previous movies or continuations of previous movie franchises?   \n",
       "78                                                                                           Will Beyond Meat file for bankruptcy protection before 2026?   \n",
       "\n",
       "        error  \n",
       "110  1.000000  \n",
       "4    1.000000  \n",
       "53   1.000000  \n",
       "83   0.940000  \n",
       "12   0.890000  \n",
       "..        ...  \n",
       "17   0.030000  \n",
       "70   0.030000  \n",
       "21   0.010000  \n",
       "90   0.010000  \n",
       "78   0.004481  \n",
       "\n",
       "[113 rows x 3 columns]"
      ]
     },
     "execution_count": 26,
     "metadata": {},
     "output_type": "execute_result"
    }
   ],
   "source": [
    "df1[['id', 'title', 'error']].sort_values(by='error', ascending=False)"
   ]
  },
  {
   "cell_type": "code",
   "execution_count": 30,
   "id": "709ffdc1-2798-4a6c-aab0-949b5ca1458d",
   "metadata": {},
   "outputs": [
    {
     "name": "stdout",
     "output_type": "stream",
     "text": [
      "<think>\n",
      "\n",
      "Percentile | Time Left (Days) | Outcome\n",
      "---|---|---\n",
      "10 | Not specified | - |\n",
      "20 | 365 | Not specified |\n",
      "40 | 365 | Not specified |\n",
      "60 | 365 | Not specified |\n",
      "80 | 365 | Not specified |\n",
      "90 | 365 | Not specified |\n",
      "\n",
      "### Forecast\n",
      "\n",
      "Percentile 10: -1.0\n"
     ]
    }
   ],
   "source": [
    "print(df[df.id==4083].iloc[0].forecast)"
   ]
  },
  {
   "cell_type": "code",
   "execution_count": null,
   "id": "6651ca1a-083f-4ea2-87fa-bc56531f788f",
   "metadata": {},
   "outputs": [],
   "source": []
  }
 ],
 "metadata": {
  "kernelspec": {
   "display_name": "Python 3 (ipykernel)",
   "language": "python",
   "name": "python3"
  },
  "language_info": {
   "codemirror_mode": {
    "name": "ipython",
    "version": 3
   },
   "file_extension": ".py",
   "mimetype": "text/x-python",
   "name": "python",
   "nbconvert_exporter": "python",
   "pygments_lexer": "ipython3",
   "version": "3.12.3"
  }
 },
 "nbformat": 4,
 "nbformat_minor": 5
}
