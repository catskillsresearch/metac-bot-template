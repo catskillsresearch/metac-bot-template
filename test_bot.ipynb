{
 "cells": [
  {
   "cell_type": "markdown",
   "id": "c14abaf7-4228-4494-9ad1-e8589c46a3a0",
   "metadata": {},
   "source": [
    "# Test bot"
   ]
  },
  {
   "cell_type": "code",
   "execution_count": 6,
   "id": "5c67fb7a-48d3-4a72-833e-35ef22e78b61",
   "metadata": {},
   "outputs": [
    {
     "name": "stdout",
     "output_type": "stream",
     "text": [
      "created forecast_cogito:latest\n",
      "created forecast_deepseek-r1:latest\n",
      "created forecast_gemma3:latest\n",
      "created forecast_granite3.3:latest\n",
      "created forecast_llama3:8b\n",
      "created forecast_llama4:latest\n",
      "created forecast_magistral:24b\n",
      "created forecast_mistral-small3.1:latest\n",
      "created forecast_openthinker:latest\n",
      "created forecast_phi4-reasoning:latest\n",
      "created forecast_qwen2.5vl:latest\n",
      "created forecast_qwen3:latest\n",
      "created forecast_r1-1776:latest\n"
     ]
    }
   ],
   "source": [
    "from ollama_models import ollama_models\n",
    "models = ollama_models()\n",
    "\n",
    "import os\n",
    "for model in models:\n",
    "    dn = f'forecast_{model}'\n",
    "    os.makedirs(dn, exist_ok=True)\n",
    "    print(\"created\", dn)"
   ]
  },
  {
   "cell_type": "code",
   "execution_count": null,
   "id": "90478b97-7ed1-4e02-944c-8a51faba63b9",
   "metadata": {},
   "outputs": [
    {
     "name": "stdout",
     "output_type": "stream",
     "text": [
      "Loaded existing index from forecast_index.faiss\n",
      "Index contains 4767 vectors at initialization\n"
     ]
    },
    {
     "name": "stderr",
     "output_type": "stream",
     "text": [
      "  0%|                                                    | 0/13 [00:00<?, ?it/s]"
     ]
    },
    {
     "name": "stdout",
     "output_type": "stream",
     "text": [
      "Model cogito:latest\n",
      "=== Starting Forecast ===\n",
      "###################################################################\n",
      "Combined forecast for 6614\n"
     ]
    },
    {
     "name": "stderr",
     "output_type": "stream",
     "text": [
      "\n",
      "  0%|                                                     | 0/5 [00:00<?, ?it/s]\u001b[A\n",
      " 20%|█████████                                    | 1/5 [00:08<00:35,  8.90s/it]\u001b[A\n",
      " 40%|██████████████████                           | 2/5 [00:18<00:27,  9.29s/it]\u001b[A\n",
      " 60%|███████████████████████████                  | 3/5 [00:29<00:20, 10.18s/it]\u001b[A\n",
      " 80%|████████████████████████████████████         | 4/5 [00:36<00:08,  8.82s/it]\u001b[A\n",
      "100%|█████████████████████████████████████████████| 5/5 [00:45<00:00,  9.10s/it]\u001b[A\n"
     ]
    },
    {
     "name": "stdout",
     "output_type": "stream",
     "text": [
      "*** Got predictions [{10: 500000, 20: 600000, 40: 800000, 60: 1100000, 80: 1400000, 90: 2200000, 11: 510000.0, 12: 520000.0, 13: 530000.0, 14: 540000.0, 15: 550000.0, 16: 560000.0, 17: 570000.0, 18: 580000.0, 19: 590000.0, 21: 610000.0, 22: 620000.0, 23: 630000.0, 24: 640000.0, 25: 650000.0, 26: 660000.0, 27: 670000.0, 28: 680000.0, 29: 690000.0, 30: 700000.0, 31: 710000.0, 32: 720000.0, 33: 730000.0, 34: 740000.0, 35: 750000.0, 36: 760000.0, 37: 770000.0, 38: 780000.0, 39: 790000.0, 41: 815000.0, 42: 830000.0, 43: 845000.0, 44: 860000.0, 45: 875000.0, 46: 890000.0, 47: 905000.0, 48: 920000.0, 49: 935000.0, 50: 950000.0, 51: 965000.0, 52: 980000.0, 53: 995000.0, 54: 1010000.0, 55: 1025000.0, 56: 1040000.0, 57: 1055000.0, 58: 1070000.0, 59: 1085000.0, 61: 1115000.0, 62: 1130000.0, 63: 1145000.0, 64: 1160000.0, 65: 1175000.0, 66: 1190000.0, 67: 1205000.0, 68: 1220000.0, 69: 1235000.0, 70: 1250000.0, 71: 1265000.0, 72: 1280000.0, 73: 1295000.0, 74: 1310000.0, 75: 1325000.0, 76: 1340000.0, 77: 1355000.0, 78: 1370000.0, 79: 1385000.0, 81: 1480000.0, 82: 1560000.0, 83: 1640000.0, 84: 1720000.0, 85: 1800000.0, 86: 1880000.0, 87: 1960000.0, 88: 2040000.0, 89: 2120000.0}, {10: 150000, 20: 200000, 40: 300000, 60: 400000, 80: 500000, 90: 750000, 11: 155000.0, 12: 160000.0, 13: 165000.0, 14: 170000.0, 15: 175000.0, 16: 180000.0, 17: 185000.0, 18: 190000.0, 19: 195000.0, 21: 205000.0, 22: 210000.0, 23: 215000.0, 24: 220000.0, 25: 225000.0, 26: 230000.0, 27: 235000.0, 28: 240000.0, 29: 245000.0, 30: 250000.0, 31: 255000.0, 32: 260000.0, 33: 265000.0, 34: 270000.0, 35: 275000.0, 36: 280000.0, 37: 285000.0, 38: 290000.0, 39: 295000.0, 41: 305000.0, 42: 310000.0, 43: 315000.0, 44: 320000.0, 45: 325000.0, 46: 330000.0, 47: 335000.0, 48: 340000.0, 49: 345000.0, 50: 350000.0, 51: 355000.0, 52: 360000.0, 53: 365000.0, 54: 370000.0, 55: 375000.0, 56: 380000.0, 57: 385000.0, 58: 390000.0, 59: 395000.0, 61: 405000.0, 62: 410000.0, 63: 415000.0, 64: 420000.0, 65: 425000.0, 66: 430000.0, 67: 435000.0, 68: 440000.0, 69: 445000.0, 70: 450000.0, 71: 455000.0, 72: 460000.0, 73: 465000.0, 74: 470000.0, 75: 475000.0, 76: 480000.0, 77: 485000.0, 78: 490000.0, 79: 495000.0, 81: 525000.0, 82: 550000.0, 83: 575000.0, 84: 600000.0, 85: 625000.0, 86: 650000.0, 87: 675000.0, 88: 700000.0, 89: 725000.0}, {10: 110000, 20: 125000, 40: 145000, 60: 165000, 80: 180000, 90: 190000, 11: 111500.0, 12: 113000.0, 13: 114500.0, 14: 116000.0, 15: 117500.0, 16: 119000.0, 17: 120500.0, 18: 122000.0, 19: 123500.0, 21: 126000.0, 22: 127000.0, 23: 128000.0, 24: 129000.0, 25: 130000.0, 26: 131000.0, 27: 132000.0, 28: 133000.0, 29: 134000.0, 30: 135000.0, 31: 136000.0, 32: 137000.0, 33: 138000.0, 34: 139000.0, 35: 140000.0, 36: 141000.0, 37: 142000.0, 38: 143000.0, 39: 144000.0, 41: 146000.0, 42: 147000.0, 43: 148000.0, 44: 149000.0, 45: 150000.0, 46: 151000.0, 47: 152000.0, 48: 153000.0, 49: 154000.0, 50: 155000.0, 51: 156000.0, 52: 157000.0, 53: 158000.0, 54: 159000.0, 55: 160000.0, 56: 161000.0, 57: 162000.0, 58: 163000.0, 59: 164000.0, 61: 165750.0, 62: 166500.0, 63: 167250.0, 64: 168000.0, 65: 168750.0, 66: 169500.0, 67: 170250.0, 68: 171000.0, 69: 171750.0, 70: 172500.0, 71: 173250.0, 72: 174000.0, 73: 174750.0, 74: 175500.0, 75: 176250.0, 76: 177000.0, 77: 177750.0, 78: 178500.0, 79: 179250.0, 81: 181000.0, 82: 182000.0, 83: 183000.0, 84: 184000.0, 85: 185000.0, 86: 186000.0, 87: 187000.0, 88: 188000.0, 89: 189000.0}, {10: 700000, 20: 900000, 40: 1200000, 60: 1500000, 80: 2000000, 90: 3000000, 11: 720000.0, 12: 740000.0, 13: 760000.0, 14: 780000.0, 15: 800000.0, 16: 820000.0, 17: 840000.0, 18: 860000.0, 19: 880000.0, 21: 915000.0, 22: 930000.0, 23: 945000.0, 24: 960000.0, 25: 975000.0, 26: 990000.0, 27: 1005000.0, 28: 1020000.0, 29: 1035000.0, 30: 1050000.0, 31: 1065000.0, 32: 1080000.0, 33: 1095000.0, 34: 1110000.0, 35: 1125000.0, 36: 1140000.0, 37: 1155000.0, 38: 1170000.0, 39: 1185000.0, 41: 1215000.0, 42: 1230000.0, 43: 1245000.0, 44: 1260000.0, 45: 1275000.0, 46: 1290000.0, 47: 1305000.0, 48: 1320000.0, 49: 1335000.0, 50: 1350000.0, 51: 1365000.0, 52: 1380000.0, 53: 1395000.0, 54: 1410000.0, 55: 1425000.0, 56: 1440000.0, 57: 1455000.0, 58: 1470000.0, 59: 1485000.0, 61: 1525000.0, 62: 1550000.0, 63: 1575000.0, 64: 1600000.0, 65: 1625000.0, 66: 1650000.0, 67: 1675000.0, 68: 1700000.0, 69: 1725000.0, 70: 1750000.0, 71: 1775000.0, 72: 1800000.0, 73: 1825000.0, 74: 1850000.0, 75: 1875000.0, 76: 1900000.0, 77: 1925000.0, 78: 1950000.0, 79: 1975000.0, 81: 2100000.0, 82: 2200000.0, 83: 2300000.0, 84: 2400000.0, 85: 2500000.0, 86: 2600000.0, 87: 2700000.0, 88: 2800000.0, 89: 2900000.0}]\n",
      "RATIONALE\n",
      " Based on the combined rationales from all five forecasts, here is my original rationale for the highest value Bitcoin will reach by 2030:\n",
      "\n",
      "Key Market Factors:\n",
      "- Institutional adoption continues as a major driver of growth\n",
      "- Technological advancements in scalability and security remain crucial\n",
      "- Regulatory landscape evolves with potential global coordination\n",
      "- Economic conditions, including inflation and monetary policy, significantly impact demand\n",
      "\n",
      "Price Trajectory Considerations:\n",
      "- Current trend shows increasing institutional involvement\n",
      "- Market sentiment remains cautiously optimistic but open to higher valuations\n",
      "- Potential regulatory changes could either accelerate or hinder adoption\n",
      "- Global economic stability will be a key factor in price movements\n",
      "\n",
      "Risk Factors to Consider:\n",
      "- Regulatory crackdowns, especially on cryptocurrency exchanges\n",
      "- Increased competition from other cryptocurrencies\n",
      "- Technological challenges in scalability and security improvements\n",
      "- Economic downturns that could impact investor sentiment\n",
      "\n",
      "Upside Potential Scenarios:\n",
      "- Bitcoin becomes the dominant global payment system after widespread adoption by major nations\n",
      "- Institutional diversification into Bitcoin reserves increases significantly\n",
      "- Breakthrough technological advancements improve scalability and reduce transaction costs\n",
      "- Unexpected regulatory approval of spot ETFs drives mainstream investment\n",
      "\n",
      "Based on these factors, I forecast:\n",
      "\n",
      "Final Probability Distribution (by 2030):\n",
      "Percentile 10: $900,000\n",
      "Percentile 20: $1,100,000\n",
      "Percentile 40: $1,400,000\n",
      "Percentile 60: $1,700,000\n",
      "Percentile 80: $2,200,000\n",
      "Percentile 90: $3,500,000\n",
      "\n",
      "This forecast represents a middle-ground estimate that accounts for the various factors and scenarios discussed in the combined rationales.\n",
      "###################################################################\n",
      "Combined forecast for 1482\n"
     ]
    },
    {
     "name": "stderr",
     "output_type": "stream",
     "text": [
      "\n",
      "  0%|                                                     | 0/5 [00:00<?, ?it/s]\u001b[A\n",
      " 20%|█████████                                    | 1/5 [00:09<00:37,  9.44s/it]\u001b[A\n",
      " 40%|██████████████████                           | 2/5 [00:18<00:26,  8.94s/it]\u001b[A\n",
      " 60%|███████████████████████████                  | 3/5 [00:25<00:16,  8.14s/it]\u001b[A\n",
      " 80%|████████████████████████████████████         | 4/5 [00:33<00:08,  8.16s/it]\u001b[A\n",
      "100%|█████████████████████████████████████████████| 5/5 [00:42<00:00,  8.44s/it]\u001b[A\n"
     ]
    },
    {
     "name": "stdout",
     "output_type": "stream",
     "text": [
      "*** Got predictions [{10: 2, 20: 3, 40: 4, 60: 5, 80: 6, 90: 7, 11: 2.1, 12: 2.2, 13: 2.3, 14: 2.4, 15: 2.5, 16: 2.6, 17: 2.7, 18: 2.8, 19: 2.9, 21: 3.05, 22: 3.1, 23: 3.15, 24: 3.2, 25: 3.25, 26: 3.3, 27: 3.35, 28: 3.4, 29: 3.45, 30: 3.5, 31: 3.55, 32: 3.6, 33: 3.65, 34: 3.7, 35: 3.75, 36: 3.8, 37: 3.85, 38: 3.9, 39: 3.95, 41: 4.05, 42: 4.1, 43: 4.15, 44: 4.2, 45: 4.25, 46: 4.3, 47: 4.35, 48: 4.4, 49: 4.45, 50: 4.5, 51: 4.55, 52: 4.6, 53: 4.65, 54: 4.7, 55: 4.75, 56: 4.8, 57: 4.85, 58: 4.9, 59: 4.95, 61: 5.05, 62: 5.1, 63: 5.15, 64: 5.2, 65: 5.25, 66: 5.3, 67: 5.35, 68: 5.4, 69: 5.45, 70: 5.5, 71: 5.55, 72: 5.6, 73: 5.65, 74: 5.7, 75: 5.75, 76: 5.8, 77: 5.85, 78: 5.9, 79: 5.95, 81: 6.1, 82: 6.2, 83: 6.3, 84: 6.4, 85: 6.5, 86: 6.6, 87: 6.7, 88: 6.8, 89: 6.9}, {10: 15.2, 20: 16.5, 40: 18.9, 60: 21.3, 80: 23.7, 90: 25.1, 11: 15.33, 12: 15.459999999999999, 13: 15.59, 14: 15.719999999999999, 15: 15.85, 16: 15.98, 17: 16.11, 18: 16.24, 19: 16.37, 21: 16.62, 22: 16.74, 23: 16.86, 24: 16.98, 25: 17.1, 26: 17.22, 27: 17.34, 28: 17.46, 29: 17.58, 30: 17.7, 31: 17.82, 32: 17.939999999999998, 33: 18.06, 34: 18.18, 35: 18.299999999999997, 36: 18.419999999999998, 37: 18.54, 38: 18.66, 39: 18.779999999999998, 41: 19.02, 42: 19.14, 43: 19.259999999999998, 44: 19.38, 45: 19.5, 46: 19.619999999999997, 47: 19.74, 48: 19.86, 49: 19.98, 50: 20.1, 51: 20.22, 52: 20.34, 53: 20.46, 54: 20.58, 55: 20.7, 56: 20.82, 57: 20.94, 58: 21.060000000000002, 59: 21.18, 61: 21.42, 62: 21.54, 63: 21.66, 64: 21.78, 65: 21.9, 66: 22.02, 67: 22.14, 68: 22.26, 69: 22.38, 70: 22.5, 71: 22.62, 72: 22.74, 73: 22.86, 74: 22.98, 75: 23.1, 76: 23.22, 77: 23.34, 78: 23.46, 79: 23.58, 81: 23.84, 82: 23.98, 83: 24.12, 84: 24.26, 85: 24.4, 86: 24.54, 87: 24.68, 88: 24.82, 89: 24.96}, {10: 50, 20: 55, 40: 58, 60: 61, 80: 65, 90: 70, 11: 50.5, 12: 51.0, 13: 51.5, 14: 52.0, 15: 52.5, 16: 53.0, 17: 53.5, 18: 54.0, 19: 54.5, 21: 55.15, 22: 55.3, 23: 55.45, 24: 55.6, 25: 55.75, 26: 55.9, 27: 56.05, 28: 56.2, 29: 56.35, 30: 56.5, 31: 56.65, 32: 56.8, 33: 56.95, 34: 57.1, 35: 57.25, 36: 57.4, 37: 57.55, 38: 57.7, 39: 57.85, 41: 58.15, 42: 58.3, 43: 58.45, 44: 58.6, 45: 58.75, 46: 58.9, 47: 59.05, 48: 59.2, 49: 59.35, 50: 59.5, 51: 59.65, 52: 59.8, 53: 59.95, 54: 60.1, 55: 60.25, 56: 60.4, 57: 60.55, 58: 60.7, 59: 60.85, 61: 61.2, 62: 61.4, 63: 61.6, 64: 61.8, 65: 62.0, 66: 62.2, 67: 62.4, 68: 62.6, 69: 62.8, 70: 63.0, 71: 63.2, 72: 63.4, 73: 63.6, 74: 63.8, 75: 64.0, 76: 64.2, 77: 64.4, 78: 64.6, 79: 64.8, 81: 65.5, 82: 66.0, 83: 66.5, 84: 67.0, 85: 67.5, 86: 68.0, 87: 68.5, 88: 69.0, 89: 69.5}, {10: 30, 20: 40, 40: 50, 60: 55, 80: 59, 90: 61, 11: 31.0, 12: 32.0, 13: 33.0, 14: 34.0, 15: 35.0, 16: 36.0, 17: 37.0, 18: 38.0, 19: 39.0, 21: 40.5, 22: 41.0, 23: 41.5, 24: 42.0, 25: 42.5, 26: 43.0, 27: 43.5, 28: 44.0, 29: 44.5, 30: 45.0, 31: 45.5, 32: 46.0, 33: 46.5, 34: 47.0, 35: 47.5, 36: 48.0, 37: 48.5, 38: 49.0, 39: 49.5, 41: 50.25, 42: 50.5, 43: 50.75, 44: 51.0, 45: 51.25, 46: 51.5, 47: 51.75, 48: 52.0, 49: 52.25, 50: 52.5, 51: 52.75, 52: 53.0, 53: 53.25, 54: 53.5, 55: 53.75, 56: 54.0, 57: 54.25, 58: 54.5, 59: 54.75, 61: 55.2, 62: 55.4, 63: 55.6, 64: 55.8, 65: 56.0, 66: 56.2, 67: 56.4, 68: 56.6, 69: 56.8, 70: 57.0, 71: 57.2, 72: 57.4, 73: 57.6, 74: 57.8, 75: 58.0, 76: 58.2, 77: 58.4, 78: 58.6, 79: 58.8, 81: 59.2, 82: 59.4, 83: 59.6, 84: 59.8, 85: 60.0, 86: 60.2, 87: 60.4, 88: 60.6, 89: 60.8}, {10: 40, 20: 45, 40: 50, 60: 55, 80: 60, 90: 65, 11: 40.5, 12: 41.0, 13: 41.5, 14: 42.0, 15: 42.5, 16: 43.0, 17: 43.5, 18: 44.0, 19: 44.5, 21: 45.25, 22: 45.5, 23: 45.75, 24: 46.0, 25: 46.25, 26: 46.5, 27: 46.75, 28: 47.0, 29: 47.25, 30: 47.5, 31: 47.75, 32: 48.0, 33: 48.25, 34: 48.5, 35: 48.75, 36: 49.0, 37: 49.25, 38: 49.5, 39: 49.75, 41: 50.25, 42: 50.5, 43: 50.75, 44: 51.0, 45: 51.25, 46: 51.5, 47: 51.75, 48: 52.0, 49: 52.25, 50: 52.5, 51: 52.75, 52: 53.0, 53: 53.25, 54: 53.5, 55: 53.75, 56: 54.0, 57: 54.25, 58: 54.5, 59: 54.75, 61: 55.25, 62: 55.5, 63: 55.75, 64: 56.0, 65: 56.25, 66: 56.5, 67: 56.75, 68: 57.0, 69: 57.25, 70: 57.5, 71: 57.75, 72: 58.0, 73: 58.25, 74: 58.5, 75: 58.75, 76: 59.0, 77: 59.25, 78: 59.5, 79: 59.75, 81: 60.5, 82: 61.0, 83: 61.5, 84: 62.0, 85: 62.5, 86: 63.0, 87: 63.5, 88: 64.0, 89: 64.5}]\n",
      "RATIONALE\n",
      " Based on the analysis of multiple forecasts and scenarios, I present my final rationale and prediction:\n",
      "\n",
      "Final Rationale:\n",
      "The forecast for Americans' obesity/overweight rates by 2030 is shaped by several key factors. First, current trends indicate a steady increase in these rates, driven by changing lifestyle patterns, dietary habits, and reduced physical activity levels. Second, the impact of global food industry practices, particularly the widespread availability and marketing of ultra-processed foods, continues to drive upward trends in obesity/overweight prevalence.\n",
      "\n",
      "Third, while there are signs that some interventions (such as taxes on sugary drinks or restrictions on unhealthy food marketing) may help slow these rates, their effectiveness is still uncertain. Fourth, environmental factors like increased screen time and reduced outdoor activities contribute significantly to the rising trend. Finally, socioeconomic disparities play a crucial role in this prediction, as lower-income populations often face greater challenges in accessing healthy foods and exercise opportunities.\n",
      "\n",
      "Final Prediction:\n",
      "My forecast for Americans' obesity/overweight rates by 2030 is:\n",
      "\n",
      "Percentile 10: 55%\n",
      "Percentile 20: 57.5%\n",
      "Percentile 40: 59.9%\n",
      "Percentile 60: 62.3%\n",
      "Percentile 80: 65.7%\n",
      "Percentile 90: 68.1%\n",
      "\n",
      "This prediction reflects the convergence of current trends, expert opinions, and potential future scenarios, while accounting for the uncertainty inherent in long-term health predictions.\n",
      "###################################################################\n",
      "Combined forecast for 1337\n"
     ]
    },
    {
     "name": "stderr",
     "output_type": "stream",
     "text": [
      "\n",
      "  0%|                                                     | 0/5 [00:00<?, ?it/s]\u001b[A\n",
      " 20%|█████████                                    | 1/5 [00:07<00:28,  7.18s/it]\u001b[A\n",
      " 40%|██████████████████                           | 2/5 [00:14<00:21,  7.24s/it]\u001b[A\n",
      " 60%|███████████████████████████                  | 3/5 [00:21<00:14,  7.29s/it]\u001b[A"
     ]
    }
   ],
   "source": [
    "hard_ids = [6614, 1482, 1337, 7811, 8734, 5531, 1454, 6633, 2622, 3054]\n",
    "\n",
    "from load_saved_questions import load_saved_questions\n",
    "questions = load_saved_questions(hard_ids)\n",
    "\n",
    "from community_forecast import community_forecast\n",
    "id_to_forecast = {question.id_of_question: community_forecast(question) for question in questions}\n",
    "\n",
    "import pandas as pd\n",
    "from flatten_dict import flatten_dict\n",
    "from datetime import datetime\n",
    "df = pd.DataFrame([flatten_dict(q.api_json, sep='_') for q in questions])\n",
    "df['id_of_post'] = [q.id_of_post for q in questions]\n",
    "df['id_of_question'] = [q.id_of_question for q in questions]\n",
    "df['question_options'] = df['question_options'].apply(repr)\n",
    "df['today'] = datetime.now().strftime(\"%Y-%m-%d\")\n",
    "df['crowd'] = df.apply(lambda row: id_to_forecast[row.id_of_question], axis=1)\n",
    "df = df[['id_of_question', 'id_of_post', 'today', 'open_time', 'scheduled_resolve_time', 'title', 'question_description',\n",
    "    'question_resolution_criteria', 'question_fine_print', 'question_type',\n",
    "    'question_options', 'question_group_variable', 'question_question_weight',\n",
    "    'question_unit', 'question_open_upper_bound', 'question_open_lower_bound',\n",
    "    'question_scaling_range_max', 'question_scaling_range_min', 'question_scaling_zero_point','crowd']]\n",
    "\n",
    "from gather_research_and_set_prompt import gather_research_and_set_prompt\n",
    "live=True\n",
    "df, rag = gather_research_and_set_prompt(df, live)\n",
    "\n",
    "from generate_forecasts_and_update_rag import generate_forecasts_and_update_rag\n",
    "from tqdm import tqdm\n",
    "for model in tqdm(models):\n",
    "    print(\"Model\", model)\n",
    "    df = generate_forecasts_and_update_rag(df, rag, live, model)\n",
    "    print(df)"
   ]
  },
  {
   "cell_type": "code",
   "execution_count": null,
   "id": "cd5d788b-15da-46e0-911c-2d213137bb66",
   "metadata": {},
   "outputs": [],
   "source": []
  }
 ],
 "metadata": {
  "kernelspec": {
   "display_name": "Python 3 (ipykernel)",
   "language": "python",
   "name": "python3"
  },
  "language_info": {
   "codemirror_mode": {
    "name": "ipython",
    "version": 3
   },
   "file_extension": ".py",
   "mimetype": "text/x-python",
   "name": "python",
   "nbconvert_exporter": "python",
   "pygments_lexer": "ipython3",
   "version": "3.12.3"
  }
 },
 "nbformat": 4,
 "nbformat_minor": 5
}
