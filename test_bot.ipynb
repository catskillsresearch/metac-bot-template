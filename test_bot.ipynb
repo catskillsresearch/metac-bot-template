{
 "cells": [
  {
   "cell_type": "markdown",
   "id": "c14abaf7-4228-4494-9ad1-e8589c46a3a0",
   "metadata": {},
   "source": [
    "# Test bot"
   ]
  },
  {
   "cell_type": "code",
   "execution_count": 1,
   "id": "7e3723fd-30fb-4bfb-a02c-0312d7987887",
   "metadata": {},
   "outputs": [],
   "source": [
    "from ollama_models import ollama_models\n",
    "models = ollama_models()    "
   ]
  },
  {
   "cell_type": "code",
   "execution_count": 2,
   "id": "d649cb5e-b98e-469f-932f-231ee34538f7",
   "metadata": {},
   "outputs": [],
   "source": [
    "hard_ids = [6614, 1482, 1337, 7811, 8734, 5531, 1454, 6633, 2622, 3054]"
   ]
  },
  {
   "cell_type": "code",
   "execution_count": 3,
   "id": "13714259-8797-4c16-8998-51c182a23efa",
   "metadata": {},
   "outputs": [
    {
     "name": "stderr",
     "output_type": "stream",
     "text": [
      "2025-06-18 14:32:08.048 WARNING streamlit.runtime.caching.cache_data_api: No runtime found, using MemoryCacheStorageManager\n"
     ]
    }
   ],
   "source": [
    "from load_saved_questions import load_saved_questions\n",
    "questions = load_saved_questions(hard_ids)"
   ]
  },
  {
   "cell_type": "code",
   "execution_count": 4,
   "id": "3a92cf80-6453-4dc7-8ce1-1e3963be7d7a",
   "metadata": {},
   "outputs": [],
   "source": [
    "from community_forecast import community_forecast\n",
    "id_to_forecast = {question.id_of_question: community_forecast(question) for question in questions}"
   ]
  },
  {
   "cell_type": "code",
   "execution_count": null,
   "id": "f0aa5f69-6029-4776-bdc5-dc22d324b505",
   "metadata": {},
   "outputs": [],
   "source": [
    "import pandas as pd\n",
    "from flatten_dict import flatten_dict\n",
    "from datetime import datetime\n",
    "df = pd.DataFrame([flatten_dict(q.api_json, sep='_') for q in questions])\n",
    "df['id_of_post'] = [q.id_of_post for q in questions]\n",
    "df['id_of_question'] = [q.id_of_question for q in questions]\n",
    "df['question_options'] = df['question_options'].apply(repr)\n",
    "df['today'] = datetime.now().strftime(\"%Y-%m-%d\")\n",
    "df['crowd'] = df.apply(lambda row: id_to_forecast[row.id_of_question], axis=1)\n",
    "df = df[['id_of_question', 'id_of_post', 'today', 'open_time', 'scheduled_resolve_time', 'title', 'question_description',\n",
    "    'question_resolution_criteria', 'question_fine_print', 'question_type',\n",
    "    'question_options', 'question_group_variable', 'question_question_weight',\n",
    "    'question_unit', 'question_open_upper_bound', 'question_open_lower_bound',\n",
    "    'question_scaling_range_max', 'question_scaling_range_min', 'question_scaling_zero_point','crowd']]"
   ]
  },
  {
   "cell_type": "code",
   "execution_count": 7,
   "id": "23543897-08cb-45ed-a279-9333cd655fdf",
   "metadata": {},
   "outputs": [
    {
     "name": "stdout",
     "output_type": "stream",
     "text": [
      "Loaded existing index from forecast_index.faiss\n",
      "Index contains 4767 vectors at initialization\n"
     ]
    }
   ],
   "source": [
    "from gather_research_and_set_prompt import gather_research_and_set_prompt\n",
    "live=True\n",
    "df, rag = gather_research_and_set_prompt(df, live)"
   ]
  },
  {
   "cell_type": "code",
   "execution_count": null,
   "id": "3533cd43-b90e-4fa1-bdab-b1c4128c6edd",
   "metadata": {},
   "outputs": [],
   "source": [
    "import os\n",
    "from generate_forecasts_and_update_rag import generate_forecasts_and_update_rag\n",
    "for model in models:\n",
    "    print(\"Model\", model)\n",
    "    dn = f'forecasts_{model}'\n",
    "    os.makedirs(dn, exist_ok=True)\n",
    "    df = generate_forecasts_and_update_rag(df, rag, live, model)\n",
    "    print(df)"
   ]
  },
  {
   "cell_type": "code",
   "execution_count": null,
   "id": "f2545c0a-31d7-45d7-911f-a5ddc293537b",
   "metadata": {},
   "outputs": [],
   "source": []
  }
 ],
 "metadata": {
  "kernelspec": {
   "display_name": "Python 3 (ipykernel)",
   "language": "python",
   "name": "python3"
  },
  "language_info": {
   "codemirror_mode": {
    "name": "ipython",
    "version": 3
   },
   "file_extension": ".py",
   "mimetype": "text/x-python",
   "name": "python",
   "nbconvert_exporter": "python",
   "pygments_lexer": "ipython3",
   "version": "3.12.3"
  }
 },
 "nbformat": 4,
 "nbformat_minor": 5
}
