{
 "cells": [
  {
   "cell_type": "markdown",
   "id": "c14abaf7-4228-4494-9ad1-e8589c46a3a0",
   "metadata": {},
   "source": [
    "# Test bot"
   ]
  },
  {
   "cell_type": "code",
   "execution_count": null,
   "id": "3a5c6fc3-85ca-46b9-9372-7b44776f5701",
   "metadata": {},
   "outputs": [],
   "source": [
    "from ollama_models import ollama_models\n",
    "models = ollama_models()\n",
    "\n",
    "import os\n",
    "for model in models:\n",
    "    dn = f'forecast_{model}'\n",
    "    os.makedirs(dn, exist_ok=True)\n",
    "    print(\"created\", dn)\n",
    "\n",
    "hard_ids = [6614, 1482, 1337, 7811, 8734, 5531, 1454, 6633, 2622, 3054]\n",
    "\n",
    "from load_saved_questions import load_saved_questions\n",
    "questions = load_saved_questions(hard_ids)\n",
    "\n",
    "from community_forecast import community_forecast\n",
    "id_to_forecast = {question.id_of_question: community_forecast(question) for question in questions}\n",
    "\n",
    "import pandas as pd\n",
    "from flatten_dict import flatten_dict\n",
    "from datetime import datetime\n",
    "df = pd.DataFrame([flatten_dict(q.api_json, sep='_') for q in questions])\n",
    "df['id_of_post'] = [q.id_of_post for q in questions]\n",
    "df['id_of_question'] = [q.id_of_question for q in questions]\n",
    "df['question_options'] = df['question_options'].apply(repr)\n",
    "df['today'] = datetime.now().strftime(\"%Y-%m-%d\")\n",
    "df['crowd'] = df.apply(lambda row: id_to_forecast[row.id_of_question], axis=1)\n",
    "df = df[['id_of_question', 'id_of_post', 'today', 'open_time', 'scheduled_resolve_time', 'title', 'question_description',\n",
    "    'question_resolution_criteria', 'question_fine_print', 'question_type',\n",
    "    'question_options', 'question_group_variable', 'question_question_weight',\n",
    "    'question_unit', 'question_open_upper_bound', 'question_open_lower_bound',\n",
    "    'question_scaling_range_max', 'question_scaling_range_min', 'question_scaling_zero_point','crowd']]\n",
    "\n",
    "from gather_research_and_set_prompt import gather_research_and_set_prompt\n",
    "live=True\n",
    "df, rag = gather_research_and_set_prompt(df, live)\n",
    "\n",
    "from generate_forecasts_and_update_rag import generate_forecasts_and_update_rag\n",
    "from tqdm import tqdm\n",
    "for model in tqdm(models):\n",
    "    print(\"Model\", model)\n",
    "    try:\n",
    "        df = generate_forecasts_and_update_rag(df, rag, live, model)\n",
    "    except:\n",
    "        print(\"Model run failed\", model)"
   ]
  },
  {
   "cell_type": "code",
   "execution_count": null,
   "id": "cd5d788b-15da-46e0-911c-2d213137bb66",
   "metadata": {},
   "outputs": [],
   "source": []
  }
 ],
 "metadata": {
  "kernelspec": {
   "display_name": "Python 3 (ipykernel)",
   "language": "python",
   "name": "python3"
  },
  "language_info": {
   "codemirror_mode": {
    "name": "ipython",
    "version": 3
   },
   "file_extension": ".py",
   "mimetype": "text/x-python",
   "name": "python",
   "nbconvert_exporter": "python",
   "pygments_lexer": "ipython3",
   "version": "3.12.3"
  }
 },
 "nbformat": 4,
 "nbformat_minor": 5
}
