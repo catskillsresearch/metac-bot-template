{
 "cells": [
  {
   "cell_type": "markdown",
   "id": "ee5ec8c7-d670-4b13-bc85-36424f31a011",
   "metadata": {},
   "source": [
    "# 10 hard questions"
   ]
  },
  {
   "cell_type": "code",
   "execution_count": 1,
   "id": "65e5f31b-de72-4d75-8381-72fc247f937c",
   "metadata": {},
   "outputs": [
    {
     "name": "stdout",
     "output_type": "stream",
     "text": [
      "-rw-rw-r-- 1 catskills catskills  7465981 May  3 22:30 questions.json\n",
      "-rw-rw-r-- 1 catskills catskills  2318839 May  6 03:32 resolved.json\n",
      "-rw-rw-r-- 1 catskills catskills 17323643 May  6 18:35 wow.json\n",
      "-rw-rw-r-- 1 catskills catskills 17346865 May  7 17:58 run_with_predictions.json\n",
      "-rw-rw-r-- 1 catskills catskills 17361581 May  7 18:00 scored.json\n",
      "-rw-rw-r-- 1 catskills catskills   151599 May  8 14:23 readme.csv\n",
      "-rw-rw-r-- 1 catskills catskills    82561 May 20 16:08 community_results.json\n",
      "-rw-rw-r-- 1 catskills catskills     2540 May 27 19:27 rag_system_report.json\n",
      "-rw-rw-r-- 1 catskills catskills     1769 Jun 16 21:06 debug.json\n",
      "-rw-rw-r-- 1 catskills catskills 55730809 Jun 16 21:10 community_local_results.json\n",
      "-rw-rw-r-- 1 catskills catskills   563629 Jun 16 21:10 community_local.csv\n",
      "-rw-rw-r-- 1 catskills catskills   563629 Jun 16 21:11 comm_perp.csv\n"
     ]
    }
   ],
   "source": [
    "!ls -ltr *.csv *.json"
   ]
  },
  {
   "cell_type": "code",
   "execution_count": 2,
   "id": "04ceddd5-6849-426d-8af6-bc9100ebf451",
   "metadata": {},
   "outputs": [],
   "source": [
    "import pandas as pd"
   ]
  },
  {
   "cell_type": "code",
   "execution_count": 4,
   "id": "4e175c8c-24d6-4440-94ce-4797428c7642",
   "metadata": {},
   "outputs": [
    {
     "data": {
      "text/html": [
       "<div>\n",
       "<style scoped>\n",
       "    .dataframe tbody tr th:only-of-type {\n",
       "        vertical-align: middle;\n",
       "    }\n",
       "\n",
       "    .dataframe tbody tr th {\n",
       "        vertical-align: top;\n",
       "    }\n",
       "\n",
       "    .dataframe thead th {\n",
       "        text-align: right;\n",
       "    }\n",
       "</style>\n",
       "<table border=\"1\" class=\"dataframe\">\n",
       "  <thead>\n",
       "    <tr style=\"text-align: right;\">\n",
       "      <th></th>\n",
       "      <th>Unnamed: 0</th>\n",
       "      <th>title</th>\n",
       "      <th>question_type</th>\n",
       "      <th>prediction</th>\n",
       "      <th>crowd</th>\n",
       "      <th>error</th>\n",
       "    </tr>\n",
       "  </thead>\n",
       "  <tbody>\n",
       "    <tr>\n",
       "      <th>0</th>\n",
       "      <td>0</td>\n",
       "      <td>If humanity goes extinct, will another intelli...</td>\n",
       "      <td>binary</td>\n",
       "      <td>0.25</td>\n",
       "      <td>0.4</td>\n",
       "      <td>0.15</td>\n",
       "    </tr>\n",
       "    <tr>\n",
       "      <th>1</th>\n",
       "      <td>1</td>\n",
       "      <td>Will Iran possess a nuclear weapon before 2041?</td>\n",
       "      <td>binary</td>\n",
       "      <td>0.4</td>\n",
       "      <td>0.69</td>\n",
       "      <td>0.29</td>\n",
       "    </tr>\n",
       "    <tr>\n",
       "      <th>2</th>\n",
       "      <td>2</td>\n",
       "      <td>Will any country trigger article 50 to leave t...</td>\n",
       "      <td>binary</td>\n",
       "      <td>0.12</td>\n",
       "      <td>0.11</td>\n",
       "      <td>0.01</td>\n",
       "    </tr>\n",
       "  </tbody>\n",
       "</table>\n",
       "</div>"
      ],
      "text/plain": [
       "   Unnamed: 0                                              title  \\\n",
       "0           0  If humanity goes extinct, will another intelli...   \n",
       "1           1    Will Iran possess a nuclear weapon before 2041?   \n",
       "2           2  Will any country trigger article 50 to leave t...   \n",
       "\n",
       "  question_type prediction crowd  error  \n",
       "0        binary       0.25   0.4   0.15  \n",
       "1        binary        0.4  0.69   0.29  \n",
       "2        binary       0.12  0.11   0.01  "
      ]
     },
     "execution_count": 4,
     "metadata": {},
     "output_type": "execute_result"
    }
   ],
   "source": [
    "df_local = pd.read_csv('community_local.csv')\n",
    "df_local.head(3)"
   ]
  },
  {
   "cell_type": "code",
   "execution_count": 5,
   "id": "e87e6936-d086-4b8f-9c6a-0993823b520c",
   "metadata": {},
   "outputs": [
    {
     "data": {
      "text/html": [
       "<div>\n",
       "<style scoped>\n",
       "    .dataframe tbody tr th:only-of-type {\n",
       "        vertical-align: middle;\n",
       "    }\n",
       "\n",
       "    .dataframe tbody tr th {\n",
       "        vertical-align: top;\n",
       "    }\n",
       "\n",
       "    .dataframe thead th {\n",
       "        text-align: right;\n",
       "    }\n",
       "</style>\n",
       "<table border=\"1\" class=\"dataframe\">\n",
       "  <thead>\n",
       "    <tr style=\"text-align: right;\">\n",
       "      <th></th>\n",
       "      <th>Unnamed: 0</th>\n",
       "      <th>title</th>\n",
       "      <th>question_type</th>\n",
       "      <th>prediction</th>\n",
       "      <th>crowd</th>\n",
       "      <th>error</th>\n",
       "    </tr>\n",
       "  </thead>\n",
       "  <tbody>\n",
       "    <tr>\n",
       "      <th>0</th>\n",
       "      <td>0</td>\n",
       "      <td>If humanity goes extinct, will another intelli...</td>\n",
       "      <td>binary</td>\n",
       "      <td>0.25</td>\n",
       "      <td>0.4</td>\n",
       "      <td>0.15</td>\n",
       "    </tr>\n",
       "    <tr>\n",
       "      <th>1</th>\n",
       "      <td>1</td>\n",
       "      <td>Will Iran possess a nuclear weapon before 2041?</td>\n",
       "      <td>binary</td>\n",
       "      <td>0.4</td>\n",
       "      <td>0.69</td>\n",
       "      <td>0.29</td>\n",
       "    </tr>\n",
       "    <tr>\n",
       "      <th>2</th>\n",
       "      <td>2</td>\n",
       "      <td>Will any country trigger article 50 to leave t...</td>\n",
       "      <td>binary</td>\n",
       "      <td>0.12</td>\n",
       "      <td>0.11</td>\n",
       "      <td>0.01</td>\n",
       "    </tr>\n",
       "  </tbody>\n",
       "</table>\n",
       "</div>"
      ],
      "text/plain": [
       "   Unnamed: 0                                              title  \\\n",
       "0           0  If humanity goes extinct, will another intelli...   \n",
       "1           1    Will Iran possess a nuclear weapon before 2041?   \n",
       "2           2  Will any country trigger article 50 to leave t...   \n",
       "\n",
       "  question_type prediction crowd  error  \n",
       "0        binary       0.25   0.4   0.15  \n",
       "1        binary        0.4  0.69   0.29  \n",
       "2        binary       0.12  0.11   0.01  "
      ]
     },
     "execution_count": 5,
     "metadata": {},
     "output_type": "execute_result"
    }
   ],
   "source": [
    "df_perp = pd.read_csv('comm_perp.csv')\n",
    "df_perp.head(3)"
   ]
  },
  {
   "cell_type": "code",
   "execution_count": null,
   "id": "307ef0b7-e226-4253-b98e-bd2d4d0ba500",
   "metadata": {},
   "outputs": [],
   "source": []
  }
 ],
 "metadata": {
  "kernelspec": {
   "display_name": "Python 3 (ipykernel)",
   "language": "python",
   "name": "python3"
  },
  "language_info": {
   "codemirror_mode": {
    "name": "ipython",
    "version": 3
   },
   "file_extension": ".py",
   "mimetype": "text/x-python",
   "name": "python",
   "nbconvert_exporter": "python",
   "pygments_lexer": "ipython3",
   "version": "3.12.3"
  }
 },
 "nbformat": 4,
 "nbformat_minor": 5
}
