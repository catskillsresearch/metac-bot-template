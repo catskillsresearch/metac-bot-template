{
 "cells": [
  {
   "cell_type": "markdown",
   "id": "c1f27471-5886-4bc2-acdf-2dac9cf49676",
   "metadata": {},
   "source": [
    "# Community alignment of training questions"
   ]
  },
  {
   "cell_type": "code",
   "execution_count": 1,
   "id": "40c585c9-9d1e-4329-a0ed-f78f53ec8176",
   "metadata": {},
   "outputs": [],
   "source": [
    "%matplotlib inline"
   ]
  },
  {
   "cell_type": "code",
   "execution_count": 2,
   "id": "122c8339-86ea-47c5-8993-033752f69f5d",
   "metadata": {},
   "outputs": [],
   "source": [
    "import pandas as pd\n",
    "pd.set_option('display.max_columns', None)\n",
    "from ollama_models import ollama_models\n",
    "models = ollama_models()"
   ]
  },
  {
   "cell_type": "code",
   "execution_count": 3,
   "id": "7e9ffc2f-696a-4511-9ab1-9b27936433ea",
   "metadata": {},
   "outputs": [],
   "source": [
    "from community_alignment import community_alignment"
   ]
  },
  {
   "cell_type": "code",
   "execution_count": 4,
   "id": "b7f8ae58-b789-43bf-8cf6-fec48e08679c",
   "metadata": {},
   "outputs": [
    {
     "name": "stdout",
     "output_type": "stream",
     "text": [
      "Loaded existing index from forecast_index.faiss\n",
      "Index contains 4884 vectors at initialization\n"
     ]
    },
    {
     "name": "stderr",
     "output_type": "stream",
     "text": [
      "100%|███████████████████████████████████████████████████████████████████████████| 10/10 [00:00<00:00, 11932.59it/s]"
     ]
    },
    {
     "name": "stdout",
     "output_type": "stream",
     "text": [
      "saved community_cogito:latest.json\n"
     ]
    },
    {
     "name": "stderr",
     "output_type": "stream",
     "text": [
      "\n"
     ]
    },
    {
     "data": {
      "text/html": [
       "<div>\n",
       "<style scoped>\n",
       "    .dataframe tbody tr th:only-of-type {\n",
       "        vertical-align: middle;\n",
       "    }\n",
       "\n",
       "    .dataframe tbody tr th {\n",
       "        vertical-align: top;\n",
       "    }\n",
       "\n",
       "    .dataframe thead th {\n",
       "        text-align: right;\n",
       "    }\n",
       "</style>\n",
       "<table border=\"1\" class=\"dataframe\">\n",
       "  <thead>\n",
       "    <tr style=\"text-align: right;\">\n",
       "      <th></th>\n",
       "      <th>model</th>\n",
       "      <th>id</th>\n",
       "      <th>title</th>\n",
       "      <th>error</th>\n",
       "    </tr>\n",
       "  </thead>\n",
       "  <tbody>\n",
       "    <tr>\n",
       "      <th>1</th>\n",
       "      <td>cogito:latest</td>\n",
       "      <td>8734</td>\n",
       "      <td>What percentage of new vehicle production will...</td>\n",
       "      <td>0.388404</td>\n",
       "    </tr>\n",
       "    <tr>\n",
       "      <th>6</th>\n",
       "      <td>cogito:latest</td>\n",
       "      <td>6614</td>\n",
       "      <td>What is the highest value 1 bitcoin will ever ...</td>\n",
       "      <td>0.574351</td>\n",
       "    </tr>\n",
       "    <tr>\n",
       "      <th>3</th>\n",
       "      <td>cogito:latest</td>\n",
       "      <td>1482</td>\n",
       "      <td>What percentage of Americans will be obese or ...</td>\n",
       "      <td>0.578795</td>\n",
       "    </tr>\n",
       "    <tr>\n",
       "      <th>7</th>\n",
       "      <td>cogito:latest</td>\n",
       "      <td>1337</td>\n",
       "      <td>Drake's Equation 1st Parameter R∗: What is the...</td>\n",
       "      <td>0.596372</td>\n",
       "    </tr>\n",
       "    <tr>\n",
       "      <th>5</th>\n",
       "      <td>cogito:latest</td>\n",
       "      <td>3054</td>\n",
       "      <td>How many hours will the average American emplo...</td>\n",
       "      <td>0.647048</td>\n",
       "    </tr>\n",
       "    <tr>\n",
       "      <th>0</th>\n",
       "      <td>cogito:latest</td>\n",
       "      <td>7811</td>\n",
       "      <td>How many nuclear weapons will be detonated off...</td>\n",
       "      <td>0.672941</td>\n",
       "    </tr>\n",
       "    <tr>\n",
       "      <th>4</th>\n",
       "      <td>cogito:latest</td>\n",
       "      <td>1454</td>\n",
       "      <td>What will be the total aggregate score given t...</td>\n",
       "      <td>0.750000</td>\n",
       "    </tr>\n",
       "    <tr>\n",
       "      <th>9</th>\n",
       "      <td>cogito:latest</td>\n",
       "      <td>2622</td>\n",
       "      <td>What will be the highest level of annual GDP g...</td>\n",
       "      <td>0.800000</td>\n",
       "    </tr>\n",
       "    <tr>\n",
       "      <th>2</th>\n",
       "      <td>cogito:latest</td>\n",
       "      <td>6633</td>\n",
       "      <td>In how many years will humanity's descendants ...</td>\n",
       "      <td>1.000000</td>\n",
       "    </tr>\n",
       "    <tr>\n",
       "      <th>8</th>\n",
       "      <td>cogito:latest</td>\n",
       "      <td>5531</td>\n",
       "      <td>How many seats will be on the Supreme Court of...</td>\n",
       "      <td>1.000000</td>\n",
       "    </tr>\n",
       "  </tbody>\n",
       "</table>\n",
       "</div>"
      ],
      "text/plain": [
       "           model    id                                              title  \\\n",
       "1  cogito:latest  8734  What percentage of new vehicle production will...   \n",
       "6  cogito:latest  6614  What is the highest value 1 bitcoin will ever ...   \n",
       "3  cogito:latest  1482  What percentage of Americans will be obese or ...   \n",
       "7  cogito:latest  1337  Drake's Equation 1st Parameter R∗: What is the...   \n",
       "5  cogito:latest  3054  How many hours will the average American emplo...   \n",
       "0  cogito:latest  7811  How many nuclear weapons will be detonated off...   \n",
       "4  cogito:latest  1454  What will be the total aggregate score given t...   \n",
       "9  cogito:latest  2622  What will be the highest level of annual GDP g...   \n",
       "2  cogito:latest  6633  In how many years will humanity's descendants ...   \n",
       "8  cogito:latest  5531  How many seats will be on the Supreme Court of...   \n",
       "\n",
       "      error  \n",
       "1  0.388404  \n",
       "6  0.574351  \n",
       "3  0.578795  \n",
       "7  0.596372  \n",
       "5  0.647048  \n",
       "0  0.672941  \n",
       "4  0.750000  \n",
       "9  0.800000  \n",
       "2  1.000000  \n",
       "8  1.000000  "
      ]
     },
     "metadata": {},
     "output_type": "display_data"
    },
    {
     "data": {
      "image/png": "[encoded data removed]",
      "text/plain": [
       "<Figure size 640x480 with 1 Axes>"
      ]
     },
     "metadata": {},
     "output_type": "display_data"
    }
   ],
   "source": [
    "dfs = {}\n",
    "for model in models:\n",
    "    df = community_alignment(model)\n",
    "    dfs[model] = df\n",
    "    df1 = df[['model', 'id', 'title', 'error']].sort_values(by='error')\n",
    "    display(df1)\n",
    "    break"
   ]
  }
 ],
 "metadata": {
  "kernelspec": {
   "display_name": "Python 3 (ipykernel)",
   "language": "python",
   "name": "python3"
  },
  "language_info": {
   "codemirror_mode": {
    "name": "ipython",
    "version": 3
   },
   "file_extension": ".py",
   "mimetype": "text/x-python",
   "name": "python",
   "nbconvert_exporter": "python",
   "pygments_lexer": "ipython3",
   "version": "3.12.3"
  }
 },
 "nbformat": 4,
 "nbformat_minor": 5
}
