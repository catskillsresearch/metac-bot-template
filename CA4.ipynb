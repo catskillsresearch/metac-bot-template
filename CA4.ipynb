{
 "cells": [
  {
   "cell_type": "markdown",
   "id": "c1f27471-5886-4bc2-acdf-2dac9cf49676",
   "metadata": {},
   "source": [
    "# Community alignment of training questions"
   ]
  },
  {
   "cell_type": "code",
   "execution_count": 1,
   "id": "40c585c9-9d1e-4329-a0ed-f78f53ec8176",
   "metadata": {},
   "outputs": [],
   "source": [
    "%matplotlib inline"
   ]
  },
  {
   "cell_type": "code",
   "execution_count": 2,
   "id": "122c8339-86ea-47c5-8993-033752f69f5d",
   "metadata": {},
   "outputs": [],
   "source": [
    "import pandas as pd\n",
    "pd.set_option('display.max_columns', None)\n",
    "from ollama_models import ollama_models\n",
    "models = ollama_models()"
   ]
  },
  {
   "cell_type": "code",
   "execution_count": 3,
   "id": "7e9ffc2f-696a-4511-9ab1-9b27936433ea",
   "metadata": {},
   "outputs": [],
   "source": [
    "from community_alignment import community_alignment"
   ]
  },
  {
   "cell_type": "code",
   "execution_count": 4,
   "id": "b7f8ae58-b789-43bf-8cf6-fec48e08679c",
   "metadata": {},
   "outputs": [
    {
     "name": "stdout",
     "output_type": "stream",
     "text": [
      "Loaded existing index from forecast_index.faiss\n",
      "Index contains 4916 vectors at initialization\n"
     ]
    },
    {
     "name": "stderr",
     "output_type": "stream",
     "text": [
      "100%|████████████████████████████████████████| 10/10 [00:00<00:00, 14737.54it/s]\n"
     ]
    },
    {
     "name": "stdout",
     "output_type": "stream",
     "text": [
      "saved community_gemma3:latest.json\n",
      "Loaded existing index from forecast_index.faiss\n",
      "Index contains 4916 vectors at initialization\n"
     ]
    },
    {
     "name": "stderr",
     "output_type": "stream",
     "text": [
      "100%|████████████████████████████████████████| 10/10 [00:00<00:00, 10931.21it/s]"
     ]
    },
    {
     "name": "stdout",
     "output_type": "stream",
     "text": [
      "saved community_mistral-small3.1:latest.json\n"
     ]
    },
    {
     "name": "stderr",
     "output_type": "stream",
     "text": [
      "\n"
     ]
    },
    {
     "data": {
      "image/png": "[encoded data removed]",
      "text/plain": [
       "<Figure size 640x480 with 1 Axes>"
      ]
     },
     "metadata": {},
     "output_type": "display_data"
    }
   ],
   "source": [
    "dfs = {}\n",
    "for model in models:\n",
    "    df = community_alignment(model)\n",
    "    dfs[model] = df"
   ]
  },
  {
   "cell_type": "code",
   "execution_count": 5,
   "id": "078e67e8-8024-4a94-b2a9-9a155d50efc4",
   "metadata": {},
   "outputs": [
    {
     "data": {
      "text/html": [
       "<div>\n",
       "<style scoped>\n",
       "    .dataframe tbody tr th:only-of-type {\n",
       "        vertical-align: middle;\n",
       "    }\n",
       "\n",
       "    .dataframe tbody tr th {\n",
       "        vertical-align: top;\n",
       "    }\n",
       "\n",
       "    .dataframe thead th {\n",
       "        text-align: right;\n",
       "    }\n",
       "</style>\n",
       "<table border=\"1\" class=\"dataframe\">\n",
       "  <thead>\n",
       "    <tr style=\"text-align: right;\">\n",
       "      <th></th>\n",
       "      <th>model</th>\n",
       "      <th>id</th>\n",
       "      <th>title</th>\n",
       "      <th>error</th>\n",
       "    </tr>\n",
       "  </thead>\n",
       "  <tbody>\n",
       "    <tr>\n",
       "      <th>7</th>\n",
       "      <td>gemma3:latest</td>\n",
       "      <td>1337</td>\n",
       "      <td>Drake's Equation 1st Parameter R∗: What is the...</td>\n",
       "      <td>0.650000</td>\n",
       "    </tr>\n",
       "    <tr>\n",
       "      <th>4</th>\n",
       "      <td>gemma3:latest</td>\n",
       "      <td>1454</td>\n",
       "      <td>What will be the total aggregate score given t...</td>\n",
       "      <td>0.604831</td>\n",
       "    </tr>\n",
       "    <tr>\n",
       "      <th>3</th>\n",
       "      <td>gemma3:latest</td>\n",
       "      <td>1482</td>\n",
       "      <td>What percentage of Americans will be obese or ...</td>\n",
       "      <td>0.190610</td>\n",
       "    </tr>\n",
       "    <tr>\n",
       "      <th>9</th>\n",
       "      <td>gemma3:latest</td>\n",
       "      <td>2622</td>\n",
       "      <td>What will be the highest level of annual GDP g...</td>\n",
       "      <td>0.800000</td>\n",
       "    </tr>\n",
       "    <tr>\n",
       "      <th>5</th>\n",
       "      <td>gemma3:latest</td>\n",
       "      <td>3054</td>\n",
       "      <td>How many hours will the average American emplo...</td>\n",
       "      <td>0.657918</td>\n",
       "    </tr>\n",
       "    <tr>\n",
       "      <th>8</th>\n",
       "      <td>gemma3:latest</td>\n",
       "      <td>5531</td>\n",
       "      <td>How many seats will be on the Supreme Court of...</td>\n",
       "      <td>0.400000</td>\n",
       "    </tr>\n",
       "    <tr>\n",
       "      <th>6</th>\n",
       "      <td>gemma3:latest</td>\n",
       "      <td>6614</td>\n",
       "      <td>What is the highest value 1 bitcoin will ever ...</td>\n",
       "      <td>0.720626</td>\n",
       "    </tr>\n",
       "    <tr>\n",
       "      <th>2</th>\n",
       "      <td>gemma3:latest</td>\n",
       "      <td>6633</td>\n",
       "      <td>In how many years will humanity's descendants ...</td>\n",
       "      <td>0.400000</td>\n",
       "    </tr>\n",
       "    <tr>\n",
       "      <th>0</th>\n",
       "      <td>gemma3:latest</td>\n",
       "      <td>7811</td>\n",
       "      <td>How many nuclear weapons will be detonated off...</td>\n",
       "      <td>0.734768</td>\n",
       "    </tr>\n",
       "    <tr>\n",
       "      <th>1</th>\n",
       "      <td>gemma3:latest</td>\n",
       "      <td>8734</td>\n",
       "      <td>What percentage of new vehicle production will...</td>\n",
       "      <td>0.253973</td>\n",
       "    </tr>\n",
       "  </tbody>\n",
       "</table>\n",
       "</div>"
      ],
      "text/plain": [
       "           model    id                                              title  \\\n",
       "7  gemma3:latest  1337  Drake's Equation 1st Parameter R∗: What is the...   \n",
       "4  gemma3:latest  1454  What will be the total aggregate score given t...   \n",
       "3  gemma3:latest  1482  What percentage of Americans will be obese or ...   \n",
       "9  gemma3:latest  2622  What will be the highest level of annual GDP g...   \n",
       "5  gemma3:latest  3054  How many hours will the average American emplo...   \n",
       "8  gemma3:latest  5531  How many seats will be on the Supreme Court of...   \n",
       "6  gemma3:latest  6614  What is the highest value 1 bitcoin will ever ...   \n",
       "2  gemma3:latest  6633  In how many years will humanity's descendants ...   \n",
       "0  gemma3:latest  7811  How many nuclear weapons will be detonated off...   \n",
       "1  gemma3:latest  8734  What percentage of new vehicle production will...   \n",
       "\n",
       "      error  \n",
       "7  0.650000  \n",
       "4  0.604831  \n",
       "3  0.190610  \n",
       "9  0.800000  \n",
       "5  0.657918  \n",
       "8  0.400000  \n",
       "6  0.720626  \n",
       "2  0.400000  \n",
       "0  0.734768  \n",
       "1  0.253973  "
      ]
     },
     "metadata": {},
     "output_type": "display_data"
    },
    {
     "data": {
      "text/html": [
       "<div>\n",
       "<style scoped>\n",
       "    .dataframe tbody tr th:only-of-type {\n",
       "        vertical-align: middle;\n",
       "    }\n",
       "\n",
       "    .dataframe tbody tr th {\n",
       "        vertical-align: top;\n",
       "    }\n",
       "\n",
       "    .dataframe thead th {\n",
       "        text-align: right;\n",
       "    }\n",
       "</style>\n",
       "<table border=\"1\" class=\"dataframe\">\n",
       "  <thead>\n",
       "    <tr style=\"text-align: right;\">\n",
       "      <th></th>\n",
       "      <th>model</th>\n",
       "      <th>id</th>\n",
       "      <th>title</th>\n",
       "      <th>error</th>\n",
       "    </tr>\n",
       "  </thead>\n",
       "  <tbody>\n",
       "    <tr>\n",
       "      <th>7</th>\n",
       "      <td>mistral-small3.1:latest</td>\n",
       "      <td>1337</td>\n",
       "      <td>Drake's Equation 1st Parameter R∗: What is the...</td>\n",
       "      <td>0.736315</td>\n",
       "    </tr>\n",
       "    <tr>\n",
       "      <th>4</th>\n",
       "      <td>mistral-small3.1:latest</td>\n",
       "      <td>1454</td>\n",
       "      <td>What will be the total aggregate score given t...</td>\n",
       "      <td>0.750000</td>\n",
       "    </tr>\n",
       "    <tr>\n",
       "      <th>3</th>\n",
       "      <td>mistral-small3.1:latest</td>\n",
       "      <td>1482</td>\n",
       "      <td>What percentage of Americans will be obese or ...</td>\n",
       "      <td>0.704648</td>\n",
       "    </tr>\n",
       "    <tr>\n",
       "      <th>9</th>\n",
       "      <td>mistral-small3.1:latest</td>\n",
       "      <td>2622</td>\n",
       "      <td>What will be the highest level of annual GDP g...</td>\n",
       "      <td>0.800000</td>\n",
       "    </tr>\n",
       "    <tr>\n",
       "      <th>5</th>\n",
       "      <td>mistral-small3.1:latest</td>\n",
       "      <td>3054</td>\n",
       "      <td>How many hours will the average American emplo...</td>\n",
       "      <td>0.600000</td>\n",
       "    </tr>\n",
       "    <tr>\n",
       "      <th>8</th>\n",
       "      <td>mistral-small3.1:latest</td>\n",
       "      <td>5531</td>\n",
       "      <td>How many seats will be on the Supreme Court of...</td>\n",
       "      <td>0.730980</td>\n",
       "    </tr>\n",
       "    <tr>\n",
       "      <th>6</th>\n",
       "      <td>mistral-small3.1:latest</td>\n",
       "      <td>6614</td>\n",
       "      <td>What is the highest value 1 bitcoin will ever ...</td>\n",
       "      <td>0.428714</td>\n",
       "    </tr>\n",
       "    <tr>\n",
       "      <th>2</th>\n",
       "      <td>mistral-small3.1:latest</td>\n",
       "      <td>6633</td>\n",
       "      <td>In how many years will humanity's descendants ...</td>\n",
       "      <td>0.650000</td>\n",
       "    </tr>\n",
       "    <tr>\n",
       "      <th>0</th>\n",
       "      <td>mistral-small3.1:latest</td>\n",
       "      <td>7811</td>\n",
       "      <td>How many nuclear weapons will be detonated off...</td>\n",
       "      <td>0.686938</td>\n",
       "    </tr>\n",
       "    <tr>\n",
       "      <th>1</th>\n",
       "      <td>mistral-small3.1:latest</td>\n",
       "      <td>8734</td>\n",
       "      <td>What percentage of new vehicle production will...</td>\n",
       "      <td>0.800000</td>\n",
       "    </tr>\n",
       "  </tbody>\n",
       "</table>\n",
       "</div>"
      ],
      "text/plain": [
       "                     model    id  \\\n",
       "7  mistral-small3.1:latest  1337   \n",
       "4  mistral-small3.1:latest  1454   \n",
       "3  mistral-small3.1:latest  1482   \n",
       "9  mistral-small3.1:latest  2622   \n",
       "5  mistral-small3.1:latest  3054   \n",
       "8  mistral-small3.1:latest  5531   \n",
       "6  mistral-small3.1:latest  6614   \n",
       "2  mistral-small3.1:latest  6633   \n",
       "0  mistral-small3.1:latest  7811   \n",
       "1  mistral-small3.1:latest  8734   \n",
       "\n",
       "                                               title     error  \n",
       "7  Drake's Equation 1st Parameter R∗: What is the...  0.736315  \n",
       "4  What will be the total aggregate score given t...  0.750000  \n",
       "3  What percentage of Americans will be obese or ...  0.704648  \n",
       "9  What will be the highest level of annual GDP g...  0.800000  \n",
       "5  How many hours will the average American emplo...  0.600000  \n",
       "8  How many seats will be on the Supreme Court of...  0.730980  \n",
       "6  What is the highest value 1 bitcoin will ever ...  0.428714  \n",
       "2  In how many years will humanity's descendants ...  0.650000  \n",
       "0  How many nuclear weapons will be detonated off...  0.686938  \n",
       "1  What percentage of new vehicle production will...  0.800000  "
      ]
     },
     "metadata": {},
     "output_type": "display_data"
    }
   ],
   "source": [
    "for model in models:\n",
    "    df = dfs[model]\n",
    "    df1 = df[['model', 'id', 'title', 'error']].sort_values(by='id')\n",
    "    display(df1)"
   ]
  },
  {
   "cell_type": "code",
   "execution_count": 11,
   "id": "41ce78d6-396a-40ed-9870-3b0995db27ab",
   "metadata": {},
   "outputs": [
    {
     "data": {
      "image/png": "[encoded data removed]",
      "text/plain": [
       "<Figure size 640x480 with 1 Axes>"
      ]
     },
     "metadata": {},
     "output_type": "display_data"
    }
   ],
   "source": [
    "import matplotlib.pylab as plt\n",
    "errors = []\n",
    "for model in models:\n",
    "    df = dfs[model]\n",
    "    errors.append((model, df.error.median()))\n",
    "    plt.plot(sorted(df['error'].values.tolist()), label=model)\n",
    "plt.legend();"
   ]
  },
  {
   "cell_type": "code",
   "execution_count": 7,
   "id": "7aafa81d-d135-427f-a141-c0bf0548f066",
   "metadata": {},
   "outputs": [],
   "source": [
    "dfe = pd.DataFrame(errors, columns = ['model', 'medianError'])"
   ]
  },
  {
   "cell_type": "code",
   "execution_count": 8,
   "id": "ce165723-63ce-4b10-801c-cf6d6ef12dae",
   "metadata": {
    "scrolled": true
   },
   "outputs": [
    {
     "data": {
      "text/html": [
       "<div>\n",
       "<style scoped>\n",
       "    .dataframe tbody tr th:only-of-type {\n",
       "        vertical-align: middle;\n",
       "    }\n",
       "\n",
       "    .dataframe tbody tr th {\n",
       "        vertical-align: top;\n",
       "    }\n",
       "\n",
       "    .dataframe thead th {\n",
       "        text-align: right;\n",
       "    }\n",
       "</style>\n",
       "<table border=\"1\" class=\"dataframe\">\n",
       "  <thead>\n",
       "    <tr style=\"text-align: right;\">\n",
       "      <th></th>\n",
       "      <th>model</th>\n",
       "      <th>medianError</th>\n",
       "    </tr>\n",
       "  </thead>\n",
       "  <tbody>\n",
       "    <tr>\n",
       "      <th>0</th>\n",
       "      <td>gemma3:latest</td>\n",
       "      <td>0.627415</td>\n",
       "    </tr>\n",
       "    <tr>\n",
       "      <th>1</th>\n",
       "      <td>mistral-small3.1:latest</td>\n",
       "      <td>0.717814</td>\n",
       "    </tr>\n",
       "  </tbody>\n",
       "</table>\n",
       "</div>"
      ],
      "text/plain": [
       "                     model  medianError\n",
       "0            gemma3:latest     0.627415\n",
       "1  mistral-small3.1:latest     0.717814"
      ]
     },
     "execution_count": 8,
     "metadata": {},
     "output_type": "execute_result"
    }
   ],
   "source": [
    "dfe.sort_values(by='medianError')"
   ]
  },
  {
   "cell_type": "code",
   "execution_count": null,
   "id": "63862739-998a-4e92-895b-2b728e21e43f",
   "metadata": {},
   "outputs": [],
   "source": [
    "plt.plot("
   ]
  }
 ],
 "metadata": {
  "kernelspec": {
   "display_name": "Python 3 (ipykernel)",
   "language": "python",
   "name": "python3"
  },
  "language_info": {
   "codemirror_mode": {
    "name": "ipython",
    "version": 3
   },
   "file_extension": ".py",
   "mimetype": "text/x-python",
   "name": "python",
   "nbconvert_exporter": "python",
   "pygments_lexer": "ipython3",
   "version": "3.12.3"
  }
 },
 "nbformat": 4,
 "nbformat_minor": 5
}
