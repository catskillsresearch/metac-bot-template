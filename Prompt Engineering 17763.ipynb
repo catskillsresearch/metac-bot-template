{
 "cells": [
  {
   "cell_type": "markdown",
   "id": "c1f27471-5886-4bc2-acdf-2dac9cf49676",
   "metadata": {},
   "source": [
    "# Prompt engineering on worst econ questions: answer verification, temperature, red/blue, context"
   ]
  },
  {
   "cell_type": "code",
   "execution_count": 1,
   "id": "40c585c9-9d1e-4329-a0ed-f78f53ec8176",
   "metadata": {},
   "outputs": [],
   "source": [
    "%matplotlib inline"
   ]
  },
  {
   "cell_type": "code",
   "execution_count": 2,
   "id": "122c8339-86ea-47c5-8993-033752f69f5d",
   "metadata": {},
   "outputs": [],
   "source": [
    "import pandas as pd\n",
    "pd.set_option('display.max_columns', None)\n",
    "from ollama_models import ollama_models\n",
    "models = ollama_models()"
   ]
  },
  {
   "cell_type": "code",
   "execution_count": 3,
   "id": "70be6a67-c25b-4729-ab99-725f064528d7",
   "metadata": {},
   "outputs": [
    {
     "data": {
      "text/plain": [
       "['mistral-small3.2:24b-instruct-2506-q4_K_M']"
      ]
     },
     "execution_count": 3,
     "metadata": {},
     "output_type": "execute_result"
    }
   ],
   "source": [
    "models"
   ]
  },
  {
   "cell_type": "code",
   "execution_count": 4,
   "id": "a75e3d1e-890d-44d9-b173-18f3afbfbe31",
   "metadata": {},
   "outputs": [],
   "source": [
    "model = models[0]"
   ]
  },
  {
   "cell_type": "code",
   "execution_count": 5,
   "id": "6651ca1a-083f-4ea2-87fa-bc56531f788f",
   "metadata": {},
   "outputs": [],
   "source": [
    "from load_saved_questions import load_saved_questions\n",
    "from call_local_llm import call_local_llm"
   ]
  },
  {
   "cell_type": "code",
   "execution_count": 6,
   "id": "b8b6b1c7-263d-404b-b5be-04c89639ac9d",
   "metadata": {},
   "outputs": [],
   "source": [
    "question = load_saved_questions([17763])[0]"
   ]
  },
  {
   "cell_type": "code",
   "execution_count": 7,
   "id": "552a481e-5a4f-405f-a618-4edf5107d0c9",
   "metadata": {},
   "outputs": [],
   "source": [
    "    from community_forecast import community_forecast\n",
    "    import pandas as pd\n",
    "    from flatten_dict import flatten_dict\n",
    "    from datetime import datetime\n",
    "    from gather_research_and_set_prompt import gather_research_and_set_prompt\n",
    "    from generate_forecasts_and_update_rag import generate_forecasts_and_update_rag\n",
    "    from tqdm import tqdm\n",
    "    import time"
   ]
  },
  {
   "cell_type": "code",
   "execution_count": 8,
   "id": "cc4b0cff-645d-463e-a91d-85e9a2911918",
   "metadata": {},
   "outputs": [
    {
     "name": "stdout",
     "output_type": "stream",
     "text": [
      "START model mistral-small3.2:24b-instruct-2506-q4_K_M id <built-in function id>\n"
     ]
    }
   ],
   "source": [
    "    print('START model', model, 'id', id)\n",
    "    start_time = time.time()\n",
    "    questions = [question]\n",
    "    id = question.id_of_question\n",
    "    id_to_forecast = {question.id_of_question: community_forecast(question) for question in questions}\n",
    "    df = pd.DataFrame([flatten_dict(q.api_json, sep='_') for q in questions])\n",
    "    df['id_of_post'] = [q.id_of_post for q in questions]\n",
    "    df['id_of_question'] = [q.id_of_question for q in questions]\n",
    "    df['question_options'] = df['question_options'].apply(repr)\n",
    "    df['today'] = datetime.now().strftime(\"%Y-%m-%d\")\n",
    "    df['crowd'] = df.apply(lambda row: id_to_forecast[row.id_of_question], axis=1)"
   ]
  },
  {
   "cell_type": "code",
   "execution_count": 9,
   "id": "b549d0b5-3a4f-4286-89c1-462c2a01b3c5",
   "metadata": {},
   "outputs": [],
   "source": [
    "    df1 = df[['id_of_question', 'id_of_post', 'today', 'open_time', 'scheduled_resolve_time', 'title',\n",
    "        'question_resolution_criteria', 'question_fine_print', 'question_type', \n",
    "         'question_description',\n",
    "        'question_options', 'question_group_variable', 'question_question_weight',\n",
    "        'question_unit', 'question_open_upper_bound', 'question_open_lower_bound',\n",
    "        'question_scaling_range_max', 'question_scaling_range_min', 'question_scaling_zero_point','crowd']].copy()"
   ]
  },
  {
   "cell_type": "code",
   "execution_count": 10,
   "id": "22294f1d-0065-460d-97b2-65cca83d0d90",
   "metadata": {},
   "outputs": [
    {
     "name": "stdout",
     "output_type": "stream",
     "text": [
      "Loaded existing index from forecast_index.faiss\n",
      "Index contains 5839 vectors at initialization\n"
     ]
    }
   ],
   "source": [
    "    df2, rag = gather_research_and_set_prompt(df1, True, model)"
   ]
  },
  {
   "cell_type": "code",
   "execution_count": 22,
   "id": "80261c3f-b8b1-44f7-9b75-b90be8f25229",
   "metadata": {},
   "outputs": [],
   "source": [
    "df3 = df2[['id_of_question', 'title',\n",
    "        'question_resolution_criteria', 'question_type', \n",
    "         'question_description','crowd',\n",
    "          'research', 'asknews', 'learning']].copy()"
   ]
  },
  {
   "cell_type": "code",
   "execution_count": 23,
   "id": "d67ccbf7-02aa-4a15-a89e-d76a98532136",
   "metadata": {},
   "outputs": [],
   "source": [
    "row = df3.iloc[0]"
   ]
  },
  {
   "cell_type": "code",
   "execution_count": 24,
   "id": "c54b1448-a2a8-424a-a33f-61b37ad6b165",
   "metadata": {},
   "outputs": [
    {
     "data": {
      "text/plain": [
       "id_of_question                                                              17763\n",
       "title                           Will Threads report more monthly active users ...\n",
       "question_resolution_criteria    This question resolves as **YES** if, before D...\n",
       "question_type                                                              binary\n",
       "question_description            Mark Zuckerberg launched a twitter competitor,...\n",
       "crowd                                                                        0.01\n",
       "research                        # Forecasting Analysis: Threads vs. Twitter Mo...\n",
       "asknews                         Here are the relevant news articles:\\n\\n**Four...\n",
       "learning                                                                       []\n",
       "Name: 0, dtype: object"
      ]
     },
     "execution_count": 24,
     "metadata": {},
     "output_type": "execute_result"
    }
   ],
   "source": [
    "row"
   ]
  },
  {
   "cell_type": "code",
   "execution_count": 25,
   "id": "a441b75e-e37e-4766-b5bd-24343d116e3e",
   "metadata": {},
   "outputs": [
    {
     "name": "stdout",
     "output_type": "stream",
     "text": [
      "ID_OF_QUESTION\n",
      "\n",
      "17763\n",
      "===============================\n",
      "\n",
      "TITLE\n",
      "\n",
      "Will Threads report more monthly active users than Twitter before 2026?\n",
      "===============================\n",
      "\n",
      "QUESTION_RESOLUTION_CRITERIA\n",
      "\n",
      "This question resolves as **YES** if, before Dec 31, 2025, Meta publicly reports Threads has a Monthly Active User number higher than the best public estimates of Twitter's MAUs at that time, and **NO** otherwise.\n",
      "===============================\n",
      "\n",
      "QUESTION_TYPE\n",
      "\n",
      "binary\n",
      "===============================\n",
      "\n",
      "QUESTION_DESCRIPTION\n",
      "\n",
      "Mark Zuckerberg launched a twitter competitor, Threads, on July 5, 2023. On the first day after launch, Zuckerberg [claimed](https://www.abc.net.au/news/2023-07-06/millions-sign-up-to-meta-twitter-rival-app-threads-in-hours/102572568) 30 million users signed up, and after the first week, [100 million had](https://www.cnn.com/2023/07/19/tech/threads-meta-growth-plan/index.html), though it is hard to estimate how many of those users will be \"monthly active\" until some months pass. Many of these users were able to sign up with just one or two clicks from Instagram. \n",
      "\n",
      "As of December 2022, Twitter had [368M monthly active users](https://www.statista.com/statistics/303681/twitter-users-worldwide/), and many expect this to fall due to erratic leadership from Elon Musk. Meta's other properties, Facebook, Instagram, and Whatsapp, are all well over 1B MAUs.\n",
      "===============================\n",
      "\n",
      "CROWD\n",
      "\n",
      "0.01\n",
      "===============================\n",
      "\n",
      "RESEARCH\n",
      "\n",
      "# Forecasting Analysis: Threads vs. Twitter Monthly Active Users by 2026\n",
      "\n",
      "As of July 23, 2023, we have limited but significant data to help forecast whether Threads will surpass Twitter in monthly active users (MAUs) before the end of 2025. Let's analyze the available information.\n",
      "\n",
      "## Current Status and Early Adoption Trends\n",
      "\n",
      "Threads launched on July 6, 2023, and experienced explosive initial growth followed by a significant drop-off:\n",
      "\n",
      "- The platform reported 41.79 million daily active users on launch day, climbing to 49.3 million the following day (July 7)[1]\n",
      "- By July 14, 2023, daily active users had declined to 23.6 million, representing a 52% drop in just one week[1]\n",
      "- Threads achieved over 100 million sign-ups in its first five days, making it the fastest app to reach this milestone, surpassing even ChatGPT[5]\n",
      "\n",
      "Meanwhile, Twitter (now X) had approximately 368 million monthly active users as of December 2022, as mentioned in the question description.\n",
      "\n",
      "## Key Factors That May Influence Growth\n",
      "\n",
      "### Advantages for Threads\n",
      "\n",
      "1. **Instagram Integration**: Threads benefits from seamless integration with Instagram, allowing users to sign up with just one or two clicks from their existing Instagram accounts. This significantly lowers the barrier to entry.\n",
      "\n",
      "2. **Meta's Ecosystem**: As part of Meta's portfolio, Threads has access to massive cross-promotion opportunities. Meta's other platforms have demonstrated remarkable user growth:\n",
      "   - Facebook: ~2.9 billion MAUs\n",
      "   - Instagram: Well over 1 billion MAUs\n",
      "   - WhatsApp: Well over 1 billion MAUs\n",
      "\n",
      "3. **Twitter's Instability**: Under Elon Musk's leadership, Twitter has experienced controversial changes that have alienated some users and advertisers, potentially creating an opportunity for competitors.\n",
      "\n",
      "### Challenges for Threads\n",
      "\n",
      "1. **Retention Issues**: The 52% drop in daily active users within the first week suggests significant challenges in user retention[1]. Initial curiosity may have driven sign-ups, but keeping users engaged appears problematic.\n",
      "\n",
      "2. **Feature Parity**: At launch, Threads lacked several key features available on Twitter, including a web interface, direct messaging, and robust search functionality.\n",
      "\n",
      "3. **Network Effects**: Twitter's established user base and network effects represent a significant barrier for any challenger platform.\n",
      "\n",
      "## Uncertainties and Limitations\n",
      "\n",
      "Several important factors remain unclear as of July 23, 2023:\n",
      "\n",
      "1. **Monthly Active Users vs. Sign-ups**: While Threads reported 100 million sign-ups, this doesn't translate directly to monthly active users. The rapid decline in daily active users suggests many sign-ups may not convert to regular users.\n",
      "\n",
      "2. **Twitter's Trajectory**: Whether Twitter's user base will continue to decline under Musk's leadership remains uncertain.\n",
      "\n",
      "3. **Feature Development**: Threads' ability to quickly develop and deploy features that retain users will be crucial for long-term growth.\n",
      "\n",
      "4. **International Expansion**: Threads' initial launch excluded the European Union due to regulatory concerns, limiting its potential user base.\n",
      "\n",
      "## Assessment\n",
      "\n",
      "Based on the information available as of July 23, 2023, Threads faces significant challenges in overtaking Twitter's MAU count by the end of 2025. While its initial sign-up numbers were impressive, the rapid decline in daily active users suggests retention issues that must be addressed for sustained growth.\n",
      "\n",
      "However, Meta's resources, cross-platform integration capabilities, and Twitter's ongoing challenges under Musk create a plausible pathway for Threads to close the gap. If Meta can address early retention issues and Twitter continues to lose users, Threads could potentially overtake Twitter within the specified timeframe.\n",
      "\n",
      "The key metrics to monitor going forward will be:\n",
      "- Threads' ability to convert initial sign-ups to regular monthly users\n",
      "- The rate of Twitter's user decline or growth\n",
      "- Feature development and international expansion of Threads\n",
      "===============================\n",
      "\n",
      "ASKNEWS\n",
      "\n",
      "Here are the relevant news articles:\n",
      "\n",
      "**Four AI Native Apps with Over 1 Billion Monthly Active Users: Huawei's Xia Yi Ranks Second**\n",
      "According to QuestMobile data, as of March 2025, the number of monthly active users for mobile native apps reached 591 million. Among them, AI native apps led by six major smartphone manufacturers have emerged as a new force, with a monthly active user scale of 481 million. Specifically, the top 15 native apps with the most active users include six smartphone manufacturers. Huawei's Xia Yi and OPPO's Xiao Bu Assistant ranked second and third, respectively, with 157 million and 148 million monthly active users, surpassing Dou Bao's 115 million and trailing only DeepSeek's 193 million. In contrast to the traditional approach of internet companies, smartphone manufacturers have shown a unique competitive advantage: on the one hand, they rely on pre-installed devices to occupy the market, and on the other hand, they use system-level API openness to build a developer ecosystem. This 'terminal + cloud' three-dimensional layout enables them to maintain a leading pace in core functions such as voice interaction and scene perception.\n",
      "Original language: zh\n",
      "Publish date: May 13, 2025 07:36 AM\n",
      "Source:[驱动之家](https://news.mydrivers.com/1/1047/1047229.htm)\n",
      "\n",
      "**Alarming Increase in Online Antisemitism in 2024: Uruguay Leads the Trend**\n",
      "A recent report titled 'Informe de Antisemitismo Online 2024' has shown a concerning increase in online antisemitism in 2024. The study, conducted by the Observatorio Web in collaboration with the Congreso Judío Latinoamericano, AMIA, and DAIA, analyzed over 126 million posts using artificial intelligence. The report found that one in five posts on X (formerly Twitter) contained antisemitic messages, while Facebook reported an 11.52% increase in such posts. Uruguay emerged as the country with the highest proportion of hate messages. Ariel Seidler, director of the Observatorio Web, warned that these messages not only multiply in quantity but also reach an increasingly large number of users. Seidler emphasized the need for active collaboration between civil society organizations and platforms to monitor and minimize hate speech, as well as increased state responsibility in the situation. Claudio Epelman, director of the CJL, described antisemitism as 'a contagious virus' and highlighted the importance of the report in understanding the threat in the digital ecosystem.\n",
      "Original language: es\n",
      "Publish date: May 12, 2025 10:45 PM\n",
      "Source:[Cadena 3 Argentina](https://www.cadena3.com/noticia/internacionales/aumento-alarmante-del-antisemitismo-online-en-2024-uruguay-esta-a-la-cabeza-de-la-tendencia_421761)\n",
      "\n",
      "**Threads Recommends Suspicious Posts to Users**\n",
      "Threads has been recommending suspicious posts to its users, including ones from random people searching for 'friends'. These posts often feature selfies of young people claiming to be 18 years old. According to Engadget, many of these posts have been appearing in the 'Related Posts' feature on Threads, which displays recommended content to users who haven't logged in. It's unclear why these posts are being recommended as 'related' to other popular posts. For example, a post about Spotify by popular Threads user Chris Messina was recommended to users who hadn't logged in, and clicking on it revealed another 'related' post from Threads' director Adam Mosseri. However, below this post was another 'related' post from an account claiming to be a 11th-grade girl. For some reason, Threads is showing many similar posts in the 'Related Posts' feature. For instance, the following post was also recommended as a 'related' post in another part of the app. This user's profile shows that they have posted the same post - a selfie followed by a WhatsApp link - over 30 times in the past five days. As Threads' user base has grown to over 350 million users, it's not surprising to see a flood of unwanted messages. Mosseri, Meta's executive director, said that the company has seen an increase in 'unwanted message attacks' in July 2023, shortly after the service was launched. Last year, the company said it was working to control engagement incentives. While it's not surprising to see unwanted messages on a platform as large as Threads, it's strange that the app is recommending these posts with such frequency. Meta has not responded to specific questions about these posts or why they're being recommended as 'related' content, but it did confirm that it should not be showing unwanted posts as recommended content in the app. Unwanted posts are also appearing as recommendations in other parts of Meta's apps. One Reddit user recently noticed a suspicious post appearing as a recommendation on Instagram. The post featured a selfie of a woman with the caption 'I need a boyfriend, age doesn't matter.' A quick look at the user's profile shows that they have posted the same comment dozens of times in the past week. The user wrote: 'Every time I see the suggested topics window, I have to scroll through two or four posts like this before I see something normal. I click 'not interested' and report everything, but it still keeps showing up.' It seems like the post is part of a persistent spam campaign. The same image and text have been shared by at least one other account on Threads. Threads search results show that many other accounts are consistently sharing posts that say 'age doesn't matter' or 'age doesn't matter at all'.\n",
      "Original language: ar\n",
      "Publish date: May 12, 2025 09:00 PM\n",
      "Source:[alwafd.news](https://www.alwafd.news/5600852)\n",
      "\n",
      "**Threads Introduces New Transparency Feature and Video Ads**\n",
      "Threads has added a new feature to increase transparency on the platform, allowing users to know how their accounts are punished for violating platform rules. This feature provides users with more clarity on the actions taken against their accounts. The feature is similar to the account status information provided by Instagram and Facebook, showing users details about the removal or reduction of their content in news summaries. Additionally, the platform will display posts that are not recommended due to community guidelines violations, and notify users if they are banned from using certain features. If users believe their punishment is unfair, they can submit an appeal through this feature. This feature aims to simplify user understanding of actions taken against their accounts, helping to avoid future penalties and restore content or features they believe were restricted by mistake. Users can access this feature now through the 'Account' section in the settings menu. In another move to boost platform revenue, Meta has announced the start of testing video ads on Threads. According to Meta, advertisers will test video ads in 19:9 or 1:1 format, which will be displayed alongside organic content in search results. This test comes after the launch of ads on the platform in January, followed by a global expansion last month.\n",
      "Original language: ar\n",
      "Publish date: May 11, 2025 12:43 PM\n",
      "Source:[الوكيل الاخباري](https://www.alwakeelnews.com/Section_20/%D8%AA%D9%83%D9%86%D9%88%D9%84%D9%88%D8%AC%D9%8A%D8%A7/%D8%AA%D8%B7%D8%A8%D9%8A%D9%82-Threads-%D9%8A%D8%B7%D8%B1%D8%AD-%D9%85%D9%8A%D8%B2%D8%A9-%D8%A7%D9%84%D8%B4%D9%81%D8%A7%D9%81%D9%8A%D8%A9-%D8%A7%D9%84%D8%AC%D8%AF%D9%8A%D8%AF%D8%A9-%D9%88%D8%A5%D8%B9%D9%84%D8%A7%D9%86%D8%A7%D8%AA-%D8%A7%D9%84%D9%81%D9%8A%D8%AF%D9%8A%D9%88-%D9%84%D8%A3%D9%88%D9%84-%D9%85%D8%B1%D8%A9_730616)\n",
      "\n",
      "**Why Meta is about to repeat Twitter's mistakes with its Community Notes**\n",
      "Meta has announced that it will start testing its Community Notes program on Facebook, Instagram, and Threads in the US on March 18. The program will allow a few users to propose notes, but they will not be publicly visible yet. This move comes after the end of the independent verification program in the US, which collaborated with independent fact-checkers to label false or context-dependent content. According to Meta, the Community Notes will use the same visibility algorithm as Twitter, which only shows notes when users who normally disagree are in agreement that the note is useful. This decision has led to a situation where, for example, during the Valencia DANA, over 90% of the debunked rumors by Maldita.es did not have visible notes despite having 50 million impressions. In the last European elections, it was 85%. The Community Notes can work, but not in this way. Meta's new program repeats many of the errors of Elon Musk's Twitter, such as the lack of a clear process for appealing unjustified notes. The company also does not clarify other key aspects of how the Community Notes will work, such as whether there will be a process for appealing unjustified notes. The end of independent fact-checking in Meta Meta justifies its decision by saying that it expects the Community Notes to be less biased than the independent verification program it is replacing, but the reality is that Meta never criticized the collaboration with fact-checkers until Donald Trump won the 2024 elections. The company defended the program's effectiveness just a few months before and has said in its own transparency reports that the error rate of the fact-checkers is 3.15%, while other content moderation decisions by Meta reach almost 90%. When announcing the end of the verification program in the US and the launch of Community Notes, Meta says that its intention is to implement this new approach for its users worldwide, but for now, it will maintain its collaboration with fact-checkers outside of the US. This decision includes Spain, where Maldita.es is part of the independent verification program. A study by the Maldita.es Foundation on Community Notes on Twitter shows that fact-checkers are the third most used source worldwide and are trusted by users.\n",
      "Original language: pt\n",
      "Publish date: March 13, 2025 04:29 PM\n",
      "Source:[maldita.es](https://maldita.es/nosotros/20250313/meta-notas-comunidad-anuncio-errores/)\n",
      "\n",
      "**Four AI Native Apps with Over 1 Billion Monthly Active Users: Huawei's Xia Yi Ranks Second**\n",
      "According to QuestMobile data, as of March 2025, the number of monthly active users for mobile native apps reached 591 million. Among them, AI native apps led by six major smartphone manufacturers have emerged as a new force, with a monthly active user scale of 481 million. Specifically, the top 15 native apps with the most active users include six smartphone manufacturers. Huawei's Xia Yi and OPPO's Xiao Bu Assistant ranked second and third, respectively, with 157 million and 148 million monthly active users, surpassing Dou Bao's 115 million and trailing only DeepSeek's 193 million. In contrast to the traditional approach of internet companies, smartphone manufacturers have shown a unique competitive advantage: on the one hand, they rely on pre-installed devices to occupy the market, and on the other hand, they use system-level API openness to build a developer ecosystem. This 'terminal + cloud' three-dimensional layout enables them to maintain a leading pace in core functions such as voice interaction and scene perception.\n",
      "Original language: zh\n",
      "Publish date: May 13, 2025 07:36 AM\n",
      "Source:[驱动之家](https://news.mydrivers.com/1/1047/1047229.htm)\n",
      "\n",
      "**Alarming Increase in Online Antisemitism in 2024: Uruguay Leads the Trend**\n",
      "A recent report titled 'Informe de Antisemitismo Online 2024' has shown a concerning increase in online antisemitism in 2024. The study, conducted by the Observatorio Web in collaboration with the Congreso Judío Latinoamericano, AMIA, and DAIA, analyzed over 126 million posts using artificial intelligence. The report found that one in five posts on X (formerly Twitter) contained antisemitic messages, while Facebook reported an 11.52% increase in such posts. Uruguay emerged as the country with the highest proportion of hate messages. Ariel Seidler, director of the Observatorio Web, warned that these messages not only multiply in quantity but also reach an increasingly large number of users. Seidler emphasized the need for active collaboration between civil society organizations and platforms to monitor and minimize hate speech, as well as increased state responsibility in the situation. Claudio Epelman, director of the CJL, described antisemitism as 'a contagious virus' and highlighted the importance of the report in understanding the threat in the digital ecosystem.\n",
      "Original language: es\n",
      "Publish date: May 12, 2025 10:45 PM\n",
      "Source:[Cadena 3 Argentina](https://www.cadena3.com/noticia/internacionales/aumento-alarmante-del-antisemitismo-online-en-2024-uruguay-esta-a-la-cabeza-de-la-tendencia_421761)\n",
      "\n",
      "**Threads Recommends Suspicious Posts to Users**\n",
      "Threads has been recommending suspicious posts to its users, including ones from random people searching for 'friends'. These posts often feature selfies of young people claiming to be 18 years old. According to Engadget, many of these posts have been appearing in the 'Related Posts' feature on Threads, which displays recommended content to users who haven't logged in. It's unclear why these posts are being recommended as 'related' to other popular posts. For example, a post about Spotify by popular Threads user Chris Messina was recommended to users who hadn't logged in, and clicking on it revealed another 'related' post from Threads' director Adam Mosseri. However, below this post was another 'related' post from an account claiming to be a 11th-grade girl. For some reason, Threads is showing many similar posts in the 'Related Posts' feature. For instance, the following post was also recommended as a 'related' post in another part of the app. This user's profile shows that they have posted the same post - a selfie followed by a WhatsApp link - over 30 times in the past five days. As Threads' user base has grown to over 350 million users, it's not surprising to see a flood of unwanted messages. Mosseri, Meta's executive director, said that the company has seen an increase in 'unwanted message attacks' in July 2023, shortly after the service was launched. Last year, the company said it was working to control engagement incentives. While it's not surprising to see unwanted messages on a platform as large as Threads, it's strange that the app is recommending these posts with such frequency. Meta has not responded to specific questions about these posts or why they're being recommended as 'related' content, but it did confirm that it should not be showing unwanted posts as recommended content in the app. Unwanted posts are also appearing as recommendations in other parts of Meta's apps. One Reddit user recently noticed a suspicious post appearing as a recommendation on Instagram. The post featured a selfie of a woman with the caption 'I need a boyfriend, age doesn't matter.' A quick look at the user's profile shows that they have posted the same comment dozens of times in the past week. The user wrote: 'Every time I see the suggested topics window, I have to scroll through two or four posts like this before I see something normal. I click 'not interested' and report everything, but it still keeps showing up.' It seems like the post is part of a persistent spam campaign. The same image and text have been shared by at least one other account on Threads. Threads search results show that many other accounts are consistently sharing posts that say 'age doesn't matter' or 'age doesn't matter at all'.\n",
      "Original language: ar\n",
      "Publish date: May 12, 2025 09:00 PM\n",
      "Source:[alwafd.news](https://www.alwafd.news/5600852)\n",
      "\n",
      "**Threads Introduces 'Account Status' Feature for Increased Transparency**\n",
      "Threads, a social media platform, has announced the addition of a new feature called 'Account Status' (حالة الحساب), which aims to provide users with more transparency about the actions taken by the platform against their accounts in case of policy violations. This feature will display to users when content they posted was removed or reduced in visibility, enhancing the clarity of actions taken against violating accounts. The new feature will be similar to existing account options on Facebook and Instagram, both owned by Meta, the parent company of Threads. According to a report by The Verge, the feature will also show users the posts that are not recommended to others due to community guidelines violations. Additionally, users will be able to know if they are banned from using certain platform features. If users feel they were wrongly penalized, the feature will allow them to submit a request for a review of their case. This feature aims to facilitate users' understanding of actions taken against their accounts, helping them avoid future penalties, restore lost content or features due to incorrect restrictions. The 'Account Status' feature can be accessed from the 'Account' section in the settings menu on the app.\n",
      "Original language: ar\n",
      "Publish date: May 12, 2025 07:18 AM\n",
      "Source:[وكاله عمون الاخباريه](https://www.ammonnews.net/article/921645)\n",
      "\n",
      "**ChatGPT Surpasses 10 Million Users in Korea**\n",
      "ChatGPT has surpassed 10 million users in South Korea, more than doubling its user base in just one month. According to Mobile Index, ChatGPT's monthly active users (MAU) reached 10.72 million in April, up from 5.09 million in March. The growth has been dramatic, with the user base surging by approximately elevenfold compared to April of last year. Industry observers note that every key metric is improving, including user engagement time and new installations. ChatGPT's continued rollout of new features, such as shopping capabilities, is attracting increasing numbers of users. Analysts predict that ChatGPT could eventually replace traditional search engines like Google. As ChatGPT tightens its grip on the market, domestic tech firms are facing the risk of losing ground in their home turf due to delayed AI rollouts or insufficient competitiveness. Eddy Cue, Apple's Senior Vice President of Services, said, 'AI-based search features developed by companies such as OpenAI, Perplexity, and Anthropic will eventually replace existing search engines.' \n",
      "Original language: en\n",
      "Publish date: May 12, 2025 03:38 AM\n",
      "Source:[Business Korea](https://www.businesskorea.co.kr/news/articleView.html?idxno=241984)\n",
      "\n",
      "**Online worlds offer gateway to youth**\n",
      "Brands are capitalizing on online gaming and virtual worlds to reach Gen Z and Gen Alpha markets, but face challenges in capturing their attention. According to Patthawee Apiwatcharoensin, associate director of strategy at We Are Social Thailand, 'In the attention economy, the abundance of platforms and overwhelming content make it increasingly challenging to capture users' attention.' Gen Z spends more time on gaming than social media, with 63% using ad blockers and losing attention within 1.3 seconds. Gen Alpha engages less with Facebook but more on Instagram and TikTok. The top virtual world platforms are Roblox, Minecraft, Fortnite, and Sims 4, with 300 million monthly active users on Roblox. Brands can collaborate with intellectual property products to introduce virtual items in games, increasing engagement and brand awareness, as seen with Walmart's presence on Roblox, Zepeto, and Spatial.\n",
      "Original language: en\n",
      "Publish date: May 12, 2025 12:16 AM\n",
      "Source:[Bangkok Post](https://www.bangkokpost.com/business/general/3023396/online-worlds-offer-gateway-to-youth)\n",
      "\n",
      "**Threads Introduces New Transparency Feature and Video Ads**\n",
      "Threads has added a new feature to increase transparency on the platform, allowing users to know how their accounts are punished for violating platform rules. This feature provides users with more clarity on the actions taken against their accounts. The feature is similar to the account status information provided by Instagram and Facebook, showing users details about the removal or reduction of their content in news summaries. Additionally, the platform will display posts that are not recommended due to community guidelines violations, and notify users if they are banned from using certain features. If users believe their punishment is unfair, they can submit an appeal through this feature. This feature aims to simplify user understanding of actions taken against their accounts, helping to avoid future penalties and restore content or features they believe were restricted by mistake. Users can access this feature now through the 'Account' section in the settings menu. In another move to boost platform revenue, Meta has announced the start of testing video ads on Threads. According to Meta, advertisers will test video ads in 19:9 or 1:1 format, which will be displayed alongside organic content in search results. This test comes after the launch of ads on the platform in January, followed by a global expansion last month.\n",
      "Original language: ar\n",
      "Publish date: May 11, 2025 12:43 PM\n",
      "Source:[الوكيل الاخباري](https://www.alwakeelnews.com/Section_20/%D8%AA%D9%83%D9%86%D9%88%D9%84%D9%88%D8%AC%D9%8A%D8%A7/%D8%AA%D8%B7%D8%A8%D9%8A%D9%82-Threads-%D9%8A%D8%B7%D8%B1%D8%AD-%D9%85%D9%8A%D8%B2%D8%A9-%D8%A7%D9%84%D8%B4%D9%81%D8%A7%D9%81%D9%8A%D8%A9-%D8%A7%D9%84%D8%AC%D8%AF%D9%8A%D8%AF%D8%A9-%D9%88%D8%A5%D8%B9%D9%84%D8%A7%D9%86%D8%A7%D8%AA-%D8%A7%D9%84%D9%81%D9%8A%D8%AF%D9%8A%D9%88-%D9%84%D8%A3%D9%88%D9%84-%D9%85%D8%B1%D8%A9_730616)\n",
      "\n",
      "**Threads Introduces New Feature to Increase Transparency on the Platform**\n",
      "Threads has introduced a new feature to increase transparency on the platform, allowing users to know how their accounts are being punished for violating platform rules. This feature provides users with more clarity on the actions taken against their accounts. The new feature is similar to the 'account information panel' provided by Instagram and Facebook, which shows users details about the removal or reduction of their content in news summaries. It also displays posts that are not recommended due to community guidelines violations, as well as notifications to users who have been banned from using certain features. If users believe the punishment is unfair, the feature provides an easy way to submit an appeal. This feature aims to help users understand the actions taken against their accounts, preventing future penalties and restoring content or features they believe were restricted by mistake. Users can access this feature now through the 'account' section in the settings menu.\n",
      "Original language: ar\n",
      "Publish date: May 11, 2025 12:00 AM\n",
      "Source:[alwakeelnews.com](https://www.alwakeelnews.com/Section_20/%D8%AA%D9%83%D9%86%D9%88%D9%84%D9%88%D8%AC%D9%8A%D8%A7/%D8%AA%D8%B7%D8%A8%D9%8A%D9%82-Threads-%D9%8A%D8%B7%D8%B1%D8%AD-%D9%85%D9%8A%D8%B2%D8%A9-%D8%A7%D9%84%D8%B4%D9%81%D8%A7%D9%81%D9%8A%D8%A9-%D8%A7%D9%84%D8%AC%D8%AF%D9%8A%D8%AF%D8%A9-%D9%88%D8%A5%D8%B9%D9%84%D8%A7%D9%86%D8%A7%D8%AA-%D8%A7%D9%84%D9%81%D9%8A%D8%AF%D9%8A%D9%88-%D9%84%D8%A3%D9%88%D9%84-%D9%85%D8%B1%D8%A9_730616)\n",
      "\n",
      "**Threads Reaches 350M Monthly Active Users, a 3.5-Fold Increase in Just Over a Year**\n",
      "Meta's CEO Mark Zuckerberg announced that the monthly active users of the social media platform 'Threads' has reached 350 million. This is a significant increase from the 320 million users in the previous quarter. Threads, which started in July 2023, has seen a rapid growth since its launch, with 30 million new users added in the quarter. According to Social Media Today, the monthly active users of Threads is comparable to that of X (formerly Twitter), which has 6 billion users. However, the growth rate of Threads is much higher, with a 3.5-fold increase in just over a year. Zuckerberg attributed the growth to the improvement of the app's recommendation system, which has resulted in a 35% increase in time spent on the app. However, Social Media Today has raised concerns that the monthly active user count of X may include a large number of bot accounts, which could skew the numbers.\n",
      "Original language: ja\n",
      "Publish date: May 04, 2025 02:30 PM\n",
      "Source:[GIGAZINE](https://gigazine.net/news/20250504-threads-350million-monthly-active-users/)\n",
      "\n",
      "**Threads Reaches 350 Million Active Monthly Users**\n",
      "Threads, the latest social media platform from Meta, has reached 350 million active monthly users, according to The Verge. As Meta's CEO Mark Zuckerberg said, 'Threads is on track to become our next big social network.' Zuckerberg aims to reach 1 billion users on Threads quickly, and is promoting the platform through events and Instagram. Threads, launched in the US in summer 2023, allows users to share posts and videos in a timeline, similar to X (formerly Twitter). Users can like, share, and send posts to contacts, and posts can be up to 500 characters long, double the limit on X. Additional features have been added, including post editing, a web interface, and keyword search. Meta has also opened its advertising inventory to all eligible advertisers worldwide, with 30 countries currently affected, although France is not included.\n",
      "Original language: fr\n",
      "Publish date: May 01, 2025 08:51 AM\n",
      "Source:[BFMTV](https://www.bfmtv.com/tech/threads-compte-desormais-350-millions-d-utilisateurs-actifs-mensuels_AV-202505010259.html)\n",
      "\n",
      "**Is Meta's Threads the Underdog Ready to Outpace Elon's X, or Will Bluesky Steal the Spotlight?**\n",
      "Meta's Threads has reached 320 million active monthly users, with a significant growth rate, according to Andrew Hutchinson. The platform is expected to reach 400 million users this year. While Threads is still behind X (formerly Twitter) with 600 million monthly active users, its momentum is decent. Threads saw a growth of 200 million users last year, compared to X's 50 million. Although it's unlikely that Threads will catch up to X's numbers this year, it's not impossible, especially with Threads' focus on sports and real-time content. Bluesky, on the other hand, has seen steady growth, but is far behind X and Threads, with 35 million users in February 2024 increasing to 35 million, with no significant momentum seen in the last quarter of 2024.\n",
      "Original language: en\n",
      "Publish date: April 18, 2025 10:00 PM\n",
      "Source:[Digitaliworld](https://www.digitalinformationworld.com/2025/04/is-metas-threads-underdog-ready-to.html)\n",
      "\n",
      "**Why Meta is about to repeat Twitter's mistakes with its Community Notes**\n",
      "Meta has announced that it will start testing its Community Notes program on Facebook, Instagram, and Threads in the US on March 18. The program will allow a few users to propose notes, but they will not be publicly visible yet. This move comes after the end of the independent verification program in the US, which collaborated with independent fact-checkers to label false or context-dependent content. According to Meta, the Community Notes will use the same visibility algorithm as Twitter, which only shows notes when users who normally disagree are in agreement that the note is useful. This decision has led to a situation where, for example, during the Valencia DANA, over 90% of the debunked rumors by Maldita.es did not have visible notes despite having 50 million impressions. In the last European elections, it was 85%. The Community Notes can work, but not in this way. Meta's new program repeats many of the errors of Elon Musk's Twitter, such as the lack of a clear process for appealing unjustified notes. The company also does not clarify other key aspects of how the Community Notes will work, such as whether there will be a process for appealing unjustified notes. The end of independent fact-checking in Meta Meta justifies its decision by saying that it expects the Community Notes to be less biased than the independent verification program it is replacing, but the reality is that Meta never criticized the collaboration with fact-checkers until Donald Trump won the 2024 elections. The company defended the program's effectiveness just a few months before and has said in its own transparency reports that the error rate of the fact-checkers is 3.15%, while other content moderation decisions by Meta reach almost 90%. When announcing the end of the verification program in the US and the launch of Community Notes, Meta says that its intention is to implement this new approach for its users worldwide, but for now, it will maintain its collaboration with fact-checkers outside of the US. This decision includes Spain, where Maldita.es is part of the independent verification program. A study by the Maldita.es Foundation on Community Notes on Twitter shows that fact-checkers are the third most used source worldwide and are trusted by users.\n",
      "Original language: pt\n",
      "Publish date: March 13, 2025 04:29 PM\n",
      "Source:[maldita.es](https://maldita.es/nosotros/20250313/meta-notas-comunidad-anuncio-errores/)\n",
      "\n",
      "**Threads Reaches 320 Million Active Monthly Users, Expected to Continue Growing**\n",
      "Threads, a social media platform from Meta, has reached 320 million active monthly users, with a growth of 20 million users in December 2024. According to Mark Zuckerberg, CEO of Meta, the platform is expected to continue growing and become the leading discussion platform, reaching 1 billion users in the next years. The growth of Threads is a result of the decline of X (formerly Twitter) and the increasing popularity of short-form video content. Meta has been aggressively adding new features to Threads, including the ability to schedule posts, view post views, and refine search results by profile and date range. Zuckerberg stated that 'Threads will become the leading discussion platform and eventually reach 1 billion people in the next years.' \n",
      "Original language: pt\n",
      "Publish date: February 01, 2025 04:37 PM\n",
      "Source:[Pplware](https://pplware.sapo.pt/redes_sociais/threads-ganhou-20-milhoes-de-utilizadores-em-dezembro-de-2024-e-sao-ja-320-milhoes/)\n",
      "\n",
      "**Threads Reaches 320 Million Active Users, Continues to Grow**\n",
      "Meta's Threads has reached 320 million active users per month, up from 300 million last month and 275 million in November. According to Mark Zuckerberg, Threads is adding around 1 million new users every day. To attract more users, Meta is constantly introducing new features, such as post scheduling, adding music to posts, and Community Notes. Susan Lee, Meta's financial director, also mentioned that Threads is updating its recommendation systems to prioritize 'fresh' posts, show content from top authors, and ensure users see more content from accounts they follow. These growth rates highlight Meta's competitiveness in the saturated social media market, which includes Bluesky, Mastodon, X, and others. For example, Bluesky, a decentralized social network founded by Twitter's creator, has seen a significant decline in new users after a 189% surge in November 2024.\n",
      "Original language: uk\n",
      "Publish date: January 30, 2025 08:28 AM\n",
      "Source:[pravda.com.ua](https://mezha.media/2025/01/30/meta-threads-reach-320m-active-users/)\n",
      "\n",
      "**Threads added 20 million monthly active users in December 2024, reaching 320 million**\n",
      "Meta CEO Mark Zuckerberg announced the company's quarterly earnings report, highlighting expected major growth across its social media apps in 2025. Zuckerberg shared that Meta's microblogging service, Threads, added 20 million monthly active users in December 2024, bringing its total to 320 million. This marks an increase from 300 million in the previous month, with November 2024's monthly active users standing at 275 million. Zuckerberg added that Threads continues to add more than a million sign-ups per day and is expected to 'become the leading discussion platform and eventually reach 1 billion people over the next several years.' This growth shows the platform's steady increase and user preference shifting from X (formerly Twitter) to Threads.\n",
      "Original language: en\n",
      "Publish date: January 30, 2025 06:20 AM\n",
      "Source:[Neowin](https://www.neowin.net/news/threads-added-20-million-monthly-active-users-in-december-2024-reaching-320-million/)\n",
      "\n",
      "**Threads Reaches 320 Million Monthly Active Users, Aims to Surpass Twitter**\n",
      "Meta CEO Mark Zuckerberg announced that Threads has reached 320 million monthly active users, a 20 million increase from the previous month's 300 million users. Threads is adding an average of 1 million new users per day and is expected to reach 1 billion users in a few years. The growth of Threads is supported by Twitter's (X) user loss and the platform's new features. The reasons for Threads' rapid growth include the platform's significant increase in users in August and October last year, which was partly due to Twitter's temporary ban in Brazil and the introduction of analysis tools and cross-posting features from Facebook and Instagram. Additionally, users who left Twitter are also contributing to Threads' growth. As users interact more with the platform, Threads is becoming increasingly popular. Zuckerberg believes that Threads will surpass Twitter's user base and become the leading discussion platform. However, being tied to the Meta ecosystem may be a disadvantage for some users. Nevertheless, Threads' growth is expected to continue, especially with users from Twitter, and the platform may become a significant player in the social media world.\n",
      "Original language: tr\n",
      "Publish date: January 30, 2025 04:13 AM\n",
      "Source:[technotoday.com.tr](https://technotoday.com.tr/threads-320-milyon-aylik-aktif-kullaniciya-ulasti/)\n",
      "\n",
      "**Threads Reaches 320 Million Monthly Active Users**\n",
      "Meta's Twitter clone app Threads has reached 320 million monthly active users, up from 300 million last month. According to Meta CEO Mark Zuckerberg, the app is adding more than 1 million sign-ups per day and is on track to reach 1 billion users over the next several years. The growth of Threads is accelerating, with a 25% better growth rate compared to the start of last year. The app's expansion is driven by a combination of factors, including the temporary ban of X in Brazil, the addition of analytics in August, and the exodus of users from X. Zuckerberg remains confident that Threads can overtake X's user count and reach a billion users, which is far higher than Twitter ever reached.\n",
      "Original language: en\n",
      "Publish date: January 30, 2025 12:39 AM\n",
      "Source:[Social Media Today | A business community for the web's best thinkers on Social Media](https://www.socialmediatoday.com/news/threads-rises-to-320-million-active-users/738722/)\n",
      "\n",
      "\n",
      "===============================\n",
      "\n",
      "LEARNING\n",
      "\n",
      "[]\n",
      "===============================\n",
      "\n"
     ]
    }
   ],
   "source": [
    "for item, value in row.items():\n",
    "    print(item.upper())\n",
    "    print()\n",
    "    print(value)\n",
    "    print('===============================')\n",
    "    print()"
   ]
  },
  {
   "cell_type": "code",
   "execution_count": null,
   "id": "01582b8b-4070-4892-afc9-b79e755c90ff",
   "metadata": {},
   "outputs": [],
   "source": [
    "row.question_resolution_criteria"
   ]
  },
  {
   "cell_type": "code",
   "execution_count": 29,
   "id": "17775bc2-96c8-4667-87af-63f4c3ffc83c",
   "metadata": {},
   "outputs": [],
   "source": [
    "prompt2 = f\"\"\"\n",
    "You are the intelligence community's best geopolitical, economic and overall news trivia forecaster.  \n",
    "You are given the following information to make a prediction:\n",
    "\n",
    "```title\n",
    "{row.title}\n",
    "```\n",
    "\n",
    "```news\n",
    "{row.asknews}\n",
    "\n",
    "```research\n",
    "{row.research}\n",
    "```\n",
    "\n",
    "The question defines an event and resolves as YES if the event occurs, otherwise NO. \n",
    "You are forecasting the probability of YES.\n",
    "The event is described by the RESOLUTION CRITERIA.\n",
    "\n",
    "```resolution_criteria\n",
    "{row.question_resolution_criteria}\n",
    "```\n",
    "\n",
    "The last thing you write is your final answer as: \"Probability: ZZ%\", 0-100\n",
    "\"\"\""
   ]
  },
  {
   "cell_type": "code",
   "execution_count": 30,
   "id": "0c61abbd-ff80-43a7-8244-ac213fbf2107",
   "metadata": {},
   "outputs": [
    {
     "name": "stdout",
     "output_type": "stream",
     "text": [
      "\n",
      "You are the intelligence community's best geopolitical, economic and overall news trivia forecaster.  \n",
      "You are given the following information to make a prediction:\n",
      "\n",
      "```title\n",
      "Will Threads report more monthly active users than Twitter before 2026?\n",
      "```\n",
      "\n",
      "```news\n",
      "Here are the relevant news articles:\n",
      "\n",
      "**Four AI Native Apps with Over 1 Billion Monthly Active Users: Huawei's Xia Yi Ranks Second**\n",
      "According to QuestMobile data, as of March 2025, the number of monthly active users for mobile native apps reached 591 million. Among them, AI native apps led by six major smartphone manufacturers have emerged as a new force, with a monthly active user scale of 481 million. Specifically, the top 15 native apps with the most active users include six smartphone manufacturers. Huawei's Xia Yi and OPPO's Xiao Bu Assistant ranked second and third, respectively, with 157 million and 148 million monthly active users, surpassing Dou Bao's 115 million and trailing only DeepSeek's 193 million. In contrast to the traditional approach of internet companies, smartphone manufacturers have shown a unique competitive advantage: on the one hand, they rely on pre-installed devices to occupy the market, and on the other hand, they use system-level API openness to build a developer ecosystem. This 'terminal + cloud' three-dimensional layout enables them to maintain a leading pace in core functions such as voice interaction and scene perception.\n",
      "Original language: zh\n",
      "Publish date: May 13, 2025 07:36 AM\n",
      "Source:[驱动之家](https://news.mydrivers.com/1/1047/1047229.htm)\n",
      "\n",
      "**Alarming Increase in Online Antisemitism in 2024: Uruguay Leads the Trend**\n",
      "A recent report titled 'Informe de Antisemitismo Online 2024' has shown a concerning increase in online antisemitism in 2024. The study, conducted by the Observatorio Web in collaboration with the Congreso Judío Latinoamericano, AMIA, and DAIA, analyzed over 126 million posts using artificial intelligence. The report found that one in five posts on X (formerly Twitter) contained antisemitic messages, while Facebook reported an 11.52% increase in such posts. Uruguay emerged as the country with the highest proportion of hate messages. Ariel Seidler, director of the Observatorio Web, warned that these messages not only multiply in quantity but also reach an increasingly large number of users. Seidler emphasized the need for active collaboration between civil society organizations and platforms to monitor and minimize hate speech, as well as increased state responsibility in the situation. Claudio Epelman, director of the CJL, described antisemitism as 'a contagious virus' and highlighted the importance of the report in understanding the threat in the digital ecosystem.\n",
      "Original language: es\n",
      "Publish date: May 12, 2025 10:45 PM\n",
      "Source:[Cadena 3 Argentina](https://www.cadena3.com/noticia/internacionales/aumento-alarmante-del-antisemitismo-online-en-2024-uruguay-esta-a-la-cabeza-de-la-tendencia_421761)\n",
      "\n",
      "**Threads Recommends Suspicious Posts to Users**\n",
      "Threads has been recommending suspicious posts to its users, including ones from random people searching for 'friends'. These posts often feature selfies of young people claiming to be 18 years old. According to Engadget, many of these posts have been appearing in the 'Related Posts' feature on Threads, which displays recommended content to users who haven't logged in. It's unclear why these posts are being recommended as 'related' to other popular posts. For example, a post about Spotify by popular Threads user Chris Messina was recommended to users who hadn't logged in, and clicking on it revealed another 'related' post from Threads' director Adam Mosseri. However, below this post was another 'related' post from an account claiming to be a 11th-grade girl. For some reason, Threads is showing many similar posts in the 'Related Posts' feature. For instance, the following post was also recommended as a 'related' post in another part of the app. This user's profile shows that they have posted the same post - a selfie followed by a WhatsApp link - over 30 times in the past five days. As Threads' user base has grown to over 350 million users, it's not surprising to see a flood of unwanted messages. Mosseri, Meta's executive director, said that the company has seen an increase in 'unwanted message attacks' in July 2023, shortly after the service was launched. Last year, the company said it was working to control engagement incentives. While it's not surprising to see unwanted messages on a platform as large as Threads, it's strange that the app is recommending these posts with such frequency. Meta has not responded to specific questions about these posts or why they're being recommended as 'related' content, but it did confirm that it should not be showing unwanted posts as recommended content in the app. Unwanted posts are also appearing as recommendations in other parts of Meta's apps. One Reddit user recently noticed a suspicious post appearing as a recommendation on Instagram. The post featured a selfie of a woman with the caption 'I need a boyfriend, age doesn't matter.' A quick look at the user's profile shows that they have posted the same comment dozens of times in the past week. The user wrote: 'Every time I see the suggested topics window, I have to scroll through two or four posts like this before I see something normal. I click 'not interested' and report everything, but it still keeps showing up.' It seems like the post is part of a persistent spam campaign. The same image and text have been shared by at least one other account on Threads. Threads search results show that many other accounts are consistently sharing posts that say 'age doesn't matter' or 'age doesn't matter at all'.\n",
      "Original language: ar\n",
      "Publish date: May 12, 2025 09:00 PM\n",
      "Source:[alwafd.news](https://www.alwafd.news/5600852)\n",
      "\n",
      "**Threads Introduces New Transparency Feature and Video Ads**\n",
      "Threads has added a new feature to increase transparency on the platform, allowing users to know how their accounts are punished for violating platform rules. This feature provides users with more clarity on the actions taken against their accounts. The feature is similar to the account status information provided by Instagram and Facebook, showing users details about the removal or reduction of their content in news summaries. Additionally, the platform will display posts that are not recommended due to community guidelines violations, and notify users if they are banned from using certain features. If users believe their punishment is unfair, they can submit an appeal through this feature. This feature aims to simplify user understanding of actions taken against their accounts, helping to avoid future penalties and restore content or features they believe were restricted by mistake. Users can access this feature now through the 'Account' section in the settings menu. In another move to boost platform revenue, Meta has announced the start of testing video ads on Threads. According to Meta, advertisers will test video ads in 19:9 or 1:1 format, which will be displayed alongside organic content in search results. This test comes after the launch of ads on the platform in January, followed by a global expansion last month.\n",
      "Original language: ar\n",
      "Publish date: May 11, 2025 12:43 PM\n",
      "Source:[الوكيل الاخباري](https://www.alwakeelnews.com/Section_20/%D8%AA%D9%83%D9%86%D9%88%D9%84%D9%88%D8%AC%D9%8A%D8%A7/%D8%AA%D8%B7%D8%A8%D9%8A%D9%82-Threads-%D9%8A%D8%B7%D8%B1%D8%AD-%D9%85%D9%8A%D8%B2%D8%A9-%D8%A7%D9%84%D8%B4%D9%81%D8%A7%D9%81%D9%8A%D8%A9-%D8%A7%D9%84%D8%AC%D8%AF%D9%8A%D8%AF%D8%A9-%D9%88%D8%A5%D8%B9%D9%84%D8%A7%D9%86%D8%A7%D8%AA-%D8%A7%D9%84%D9%81%D9%8A%D8%AF%D9%8A%D9%88-%D9%84%D8%A3%D9%88%D9%84-%D9%85%D8%B1%D8%A9_730616)\n",
      "\n",
      "**Why Meta is about to repeat Twitter's mistakes with its Community Notes**\n",
      "Meta has announced that it will start testing its Community Notes program on Facebook, Instagram, and Threads in the US on March 18. The program will allow a few users to propose notes, but they will not be publicly visible yet. This move comes after the end of the independent verification program in the US, which collaborated with independent fact-checkers to label false or context-dependent content. According to Meta, the Community Notes will use the same visibility algorithm as Twitter, which only shows notes when users who normally disagree are in agreement that the note is useful. This decision has led to a situation where, for example, during the Valencia DANA, over 90% of the debunked rumors by Maldita.es did not have visible notes despite having 50 million impressions. In the last European elections, it was 85%. The Community Notes can work, but not in this way. Meta's new program repeats many of the errors of Elon Musk's Twitter, such as the lack of a clear process for appealing unjustified notes. The company also does not clarify other key aspects of how the Community Notes will work, such as whether there will be a process for appealing unjustified notes. The end of independent fact-checking in Meta Meta justifies its decision by saying that it expects the Community Notes to be less biased than the independent verification program it is replacing, but the reality is that Meta never criticized the collaboration with fact-checkers until Donald Trump won the 2024 elections. The company defended the program's effectiveness just a few months before and has said in its own transparency reports that the error rate of the fact-checkers is 3.15%, while other content moderation decisions by Meta reach almost 90%. When announcing the end of the verification program in the US and the launch of Community Notes, Meta says that its intention is to implement this new approach for its users worldwide, but for now, it will maintain its collaboration with fact-checkers outside of the US. This decision includes Spain, where Maldita.es is part of the independent verification program. A study by the Maldita.es Foundation on Community Notes on Twitter shows that fact-checkers are the third most used source worldwide and are trusted by users.\n",
      "Original language: pt\n",
      "Publish date: March 13, 2025 04:29 PM\n",
      "Source:[maldita.es](https://maldita.es/nosotros/20250313/meta-notas-comunidad-anuncio-errores/)\n",
      "\n",
      "**Four AI Native Apps with Over 1 Billion Monthly Active Users: Huawei's Xia Yi Ranks Second**\n",
      "According to QuestMobile data, as of March 2025, the number of monthly active users for mobile native apps reached 591 million. Among them, AI native apps led by six major smartphone manufacturers have emerged as a new force, with a monthly active user scale of 481 million. Specifically, the top 15 native apps with the most active users include six smartphone manufacturers. Huawei's Xia Yi and OPPO's Xiao Bu Assistant ranked second and third, respectively, with 157 million and 148 million monthly active users, surpassing Dou Bao's 115 million and trailing only DeepSeek's 193 million. In contrast to the traditional approach of internet companies, smartphone manufacturers have shown a unique competitive advantage: on the one hand, they rely on pre-installed devices to occupy the market, and on the other hand, they use system-level API openness to build a developer ecosystem. This 'terminal + cloud' three-dimensional layout enables them to maintain a leading pace in core functions such as voice interaction and scene perception.\n",
      "Original language: zh\n",
      "Publish date: May 13, 2025 07:36 AM\n",
      "Source:[驱动之家](https://news.mydrivers.com/1/1047/1047229.htm)\n",
      "\n",
      "**Alarming Increase in Online Antisemitism in 2024: Uruguay Leads the Trend**\n",
      "A recent report titled 'Informe de Antisemitismo Online 2024' has shown a concerning increase in online antisemitism in 2024. The study, conducted by the Observatorio Web in collaboration with the Congreso Judío Latinoamericano, AMIA, and DAIA, analyzed over 126 million posts using artificial intelligence. The report found that one in five posts on X (formerly Twitter) contained antisemitic messages, while Facebook reported an 11.52% increase in such posts. Uruguay emerged as the country with the highest proportion of hate messages. Ariel Seidler, director of the Observatorio Web, warned that these messages not only multiply in quantity but also reach an increasingly large number of users. Seidler emphasized the need for active collaboration between civil society organizations and platforms to monitor and minimize hate speech, as well as increased state responsibility in the situation. Claudio Epelman, director of the CJL, described antisemitism as 'a contagious virus' and highlighted the importance of the report in understanding the threat in the digital ecosystem.\n",
      "Original language: es\n",
      "Publish date: May 12, 2025 10:45 PM\n",
      "Source:[Cadena 3 Argentina](https://www.cadena3.com/noticia/internacionales/aumento-alarmante-del-antisemitismo-online-en-2024-uruguay-esta-a-la-cabeza-de-la-tendencia_421761)\n",
      "\n",
      "**Threads Recommends Suspicious Posts to Users**\n",
      "Threads has been recommending suspicious posts to its users, including ones from random people searching for 'friends'. These posts often feature selfies of young people claiming to be 18 years old. According to Engadget, many of these posts have been appearing in the 'Related Posts' feature on Threads, which displays recommended content to users who haven't logged in. It's unclear why these posts are being recommended as 'related' to other popular posts. For example, a post about Spotify by popular Threads user Chris Messina was recommended to users who hadn't logged in, and clicking on it revealed another 'related' post from Threads' director Adam Mosseri. However, below this post was another 'related' post from an account claiming to be a 11th-grade girl. For some reason, Threads is showing many similar posts in the 'Related Posts' feature. For instance, the following post was also recommended as a 'related' post in another part of the app. This user's profile shows that they have posted the same post - a selfie followed by a WhatsApp link - over 30 times in the past five days. As Threads' user base has grown to over 350 million users, it's not surprising to see a flood of unwanted messages. Mosseri, Meta's executive director, said that the company has seen an increase in 'unwanted message attacks' in July 2023, shortly after the service was launched. Last year, the company said it was working to control engagement incentives. While it's not surprising to see unwanted messages on a platform as large as Threads, it's strange that the app is recommending these posts with such frequency. Meta has not responded to specific questions about these posts or why they're being recommended as 'related' content, but it did confirm that it should not be showing unwanted posts as recommended content in the app. Unwanted posts are also appearing as recommendations in other parts of Meta's apps. One Reddit user recently noticed a suspicious post appearing as a recommendation on Instagram. The post featured a selfie of a woman with the caption 'I need a boyfriend, age doesn't matter.' A quick look at the user's profile shows that they have posted the same comment dozens of times in the past week. The user wrote: 'Every time I see the suggested topics window, I have to scroll through two or four posts like this before I see something normal. I click 'not interested' and report everything, but it still keeps showing up.' It seems like the post is part of a persistent spam campaign. The same image and text have been shared by at least one other account on Threads. Threads search results show that many other accounts are consistently sharing posts that say 'age doesn't matter' or 'age doesn't matter at all'.\n",
      "Original language: ar\n",
      "Publish date: May 12, 2025 09:00 PM\n",
      "Source:[alwafd.news](https://www.alwafd.news/5600852)\n",
      "\n",
      "**Threads Introduces 'Account Status' Feature for Increased Transparency**\n",
      "Threads, a social media platform, has announced the addition of a new feature called 'Account Status' (حالة الحساب), which aims to provide users with more transparency about the actions taken by the platform against their accounts in case of policy violations. This feature will display to users when content they posted was removed or reduced in visibility, enhancing the clarity of actions taken against violating accounts. The new feature will be similar to existing account options on Facebook and Instagram, both owned by Meta, the parent company of Threads. According to a report by The Verge, the feature will also show users the posts that are not recommended to others due to community guidelines violations. Additionally, users will be able to know if they are banned from using certain platform features. If users feel they were wrongly penalized, the feature will allow them to submit a request for a review of their case. This feature aims to facilitate users' understanding of actions taken against their accounts, helping them avoid future penalties, restore lost content or features due to incorrect restrictions. The 'Account Status' feature can be accessed from the 'Account' section in the settings menu on the app.\n",
      "Original language: ar\n",
      "Publish date: May 12, 2025 07:18 AM\n",
      "Source:[وكاله عمون الاخباريه](https://www.ammonnews.net/article/921645)\n",
      "\n",
      "**ChatGPT Surpasses 10 Million Users in Korea**\n",
      "ChatGPT has surpassed 10 million users in South Korea, more than doubling its user base in just one month. According to Mobile Index, ChatGPT's monthly active users (MAU) reached 10.72 million in April, up from 5.09 million in March. The growth has been dramatic, with the user base surging by approximately elevenfold compared to April of last year. Industry observers note that every key metric is improving, including user engagement time and new installations. ChatGPT's continued rollout of new features, such as shopping capabilities, is attracting increasing numbers of users. Analysts predict that ChatGPT could eventually replace traditional search engines like Google. As ChatGPT tightens its grip on the market, domestic tech firms are facing the risk of losing ground in their home turf due to delayed AI rollouts or insufficient competitiveness. Eddy Cue, Apple's Senior Vice President of Services, said, 'AI-based search features developed by companies such as OpenAI, Perplexity, and Anthropic will eventually replace existing search engines.' \n",
      "Original language: en\n",
      "Publish date: May 12, 2025 03:38 AM\n",
      "Source:[Business Korea](https://www.businesskorea.co.kr/news/articleView.html?idxno=241984)\n",
      "\n",
      "**Online worlds offer gateway to youth**\n",
      "Brands are capitalizing on online gaming and virtual worlds to reach Gen Z and Gen Alpha markets, but face challenges in capturing their attention. According to Patthawee Apiwatcharoensin, associate director of strategy at We Are Social Thailand, 'In the attention economy, the abundance of platforms and overwhelming content make it increasingly challenging to capture users' attention.' Gen Z spends more time on gaming than social media, with 63% using ad blockers and losing attention within 1.3 seconds. Gen Alpha engages less with Facebook but more on Instagram and TikTok. The top virtual world platforms are Roblox, Minecraft, Fortnite, and Sims 4, with 300 million monthly active users on Roblox. Brands can collaborate with intellectual property products to introduce virtual items in games, increasing engagement and brand awareness, as seen with Walmart's presence on Roblox, Zepeto, and Spatial.\n",
      "Original language: en\n",
      "Publish date: May 12, 2025 12:16 AM\n",
      "Source:[Bangkok Post](https://www.bangkokpost.com/business/general/3023396/online-worlds-offer-gateway-to-youth)\n",
      "\n",
      "**Threads Introduces New Transparency Feature and Video Ads**\n",
      "Threads has added a new feature to increase transparency on the platform, allowing users to know how their accounts are punished for violating platform rules. This feature provides users with more clarity on the actions taken against their accounts. The feature is similar to the account status information provided by Instagram and Facebook, showing users details about the removal or reduction of their content in news summaries. Additionally, the platform will display posts that are not recommended due to community guidelines violations, and notify users if they are banned from using certain features. If users believe their punishment is unfair, they can submit an appeal through this feature. This feature aims to simplify user understanding of actions taken against their accounts, helping to avoid future penalties and restore content or features they believe were restricted by mistake. Users can access this feature now through the 'Account' section in the settings menu. In another move to boost platform revenue, Meta has announced the start of testing video ads on Threads. According to Meta, advertisers will test video ads in 19:9 or 1:1 format, which will be displayed alongside organic content in search results. This test comes after the launch of ads on the platform in January, followed by a global expansion last month.\n",
      "Original language: ar\n",
      "Publish date: May 11, 2025 12:43 PM\n",
      "Source:[الوكيل الاخباري](https://www.alwakeelnews.com/Section_20/%D8%AA%D9%83%D9%86%D9%88%D9%84%D9%88%D8%AC%D9%8A%D8%A7/%D8%AA%D8%B7%D8%A8%D9%8A%D9%82-Threads-%D9%8A%D8%B7%D8%B1%D8%AD-%D9%85%D9%8A%D8%B2%D8%A9-%D8%A7%D9%84%D8%B4%D9%81%D8%A7%D9%81%D9%8A%D8%A9-%D8%A7%D9%84%D8%AC%D8%AF%D9%8A%D8%AF%D8%A9-%D9%88%D8%A5%D8%B9%D9%84%D8%A7%D9%86%D8%A7%D8%AA-%D8%A7%D9%84%D9%81%D9%8A%D8%AF%D9%8A%D9%88-%D9%84%D8%A3%D9%88%D9%84-%D9%85%D8%B1%D8%A9_730616)\n",
      "\n",
      "**Threads Introduces New Feature to Increase Transparency on the Platform**\n",
      "Threads has introduced a new feature to increase transparency on the platform, allowing users to know how their accounts are being punished for violating platform rules. This feature provides users with more clarity on the actions taken against their accounts. The new feature is similar to the 'account information panel' provided by Instagram and Facebook, which shows users details about the removal or reduction of their content in news summaries. It also displays posts that are not recommended due to community guidelines violations, as well as notifications to users who have been banned from using certain features. If users believe the punishment is unfair, the feature provides an easy way to submit an appeal. This feature aims to help users understand the actions taken against their accounts, preventing future penalties and restoring content or features they believe were restricted by mistake. Users can access this feature now through the 'account' section in the settings menu.\n",
      "Original language: ar\n",
      "Publish date: May 11, 2025 12:00 AM\n",
      "Source:[alwakeelnews.com](https://www.alwakeelnews.com/Section_20/%D8%AA%D9%83%D9%86%D9%88%D9%84%D9%88%D8%AC%D9%8A%D8%A7/%D8%AA%D8%B7%D8%A8%D9%8A%D9%82-Threads-%D9%8A%D8%B7%D8%B1%D8%AD-%D9%85%D9%8A%D8%B2%D8%A9-%D8%A7%D9%84%D8%B4%D9%81%D8%A7%D9%81%D9%8A%D8%A9-%D8%A7%D9%84%D8%AC%D8%AF%D9%8A%D8%AF%D8%A9-%D9%88%D8%A5%D8%B9%D9%84%D8%A7%D9%86%D8%A7%D8%AA-%D8%A7%D9%84%D9%81%D9%8A%D8%AF%D9%8A%D9%88-%D9%84%D8%A3%D9%88%D9%84-%D9%85%D8%B1%D8%A9_730616)\n",
      "\n",
      "**Threads Reaches 350M Monthly Active Users, a 3.5-Fold Increase in Just Over a Year**\n",
      "Meta's CEO Mark Zuckerberg announced that the monthly active users of the social media platform 'Threads' has reached 350 million. This is a significant increase from the 320 million users in the previous quarter. Threads, which started in July 2023, has seen a rapid growth since its launch, with 30 million new users added in the quarter. According to Social Media Today, the monthly active users of Threads is comparable to that of X (formerly Twitter), which has 6 billion users. However, the growth rate of Threads is much higher, with a 3.5-fold increase in just over a year. Zuckerberg attributed the growth to the improvement of the app's recommendation system, which has resulted in a 35% increase in time spent on the app. However, Social Media Today has raised concerns that the monthly active user count of X may include a large number of bot accounts, which could skew the numbers.\n",
      "Original language: ja\n",
      "Publish date: May 04, 2025 02:30 PM\n",
      "Source:[GIGAZINE](https://gigazine.net/news/20250504-threads-350million-monthly-active-users/)\n",
      "\n",
      "**Threads Reaches 350 Million Active Monthly Users**\n",
      "Threads, the latest social media platform from Meta, has reached 350 million active monthly users, according to The Verge. As Meta's CEO Mark Zuckerberg said, 'Threads is on track to become our next big social network.' Zuckerberg aims to reach 1 billion users on Threads quickly, and is promoting the platform through events and Instagram. Threads, launched in the US in summer 2023, allows users to share posts and videos in a timeline, similar to X (formerly Twitter). Users can like, share, and send posts to contacts, and posts can be up to 500 characters long, double the limit on X. Additional features have been added, including post editing, a web interface, and keyword search. Meta has also opened its advertising inventory to all eligible advertisers worldwide, with 30 countries currently affected, although France is not included.\n",
      "Original language: fr\n",
      "Publish date: May 01, 2025 08:51 AM\n",
      "Source:[BFMTV](https://www.bfmtv.com/tech/threads-compte-desormais-350-millions-d-utilisateurs-actifs-mensuels_AV-202505010259.html)\n",
      "\n",
      "**Is Meta's Threads the Underdog Ready to Outpace Elon's X, or Will Bluesky Steal the Spotlight?**\n",
      "Meta's Threads has reached 320 million active monthly users, with a significant growth rate, according to Andrew Hutchinson. The platform is expected to reach 400 million users this year. While Threads is still behind X (formerly Twitter) with 600 million monthly active users, its momentum is decent. Threads saw a growth of 200 million users last year, compared to X's 50 million. Although it's unlikely that Threads will catch up to X's numbers this year, it's not impossible, especially with Threads' focus on sports and real-time content. Bluesky, on the other hand, has seen steady growth, but is far behind X and Threads, with 35 million users in February 2024 increasing to 35 million, with no significant momentum seen in the last quarter of 2024.\n",
      "Original language: en\n",
      "Publish date: April 18, 2025 10:00 PM\n",
      "Source:[Digitaliworld](https://www.digitalinformationworld.com/2025/04/is-metas-threads-underdog-ready-to.html)\n",
      "\n",
      "**Why Meta is about to repeat Twitter's mistakes with its Community Notes**\n",
      "Meta has announced that it will start testing its Community Notes program on Facebook, Instagram, and Threads in the US on March 18. The program will allow a few users to propose notes, but they will not be publicly visible yet. This move comes after the end of the independent verification program in the US, which collaborated with independent fact-checkers to label false or context-dependent content. According to Meta, the Community Notes will use the same visibility algorithm as Twitter, which only shows notes when users who normally disagree are in agreement that the note is useful. This decision has led to a situation where, for example, during the Valencia DANA, over 90% of the debunked rumors by Maldita.es did not have visible notes despite having 50 million impressions. In the last European elections, it was 85%. The Community Notes can work, but not in this way. Meta's new program repeats many of the errors of Elon Musk's Twitter, such as the lack of a clear process for appealing unjustified notes. The company also does not clarify other key aspects of how the Community Notes will work, such as whether there will be a process for appealing unjustified notes. The end of independent fact-checking in Meta Meta justifies its decision by saying that it expects the Community Notes to be less biased than the independent verification program it is replacing, but the reality is that Meta never criticized the collaboration with fact-checkers until Donald Trump won the 2024 elections. The company defended the program's effectiveness just a few months before and has said in its own transparency reports that the error rate of the fact-checkers is 3.15%, while other content moderation decisions by Meta reach almost 90%. When announcing the end of the verification program in the US and the launch of Community Notes, Meta says that its intention is to implement this new approach for its users worldwide, but for now, it will maintain its collaboration with fact-checkers outside of the US. This decision includes Spain, where Maldita.es is part of the independent verification program. A study by the Maldita.es Foundation on Community Notes on Twitter shows that fact-checkers are the third most used source worldwide and are trusted by users.\n",
      "Original language: pt\n",
      "Publish date: March 13, 2025 04:29 PM\n",
      "Source:[maldita.es](https://maldita.es/nosotros/20250313/meta-notas-comunidad-anuncio-errores/)\n",
      "\n",
      "**Threads Reaches 320 Million Active Monthly Users, Expected to Continue Growing**\n",
      "Threads, a social media platform from Meta, has reached 320 million active monthly users, with a growth of 20 million users in December 2024. According to Mark Zuckerberg, CEO of Meta, the platform is expected to continue growing and become the leading discussion platform, reaching 1 billion users in the next years. The growth of Threads is a result of the decline of X (formerly Twitter) and the increasing popularity of short-form video content. Meta has been aggressively adding new features to Threads, including the ability to schedule posts, view post views, and refine search results by profile and date range. Zuckerberg stated that 'Threads will become the leading discussion platform and eventually reach 1 billion people in the next years.' \n",
      "Original language: pt\n",
      "Publish date: February 01, 2025 04:37 PM\n",
      "Source:[Pplware](https://pplware.sapo.pt/redes_sociais/threads-ganhou-20-milhoes-de-utilizadores-em-dezembro-de-2024-e-sao-ja-320-milhoes/)\n",
      "\n",
      "**Threads Reaches 320 Million Active Users, Continues to Grow**\n",
      "Meta's Threads has reached 320 million active users per month, up from 300 million last month and 275 million in November. According to Mark Zuckerberg, Threads is adding around 1 million new users every day. To attract more users, Meta is constantly introducing new features, such as post scheduling, adding music to posts, and Community Notes. Susan Lee, Meta's financial director, also mentioned that Threads is updating its recommendation systems to prioritize 'fresh' posts, show content from top authors, and ensure users see more content from accounts they follow. These growth rates highlight Meta's competitiveness in the saturated social media market, which includes Bluesky, Mastodon, X, and others. For example, Bluesky, a decentralized social network founded by Twitter's creator, has seen a significant decline in new users after a 189% surge in November 2024.\n",
      "Original language: uk\n",
      "Publish date: January 30, 2025 08:28 AM\n",
      "Source:[pravda.com.ua](https://mezha.media/2025/01/30/meta-threads-reach-320m-active-users/)\n",
      "\n",
      "**Threads added 20 million monthly active users in December 2024, reaching 320 million**\n",
      "Meta CEO Mark Zuckerberg announced the company's quarterly earnings report, highlighting expected major growth across its social media apps in 2025. Zuckerberg shared that Meta's microblogging service, Threads, added 20 million monthly active users in December 2024, bringing its total to 320 million. This marks an increase from 300 million in the previous month, with November 2024's monthly active users standing at 275 million. Zuckerberg added that Threads continues to add more than a million sign-ups per day and is expected to 'become the leading discussion platform and eventually reach 1 billion people over the next several years.' This growth shows the platform's steady increase and user preference shifting from X (formerly Twitter) to Threads.\n",
      "Original language: en\n",
      "Publish date: January 30, 2025 06:20 AM\n",
      "Source:[Neowin](https://www.neowin.net/news/threads-added-20-million-monthly-active-users-in-december-2024-reaching-320-million/)\n",
      "\n",
      "**Threads Reaches 320 Million Monthly Active Users, Aims to Surpass Twitter**\n",
      "Meta CEO Mark Zuckerberg announced that Threads has reached 320 million monthly active users, a 20 million increase from the previous month's 300 million users. Threads is adding an average of 1 million new users per day and is expected to reach 1 billion users in a few years. The growth of Threads is supported by Twitter's (X) user loss and the platform's new features. The reasons for Threads' rapid growth include the platform's significant increase in users in August and October last year, which was partly due to Twitter's temporary ban in Brazil and the introduction of analysis tools and cross-posting features from Facebook and Instagram. Additionally, users who left Twitter are also contributing to Threads' growth. As users interact more with the platform, Threads is becoming increasingly popular. Zuckerberg believes that Threads will surpass Twitter's user base and become the leading discussion platform. However, being tied to the Meta ecosystem may be a disadvantage for some users. Nevertheless, Threads' growth is expected to continue, especially with users from Twitter, and the platform may become a significant player in the social media world.\n",
      "Original language: tr\n",
      "Publish date: January 30, 2025 04:13 AM\n",
      "Source:[technotoday.com.tr](https://technotoday.com.tr/threads-320-milyon-aylik-aktif-kullaniciya-ulasti/)\n",
      "\n",
      "**Threads Reaches 320 Million Monthly Active Users**\n",
      "Meta's Twitter clone app Threads has reached 320 million monthly active users, up from 300 million last month. According to Meta CEO Mark Zuckerberg, the app is adding more than 1 million sign-ups per day and is on track to reach 1 billion users over the next several years. The growth of Threads is accelerating, with a 25% better growth rate compared to the start of last year. The app's expansion is driven by a combination of factors, including the temporary ban of X in Brazil, the addition of analytics in August, and the exodus of users from X. Zuckerberg remains confident that Threads can overtake X's user count and reach a billion users, which is far higher than Twitter ever reached.\n",
      "Original language: en\n",
      "Publish date: January 30, 2025 12:39 AM\n",
      "Source:[Social Media Today | A business community for the web's best thinkers on Social Media](https://www.socialmediatoday.com/news/threads-rises-to-320-million-active-users/738722/)\n",
      "\n",
      "\n",
      "\n",
      "```research\n",
      "# Forecasting Analysis: Threads vs. Twitter Monthly Active Users by 2026\n",
      "\n",
      "As of July 23, 2023, we have limited but significant data to help forecast whether Threads will surpass Twitter in monthly active users (MAUs) before the end of 2025. Let's analyze the available information.\n",
      "\n",
      "## Current Status and Early Adoption Trends\n",
      "\n",
      "Threads launched on July 6, 2023, and experienced explosive initial growth followed by a significant drop-off:\n",
      "\n",
      "- The platform reported 41.79 million daily active users on launch day, climbing to 49.3 million the following day (July 7)[1]\n",
      "- By July 14, 2023, daily active users had declined to 23.6 million, representing a 52% drop in just one week[1]\n",
      "- Threads achieved over 100 million sign-ups in its first five days, making it the fastest app to reach this milestone, surpassing even ChatGPT[5]\n",
      "\n",
      "Meanwhile, Twitter (now X) had approximately 368 million monthly active users as of December 2022, as mentioned in the question description.\n",
      "\n",
      "## Key Factors That May Influence Growth\n",
      "\n",
      "### Advantages for Threads\n",
      "\n",
      "1. **Instagram Integration**: Threads benefits from seamless integration with Instagram, allowing users to sign up with just one or two clicks from their existing Instagram accounts. This significantly lowers the barrier to entry.\n",
      "\n",
      "2. **Meta's Ecosystem**: As part of Meta's portfolio, Threads has access to massive cross-promotion opportunities. Meta's other platforms have demonstrated remarkable user growth:\n",
      "   - Facebook: ~2.9 billion MAUs\n",
      "   - Instagram: Well over 1 billion MAUs\n",
      "   - WhatsApp: Well over 1 billion MAUs\n",
      "\n",
      "3. **Twitter's Instability**: Under Elon Musk's leadership, Twitter has experienced controversial changes that have alienated some users and advertisers, potentially creating an opportunity for competitors.\n",
      "\n",
      "### Challenges for Threads\n",
      "\n",
      "1. **Retention Issues**: The 52% drop in daily active users within the first week suggests significant challenges in user retention[1]. Initial curiosity may have driven sign-ups, but keeping users engaged appears problematic.\n",
      "\n",
      "2. **Feature Parity**: At launch, Threads lacked several key features available on Twitter, including a web interface, direct messaging, and robust search functionality.\n",
      "\n",
      "3. **Network Effects**: Twitter's established user base and network effects represent a significant barrier for any challenger platform.\n",
      "\n",
      "## Uncertainties and Limitations\n",
      "\n",
      "Several important factors remain unclear as of July 23, 2023:\n",
      "\n",
      "1. **Monthly Active Users vs. Sign-ups**: While Threads reported 100 million sign-ups, this doesn't translate directly to monthly active users. The rapid decline in daily active users suggests many sign-ups may not convert to regular users.\n",
      "\n",
      "2. **Twitter's Trajectory**: Whether Twitter's user base will continue to decline under Musk's leadership remains uncertain.\n",
      "\n",
      "3. **Feature Development**: Threads' ability to quickly develop and deploy features that retain users will be crucial for long-term growth.\n",
      "\n",
      "4. **International Expansion**: Threads' initial launch excluded the European Union due to regulatory concerns, limiting its potential user base.\n",
      "\n",
      "## Assessment\n",
      "\n",
      "Based on the information available as of July 23, 2023, Threads faces significant challenges in overtaking Twitter's MAU count by the end of 2025. While its initial sign-up numbers were impressive, the rapid decline in daily active users suggests retention issues that must be addressed for sustained growth.\n",
      "\n",
      "However, Meta's resources, cross-platform integration capabilities, and Twitter's ongoing challenges under Musk create a plausible pathway for Threads to close the gap. If Meta can address early retention issues and Twitter continues to lose users, Threads could potentially overtake Twitter within the specified timeframe.\n",
      "\n",
      "The key metrics to monitor going forward will be:\n",
      "- Threads' ability to convert initial sign-ups to regular monthly users\n",
      "- The rate of Twitter's user decline or growth\n",
      "- Feature development and international expansion of Threads\n",
      "```\n",
      "\n",
      "The question defines an event and resolves as YES if the event occurs, otherwise NO. \n",
      "You are forecasting the probability of YES.\n",
      "The event is described by the RESOLUTION CRITERIA.\n",
      "\n",
      "```resolution_criteria\n",
      "This question resolves as **YES** if, before Dec 31, 2025, Meta publicly reports Threads has a Monthly Active User number higher than the best public estimates of Twitter's MAUs at that time, and **NO** otherwise.\n",
      "```\n",
      "\n",
      "The last thing you write is your final answer as: \"Probability: ZZ%\", 0-100\n",
      "\n"
     ]
    }
   ],
   "source": [
    "print(prompt2)"
   ]
  },
  {
   "cell_type": "code",
   "execution_count": 31,
   "id": "ecd4d27f-55e7-42ef-a509-29557925d423",
   "metadata": {},
   "outputs": [
    {
     "name": "stdout",
     "output_type": "stream",
     "text": [
      "START model mistral-small3.2:24b-instruct-2506-q4_K_M\n",
      "model mistral-small3.2:24b-instruct-2506-q4_K_M minutes 3.1944202979405723\n",
      "START model mistral-small3.2:24b-instruct-2506-q4_K_M\n",
      "model mistral-small3.2:24b-instruct-2506-q4_K_M minutes 2.8885836601257324\n",
      "START model mistral-small3.2:24b-instruct-2506-q4_K_M\n",
      "model mistral-small3.2:24b-instruct-2506-q4_K_M minutes 3.13161031405131\n"
     ]
    }
   ],
   "source": [
    "answer_mistral = call_local_llm(prompt2, model)\n",
    "\n",
    "answer_mistral2 = call_local_llm(prompt2, model)\n",
    "\n",
    "answer_mistral3 = call_local_llm(prompt2, model)"
   ]
  },
  {
   "cell_type": "code",
   "execution_count": 32,
   "id": "db24ee66-0737-4355-a6e4-8d78685c147b",
   "metadata": {},
   "outputs": [],
   "source": [
    "from extract_forecast import extract_probability_from_response_as_percentage_not_decimal"
   ]
  },
  {
   "cell_type": "code",
   "execution_count": 33,
   "id": "aa6ae250-740e-4a61-8ea3-22bd126193b8",
   "metadata": {},
   "outputs": [],
   "source": [
    "forecasts = [extract_probability_from_response_as_percentage_not_decimal(x)/100.0\n",
    "             for x in [answer_mistral, answer_mistral2, answer_mistral3]]"
   ]
  },
  {
   "cell_type": "code",
   "execution_count": 34,
   "id": "39a7d073-9f08-4896-bedb-f44032c25e70",
   "metadata": {},
   "outputs": [
    {
     "data": {
      "text/plain": [
       "[0.3, 0.65, 0.3]"
      ]
     },
     "execution_count": 34,
     "metadata": {},
     "output_type": "execute_result"
    }
   ],
   "source": [
    "forecasts"
   ]
  },
  {
   "cell_type": "code",
   "execution_count": 35,
   "id": "159c7b93-7ca6-4089-b15f-f9de732d0f52",
   "metadata": {},
   "outputs": [],
   "source": [
    "import numpy as np"
   ]
  },
  {
   "cell_type": "code",
   "execution_count": 37,
   "id": "fdec48e4-3576-448f-b3b9-1319bef933aa",
   "metadata": {},
   "outputs": [],
   "source": [
    "forecast = float(np.median(forecasts))"
   ]
  },
  {
   "cell_type": "code",
   "execution_count": 38,
   "id": "68503cc0-0fcf-4713-9da2-3f1827b5087a",
   "metadata": {},
   "outputs": [
    {
     "data": {
      "text/plain": [
       "0.3"
      ]
     },
     "execution_count": 38,
     "metadata": {},
     "output_type": "execute_result"
    }
   ],
   "source": [
    "forecast"
   ]
  },
  {
   "cell_type": "code",
   "execution_count": 39,
   "id": "f2c7e373-03e2-484b-91bb-5dee34d5104e",
   "metadata": {},
   "outputs": [],
   "source": [
    "prompt = f\"\"\"\n",
    "Summarize the gist pf the rationale or thinking of the following answers from 3 different forecasters to a single problem. \n",
    "\n",
    "```forecast 1\n",
    "{answer_mistral}\n",
    "```\n",
    "\n",
    "```forecast 2\n",
    "{answer_mistral2}\n",
    "```\n",
    "\n",
    "```forecast 3\n",
    "{answer_mistral3}\n",
    "```\n",
    "\n",
    "DO NOT REFER TO THE 3 FORECASTERS.  PRESENT THIS AS YOUR OWN THINKING, YOUR OWN RATIONALE.  Use as your final the median forecast which is\n",
    "\n",
    "```median forecast\n",
    "{forecast}\n",
    "```\n",
    "\"\"\""
   ]
  },
  {
   "cell_type": "code",
   "execution_count": 40,
   "id": "aa5934ed-07b0-49f4-89e5-d4b151677c2a",
   "metadata": {},
   "outputs": [
    {
     "name": "stdout",
     "output_type": "stream",
     "text": [
      "START model mistral-small3.2:24b-instruct-2506-q4_K_M\n",
      "model mistral-small3.2:24b-instruct-2506-q4_K_M minutes 1.3061020175615947\n"
     ]
    }
   ],
   "source": [
    "rationale = call_local_llm(prompt, model)"
   ]
  },
  {
   "cell_type": "code",
   "execution_count": 41,
   "id": "e730a688-3cf3-400f-b65d-a733eac497d3",
   "metadata": {},
   "outputs": [
    {
     "name": "stdout",
     "output_type": "stream",
     "text": [
      "The likelihood that Threads will surpass Twitter in monthly active users by the end of 2025 is assessed at **30%**. This moderate probability takes into account several key factors:\n",
      "\n",
      "1. **Threads' Initial Growth and Meta's Resources**: Threads has shown strong early momentum, supported by Meta's substantial resources and ecosystem advantages. This could help it attract and retain users over time.\n",
      "\n",
      "2. **Twitter's Challenges**: Twitter is facing potential user decline under its current leadership, which might make it easier for Threads to gain ground.\n",
      "\n",
      "3. **Significant Hurdles**: Despite these advantages, Threads still faces major challenges, particularly in user retention and achieving feature parity with Twitter. These issues could slow its growth and make it difficult to surpass Twitter within the specified timeframe.\n",
      "\n",
      "4. **Time Required**: Building a user base large enough to overtake Twitter's established network will take time, and there is no guarantee that Threads will overcome these challenges quickly enough.\n",
      "\n",
      "Overall, while Threads has potential, the path to overtaking Twitter is fraught with difficulties that may not be overcome by the end of 2025. Thus, the forecast reflects a balanced view that a 30% probability is reasonable.\n"
     ]
    }
   ],
   "source": [
    "print(rationale)"
   ]
  },
  {
   "cell_type": "code",
   "execution_count": 42,
   "id": "c755e36f-b4e0-4365-b1c2-8ace6c787711",
   "metadata": {},
   "outputs": [],
   "source": [
    "row.forecast = rationale"
   ]
  },
  {
   "cell_type": "code",
   "execution_count": 43,
   "id": "0845b771-1ca2-4b20-8321-316c7bf4ef39",
   "metadata": {},
   "outputs": [],
   "source": [
    "row.prediction = forecast"
   ]
  },
  {
   "cell_type": "code",
   "execution_count": 44,
   "id": "4afa82f0-c230-4553-b163-f6fd7baf55f8",
   "metadata": {},
   "outputs": [
    {
     "data": {
      "text/plain": [
       "0.01"
      ]
     },
     "execution_count": 44,
     "metadata": {},
     "output_type": "execute_result"
    }
   ],
   "source": [
    "row.crowd"
   ]
  },
  {
   "cell_type": "code",
   "execution_count": 45,
   "id": "babd53b4-f064-48a4-8604-410d55dd9700",
   "metadata": {},
   "outputs": [],
   "source": [
    "from error import error"
   ]
  },
  {
   "cell_type": "code",
   "execution_count": 46,
   "id": "f03e7094-7ea0-4047-be90-44c6fc0cf8ad",
   "metadata": {},
   "outputs": [
    {
     "data": {
      "text/plain": [
       "0.29"
      ]
     },
     "execution_count": 46,
     "metadata": {},
     "output_type": "execute_result"
    }
   ],
   "source": [
    "error(row)"
   ]
  },
  {
   "cell_type": "code",
   "execution_count": null,
   "id": "5047bad9-5ed3-48aa-ab12-154d38e591d4",
   "metadata": {},
   "outputs": [],
   "source": []
  }
 ],
 "metadata": {
  "kernelspec": {
   "display_name": "Python 3 (ipykernel)",
   "language": "python",
   "name": "python3"
  },
  "language_info": {
   "codemirror_mode": {
    "name": "ipython",
    "version": 3
   },
   "file_extension": ".py",
   "mimetype": "text/x-python",
   "name": "python",
   "nbconvert_exporter": "python",
   "pygments_lexer": "ipython3",
   "version": "3.12.3"
  }
 },
 "nbformat": 4,
 "nbformat_minor": 5
}
