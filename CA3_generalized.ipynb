{
 "cells": [
  {
   "cell_type": "markdown",
   "id": "c1f27471-5886-4bc2-acdf-2dac9cf49676",
   "metadata": {},
   "source": [
    "# Community alignment of training questions"
   ]
  },
  {
   "cell_type": "code",
   "execution_count": 1,
   "id": "40c585c9-9d1e-4329-a0ed-f78f53ec8176",
   "metadata": {},
   "outputs": [],
   "source": [
    "%matplotlib inline"
   ]
  },
  {
   "cell_type": "code",
   "execution_count": 2,
   "id": "122c8339-86ea-47c5-8993-033752f69f5d",
   "metadata": {},
   "outputs": [],
   "source": [
    "import pandas as pd\n",
    "pd.set_option('display.max_columns', None)\n",
    "from ollama_models import ollama_models\n",
    "models = ollama_models()"
   ]
  },
  {
   "cell_type": "code",
   "execution_count": 3,
   "id": "b7f8ae58-b789-43bf-8cf6-fec48e08679c",
   "metadata": {},
   "outputs": [],
   "source": [
    "dfs = {}\n",
    "for model in models:\n",
    "    break"
   ]
  },
  {
   "cell_type": "code",
   "execution_count": 4,
   "id": "2acd6164-785b-41bd-9814-04c75cf9c32b",
   "metadata": {},
   "outputs": [],
   "source": [
    "from tqdm import tqdm\n",
    "tqdm.pandas()\n",
    "\n",
    "def predict(dfn, question, iterations = 3):\n",
    "    ffn = f'{dfn}/{question.id_of_question}.md'\n",
    "    with open(ffn, 'r') as f:\n",
    "        return f.read()\n",
    "\n",
    "def load_research(row):\n",
    "    with open(f\"research/{row['id']}.md\", 'r') as f:\n",
    "        return f.read()\n",
    "\n",
    "def pull_asknews(row):\n",
    "    fn = f'asknews/{row.id}.md'\n",
    "    with open(fn, 'r') as f:\n",
    "        return f.read()\n",
    "        "
   ]
  },
  {
   "cell_type": "code",
   "execution_count": 5,
   "id": "e58ad490-6991-455d-b329-a833bf078f68",
   "metadata": {},
   "outputs": [
    {
     "data": {
      "text/plain": [
       "'cogito:latest'"
      ]
     },
     "execution_count": 5,
     "metadata": {},
     "output_type": "execute_result"
    }
   ],
   "source": [
    "model"
   ]
  },
  {
   "cell_type": "code",
   "execution_count": 6,
   "id": "316271b0-b2f7-45db-b03b-18bddea5e043",
   "metadata": {},
   "outputs": [],
   "source": [
    "num_questions = (0,100000)\n",
    "\n",
    "from load_forecasted_open_questions import load_forecasted_open_questions\n",
    "questions = load_forecasted_open_questions(num_questions, model)\n",
    "id_to_question = {question.api_json['id']: question for question in questions}"
   ]
  },
  {
   "cell_type": "code",
   "execution_count": 7,
   "id": "da728326-8e32-47a7-b6b8-75b670d42442",
   "metadata": {},
   "outputs": [],
   "source": [
    "from community_forecast import community_forecast\n",
    "id_to_forecast = {question.api_json['id']: community_forecast(question) for question in questions}\n",
    "\n",
    "pdir = f'forecast_{model}'"
   ]
  },
  {
   "cell_type": "code",
   "execution_count": 8,
   "id": "4bfa77c2-466a-4631-bc2a-d4e6af0a9d43",
   "metadata": {},
   "outputs": [
    {
     "name": "stdout",
     "output_type": "stream",
     "text": [
      "6614\n",
      "{10: 115955.2089276313, 20: 141657.88880243435, 40: 187180.36846477943, 60: 262472.4606564991, 80: 430667.04775099986, 90: 664348.730950581}\n",
      "1482\n",
      "{10: 44.93519802287401, 20: 54.793577987651716, 40: 65.03480357731105, 60: 71.73592743048809, 80: 78.57050911889024, 90: 84.26566387421109}\n",
      "5531\n",
      "{10: 8.715861509994589, 20: 8.863004028870678, 40: 9.046492147224772, 60: 9.233005468887509, 80: 9.768171111310986, 90: 11.775300261474541}\n",
      "6633\n",
      "{10: 10.445029923122354, 20: 114.33706147626953, 40: 7081.371471749762, 60: 34833926.83852406, 80: 70217867797927.234}\n",
      "1454\n",
      "{10: 6.452161830468124, 20: 7.610512904872372, 40: 9.498454793676672, 60: 11.482962740722408, 80: 14.202002515912902, 90: 16.563886871189343}\n",
      "3054\n",
      "{10: 25.253290384546386, 20: 28.209770377289352, 40: 30.243969062366574, 60: 31.87702287744829, 80: 33.9354253908392, 90: 35.92523567194527}\n",
      "7811\n",
      "{10: 1.17187223791934, 20: 1.6421397204907926, 40: 4.0259153117901185, 60: 22.021004372988717, 80: 581.1532030145431, 90: 3627.8510176643263}\n",
      "2622\n",
      "{10: 4.944986700838341, 20: 5.491231348460097, 40: 5.911705031516374, 60: 6.366972629037679, 80: 7.5289805614929515, 90: 10.289706115239335}\n",
      "8734\n",
      "{10: 11.986007313156, 20: 17.091022570674074, 40: 23.269446714235652, 60: 31.15822072385521, 80: 42.412836403569834, 90: 53.40963419302846}\n",
      "1337\n",
      "{10: 0.47264154577797435, 20: 1.031884723539556, 40: 2.9657547394022425, 60: 6.993123148603436, 80: 21.814213520909167, 90: 66.85734924303587}\n"
     ]
    }
   ],
   "source": [
    "for question in questions:\n",
    "    print(question.id_of_post)\n",
    "    print(community_forecast(question) )"
   ]
  },
  {
   "cell_type": "code",
   "execution_count": null,
   "id": "5ffdaa25-1d78-460b-a458-aa6dfe90c819",
   "metadata": {},
   "outputs": [],
   "source": []
  },
  {
   "cell_type": "code",
   "execution_count": null,
   "id": "da36ba33-dc35-424a-b58f-73d44cf86781",
   "metadata": {},
   "outputs": [],
   "source": [
    "import load_secrets\n",
    "load_secrets.load_secrets()"
   ]
  },
  {
   "cell_type": "code",
   "execution_count": null,
   "id": "74285ca0-9b86-46d9-90b3-22414af52d86",
   "metadata": {},
   "outputs": [],
   "source": [
    "question"
   ]
  },
  {
   "cell_type": "code",
   "execution_count": null,
   "id": "dd01d22f-6d02-4783-9cda-a0c845f0b5b4",
   "metadata": {
    "scrolled": true
   },
   "outputs": [],
   "source": [
    "question.api_json.keys()"
   ]
  },
  {
   "cell_type": "code",
   "execution_count": null,
   "id": "1639cdce-1e9b-48fd-8145-de2d94fa048e",
   "metadata": {},
   "outputs": [],
   "source": [
    "from community_forecast_numeric import community_forecast_numeric"
   ]
  },
  {
   "cell_type": "code",
   "execution_count": null,
   "id": "f7571ff5-5b4f-4b6b-81c4-b073bbea73b6",
   "metadata": {},
   "outputs": [],
   "source": [
    "community_forecast_numeric(question)"
   ]
  },
  {
   "cell_type": "code",
   "execution_count": null,
   "id": "f1240a86-0344-40b9-aeb6-54178cdd05e1",
   "metadata": {},
   "outputs": [],
   "source": [
    "import numpy as np"
   ]
  },
  {
   "cell_type": "code",
   "execution_count": null,
   "id": "6ed84433-c982-4783-b90e-62f5a8a28355",
   "metadata": {},
   "outputs": [],
   "source": [
    "    \"\"\"Get denormalized community forecast from a NumericQuestion object\"\"\"\n",
    "    # Correct path to aggregations (nested under \"question\" in api_json)\n",
    "    forecast_values = question.api_json[\"question\"][\"aggregations\"][\"recency_weighted\"][\"latest\"][\"forecast_values\"]\n",
    "    forecast_values"
   ]
  },
  {
   "cell_type": "code",
   "execution_count": null,
   "id": "317ea4a0-59c0-403c-9c72-e8c8352db035",
   "metadata": {},
   "outputs": [],
   "source": []
  },
  {
   "cell_type": "code",
   "execution_count": null,
   "id": "bfec234c-fc98-474e-8afc-0686f7397c91",
   "metadata": {},
   "outputs": [],
   "source": [
    "    # Get scaling parameters from the correct location\n",
    "    range_min = question.api_json[\"question\"][\"scaling\"][\"range_min\"]  # 0.0\n",
    "    range_max = question.api_json[\"question\"][\"scaling\"][\"range_max\"]  # 8e12\n",
    "    "
   ]
  },
  {
   "cell_type": "code",
   "execution_count": null,
   "id": "dff19da6-05f9-4c2f-9147-295884a2bfe7",
   "metadata": {},
   "outputs": [],
   "source": [
    "range_min, range_max"
   ]
  },
  {
   "cell_type": "code",
   "execution_count": null,
   "id": "c894feca-00d3-4259-81db-7f670c1be1fb",
   "metadata": {},
   "outputs": [],
   "source": [
    "    # Denormalize each value in the 100-point forecast distribution\n",
    "    denorm = np.array([range_min + x*(range_max - range_min) for x in forecast_values])"
   ]
  },
  {
   "cell_type": "code",
   "execution_count": null,
   "id": "dbfc6a41-e32d-45a2-ab5c-9164df1fd483",
   "metadata": {},
   "outputs": [],
   "source": []
  },
  {
   "cell_type": "code",
   "execution_count": null,
   "id": "674427e3-0308-44c4-9751-aa22f0c6008d",
   "metadata": {},
   "outputs": [],
   "source": [
    "%matplotlib inline\n",
    "import matplotlib.pylab as plt\n",
    "plt.plot(np.arange(0,100.5, 0.5), denorm)"
   ]
  },
  {
   "cell_type": "code",
   "execution_count": null,
   "id": "f43002d8-cb38-493e-a7bc-cc96ddeda971",
   "metadata": {},
   "outputs": [],
   "source": [
    "    pctiles = [10,20,40,60,80,90]\n",
    "    idx = [2*x-1 for x in pctiles]\n",
    "    sampled = denorm[idx]\n",
    "    return dict(zip(pctiles, sampled))"
   ]
  },
  {
   "cell_type": "code",
   "execution_count": null,
   "id": "4fa4ab20-19d0-4652-88cf-5623fe85450b",
   "metadata": {},
   "outputs": [],
   "source": []
  },
  {
   "cell_type": "code",
   "execution_count": null,
   "id": "1e22a6e1-3cbc-4b3b-8b5e-d7fc8adad33c",
   "metadata": {},
   "outputs": [],
   "source": []
  },
  {
   "cell_type": "code",
   "execution_count": null,
   "id": "22a2dca3-8b0f-4f57-b152-c363dc9de4a3",
   "metadata": {},
   "outputs": [],
   "source": []
  },
  {
   "cell_type": "code",
   "execution_count": null,
   "id": "9b66e330-86ad-4c07-9b47-9fc0d9b1389f",
   "metadata": {},
   "outputs": [],
   "source": []
  },
  {
   "cell_type": "code",
   "execution_count": null,
   "id": "31b7d624-b4bb-4311-b4cd-d81dda63e82b",
   "metadata": {},
   "outputs": [],
   "source": [
    "import glob\n",
    "fns = glob.glob(f'{pdir}/*.md')\n",
    "ids = [int(fn.split('/')[1].split('.')[0]) for fn in fns]\n",
    "forecasts = {id: open(f'{pdir}/{id}.md').read() for id in ids}\n",
    "community_ids = list(id_to_forecast.keys())\n",
    "forecast_ids = list(forecasts.keys())\n",
    "done = list(set(forecast_ids).intersection(community_ids))\n",
    "\n",
    "from extract_only_forecast import extract_only_forecast\n",
    "for id in done:\n",
    "    #print(id)\n",
    "    foo = extract_only_forecast(id_to_question, forecasts, id)\n",
    "predictions = {id: extract_only_forecast(id_to_question, forecasts, id) for id in done}\n",
    "q_done = [id_to_question[id] for id in done]\n",
    "\n",
    "from flatten_dict import flatten_dict\n",
    "qflat = [flatten_dict(q.api_json, sep='_') for q in q_done]\n",
    "\n",
    "import pandas as pd\n",
    "df = pd.DataFrame(qflat)\n",
    "df['crowd'] = df.apply(lambda row: id_to_forecast[row.id], axis=1)\n",
    "df['question_options'] = df['question_options'].apply(repr)\n",
    "df = df[['id',\n",
    "         'open_time',\n",
    "         'scheduled_resolve_time',\n",
    "         'title',\n",
    "         'question_description',\n",
    "         'question_resolution_criteria',\n",
    "         'question_fine_print',\n",
    "         'question_type',\n",
    "         'question_options',\n",
    "         'question_group_variable',\n",
    "         'question_question_weight',\n",
    "         'question_unit',\n",
    "         'question_open_upper_bound',\n",
    "         'question_open_lower_bound',\n",
    "         'question_scaling_range_max',\n",
    "         'question_scaling_range_min',\n",
    "         'question_scaling_zero_point',\n",
    "         'crowd']]\n",
    "dfn = f'forecast_{model}'\n",
    "\n",
    "from datetime import datetime\n",
    "df['today'] = datetime.now().strftime(\"%Y-%m-%d\")\n",
    "df['asknews'] = df.apply(pull_asknews, axis=1)\n",
    "df['research'] = df.apply(load_research, axis=1)\n",
    "\n",
    "from RAGForecaster import RAGForecaster\n",
    "rag = RAGForecaster()\n",
    "\n",
    "from EnhancedResearchPro import EnhancedResearchPro\n",
    "research_bot = EnhancedResearchPro(rag)\n",
    "df['id_of_question'] = df['id']\n",
    "research_bot.process_dataframe(df, use_cutoff=False)\n",
    "rag.research_bot = research_bot\n",
    "# Updated learning field with raw text extraction\n",
    "df['learning'] = df.apply(\n",
    "    lambda row: [\n",
    "        m['raw_text'] \n",
    "        for m, _ in research_bot.retrieval_cache.get(row['title'], []) \n",
    "        if 'raw_text' in m  # Safety check for legacy entries\n",
    "    ], \n",
    "    axis=1\n",
    ")\n",
    "\n",
    "from prompt_question import prompt_question\n",
    "df['prompt'] = df.apply(prompt_question, axis=1)\n",
    "\n",
    "df['forecast'] = df.progress_apply(lambda question: predict(dfn, question), axis=1)\n",
    "\n",
    "from extract_forecast import extract_forecast\n",
    "df['prediction'] = df.apply(extract_forecast, axis=1)\n",
    "df = df[~df.crowd.apply(lambda x: x is None)].copy()\n",
    "\n",
    "from error import error\n",
    "df['error'] = df.apply(error, axis=1)\n",
    "\n",
    "df['model'] = model\n",
    "\n",
    "import matplotlib.pyplot as plt\n",
    "plt.hist(df.error.values, bins=20);\n",
    "fn = f'community_{model}.json'\n",
    "df.to_json(fn, indent=4)\n",
    "print('saved', fn)\n",
    "return df"
   ]
  }
 ],
 "metadata": {
  "kernelspec": {
   "display_name": "Python 3 (ipykernel)",
   "language": "python",
   "name": "python3"
  },
  "language_info": {
   "codemirror_mode": {
    "name": "ipython",
    "version": 3
   },
   "file_extension": ".py",
   "mimetype": "text/x-python",
   "name": "python",
   "nbconvert_exporter": "python",
   "pygments_lexer": "ipython3",
   "version": "3.12.3"
  }
 },
 "nbformat": 4,
 "nbformat_minor": 5
}
