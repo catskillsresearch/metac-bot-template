{
 "cells": [
  {
   "cell_type": "markdown",
   "id": "c1f27471-5886-4bc2-acdf-2dac9cf49676",
   "metadata": {},
   "source": [
    "# Community alignment of training questions"
   ]
  },
  {
   "cell_type": "code",
   "execution_count": null,
   "id": "80db6c1b-53a2-46ea-aa3d-c35f86ddc58f",
   "metadata": {},
   "outputs": [],
   "source": [
    "import matplotlib.pyplot as plt\n",
    "from load_forecasted_open_questions import load_forecasted_open_questions\n",
    "from community_forecast import *\n",
    "import glob\n",
    "from extract_forecast import *\n",
    "import forecasting_tools\n",
    "from flatten_dict import flatten_dict\n",
    "import pandas as pd\n",
    "from prompt_question import prompt_question\n",
    "from datetime import datetime\n",
    "from RAGForecaster import RAGForecaster\n",
    "from EnhancedResearchPro import EnhancedResearchPro\n",
    "from extract_forecast import extract_forecast\n",
    "from error import error\n",
    "from tqdm import tqdm\n",
    "tqdm.pandas()\n",
    "pd.set_option('display.max_columns', None)\n",
    "\n",
    "def predict(dfn, question, iterations = 3):\n",
    "    ffn = f'{dfn}/{question.id_of_question}.md'\n",
    "    with open(ffn, 'r') as f:\n",
    "        return f.read()\n",
    "\n",
    "def load_research(row):\n",
    "    with open(f\"research/{row['id']}.md\", 'r') as f:\n",
    "        return f.read()\n",
    "\n",
    "def pull_asknews(row):\n",
    "    fn = f'asknews/{row.id}.md'\n",
    "    with open(fn, 'r') as f:\n",
    "        return f.read()"
   ]
  },
  {
   "cell_type": "code",
   "execution_count": 9,
   "id": "925c0e68-cfff-48ae-887d-8800279c3c65",
   "metadata": {},
   "outputs": [],
   "source": [
    "def extract_only_forecast(id_to_question, forecasts, id):\n",
    "    question = id_to_question[id]\n",
    "    question_type = type(question)\n",
    "    forecast = forecasts[id]\n",
    "    if question_type == forecasting_tools.data_models.questions.BinaryQuestion:\n",
    "        prediction = extract_probability_from_response_as_percentage_not_decimal(forecast)/100.0\n",
    "    elif question_type == forecasting_tools.data_models.questions.MultipleChoiceQuestion:\n",
    "        options = question.options\n",
    "        option_probabilities = extract_option_probabilities_from_response(forecast, options)\n",
    "        prediction = generate_multiple_choice_forecast(options, option_probabilities)\n",
    "    elif question_type == forecasting_tools.data_models.questions.NumericQuestion:\n",
    "        prediction = extract_percentiles_from_response(forecast)\n",
    "    return prediction"
   ]
  },
  {
   "cell_type": "code",
   "execution_count": 12,
   "id": "aa1dec6e-2ac1-421f-ae28-ccdc1df88890",
   "metadata": {},
   "outputs": [],
   "source": [
    "def community_alignment(model = 'llama3'):\n",
    "    num_questions = (0,100000)\n",
    "    questions = load_forecasted_open_questions(num_questions, model)\n",
    "    id_to_forecast = {question.api_json['id']: community_forecast(question) for question in questions}\n",
    "    id_to_question = {question.api_json['id']: question for question in questions}\n",
    "    pdir = f'forecast_{model}'\n",
    "    fns = glob.glob(f'{pdir}/*.md')\n",
    "    ids = [int(fn.split('/')[1].split('.')[0]) for fn in fns]\n",
    "    forecasts = {id: open(f'{pdir}/{id}.md').read() for id in ids}\n",
    "    community_ids = list(id_to_forecast.keys())\n",
    "    forecast_ids = list(forecasts.keys())\n",
    "    done = list(set(forecast_ids).intersection(community_ids))\n",
    "    for id in done:\n",
    "        #print(id)\n",
    "        foo = extract_only_forecast(id_to_question, forecasts, id)\n",
    "    \n",
    "    predictions = {id: extract_only_forecast(id_to_question, forecasts, id) for id in done}\n",
    "    q_done = [id_to_question[id] for id in done]\n",
    "    qflat = [flatten_dict(q.api_json, sep='_') for q in q_done]\n",
    "    df = pd.DataFrame(qflat)\n",
    "    df['crowd'] = df.apply(lambda row: id_to_forecast[row.id], axis=1)\n",
    "    df['question_options'] = df['question_options'].apply(repr)\n",
    "    df = df[['id',\n",
    "             'open_time',\n",
    "             'scheduled_resolve_time',\n",
    "             'title',\n",
    "             'question_description',\n",
    "             'question_resolution_criteria',\n",
    "             'question_fine_print',\n",
    "             'question_type',\n",
    "             'question_options',\n",
    "             'question_group_variable',\n",
    "             'question_question_weight',\n",
    "             'question_unit',\n",
    "             'question_open_upper_bound',\n",
    "             'question_open_lower_bound',\n",
    "             'question_scaling_range_max',\n",
    "             'question_scaling_range_min',\n",
    "             'question_scaling_zero_point',\n",
    "             'crowd']]\n",
    "    dfn = f'forecast_{model}'\n",
    "    df['today'] = datetime.now().strftime(\"%Y-%m-%d\")\n",
    "    df['asknews'] = df.apply(pull_asknews, axis=1)\n",
    "    df['research'] = df.apply(load_research, axis=1)\n",
    "    rag = RAGForecaster()\n",
    "    research_bot = EnhancedResearchPro(rag)\n",
    "    df['id_of_question'] = df['id']\n",
    "    research_bot.process_dataframe(df, use_cutoff=False)\n",
    "    rag.research_bot = research_bot\n",
    "    # Updated learning field with raw text extraction\n",
    "    df['learning'] = df.apply(\n",
    "        lambda row: [\n",
    "            m['raw_text'] \n",
    "            for m, _ in research_bot.retrieval_cache.get(row['title'], []) \n",
    "            if 'raw_text' in m  # Safety check for legacy entries\n",
    "        ], \n",
    "        axis=1\n",
    "    )\n",
    "    df['prompt'] = df.apply(prompt_question, axis=1)\n",
    "    df['forecast'] = df.progress_apply(lambda question: predict(dfn, question), axis=1)\n",
    "    df['prediction'] = df.apply(extract_forecast, axis=1)\n",
    "    df = df[~df.crowd.apply(lambda x: x is None)].copy()\n",
    "    df['error'] = df.apply(error, axis=1)\n",
    "    plt.hist(df.error.values, bins=20);\n",
    "    fn = f'community_{model}.json'\n",
    "    df.to_json(fn, indent=4)\n",
    "    print('saved', fn)\n",
    "    return df"
   ]
  },
  {
   "cell_type": "code",
   "execution_count": 15,
   "id": "1fda97b3-f523-45d4-bd2b-eda944b54876",
   "metadata": {},
   "outputs": [
    {
     "name": "stdout",
     "output_type": "stream",
     "text": [
      "Loaded existing index from forecast_index.faiss\n",
      "Index contains 4767 vectors at initialization\n"
     ]
    },
    {
     "name": "stderr",
     "output_type": "stream",
     "text": [
      "100%|███████████████████████████████████████████████████████████████████████████████████████████████████████| 711/711 [00:00<00:00, 33001.53it/s]\n"
     ]
    },
    {
     "name": "stdout",
     "output_type": "stream",
     "text": [
      "saved community_llama3.json\n"
     ]
    },
    {
     "data": {
      "image/png": "[encoded data removed]",
      "text/plain": [
       "<Figure size 640x480 with 1 Axes>"
      ]
     },
     "metadata": {},
     "output_type": "display_data"
    }
   ],
   "source": [
    "df = community_alignment('llama3')"
   ]
  },
  {
   "cell_type": "code",
   "execution_count": 16,
   "id": "d8bc43a1-624c-4274-b9c9-b7a67183eb16",
   "metadata": {},
   "outputs": [
    {
     "name": "stdout",
     "output_type": "stream",
     "text": [
      "Loaded existing index from forecast_index.faiss\n",
      "Index contains 4767 vectors at initialization\n"
     ]
    },
    {
     "name": "stderr",
     "output_type": "stream",
     "text": [
      "100%|███████████████████████████████████████████████████████████████████████████████████████████████████████| 711/711 [00:00<00:00, 31548.80it/s]\n"
     ]
    },
    {
     "name": "stdout",
     "output_type": "stream",
     "text": [
      "saved community_perplexity.json\n"
     ]
    },
    {
     "data": {
      "image/png": "[encoded data removed]",
      "text/plain": [
       "<Figure size 640x480 with 1 Axes>"
      ]
     },
     "metadata": {},
     "output_type": "display_data"
    }
   ],
   "source": [
    "dfp = community_alignment('perplexity')"
   ]
  },
  {
   "cell_type": "code",
   "execution_count": 19,
   "id": "773cd538-76a8-4446-8376-340f5fbf3b50",
   "metadata": {},
   "outputs": [],
   "source": [
    "df1 = df[['id', 'title', 'error']].sort_values(by='error')"
   ]
  },
  {
   "cell_type": "code",
   "execution_count": 21,
   "id": "a324d217-3e38-460c-b709-c9d02cdf8881",
   "metadata": {},
   "outputs": [],
   "source": [
    "df2 = dfp[['id', 'title', 'error']].sort_values(by='error')"
   ]
  },
  {
   "cell_type": "code",
   "execution_count": 42,
   "id": "911feafd-3b04-4e5d-a7ba-5893e9c6ad89",
   "metadata": {},
   "outputs": [
    {
     "data": {
      "text/plain": [
       "[7811, 8734, 6633, 1482, 3054, 1454, 6614, 1337, 5531, 2622]"
      ]
     },
     "execution_count": 42,
     "metadata": {},
     "output_type": "execute_result"
    }
   ],
   "source": [
    "n=32\n",
    "hards = list(set(df1.iloc[-n:].id.values).intersection(df2.iloc[-n:].id.values))\n",
    "hards"
   ]
  },
  {
   "cell_type": "code",
   "execution_count": 54,
   "id": "bc99c998-d877-4afd-8b78-2a255ac4aa12",
   "metadata": {},
   "outputs": [],
   "source": [
    "dferr1 = df1[df1.id.isin(hards)]"
   ]
  },
  {
   "cell_type": "code",
   "execution_count": 55,
   "id": "7aef2430-23e1-4d42-8c0f-af6be6cb7f09",
   "metadata": {},
   "outputs": [],
   "source": [
    "dferr2 = df2[df2.id.isin(hards)]"
   ]
  },
  {
   "cell_type": "code",
   "execution_count": 57,
   "id": "1faf5d78-95bd-418b-9456-6e51a16c3f90",
   "metadata": {},
   "outputs": [],
   "source": [
    "# First, rename the 'error' columns in each DataFrame\n",
    "dferr1_renamed = dferr1.rename(columns={'error': 'error1'})\n",
    "dferr2_renamed = dferr2.rename(columns={'error': 'error2'})\n",
    "\n",
    "# Now merge on 'id' and 'title'\n",
    "dferr = pd.merge(\n",
    "    dferr1_renamed[['id', 'title', 'error1']],\n",
    "    dferr2_renamed[['id', 'title', 'error2']],\n",
    "    on=['id', 'title'],\n",
    "    how='inner'  # or 'outer'/'left'/'right' as needed\n",
    ")"
   ]
  },
  {
   "cell_type": "code",
   "execution_count": 58,
   "id": "b503d5e7-092e-4c51-ba5d-75067370d17d",
   "metadata": {},
   "outputs": [
    {
     "data": {
      "text/html": [
       "<div>\n",
       "<style scoped>\n",
       "    .dataframe tbody tr th:only-of-type {\n",
       "        vertical-align: middle;\n",
       "    }\n",
       "\n",
       "    .dataframe tbody tr th {\n",
       "        vertical-align: top;\n",
       "    }\n",
       "\n",
       "    .dataframe thead th {\n",
       "        text-align: right;\n",
       "    }\n",
       "</style>\n",
       "<table border=\"1\" class=\"dataframe\">\n",
       "  <thead>\n",
       "    <tr style=\"text-align: right;\">\n",
       "      <th></th>\n",
       "      <th>id</th>\n",
       "      <th>title</th>\n",
       "      <th>error1</th>\n",
       "      <th>error2</th>\n",
       "    </tr>\n",
       "  </thead>\n",
       "  <tbody>\n",
       "    <tr>\n",
       "      <th>0</th>\n",
       "      <td>6614</td>\n",
       "      <td>What is the highest value 1 bitcoin will ever ...</td>\n",
       "      <td>0.8</td>\n",
       "      <td>0.8</td>\n",
       "    </tr>\n",
       "    <tr>\n",
       "      <th>1</th>\n",
       "      <td>1482</td>\n",
       "      <td>What percentage of Americans will be obese or ...</td>\n",
       "      <td>0.8</td>\n",
       "      <td>0.8</td>\n",
       "    </tr>\n",
       "    <tr>\n",
       "      <th>2</th>\n",
       "      <td>1337</td>\n",
       "      <td>Drake's Equation 1st Parameter R∗: What is the...</td>\n",
       "      <td>0.8</td>\n",
       "      <td>0.8</td>\n",
       "    </tr>\n",
       "    <tr>\n",
       "      <th>3</th>\n",
       "      <td>7811</td>\n",
       "      <td>How many nuclear weapons will be detonated off...</td>\n",
       "      <td>0.8</td>\n",
       "      <td>0.8</td>\n",
       "    </tr>\n",
       "    <tr>\n",
       "      <th>4</th>\n",
       "      <td>8734</td>\n",
       "      <td>What percentage of new vehicle production will...</td>\n",
       "      <td>0.8</td>\n",
       "      <td>0.8</td>\n",
       "    </tr>\n",
       "    <tr>\n",
       "      <th>5</th>\n",
       "      <td>5531</td>\n",
       "      <td>How many seats will be on the Supreme Court of...</td>\n",
       "      <td>0.8</td>\n",
       "      <td>0.8</td>\n",
       "    </tr>\n",
       "    <tr>\n",
       "      <th>6</th>\n",
       "      <td>1454</td>\n",
       "      <td>What will be the total aggregate score given t...</td>\n",
       "      <td>0.8</td>\n",
       "      <td>0.8</td>\n",
       "    </tr>\n",
       "    <tr>\n",
       "      <th>7</th>\n",
       "      <td>6633</td>\n",
       "      <td>In how many years will humanity's descendants ...</td>\n",
       "      <td>0.8</td>\n",
       "      <td>0.8</td>\n",
       "    </tr>\n",
       "    <tr>\n",
       "      <th>8</th>\n",
       "      <td>2622</td>\n",
       "      <td>What will be the highest level of annual GDP g...</td>\n",
       "      <td>0.8</td>\n",
       "      <td>0.8</td>\n",
       "    </tr>\n",
       "    <tr>\n",
       "      <th>9</th>\n",
       "      <td>3054</td>\n",
       "      <td>How many hours will the average American emplo...</td>\n",
       "      <td>0.8</td>\n",
       "      <td>0.8</td>\n",
       "    </tr>\n",
       "  </tbody>\n",
       "</table>\n",
       "</div>"
      ],
      "text/plain": [
       "     id                                              title  error1  error2\n",
       "0  6614  What is the highest value 1 bitcoin will ever ...     0.8     0.8\n",
       "1  1482  What percentage of Americans will be obese or ...     0.8     0.8\n",
       "2  1337  Drake's Equation 1st Parameter R∗: What is the...     0.8     0.8\n",
       "3  7811  How many nuclear weapons will be detonated off...     0.8     0.8\n",
       "4  8734  What percentage of new vehicle production will...     0.8     0.8\n",
       "5  5531  How many seats will be on the Supreme Court of...     0.8     0.8\n",
       "6  1454  What will be the total aggregate score given t...     0.8     0.8\n",
       "7  6633  In how many years will humanity's descendants ...     0.8     0.8\n",
       "8  2622  What will be the highest level of annual GDP g...     0.8     0.8\n",
       "9  3054  How many hours will the average American emplo...     0.8     0.8"
      ]
     },
     "execution_count": 58,
     "metadata": {},
     "output_type": "execute_result"
    }
   ],
   "source": [
    "dferr"
   ]
  },
  {
   "cell_type": "code",
   "execution_count": 63,
   "id": "9a87c371-6992-4e26-a8d7-4f1d7ccc7f12",
   "metadata": {},
   "outputs": [],
   "source": [
    "hard_ids = dferr.id.values"
   ]
  },
  {
   "cell_type": "code",
   "execution_count": 64,
   "id": "67dd56ff-99b2-4b6a-a331-fe3a6071a4d4",
   "metadata": {},
   "outputs": [
    {
     "data": {
      "text/plain": [
       "array([6614, 1482, 1337, 7811, 8734, 5531, 1454, 6633, 2622, 3054])"
      ]
     },
     "execution_count": 64,
     "metadata": {},
     "output_type": "execute_result"
    }
   ],
   "source": [
    "hard_ids"
   ]
  },
  {
   "cell_type": "code",
   "execution_count": 1,
   "id": "fc1656b5-9a12-4f03-8396-dab5743262bb",
   "metadata": {},
   "outputs": [
    {
     "ename": "NameError",
     "evalue": "name 'hard_ids' is not defined",
     "output_type": "error",
     "traceback": [
      "\u001b[31m---------------------------------------------------------------------------\u001b[39m",
      "\u001b[31mNameError\u001b[39m                                 Traceback (most recent call last)",
      "\u001b[36mCell\u001b[39m\u001b[36m \u001b[39m\u001b[32mIn[1]\u001b[39m\u001b[32m, line 1\u001b[39m\n\u001b[32m----> \u001b[39m\u001b[32m1\u001b[39m \u001b[43mhard_ids\u001b[49m\n",
      "\u001b[31mNameError\u001b[39m: name 'hard_ids' is not defined"
     ]
    }
   ],
   "source": [
    "hard_ids"
   ]
  },
  {
   "cell_type": "code",
   "execution_count": null,
   "id": "f0900029-19cc-4106-8d3a-bce3920f7583",
   "metadata": {},
   "outputs": [],
   "source": []
  }
 ],
 "metadata": {
  "kernelspec": {
   "display_name": "Python 3 (ipykernel)",
   "language": "python",
   "name": "python3"
  },
  "language_info": {
   "codemirror_mode": {
    "name": "ipython",
    "version": 3
   },
   "file_extension": ".py",
   "mimetype": "text/x-python",
   "name": "python",
   "nbconvert_exporter": "python",
   "pygments_lexer": "ipython3",
   "version": "3.12.3"
  }
 },
 "nbformat": 4,
 "nbformat_minor": 5
}
