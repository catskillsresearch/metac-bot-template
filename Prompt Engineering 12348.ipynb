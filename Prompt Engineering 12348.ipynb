{
 "cells": [
  {
   "cell_type": "markdown",
   "id": "c1f27471-5886-4bc2-acdf-2dac9cf49676",
   "metadata": {},
   "source": [
    "# Prompt engineering on worst econ questions: answer verification, temperature, red/blue, context"
   ]
  },
  {
   "cell_type": "code",
   "execution_count": 1,
   "id": "40c585c9-9d1e-4329-a0ed-f78f53ec8176",
   "metadata": {},
   "outputs": [],
   "source": [
    "%matplotlib inline"
   ]
  },
  {
   "cell_type": "code",
   "execution_count": 2,
   "id": "122c8339-86ea-47c5-8993-033752f69f5d",
   "metadata": {},
   "outputs": [],
   "source": [
    "import pandas as pd\n",
    "pd.set_option('display.max_columns', None)\n",
    "from ollama_models import ollama_models\n",
    "models = ollama_models()"
   ]
  },
  {
   "cell_type": "code",
   "execution_count": 3,
   "id": "70be6a67-c25b-4729-ab99-725f064528d7",
   "metadata": {},
   "outputs": [
    {
     "data": {
      "text/plain": [
       "['mistral-small3.2:24b-instruct-2506-q4_K_M']"
      ]
     },
     "execution_count": 3,
     "metadata": {},
     "output_type": "execute_result"
    }
   ],
   "source": [
    "models"
   ]
  },
  {
   "cell_type": "code",
   "execution_count": 4,
   "id": "a75e3d1e-890d-44d9-b173-18f3afbfbe31",
   "metadata": {},
   "outputs": [],
   "source": [
    "model = models[0]"
   ]
  },
  {
   "cell_type": "code",
   "execution_count": 5,
   "id": "6651ca1a-083f-4ea2-87fa-bc56531f788f",
   "metadata": {},
   "outputs": [],
   "source": [
    "from load_saved_questions import load_saved_questions\n",
    "from call_local_llm import call_local_llm"
   ]
  },
  {
   "cell_type": "code",
   "execution_count": 6,
   "id": "b8b6b1c7-263d-404b-b5be-04c89639ac9d",
   "metadata": {},
   "outputs": [],
   "source": [
    "question = load_saved_questions([12348])[0]"
   ]
  },
  {
   "cell_type": "code",
   "execution_count": 7,
   "id": "552a481e-5a4f-405f-a618-4edf5107d0c9",
   "metadata": {},
   "outputs": [],
   "source": [
    "    from community_forecast import community_forecast\n",
    "    import pandas as pd\n",
    "    from flatten_dict import flatten_dict\n",
    "    from datetime import datetime\n",
    "    from gather_research_and_set_prompt import gather_research_and_set_prompt\n",
    "    from generate_forecasts_and_update_rag import generate_forecasts_and_update_rag\n",
    "    from tqdm import tqdm\n",
    "    import time"
   ]
  },
  {
   "cell_type": "code",
   "execution_count": 8,
   "id": "cc4b0cff-645d-463e-a91d-85e9a2911918",
   "metadata": {},
   "outputs": [
    {
     "name": "stdout",
     "output_type": "stream",
     "text": [
      "START model mistral-small3.2:24b-instruct-2506-q4_K_M id <built-in function id>\n"
     ]
    }
   ],
   "source": [
    "    print('START model', model, 'id', id)\n",
    "    start_time = time.time()\n",
    "    questions = [question]\n",
    "    id = question.id_of_question\n",
    "    id_to_forecast = {question.id_of_question: community_forecast(question) for question in questions}\n",
    "    df = pd.DataFrame([flatten_dict(q.api_json, sep='_') for q in questions])\n",
    "    df['id_of_post'] = [q.id_of_post for q in questions]\n",
    "    df['id_of_question'] = [q.id_of_question for q in questions]\n",
    "    df['question_options'] = df['question_options'].apply(repr)\n",
    "    df['today'] = datetime.now().strftime(\"%Y-%m-%d\")\n",
    "    df['crowd'] = df.apply(lambda row: id_to_forecast[row.id_of_question], axis=1)"
   ]
  },
  {
   "cell_type": "code",
   "execution_count": 9,
   "id": "b549d0b5-3a4f-4286-89c1-462c2a01b3c5",
   "metadata": {},
   "outputs": [],
   "source": [
    "    df1 = df[['id_of_question', 'id_of_post', 'today', 'open_time', 'scheduled_resolve_time', 'title',\n",
    "        'question_resolution_criteria', 'question_fine_print', 'question_type', \n",
    "         'question_description',\n",
    "        'question_options', 'question_group_variable', 'question_question_weight',\n",
    "        'question_unit', 'question_open_upper_bound', 'question_open_lower_bound',\n",
    "        'question_scaling_range_max', 'question_scaling_range_min', 'question_scaling_zero_point','crowd']].copy()"
   ]
  },
  {
   "cell_type": "code",
   "execution_count": 10,
   "id": "22294f1d-0065-460d-97b2-65cca83d0d90",
   "metadata": {},
   "outputs": [
    {
     "name": "stdout",
     "output_type": "stream",
     "text": [
      "Loaded existing index from forecast_index.faiss\n",
      "Index contains 5839 vectors at initialization\n"
     ]
    }
   ],
   "source": [
    "    df2, rag = gather_research_and_set_prompt(df1, True, model)"
   ]
  },
  {
   "cell_type": "code",
   "execution_count": 11,
   "id": "80261c3f-b8b1-44f7-9b75-b90be8f25229",
   "metadata": {},
   "outputs": [],
   "source": [
    "df3 = df2[['id_of_question', 'title',\n",
    "        'question_resolution_criteria', 'question_type', \n",
    "         'question_description','crowd',\n",
    "          'research', 'asknews', 'learning']].copy()"
   ]
  },
  {
   "cell_type": "code",
   "execution_count": 12,
   "id": "d67ccbf7-02aa-4a15-a89e-d76a98532136",
   "metadata": {},
   "outputs": [],
   "source": [
    "row = df3.iloc[0]"
   ]
  },
  {
   "cell_type": "code",
   "execution_count": 13,
   "id": "c54b1448-a2a8-424a-a33f-61b37ad6b165",
   "metadata": {},
   "outputs": [
    {
     "data": {
      "text/plain": [
       "id_of_question                                                              12348\n",
       "title                                    Will 3M file for bankruptcy before 2026?\n",
       "question_resolution_criteria    This question will resolve as **Yes** if there...\n",
       "question_type                                                              binary\n",
       "question_description            3M Company, one of the 30 components making up...\n",
       "crowd                                                                        0.01\n",
       "research                        ## 1. Key Historical Trends and Current Status...\n",
       "asknews                         Here are the relevant news articles:\\n\\n**3M s...\n",
       "learning                                                                       []\n",
       "Name: 0, dtype: object"
      ]
     },
     "execution_count": 13,
     "metadata": {},
     "output_type": "execute_result"
    }
   ],
   "source": [
    "row"
   ]
  },
  {
   "cell_type": "code",
   "execution_count": 14,
   "id": "a441b75e-e37e-4766-b5bd-24343d116e3e",
   "metadata": {},
   "outputs": [
    {
     "name": "stdout",
     "output_type": "stream",
     "text": [
      "ID_OF_QUESTION\n",
      "\n",
      "12348\n",
      "===============================\n",
      "\n",
      "TITLE\n",
      "\n",
      "Will 3M file for bankruptcy before 2026?\n",
      "===============================\n",
      "\n",
      "QUESTION_RESOLUTION_CRITERIA\n",
      "\n",
      "This question will resolve as **Yes** if there is an 8-K filing stating that the entity filing with the SEC under the Central Index Key (CIK) number 66740 has filed or intends to file a petition in bankruptcy court under Chapter 11 reorganization or Chapter 7 liquidation before January 1, 2026\n",
      "===============================\n",
      "\n",
      "QUESTION_TYPE\n",
      "\n",
      "binary\n",
      "===============================\n",
      "\n",
      "QUESTION_DESCRIPTION\n",
      "\n",
      "3M Company, one of the 30 components making up the Dow Jones Industrial Average and ranked #102 on the Fortune 500, is a multinational corporation based in Minnesota with approximately 95,000 full-time equivalent employees. It manufactures a wide range of consumable industrial products used every day in offices, homes, hospitals, schools, factories and other workplaces. Well-known brands include Scotch-Brite abrasives and cleaning supplies, 3M respirators, Scotchgard Protector, Scotch tapes, Post-it notes, and Scotchlite films.\n",
      "\n",
      "In 2021, 3M had operating income of $7.4 billion with net sales of $35.4 billion. It has increased stockholder dividends for 64 consecutive years. \n",
      "\n",
      "3M’s market cap peaked at $154 billion in January 2018, and today’s market cap of $74 billion is down over 50% from the peak.\n",
      "\n",
      "Although 3M is highly profitable and is widely diversified with over 60,000 products, it faces bankruptcy risk due to lawsuits related to Combat Arms brand earplugs supplied to the US military. In 2008, 3M acquired Aearo Technologies, which manufactured the earplugs. Although Aearo has been bankrupted by 3M, on August 26, 2022, a federal judge [ruled](https://www.indystar.com/story/news/2022/08/26/indianapolis-company-loses-court-bid-to-halt-historic-3m-lawsuit/65459182007/) that 3M has successor liability and that mass tort claims by veterans will be allowed to proceed. \n",
      "\n",
      "The company could face more than $100 billion in losses from these lawsuits, which could result in bankruptcy for the company, Bloomberg [reports](https://www.bnnbloomberg.ca/3m-faces-100-billion-in-losses-from-veterans-earplug-suits-expert-says-1.1806435).\n",
      "===============================\n",
      "\n",
      "CROWD\n",
      "\n",
      "0.01\n",
      "===============================\n",
      "\n",
      "RESEARCH\n",
      "\n",
      "## 1. Key Historical Trends and Current Status\n",
      "- 3M has remained consistently profitable through 2024 and into Q1 2025, reporting GAAP sales of $6.0 billion and adjusted EPS growth in Q1 2025[1][4].\n",
      "- The company’s annual revenue for 2024 was $24.575 billion, with only a marginal decline from 2023[5]. Revenue for the twelve months ending March 31, 2025, was $24.513 billion, up 8.49% year-over-year, indicating a recovery from previous declines[5].\n",
      "- 3M has continued to pay dividends and repurchase shares, returning $1.1 billion to shareholders in 2024[4].\n",
      "- Despite ongoing litigation and associated legal costs, 3M’s operating and adjusted operating margins remain robust (over 18% in Q4 2024 and over 20% in Q1 2025)[1][4].\n",
      "\n",
      "## 2. Recent Announcements/Policies Affecting the Metric\n",
      "- In Q1 2025, 3M’s management expressed confidence in performance and did not report any liquidity or solvency concerns[1].\n",
      "- The company continues to generate positive free cash flow (adjusted free cash flow of $0.5 billion in Q1 2025 and $1.3 billion in Q4 2024)[1][4].\n",
      "- No SEC filings or public announcements as of May 2025 indicate any intent to file for bankruptcy or severe financial distress[1][2][3].\n",
      "\n",
      "## 3. Authoritative Sources for Verification\n",
      "- 3M’s investor relations website regularly publishes quarterly and annual financial results, as well as SEC filings[2][3].\n",
      "- Macrotrends provides historical and up-to-date revenue figures for 3M[5].\n",
      "\n",
      "## 4. Limitations and Uncertainties\n",
      "- The possibility of bankruptcy hinges on the outcome, scale, and timing of Combat Arms earplug lawsuit liabilities, which may exceed $100 billion according to some expert estimates (as of 2022)[user context].\n",
      "- There is inherent uncertainty in legal proceedings and potential settlement negotiations, which could alter 3M’s risk profile rapidly.\n",
      "- No current factual evidence suggests imminent bankruptcy, but future adverse legal developments could shift this outlook.\n",
      "\n",
      "## Adjusted Probabilistic Assessment\n",
      "Given the company’s ongoing profitability, strong cash flows, and lack of disclosed distress or bankruptcy plans as of May 2025, the probability that 3M will file for bankruptcy before 2026 is assessed as low—substantially below that of reference cases where bankruptcy was imminent or already declared. However, this outlook could change if the legal environment shifts dramatically.\n",
      "\n",
      "---\n",
      "\n",
      "### References\n",
      "1. [3M Reports First-Quarter 2025 Results](https://investors.3m.com/news-events/press-releases/detail/1885/3m-reports-first-quarter-2025-results)\n",
      "2. [Quarterly Earnings :: 3M Company (MMM) - 3M Investor Relations](https://investors.3m.com/financials/quarterly-earnings)\n",
      "3. [Annual Reports & Proxy Statements - 3M Investor Relations](https://investors.3m.com/financials/annual-reports-proxy-statements)\n",
      "4. [3M Reports Fourth-Quarter and Full-Year 2024 Results](https://investors.3m.com/news-events/press-releases/detail/1874/3m-reports-fourth-quarter-and-full-year-2024-results)\n",
      "5. [3M Revenue 2010-2025 | MMM - Macrotrends](https://www.macrotrends.net/stocks/charts/MMM/3m/revenue)\n",
      "===============================\n",
      "\n",
      "ASKNEWS\n",
      "\n",
      "Here are the relevant news articles:\n",
      "\n",
      "**3M settles PFAS claims with New Jersey for $285 million**\n",
      "3M has reached an agreement to settle all historical claims related to the Chambers Works site in Salem County, New Jersey, as well as broader state-wide claims regarding per- and polyfluoroalkyl substances (PFAS). The agreement, pending judicial approval, includes a commitment of approximately $210 million in present value before taxes for the Chambers Works litigation and an additional $75 million to address current and future claims from 2030 to 2050. According to InvestingPro's analysis, the stock appears slightly overvalued at current levels. 3M has provided PFAS to DuPont at the Chambers Works site until 2001 and has since taken steps to withdraw from PFAS manufacturing, planning to stop all PFAS production by the end of 2025. The agreement does not constitute an admission of liability by 3M, but aims to bring finality and prevent further litigation. If the agreement does not receive court approval or certain conditions are not met, 3M is prepared to continue its defense. Financially, 3M will record a charge before taxes of approximately $285 million in the second quarter of 2025, reflecting the impact of the agreement. The payment structure is designed to align with the company's other financial obligations, ensuring a predictable cash flow over the next 25 years. The company maintains a strong financial position with an EBITDA of $5.328 billion and a general liquidity ratio of 1.66. InvestingPro subscribers can access detailed metrics on the company's financial health and over 12 additional ProTips on 3M's debt management strategy.\n",
      "Original language: fr\n",
      "Publish date: May 12, 2025 08:28 PM\n",
      "Source:[Investing.com France](https://fr.investing.com/news/company-news/3m-regle-les-reclamations-pfas-du-new-jersey-avec-une-charge-de-285-millions--93CH-2877454)\n",
      "\n",
      "**3M Company Reaches $285 Million Settlement with New Jersey over PFAS Claims**\n",
      "3M Company (NYSE: MMM) has reached a settlement of $285 million to resolve past claims related to the Chambers Works plant in Salem County, New Jersey, and a broader statewide claim related to per- and polyfluoroalkyl substances (PFAS). The company, currently trading at a market value of $80.68 billion and a stock price of $150.35, has agreed to pay approximately $210 million in pre-tax present value for the Chambers Works lawsuit and an additional $75 million in payments for the statewide claim from 2030 to 2050. According to InvestingPro's analysis, the company's stock is slightly overvalued at current levels. The Chambers Works plant, formerly owned by DuPont and currently owned by Kemira, has been sued by New Jersey over PFAS contamination issues. 3M Company supplied PFAS to DuPont from 2001 until it phased out PFAS production in 2025. The settlement does not acknowledge 3M Company's responsibility but aims to provide a final resolution and prevent further lawsuits. If the agreement is not approved by the court or certain conditions are not met, 3M Company will continue to defend itself. From a financial perspective, 3M Company expects to record a pre-tax charge of $285 million in the second quarter of 2025, reflecting the impact of the settlement. The payment structure is designed to align with the company's other financial obligations and ensure predictable cash flows over the next 25 years. The company maintains a solid financial position with EBITDA of $532.8 million and a current ratio of 1.66. InvestingPro subscribers have access to detailed financial health metrics and 12 additional ProTips. This agreement is part of 3M Company's larger strategy to manage risk and focus on business excellence and profitable growth, contributing to an 11.01% return since the beginning of the year. The company has been valued by the state for stopping PFAS production, a move not taken by other companies. With annual revenue of $24.51 billion and a financial health score of 'adequate' from InvestingPro, 3M Company continues to demonstrate resilience in managing environmental challenges while maintaining business stability.\n",
      "Original language: ja\n",
      "Publish date: May 12, 2025 08:28 PM\n",
      "Source:[Investing.com 日本](https://jp.investing.com/news/company-news/article-93CH-1110438)\n",
      "\n",
      "**3M Resolves PFAS-Related Claims with the State of New Jersey**\n",
      "3M has reached an agreement with the State of New Jersey to resolve all legacy claims related to the Chambers Works site in Salem County, New Jersey. The agreement includes a pre-tax present value commitment of approximately $210 million to resolve the legacy Chambers Works litigation and other elements of the settlement, as well as a pre-tax present value commitment of approximately $75 million to resolve current and future statewide claims starting in 2030 and running through 2050. 3M has agreed to contribute amounts payable over 25 years, with payments aligned to reflect other company obligations. The company expects to record a pre-tax charge of approximately $285 million in the second quarter of 2025. The agreement is not an admission of liability and 3M is prepared to continue to defend itself in litigation if the agreement is not approved by the court or certain agreed terms are not fulfilled. The company has taken actions to cease manufacturing PFAS and remains on track to discontinue all PFAS manufacturing by the end of 2025.\n",
      "Original language: en\n",
      "Publish date: May 12, 2025 08:15 PM\n",
      "Source:[WFMZ.com](https://www.wfmz.com/news/pr_newswire/pr_newswire_technology/3m-resolves-pfas-related-claims-with-the-state-of-new-jersey/article_14dc8512-7d1d-513c-a844-10fe585d41d7.html)\n",
      "\n",
      "**3 Consumer Stocks That Caught Stocktwits Users' Eyes Last Week By Stocktwits**\n",
      "Last week, consumer stocks were in focus due to significant news. While hotel operators like Marriott and Wynn Resorts made disappointing projections, WeightWatchers firm WW International filed for bankruptcy. However, discretionary stocks advanced while staples declined. Three consumer stocks caught the attention of retail investors on Stocktwits: Caesars Entertainment, Nike, and Chipotle Mexican Grill. Caesars Entertainment is involved in a dispute with activist investor HG Vora Capital, while Nike's CEO Elliott Hill reorganized the company's structure and provided an update on its turnaround plan. Chipotle Mexican Grill's shares have risen despite lowering its annual sales projections, but reversed on Friday due to weak results from Restaurant Brands.\n",
      "Original language: en\n",
      "Publish date: May 12, 2025 07:16 AM\n",
      "Source:[Investing.com India](https://in.investing.com/news/stock-market-news/3-consumer-stocks-that-caught-stocktwits-users-eyes-last-week-4823230)\n",
      "\n",
      "**Expert: Russia to Go Bankrupt in 2026**\n",
      "Russian expert Malcolm Dixelius predicts that Russia will go bankrupt in 2026. He believes that Russia's President Vladimir Putin is now in need of a peace agreement, more than Ukraine. 'Russians are exhausted. The country is heading towards national bankruptcy in 2026. It's the Russians who are under the greatest pressure,' Dixelius said to Swedish Aftenposten. He points to US President Donald Trump's recent shift in stance, which appears to be more in favor of Ukrainian President Volodymyr Zelensky than Putin. 'The US has not completely changed course, but they have become much more accepting of Ukraine's description of reality. Russian attempts to take advantage of the opening Trump gave them have failed,' Dixelius said. Russia's poor economy and US support for Ukraine are two factors contributing to Russia's struggles. However, Ukraine has also managed to hit critical Russian infrastructure. China still has influence over Putin, and it's difficult to assess the impact of Chinese President Xi Jinping on Putin, as China is the only country that can lend Russia money.\n",
      "Original language: da\n",
      "Publish date: May 11, 2025 04:02 PM\n",
      "Source:[B.T.](https://www.bt.dk/content/item/1820887)\n",
      "\n",
      "**23andMe customers notified of bankruptcy and potential claims — deadline to file is July 14 | TechCrunch**\n",
      "23andMe customers have been notified of the company's bankruptcy and potential claims. The company filed for bankruptcy protection in October 2023, according to TechCrunch. A Cyber Security Incident Claim General Bar Date Package has been expressed, raising concerns about the privacy implications. $400 million remains on hold. TechCrunch has reached out to 23andMe for comment. Customers have until July 14 to file claims.\n",
      "Original language: en\n",
      "Publish date: May 11, 2025 01:01 PM\n",
      "Source:[techcrunch.com](https://techcrunch.com/2025/05/11/23andme-customers-notified-of-bankruptcy-and-potential-claims-deadline-to-file-is-july-14/)\n",
      "\n",
      "**3M settles PFAS claims with New Jersey for $285 million**\n",
      "3M has reached an agreement to settle all historical claims related to the Chambers Works site in Salem County, New Jersey, as well as broader state-wide claims regarding per- and polyfluoroalkyl substances (PFAS). The agreement, pending judicial approval, includes a commitment of approximately $210 million in present value before taxes for the Chambers Works litigation and an additional $75 million to address current and future claims from 2030 to 2050. According to InvestingPro's analysis, the stock appears slightly overvalued at current levels. 3M has provided PFAS to DuPont at the Chambers Works site until 2001 and has since taken steps to withdraw from PFAS manufacturing, planning to stop all PFAS production by the end of 2025. The agreement does not constitute an admission of liability by 3M, but aims to bring finality and prevent further litigation. If the agreement does not receive court approval or certain conditions are not met, 3M is prepared to continue its defense. Financially, 3M will record a charge before taxes of approximately $285 million in the second quarter of 2025, reflecting the impact of the agreement. The payment structure is designed to align with the company's other financial obligations, ensuring a predictable cash flow over the next 25 years. The company maintains a strong financial position with an EBITDA of $5.328 billion and a general liquidity ratio of 1.66. InvestingPro subscribers can access detailed metrics on the company's financial health and over 12 additional ProTips on 3M's debt management strategy.\n",
      "Original language: fr\n",
      "Publish date: May 12, 2025 08:28 PM\n",
      "Source:[Investing.com France](https://fr.investing.com/news/company-news/3m-regle-les-reclamations-pfas-du-new-jersey-avec-une-charge-de-285-millions--93CH-2877454)\n",
      "\n",
      "**3M Company Reaches $285 Million Settlement with New Jersey over PFAS Claims**\n",
      "3M Company (NYSE: MMM) has reached a settlement of $285 million to resolve past claims related to the Chambers Works plant in Salem County, New Jersey, and a broader statewide claim related to per- and polyfluoroalkyl substances (PFAS). The company, currently trading at a market value of $80.68 billion and a stock price of $150.35, has agreed to pay approximately $210 million in pre-tax present value for the Chambers Works lawsuit and an additional $75 million in payments for the statewide claim from 2030 to 2050. According to InvestingPro's analysis, the company's stock is slightly overvalued at current levels. The Chambers Works plant, formerly owned by DuPont and currently owned by Kemira, has been sued by New Jersey over PFAS contamination issues. 3M Company supplied PFAS to DuPont from 2001 until it phased out PFAS production in 2025. The settlement does not acknowledge 3M Company's responsibility but aims to provide a final resolution and prevent further lawsuits. If the agreement is not approved by the court or certain conditions are not met, 3M Company will continue to defend itself. From a financial perspective, 3M Company expects to record a pre-tax charge of $285 million in the second quarter of 2025, reflecting the impact of the settlement. The payment structure is designed to align with the company's other financial obligations and ensure predictable cash flows over the next 25 years. The company maintains a solid financial position with EBITDA of $532.8 million and a current ratio of 1.66. InvestingPro subscribers have access to detailed financial health metrics and 12 additional ProTips. This agreement is part of 3M Company's larger strategy to manage risk and focus on business excellence and profitable growth, contributing to an 11.01% return since the beginning of the year. The company has been valued by the state for stopping PFAS production, a move not taken by other companies. With annual revenue of $24.51 billion and a financial health score of 'adequate' from InvestingPro, 3M Company continues to demonstrate resilience in managing environmental challenges while maintaining business stability.\n",
      "Original language: ja\n",
      "Publish date: May 12, 2025 08:28 PM\n",
      "Source:[Investing.com 日本](https://jp.investing.com/news/company-news/article-93CH-1110438)\n",
      "\n",
      "**3M Resolves PFAS-Related Claims with the State of New Jersey**\n",
      "3M has reached an agreement with the State of New Jersey to resolve all legacy claims related to the Chambers Works site in Salem County, New Jersey. The agreement includes a pre-tax present value commitment of approximately $210 million to resolve the legacy Chambers Works litigation and other elements of the settlement, as well as a pre-tax present value commitment of approximately $75 million to resolve current and future statewide claims starting in 2030 and running through 2050. 3M has agreed to contribute amounts payable over 25 years, with payments aligned to reflect other company obligations. The company expects to record a pre-tax charge of approximately $285 million in the second quarter of 2025. The agreement is not an admission of liability and 3M is prepared to continue to defend itself in litigation if the agreement is not approved by the court or certain agreed terms are not fulfilled. The company has taken actions to cease manufacturing PFAS and remains on track to discontinue all PFAS manufacturing by the end of 2025.\n",
      "Original language: en\n",
      "Publish date: May 12, 2025 08:15 PM\n",
      "Source:[WFMZ.com](https://www.wfmz.com/news/pr_newswire/pr_newswire_technology/3m-resolves-pfas-related-claims-with-the-state-of-new-jersey/article_14dc8512-7d1d-513c-a844-10fe585d41d7.html)\n",
      "\n",
      "**VTB Bank Sues Perm Pharmacy Chain Owners for 2.13 Billion Rubles**\n",
      "VTB Bank has initiated a lawsuit against the owners of the Perm pharmacy chain 'Apteka ot Sklada', Nikolai Shavrin and Andrei Godovolov, seeking 2.13 billion rubles. The lawsuit was filed against OOO 'Shavrin and Godovolov' in the Arbitration Court of Moscow. 'A preliminary hearing is scheduled for June 23. A lawyer from Barnaul, Nikita Kanduarov, is participating as a third party in the process,' the arbitration case registry states. Previously, URA.RU reported that Sberbank had obtained the bankruptcy of the owners of the Perm chain 'Apteka ot Sklada' for 1.5 billion rubles. The Perm pharmacists are suspected of hiding funds. In December 2023, the property of businessmen Andrei Godovolov and Nikolai Shavrin was arrested. They jointly owned OOO 'Godovolov'. The company announced its liquidation, and the 'Apteka ot Sklada' network ceased operations. Godovolov acknowledged a debt of 4.27 billion rubles. Later, Shavrin filed a bankruptcy declaration, and Godovolov followed suit. The entrepreneurs were recognized as bankrupts. According to the SKR, the former owners of 'Apteka ot Sklada' may have hidden around 233.5 million rubles.\n",
      "Original language: ru\n",
      "Publish date: May 12, 2025 09:46 AM\n",
      "Source:[URA.RU](https://ura.news/news/1052931866)\n",
      "\n",
      "**3 Consumer Stocks That Caught Stocktwits Users' Eyes Last Week**\n",
      "Last week, consumer stocks were in focus due to significant news, including dour projections from hotel operators and packaged food brands, as well as WeightWatchers firm WW International filing for bankruptcy. Despite this, discretionary stocks advanced while staples declined. Three consumer stocks caught the attention of retail investors on Stocktwits: Penn Entertainment, down 21.1% YTD, due to its ongoing tussle with activist investor HG Vora Capital and missing quarterly sales and losses estimates; Nike, down 23% YTD, after CEO Elliott Hill reorganized the company's structure and provided an update on its turnaround plan; and Chipotle Mexican Grill, down 17.65% YTD, despite its shares rising in recent weeks despite lowering annual sales projections. 'Bad weather at the start of the year affected the business,' said management at Penn Entertainment.\n",
      "Original language: en\n",
      "Publish date: May 12, 2025 07:30 AM\n",
      "Source:[Asianet News Network Pvt Ltd](https://newsable.asianetnews.com/markets/3-consumer-stocks-that-caught-stocktwits-users-eyes-last-week/articleshow-f9z1b7h)\n",
      "\n",
      "**3 Consumer Stocks That Caught Stocktwits Users' Eyes Last Week By Stocktwits**\n",
      "Last week, consumer stocks were in focus due to significant news. While hotel operators like Marriott and Wynn Resorts made disappointing projections, WeightWatchers firm WW International filed for bankruptcy. However, discretionary stocks advanced while staples declined. Three consumer stocks caught the attention of retail investors on Stocktwits: Caesars Entertainment, Nike, and Chipotle Mexican Grill. Caesars Entertainment is involved in a dispute with activist investor HG Vora Capital, while Nike's CEO Elliott Hill reorganized the company's structure and provided an update on its turnaround plan. Chipotle Mexican Grill's shares have risen despite lowering its annual sales projections, but reversed on Friday due to weak results from Restaurant Brands.\n",
      "Original language: en\n",
      "Publish date: May 12, 2025 07:16 AM\n",
      "Source:[Investing.com India](https://in.investing.com/news/stock-market-news/3-consumer-stocks-that-caught-stocktwits-users-eyes-last-week-4823230)\n",
      "\n",
      "**Márquez & Asociados Constructora Desarrollista Declared Bankrupt**\n",
      "The 52nd Civil and Commercial Court of Córdoba declared the bankruptcy of Márquez & Asociados Constructora Desarrollista. Judge Sergio Ruiz described the process as 'a complex bankruptcy'. Creditors can submit their verification requests and relevant titles to the syndic until November 11, 2025. The court also announced that the syndic lottery will take place on May 13, 2025. The judge prohibited third parties from making direct payments to the company, and ordered the general inhibition of the company's assets and the unavailability of assets registered in its name. Additionally, he ordered the registration of the company's and its directors' (Juan Pablo Márquez and Ariel Hernán Márquez) incapacitation. The judge also ordered the sale of the company's assets. The syndic will present the individual credit report on June 25, 2026, and the verification of credits will be sentenced on December 18, 2026. The general report of the syndic is due on February 24, 2027. Judge Ruiz considered it 'essential' for the Public Prosecutor's Office, the Consumer Defense Offices, and the Office of Human Rights and Justice of the Judicial Power of the Province of Córdoba to participate in the process.\n",
      "Original language: es\n",
      "Publish date: May 12, 2025 01:50 AM\n",
      "Source:[lmdiario.com.ar](https://lmdiario.com.ar/contenido/480611/declararon-la-quiebra-de-la-empresa-constructora-marquez-asociados)\n",
      "\n",
      "**Expert: Russia to Go Bankrupt in 2026**\n",
      "Russian expert Malcolm Dixelius predicts that Russia will go bankrupt in 2026. He believes that Russia's President Vladimir Putin is now in need of a peace agreement, more than Ukraine. 'Russians are exhausted. The country is heading towards national bankruptcy in 2026. It's the Russians who are under the greatest pressure,' Dixelius said to Swedish Aftenposten. He points to US President Donald Trump's recent shift in stance, which appears to be more in favor of Ukrainian President Volodymyr Zelensky than Putin. 'The US has not completely changed course, but they have become much more accepting of Ukraine's description of reality. Russian attempts to take advantage of the opening Trump gave them have failed,' Dixelius said. Russia's poor economy and US support for Ukraine are two factors contributing to Russia's struggles. However, Ukraine has also managed to hit critical Russian infrastructure. China still has influence over Putin, and it's difficult to assess the impact of Chinese President Xi Jinping on Putin, as China is the only country that can lend Russia money.\n",
      "Original language: da\n",
      "Publish date: May 11, 2025 04:02 PM\n",
      "Source:[B.T.](https://www.bt.dk/content/item/1820887)\n",
      "\n",
      "**23andMe customers notified of bankruptcy and potential claims — deadline to file is July 14 | TechCrunch**\n",
      "23andMe customers have been notified of the company's bankruptcy and potential claims. The company filed for bankruptcy protection in October 2023, according to TechCrunch. A Cyber Security Incident Claim General Bar Date Package has been expressed, raising concerns about the privacy implications. $400 million remains on hold. TechCrunch has reached out to 23andMe for comment. Customers have until July 14 to file claims.\n",
      "Original language: en\n",
      "Publish date: May 11, 2025 01:01 PM\n",
      "Source:[techcrunch.com](https://techcrunch.com/2025/05/11/23andme-customers-notified-of-bankruptcy-and-potential-claims-deadline-to-file-is-july-14/)\n",
      "\n",
      "**Taurus AVM on the Brink of Bankruptcy: Creditors Gather for Concordato**\n",
      "The economic crisis in Turkey has led to financial difficulties for many large businesses, causing some to file for bankruptcy. Taurus AVM, a major shopping mall in Ankara, has also filed for bankruptcy and is seeking a concordato, a type of bankruptcy protection. The concordato commission has called a meeting for June 18, 2025, to which all creditors are invited. Creditors must bring identification and proof of their claims, and if represented by a third party, they must also bring a notarized document granting them the power to act on their behalf. If the claim is based on a promissory note, bond, or other financial instrument, the creditor must bring the original document and a photocopy of both sides. Creditors who cannot attend in person can submit their votes in writing within seven days after the meeting.\n",
      "Original language: tr\n",
      "Publish date: May 06, 2025 04:45 AM\n",
      "Source:[Sözcü Gazetesi](https://www.sozcu.com.tr/dev-avm-iflasin-esiginde-taurus-avm-icin-alacaklilar-toplaniyor-p170978)\n",
      "\n",
      "**Every 3M Investor Should Keep an Eye on These 3 Numbers**\n",
      "3M's stock has surged by over 50% in the past year after a large settlement related to PFAS production. However, the company still faces potential lawsuits, which could impact its financial stability. 3M's return on assets (ROA) has jumped back to historical levels, but its return on equity (ROE) has rebounded due to increased debt levels. This dynamic is crucial for investors to understand, as high debt levels can be unsustainable and potentially lead to bankruptcy. 3M's debt-to-equity levels have risen substantially since the PFAS legal troubles began, and additional litigation could lead to financial instability in the next few years.\n",
      "Original language: en\n",
      "Publish date: April 03, 2025 12:15 PM\n",
      "Source:[Yahoo! Finance](https://finance.yahoo.com/news/every-3m-investor-keep-eye-121500554.html)\n",
      "\n",
      "**Restructuring Roundup - March 2025**\n",
      "Several companies have filed for bankruptcy in March 2025, including Village Roadshow Entertainment Group, Forever 21, Northvolt AB, FTX, Joann, and SBLA Beauty. Forever 21 blamed fast-fashion e-tailers Shein and Temu for its demise. A Delaware bankruptcy court sided with failed hedge fund Three Arrows Capital (3AC), approving a dramatic increase in its claim against FTX from $120 million to $1.53 billion. Private-credit firms are expanding their restructuring teams amid the surge in corporate bankruptcies and distressed exchanges.\n",
      "Original language: en\n",
      "Publish date: April 01, 2025 11:35 PM\n",
      "Source:[JD Supra](https://www.jdsupra.com/legalnews/restructuring-roundup-march-2025-9695242/)\n",
      "\n",
      "**3M CEO outlines future growth strategy and financial commitments at 2025 Investor Day By Investing.com**\n",
      "3M CEO Bill Brown outlined the company's future growth strategy and financial commitments at the 2025 Investor Day. Despite global turbulence, 3M met its financial commitments in 2024, delivering earnings per share at the top end of the range and returning $3.8 billion to shareholders. Looking ahead, Brown emphasized the importance of execution and constancy of purpose, with a new performance culture defined by customer delight, clear performance expectations, speed, urgency, and continuous improvement. The company's three priorities are reinvigorating top-line growth, driving operational performance, and effectively deploying capital. To achieve these goals, 3M plans to increase innovation, improve commercial excellence, launch a new operating system called 3M Excellence, and invest $3.5 billion in R&D over the next three years. The company aims to outperform the macro with earnings per share up 4 to 8% in 2025, accelerating to high single digits in 2026 and 2027, and return about $10 billion to shareholders.\n",
      "Original language: en\n",
      "Publish date: February 26, 2025 08:25 PM\n",
      "Source:[Investing.com](https://www.investing.com/news/stock-market-news/3m-ceo-outlines-future-growth-strategy-and-financial-commitments-at-2025-investor-day-93CH-3893893)\n",
      "\n",
      "**3M Expects Profit to Continue Growing in 2026 and 2027**\n",
      "3M expects its profit to continue growing in 2026 and 2027. The US company announced this on Wednesday ahead of an investor day. 3M forecasts a significant single-digit percentage increase in earnings per share, while autonomous revenue growth over the next two years will be stronger than that of the broader economy. This is expected to lead to an operating margin of 25% in 2027. The company also reaffirmed its expectations for the 2025 fiscal year. The stock was slightly lower in pre-market trading.\n",
      "Original language: nl\n",
      "Publish date: February 26, 2025 01:42 PM\n",
      "Source:[deaandeelhouder.nl](https://www.deaandeelhouder.nl/nieuws/2025/02/26/3m-ziet-winst-verder-groeien/)\n",
      "\n",
      "**3M Provides Medium-Term Financial Outlook at 2025 Investor Day; Presents Strategic Priorities that Will Drive Growth, Operational Excellence, and Return Cash to Shareholders By Investing.com**\n",
      "3M hosted its 2025 Investor Day, where the company provided its medium-term financial outlook and discussed priorities that will drive growth, operational excellence, and return cash to shareholders. 3M reiterates its 2025 guidance and provides adjusted outlook for 2026 and 2027. The company aims to capitalize on opportunities to deliver value for customers and shareholders through its new performance-based culture and 3M eXcellence operating system. According to William Brown, 3M Chief Executive Officer, '3M is an iconic company with an unmatched spirit of innovation.' The company also discussed its plans to exit PFAS manufacturing and work to discontinue use of PFAS across its product portfolio, as well as its class-action settlement to resolve claims by public water suppliers in the United States regarding PFAS. 3M encourages investors to review the information posted on its news center and social media channels for material information.\n",
      "Original language: en\n",
      "Publish date: February 26, 2025 11:36 AM\n",
      "Source:[Investing.com](https://www.investing.com/news/press-releases/3m-provides-mediumterm-financial-outlook-at-2025-investor-day-presents-strategic-priorities-that-will-drive-growth-operational-excellence-and-return-cash-to-shareholders-93CH-3892119)\n",
      "\n",
      "**Three Rivers Festival canceled for 2025 as board approves motion to file for bankruptcy**\n",
      "The Three Rivers Festival Board has voted to file for bankruptcy, effectively canceling the festival for the 2025 season. Board member Jason Cowan stated that the growth of downtown Fort Wayne has made the festival unsustainable, especially with its nine-day length. The festival has been struggling financially for years, with TRF Board President Sarah Roach stating that the organization has not made money in almost all of those years. Some board members still have hope for the festival's future, with Cowan suggesting a smaller scale event highlighting local businesses and Campbell looking for outside funding. The future of the parade is unclear, but some board members think it may still be possible to hold one in 2025.\n",
      "Original language: en\n",
      "Publish date: February 11, 2025 12:20 AM\n",
      "Source:[wane.com](https://www.wane.com/top-stories/three-rivers-festival-passes-motion-to-file-for-bankruptcy-canceling-festival-for-2025/)\n",
      "\n",
      "**Pakun Üretim Gıda Sanayi ve Ticaret Anonim Şirketi Files for Bankruptcy**\n",
      "Pakun Üretim Gıda Sanayi ve Ticaret Anonim Şirketi, which was listed on the Borsa İstanbul in October, has filed for bankruptcy just three months later. The Samsun Asliye Ticaret Mahkemesi has appointed a three-member concordato commissioner board to investigate the company's financial situation. The board consists of Independent Auditor and Certified Public Accountant Fuat Kubilay, Certified Public Accountant Deniz Eroğlu, and lawyer Bülent Köksal. Pakun, which is one of the leading companies in the food sector, was ranked 478th in the Fortune 500 list in 2023 and achieved 3.844 billion lira in net sales in 2023. The company's chairman, Niyazi Durgun, stated that they aimed to invest the income they planned to obtain through the public offering, but due to difficulties in accessing cheap financing and the economic conditions in Turkey, they decided to file for bankruptcy. The report prepared by the concordato commissioner board will be crucial for the company's future. In April, the court will evaluate the report and decide whether to grant the company an additional moratorium or declare bankruptcy if the economic obligations are not fulfilled.\n",
      "Original language: tr\n",
      "Publish date: January 27, 2025 06:49 AM\n",
      "Source:[merhabahaber.com](https://www.merhabahaber.com/turkiyede-ilk-500e-giren-sirket-konkordato-ilan-etti-3-ay-sure-verildi-1901521h.htm)\n",
      "\n",
      "**WOM Colombia Saved from Bankruptcy: The Colombian Government's Indirect Role**\n",
      "WOM Colombia, acquired by SUR Holdings, has been saved from bankruptcy. According to the company, they will continue to pay for and deploy their 5G network as per the scheduled plans. The company remains under the reorganization process of Law 1116. The Colombian government, which was one of the creditors, will receive approximately $150 million in 2029, indexed to the constant value, as part of the agreement. As stated by Lizcano, 'If the company had gone bankrupt, we would have all been left without resources. Even the government, which was in fourth place among the creditors. Now, with this new agreement, we are in second place in terms of payments and resources that the government is deferring, because they will receive them in 2029 indexed to the constant value, which could be around $150 million. We could say that the government is indirectly saving the company in this way.'\n",
      "Original language: es\n",
      "Publish date: January 15, 2025 04:55 PM\n",
      "Source:[Semana.com   Últimas Noticias de Colombia y el Mundo](https://www.semana.com/economia/empresas/articulo/asi-se-salvo-wom-colombia-adquirida-por-sur-holdings-cual-fue-la-apuesta-del-gobierno/202553/)\n",
      "\n",
      "\n",
      "===============================\n",
      "\n",
      "LEARNING\n",
      "\n",
      "[]\n",
      "===============================\n",
      "\n"
     ]
    }
   ],
   "source": [
    "for item, value in row.items():\n",
    "    print(item.upper())\n",
    "    print()\n",
    "    print(value)\n",
    "    print('===============================')\n",
    "    print()"
   ]
  },
  {
   "cell_type": "code",
   "execution_count": 15,
   "id": "01582b8b-4070-4892-afc9-b79e755c90ff",
   "metadata": {},
   "outputs": [
    {
     "data": {
      "text/plain": [
       "'This question will resolve as **Yes** if there is an 8-K filing stating that the entity filing with the SEC under the Central Index Key (CIK) number 66740 has filed or intends to file a petition in bankruptcy court under Chapter 11 reorganization or Chapter 7 liquidation before January 1, 2026'"
      ]
     },
     "execution_count": 15,
     "metadata": {},
     "output_type": "execute_result"
    }
   ],
   "source": [
    "row.question_resolution_criteria"
   ]
  },
  {
   "cell_type": "code",
   "execution_count": 16,
   "id": "17775bc2-96c8-4667-87af-63f4c3ffc83c",
   "metadata": {},
   "outputs": [],
   "source": [
    "prompt2 = f\"\"\"\n",
    "You are the intelligence community's best geopolitical, economic and overall news trivia forecaster.  \n",
    "You are given the following information to make a prediction:\n",
    "\n",
    "```title\n",
    "{row.title}\n",
    "```\n",
    "\n",
    "```news\n",
    "{row.asknews}\n",
    "\n",
    "```research\n",
    "{row.research}\n",
    "```\n",
    "\n",
    "The question defines an event and resolves as YES if the event occurs, otherwise NO. \n",
    "You are forecasting the probability of YES.\n",
    "The event is described by the RESOLUTION CRITERIA.\n",
    "\n",
    "```resolution_criteria\n",
    "{row.question_resolution_criteria}\n",
    "```\n",
    "\n",
    "The last thing you write is your final answer as: \"Probability: ZZ%\", 0-100\n",
    "\"\"\""
   ]
  },
  {
   "cell_type": "code",
   "execution_count": 17,
   "id": "0c61abbd-ff80-43a7-8244-ac213fbf2107",
   "metadata": {},
   "outputs": [
    {
     "name": "stdout",
     "output_type": "stream",
     "text": [
      "\n",
      "You are the intelligence community's best geopolitical, economic and overall news trivia forecaster.  \n",
      "You are given the following information to make a prediction:\n",
      "\n",
      "```title\n",
      "Will 3M file for bankruptcy before 2026?\n",
      "```\n",
      "\n",
      "```news\n",
      "Here are the relevant news articles:\n",
      "\n",
      "**3M settles PFAS claims with New Jersey for $285 million**\n",
      "3M has reached an agreement to settle all historical claims related to the Chambers Works site in Salem County, New Jersey, as well as broader state-wide claims regarding per- and polyfluoroalkyl substances (PFAS). The agreement, pending judicial approval, includes a commitment of approximately $210 million in present value before taxes for the Chambers Works litigation and an additional $75 million to address current and future claims from 2030 to 2050. According to InvestingPro's analysis, the stock appears slightly overvalued at current levels. 3M has provided PFAS to DuPont at the Chambers Works site until 2001 and has since taken steps to withdraw from PFAS manufacturing, planning to stop all PFAS production by the end of 2025. The agreement does not constitute an admission of liability by 3M, but aims to bring finality and prevent further litigation. If the agreement does not receive court approval or certain conditions are not met, 3M is prepared to continue its defense. Financially, 3M will record a charge before taxes of approximately $285 million in the second quarter of 2025, reflecting the impact of the agreement. The payment structure is designed to align with the company's other financial obligations, ensuring a predictable cash flow over the next 25 years. The company maintains a strong financial position with an EBITDA of $5.328 billion and a general liquidity ratio of 1.66. InvestingPro subscribers can access detailed metrics on the company's financial health and over 12 additional ProTips on 3M's debt management strategy.\n",
      "Original language: fr\n",
      "Publish date: May 12, 2025 08:28 PM\n",
      "Source:[Investing.com France](https://fr.investing.com/news/company-news/3m-regle-les-reclamations-pfas-du-new-jersey-avec-une-charge-de-285-millions--93CH-2877454)\n",
      "\n",
      "**3M Company Reaches $285 Million Settlement with New Jersey over PFAS Claims**\n",
      "3M Company (NYSE: MMM) has reached a settlement of $285 million to resolve past claims related to the Chambers Works plant in Salem County, New Jersey, and a broader statewide claim related to per- and polyfluoroalkyl substances (PFAS). The company, currently trading at a market value of $80.68 billion and a stock price of $150.35, has agreed to pay approximately $210 million in pre-tax present value for the Chambers Works lawsuit and an additional $75 million in payments for the statewide claim from 2030 to 2050. According to InvestingPro's analysis, the company's stock is slightly overvalued at current levels. The Chambers Works plant, formerly owned by DuPont and currently owned by Kemira, has been sued by New Jersey over PFAS contamination issues. 3M Company supplied PFAS to DuPont from 2001 until it phased out PFAS production in 2025. The settlement does not acknowledge 3M Company's responsibility but aims to provide a final resolution and prevent further lawsuits. If the agreement is not approved by the court or certain conditions are not met, 3M Company will continue to defend itself. From a financial perspective, 3M Company expects to record a pre-tax charge of $285 million in the second quarter of 2025, reflecting the impact of the settlement. The payment structure is designed to align with the company's other financial obligations and ensure predictable cash flows over the next 25 years. The company maintains a solid financial position with EBITDA of $532.8 million and a current ratio of 1.66. InvestingPro subscribers have access to detailed financial health metrics and 12 additional ProTips. This agreement is part of 3M Company's larger strategy to manage risk and focus on business excellence and profitable growth, contributing to an 11.01% return since the beginning of the year. The company has been valued by the state for stopping PFAS production, a move not taken by other companies. With annual revenue of $24.51 billion and a financial health score of 'adequate' from InvestingPro, 3M Company continues to demonstrate resilience in managing environmental challenges while maintaining business stability.\n",
      "Original language: ja\n",
      "Publish date: May 12, 2025 08:28 PM\n",
      "Source:[Investing.com 日本](https://jp.investing.com/news/company-news/article-93CH-1110438)\n",
      "\n",
      "**3M Resolves PFAS-Related Claims with the State of New Jersey**\n",
      "3M has reached an agreement with the State of New Jersey to resolve all legacy claims related to the Chambers Works site in Salem County, New Jersey. The agreement includes a pre-tax present value commitment of approximately $210 million to resolve the legacy Chambers Works litigation and other elements of the settlement, as well as a pre-tax present value commitment of approximately $75 million to resolve current and future statewide claims starting in 2030 and running through 2050. 3M has agreed to contribute amounts payable over 25 years, with payments aligned to reflect other company obligations. The company expects to record a pre-tax charge of approximately $285 million in the second quarter of 2025. The agreement is not an admission of liability and 3M is prepared to continue to defend itself in litigation if the agreement is not approved by the court or certain agreed terms are not fulfilled. The company has taken actions to cease manufacturing PFAS and remains on track to discontinue all PFAS manufacturing by the end of 2025.\n",
      "Original language: en\n",
      "Publish date: May 12, 2025 08:15 PM\n",
      "Source:[WFMZ.com](https://www.wfmz.com/news/pr_newswire/pr_newswire_technology/3m-resolves-pfas-related-claims-with-the-state-of-new-jersey/article_14dc8512-7d1d-513c-a844-10fe585d41d7.html)\n",
      "\n",
      "**3 Consumer Stocks That Caught Stocktwits Users' Eyes Last Week By Stocktwits**\n",
      "Last week, consumer stocks were in focus due to significant news. While hotel operators like Marriott and Wynn Resorts made disappointing projections, WeightWatchers firm WW International filed for bankruptcy. However, discretionary stocks advanced while staples declined. Three consumer stocks caught the attention of retail investors on Stocktwits: Caesars Entertainment, Nike, and Chipotle Mexican Grill. Caesars Entertainment is involved in a dispute with activist investor HG Vora Capital, while Nike's CEO Elliott Hill reorganized the company's structure and provided an update on its turnaround plan. Chipotle Mexican Grill's shares have risen despite lowering its annual sales projections, but reversed on Friday due to weak results from Restaurant Brands.\n",
      "Original language: en\n",
      "Publish date: May 12, 2025 07:16 AM\n",
      "Source:[Investing.com India](https://in.investing.com/news/stock-market-news/3-consumer-stocks-that-caught-stocktwits-users-eyes-last-week-4823230)\n",
      "\n",
      "**Expert: Russia to Go Bankrupt in 2026**\n",
      "Russian expert Malcolm Dixelius predicts that Russia will go bankrupt in 2026. He believes that Russia's President Vladimir Putin is now in need of a peace agreement, more than Ukraine. 'Russians are exhausted. The country is heading towards national bankruptcy in 2026. It's the Russians who are under the greatest pressure,' Dixelius said to Swedish Aftenposten. He points to US President Donald Trump's recent shift in stance, which appears to be more in favor of Ukrainian President Volodymyr Zelensky than Putin. 'The US has not completely changed course, but they have become much more accepting of Ukraine's description of reality. Russian attempts to take advantage of the opening Trump gave them have failed,' Dixelius said. Russia's poor economy and US support for Ukraine are two factors contributing to Russia's struggles. However, Ukraine has also managed to hit critical Russian infrastructure. China still has influence over Putin, and it's difficult to assess the impact of Chinese President Xi Jinping on Putin, as China is the only country that can lend Russia money.\n",
      "Original language: da\n",
      "Publish date: May 11, 2025 04:02 PM\n",
      "Source:[B.T.](https://www.bt.dk/content/item/1820887)\n",
      "\n",
      "**23andMe customers notified of bankruptcy and potential claims — deadline to file is July 14 | TechCrunch**\n",
      "23andMe customers have been notified of the company's bankruptcy and potential claims. The company filed for bankruptcy protection in October 2023, according to TechCrunch. A Cyber Security Incident Claim General Bar Date Package has been expressed, raising concerns about the privacy implications. $400 million remains on hold. TechCrunch has reached out to 23andMe for comment. Customers have until July 14 to file claims.\n",
      "Original language: en\n",
      "Publish date: May 11, 2025 01:01 PM\n",
      "Source:[techcrunch.com](https://techcrunch.com/2025/05/11/23andme-customers-notified-of-bankruptcy-and-potential-claims-deadline-to-file-is-july-14/)\n",
      "\n",
      "**3M settles PFAS claims with New Jersey for $285 million**\n",
      "3M has reached an agreement to settle all historical claims related to the Chambers Works site in Salem County, New Jersey, as well as broader state-wide claims regarding per- and polyfluoroalkyl substances (PFAS). The agreement, pending judicial approval, includes a commitment of approximately $210 million in present value before taxes for the Chambers Works litigation and an additional $75 million to address current and future claims from 2030 to 2050. According to InvestingPro's analysis, the stock appears slightly overvalued at current levels. 3M has provided PFAS to DuPont at the Chambers Works site until 2001 and has since taken steps to withdraw from PFAS manufacturing, planning to stop all PFAS production by the end of 2025. The agreement does not constitute an admission of liability by 3M, but aims to bring finality and prevent further litigation. If the agreement does not receive court approval or certain conditions are not met, 3M is prepared to continue its defense. Financially, 3M will record a charge before taxes of approximately $285 million in the second quarter of 2025, reflecting the impact of the agreement. The payment structure is designed to align with the company's other financial obligations, ensuring a predictable cash flow over the next 25 years. The company maintains a strong financial position with an EBITDA of $5.328 billion and a general liquidity ratio of 1.66. InvestingPro subscribers can access detailed metrics on the company's financial health and over 12 additional ProTips on 3M's debt management strategy.\n",
      "Original language: fr\n",
      "Publish date: May 12, 2025 08:28 PM\n",
      "Source:[Investing.com France](https://fr.investing.com/news/company-news/3m-regle-les-reclamations-pfas-du-new-jersey-avec-une-charge-de-285-millions--93CH-2877454)\n",
      "\n",
      "**3M Company Reaches $285 Million Settlement with New Jersey over PFAS Claims**\n",
      "3M Company (NYSE: MMM) has reached a settlement of $285 million to resolve past claims related to the Chambers Works plant in Salem County, New Jersey, and a broader statewide claim related to per- and polyfluoroalkyl substances (PFAS). The company, currently trading at a market value of $80.68 billion and a stock price of $150.35, has agreed to pay approximately $210 million in pre-tax present value for the Chambers Works lawsuit and an additional $75 million in payments for the statewide claim from 2030 to 2050. According to InvestingPro's analysis, the company's stock is slightly overvalued at current levels. The Chambers Works plant, formerly owned by DuPont and currently owned by Kemira, has been sued by New Jersey over PFAS contamination issues. 3M Company supplied PFAS to DuPont from 2001 until it phased out PFAS production in 2025. The settlement does not acknowledge 3M Company's responsibility but aims to provide a final resolution and prevent further lawsuits. If the agreement is not approved by the court or certain conditions are not met, 3M Company will continue to defend itself. From a financial perspective, 3M Company expects to record a pre-tax charge of $285 million in the second quarter of 2025, reflecting the impact of the settlement. The payment structure is designed to align with the company's other financial obligations and ensure predictable cash flows over the next 25 years. The company maintains a solid financial position with EBITDA of $532.8 million and a current ratio of 1.66. InvestingPro subscribers have access to detailed financial health metrics and 12 additional ProTips. This agreement is part of 3M Company's larger strategy to manage risk and focus on business excellence and profitable growth, contributing to an 11.01% return since the beginning of the year. The company has been valued by the state for stopping PFAS production, a move not taken by other companies. With annual revenue of $24.51 billion and a financial health score of 'adequate' from InvestingPro, 3M Company continues to demonstrate resilience in managing environmental challenges while maintaining business stability.\n",
      "Original language: ja\n",
      "Publish date: May 12, 2025 08:28 PM\n",
      "Source:[Investing.com 日本](https://jp.investing.com/news/company-news/article-93CH-1110438)\n",
      "\n",
      "**3M Resolves PFAS-Related Claims with the State of New Jersey**\n",
      "3M has reached an agreement with the State of New Jersey to resolve all legacy claims related to the Chambers Works site in Salem County, New Jersey. The agreement includes a pre-tax present value commitment of approximately $210 million to resolve the legacy Chambers Works litigation and other elements of the settlement, as well as a pre-tax present value commitment of approximately $75 million to resolve current and future statewide claims starting in 2030 and running through 2050. 3M has agreed to contribute amounts payable over 25 years, with payments aligned to reflect other company obligations. The company expects to record a pre-tax charge of approximately $285 million in the second quarter of 2025. The agreement is not an admission of liability and 3M is prepared to continue to defend itself in litigation if the agreement is not approved by the court or certain agreed terms are not fulfilled. The company has taken actions to cease manufacturing PFAS and remains on track to discontinue all PFAS manufacturing by the end of 2025.\n",
      "Original language: en\n",
      "Publish date: May 12, 2025 08:15 PM\n",
      "Source:[WFMZ.com](https://www.wfmz.com/news/pr_newswire/pr_newswire_technology/3m-resolves-pfas-related-claims-with-the-state-of-new-jersey/article_14dc8512-7d1d-513c-a844-10fe585d41d7.html)\n",
      "\n",
      "**VTB Bank Sues Perm Pharmacy Chain Owners for 2.13 Billion Rubles**\n",
      "VTB Bank has initiated a lawsuit against the owners of the Perm pharmacy chain 'Apteka ot Sklada', Nikolai Shavrin and Andrei Godovolov, seeking 2.13 billion rubles. The lawsuit was filed against OOO 'Shavrin and Godovolov' in the Arbitration Court of Moscow. 'A preliminary hearing is scheduled for June 23. A lawyer from Barnaul, Nikita Kanduarov, is participating as a third party in the process,' the arbitration case registry states. Previously, URA.RU reported that Sberbank had obtained the bankruptcy of the owners of the Perm chain 'Apteka ot Sklada' for 1.5 billion rubles. The Perm pharmacists are suspected of hiding funds. In December 2023, the property of businessmen Andrei Godovolov and Nikolai Shavrin was arrested. They jointly owned OOO 'Godovolov'. The company announced its liquidation, and the 'Apteka ot Sklada' network ceased operations. Godovolov acknowledged a debt of 4.27 billion rubles. Later, Shavrin filed a bankruptcy declaration, and Godovolov followed suit. The entrepreneurs were recognized as bankrupts. According to the SKR, the former owners of 'Apteka ot Sklada' may have hidden around 233.5 million rubles.\n",
      "Original language: ru\n",
      "Publish date: May 12, 2025 09:46 AM\n",
      "Source:[URA.RU](https://ura.news/news/1052931866)\n",
      "\n",
      "**3 Consumer Stocks That Caught Stocktwits Users' Eyes Last Week**\n",
      "Last week, consumer stocks were in focus due to significant news, including dour projections from hotel operators and packaged food brands, as well as WeightWatchers firm WW International filing for bankruptcy. Despite this, discretionary stocks advanced while staples declined. Three consumer stocks caught the attention of retail investors on Stocktwits: Penn Entertainment, down 21.1% YTD, due to its ongoing tussle with activist investor HG Vora Capital and missing quarterly sales and losses estimates; Nike, down 23% YTD, after CEO Elliott Hill reorganized the company's structure and provided an update on its turnaround plan; and Chipotle Mexican Grill, down 17.65% YTD, despite its shares rising in recent weeks despite lowering annual sales projections. 'Bad weather at the start of the year affected the business,' said management at Penn Entertainment.\n",
      "Original language: en\n",
      "Publish date: May 12, 2025 07:30 AM\n",
      "Source:[Asianet News Network Pvt Ltd](https://newsable.asianetnews.com/markets/3-consumer-stocks-that-caught-stocktwits-users-eyes-last-week/articleshow-f9z1b7h)\n",
      "\n",
      "**3 Consumer Stocks That Caught Stocktwits Users' Eyes Last Week By Stocktwits**\n",
      "Last week, consumer stocks were in focus due to significant news. While hotel operators like Marriott and Wynn Resorts made disappointing projections, WeightWatchers firm WW International filed for bankruptcy. However, discretionary stocks advanced while staples declined. Three consumer stocks caught the attention of retail investors on Stocktwits: Caesars Entertainment, Nike, and Chipotle Mexican Grill. Caesars Entertainment is involved in a dispute with activist investor HG Vora Capital, while Nike's CEO Elliott Hill reorganized the company's structure and provided an update on its turnaround plan. Chipotle Mexican Grill's shares have risen despite lowering its annual sales projections, but reversed on Friday due to weak results from Restaurant Brands.\n",
      "Original language: en\n",
      "Publish date: May 12, 2025 07:16 AM\n",
      "Source:[Investing.com India](https://in.investing.com/news/stock-market-news/3-consumer-stocks-that-caught-stocktwits-users-eyes-last-week-4823230)\n",
      "\n",
      "**Márquez & Asociados Constructora Desarrollista Declared Bankrupt**\n",
      "The 52nd Civil and Commercial Court of Córdoba declared the bankruptcy of Márquez & Asociados Constructora Desarrollista. Judge Sergio Ruiz described the process as 'a complex bankruptcy'. Creditors can submit their verification requests and relevant titles to the syndic until November 11, 2025. The court also announced that the syndic lottery will take place on May 13, 2025. The judge prohibited third parties from making direct payments to the company, and ordered the general inhibition of the company's assets and the unavailability of assets registered in its name. Additionally, he ordered the registration of the company's and its directors' (Juan Pablo Márquez and Ariel Hernán Márquez) incapacitation. The judge also ordered the sale of the company's assets. The syndic will present the individual credit report on June 25, 2026, and the verification of credits will be sentenced on December 18, 2026. The general report of the syndic is due on February 24, 2027. Judge Ruiz considered it 'essential' for the Public Prosecutor's Office, the Consumer Defense Offices, and the Office of Human Rights and Justice of the Judicial Power of the Province of Córdoba to participate in the process.\n",
      "Original language: es\n",
      "Publish date: May 12, 2025 01:50 AM\n",
      "Source:[lmdiario.com.ar](https://lmdiario.com.ar/contenido/480611/declararon-la-quiebra-de-la-empresa-constructora-marquez-asociados)\n",
      "\n",
      "**Expert: Russia to Go Bankrupt in 2026**\n",
      "Russian expert Malcolm Dixelius predicts that Russia will go bankrupt in 2026. He believes that Russia's President Vladimir Putin is now in need of a peace agreement, more than Ukraine. 'Russians are exhausted. The country is heading towards national bankruptcy in 2026. It's the Russians who are under the greatest pressure,' Dixelius said to Swedish Aftenposten. He points to US President Donald Trump's recent shift in stance, which appears to be more in favor of Ukrainian President Volodymyr Zelensky than Putin. 'The US has not completely changed course, but they have become much more accepting of Ukraine's description of reality. Russian attempts to take advantage of the opening Trump gave them have failed,' Dixelius said. Russia's poor economy and US support for Ukraine are two factors contributing to Russia's struggles. However, Ukraine has also managed to hit critical Russian infrastructure. China still has influence over Putin, and it's difficult to assess the impact of Chinese President Xi Jinping on Putin, as China is the only country that can lend Russia money.\n",
      "Original language: da\n",
      "Publish date: May 11, 2025 04:02 PM\n",
      "Source:[B.T.](https://www.bt.dk/content/item/1820887)\n",
      "\n",
      "**23andMe customers notified of bankruptcy and potential claims — deadline to file is July 14 | TechCrunch**\n",
      "23andMe customers have been notified of the company's bankruptcy and potential claims. The company filed for bankruptcy protection in October 2023, according to TechCrunch. A Cyber Security Incident Claim General Bar Date Package has been expressed, raising concerns about the privacy implications. $400 million remains on hold. TechCrunch has reached out to 23andMe for comment. Customers have until July 14 to file claims.\n",
      "Original language: en\n",
      "Publish date: May 11, 2025 01:01 PM\n",
      "Source:[techcrunch.com](https://techcrunch.com/2025/05/11/23andme-customers-notified-of-bankruptcy-and-potential-claims-deadline-to-file-is-july-14/)\n",
      "\n",
      "**Taurus AVM on the Brink of Bankruptcy: Creditors Gather for Concordato**\n",
      "The economic crisis in Turkey has led to financial difficulties for many large businesses, causing some to file for bankruptcy. Taurus AVM, a major shopping mall in Ankara, has also filed for bankruptcy and is seeking a concordato, a type of bankruptcy protection. The concordato commission has called a meeting for June 18, 2025, to which all creditors are invited. Creditors must bring identification and proof of their claims, and if represented by a third party, they must also bring a notarized document granting them the power to act on their behalf. If the claim is based on a promissory note, bond, or other financial instrument, the creditor must bring the original document and a photocopy of both sides. Creditors who cannot attend in person can submit their votes in writing within seven days after the meeting.\n",
      "Original language: tr\n",
      "Publish date: May 06, 2025 04:45 AM\n",
      "Source:[Sözcü Gazetesi](https://www.sozcu.com.tr/dev-avm-iflasin-esiginde-taurus-avm-icin-alacaklilar-toplaniyor-p170978)\n",
      "\n",
      "**Every 3M Investor Should Keep an Eye on These 3 Numbers**\n",
      "3M's stock has surged by over 50% in the past year after a large settlement related to PFAS production. However, the company still faces potential lawsuits, which could impact its financial stability. 3M's return on assets (ROA) has jumped back to historical levels, but its return on equity (ROE) has rebounded due to increased debt levels. This dynamic is crucial for investors to understand, as high debt levels can be unsustainable and potentially lead to bankruptcy. 3M's debt-to-equity levels have risen substantially since the PFAS legal troubles began, and additional litigation could lead to financial instability in the next few years.\n",
      "Original language: en\n",
      "Publish date: April 03, 2025 12:15 PM\n",
      "Source:[Yahoo! Finance](https://finance.yahoo.com/news/every-3m-investor-keep-eye-121500554.html)\n",
      "\n",
      "**Restructuring Roundup - March 2025**\n",
      "Several companies have filed for bankruptcy in March 2025, including Village Roadshow Entertainment Group, Forever 21, Northvolt AB, FTX, Joann, and SBLA Beauty. Forever 21 blamed fast-fashion e-tailers Shein and Temu for its demise. A Delaware bankruptcy court sided with failed hedge fund Three Arrows Capital (3AC), approving a dramatic increase in its claim against FTX from $120 million to $1.53 billion. Private-credit firms are expanding their restructuring teams amid the surge in corporate bankruptcies and distressed exchanges.\n",
      "Original language: en\n",
      "Publish date: April 01, 2025 11:35 PM\n",
      "Source:[JD Supra](https://www.jdsupra.com/legalnews/restructuring-roundup-march-2025-9695242/)\n",
      "\n",
      "**3M CEO outlines future growth strategy and financial commitments at 2025 Investor Day By Investing.com**\n",
      "3M CEO Bill Brown outlined the company's future growth strategy and financial commitments at the 2025 Investor Day. Despite global turbulence, 3M met its financial commitments in 2024, delivering earnings per share at the top end of the range and returning $3.8 billion to shareholders. Looking ahead, Brown emphasized the importance of execution and constancy of purpose, with a new performance culture defined by customer delight, clear performance expectations, speed, urgency, and continuous improvement. The company's three priorities are reinvigorating top-line growth, driving operational performance, and effectively deploying capital. To achieve these goals, 3M plans to increase innovation, improve commercial excellence, launch a new operating system called 3M Excellence, and invest $3.5 billion in R&D over the next three years. The company aims to outperform the macro with earnings per share up 4 to 8% in 2025, accelerating to high single digits in 2026 and 2027, and return about $10 billion to shareholders.\n",
      "Original language: en\n",
      "Publish date: February 26, 2025 08:25 PM\n",
      "Source:[Investing.com](https://www.investing.com/news/stock-market-news/3m-ceo-outlines-future-growth-strategy-and-financial-commitments-at-2025-investor-day-93CH-3893893)\n",
      "\n",
      "**3M Expects Profit to Continue Growing in 2026 and 2027**\n",
      "3M expects its profit to continue growing in 2026 and 2027. The US company announced this on Wednesday ahead of an investor day. 3M forecasts a significant single-digit percentage increase in earnings per share, while autonomous revenue growth over the next two years will be stronger than that of the broader economy. This is expected to lead to an operating margin of 25% in 2027. The company also reaffirmed its expectations for the 2025 fiscal year. The stock was slightly lower in pre-market trading.\n",
      "Original language: nl\n",
      "Publish date: February 26, 2025 01:42 PM\n",
      "Source:[deaandeelhouder.nl](https://www.deaandeelhouder.nl/nieuws/2025/02/26/3m-ziet-winst-verder-groeien/)\n",
      "\n",
      "**3M Provides Medium-Term Financial Outlook at 2025 Investor Day; Presents Strategic Priorities that Will Drive Growth, Operational Excellence, and Return Cash to Shareholders By Investing.com**\n",
      "3M hosted its 2025 Investor Day, where the company provided its medium-term financial outlook and discussed priorities that will drive growth, operational excellence, and return cash to shareholders. 3M reiterates its 2025 guidance and provides adjusted outlook for 2026 and 2027. The company aims to capitalize on opportunities to deliver value for customers and shareholders through its new performance-based culture and 3M eXcellence operating system. According to William Brown, 3M Chief Executive Officer, '3M is an iconic company with an unmatched spirit of innovation.' The company also discussed its plans to exit PFAS manufacturing and work to discontinue use of PFAS across its product portfolio, as well as its class-action settlement to resolve claims by public water suppliers in the United States regarding PFAS. 3M encourages investors to review the information posted on its news center and social media channels for material information.\n",
      "Original language: en\n",
      "Publish date: February 26, 2025 11:36 AM\n",
      "Source:[Investing.com](https://www.investing.com/news/press-releases/3m-provides-mediumterm-financial-outlook-at-2025-investor-day-presents-strategic-priorities-that-will-drive-growth-operational-excellence-and-return-cash-to-shareholders-93CH-3892119)\n",
      "\n",
      "**Three Rivers Festival canceled for 2025 as board approves motion to file for bankruptcy**\n",
      "The Three Rivers Festival Board has voted to file for bankruptcy, effectively canceling the festival for the 2025 season. Board member Jason Cowan stated that the growth of downtown Fort Wayne has made the festival unsustainable, especially with its nine-day length. The festival has been struggling financially for years, with TRF Board President Sarah Roach stating that the organization has not made money in almost all of those years. Some board members still have hope for the festival's future, with Cowan suggesting a smaller scale event highlighting local businesses and Campbell looking for outside funding. The future of the parade is unclear, but some board members think it may still be possible to hold one in 2025.\n",
      "Original language: en\n",
      "Publish date: February 11, 2025 12:20 AM\n",
      "Source:[wane.com](https://www.wane.com/top-stories/three-rivers-festival-passes-motion-to-file-for-bankruptcy-canceling-festival-for-2025/)\n",
      "\n",
      "**Pakun Üretim Gıda Sanayi ve Ticaret Anonim Şirketi Files for Bankruptcy**\n",
      "Pakun Üretim Gıda Sanayi ve Ticaret Anonim Şirketi, which was listed on the Borsa İstanbul in October, has filed for bankruptcy just three months later. The Samsun Asliye Ticaret Mahkemesi has appointed a three-member concordato commissioner board to investigate the company's financial situation. The board consists of Independent Auditor and Certified Public Accountant Fuat Kubilay, Certified Public Accountant Deniz Eroğlu, and lawyer Bülent Köksal. Pakun, which is one of the leading companies in the food sector, was ranked 478th in the Fortune 500 list in 2023 and achieved 3.844 billion lira in net sales in 2023. The company's chairman, Niyazi Durgun, stated that they aimed to invest the income they planned to obtain through the public offering, but due to difficulties in accessing cheap financing and the economic conditions in Turkey, they decided to file for bankruptcy. The report prepared by the concordato commissioner board will be crucial for the company's future. In April, the court will evaluate the report and decide whether to grant the company an additional moratorium or declare bankruptcy if the economic obligations are not fulfilled.\n",
      "Original language: tr\n",
      "Publish date: January 27, 2025 06:49 AM\n",
      "Source:[merhabahaber.com](https://www.merhabahaber.com/turkiyede-ilk-500e-giren-sirket-konkordato-ilan-etti-3-ay-sure-verildi-1901521h.htm)\n",
      "\n",
      "**WOM Colombia Saved from Bankruptcy: The Colombian Government's Indirect Role**\n",
      "WOM Colombia, acquired by SUR Holdings, has been saved from bankruptcy. According to the company, they will continue to pay for and deploy their 5G network as per the scheduled plans. The company remains under the reorganization process of Law 1116. The Colombian government, which was one of the creditors, will receive approximately $150 million in 2029, indexed to the constant value, as part of the agreement. As stated by Lizcano, 'If the company had gone bankrupt, we would have all been left without resources. Even the government, which was in fourth place among the creditors. Now, with this new agreement, we are in second place in terms of payments and resources that the government is deferring, because they will receive them in 2029 indexed to the constant value, which could be around $150 million. We could say that the government is indirectly saving the company in this way.'\n",
      "Original language: es\n",
      "Publish date: January 15, 2025 04:55 PM\n",
      "Source:[Semana.com   Últimas Noticias de Colombia y el Mundo](https://www.semana.com/economia/empresas/articulo/asi-se-salvo-wom-colombia-adquirida-por-sur-holdings-cual-fue-la-apuesta-del-gobierno/202553/)\n",
      "\n",
      "\n",
      "\n",
      "```research\n",
      "## 1. Key Historical Trends and Current Status\n",
      "- 3M has remained consistently profitable through 2024 and into Q1 2025, reporting GAAP sales of $6.0 billion and adjusted EPS growth in Q1 2025[1][4].\n",
      "- The company’s annual revenue for 2024 was $24.575 billion, with only a marginal decline from 2023[5]. Revenue for the twelve months ending March 31, 2025, was $24.513 billion, up 8.49% year-over-year, indicating a recovery from previous declines[5].\n",
      "- 3M has continued to pay dividends and repurchase shares, returning $1.1 billion to shareholders in 2024[4].\n",
      "- Despite ongoing litigation and associated legal costs, 3M’s operating and adjusted operating margins remain robust (over 18% in Q4 2024 and over 20% in Q1 2025)[1][4].\n",
      "\n",
      "## 2. Recent Announcements/Policies Affecting the Metric\n",
      "- In Q1 2025, 3M’s management expressed confidence in performance and did not report any liquidity or solvency concerns[1].\n",
      "- The company continues to generate positive free cash flow (adjusted free cash flow of $0.5 billion in Q1 2025 and $1.3 billion in Q4 2024)[1][4].\n",
      "- No SEC filings or public announcements as of May 2025 indicate any intent to file for bankruptcy or severe financial distress[1][2][3].\n",
      "\n",
      "## 3. Authoritative Sources for Verification\n",
      "- 3M’s investor relations website regularly publishes quarterly and annual financial results, as well as SEC filings[2][3].\n",
      "- Macrotrends provides historical and up-to-date revenue figures for 3M[5].\n",
      "\n",
      "## 4. Limitations and Uncertainties\n",
      "- The possibility of bankruptcy hinges on the outcome, scale, and timing of Combat Arms earplug lawsuit liabilities, which may exceed $100 billion according to some expert estimates (as of 2022)[user context].\n",
      "- There is inherent uncertainty in legal proceedings and potential settlement negotiations, which could alter 3M’s risk profile rapidly.\n",
      "- No current factual evidence suggests imminent bankruptcy, but future adverse legal developments could shift this outlook.\n",
      "\n",
      "## Adjusted Probabilistic Assessment\n",
      "Given the company’s ongoing profitability, strong cash flows, and lack of disclosed distress or bankruptcy plans as of May 2025, the probability that 3M will file for bankruptcy before 2026 is assessed as low—substantially below that of reference cases where bankruptcy was imminent or already declared. However, this outlook could change if the legal environment shifts dramatically.\n",
      "\n",
      "---\n",
      "\n",
      "### References\n",
      "1. [3M Reports First-Quarter 2025 Results](https://investors.3m.com/news-events/press-releases/detail/1885/3m-reports-first-quarter-2025-results)\n",
      "2. [Quarterly Earnings :: 3M Company (MMM) - 3M Investor Relations](https://investors.3m.com/financials/quarterly-earnings)\n",
      "3. [Annual Reports & Proxy Statements - 3M Investor Relations](https://investors.3m.com/financials/annual-reports-proxy-statements)\n",
      "4. [3M Reports Fourth-Quarter and Full-Year 2024 Results](https://investors.3m.com/news-events/press-releases/detail/1874/3m-reports-fourth-quarter-and-full-year-2024-results)\n",
      "5. [3M Revenue 2010-2025 | MMM - Macrotrends](https://www.macrotrends.net/stocks/charts/MMM/3m/revenue)\n",
      "```\n",
      "\n",
      "The question defines an event and resolves as YES if the event occurs, otherwise NO. \n",
      "You are forecasting the probability of YES.\n",
      "The event is described by the RESOLUTION CRITERIA.\n",
      "\n",
      "```resolution_criteria\n",
      "This question will resolve as **Yes** if there is an 8-K filing stating that the entity filing with the SEC under the Central Index Key (CIK) number 66740 has filed or intends to file a petition in bankruptcy court under Chapter 11 reorganization or Chapter 7 liquidation before January 1, 2026\n",
      "```\n",
      "\n",
      "The last thing you write is your final answer as: \"Probability: ZZ%\", 0-100\n",
      "\n"
     ]
    }
   ],
   "source": [
    "print(prompt2)"
   ]
  },
  {
   "cell_type": "code",
   "execution_count": 18,
   "id": "ecd4d27f-55e7-42ef-a509-29557925d423",
   "metadata": {},
   "outputs": [
    {
     "name": "stdout",
     "output_type": "stream",
     "text": [
      "START model mistral-small3.2:24b-instruct-2506-q4_K_M\n",
      "model mistral-small3.2:24b-instruct-2506-q4_K_M minutes 3.1879950364430747\n",
      "START model mistral-small3.2:24b-instruct-2506-q4_K_M\n",
      "model mistral-small3.2:24b-instruct-2506-q4_K_M minutes 2.965402058760325\n",
      "START model mistral-small3.2:24b-instruct-2506-q4_K_M\n",
      "model mistral-small3.2:24b-instruct-2506-q4_K_M minutes 2.9106903195381166\n"
     ]
    }
   ],
   "source": [
    "answer_mistral = call_local_llm(prompt2, model)\n",
    "\n",
    "answer_mistral2 = call_local_llm(prompt2, model)\n",
    "\n",
    "answer_mistral3 = call_local_llm(prompt2, model)"
   ]
  },
  {
   "cell_type": "code",
   "execution_count": 19,
   "id": "db24ee66-0737-4355-a6e4-8d78685c147b",
   "metadata": {},
   "outputs": [],
   "source": [
    "from extract_forecast import extract_probability_from_response_as_percentage_not_decimal"
   ]
  },
  {
   "cell_type": "code",
   "execution_count": 20,
   "id": "aa6ae250-740e-4a61-8ea3-22bd126193b8",
   "metadata": {},
   "outputs": [],
   "source": [
    "forecasts = [extract_probability_from_response_as_percentage_not_decimal(x)/100.0\n",
    "             for x in [answer_mistral, answer_mistral2, answer_mistral3]]"
   ]
  },
  {
   "cell_type": "code",
   "execution_count": 21,
   "id": "39a7d073-9f08-4896-bedb-f44032c25e70",
   "metadata": {},
   "outputs": [
    {
     "data": {
      "text/plain": [
       "[0.05, 0.05, 0.05]"
      ]
     },
     "execution_count": 21,
     "metadata": {},
     "output_type": "execute_result"
    }
   ],
   "source": [
    "forecasts"
   ]
  },
  {
   "cell_type": "code",
   "execution_count": 22,
   "id": "159c7b93-7ca6-4089-b15f-f9de732d0f52",
   "metadata": {},
   "outputs": [],
   "source": [
    "import numpy as np"
   ]
  },
  {
   "cell_type": "code",
   "execution_count": 23,
   "id": "fdec48e4-3576-448f-b3b9-1319bef933aa",
   "metadata": {},
   "outputs": [],
   "source": [
    "forecast = float(np.median(forecasts))"
   ]
  },
  {
   "cell_type": "code",
   "execution_count": 24,
   "id": "68503cc0-0fcf-4713-9da2-3f1827b5087a",
   "metadata": {},
   "outputs": [
    {
     "data": {
      "text/plain": [
       "0.05"
      ]
     },
     "execution_count": 24,
     "metadata": {},
     "output_type": "execute_result"
    }
   ],
   "source": [
    "forecast"
   ]
  },
  {
   "cell_type": "code",
   "execution_count": 25,
   "id": "f2c7e373-03e2-484b-91bb-5dee34d5104e",
   "metadata": {},
   "outputs": [],
   "source": [
    "prompt = f\"\"\"\n",
    "Summarize the gist pf the rationale or thinking of the following answers from 3 different forecasters to a single problem. \n",
    "\n",
    "```forecast 1\n",
    "{answer_mistral}\n",
    "```\n",
    "\n",
    "```forecast 2\n",
    "{answer_mistral2}\n",
    "```\n",
    "\n",
    "```forecast 3\n",
    "{answer_mistral3}\n",
    "```\n",
    "\n",
    "DO NOT REFER TO THE 3 FORECASTERS.  PRESENT THIS AS YOUR OWN THINKING, YOUR OWN RATIONALE.  Use as your final the median forecast which is\n",
    "\n",
    "```median forecast\n",
    "{forecast}\n",
    "```\n",
    "\"\"\""
   ]
  },
  {
   "cell_type": "code",
   "execution_count": 26,
   "id": "aa5934ed-07b0-49f4-89e5-d4b151677c2a",
   "metadata": {},
   "outputs": [
    {
     "name": "stdout",
     "output_type": "stream",
     "text": [
      "START model mistral-small3.2:24b-instruct-2506-q4_K_M\n",
      "model mistral-small3.2:24b-instruct-2506-q4_K_M minutes 1.1346849004427593\n"
     ]
    }
   ],
   "source": [
    "rationale = call_local_llm(prompt, model)"
   ]
  },
  {
   "cell_type": "code",
   "execution_count": 27,
   "id": "e730a688-3cf3-400f-b65d-a733eac497d3",
   "metadata": {},
   "outputs": [
    {
     "name": "stdout",
     "output_type": "stream",
     "text": [
      "The rationale for assessing the probability of 3M filing for bankruptcy before January 1, 2026, is based on a comprehensive evaluation of the company's financial health, legal context, and recent disclosures as of May 2025. Key factors supporting this assessment include:\n",
      "\n",
      "1. **Consistent Profitability**: 3M has demonstrated steady profitability, indicating a stable financial position.\n",
      "2. **Strong Cash Flows**: The company generates positive cash flow, which is crucial for meeting financial obligations and managing liabilities.\n",
      "3. **No Imminent Distress Signals**: There are no indications or disclosures suggesting that 3M is experiencing financial distress or planning to file for bankruptcy.\n",
      "4. **Legal Liabilities**: While legal liabilities pose a long-term risk, they do not currently threaten the company's solvency or operations.\n",
      "\n",
      "Given these factors, the probability of 3M filing for bankruptcy before January 1, 2026, is assessed as very low, with a median forecast probability of 5%.\n"
     ]
    }
   ],
   "source": [
    "print(rationale)"
   ]
  },
  {
   "cell_type": "code",
   "execution_count": 28,
   "id": "c755e36f-b4e0-4365-b1c2-8ace6c787711",
   "metadata": {},
   "outputs": [],
   "source": [
    "row.forecast = rationale"
   ]
  },
  {
   "cell_type": "code",
   "execution_count": 29,
   "id": "0845b771-1ca2-4b20-8321-316c7bf4ef39",
   "metadata": {},
   "outputs": [],
   "source": [
    "row.prediction = forecast"
   ]
  },
  {
   "cell_type": "code",
   "execution_count": 30,
   "id": "4afa82f0-c230-4553-b163-f6fd7baf55f8",
   "metadata": {},
   "outputs": [
    {
     "data": {
      "text/plain": [
       "0.01"
      ]
     },
     "execution_count": 30,
     "metadata": {},
     "output_type": "execute_result"
    }
   ],
   "source": [
    "row.crowd"
   ]
  },
  {
   "cell_type": "code",
   "execution_count": 31,
   "id": "babd53b4-f064-48a4-8604-410d55dd9700",
   "metadata": {},
   "outputs": [],
   "source": [
    "from error import error"
   ]
  },
  {
   "cell_type": "code",
   "execution_count": 32,
   "id": "f03e7094-7ea0-4047-be90-44c6fc0cf8ad",
   "metadata": {},
   "outputs": [
    {
     "data": {
      "text/plain": [
       "0.04"
      ]
     },
     "execution_count": 32,
     "metadata": {},
     "output_type": "execute_result"
    }
   ],
   "source": [
    "error(row)"
   ]
  },
  {
   "cell_type": "code",
   "execution_count": null,
   "id": "5047bad9-5ed3-48aa-ab12-154d38e591d4",
   "metadata": {},
   "outputs": [],
   "source": []
  }
 ],
 "metadata": {
  "kernelspec": {
   "display_name": "Python 3 (ipykernel)",
   "language": "python",
   "name": "python3"
  },
  "language_info": {
   "codemirror_mode": {
    "name": "ipython",
    "version": 3
   },
   "file_extension": ".py",
   "mimetype": "text/x-python",
   "name": "python",
   "nbconvert_exporter": "python",
   "pygments_lexer": "ipython3",
   "version": "3.12.3"
  }
 },
 "nbformat": 4,
 "nbformat_minor": 5
}
