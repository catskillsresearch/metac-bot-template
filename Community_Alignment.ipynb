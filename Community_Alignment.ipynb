{
 "cells": [
  {
   "cell_type": "markdown",
   "id": "c1f27471-5886-4bc2-acdf-2dac9cf49676",
   "metadata": {},
   "source": [
    "# Base forecaster against open questions -- test community forecast alignment"
   ]
  },
  {
   "cell_type": "markdown",
   "id": "50d47902-1f71-4794-9bfa-0a9a9756598a",
   "metadata": {
    "jp-MarkdownHeadingCollapsed": true
   },
   "source": [
    "## Imports"
   ]
  },
  {
   "cell_type": "code",
   "execution_count": 25,
   "id": "abeddf75-10f3-43c3-9dd4-f8e030d6d1d9",
   "metadata": {},
   "outputs": [],
   "source": [
    "from forecasting_tools import MetaculusApi, ApiFilter\n",
    "from datetime import datetime, timedelta\n",
    "import asyncio"
   ]
  },
  {
   "cell_type": "code",
   "execution_count": 2,
   "id": "fa491298-7958-46c5-85cd-7cb5891deb3d",
   "metadata": {},
   "outputs": [],
   "source": [
    "from load_secrets import load_secrets\n",
    "load_secrets()"
   ]
  },
  {
   "cell_type": "code",
   "execution_count": 70,
   "id": "2a228aa4-f04f-4e92-9989-d4d1e9cc33b5",
   "metadata": {},
   "outputs": [],
   "source": [
    "%matplotlib inline\n",
    "import matplotlib.pyplot as plt"
   ]
  },
  {
   "cell_type": "markdown",
   "id": "9ed28a2c-287a-4ce0-939a-0bbd57bc2fb9",
   "metadata": {
    "jp-MarkdownHeadingCollapsed": true
   },
   "source": [
    "## Question sample"
   ]
  },
  {
   "cell_type": "code",
   "execution_count": 89,
   "id": "a07a8e6e-8793-4432-bff0-0956ed3d9769",
   "metadata": {},
   "outputs": [],
   "source": [
    "num_of_questions_to_return = 42"
   ]
  },
  {
   "cell_type": "code",
   "execution_count": 90,
   "id": "f06d9eb3-5a94-4f58-bc56-23db58335894",
   "metadata": {},
   "outputs": [],
   "source": [
    "one_year_from_now = datetime.now() + timedelta(days=365)\n",
    "api_filter = ApiFilter(\n",
    "    allowed_statuses=[\"open\"],\n",
    "    num_forecasters_gte=40,\n",
    "    scheduled_resolve_time_lt=one_year_from_now,\n",
    "    includes_bots_in_aggregates=False,\n",
    ")"
   ]
  },
  {
   "cell_type": "code",
   "execution_count": 91,
   "id": "16f50c8b-6aad-41c2-87dc-96fab632b913",
   "metadata": {
    "scrolled": true
   },
   "outputs": [],
   "source": [
    "questions = asyncio.run(MetaculusApi.get_questions_matching_filter(\n",
    "        api_filter,\n",
    "        num_questions=num_of_questions_to_return,\n",
    "        randomly_sample=True))"
   ]
  },
  {
   "cell_type": "code",
   "execution_count": 92,
   "id": "e4902752-fe57-4930-963b-1fcdad289e54",
   "metadata": {},
   "outputs": [],
   "source": [
    "question = questions[0]"
   ]
  },
  {
   "cell_type": "code",
   "execution_count": 97,
   "id": "6452fc3f-d284-4bec-bfe8-6db4c083f28e",
   "metadata": {},
   "outputs": [
    {
     "data": {
      "text/plain": [
       "['binary',\n",
       " 'binary',\n",
       " 'binary',\n",
       " 'binary',\n",
       " 'multiple_choice',\n",
       " 'binary',\n",
       " 'binary',\n",
       " 'binary',\n",
       " 'binary',\n",
       " 'multiple_choice',\n",
       " 'binary',\n",
       " 'binary',\n",
       " 'multiple_choice',\n",
       " 'binary',\n",
       " 'binary',\n",
       " 'binary',\n",
       " 'multiple_choice',\n",
       " 'binary',\n",
       " 'binary',\n",
       " 'multiple_choice',\n",
       " 'multiple_choice',\n",
       " 'multiple_choice',\n",
       " 'binary',\n",
       " 'numeric',\n",
       " 'multiple_choice',\n",
       " 'multiple_choice',\n",
       " 'binary',\n",
       " 'binary',\n",
       " 'binary',\n",
       " 'numeric',\n",
       " 'binary',\n",
       " 'multiple_choice',\n",
       " 'binary',\n",
       " 'binary',\n",
       " 'binary',\n",
       " 'binary',\n",
       " 'binary',\n",
       " 'multiple_choice',\n",
       " 'binary',\n",
       " 'binary',\n",
       " 'multiple_choice',\n",
       " 'binary']"
      ]
     },
     "execution_count": 97,
     "metadata": {},
     "output_type": "execute_result"
    }
   ],
   "source": [
    "[question.api_json['question']['type'] for question in questions]"
   ]
  },
  {
   "cell_type": "markdown",
   "id": "8561c6a0-26e7-42b1-83af-1f93f96c0dca",
   "metadata": {
    "jp-MarkdownHeadingCollapsed": true
   },
   "source": [
    "## Community forecast and bot forecast apples to apples"
   ]
  },
  {
   "cell_type": "markdown",
   "id": "b00ef8f5-aa6b-4e5c-b76a-cc648b69a770",
   "metadata": {},
   "source": [
    "### Numeric"
   ]
  },
  {
   "cell_type": "code",
   "execution_count": 62,
   "id": "cbb4ac5c-1499-4b5a-ad48-de921cec919b",
   "metadata": {},
   "outputs": [],
   "source": [
    "def get_denormalized_forecast(question):\n",
    "    \"\"\"Get denormalized community forecast from a NumericQuestion object\"\"\"\n",
    "    # Correct path to aggregations (nested under \"question\" in api_json)\n",
    "    forecast_values = question.api_json[\"question\"][\"aggregations\"][\"recency_weighted\"][\"latest\"][\"forecast_values\"]\n",
    "    \n",
    "    # Get scaling parameters from the correct location\n",
    "    range_min = question.api_json[\"question\"][\"scaling\"][\"range_min\"]  # 0.0\n",
    "    range_max = question.api_json[\"question\"][\"scaling\"][\"range_max\"]  # 8e12\n",
    "    \n",
    "    # Denormalize each value in the 100-point forecast distribution\n",
    "    return np.array([range_min + x*(range_max - range_min) for x in forecast_values])"
   ]
  },
  {
   "cell_type": "code",
   "execution_count": 63,
   "id": "b70e0216-3bc6-4806-9dff-c509091ad1ec",
   "metadata": {},
   "outputs": [
    {
     "data": {
      "text/plain": [
       "201"
      ]
     },
     "execution_count": 63,
     "metadata": {},
     "output_type": "execute_result"
    }
   ],
   "source": [
    "pct = get_denormalized_forecast(question)\n",
    "len(pct)"
   ]
  },
  {
   "cell_type": "code",
   "execution_count": 75,
   "id": "cbe880ec-df10-4bcd-888f-b5931836f5af",
   "metadata": {},
   "outputs": [
    {
     "data": {
      "text/plain": [
       "201"
      ]
     },
     "execution_count": 75,
     "metadata": {},
     "output_type": "execute_result"
    }
   ],
   "source": [
    "len(np.arange(0,100.5, 0.5))"
   ]
  },
  {
   "cell_type": "code",
   "execution_count": 64,
   "id": "d832fbb0-dee0-4855-982d-878233135aa8",
   "metadata": {},
   "outputs": [],
   "source": [
    "import numpy as np\n",
    "from scipy.interpolate import PchipInterpolator\n",
    "\n",
    "def interpolate_forecast(user_data, range_max=8e12):\n",
    "    \"\"\"Convert sparse percentile data into full 201-point Metaculus-style forecast.\"\"\"\n",
    "    # Add required endpoints based on question scaling\n",
    "    xp = [0] + list(user_data.keys()) + [100]\n",
    "    fp = [0] + list(user_data.values()) + [range_max]\n",
    "    \n",
    "    # Sort by percentile\n",
    "    sort_idx = np.argsort(xp)\n",
    "    xp_sorted = np.array(xp)[sort_idx]\n",
    "    fp_sorted = np.array(fp)[sort_idx]\n",
    "    \n",
    "    # Create monotonic interpolator (preserves curve shape)\n",
    "    interpolator = PchipInterpolator(xp_sorted, fp_sorted)\n",
    "    \n",
    "    # Generate 0-100% in 0.5% increments (201 points)\n",
    "    return interpolator(np.linspace(0, 100, 201))"
   ]
  },
  {
   "cell_type": "code",
   "execution_count": 77,
   "id": "4182de48-f869-49d2-82b3-7f0e67334142",
   "metadata": {},
   "outputs": [],
   "source": [
    "import numpy as np\n",
    "from scipy.interpolate import interp1d\n",
    "\n",
    "def convert_to_metaculus_format(user_data):\n",
    "    \"\"\"Convert user's percentile forecast to Metaculus-style 201-point format using linear interpolation.\"\"\"\n",
    "    # Extract and sort user's data points\n",
    "    xp = sorted(user_data.keys())\n",
    "    fp = [user_data[p] for p in xp]\n",
    "    \n",
    "    # Add extrapolated 0% and 100% using nearest slope\n",
    "    if 0 not in xp:\n",
    "        low_slope = (fp[1] - fp[0]) / (xp[1] - xp[0])\n",
    "        xp = [0] + xp\n",
    "        fp = [fp[0] - low_slope * xp[1]] + fp\n",
    "        \n",
    "    if 100 not in xp:\n",
    "        high_slope = (fp[-1] - fp[-2]) / (xp[-1] - xp[-2])\n",
    "        xp = xp + [100]\n",
    "        fp = fp + [fp[-1] + high_slope * (100 - xp[-2])]\n",
    "    \n",
    "    # Create linear interpolator\n",
    "    interpolator = interp1d(xp, fp, kind='linear', fill_value='extrapolate')\n",
    "    \n",
    "    # Generate 201 points (0.0%, 0.5%, 1.0%, ..., 100.0%)\n",
    "    return interpolator(np.linspace(0, 100, 201))\n",
    "\n",
    "# Example usage with your data:\n",
    "user_data = {\n",
    "    10: 100528394976.04634,\n",
    "    20: 185306470758.46915,\n",
    "    40: 795035177598.96,\n",
    "    60: 3713482050395.8057,\n",
    "    80: 7226613194431.641,\n",
    "    90: 7679945044020.596\n",
    "}\n",
    "\n",
    "pct_interpolated = convert_to_metaculus_format(user_data)\n"
   ]
  },
  {
   "cell_type": "code",
   "execution_count": 80,
   "id": "3de3b581-5275-49b6-a3f0-2029af56a59a",
   "metadata": {},
   "outputs": [
    {
     "data": {
      "text/plain": [
       "[<matplotlib.lines.Line2D at 0x787bc409fd40>]"
      ]
     },
     "execution_count": 80,
     "metadata": {},
     "output_type": "execute_result"
    },
    {
     "data": {
      "image/png": "[encoded data removed]",
      "text/plain": [
       "<Figure size 640x480 with 1 Axes>"
      ]
     },
     "metadata": {},
     "output_type": "display_data"
    }
   ],
   "source": [
    "plt.plot(pct-pct_interpolated)"
   ]
  },
  {
   "cell_type": "code",
   "execution_count": 81,
   "id": "c39a541c-09f0-4a85-9c80-758f25fe1be0",
   "metadata": {},
   "outputs": [
    {
     "data": {
      "text/plain": [
       "<matplotlib.collections.PathCollection at 0x787bc758d9d0>"
      ]
     },
     "execution_count": 81,
     "metadata": {},
     "output_type": "execute_result"
    },
    {
     "data": {
      "image/png": "[encoded data removed]",
      "text/plain": [
       "<Figure size 640x480 with 1 Axes>"
      ]
     },
     "metadata": {},
     "output_type": "display_data"
    }
   ],
   "source": [
    "plt.scatter(pct, pct_interpolated)"
   ]
  },
  {
   "cell_type": "code",
   "execution_count": 55,
   "id": "826f3a16-8850-4b02-9211-a918ee2cf0b7",
   "metadata": {},
   "outputs": [],
   "source": [
    "data = {x: pct[2*x] for x in [10,20,40,60,80,90]}"
   ]
  },
  {
   "cell_type": "code",
   "execution_count": 56,
   "id": "373b6d50-63a8-4923-8673-f850dbcad100",
   "metadata": {},
   "outputs": [
    {
     "data": {
      "text/plain": [
       "{10: 100528394976.04634,\n",
       " 20: 185306470758.46915,\n",
       " 40: 795035177598.96,\n",
       " 60: 3713482050395.8057,\n",
       " 80: 7226613194431.641,\n",
       " 90: 7679945044020.596}"
      ]
     },
     "execution_count": 56,
     "metadata": {},
     "output_type": "execute_result"
    }
   ],
   "source": [
    "data"
   ]
  },
  {
   "cell_type": "markdown",
   "id": "3847d9cc-418c-4c22-bb09-03a3167957f0",
   "metadata": {},
   "source": [
    "### Binary"
   ]
  },
  {
   "cell_type": "markdown",
   "id": "351feb6c-5c4b-4c4c-8ac7-291ee84822a9",
   "metadata": {},
   "source": [
    "### Multiple choice"
   ]
  },
  {
   "cell_type": "markdown",
   "id": "e732f5c5-1c51-4238-9f1f-3ef82abb0cf3",
   "metadata": {},
   "source": [
    "## Forecast the questions"
   ]
  },
  {
   "cell_type": "markdown",
   "id": "2cb76940-921d-4217-bbf4-cf85685f6ebb",
   "metadata": {},
   "source": [
    "## Cast the answers to crowd denormalized format"
   ]
  },
  {
   "cell_type": "markdown",
   "id": "2c30c8de-6521-4e6a-9c41-ccd80f4e3b85",
   "metadata": {},
   "source": [
    "## Assess performance"
   ]
  }
 ],
 "metadata": {
  "kernelspec": {
   "display_name": "Python 3 (ipykernel)",
   "language": "python",
   "name": "python3"
  },
  "language_info": {
   "codemirror_mode": {
    "name": "ipython",
    "version": 3
   },
   "file_extension": ".py",
   "mimetype": "text/x-python",
   "name": "python",
   "nbconvert_exporter": "python",
   "pygments_lexer": "ipython3",
   "version": "3.12.3"
  }
 },
 "nbformat": 4,
 "nbformat_minor": 5
}
