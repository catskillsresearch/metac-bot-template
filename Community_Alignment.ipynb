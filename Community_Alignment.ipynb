{
 "cells": [
  {
   "cell_type": "markdown",
   "id": "c1f27471-5886-4bc2-acdf-2dac9cf49676",
   "metadata": {},
   "source": [
    "# Base forecaster against open questions -- test community forecast alignment"
   ]
  },
  {
   "cell_type": "markdown",
   "id": "50d47902-1f71-4794-9bfa-0a9a9756598a",
   "metadata": {},
   "source": [
    "## Imports"
   ]
  },
  {
   "cell_type": "code",
   "execution_count": null,
   "id": "abeddf75-10f3-43c3-9dd4-f8e030d6d1d9",
   "metadata": {},
   "outputs": [],
   "source": [
    "from forecasting_tools import MetaculusApi, ApiFilter\n",
    "from datetime import datetime, timedelta\n",
    "import asyncio, os\n",
    "import numpy as np\n",
    "from predict import predict"
   ]
  },
  {
   "cell_type": "code",
   "execution_count": null,
   "id": "fa491298-7958-46c5-85cd-7cb5891deb3d",
   "metadata": {},
   "outputs": [],
   "source": [
    "from load_secrets import load_secrets\n",
    "load_secrets()"
   ]
  },
  {
   "cell_type": "code",
   "execution_count": null,
   "id": "2a228aa4-f04f-4e92-9989-d4d1e9cc33b5",
   "metadata": {},
   "outputs": [],
   "source": [
    "%matplotlib inline\n",
    "import matplotlib.pyplot as plt"
   ]
  },
  {
   "cell_type": "code",
   "execution_count": null,
   "id": "6b8d6a9d-8440-4ad2-b247-7a9515160387",
   "metadata": {},
   "outputs": [],
   "source": [
    "from tqdm import tqdm\n",
    "tqdm.pandas()"
   ]
  },
  {
   "cell_type": "markdown",
   "id": "9ed28a2c-287a-4ce0-939a-0bbd57bc2fb9",
   "metadata": {},
   "source": [
    "## Question sample"
   ]
  },
  {
   "cell_type": "code",
   "execution_count": null,
   "id": "a07a8e6e-8793-4432-bff0-0956ed3d9769",
   "metadata": {},
   "outputs": [],
   "source": [
    "num_of_questions_to_return = 42"
   ]
  },
  {
   "cell_type": "code",
   "execution_count": null,
   "id": "f06d9eb3-5a94-4f58-bc56-23db58335894",
   "metadata": {},
   "outputs": [],
   "source": [
    "one_year_from_now = datetime.now() + timedelta(days=365)\n",
    "api_filter = ApiFilter(\n",
    "    allowed_statuses=[\"open\"],\n",
    "    num_forecasters_gte=40,\n",
    "    scheduled_resolve_time_lt=one_year_from_now,\n",
    "    includes_bots_in_aggregates=False,\n",
    ")"
   ]
  },
  {
   "cell_type": "code",
   "execution_count": null,
   "id": "16f50c8b-6aad-41c2-87dc-96fab632b913",
   "metadata": {
    "scrolled": true
   },
   "outputs": [],
   "source": [
    "questions = asyncio.run(MetaculusApi.get_questions_matching_filter(\n",
    "        api_filter,\n",
    "        num_questions=num_of_questions_to_return,\n",
    "        randomly_sample=True))"
   ]
  },
  {
   "cell_type": "code",
   "execution_count": null,
   "id": "7c2cef39-e872-4152-97cb-6b95587f6386",
   "metadata": {},
   "outputs": [],
   "source": [
    "question_binary = [question for question in questions if question.api_json['question']['type'] == 'binary'][0]"
   ]
  },
  {
   "cell_type": "code",
   "execution_count": null,
   "id": "c0f20b4d-1554-4722-a3a9-575dc0793c02",
   "metadata": {},
   "outputs": [],
   "source": [
    "question_multiple_choice = [question for question in questions if question.api_json['question']['type'] == 'multiple_choice'][0]"
   ]
  },
  {
   "cell_type": "code",
   "execution_count": null,
   "id": "d4666832-a6a9-4a39-9a24-d6957eb25ee2",
   "metadata": {},
   "outputs": [],
   "source": [
    "question_numeric = [question for question in questions if question.api_json['question']['type'] == 'numeric'][0]"
   ]
  },
  {
   "cell_type": "markdown",
   "id": "8561c6a0-26e7-42b1-83af-1f93f96c0dca",
   "metadata": {},
   "source": [
    "## Community forecast"
   ]
  },
  {
   "cell_type": "code",
   "execution_count": null,
   "id": "cbb4ac5c-1499-4b5a-ad48-de921cec919b",
   "metadata": {},
   "outputs": [],
   "source": [
    "from community_forecast import *"
   ]
  },
  {
   "cell_type": "markdown",
   "id": "b00ef8f5-aa6b-4e5c-b76a-cc648b69a770",
   "metadata": {},
   "source": [
    "### Numeric"
   ]
  },
  {
   "cell_type": "code",
   "execution_count": null,
   "id": "c39a541c-09f0-4a85-9c80-758f25fe1be0",
   "metadata": {},
   "outputs": [],
   "source": [
    "community_forecast_numeric(question_numeric)"
   ]
  },
  {
   "cell_type": "markdown",
   "id": "3847d9cc-418c-4c22-bb09-03a3167957f0",
   "metadata": {},
   "source": [
    "### Binary"
   ]
  },
  {
   "cell_type": "code",
   "execution_count": null,
   "id": "06a8dfb9-7eb9-4909-a808-59fb417a4b3b",
   "metadata": {},
   "outputs": [],
   "source": [
    "community_forecast_binary(question_binary)"
   ]
  },
  {
   "cell_type": "markdown",
   "id": "351feb6c-5c4b-4c4c-8ac7-291ee84822a9",
   "metadata": {},
   "source": [
    "### Multiple choice"
   ]
  },
  {
   "cell_type": "code",
   "execution_count": null,
   "id": "b3b1bd11-d0f1-4061-8cb2-f12367ff3804",
   "metadata": {},
   "outputs": [],
   "source": [
    "community_forecast_multiple_choice(question_multiple_choice)"
   ]
  },
  {
   "cell_type": "markdown",
   "id": "d7904670-5611-48c0-826e-8fb8b8c92575",
   "metadata": {},
   "source": [
    "## All"
   ]
  },
  {
   "cell_type": "code",
   "execution_count": null,
   "id": "ebe818c7-c2cf-4333-96e7-95f61ebff5c5",
   "metadata": {},
   "outputs": [],
   "source": [
    "id_to_forecast = {question.api_json['id']: community_forecast(question) for question in questions}"
   ]
  },
  {
   "cell_type": "code",
   "execution_count": null,
   "id": "e0d0dadb-7d3a-4dc4-8759-33b263fa5a7c",
   "metadata": {},
   "outputs": [],
   "source": [
    "id_to_forecast"
   ]
  },
  {
   "cell_type": "markdown",
   "id": "e732f5c5-1c51-4238-9f1f-3ef82abb0cf3",
   "metadata": {},
   "source": [
    "## Forecast the questions"
   ]
  },
  {
   "cell_type": "code",
   "execution_count": null,
   "id": "a43f45ba-349c-455a-a18a-3bb8a670e199",
   "metadata": {},
   "outputs": [],
   "source": [
    "from flatten_dict import flatten_dict\n",
    "import pandas as pd\n",
    "from prompt_question import prompt_question\n",
    "pd.set_option('display.max_columns', None)\n",
    "\n",
    "qflat = [flatten_dict(q.api_json, sep='_') for q in questions]\n",
    "\n",
    "df = pd.DataFrame(qflat)\n",
    "\n",
    "df.iloc[26]\n",
    "\n",
    "df['crowd'] = df.apply(lambda row: id_to_forecast[row.id], axis=1)\n",
    "\n",
    "df['question_options'] = df['question_options'].apply(repr)\n",
    "\n",
    "df = df[['id',\n",
    " 'open_time',\n",
    " 'scheduled_resolve_time',\n",
    " 'title',\n",
    " 'question_description',\n",
    " 'question_resolution_criteria',\n",
    " 'question_fine_print',\n",
    " 'question_type',\n",
    " 'question_options',\n",
    " 'question_group_variable',\n",
    " 'question_question_weight',\n",
    " 'question_unit',\n",
    " 'question_open_upper_bound',\n",
    " 'question_open_lower_bound',\n",
    " 'question_scaling_range_max',\n",
    " 'question_scaling_range_min',\n",
    " 'crowd']]\n",
    "\n",
    "dfn = 'forecast_community'\n",
    "os.makedirs(dfn, exist_ok=True)\n",
    "\n",
    "df['today'] = datetime.now().strftime(\"%Y-%m-%d\")\n",
    "\n",
    "from ResearchProModule import ResearchProModule\n",
    "\n",
    "bot = ResearchProModule()\n",
    "bot.process_dataframe(df)\n",
    "\n",
    "from load_research import load_research\n",
    "\n",
    "df['research'] = df.apply(load_research, axis=1)\n",
    "\n",
    "df['prompt'] = df.apply(prompt_question, axis=1)\n",
    "\n",
    "df[df.question_type == 'multiple_choice']\n",
    "\n",
    "df['forecast'] = df.progress_apply(lambda question: predict(dfn, question), axis=1)\n",
    "\n",
    "from extract_forecast import extract_forecast\n",
    "\n",
    "df['prediction'] = df.apply(extract_forecast, axis=1)"
   ]
  },
  {
   "cell_type": "markdown",
   "id": "2cb76940-921d-4217-bbf4-cf85685f6ebb",
   "metadata": {},
   "source": [
    "## Compare crowd and forecast"
   ]
  },
  {
   "cell_type": "code",
   "execution_count": null,
   "id": "f6023c1d-01c8-42e9-8f3b-e8891020310c",
   "metadata": {},
   "outputs": [],
   "source": [
    "from error import error"
   ]
  },
  {
   "cell_type": "markdown",
   "id": "2c30c8de-6521-4e6a-9c41-ccd80f4e3b85",
   "metadata": {},
   "source": [
    "## Assess performance"
   ]
  },
  {
   "cell_type": "code",
   "execution_count": null,
   "id": "d8f85791-1d57-4761-a0b7-35b6150245a2",
   "metadata": {},
   "outputs": [],
   "source": [
    "df = df[~df.crowd.apply(lambda x: x is None)].copy()"
   ]
  },
  {
   "cell_type": "code",
   "execution_count": null,
   "id": "efa667fa-51c1-428b-a996-84d877e7cbe3",
   "metadata": {},
   "outputs": [],
   "source": [
    "df['error'] = df.apply(error, axis=1)"
   ]
  },
  {
   "cell_type": "code",
   "execution_count": null,
   "id": "fef0fd47-ccd3-4ae2-9b9f-e1e4496f7fd0",
   "metadata": {},
   "outputs": [],
   "source": [
    "df"
   ]
  },
  {
   "cell_type": "code",
   "execution_count": null,
   "id": "0e906a98-c5c7-43d3-9c8d-4e5679f60e04",
   "metadata": {},
   "outputs": [],
   "source": [
    "plt.hist(df.error.values);"
   ]
  },
  {
   "cell_type": "code",
   "execution_count": null,
   "id": "d8a88391-d7da-4910-9aff-5affb00c029a",
   "metadata": {},
   "outputs": [],
   "source": [
    "df.to_json('community_results.json', indent=4)"
   ]
  },
  {
   "cell_type": "code",
   "execution_count": null,
   "id": "7949c9be-9c48-47d4-8603-13afac0a3ae4",
   "metadata": {},
   "outputs": [],
   "source": [
    "df1 = df[['title', 'question_type', 'prediction', 'crowd', 'error']]"
   ]
  },
  {
   "cell_type": "code",
   "execution_count": null,
   "id": "704c1402-3a3f-49d1-9b27-aaf5cb7eb2d9",
   "metadata": {},
   "outputs": [],
   "source": [
    "df1"
   ]
  },
  {
   "cell_type": "code",
   "execution_count": null,
   "id": "813eaaed-b053-4370-a914-9b09f58aefdf",
   "metadata": {},
   "outputs": [],
   "source": [
    "df1.to_csv('community.csv')"
   ]
  },
  {
   "cell_type": "markdown",
   "id": "d9b7314d-34a8-48a0-a8ca-6c144d4f2d3d",
   "metadata": {},
   "source": [
    "https://www.perplexity.ai/search/here-are-some-questions-a-ques-fgZ1.vMOS1Sa.rOC1G3b7w"
   ]
  },
  {
   "cell_type": "code",
   "execution_count": null,
   "id": "9a62eabd-8be8-446b-9d05-328b67b03743",
   "metadata": {},
   "outputs": [],
   "source": []
  }
 ],
 "metadata": {
  "kernelspec": {
   "display_name": "Python 3 (ipykernel)",
   "language": "python",
   "name": "python3"
  },
  "language_info": {
   "codemirror_mode": {
    "name": "ipython",
    "version": 3
   },
   "file_extension": ".py",
   "mimetype": "text/x-python",
   "name": "python",
   "nbconvert_exporter": "python",
   "pygments_lexer": "ipython3",
   "version": "3.12.3"
  }
 },
 "nbformat": 4,
 "nbformat_minor": 5
}
