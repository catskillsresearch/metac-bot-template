{
 "cells": [
  {
   "cell_type": "markdown",
   "id": "c1f27471-5886-4bc2-acdf-2dac9cf49676",
   "metadata": {},
   "source": [
    "# Base forecaster against open questions -- test community forecast alignment"
   ]
  },
  {
   "cell_type": "markdown",
   "id": "50d47902-1f71-4794-9bfa-0a9a9756598a",
   "metadata": {},
   "source": [
    "## Imports"
   ]
  },
  {
   "cell_type": "code",
   "execution_count": 1,
   "id": "abeddf75-10f3-43c3-9dd4-f8e030d6d1d9",
   "metadata": {},
   "outputs": [],
   "source": [
    "from forecasting_tools import MetaculusApi, ApiFilter\n",
    "from datetime import datetime, timedelta\n",
    "import asyncio, os\n",
    "import numpy as np\n",
    "from predict import predict"
   ]
  },
  {
   "cell_type": "code",
   "execution_count": 2,
   "id": "fa491298-7958-46c5-85cd-7cb5891deb3d",
   "metadata": {},
   "outputs": [],
   "source": [
    "from load_secrets import load_secrets\n",
    "load_secrets()"
   ]
  },
  {
   "cell_type": "code",
   "execution_count": 3,
   "id": "2a228aa4-f04f-4e92-9989-d4d1e9cc33b5",
   "metadata": {},
   "outputs": [],
   "source": [
    "%matplotlib inline\n",
    "import matplotlib.pyplot as plt"
   ]
  },
  {
   "cell_type": "code",
   "execution_count": 4,
   "id": "6b8d6a9d-8440-4ad2-b247-7a9515160387",
   "metadata": {},
   "outputs": [],
   "source": [
    "from tqdm import tqdm\n",
    "tqdm.pandas()"
   ]
  },
  {
   "cell_type": "code",
   "execution_count": 8,
   "id": "a07a8e6e-8793-4432-bff0-0956ed3d9769",
   "metadata": {},
   "outputs": [],
   "source": [
    "num_of_questions_to_return = 4 # 42"
   ]
  },
  {
   "cell_type": "code",
   "execution_count": 9,
   "id": "f06d9eb3-5a94-4f58-bc56-23db58335894",
   "metadata": {},
   "outputs": [],
   "source": [
    "one_year_from_now = datetime.now() + timedelta(days=365)\n",
    "api_filter = ApiFilter(\n",
    "    allowed_statuses=[\"open\"],\n",
    "    num_forecasters_gte=40,\n",
    "    scheduled_resolve_time_lt=one_year_from_now,\n",
    "    includes_bots_in_aggregates=False,\n",
    ")"
   ]
  },
  {
   "cell_type": "code",
   "execution_count": 10,
   "id": "16f50c8b-6aad-41c2-87dc-96fab632b913",
   "metadata": {
    "scrolled": true
   },
   "outputs": [],
   "source": [
    "questions = asyncio.run(MetaculusApi.get_questions_matching_filter(\n",
    "        api_filter,\n",
    "        num_questions=num_of_questions_to_return,\n",
    "        randomly_sample=True))"
   ]
  },
  {
   "cell_type": "code",
   "execution_count": 12,
   "id": "12b7828f-3186-4373-9edf-970f6dd10e60",
   "metadata": {},
   "outputs": [
    {
     "data": {
      "text/plain": [
       "[forecasting_tools.data_models.questions.BinaryQuestion,\n",
       " forecasting_tools.data_models.questions.BinaryQuestion,\n",
       " forecasting_tools.data_models.questions.BinaryQuestion,\n",
       " forecasting_tools.data_models.questions.BinaryQuestion]"
      ]
     },
     "execution_count": 12,
     "metadata": {},
     "output_type": "execute_result"
    }
   ],
   "source": [
    "[type(x) for x in questions]"
   ]
  },
  {
   "cell_type": "code",
   "execution_count": 13,
   "id": "cbb4ac5c-1499-4b5a-ad48-de921cec919b",
   "metadata": {},
   "outputs": [],
   "source": [
    "from community_forecast import *"
   ]
  },
  {
   "cell_type": "code",
   "execution_count": 14,
   "id": "ebe818c7-c2cf-4333-96e7-95f61ebff5c5",
   "metadata": {},
   "outputs": [],
   "source": [
    "id_to_forecast = {question.api_json['id']: community_forecast(question) for question in questions}"
   ]
  },
  {
   "cell_type": "code",
   "execution_count": 15,
   "id": "e0d0dadb-7d3a-4dc4-8759-33b263fa5a7c",
   "metadata": {},
   "outputs": [
    {
     "data": {
      "text/plain": [
       "{35563: 0.11, 35577: 0.82, 35578: 0.9, 35572: 0.75}"
      ]
     },
     "execution_count": 15,
     "metadata": {},
     "output_type": "execute_result"
    }
   ],
   "source": [
    "id_to_forecast"
   ]
  },
  {
   "cell_type": "markdown",
   "id": "e732f5c5-1c51-4238-9f1f-3ef82abb0cf3",
   "metadata": {},
   "source": [
    "## Forecast the questions"
   ]
  },
  {
   "cell_type": "code",
   "execution_count": null,
   "id": "5add486c-3908-4f3e-a780-7311dfc40cfc",
   "metadata": {},
   "outputs": [],
   "source": [
    "from flatten_dict import flatten_dict\n",
    "import pandas as pd\n",
    "from prompt_question import prompt_question\n",
    "pd.set_option('display.max_columns', None)"
   ]
  },
  {
   "cell_type": "code",
   "execution_count": null,
   "id": "54bd8a08-9e98-42c4-9662-afa0398739c3",
   "metadata": {},
   "outputs": [],
   "source": [
    "qflat = [flatten_dict(q.api_json, sep='_') for q in questions]"
   ]
  },
  {
   "cell_type": "code",
   "execution_count": null,
   "id": "f4cae558-7d45-45df-a36a-e6ea5bf03904",
   "metadata": {},
   "outputs": [],
   "source": [
    "df = pd.DataFrame(qflat)"
   ]
  },
  {
   "cell_type": "code",
   "execution_count": null,
   "id": "30632180-9c06-473b-92f1-23fffc4a4a4f",
   "metadata": {},
   "outputs": [],
   "source": [
    "df['crowd'] = df.apply(lambda row: id_to_forecast[row.id], axis=1)"
   ]
  },
  {
   "cell_type": "code",
   "execution_count": null,
   "id": "b848e812-4658-41b3-b942-301e3a6d3b1b",
   "metadata": {},
   "outputs": [],
   "source": [
    "df['question_options'] = df['question_options'].apply(repr)"
   ]
  },
  {
   "cell_type": "code",
   "execution_count": null,
   "id": "e6d20cf8-1057-4dd2-9041-fe31ba9a35a0",
   "metadata": {},
   "outputs": [],
   "source": [
    "df = df[['id',\n",
    " 'open_time',\n",
    " 'scheduled_resolve_time',\n",
    " 'title',\n",
    " 'question_description',\n",
    " 'question_resolution_criteria',\n",
    " 'question_fine_print',\n",
    " 'question_type',\n",
    " 'question_options',\n",
    " 'question_group_variable',\n",
    " 'question_question_weight',\n",
    " 'question_unit',\n",
    " 'question_open_upper_bound',\n",
    " 'question_open_lower_bound',\n",
    " 'question_scaling_range_max',\n",
    " 'question_scaling_range_min',\n",
    " 'crowd']]"
   ]
  },
  {
   "cell_type": "code",
   "execution_count": null,
   "id": "3aa304e6-30d8-4bfa-b9ed-096d5e0dd466",
   "metadata": {},
   "outputs": [],
   "source": [
    "dfn = 'forecast_community'\n",
    "os.makedirs(dfn, exist_ok=True)"
   ]
  },
  {
   "cell_type": "code",
   "execution_count": null,
   "id": "9f21b87a-11b8-4cda-9e25-1e44d6d141e3",
   "metadata": {},
   "outputs": [],
   "source": [
    "df['today'] = datetime.now().strftime(\"%Y-%m-%d\")"
   ]
  },
  {
   "cell_type": "code",
   "execution_count": null,
   "id": "8532ef7d-2a58-46aa-ac03-3f9861be8828",
   "metadata": {},
   "outputs": [],
   "source": [
    "from ResearchProModule import ResearchProModule"
   ]
  },
  {
   "cell_type": "code",
   "execution_count": null,
   "id": "8f0a9d85-94c2-423f-8eff-298b66695aec",
   "metadata": {},
   "outputs": [],
   "source": [
    "bot = ResearchProModule()\n",
    "bot.process_dataframe(df)"
   ]
  },
  {
   "cell_type": "code",
   "execution_count": null,
   "id": "dc6525e0-1e61-469f-830f-22c2ca11f2ee",
   "metadata": {},
   "outputs": [],
   "source": [
    "from load_research import load_research"
   ]
  },
  {
   "cell_type": "code",
   "execution_count": null,
   "id": "dd8e2aea-d91d-4d4b-b937-3de3a8d258a7",
   "metadata": {},
   "outputs": [],
   "source": [
    "df['research'] = df.apply(load_research, axis=1)"
   ]
  },
  {
   "cell_type": "code",
   "execution_count": null,
   "id": "1777dded-1663-498a-a730-501a52721207",
   "metadata": {},
   "outputs": [],
   "source": [
    "df['prompt'] = df.apply(prompt_question, axis=1)"
   ]
  },
  {
   "cell_type": "code",
   "execution_count": null,
   "id": "874fbff1-ada6-48bd-98b2-749d08cfa9cd",
   "metadata": {},
   "outputs": [],
   "source": [
    "df[df.question_type == 'multiple_choice']"
   ]
  },
  {
   "cell_type": "code",
   "execution_count": null,
   "id": "9703fd66-127b-4d1a-8b80-62529aed149b",
   "metadata": {},
   "outputs": [],
   "source": [
    "df['forecast'] = df.progress_apply(lambda question: predict(dfn, question), axis=1)"
   ]
  },
  {
   "cell_type": "code",
   "execution_count": null,
   "id": "adf7e596-a5f4-4514-b0d2-32cccb2d72f9",
   "metadata": {},
   "outputs": [],
   "source": [
    "from extract_forecast import extract_forecast"
   ]
  },
  {
   "cell_type": "code",
   "execution_count": null,
   "id": "33953786-2e2d-41b9-8eeb-529bcc7a0b5f",
   "metadata": {},
   "outputs": [],
   "source": [
    "df['prediction'] = df.apply(extract_forecast, axis=1)"
   ]
  },
  {
   "cell_type": "markdown",
   "id": "2cb76940-921d-4217-bbf4-cf85685f6ebb",
   "metadata": {},
   "source": [
    "## Compare crowd and forecast"
   ]
  },
  {
   "cell_type": "code",
   "execution_count": null,
   "id": "f6023c1d-01c8-42e9-8f3b-e8891020310c",
   "metadata": {},
   "outputs": [],
   "source": [
    "from error import error"
   ]
  },
  {
   "cell_type": "markdown",
   "id": "2c30c8de-6521-4e6a-9c41-ccd80f4e3b85",
   "metadata": {},
   "source": [
    "## Assess performance"
   ]
  },
  {
   "cell_type": "code",
   "execution_count": null,
   "id": "d8f85791-1d57-4761-a0b7-35b6150245a2",
   "metadata": {},
   "outputs": [],
   "source": [
    "df = df[~df.crowd.apply(lambda x: x is None)].copy()"
   ]
  },
  {
   "cell_type": "code",
   "execution_count": null,
   "id": "efa667fa-51c1-428b-a996-84d877e7cbe3",
   "metadata": {},
   "outputs": [],
   "source": [
    "df['error'] = df.apply(error, axis=1)"
   ]
  },
  {
   "cell_type": "code",
   "execution_count": null,
   "id": "fef0fd47-ccd3-4ae2-9b9f-e1e4496f7fd0",
   "metadata": {},
   "outputs": [],
   "source": [
    "df"
   ]
  },
  {
   "cell_type": "code",
   "execution_count": null,
   "id": "0e906a98-c5c7-43d3-9c8d-4e5679f60e04",
   "metadata": {},
   "outputs": [],
   "source": [
    "plt.hist(df.error.values);"
   ]
  },
  {
   "cell_type": "code",
   "execution_count": null,
   "id": "d8a88391-d7da-4910-9aff-5affb00c029a",
   "metadata": {},
   "outputs": [],
   "source": [
    "df.to_json('community_results.json', indent=4)"
   ]
  },
  {
   "cell_type": "code",
   "execution_count": null,
   "id": "7949c9be-9c48-47d4-8603-13afac0a3ae4",
   "metadata": {},
   "outputs": [],
   "source": [
    "df1 = df[['title', 'question_type', 'prediction', 'crowd', 'error']]"
   ]
  },
  {
   "cell_type": "code",
   "execution_count": null,
   "id": "704c1402-3a3f-49d1-9b27-aaf5cb7eb2d9",
   "metadata": {},
   "outputs": [],
   "source": [
    "df1"
   ]
  },
  {
   "cell_type": "code",
   "execution_count": null,
   "id": "813eaaed-b053-4370-a914-9b09f58aefdf",
   "metadata": {},
   "outputs": [],
   "source": [
    "df1.to_csv('community.csv')"
   ]
  },
  {
   "cell_type": "markdown",
   "id": "d9b7314d-34a8-48a0-a8ca-6c144d4f2d3d",
   "metadata": {},
   "source": [
    "https://www.perplexity.ai/search/here-are-some-questions-a-ques-fgZ1.vMOS1Sa.rOC1G3b7w"
   ]
  },
  {
   "cell_type": "code",
   "execution_count": null,
   "id": "9a62eabd-8be8-446b-9d05-328b67b03743",
   "metadata": {},
   "outputs": [],
   "source": []
  }
 ],
 "metadata": {
  "kernelspec": {
   "display_name": "Python 3 (ipykernel)",
   "language": "python",
   "name": "python3"
  },
  "language_info": {
   "codemirror_mode": {
    "name": "ipython",
    "version": 3
   },
   "file_extension": ".py",
   "mimetype": "text/x-python",
   "name": "python",
   "nbconvert_exporter": "python",
   "pygments_lexer": "ipython3",
   "version": "3.12.3"
  }
 },
 "nbformat": 4,
 "nbformat_minor": 5
}
